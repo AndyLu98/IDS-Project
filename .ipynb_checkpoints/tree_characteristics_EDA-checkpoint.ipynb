{
 "cells": [
  {
   "cell_type": "markdown",
   "metadata": {
    "id": "UlinjhJHyOB9"
   },
   "source": [
    "**<h1>EDA on variance of tree characteristics across the neighborhoods of Pittsburgh</h1>**"
   ]
  },
  {
   "cell_type": "code",
   "execution_count": 3,
   "metadata": {
    "id": "droe5Rtqk2UB"
   },
   "outputs": [],
   "source": [
    "#!pip install -U plotly\n",
    "#!pip install -U kaleido\n",
    "#!pip install ipywidgets"
   ]
  },
  {
   "cell_type": "code",
   "execution_count": 4,
   "metadata": {
    "id": "_VUa45B1lzuJ"
   },
   "outputs": [],
   "source": [
    "import numpy as np\n",
    "import pandas as pd\n",
    "import matplotlib.pyplot as plt\n",
    "import seaborn as sns\n",
    "import json, ast\n",
    "from google.colab import files\n",
    "import ipywidgets as widgets\n",
    "from IPython.display import display\n",
    "from IPython.display import Image"
   ]
  },
  {
   "cell_type": "code",
   "execution_count": 5,
   "metadata": {
    "colab": {
     "base_uri": "https://localhost:8080/"
    },
    "id": "bN24ld7bj2Ze",
    "outputId": "c5ddc1b1-97dc-4b3a-d150-d7b5bb3e2c14"
   },
   "outputs": [
    {
     "name": "stdout",
     "output_type": "stream",
     "text": [
      "5.4.0\n"
     ]
    }
   ],
   "source": [
    "import plotly\n",
    "import plotly.express as px\n",
    "print(plotly.__version__)"
   ]
  },
  {
   "cell_type": "code",
   "execution_count": 6,
   "metadata": {
    "colab": {
     "base_uri": "https://localhost:8080/"
    },
    "id": "P40IbZN1l8bo",
    "outputId": "13cba243-5d6c-4e88-8a3c-66cbaef35642"
   },
   "outputs": [
    {
     "name": "stderr",
     "output_type": "stream",
     "text": [
      "/usr/local/lib/python3.7/dist-packages/IPython/core/interactiveshell.py:2718: DtypeWarning: Columns (1) have mixed types.Specify dtype option on import or set low_memory=False.\n",
      "  interactivity=interactivity, compiler=compiler, result=result)\n"
     ]
    }
   ],
   "source": [
    "df_trees = pd.read_csv(\"/cleaned_tree_data_5.csv\", encoding=\"ISO-8859-1\")"
   ]
  },
  {
   "cell_type": "markdown",
   "metadata": {
    "id": "MafvKsu9EPV0"
   },
   "source": [
    "**<h3>Average tree height by species </h3>**"
   ]
  },
  {
   "cell_type": "code",
   "execution_count": 58,
   "metadata": {
    "colab": {
     "base_uri": "https://localhost:8080/",
     "height": 359
    },
    "id": "0thZWo1tEbvO",
    "outputId": "da9dc05f-f0da-403d-c982-6d55be7b4b9d"
   },
   "outputs": [
    {
     "data": {
      "text/html": [
       "<div>\n",
       "<style scoped>\n",
       "    .dataframe tbody tr th:only-of-type {\n",
       "        vertical-align: middle;\n",
       "    }\n",
       "\n",
       "    .dataframe tbody tr th {\n",
       "        vertical-align: top;\n",
       "    }\n",
       "\n",
       "    .dataframe thead th {\n",
       "        text-align: right;\n",
       "    }\n",
       "</style>\n",
       "<table border=\"1\" class=\"dataframe\">\n",
       "  <thead>\n",
       "    <tr style=\"text-align: right;\">\n",
       "      <th></th>\n",
       "      <th>common_name</th>\n",
       "      <th>average_height</th>\n",
       "    </tr>\n",
       "  </thead>\n",
       "  <tbody>\n",
       "    <tr>\n",
       "      <th>40</th>\n",
       "      <td>Cottonwood: Eastern</td>\n",
       "      <td>52.800000</td>\n",
       "    </tr>\n",
       "    <tr>\n",
       "      <th>25</th>\n",
       "      <td>Butternut</td>\n",
       "      <td>45.833333</td>\n",
       "    </tr>\n",
       "    <tr>\n",
       "      <th>103</th>\n",
       "      <td>London planetree</td>\n",
       "      <td>43.155996</td>\n",
       "    </tr>\n",
       "    <tr>\n",
       "      <th>142</th>\n",
       "      <td>Oak: Pin</td>\n",
       "      <td>42.351203</td>\n",
       "    </tr>\n",
       "    <tr>\n",
       "      <th>81</th>\n",
       "      <td>Hickory: Bitternut</td>\n",
       "      <td>41.632653</td>\n",
       "    </tr>\n",
       "    <tr>\n",
       "      <th>178</th>\n",
       "      <td>Poplar: White</td>\n",
       "      <td>40.000000</td>\n",
       "    </tr>\n",
       "    <tr>\n",
       "      <th>222</th>\n",
       "      <td>Willow: Black</td>\n",
       "      <td>39.600000</td>\n",
       "    </tr>\n",
       "    <tr>\n",
       "      <th>122</th>\n",
       "      <td>Maple: Silver</td>\n",
       "      <td>38.936686</td>\n",
       "    </tr>\n",
       "    <tr>\n",
       "      <th>102</th>\n",
       "      <td>Locust: Black</td>\n",
       "      <td>38.511367</td>\n",
       "    </tr>\n",
       "    <tr>\n",
       "      <th>208</th>\n",
       "      <td>Sycamore: American</td>\n",
       "      <td>37.615631</td>\n",
       "    </tr>\n",
       "  </tbody>\n",
       "</table>\n",
       "</div>"
      ],
      "text/plain": [
       "             common_name  average_height\n",
       "40   Cottonwood: Eastern       52.800000\n",
       "25             Butternut       45.833333\n",
       "103     London planetree       43.155996\n",
       "142             Oak: Pin       42.351203\n",
       "81    Hickory: Bitternut       41.632653\n",
       "178        Poplar: White       40.000000\n",
       "222        Willow: Black       39.600000\n",
       "122        Maple: Silver       38.936686\n",
       "102        Locust: Black       38.511367\n",
       "208   Sycamore: American       37.615631"
      ]
     },
     "execution_count": 58,
     "metadata": {},
     "output_type": "execute_result"
    }
   ],
   "source": [
    "#Average height of tree species in increasing order\n",
    "df_height_spec = df_trees.groupby(\"common_name\")[\"height\"].mean()\n",
    "df_height_spec = df_height_spec.to_frame().reset_index()\n",
    "df_height_spec.columns = ['common_name', 'average_height']\n",
    "df_height_spec = df_height_spec.sort_values(by=['average_height'], ascending = False)\n",
    "#Top 10 tallest trees species (average height) across pittsburgh\n",
    "df_height_spec.head(10)"
   ]
  },
  {
   "cell_type": "code",
   "execution_count": 60,
   "metadata": {
    "colab": {
     "base_uri": "https://localhost:8080/",
     "height": 389
    },
    "id": "p1Pu7xciFb50",
    "outputId": "56a6cb89-5f04-431e-9edb-ab2fbfae78fc"
   },
   "outputs": [
    {
     "data": {
      "image/png": "[encoded data removed]",
      "text/plain": [
       "<Figure size 432x288 with 1 Axes>"
      ]
     },
     "metadata": {
      "needs_background": "light"
     },
     "output_type": "display_data"
    }
   ],
   "source": [
    "df_tallest_10 = df_height_spec.head(10)\n",
    "ax = df_tallest_10.plot.bar(x='common_name', y='average_height', rot='vertical', ylabel = 'Number of trees', title= \"10 tallest tree species in Pittsburgh (avergae height)\")"
   ]
  },
  {
   "cell_type": "markdown",
   "metadata": {
    "id": "zKcqSnU-mIda"
   },
   "source": [
    "**<h3>Average Tree Height across Neighborhoods</h3>**"
   ]
  },
  {
   "cell_type": "markdown",
   "metadata": {
    "id": "9TVWCaswcwi3"
   },
   "source": [
    "Top 10 neighborhoods with the highest average tree height"
   ]
  },
  {
   "cell_type": "code",
   "execution_count": 9,
   "metadata": {
    "colab": {
     "base_uri": "https://localhost:8080/",
     "height": 359
    },
    "id": "htYeZ93Sm-R9",
    "outputId": "3841e086-e66a-4644-c68e-52d5772a78ab"
   },
   "outputs": [
    {
     "data": {
      "text/html": [
       "<div>\n",
       "<style scoped>\n",
       "    .dataframe tbody tr th:only-of-type {\n",
       "        vertical-align: middle;\n",
       "    }\n",
       "\n",
       "    .dataframe tbody tr th {\n",
       "        vertical-align: top;\n",
       "    }\n",
       "\n",
       "    .dataframe thead th {\n",
       "        text-align: right;\n",
       "    }\n",
       "</style>\n",
       "<table border=\"1\" class=\"dataframe\">\n",
       "  <thead>\n",
       "    <tr style=\"text-align: right;\">\n",
       "      <th></th>\n",
       "      <th>neighborhood</th>\n",
       "      <th>average_height</th>\n",
       "    </tr>\n",
       "  </thead>\n",
       "  <tbody>\n",
       "    <tr>\n",
       "      <th>37</th>\n",
       "      <td>Hays</td>\n",
       "      <td>45.000000</td>\n",
       "    </tr>\n",
       "    <tr>\n",
       "      <th>31</th>\n",
       "      <td>Fairywood</td>\n",
       "      <td>42.964286</td>\n",
       "    </tr>\n",
       "    <tr>\n",
       "      <th>4</th>\n",
       "      <td>Arlington Heights</td>\n",
       "      <td>42.748561</td>\n",
       "    </tr>\n",
       "    <tr>\n",
       "      <th>77</th>\n",
       "      <td>St. Clair</td>\n",
       "      <td>38.500000</td>\n",
       "    </tr>\n",
       "    <tr>\n",
       "      <th>20</th>\n",
       "      <td>Chartiers City</td>\n",
       "      <td>36.318221</td>\n",
       "    </tr>\n",
       "    <tr>\n",
       "      <th>57</th>\n",
       "      <td>Northview Heights</td>\n",
       "      <td>35.333333</td>\n",
       "    </tr>\n",
       "    <tr>\n",
       "      <th>32</th>\n",
       "      <td>Fineview</td>\n",
       "      <td>34.524743</td>\n",
       "    </tr>\n",
       "    <tr>\n",
       "      <th>75</th>\n",
       "      <td>Squirrel Hill North</td>\n",
       "      <td>33.534065</td>\n",
       "    </tr>\n",
       "    <tr>\n",
       "      <th>46</th>\n",
       "      <td>Lincoln-Lemington-Belmar</td>\n",
       "      <td>33.336483</td>\n",
       "    </tr>\n",
       "    <tr>\n",
       "      <th>27</th>\n",
       "      <td>East Hills</td>\n",
       "      <td>33.173275</td>\n",
       "    </tr>\n",
       "  </tbody>\n",
       "</table>\n",
       "</div>"
      ],
      "text/plain": [
       "                neighborhood  average_height\n",
       "37                      Hays       45.000000\n",
       "31                 Fairywood       42.964286\n",
       "4          Arlington Heights       42.748561\n",
       "77                 St. Clair       38.500000\n",
       "20            Chartiers City       36.318221\n",
       "57         Northview Heights       35.333333\n",
       "32                  Fineview       34.524743\n",
       "75       Squirrel Hill North       33.534065\n",
       "46  Lincoln-Lemington-Belmar       33.336483\n",
       "27                East Hills       33.173275"
      ]
     },
     "execution_count": 9,
     "metadata": {},
     "output_type": "execute_result"
    }
   ],
   "source": [
    "df_height = df_trees.groupby(\"neighborhood\")[\"height\"].mean()\n",
    "df_height = df_height.to_frame().reset_index()\n",
    "df_height.columns = ['neighborhood', 'average_height']\n",
    "df_height1 = df_height.sort_values(by=['average_height'], ascending = False)\n",
    "df_height1.head(10)"
   ]
  },
  {
   "cell_type": "markdown",
   "metadata": {
    "id": "siVclvxvc69_"
   },
   "source": [
    "<h4>Choropleth map for average tree height across the neighborhoods of Pittsburgh</h4>"
   ]
  },
  {
   "cell_type": "code",
   "execution_count": 10,
   "metadata": {
    "colab": {
     "base_uri": "https://localhost:8080/",
     "height": 717
    },
    "id": "tYki_ZG_jKTu",
    "outputId": "133dff51-7ea2-4e14-87c1-fb37f9d066da"
   },
   "outputs": [
    {
     "data": {
      "text/html": [
       "<html>\n",
       "<head><meta charset=\"utf-8\" /></head>\n",
       "<body>\n",
       "    <div>            <script src=\"https://cdnjs.cloudflare.com/ajax/libs/mathjax/2.7.5/MathJax.js?config=TeX-AMS-MML_SVG\"></script><script type=\"text/javascript\">if (window.MathJax) {MathJax.Hub.Config({SVG: {font: \"STIX-Web\"}});}</script>                <script type=\"text/javascript\">window.PlotlyConfig = {MathJaxConfig: 'local'};</script>\n",
       "        <script src=\"https://cdn.plot.ly/plotly-2.6.3.min.js\"></script>                <div id=\"f682080a-afd5-4c3a-8b97-417b0ae9b2ac\" class=\"plotly-graph-div\" style=\"height:700px; width:100%;\"></div>            <script type=\"text/javascript\">                                    window.PLOTLYENV=window.PLOTLYENV || {};                                    if (document.getElementById(\"f682080a-afd5-4c3a-8b97-417b0ae9b2ac\")) {                    Plotly.newPlot(                        \"f682080a-afd5-4c3a-8b97-417b0ae9b2ac\",                        [{\"coloraxis\":\"coloraxis\",\"featureidkey\":\"properties.name\",\"geo\":\"geo\",\"geojson\":\"https://raw.githubusercontent.com/blackmad/neighborhoods/master/gn-pittsburgh.geojson\",\"hovertemplate\":\"neighborhood=%{location}<br>average_height=%{z}<extra></extra>\",\"locations\":[\"Allegheny Center\",\"Allegheny West\",\"Allentown\",\"Arlington\",\"Arlington Heights\",\"Banksville\",\"Bedford Dwellings\",\"Beechview\",\"Beltzhoover\",\"Bloomfield\",\"Bluff\",\"Bon Air\",\"Brighton Heights\",\"Brookline\",\"California-Kirkbride\",\"Carrick\",\"Central Business District\",\"Central Lawrenceville\",\"Central Northside\",\"Central Oakland\",\"Chartiers City\",\"Chateau\",\"Crafton Heights\",\"Crawford-Roberts\",\"Duquesne Heights\",\"East Allegheny\",\"East Carnegie\",\"East Hills\",\"East Liberty\",\"Elliott\",\"Esplen\",\"Fairywood\",\"Fineview\",\"Friendship\",\"Garfield\",\"Glen Hazel\",\"Greenfield\",\"Hays\",\"Hazelwood\",\"Highland Park\",\"Homewood North\",\"Homewood South\",\"Homewood West\",\"Knoxville\",\"Larimer\",\"Lincoln Place\",\"Lincoln-Lemington-Belmar\",\"Lower Lawrenceville\",\"Manchester\",\"Marshall-Shadeland\",\"Middle Hill\",\"Morningside\",\"Mount Washington\",\"Mt. Oliver\",\"New Homestead\",\"North Oakland\",\"North Shore\",\"Northview Heights\",\"Oakwood\",\"Overbrook\",\"Perry North\",\"Perry South\",\"Point Breeze\",\"Point Breeze North\",\"Polish Hill\",\"Regent Square\",\"Ridgemont\",\"Shadyside\",\"Sheraden\",\"South Oakland\",\"South Shore\",\"South Side Flats\",\"South Side Slopes\",\"Spring Garden\",\"Spring Hill-City View\",\"Squirrel Hill North\",\"Squirrel Hill South\",\"St. Clair\",\"Stanton Heights\",\"Strip District\",\"Summer Hill\",\"Swisshelm Park\",\"Terrace Village\",\"Troy Hill\",\"Upper Hill\",\"Upper Lawrenceville\",\"West End\",\"West Oakland\",\"Westwood\",\"Windgap\"],\"name\":\"\",\"z\":[21.697225070276033,22.65617766192319,19.0348983605664,18.917663813865445,42.748560817084496,27.621591064404278,17.13232323232323,25.445174314551128,17.710660743443327,21.008745876402386,18.869911378586647,25.462400528335824,25.317830167441286,27.248488402579113,24.654224937462885,23.53816020513697,20.76965206511234,16.964063216640536,22.29167415972857,25.42940442321493,36.3182214654041,17.59032793015603,24.8854114145696,17.58817954932439,17.83886850565479,20.868135287879156,17.341183574879228,33.173274926878655,20.033658224150184,25.704208773871866,15.0,42.964285714285715,34.524742656930265,20.423736460582017,20.789227243373166,26.0,21.816462108825025,45.0,23.231899585648993,22.92346213900022,22.61688633104962,20.618015390737995,19.85802961962483,29.858873458204837,21.160648882360178,27.153197123939865,33.336483236842085,20.647801222317568,20.932834599569368,25.068066746815624,16.67164681837486,20.728853975825636,20.803643863078296,25.0,31.524360004673785,28.239575911992826,18.83398970416846,35.333333333333336,28.492871275644124,28.329156988058493,22.25866945580269,26.30350007880868,29.31624890738515,21.870384045393855,18.04806141740533,27.690667232638823,20.0239614221104,25.04479394866151,23.663303305856207,19.232525499738085,12.5,19.001585355820126,19.828907532882546,19.945486205154364,21.46098710077807,33.53406540944004,22.201208486863248,38.5,32.299556700430735,17.15971116285178,32.486626443368934,31.080565267034633,19.102008449966057,11.281663599587302,22.485423642577175,23.099634892955454,20.21529568680942,15.46346822090529,28.84538581089759,28.102170826512364],\"type\":\"choropleth\"}],                        {\"template\":{\"data\":{\"bar\":[{\"error_x\":{\"color\":\"#2a3f5f\"},\"error_y\":{\"color\":\"#2a3f5f\"},\"marker\":{\"line\":{\"color\":\"#E5ECF6\",\"width\":0.5},\"pattern\":{\"fillmode\":\"overlay\",\"size\":10,\"solidity\":0.2}},\"type\":\"bar\"}],\"barpolar\":[{\"marker\":{\"line\":{\"color\":\"#E5ECF6\",\"width\":0.5},\"pattern\":{\"fillmode\":\"overlay\",\"size\":10,\"solidity\":0.2}},\"type\":\"barpolar\"}],\"carpet\":[{\"aaxis\":{\"endlinecolor\":\"#2a3f5f\",\"gridcolor\":\"white\",\"linecolor\":\"white\",\"minorgridcolor\":\"white\",\"startlinecolor\":\"#2a3f5f\"},\"baxis\":{\"endlinecolor\":\"#2a3f5f\",\"gridcolor\":\"white\",\"linecolor\":\"white\",\"minorgridcolor\":\"white\",\"startlinecolor\":\"#2a3f5f\"},\"type\":\"carpet\"}],\"choropleth\":[{\"colorbar\":{\"outlinewidth\":0,\"ticks\":\"\"},\"type\":\"choropleth\"}],\"contour\":[{\"colorbar\":{\"outlinewidth\":0,\"ticks\":\"\"},\"colorscale\":[[0.0,\"#0d0887\"],[0.1111111111111111,\"#46039f\"],[0.2222222222222222,\"#7201a8\"],[0.3333333333333333,\"#9c179e\"],[0.4444444444444444,\"#bd3786\"],[0.5555555555555556,\"#d8576b\"],[0.6666666666666666,\"#ed7953\"],[0.7777777777777778,\"#fb9f3a\"],[0.8888888888888888,\"#fdca26\"],[1.0,\"#f0f921\"]],\"type\":\"contour\"}],\"contourcarpet\":[{\"colorbar\":{\"outlinewidth\":0,\"ticks\":\"\"},\"type\":\"contourcarpet\"}],\"heatmap\":[{\"colorbar\":{\"outlinewidth\":0,\"ticks\":\"\"},\"colorscale\":[[0.0,\"#0d0887\"],[0.1111111111111111,\"#46039f\"],[0.2222222222222222,\"#7201a8\"],[0.3333333333333333,\"#9c179e\"],[0.4444444444444444,\"#bd3786\"],[0.5555555555555556,\"#d8576b\"],[0.6666666666666666,\"#ed7953\"],[0.7777777777777778,\"#fb9f3a\"],[0.8888888888888888,\"#fdca26\"],[1.0,\"#f0f921\"]],\"type\":\"heatmap\"}],\"heatmapgl\":[{\"colorbar\":{\"outlinewidth\":0,\"ticks\":\"\"},\"colorscale\":[[0.0,\"#0d0887\"],[0.1111111111111111,\"#46039f\"],[0.2222222222222222,\"#7201a8\"],[0.3333333333333333,\"#9c179e\"],[0.4444444444444444,\"#bd3786\"],[0.5555555555555556,\"#d8576b\"],[0.6666666666666666,\"#ed7953\"],[0.7777777777777778,\"#fb9f3a\"],[0.8888888888888888,\"#fdca26\"],[1.0,\"#f0f921\"]],\"type\":\"heatmapgl\"}],\"histogram\":[{\"marker\":{\"pattern\":{\"fillmode\":\"overlay\",\"size\":10,\"solidity\":0.2}},\"type\":\"histogram\"}],\"histogram2d\":[{\"colorbar\":{\"outlinewidth\":0,\"ticks\":\"\"},\"colorscale\":[[0.0,\"#0d0887\"],[0.1111111111111111,\"#46039f\"],[0.2222222222222222,\"#7201a8\"],[0.3333333333333333,\"#9c179e\"],[0.4444444444444444,\"#bd3786\"],[0.5555555555555556,\"#d8576b\"],[0.6666666666666666,\"#ed7953\"],[0.7777777777777778,\"#fb9f3a\"],[0.8888888888888888,\"#fdca26\"],[1.0,\"#f0f921\"]],\"type\":\"histogram2d\"}],\"histogram2dcontour\":[{\"colorbar\":{\"outlinewidth\":0,\"ticks\":\"\"},\"colorscale\":[[0.0,\"#0d0887\"],[0.1111111111111111,\"#46039f\"],[0.2222222222222222,\"#7201a8\"],[0.3333333333333333,\"#9c179e\"],[0.4444444444444444,\"#bd3786\"],[0.5555555555555556,\"#d8576b\"],[0.6666666666666666,\"#ed7953\"],[0.7777777777777778,\"#fb9f3a\"],[0.8888888888888888,\"#fdca26\"],[1.0,\"#f0f921\"]],\"type\":\"histogram2dcontour\"}],\"mesh3d\":[{\"colorbar\":{\"outlinewidth\":0,\"ticks\":\"\"},\"type\":\"mesh3d\"}],\"parcoords\":[{\"line\":{\"colorbar\":{\"outlinewidth\":0,\"ticks\":\"\"}},\"type\":\"parcoords\"}],\"pie\":[{\"automargin\":true,\"type\":\"pie\"}],\"scatter\":[{\"marker\":{\"colorbar\":{\"outlinewidth\":0,\"ticks\":\"\"}},\"type\":\"scatter\"}],\"scatter3d\":[{\"line\":{\"colorbar\":{\"outlinewidth\":0,\"ticks\":\"\"}},\"marker\":{\"colorbar\":{\"outlinewidth\":0,\"ticks\":\"\"}},\"type\":\"scatter3d\"}],\"scattercarpet\":[{\"marker\":{\"colorbar\":{\"outlinewidth\":0,\"ticks\":\"\"}},\"type\":\"scattercarpet\"}],\"scattergeo\":[{\"marker\":{\"colorbar\":{\"outlinewidth\":0,\"ticks\":\"\"}},\"type\":\"scattergeo\"}],\"scattergl\":[{\"marker\":{\"colorbar\":{\"outlinewidth\":0,\"ticks\":\"\"}},\"type\":\"scattergl\"}],\"scattermapbox\":[{\"marker\":{\"colorbar\":{\"outlinewidth\":0,\"ticks\":\"\"}},\"type\":\"scattermapbox\"}],\"scatterpolar\":[{\"marker\":{\"colorbar\":{\"outlinewidth\":0,\"ticks\":\"\"}},\"type\":\"scatterpolar\"}],\"scatterpolargl\":[{\"marker\":{\"colorbar\":{\"outlinewidth\":0,\"ticks\":\"\"}},\"type\":\"scatterpolargl\"}],\"scatterternary\":[{\"marker\":{\"colorbar\":{\"outlinewidth\":0,\"ticks\":\"\"}},\"type\":\"scatterternary\"}],\"surface\":[{\"colorbar\":{\"outlinewidth\":0,\"ticks\":\"\"},\"colorscale\":[[0.0,\"#0d0887\"],[0.1111111111111111,\"#46039f\"],[0.2222222222222222,\"#7201a8\"],[0.3333333333333333,\"#9c179e\"],[0.4444444444444444,\"#bd3786\"],[0.5555555555555556,\"#d8576b\"],[0.6666666666666666,\"#ed7953\"],[0.7777777777777778,\"#fb9f3a\"],[0.8888888888888888,\"#fdca26\"],[1.0,\"#f0f921\"]],\"type\":\"surface\"}],\"table\":[{\"cells\":{\"fill\":{\"color\":\"#EBF0F8\"},\"line\":{\"color\":\"white\"}},\"header\":{\"fill\":{\"color\":\"#C8D4E3\"},\"line\":{\"color\":\"white\"}},\"type\":\"table\"}]},\"layout\":{\"annotationdefaults\":{\"arrowcolor\":\"#2a3f5f\",\"arrowhead\":0,\"arrowwidth\":1},\"autotypenumbers\":\"strict\",\"coloraxis\":{\"colorbar\":{\"outlinewidth\":0,\"ticks\":\"\"}},\"colorscale\":{\"diverging\":[[0,\"#8e0152\"],[0.1,\"#c51b7d\"],[0.2,\"#de77ae\"],[0.3,\"#f1b6da\"],[0.4,\"#fde0ef\"],[0.5,\"#f7f7f7\"],[0.6,\"#e6f5d0\"],[0.7,\"#b8e186\"],[0.8,\"#7fbc41\"],[0.9,\"#4d9221\"],[1,\"#276419\"]],\"sequential\":[[0.0,\"#0d0887\"],[0.1111111111111111,\"#46039f\"],[0.2222222222222222,\"#7201a8\"],[0.3333333333333333,\"#9c179e\"],[0.4444444444444444,\"#bd3786\"],[0.5555555555555556,\"#d8576b\"],[0.6666666666666666,\"#ed7953\"],[0.7777777777777778,\"#fb9f3a\"],[0.8888888888888888,\"#fdca26\"],[1.0,\"#f0f921\"]],\"sequentialminus\":[[0.0,\"#0d0887\"],[0.1111111111111111,\"#46039f\"],[0.2222222222222222,\"#7201a8\"],[0.3333333333333333,\"#9c179e\"],[0.4444444444444444,\"#bd3786\"],[0.5555555555555556,\"#d8576b\"],[0.6666666666666666,\"#ed7953\"],[0.7777777777777778,\"#fb9f3a\"],[0.8888888888888888,\"#fdca26\"],[1.0,\"#f0f921\"]]},\"colorway\":[\"#636efa\",\"#EF553B\",\"#00cc96\",\"#ab63fa\",\"#FFA15A\",\"#19d3f3\",\"#FF6692\",\"#B6E880\",\"#FF97FF\",\"#FECB52\"],\"font\":{\"color\":\"#2a3f5f\"},\"geo\":{\"bgcolor\":\"white\",\"lakecolor\":\"white\",\"landcolor\":\"#E5ECF6\",\"showlakes\":true,\"showland\":true,\"subunitcolor\":\"white\"},\"hoverlabel\":{\"align\":\"left\"},\"hovermode\":\"closest\",\"mapbox\":{\"style\":\"light\"},\"paper_bgcolor\":\"white\",\"plot_bgcolor\":\"#E5ECF6\",\"polar\":{\"angularaxis\":{\"gridcolor\":\"white\",\"linecolor\":\"white\",\"ticks\":\"\"},\"bgcolor\":\"#E5ECF6\",\"radialaxis\":{\"gridcolor\":\"white\",\"linecolor\":\"white\",\"ticks\":\"\"}},\"scene\":{\"xaxis\":{\"backgroundcolor\":\"#E5ECF6\",\"gridcolor\":\"white\",\"gridwidth\":2,\"linecolor\":\"white\",\"showbackground\":true,\"ticks\":\"\",\"zerolinecolor\":\"white\"},\"yaxis\":{\"backgroundcolor\":\"#E5ECF6\",\"gridcolor\":\"white\",\"gridwidth\":2,\"linecolor\":\"white\",\"showbackground\":true,\"ticks\":\"\",\"zerolinecolor\":\"white\"},\"zaxis\":{\"backgroundcolor\":\"#E5ECF6\",\"gridcolor\":\"white\",\"gridwidth\":2,\"linecolor\":\"white\",\"showbackground\":true,\"ticks\":\"\",\"zerolinecolor\":\"white\"}},\"shapedefaults\":{\"line\":{\"color\":\"#2a3f5f\"}},\"ternary\":{\"aaxis\":{\"gridcolor\":\"white\",\"linecolor\":\"white\",\"ticks\":\"\"},\"baxis\":{\"gridcolor\":\"white\",\"linecolor\":\"white\",\"ticks\":\"\"},\"bgcolor\":\"#E5ECF6\",\"caxis\":{\"gridcolor\":\"white\",\"linecolor\":\"white\",\"ticks\":\"\"}},\"title\":{\"x\":0.05},\"xaxis\":{\"automargin\":true,\"gridcolor\":\"white\",\"linecolor\":\"white\",\"ticks\":\"\",\"title\":{\"standoff\":15},\"zerolinecolor\":\"white\",\"zerolinewidth\":2},\"yaxis\":{\"automargin\":true,\"gridcolor\":\"white\",\"linecolor\":\"white\",\"ticks\":\"\",\"title\":{\"standoff\":15},\"zerolinecolor\":\"white\",\"zerolinewidth\":2}}},\"geo\":{\"domain\":{\"x\":[0.0,1.0],\"y\":[0.0,1.0]},\"center\":{},\"fitbounds\":\"locations\",\"visible\":false},\"coloraxis\":{\"colorbar\":{\"title\":{\"text\":\"average_height\"}},\"colorscale\":[[0.0,\"rgb(247,251,255)\"],[0.125,\"rgb(222,235,247)\"],[0.25,\"rgb(198,219,239)\"],[0.375,\"rgb(158,202,225)\"],[0.5,\"rgb(107,174,214)\"],[0.625,\"rgb(66,146,198)\"],[0.75,\"rgb(33,113,181)\"],[0.875,\"rgb(8,81,156)\"],[1.0,\"rgb(8,48,107)\"]]},\"legend\":{\"tracegroupgap\":0},\"title\":{\"text\":\"Average Tree Height across Neighborhood\"},\"height\":700},                        {\"responsive\": true}                    ).then(function(){\n",
       "                            \n",
       "var gd = document.getElementById('f682080a-afd5-4c3a-8b97-417b0ae9b2ac');\n",
       "var x = new MutationObserver(function (mutations, observer) {{\n",
       "        var display = window.getComputedStyle(gd).display;\n",
       "        if (!display || display === 'none') {{\n",
       "            console.log([gd, 'removed!']);\n",
       "            Plotly.purge(gd);\n",
       "            observer.disconnect();\n",
       "        }}\n",
       "}});\n",
       "\n",
       "// Listen for the removal of the full notebook cells\n",
       "var notebookContainer = gd.closest('#notebook-container');\n",
       "if (notebookContainer) {{\n",
       "    x.observe(notebookContainer, {childList: true});\n",
       "}}\n",
       "\n",
       "// Listen for the clearing of the current output cell\n",
       "var outputEl = gd.closest('.output');\n",
       "if (outputEl) {{\n",
       "    x.observe(outputEl, {childList: true});\n",
       "}}\n",
       "\n",
       "                        })                };                            </script>        </div>\n",
       "</body>\n",
       "</html>"
      ]
     },
     "metadata": {},
     "output_type": "display_data"
    }
   ],
   "source": [
    "fig=px.choropleth(df_height,\n",
    "             geojson=\"https://raw.githubusercontent.com/blackmad/neighborhoods/master/gn-pittsburgh.geojson\",\n",
    "             featureidkey='properties.name',   \n",
    "             locations='neighborhood',        #column in dataframe\n",
    "             color='average_height',\n",
    "              color_continuous_scale='blues',\n",
    "               title='Average Tree Height across Neighborhood' ,  \n",
    "               height=700\n",
    "              )\n",
    "fig.update_geos(fitbounds=\"locations\", visible=False)\n",
    "fig.show()\n",
    "#img_bytes = fig.to_image(format=\"png\")\n",
    "#Image(img_bytes)"
   ]
  },
  {
   "cell_type": "markdown",
   "metadata": {
    "id": "Im8IIRYanAKy"
   },
   "source": [
    "**<h3>Average Tree Width across Neighborhoods</h3>**"
   ]
  },
  {
   "cell_type": "markdown",
   "metadata": {
    "id": "NGDY6b56dKPW"
   },
   "source": [
    "Top 10 neighborhoods with the highest average tree width"
   ]
  },
  {
   "cell_type": "code",
   "execution_count": 13,
   "metadata": {
    "colab": {
     "base_uri": "https://localhost:8080/",
     "height": 359
    },
    "id": "JVhvNYGjlkyV",
    "outputId": "a3a1c956-0b9e-4dd1-b044-47c3f50ecd79"
   },
   "outputs": [
    {
     "data": {
      "text/html": [
       "<div>\n",
       "<style scoped>\n",
       "    .dataframe tbody tr th:only-of-type {\n",
       "        vertical-align: middle;\n",
       "    }\n",
       "\n",
       "    .dataframe tbody tr th {\n",
       "        vertical-align: top;\n",
       "    }\n",
       "\n",
       "    .dataframe thead th {\n",
       "        text-align: right;\n",
       "    }\n",
       "</style>\n",
       "<table border=\"1\" class=\"dataframe\">\n",
       "  <thead>\n",
       "    <tr style=\"text-align: right;\">\n",
       "      <th></th>\n",
       "      <th>neighborhood</th>\n",
       "      <th>average_width</th>\n",
       "    </tr>\n",
       "  </thead>\n",
       "  <tbody>\n",
       "    <tr>\n",
       "      <th>77</th>\n",
       "      <td>St. Clair</td>\n",
       "      <td>13.454069</td>\n",
       "    </tr>\n",
       "    <tr>\n",
       "      <th>32</th>\n",
       "      <td>Fineview</td>\n",
       "      <td>13.243513</td>\n",
       "    </tr>\n",
       "    <tr>\n",
       "      <th>4</th>\n",
       "      <td>Arlington Heights</td>\n",
       "      <td>11.448097</td>\n",
       "    </tr>\n",
       "    <tr>\n",
       "      <th>75</th>\n",
       "      <td>Squirrel Hill North</td>\n",
       "      <td>10.632508</td>\n",
       "    </tr>\n",
       "    <tr>\n",
       "      <th>20</th>\n",
       "      <td>Chartiers City</td>\n",
       "      <td>10.600609</td>\n",
       "    </tr>\n",
       "    <tr>\n",
       "      <th>80</th>\n",
       "      <td>Summer Hill</td>\n",
       "      <td>10.392978</td>\n",
       "    </tr>\n",
       "    <tr>\n",
       "      <th>16</th>\n",
       "      <td>Central Business District</td>\n",
       "      <td>10.152232</td>\n",
       "    </tr>\n",
       "    <tr>\n",
       "      <th>26</th>\n",
       "      <td>East Carnegie</td>\n",
       "      <td>10.027174</td>\n",
       "    </tr>\n",
       "    <tr>\n",
       "      <th>57</th>\n",
       "      <td>Northview Heights</td>\n",
       "      <td>9.750436</td>\n",
       "    </tr>\n",
       "    <tr>\n",
       "      <th>31</th>\n",
       "      <td>Fairywood</td>\n",
       "      <td>9.698687</td>\n",
       "    </tr>\n",
       "  </tbody>\n",
       "</table>\n",
       "</div>"
      ],
      "text/plain": [
       "                 neighborhood  average_width\n",
       "77                  St. Clair      13.454069\n",
       "32                   Fineview      13.243513\n",
       "4           Arlington Heights      11.448097\n",
       "75        Squirrel Hill North      10.632508\n",
       "20             Chartiers City      10.600609\n",
       "80                Summer Hill      10.392978\n",
       "16  Central Business District      10.152232\n",
       "26              East Carnegie      10.027174\n",
       "57          Northview Heights       9.750436\n",
       "31                  Fairywood       9.698687"
      ]
     },
     "execution_count": 13,
     "metadata": {},
     "output_type": "execute_result"
    }
   ],
   "source": [
    "df_width = df_trees.groupby(\"neighborhood\")[\"width\"].mean()\n",
    "df_width = df_width.to_frame().reset_index()\n",
    "df_width.columns = ['neighborhood', 'average_width']\n",
    "df_width1 = df_width.sort_values(by=['average_width'], ascending = False)\n",
    "df_width1.head(10)"
   ]
  },
  {
   "cell_type": "markdown",
   "metadata": {
    "id": "cfL0rieBenpN"
   },
   "source": [
    "<h4>Choropleth map for average tree width across the neighborhoods of Pittsburgh</h4>"
   ]
  },
  {
   "cell_type": "code",
   "execution_count": 61,
   "metadata": {
    "colab": {
     "base_uri": "https://localhost:8080/",
     "height": 717
    },
    "id": "eIVHmtOwl-Hf",
    "outputId": "295403a4-5d5b-4301-a8b3-5fcc5d3b762c"
   },
   "outputs": [
    {
     "data": {
      "text/html": [
       "<html>\n",
       "<head><meta charset=\"utf-8\" /></head>\n",
       "<body>\n",
       "    <div>            <script src=\"https://cdnjs.cloudflare.com/ajax/libs/mathjax/2.7.5/MathJax.js?config=TeX-AMS-MML_SVG\"></script><script type=\"text/javascript\">if (window.MathJax) {MathJax.Hub.Config({SVG: {font: \"STIX-Web\"}});}</script>                <script type=\"text/javascript\">window.PlotlyConfig = {MathJaxConfig: 'local'};</script>\n",
       "        <script src=\"https://cdn.plot.ly/plotly-2.6.3.min.js\"></script>                <div id=\"3cfc5102-775f-4609-8a36-94e53c39f2d7\" class=\"plotly-graph-div\" style=\"height:700px; width:100%;\"></div>            <script type=\"text/javascript\">                                    window.PLOTLYENV=window.PLOTLYENV || {};                                    if (document.getElementById(\"3cfc5102-775f-4609-8a36-94e53c39f2d7\")) {                    Plotly.newPlot(                        \"3cfc5102-775f-4609-8a36-94e53c39f2d7\",                        [{\"coloraxis\":\"coloraxis\",\"featureidkey\":\"properties.name\",\"geo\":\"geo\",\"geojson\":\"https://raw.githubusercontent.com/blackmad/neighborhoods/master/gn-pittsburgh.geojson\",\"hovertemplate\":\"neighborhood=%{location}<br>average_width=%{z}<extra></extra>\",\"locations\":[\"Allegheny Center\",\"Allegheny West\",\"Allentown\",\"Arlington\",\"Arlington Heights\",\"Banksville\",\"Bedford Dwellings\",\"Beechview\",\"Beltzhoover\",\"Bloomfield\",\"Bluff\",\"Bon Air\",\"Brighton Heights\",\"Brookline\",\"California-Kirkbride\",\"Carrick\",\"Central Business District\",\"Central Lawrenceville\",\"Central Northside\",\"Central Oakland\",\"Chartiers City\",\"Chateau\",\"Crafton Heights\",\"Crawford-Roberts\",\"Duquesne Heights\",\"East Allegheny\",\"East Carnegie\",\"East Hills\",\"East Liberty\",\"Elliott\",\"Esplen\",\"Fairywood\",\"Fineview\",\"Friendship\",\"Garfield\",\"Glen Hazel\",\"Greenfield\",\"Hays\",\"Hazelwood\",\"Highland Park\",\"Homewood North\",\"Homewood South\",\"Homewood West\",\"Knoxville\",\"Larimer\",\"Lincoln Place\",\"Lincoln-Lemington-Belmar\",\"Lower Lawrenceville\",\"Manchester\",\"Marshall-Shadeland\",\"Middle Hill\",\"Morningside\",\"Mount Washington\",\"Mt. Oliver\",\"New Homestead\",\"North Oakland\",\"North Shore\",\"Northview Heights\",\"Oakwood\",\"Overbrook\",\"Perry North\",\"Perry South\",\"Point Breeze\",\"Point Breeze North\",\"Polish Hill\",\"Regent Square\",\"Ridgemont\",\"Shadyside\",\"Sheraden\",\"South Oakland\",\"South Shore\",\"South Side Flats\",\"South Side Slopes\",\"Spring Garden\",\"Spring Hill-City View\",\"Squirrel Hill North\",\"Squirrel Hill South\",\"St. Clair\",\"Stanton Heights\",\"Strip District\",\"Summer Hill\",\"Swisshelm Park\",\"Terrace Village\",\"Troy Hill\",\"Upper Hill\",\"Upper Lawrenceville\",\"West End\",\"West Oakland\",\"Westwood\",\"Windgap\"],\"name\":\"\",\"z\":[6.741885285645535,7.798701898940822,7.388842290634075,5.454705034311913,11.448096564531104,8.584796415380023,5.9676767676767675,7.529371626917259,6.381895605645754,6.789286482780385,6.811621603298424,6.539500151275816,7.4655442529278595,7.937394896896409,8.069379274488712,7.495934752541911,10.15223156191423,5.870566271641068,6.75064455069356,8.031466276169498,10.600609340619583,5.692336570246741,7.7695771166604475,6.785359002035526,5.721988268651961,7.122690979159606,10.027173913043478,8.299867039348996,6.615266816048085,9.05159354359419,4.0,9.69868671679198,13.24351330049085,8.43040907124428,7.994952332686967,2.5,6.668691324284124,4.230769230769232,6.873872368544521,7.093565985580721,7.077976213523273,4.898811421960139,4.707504163984118,7.572913103066603,6.5722980853785815,7.875972989087155,8.626436279049864,9.425551024879496,6.558708753737365,7.984863742247819,6.242148425288212,6.42650210696236,7.031284958072795,6.153846153846154,8.794468143069244,8.799079930344307,7.682405611811042,9.75043578497526,8.203985866468932,7.310717834719992,7.310239464463546,9.539862296118166,8.383768966516065,6.6900031510827125,7.475597011226752,8.05738909459974,5.322387224174713,7.69730271521378,8.898831886883587,6.341412845180976,4.5,6.157162738461738,5.818280058344975,6.097523713940044,7.3992989808450735,10.632507912747611,7.21760333112154,13.454069200779728,9.392580541949124,8.054741636078033,10.392977558797734,8.255900992617091,6.483448098952978,4.427482562860993,8.309247748719784,9.25525979998402,6.650728887799714,5.624244557883001,8.918861290391527,8.522449299000076],\"type\":\"choropleth\"}],                        {\"template\":{\"data\":{\"bar\":[{\"error_x\":{\"color\":\"#2a3f5f\"},\"error_y\":{\"color\":\"#2a3f5f\"},\"marker\":{\"line\":{\"color\":\"#E5ECF6\",\"width\":0.5},\"pattern\":{\"fillmode\":\"overlay\",\"size\":10,\"solidity\":0.2}},\"type\":\"bar\"}],\"barpolar\":[{\"marker\":{\"line\":{\"color\":\"#E5ECF6\",\"width\":0.5},\"pattern\":{\"fillmode\":\"overlay\",\"size\":10,\"solidity\":0.2}},\"type\":\"barpolar\"}],\"carpet\":[{\"aaxis\":{\"endlinecolor\":\"#2a3f5f\",\"gridcolor\":\"white\",\"linecolor\":\"white\",\"minorgridcolor\":\"white\",\"startlinecolor\":\"#2a3f5f\"},\"baxis\":{\"endlinecolor\":\"#2a3f5f\",\"gridcolor\":\"white\",\"linecolor\":\"white\",\"minorgridcolor\":\"white\",\"startlinecolor\":\"#2a3f5f\"},\"type\":\"carpet\"}],\"choropleth\":[{\"colorbar\":{\"outlinewidth\":0,\"ticks\":\"\"},\"type\":\"choropleth\"}],\"contour\":[{\"colorbar\":{\"outlinewidth\":0,\"ticks\":\"\"},\"colorscale\":[[0.0,\"#0d0887\"],[0.1111111111111111,\"#46039f\"],[0.2222222222222222,\"#7201a8\"],[0.3333333333333333,\"#9c179e\"],[0.4444444444444444,\"#bd3786\"],[0.5555555555555556,\"#d8576b\"],[0.6666666666666666,\"#ed7953\"],[0.7777777777777778,\"#fb9f3a\"],[0.8888888888888888,\"#fdca26\"],[1.0,\"#f0f921\"]],\"type\":\"contour\"}],\"contourcarpet\":[{\"colorbar\":{\"outlinewidth\":0,\"ticks\":\"\"},\"type\":\"contourcarpet\"}],\"heatmap\":[{\"colorbar\":{\"outlinewidth\":0,\"ticks\":\"\"},\"colorscale\":[[0.0,\"#0d0887\"],[0.1111111111111111,\"#46039f\"],[0.2222222222222222,\"#7201a8\"],[0.3333333333333333,\"#9c179e\"],[0.4444444444444444,\"#bd3786\"],[0.5555555555555556,\"#d8576b\"],[0.6666666666666666,\"#ed7953\"],[0.7777777777777778,\"#fb9f3a\"],[0.8888888888888888,\"#fdca26\"],[1.0,\"#f0f921\"]],\"type\":\"heatmap\"}],\"heatmapgl\":[{\"colorbar\":{\"outlinewidth\":0,\"ticks\":\"\"},\"colorscale\":[[0.0,\"#0d0887\"],[0.1111111111111111,\"#46039f\"],[0.2222222222222222,\"#7201a8\"],[0.3333333333333333,\"#9c179e\"],[0.4444444444444444,\"#bd3786\"],[0.5555555555555556,\"#d8576b\"],[0.6666666666666666,\"#ed7953\"],[0.7777777777777778,\"#fb9f3a\"],[0.8888888888888888,\"#fdca26\"],[1.0,\"#f0f921\"]],\"type\":\"heatmapgl\"}],\"histogram\":[{\"marker\":{\"pattern\":{\"fillmode\":\"overlay\",\"size\":10,\"solidity\":0.2}},\"type\":\"histogram\"}],\"histogram2d\":[{\"colorbar\":{\"outlinewidth\":0,\"ticks\":\"\"},\"colorscale\":[[0.0,\"#0d0887\"],[0.1111111111111111,\"#46039f\"],[0.2222222222222222,\"#7201a8\"],[0.3333333333333333,\"#9c179e\"],[0.4444444444444444,\"#bd3786\"],[0.5555555555555556,\"#d8576b\"],[0.6666666666666666,\"#ed7953\"],[0.7777777777777778,\"#fb9f3a\"],[0.8888888888888888,\"#fdca26\"],[1.0,\"#f0f921\"]],\"type\":\"histogram2d\"}],\"histogram2dcontour\":[{\"colorbar\":{\"outlinewidth\":0,\"ticks\":\"\"},\"colorscale\":[[0.0,\"#0d0887\"],[0.1111111111111111,\"#46039f\"],[0.2222222222222222,\"#7201a8\"],[0.3333333333333333,\"#9c179e\"],[0.4444444444444444,\"#bd3786\"],[0.5555555555555556,\"#d8576b\"],[0.6666666666666666,\"#ed7953\"],[0.7777777777777778,\"#fb9f3a\"],[0.8888888888888888,\"#fdca26\"],[1.0,\"#f0f921\"]],\"type\":\"histogram2dcontour\"}],\"mesh3d\":[{\"colorbar\":{\"outlinewidth\":0,\"ticks\":\"\"},\"type\":\"mesh3d\"}],\"parcoords\":[{\"line\":{\"colorbar\":{\"outlinewidth\":0,\"ticks\":\"\"}},\"type\":\"parcoords\"}],\"pie\":[{\"automargin\":true,\"type\":\"pie\"}],\"scatter\":[{\"marker\":{\"colorbar\":{\"outlinewidth\":0,\"ticks\":\"\"}},\"type\":\"scatter\"}],\"scatter3d\":[{\"line\":{\"colorbar\":{\"outlinewidth\":0,\"ticks\":\"\"}},\"marker\":{\"colorbar\":{\"outlinewidth\":0,\"ticks\":\"\"}},\"type\":\"scatter3d\"}],\"scattercarpet\":[{\"marker\":{\"colorbar\":{\"outlinewidth\":0,\"ticks\":\"\"}},\"type\":\"scattercarpet\"}],\"scattergeo\":[{\"marker\":{\"colorbar\":{\"outlinewidth\":0,\"ticks\":\"\"}},\"type\":\"scattergeo\"}],\"scattergl\":[{\"marker\":{\"colorbar\":{\"outlinewidth\":0,\"ticks\":\"\"}},\"type\":\"scattergl\"}],\"scattermapbox\":[{\"marker\":{\"colorbar\":{\"outlinewidth\":0,\"ticks\":\"\"}},\"type\":\"scattermapbox\"}],\"scatterpolar\":[{\"marker\":{\"colorbar\":{\"outlinewidth\":0,\"ticks\":\"\"}},\"type\":\"scatterpolar\"}],\"scatterpolargl\":[{\"marker\":{\"colorbar\":{\"outlinewidth\":0,\"ticks\":\"\"}},\"type\":\"scatterpolargl\"}],\"scatterternary\":[{\"marker\":{\"colorbar\":{\"outlinewidth\":0,\"ticks\":\"\"}},\"type\":\"scatterternary\"}],\"surface\":[{\"colorbar\":{\"outlinewidth\":0,\"ticks\":\"\"},\"colorscale\":[[0.0,\"#0d0887\"],[0.1111111111111111,\"#46039f\"],[0.2222222222222222,\"#7201a8\"],[0.3333333333333333,\"#9c179e\"],[0.4444444444444444,\"#bd3786\"],[0.5555555555555556,\"#d8576b\"],[0.6666666666666666,\"#ed7953\"],[0.7777777777777778,\"#fb9f3a\"],[0.8888888888888888,\"#fdca26\"],[1.0,\"#f0f921\"]],\"type\":\"surface\"}],\"table\":[{\"cells\":{\"fill\":{\"color\":\"#EBF0F8\"},\"line\":{\"color\":\"white\"}},\"header\":{\"fill\":{\"color\":\"#C8D4E3\"},\"line\":{\"color\":\"white\"}},\"type\":\"table\"}]},\"layout\":{\"annotationdefaults\":{\"arrowcolor\":\"#2a3f5f\",\"arrowhead\":0,\"arrowwidth\":1},\"autotypenumbers\":\"strict\",\"coloraxis\":{\"colorbar\":{\"outlinewidth\":0,\"ticks\":\"\"}},\"colorscale\":{\"diverging\":[[0,\"#8e0152\"],[0.1,\"#c51b7d\"],[0.2,\"#de77ae\"],[0.3,\"#f1b6da\"],[0.4,\"#fde0ef\"],[0.5,\"#f7f7f7\"],[0.6,\"#e6f5d0\"],[0.7,\"#b8e186\"],[0.8,\"#7fbc41\"],[0.9,\"#4d9221\"],[1,\"#276419\"]],\"sequential\":[[0.0,\"#0d0887\"],[0.1111111111111111,\"#46039f\"],[0.2222222222222222,\"#7201a8\"],[0.3333333333333333,\"#9c179e\"],[0.4444444444444444,\"#bd3786\"],[0.5555555555555556,\"#d8576b\"],[0.6666666666666666,\"#ed7953\"],[0.7777777777777778,\"#fb9f3a\"],[0.8888888888888888,\"#fdca26\"],[1.0,\"#f0f921\"]],\"sequentialminus\":[[0.0,\"#0d0887\"],[0.1111111111111111,\"#46039f\"],[0.2222222222222222,\"#7201a8\"],[0.3333333333333333,\"#9c179e\"],[0.4444444444444444,\"#bd3786\"],[0.5555555555555556,\"#d8576b\"],[0.6666666666666666,\"#ed7953\"],[0.7777777777777778,\"#fb9f3a\"],[0.8888888888888888,\"#fdca26\"],[1.0,\"#f0f921\"]]},\"colorway\":[\"#636efa\",\"#EF553B\",\"#00cc96\",\"#ab63fa\",\"#FFA15A\",\"#19d3f3\",\"#FF6692\",\"#B6E880\",\"#FF97FF\",\"#FECB52\"],\"font\":{\"color\":\"#2a3f5f\"},\"geo\":{\"bgcolor\":\"white\",\"lakecolor\":\"white\",\"landcolor\":\"#E5ECF6\",\"showlakes\":true,\"showland\":true,\"subunitcolor\":\"white\"},\"hoverlabel\":{\"align\":\"left\"},\"hovermode\":\"closest\",\"mapbox\":{\"style\":\"light\"},\"paper_bgcolor\":\"white\",\"plot_bgcolor\":\"#E5ECF6\",\"polar\":{\"angularaxis\":{\"gridcolor\":\"white\",\"linecolor\":\"white\",\"ticks\":\"\"},\"bgcolor\":\"#E5ECF6\",\"radialaxis\":{\"gridcolor\":\"white\",\"linecolor\":\"white\",\"ticks\":\"\"}},\"scene\":{\"xaxis\":{\"backgroundcolor\":\"#E5ECF6\",\"gridcolor\":\"white\",\"gridwidth\":2,\"linecolor\":\"white\",\"showbackground\":true,\"ticks\":\"\",\"zerolinecolor\":\"white\"},\"yaxis\":{\"backgroundcolor\":\"#E5ECF6\",\"gridcolor\":\"white\",\"gridwidth\":2,\"linecolor\":\"white\",\"showbackground\":true,\"ticks\":\"\",\"zerolinecolor\":\"white\"},\"zaxis\":{\"backgroundcolor\":\"#E5ECF6\",\"gridcolor\":\"white\",\"gridwidth\":2,\"linecolor\":\"white\",\"showbackground\":true,\"ticks\":\"\",\"zerolinecolor\":\"white\"}},\"shapedefaults\":{\"line\":{\"color\":\"#2a3f5f\"}},\"ternary\":{\"aaxis\":{\"gridcolor\":\"white\",\"linecolor\":\"white\",\"ticks\":\"\"},\"baxis\":{\"gridcolor\":\"white\",\"linecolor\":\"white\",\"ticks\":\"\"},\"bgcolor\":\"#E5ECF6\",\"caxis\":{\"gridcolor\":\"white\",\"linecolor\":\"white\",\"ticks\":\"\"}},\"title\":{\"x\":0.05},\"xaxis\":{\"automargin\":true,\"gridcolor\":\"white\",\"linecolor\":\"white\",\"ticks\":\"\",\"title\":{\"standoff\":15},\"zerolinecolor\":\"white\",\"zerolinewidth\":2},\"yaxis\":{\"automargin\":true,\"gridcolor\":\"white\",\"linecolor\":\"white\",\"ticks\":\"\",\"title\":{\"standoff\":15},\"zerolinecolor\":\"white\",\"zerolinewidth\":2}}},\"geo\":{\"domain\":{\"x\":[0.0,1.0],\"y\":[0.0,1.0]},\"center\":{},\"fitbounds\":\"locations\",\"visible\":false},\"coloraxis\":{\"colorbar\":{\"title\":{\"text\":\"average_width\"}},\"colorscale\":[[0.0,\"rgb(247,251,255)\"],[0.125,\"rgb(222,235,247)\"],[0.25,\"rgb(198,219,239)\"],[0.375,\"rgb(158,202,225)\"],[0.5,\"rgb(107,174,214)\"],[0.625,\"rgb(66,146,198)\"],[0.75,\"rgb(33,113,181)\"],[0.875,\"rgb(8,81,156)\"],[1.0,\"rgb(8,48,107)\"]]},\"legend\":{\"tracegroupgap\":0},\"title\":{\"text\":\"Average Tree Width across Neighborhood\"},\"height\":700},                        {\"responsive\": true}                    ).then(function(){\n",
       "                            \n",
       "var gd = document.getElementById('3cfc5102-775f-4609-8a36-94e53c39f2d7');\n",
       "var x = new MutationObserver(function (mutations, observer) {{\n",
       "        var display = window.getComputedStyle(gd).display;\n",
       "        if (!display || display === 'none') {{\n",
       "            console.log([gd, 'removed!']);\n",
       "            Plotly.purge(gd);\n",
       "            observer.disconnect();\n",
       "        }}\n",
       "}});\n",
       "\n",
       "// Listen for the removal of the full notebook cells\n",
       "var notebookContainer = gd.closest('#notebook-container');\n",
       "if (notebookContainer) {{\n",
       "    x.observe(notebookContainer, {childList: true});\n",
       "}}\n",
       "\n",
       "// Listen for the clearing of the current output cell\n",
       "var outputEl = gd.closest('.output');\n",
       "if (outputEl) {{\n",
       "    x.observe(outputEl, {childList: true});\n",
       "}}\n",
       "\n",
       "                        })                };                            </script>        </div>\n",
       "</body>\n",
       "</html>"
      ]
     },
     "metadata": {},
     "output_type": "display_data"
    }
   ],
   "source": [
    "fig=px.choropleth(df_width,\n",
    "             geojson=\"https://raw.githubusercontent.com/blackmad/neighborhoods/master/gn-pittsburgh.geojson\",\n",
    "             featureidkey='properties.name',   \n",
    "             locations='neighborhood',        #column in dataframe\n",
    "             color='average_width',\n",
    "              color_continuous_scale='blues',\n",
    "               title='Average Tree Width across Neighborhood' ,  \n",
    "               height=700\n",
    "              )\n",
    "fig.update_geos(fitbounds=\"locations\", visible=False)\n",
    "fig.show()\n",
    "#img_bytes = fig.to_image(format=\"png\")\n",
    "#Image(img_bytes)"
   ]
  },
  {
   "cell_type": "markdown",
   "metadata": {
    "id": "00t23fV5eqjb"
   },
   "source": [
    "**Inference** : 7 of the top 10 neighborhoods with the highest average tree height are also present in the top 10 neighborhoods with the highest average tree width. While there seems to be positive correlation between the average height and average width (tall trees tend to have more width), this can't be considered as a strong correlation. A strange observation is that the neighborhood 'Hays' has the highest average tree height in pittsburgh. However, it has one of the lowest average tree width in Pittsburgh!"
   ]
  },
  {
   "cell_type": "markdown",
   "metadata": {
    "id": "zS_TZKzYncGd"
   },
   "source": [
    "**<h3>The most prevalent species in each neighborhood</h3>**"
   ]
  },
  {
   "cell_type": "code",
   "execution_count": 18,
   "metadata": {
    "colab": {
     "base_uri": "https://localhost:8080/",
     "height": 419
    },
    "id": "4tdgxSQ7SsKr",
    "outputId": "1ad4e6bd-1899-4fae-f5b5-f1b742346153"
   },
   "outputs": [
    {
     "data": {
      "text/html": [
       "<div>\n",
       "<style scoped>\n",
       "    .dataframe tbody tr th:only-of-type {\n",
       "        vertical-align: middle;\n",
       "    }\n",
       "\n",
       "    .dataframe tbody tr th {\n",
       "        vertical-align: top;\n",
       "    }\n",
       "\n",
       "    .dataframe thead th {\n",
       "        text-align: right;\n",
       "    }\n",
       "</style>\n",
       "<table border=\"1\" class=\"dataframe\">\n",
       "  <thead>\n",
       "    <tr style=\"text-align: right;\">\n",
       "      <th></th>\n",
       "      <th>neighborhood</th>\n",
       "      <th>common_name</th>\n",
       "      <th>id</th>\n",
       "    </tr>\n",
       "  </thead>\n",
       "  <tbody>\n",
       "    <tr>\n",
       "      <th>0</th>\n",
       "      <td>Allegheny Center</td>\n",
       "      <td>London planetree</td>\n",
       "      <td>109</td>\n",
       "    </tr>\n",
       "    <tr>\n",
       "      <th>1</th>\n",
       "      <td>Allegheny West</td>\n",
       "      <td>Pear: Callery</td>\n",
       "      <td>44</td>\n",
       "    </tr>\n",
       "    <tr>\n",
       "      <th>2</th>\n",
       "      <td>Allentown</td>\n",
       "      <td>Pear: Callery</td>\n",
       "      <td>14</td>\n",
       "    </tr>\n",
       "    <tr>\n",
       "      <th>3</th>\n",
       "      <td>Arlington</td>\n",
       "      <td>Hemlock: Eastern</td>\n",
       "      <td>14</td>\n",
       "    </tr>\n",
       "    <tr>\n",
       "      <th>4</th>\n",
       "      <td>Arlington Heights</td>\n",
       "      <td>Locust: Black</td>\n",
       "      <td>2</td>\n",
       "    </tr>\n",
       "    <tr>\n",
       "      <th>...</th>\n",
       "      <td>...</td>\n",
       "      <td>...</td>\n",
       "      <td>...</td>\n",
       "    </tr>\n",
       "    <tr>\n",
       "      <th>85</th>\n",
       "      <td>Upper Lawrenceville</td>\n",
       "      <td>Pear: Callery</td>\n",
       "      <td>65</td>\n",
       "    </tr>\n",
       "    <tr>\n",
       "      <th>86</th>\n",
       "      <td>West End</td>\n",
       "      <td>Pear: Callery</td>\n",
       "      <td>46</td>\n",
       "    </tr>\n",
       "    <tr>\n",
       "      <th>87</th>\n",
       "      <td>West Oakland</td>\n",
       "      <td>Honeylocust: Thornless</td>\n",
       "      <td>17</td>\n",
       "    </tr>\n",
       "    <tr>\n",
       "      <th>88</th>\n",
       "      <td>Westwood</td>\n",
       "      <td>Linden: Littleleaf</td>\n",
       "      <td>29</td>\n",
       "    </tr>\n",
       "    <tr>\n",
       "      <th>89</th>\n",
       "      <td>Windgap</td>\n",
       "      <td>Maple: Norway</td>\n",
       "      <td>18</td>\n",
       "    </tr>\n",
       "  </tbody>\n",
       "</table>\n",
       "<p>90 rows × 3 columns</p>\n",
       "</div>"
      ],
      "text/plain": [
       "           neighborhood             common_name   id\n",
       "0      Allegheny Center        London planetree  109\n",
       "1        Allegheny West           Pear: Callery   44\n",
       "2             Allentown           Pear: Callery   14\n",
       "3             Arlington        Hemlock: Eastern   14\n",
       "4     Arlington Heights           Locust: Black    2\n",
       "..                  ...                     ...  ...\n",
       "85  Upper Lawrenceville           Pear: Callery   65\n",
       "86             West End           Pear: Callery   46\n",
       "87         West Oakland  Honeylocust: Thornless   17\n",
       "88             Westwood      Linden: Littleleaf   29\n",
       "89              Windgap           Maple: Norway   18\n",
       "\n",
       "[90 rows x 3 columns]"
      ]
     },
     "execution_count": 18,
     "metadata": {},
     "output_type": "execute_result"
    }
   ],
   "source": [
    "groupBySpeciesAndNeighborhood = df_trees.groupby(['neighborhood','common_name'])['id'].count()\n",
    "groupBySpeciesAndNeighborhood = groupBySpeciesAndNeighborhood.to_frame().reset_index()\n",
    "prevalent_species = groupBySpeciesAndNeighborhood.loc[groupBySpeciesAndNeighborhood.groupby(['neighborhood'])['id'].idxmax()].reset_index(drop=True)\n",
    "prevalent_species"
   ]
  },
  {
   "cell_type": "markdown",
   "metadata": {
    "id": "G7220_t5hLMd"
   },
   "source": [
    "<h4>Choropleth map showing the tree species that is the highest in number in each neighborhood</h4>"
   ]
  },
  {
   "cell_type": "code",
   "execution_count": null,
   "metadata": {
    "colab": {
     "base_uri": "https://localhost:8080/",
     "height": 717
    },
    "id": "CqWO0Zh4S9xD",
    "outputId": "fce9aff9-c21f-4e8f-de25-c2c72325b69b"
   },
   "outputs": [
    {
     "data": {
      "text/html": [
       "<html>\n",
       "<head><meta charset=\"utf-8\" /></head>\n",
       "<body>\n",
       "    <div>            <script src=\"https://cdnjs.cloudflare.com/ajax/libs/mathjax/2.7.5/MathJax.js?config=TeX-AMS-MML_SVG\"></script><script type=\"text/javascript\">if (window.MathJax) {MathJax.Hub.Config({SVG: {font: \"STIX-Web\"}});}</script>                <script type=\"text/javascript\">window.PlotlyConfig = {MathJaxConfig: 'local'};</script>\n",
       "        <script src=\"https://cdn.plot.ly/plotly-2.6.3.min.js\"></script>                <div id=\"69bcd3ca-8d60-4097-b65e-f754de97e994\" class=\"plotly-graph-div\" style=\"height:700px; width:100%;\"></div>            <script type=\"text/javascript\">                                    window.PLOTLYENV=window.PLOTLYENV || {};                                    if (document.getElementById(\"69bcd3ca-8d60-4097-b65e-f754de97e994\")) {                    Plotly.newPlot(                        \"69bcd3ca-8d60-4097-b65e-f754de97e994\",                        [{\"colorscale\":[[0.0,\"#636efa\"],[1.0,\"#636efa\"]],\"featureidkey\":\"properties.name\",\"geo\":\"geo\",\"geojson\":\"https://raw.githubusercontent.com/blackmad/neighborhoods/master/gn-pittsburgh.geojson\",\"hovertemplate\":\"scientific_name=Platanus x acerifolia<br>neighborhood=%{location}<extra></extra>\",\"locations\":[\"Allegheny Center\",\"Central Oakland\",\"Knoxville\",\"Lincoln-Lemington-Belmar\",\"Mount Washington\",\"North Oakland\",\"Point Breeze\",\"Regent Square\",\"Squirrel Hill North\",\"Squirrel Hill South\"],\"name\":\"Platanus x acerifolia\",\"showlegend\":true,\"showscale\":false,\"z\":[1,1,1,1,1,1,1,1,1,1],\"type\":\"choropleth\"},{\"colorscale\":[[0.0,\"#EF553B\"],[1.0,\"#EF553B\"]],\"featureidkey\":\"properties.name\",\"geo\":\"geo\",\"geojson\":\"https://raw.githubusercontent.com/blackmad/neighborhoods/master/gn-pittsburgh.geojson\",\"hovertemplate\":\"scientific_name=Pyrus calleryana<br>neighborhood=%{location}<extra></extra>\",\"locations\":[\"Allegheny West\",\"Allentown\",\"Bloomfield\",\"Crawford-Roberts\",\"Duquesne Heights\",\"East Allegheny\",\"Lower Lawrenceville\",\"Shadyside\",\"South Oakland\",\"South Side Flats\",\"Upper Lawrenceville\",\"West End\"],\"name\":\"Pyrus calleryana\",\"showlegend\":true,\"showscale\":false,\"z\":[1,1,1,1,1,1,1,1,1,1,1,1],\"type\":\"choropleth\"},{\"colorscale\":[[0.0,\"#00cc96\"],[1.0,\"#00cc96\"]],\"featureidkey\":\"properties.name\",\"geo\":\"geo\",\"geojson\":\"https://raw.githubusercontent.com/blackmad/neighborhoods/master/gn-pittsburgh.geojson\",\"hovertemplate\":\"scientific_name=Tsuga canadensis<br>neighborhood=%{location}<extra></extra>\",\"locations\":[\"Arlington\"],\"name\":\"Tsuga canadensis\",\"showlegend\":true,\"showscale\":false,\"z\":[1],\"type\":\"choropleth\"},{\"colorscale\":[[0.0,\"#ab63fa\"],[1.0,\"#ab63fa\"]],\"featureidkey\":\"properties.name\",\"geo\":\"geo\",\"geojson\":\"https://raw.githubusercontent.com/blackmad/neighborhoods/master/gn-pittsburgh.geojson\",\"hovertemplate\":\"scientific_name=Robinia pseudoacacia<br>neighborhood=%{location}<extra></extra>\",\"locations\":[\"Arlington Heights\",\"East Hills\"],\"name\":\"Robinia pseudoacacia\",\"showlegend\":true,\"showscale\":false,\"z\":[1,1],\"type\":\"choropleth\"},{\"colorscale\":[[0.0,\"#FFA15A\"],[1.0,\"#FFA15A\"]],\"featureidkey\":\"properties.name\",\"geo\":\"geo\",\"geojson\":\"https://raw.githubusercontent.com/blackmad/neighborhoods/master/gn-pittsburgh.geojson\",\"hovertemplate\":\"scientific_name=Liquidambar styraciflua<br>neighborhood=%{location}<extra></extra>\",\"locations\":[\"Banksville\"],\"name\":\"Liquidambar styraciflua\",\"showlegend\":true,\"showscale\":false,\"z\":[1],\"type\":\"choropleth\"},{\"colorscale\":[[0.0,\"#19d3f3\"],[1.0,\"#19d3f3\"]],\"featureidkey\":\"properties.name\",\"geo\":\"geo\",\"geojson\":\"https://raw.githubusercontent.com/blackmad/neighborhoods/master/gn-pittsburgh.geojson\",\"hovertemplate\":\"scientific_name=Acer x freemanii<br>neighborhood=%{location}<extra></extra>\",\"locations\":[\"Bedford Dwellings\"],\"name\":\"Acer x freemanii\",\"showlegend\":true,\"showscale\":false,\"z\":[1],\"type\":\"choropleth\"},{\"colorscale\":[[0.0,\"#FF6692\"],[1.0,\"#FF6692\"]],\"featureidkey\":\"properties.name\",\"geo\":\"geo\",\"geojson\":\"https://raw.githubusercontent.com/blackmad/neighborhoods/master/gn-pittsburgh.geojson\",\"hovertemplate\":\"scientific_name=Acer platanoides<br>neighborhood=%{location}<extra></extra>\",\"locations\":[\"Beechview\",\"Bon Air\",\"Brighton Heights\",\"Brookline\",\"Carrick\",\"Crafton Heights\",\"Elliott\",\"Fineview\",\"Friendship\",\"Hazelwood\",\"Highland Park\",\"Northview Heights\",\"Overbrook\",\"Perry North\",\"Perry South\",\"Spring Hill-City View\",\"Stanton Heights\",\"Summer Hill\",\"Windgap\"],\"name\":\"Acer platanoides\",\"showlegend\":true,\"showscale\":false,\"z\":[1,1,1,1,1,1,1,1,1,1,1,1,1,1,1,1,1,1,1],\"type\":\"choropleth\"},{\"colorscale\":[[0.0,\"#B6E880\"],[1.0,\"#B6E880\"]],\"featureidkey\":\"properties.name\",\"geo\":\"geo\",\"geojson\":\"https://raw.githubusercontent.com/blackmad/neighborhoods/master/gn-pittsburgh.geojson\",\"hovertemplate\":\"scientific_name=Tilia cordata<br>neighborhood=%{location}<extra></extra>\",\"locations\":[\"Beltzhoover\",\"California-Kirkbride\",\"Central Northside\",\"Chartiers City\",\"East Liberty\",\"Greenfield\",\"Larimer\",\"Oakwood\",\"Westwood\"],\"name\":\"Tilia cordata\",\"showlegend\":true,\"showscale\":false,\"z\":[1,1,1,1,1,1,1,1,1],\"type\":\"choropleth\"},{\"colorscale\":[[0.0,\"#FF97FF\"],[1.0,\"#FF97FF\"]],\"featureidkey\":\"properties.name\",\"geo\":\"geo\",\"geojson\":\"https://raw.githubusercontent.com/blackmad/neighborhoods/master/gn-pittsburgh.geojson\",\"hovertemplate\":\"scientific_name=Gleditsia triacanthos inermis<br>neighborhood=%{location}<extra></extra>\",\"locations\":[\"Bluff\",\"Central Business District\",\"Central Lawrenceville\",\"Chateau\",\"North Shore\",\"Strip District\",\"West Oakland\"],\"name\":\"Gleditsia triacanthos inermis\",\"showlegend\":true,\"showscale\":false,\"z\":[1,1,1,1,1,1,1],\"type\":\"choropleth\"},{\"colorscale\":[[0.0,\"#FECB52\"],[1.0,\"#FECB52\"]],\"featureidkey\":\"properties.name\",\"geo\":\"geo\",\"geojson\":\"https://raw.githubusercontent.com/blackmad/neighborhoods/master/gn-pittsburgh.geojson\",\"hovertemplate\":\"scientific_name=Vacant Site Small<br>neighborhood=%{location}<extra></extra>\",\"locations\":[\"East Carnegie\",\"Homewood South\",\"Homewood West\",\"Middle Hill\",\"Morningside\",\"Point Breeze North\",\"Upper Hill\"],\"name\":\"Vacant Site Small\",\"showlegend\":true,\"showscale\":false,\"z\":[1,1,1,1,1,1,1],\"type\":\"choropleth\"},{\"colorscale\":[[0.0,\"#636efa\"],[1.0,\"#636efa\"]],\"featureidkey\":\"properties.name\",\"geo\":\"geo\",\"geojson\":\"https://raw.githubusercontent.com/blackmad/neighborhoods/master/gn-pittsburgh.geojson\",\"hovertemplate\":\"scientific_name=Acer rubrum<br>neighborhood=%{location}<extra></extra>\",\"locations\":[\"Esplen\",\"Garfield\",\"Lincoln Place\",\"Manchester\",\"Sheraden\",\"Terrace Village\"],\"name\":\"Acer rubrum\",\"showlegend\":true,\"showscale\":false,\"z\":[1,1,1,1,1,1],\"type\":\"choropleth\"},{\"colorscale\":[[0.0,\"#EF553B\"],[1.0,\"#EF553B\"]],\"featureidkey\":\"properties.name\",\"geo\":\"geo\",\"geojson\":\"https://raw.githubusercontent.com/blackmad/neighborhoods/master/gn-pittsburgh.geojson\",\"hovertemplate\":\"scientific_name=Quercus palustris<br>neighborhood=%{location}<extra></extra>\",\"locations\":[\"Fairywood\",\"Marshall-Shadeland\",\"Swisshelm Park\"],\"name\":\"Quercus palustris\",\"showlegend\":true,\"showscale\":false,\"z\":[1,1,1],\"type\":\"choropleth\"},{\"colorscale\":[[0.0,\"#00cc96\"],[1.0,\"#00cc96\"]],\"featureidkey\":\"properties.name\",\"geo\":\"geo\",\"geojson\":\"https://raw.githubusercontent.com/blackmad/neighborhoods/master/gn-pittsburgh.geojson\",\"hovertemplate\":\"scientific_name=Fraxinus spp.<br>neighborhood=%{location}<extra></extra>\",\"locations\":[\"Glen Hazel\"],\"name\":\"Fraxinus spp.\",\"showlegend\":true,\"showscale\":false,\"z\":[1],\"type\":\"choropleth\"},{\"colorscale\":[[0.0,\"#ab63fa\"],[1.0,\"#ab63fa\"]],\"featureidkey\":\"properties.name\",\"geo\":\"geo\",\"geojson\":\"https://raw.githubusercontent.com/blackmad/neighborhoods/master/gn-pittsburgh.geojson\",\"hovertemplate\":\"scientific_name=Ulmus spp.<br>neighborhood=%{location}<extra></extra>\",\"locations\":[\"Hays\"],\"name\":\"Ulmus spp.\",\"showlegend\":true,\"showscale\":false,\"z\":[1],\"type\":\"choropleth\"},{\"colorscale\":[[0.0,\"#FFA15A\"],[1.0,\"#FFA15A\"]],\"featureidkey\":\"properties.name\",\"geo\":\"geo\",\"geojson\":\"https://raw.githubusercontent.com/blackmad/neighborhoods/master/gn-pittsburgh.geojson\",\"hovertemplate\":\"scientific_name=Vacant Site Not Suitable<br>neighborhood=%{location}<extra></extra>\",\"locations\":[\"Homewood North\"],\"name\":\"Vacant Site Not Suitable\",\"showlegend\":true,\"showscale\":false,\"z\":[1],\"type\":\"choropleth\"},{\"colorscale\":[[0.0,\"#19d3f3\"],[1.0,\"#19d3f3\"]],\"featureidkey\":\"properties.name\",\"geo\":\"geo\",\"geojson\":\"https://raw.githubusercontent.com/blackmad/neighborhoods/master/gn-pittsburgh.geojson\",\"hovertemplate\":\"scientific_name=Acer saccharum<br>neighborhood=%{location}<extra></extra>\",\"locations\":[\"Mt. Oliver\"],\"name\":\"Acer saccharum\",\"showlegend\":true,\"showscale\":false,\"z\":[1],\"type\":\"choropleth\"},{\"colorscale\":[[0.0,\"#FF6692\"],[1.0,\"#FF6692\"]],\"featureidkey\":\"properties.name\",\"geo\":\"geo\",\"geojson\":\"https://raw.githubusercontent.com/blackmad/neighborhoods/master/gn-pittsburgh.geojson\",\"hovertemplate\":\"scientific_name=Quercus rubra<br>neighborhood=%{location}<extra></extra>\",\"locations\":[\"New Homestead\"],\"name\":\"Quercus rubra\",\"showlegend\":true,\"showscale\":false,\"z\":[1],\"type\":\"choropleth\"},{\"colorscale\":[[0.0,\"#B6E880\"],[1.0,\"#B6E880\"]],\"featureidkey\":\"properties.name\",\"geo\":\"geo\",\"geojson\":\"https://raw.githubusercontent.com/blackmad/neighborhoods/master/gn-pittsburgh.geojson\",\"hovertemplate\":\"scientific_name=Ginkgo biloba<br>neighborhood=%{location}<extra></extra>\",\"locations\":[\"Polish Hill\",\"South Shore\",\"Spring Garden\"],\"name\":\"Ginkgo biloba\",\"showlegend\":true,\"showscale\":false,\"z\":[1,1,1],\"type\":\"choropleth\"},{\"colorscale\":[[0.0,\"#FF97FF\"],[1.0,\"#FF97FF\"]],\"featureidkey\":\"properties.name\",\"geo\":\"geo\",\"geojson\":\"https://raw.githubusercontent.com/blackmad/neighborhoods/master/gn-pittsburgh.geojson\",\"hovertemplate\":\"scientific_name=Pinus strobus<br>neighborhood=%{location}<extra></extra>\",\"locations\":[\"Ridgemont\"],\"name\":\"Pinus strobus\",\"showlegend\":true,\"showscale\":false,\"z\":[1],\"type\":\"choropleth\"},{\"colorscale\":[[0.0,\"#FECB52\"],[1.0,\"#FECB52\"]],\"featureidkey\":\"properties.name\",\"geo\":\"geo\",\"geojson\":\"https://raw.githubusercontent.com/blackmad/neighborhoods/master/gn-pittsburgh.geojson\",\"hovertemplate\":\"scientific_name=Acer tataricum<br>neighborhood=%{location}<extra></extra>\",\"locations\":[\"South Side Slopes\"],\"name\":\"Acer tataricum\",\"showlegend\":true,\"showscale\":false,\"z\":[1],\"type\":\"choropleth\"},{\"colorscale\":[[0.0,\"#636efa\"],[1.0,\"#636efa\"]],\"featureidkey\":\"properties.name\",\"geo\":\"geo\",\"geojson\":\"https://raw.githubusercontent.com/blackmad/neighborhoods/master/gn-pittsburgh.geojson\",\"hovertemplate\":\"scientific_name=Ulmus americana<br>neighborhood=%{location}<extra></extra>\",\"locations\":[\"St. Clair\"],\"name\":\"Ulmus americana\",\"showlegend\":true,\"showscale\":false,\"z\":[1],\"type\":\"choropleth\"},{\"colorscale\":[[0.0,\"#EF553B\"],[1.0,\"#EF553B\"]],\"featureidkey\":\"properties.name\",\"geo\":\"geo\",\"geojson\":\"https://raw.githubusercontent.com/blackmad/neighborhoods/master/gn-pittsburgh.geojson\",\"hovertemplate\":\"scientific_name=Cercis canadensis<br>neighborhood=%{location}<extra></extra>\",\"locations\":[\"Troy Hill\"],\"name\":\"Cercis canadensis\",\"showlegend\":true,\"showscale\":false,\"z\":[1],\"type\":\"choropleth\"}],                        {\"template\":{\"data\":{\"bar\":[{\"error_x\":{\"color\":\"#2a3f5f\"},\"error_y\":{\"color\":\"#2a3f5f\"},\"marker\":{\"line\":{\"color\":\"#E5ECF6\",\"width\":0.5},\"pattern\":{\"fillmode\":\"overlay\",\"size\":10,\"solidity\":0.2}},\"type\":\"bar\"}],\"barpolar\":[{\"marker\":{\"line\":{\"color\":\"#E5ECF6\",\"width\":0.5},\"pattern\":{\"fillmode\":\"overlay\",\"size\":10,\"solidity\":0.2}},\"type\":\"barpolar\"}],\"carpet\":[{\"aaxis\":{\"endlinecolor\":\"#2a3f5f\",\"gridcolor\":\"white\",\"linecolor\":\"white\",\"minorgridcolor\":\"white\",\"startlinecolor\":\"#2a3f5f\"},\"baxis\":{\"endlinecolor\":\"#2a3f5f\",\"gridcolor\":\"white\",\"linecolor\":\"white\",\"minorgridcolor\":\"white\",\"startlinecolor\":\"#2a3f5f\"},\"type\":\"carpet\"}],\"choropleth\":[{\"colorbar\":{\"outlinewidth\":0,\"ticks\":\"\"},\"type\":\"choropleth\"}],\"contour\":[{\"colorbar\":{\"outlinewidth\":0,\"ticks\":\"\"},\"colorscale\":[[0.0,\"#0d0887\"],[0.1111111111111111,\"#46039f\"],[0.2222222222222222,\"#7201a8\"],[0.3333333333333333,\"#9c179e\"],[0.4444444444444444,\"#bd3786\"],[0.5555555555555556,\"#d8576b\"],[0.6666666666666666,\"#ed7953\"],[0.7777777777777778,\"#fb9f3a\"],[0.8888888888888888,\"#fdca26\"],[1.0,\"#f0f921\"]],\"type\":\"contour\"}],\"contourcarpet\":[{\"colorbar\":{\"outlinewidth\":0,\"ticks\":\"\"},\"type\":\"contourcarpet\"}],\"heatmap\":[{\"colorbar\":{\"outlinewidth\":0,\"ticks\":\"\"},\"colorscale\":[[0.0,\"#0d0887\"],[0.1111111111111111,\"#46039f\"],[0.2222222222222222,\"#7201a8\"],[0.3333333333333333,\"#9c179e\"],[0.4444444444444444,\"#bd3786\"],[0.5555555555555556,\"#d8576b\"],[0.6666666666666666,\"#ed7953\"],[0.7777777777777778,\"#fb9f3a\"],[0.8888888888888888,\"#fdca26\"],[1.0,\"#f0f921\"]],\"type\":\"heatmap\"}],\"heatmapgl\":[{\"colorbar\":{\"outlinewidth\":0,\"ticks\":\"\"},\"colorscale\":[[0.0,\"#0d0887\"],[0.1111111111111111,\"#46039f\"],[0.2222222222222222,\"#7201a8\"],[0.3333333333333333,\"#9c179e\"],[0.4444444444444444,\"#bd3786\"],[0.5555555555555556,\"#d8576b\"],[0.6666666666666666,\"#ed7953\"],[0.7777777777777778,\"#fb9f3a\"],[0.8888888888888888,\"#fdca26\"],[1.0,\"#f0f921\"]],\"type\":\"heatmapgl\"}],\"histogram\":[{\"marker\":{\"pattern\":{\"fillmode\":\"overlay\",\"size\":10,\"solidity\":0.2}},\"type\":\"histogram\"}],\"histogram2d\":[{\"colorbar\":{\"outlinewidth\":0,\"ticks\":\"\"},\"colorscale\":[[0.0,\"#0d0887\"],[0.1111111111111111,\"#46039f\"],[0.2222222222222222,\"#7201a8\"],[0.3333333333333333,\"#9c179e\"],[0.4444444444444444,\"#bd3786\"],[0.5555555555555556,\"#d8576b\"],[0.6666666666666666,\"#ed7953\"],[0.7777777777777778,\"#fb9f3a\"],[0.8888888888888888,\"#fdca26\"],[1.0,\"#f0f921\"]],\"type\":\"histogram2d\"}],\"histogram2dcontour\":[{\"colorbar\":{\"outlinewidth\":0,\"ticks\":\"\"},\"colorscale\":[[0.0,\"#0d0887\"],[0.1111111111111111,\"#46039f\"],[0.2222222222222222,\"#7201a8\"],[0.3333333333333333,\"#9c179e\"],[0.4444444444444444,\"#bd3786\"],[0.5555555555555556,\"#d8576b\"],[0.6666666666666666,\"#ed7953\"],[0.7777777777777778,\"#fb9f3a\"],[0.8888888888888888,\"#fdca26\"],[1.0,\"#f0f921\"]],\"type\":\"histogram2dcontour\"}],\"mesh3d\":[{\"colorbar\":{\"outlinewidth\":0,\"ticks\":\"\"},\"type\":\"mesh3d\"}],\"parcoords\":[{\"line\":{\"colorbar\":{\"outlinewidth\":0,\"ticks\":\"\"}},\"type\":\"parcoords\"}],\"pie\":[{\"automargin\":true,\"type\":\"pie\"}],\"scatter\":[{\"marker\":{\"colorbar\":{\"outlinewidth\":0,\"ticks\":\"\"}},\"type\":\"scatter\"}],\"scatter3d\":[{\"line\":{\"colorbar\":{\"outlinewidth\":0,\"ticks\":\"\"}},\"marker\":{\"colorbar\":{\"outlinewidth\":0,\"ticks\":\"\"}},\"type\":\"scatter3d\"}],\"scattercarpet\":[{\"marker\":{\"colorbar\":{\"outlinewidth\":0,\"ticks\":\"\"}},\"type\":\"scattercarpet\"}],\"scattergeo\":[{\"marker\":{\"colorbar\":{\"outlinewidth\":0,\"ticks\":\"\"}},\"type\":\"scattergeo\"}],\"scattergl\":[{\"marker\":{\"colorbar\":{\"outlinewidth\":0,\"ticks\":\"\"}},\"type\":\"scattergl\"}],\"scattermapbox\":[{\"marker\":{\"colorbar\":{\"outlinewidth\":0,\"ticks\":\"\"}},\"type\":\"scattermapbox\"}],\"scatterpolar\":[{\"marker\":{\"colorbar\":{\"outlinewidth\":0,\"ticks\":\"\"}},\"type\":\"scatterpolar\"}],\"scatterpolargl\":[{\"marker\":{\"colorbar\":{\"outlinewidth\":0,\"ticks\":\"\"}},\"type\":\"scatterpolargl\"}],\"scatterternary\":[{\"marker\":{\"colorbar\":{\"outlinewidth\":0,\"ticks\":\"\"}},\"type\":\"scatterternary\"}],\"surface\":[{\"colorbar\":{\"outlinewidth\":0,\"ticks\":\"\"},\"colorscale\":[[0.0,\"#0d0887\"],[0.1111111111111111,\"#46039f\"],[0.2222222222222222,\"#7201a8\"],[0.3333333333333333,\"#9c179e\"],[0.4444444444444444,\"#bd3786\"],[0.5555555555555556,\"#d8576b\"],[0.6666666666666666,\"#ed7953\"],[0.7777777777777778,\"#fb9f3a\"],[0.8888888888888888,\"#fdca26\"],[1.0,\"#f0f921\"]],\"type\":\"surface\"}],\"table\":[{\"cells\":{\"fill\":{\"color\":\"#EBF0F8\"},\"line\":{\"color\":\"white\"}},\"header\":{\"fill\":{\"color\":\"#C8D4E3\"},\"line\":{\"color\":\"white\"}},\"type\":\"table\"}]},\"layout\":{\"annotationdefaults\":{\"arrowcolor\":\"#2a3f5f\",\"arrowhead\":0,\"arrowwidth\":1},\"autotypenumbers\":\"strict\",\"coloraxis\":{\"colorbar\":{\"outlinewidth\":0,\"ticks\":\"\"}},\"colorscale\":{\"diverging\":[[0,\"#8e0152\"],[0.1,\"#c51b7d\"],[0.2,\"#de77ae\"],[0.3,\"#f1b6da\"],[0.4,\"#fde0ef\"],[0.5,\"#f7f7f7\"],[0.6,\"#e6f5d0\"],[0.7,\"#b8e186\"],[0.8,\"#7fbc41\"],[0.9,\"#4d9221\"],[1,\"#276419\"]],\"sequential\":[[0.0,\"#0d0887\"],[0.1111111111111111,\"#46039f\"],[0.2222222222222222,\"#7201a8\"],[0.3333333333333333,\"#9c179e\"],[0.4444444444444444,\"#bd3786\"],[0.5555555555555556,\"#d8576b\"],[0.6666666666666666,\"#ed7953\"],[0.7777777777777778,\"#fb9f3a\"],[0.8888888888888888,\"#fdca26\"],[1.0,\"#f0f921\"]],\"sequentialminus\":[[0.0,\"#0d0887\"],[0.1111111111111111,\"#46039f\"],[0.2222222222222222,\"#7201a8\"],[0.3333333333333333,\"#9c179e\"],[0.4444444444444444,\"#bd3786\"],[0.5555555555555556,\"#d8576b\"],[0.6666666666666666,\"#ed7953\"],[0.7777777777777778,\"#fb9f3a\"],[0.8888888888888888,\"#fdca26\"],[1.0,\"#f0f921\"]]},\"colorway\":[\"#636efa\",\"#EF553B\",\"#00cc96\",\"#ab63fa\",\"#FFA15A\",\"#19d3f3\",\"#FF6692\",\"#B6E880\",\"#FF97FF\",\"#FECB52\"],\"font\":{\"color\":\"#2a3f5f\"},\"geo\":{\"bgcolor\":\"white\",\"lakecolor\":\"white\",\"landcolor\":\"#E5ECF6\",\"showlakes\":true,\"showland\":true,\"subunitcolor\":\"white\"},\"hoverlabel\":{\"align\":\"left\"},\"hovermode\":\"closest\",\"mapbox\":{\"style\":\"light\"},\"paper_bgcolor\":\"white\",\"plot_bgcolor\":\"#E5ECF6\",\"polar\":{\"angularaxis\":{\"gridcolor\":\"white\",\"linecolor\":\"white\",\"ticks\":\"\"},\"bgcolor\":\"#E5ECF6\",\"radialaxis\":{\"gridcolor\":\"white\",\"linecolor\":\"white\",\"ticks\":\"\"}},\"scene\":{\"xaxis\":{\"backgroundcolor\":\"#E5ECF6\",\"gridcolor\":\"white\",\"gridwidth\":2,\"linecolor\":\"white\",\"showbackground\":true,\"ticks\":\"\",\"zerolinecolor\":\"white\"},\"yaxis\":{\"backgroundcolor\":\"#E5ECF6\",\"gridcolor\":\"white\",\"gridwidth\":2,\"linecolor\":\"white\",\"showbackground\":true,\"ticks\":\"\",\"zerolinecolor\":\"white\"},\"zaxis\":{\"backgroundcolor\":\"#E5ECF6\",\"gridcolor\":\"white\",\"gridwidth\":2,\"linecolor\":\"white\",\"showbackground\":true,\"ticks\":\"\",\"zerolinecolor\":\"white\"}},\"shapedefaults\":{\"line\":{\"color\":\"#2a3f5f\"}},\"ternary\":{\"aaxis\":{\"gridcolor\":\"white\",\"linecolor\":\"white\",\"ticks\":\"\"},\"baxis\":{\"gridcolor\":\"white\",\"linecolor\":\"white\",\"ticks\":\"\"},\"bgcolor\":\"#E5ECF6\",\"caxis\":{\"gridcolor\":\"white\",\"linecolor\":\"white\",\"ticks\":\"\"}},\"title\":{\"x\":0.05},\"xaxis\":{\"automargin\":true,\"gridcolor\":\"white\",\"linecolor\":\"white\",\"ticks\":\"\",\"title\":{\"standoff\":15},\"zerolinecolor\":\"white\",\"zerolinewidth\":2},\"yaxis\":{\"automargin\":true,\"gridcolor\":\"white\",\"linecolor\":\"white\",\"ticks\":\"\",\"title\":{\"standoff\":15},\"zerolinecolor\":\"white\",\"zerolinewidth\":2}}},\"geo\":{\"domain\":{\"x\":[0.0,1.0],\"y\":[0.0,1.0]},\"center\":{},\"fitbounds\":\"locations\",\"visible\":false},\"legend\":{\"title\":{\"text\":\"scientific_name\"},\"tracegroupgap\":0},\"title\":{\"text\":\"Most prevalent species in each Neighborhood\"},\"height\":700},                        {\"responsive\": true}                    ).then(function(){\n",
       "                            \n",
       "var gd = document.getElementById('69bcd3ca-8d60-4097-b65e-f754de97e994');\n",
       "var x = new MutationObserver(function (mutations, observer) {{\n",
       "        var display = window.getComputedStyle(gd).display;\n",
       "        if (!display || display === 'none') {{\n",
       "            console.log([gd, 'removed!']);\n",
       "            Plotly.purge(gd);\n",
       "            observer.disconnect();\n",
       "        }}\n",
       "}});\n",
       "\n",
       "// Listen for the removal of the full notebook cells\n",
       "var notebookContainer = gd.closest('#notebook-container');\n",
       "if (notebookContainer) {{\n",
       "    x.observe(notebookContainer, {childList: true});\n",
       "}}\n",
       "\n",
       "// Listen for the clearing of the current output cell\n",
       "var outputEl = gd.closest('.output');\n",
       "if (outputEl) {{\n",
       "    x.observe(outputEl, {childList: true});\n",
       "}}\n",
       "\n",
       "                        })                };                            </script>        </div>\n",
       "</body>\n",
       "</html>"
      ]
     },
     "metadata": {},
     "output_type": "display_data"
    }
   ],
   "source": [
    "fig=px.choropleth(prevalent_species,\n",
    "             geojson=\"https://raw.githubusercontent.com/blackmad/neighborhoods/master/gn-pittsburgh.geojson\",\n",
    "             featureidkey='properties.name',   \n",
    "             locations='neighborhood',        #column in dataframe\n",
    "             color='common_name',\n",
    "              color_continuous_scale='Inferno',\n",
    "               title='Most prevalent species in each Neighborhood' ,  \n",
    "               height=700\n",
    "              )\n",
    "fig.update_geos(fitbounds=\"locations\", visible=False)\n",
    "fig.show()"
   ]
  },
  {
   "cell_type": "markdown",
   "metadata": {
    "id": "oLrQZApziNsQ"
   },
   "source": [
    "The top 5 tree species that are the most prevalant in many neighborhoods"
   ]
  },
  {
   "cell_type": "code",
   "execution_count": 19,
   "metadata": {
    "colab": {
     "base_uri": "https://localhost:8080/",
     "height": 204
    },
    "id": "hUbEr6uwiDv_",
    "outputId": "5c5d57e4-7cdc-4304-f77a-87fb1e614094"
   },
   "outputs": [
    {
     "data": {
      "text/html": [
       "<div>\n",
       "<style scoped>\n",
       "    .dataframe tbody tr th:only-of-type {\n",
       "        vertical-align: middle;\n",
       "    }\n",
       "\n",
       "    .dataframe tbody tr th {\n",
       "        vertical-align: top;\n",
       "    }\n",
       "\n",
       "    .dataframe thead th {\n",
       "        text-align: right;\n",
       "    }\n",
       "</style>\n",
       "<table border=\"1\" class=\"dataframe\">\n",
       "  <thead>\n",
       "    <tr style=\"text-align: right;\">\n",
       "      <th></th>\n",
       "      <th>common_name</th>\n",
       "      <th>id</th>\n",
       "    </tr>\n",
       "  </thead>\n",
       "  <tbody>\n",
       "    <tr>\n",
       "      <th>11</th>\n",
       "      <td>Maple: Norway</td>\n",
       "      <td>18</td>\n",
       "    </tr>\n",
       "    <tr>\n",
       "      <th>17</th>\n",
       "      <td>Pear: Callery</td>\n",
       "      <td>12</td>\n",
       "    </tr>\n",
       "    <tr>\n",
       "      <th>9</th>\n",
       "      <td>London planetree</td>\n",
       "      <td>10</td>\n",
       "    </tr>\n",
       "    <tr>\n",
       "      <th>7</th>\n",
       "      <td>Linden: Littleleaf</td>\n",
       "      <td>9</td>\n",
       "    </tr>\n",
       "    <tr>\n",
       "      <th>6</th>\n",
       "      <td>Honeylocust: Thornless</td>\n",
       "      <td>7</td>\n",
       "    </tr>\n",
       "  </tbody>\n",
       "</table>\n",
       "</div>"
      ],
      "text/plain": [
       "               common_name  id\n",
       "11           Maple: Norway  18\n",
       "17           Pear: Callery  12\n",
       "9         London planetree  10\n",
       "7       Linden: Littleleaf   9\n",
       "6   Honeylocust: Thornless   7"
      ]
     },
     "execution_count": 19,
     "metadata": {},
     "output_type": "execute_result"
    }
   ],
   "source": [
    "overall_prevalent = prevalent_species.groupby(['common_name'])['id'].count()\n",
    "overall_prevalent = overall_prevalent.to_frame().reset_index()\n",
    "overall_prevalent = overall_prevalent.sort_values(by=['id'], ascending = False)\n",
    "overall_prevalent.head(5)"
   ]
  },
  {
   "cell_type": "markdown",
   "metadata": {
    "id": "tF8PgqwaisIT"
   },
   "source": [
    "**Inference:** It can be seen that Maple:Norway is the most prevalent species in 18 neighborhoods, followed by Pear:Callery which is the most prevalent in 12 neighborhoods and then London planetree which is the most prevalent in 10 neighborhoods and so on."
   ]
  },
  {
   "cell_type": "markdown",
   "metadata": {
    "id": "kjy9QwizttZa"
   },
   "source": [
    "**<h3>Distribution of species across neighborhoods</h3>**\n"
   ]
  },
  {
   "cell_type": "code",
   "execution_count": 57,
   "metadata": {
    "colab": {
     "base_uri": "https://localhost:8080/",
     "height": 419
    },
    "id": "TkdoDkfvj7qe",
    "outputId": "9ec0eef4-51ac-4210-fe9d-20c23c933adb"
   },
   "outputs": [
    {
     "data": {
      "text/html": [
       "<div>\n",
       "<style scoped>\n",
       "    .dataframe tbody tr th:only-of-type {\n",
       "        vertical-align: middle;\n",
       "    }\n",
       "\n",
       "    .dataframe tbody tr th {\n",
       "        vertical-align: top;\n",
       "    }\n",
       "\n",
       "    .dataframe thead th {\n",
       "        text-align: right;\n",
       "    }\n",
       "</style>\n",
       "<table border=\"1\" class=\"dataframe\">\n",
       "  <thead>\n",
       "    <tr style=\"text-align: right;\">\n",
       "      <th></th>\n",
       "      <th>common_name</th>\n",
       "      <th>id</th>\n",
       "    </tr>\n",
       "  </thead>\n",
       "  <tbody>\n",
       "    <tr>\n",
       "      <th>118</th>\n",
       "      <td>Maple: Norway</td>\n",
       "      <td>3717</td>\n",
       "    </tr>\n",
       "    <tr>\n",
       "      <th>120</th>\n",
       "      <td>Maple: Red</td>\n",
       "      <td>3421</td>\n",
       "    </tr>\n",
       "    <tr>\n",
       "      <th>103</th>\n",
       "      <td>London planetree</td>\n",
       "      <td>3224</td>\n",
       "    </tr>\n",
       "    <tr>\n",
       "      <th>156</th>\n",
       "      <td>Pear: Callery</td>\n",
       "      <td>2969</td>\n",
       "    </tr>\n",
       "    <tr>\n",
       "      <th>217</th>\n",
       "      <td>Vacant Site Small</td>\n",
       "      <td>2418</td>\n",
       "    </tr>\n",
       "    <tr>\n",
       "      <th>...</th>\n",
       "      <td>...</td>\n",
       "      <td>...</td>\n",
       "    </tr>\n",
       "    <tr>\n",
       "      <th>190</th>\n",
       "      <td>Serviceberry: spp.</td>\n",
       "      <td>66</td>\n",
       "    </tr>\n",
       "    <tr>\n",
       "      <th>202</th>\n",
       "      <td>Spruce: White</td>\n",
       "      <td>59</td>\n",
       "    </tr>\n",
       "    <tr>\n",
       "      <th>87</th>\n",
       "      <td>Hophornbeam: American</td>\n",
       "      <td>58</td>\n",
       "    </tr>\n",
       "    <tr>\n",
       "      <th>143</th>\n",
       "      <td>Oak: Sawtooth</td>\n",
       "      <td>57</td>\n",
       "    </tr>\n",
       "    <tr>\n",
       "      <th>106</th>\n",
       "      <td>Magnolia: Saucer</td>\n",
       "      <td>55</td>\n",
       "    </tr>\n",
       "  </tbody>\n",
       "</table>\n",
       "<p>79 rows × 2 columns</p>\n",
       "</div>"
      ],
      "text/plain": [
       "               common_name    id\n",
       "118          Maple: Norway  3717\n",
       "120             Maple: Red  3421\n",
       "103       London planetree  3224\n",
       "156          Pear: Callery  2969\n",
       "217      Vacant Site Small  2418\n",
       "..                     ...   ...\n",
       "190     Serviceberry: spp.    66\n",
       "202          Spruce: White    59\n",
       "87   Hophornbeam: American    58\n",
       "143          Oak: Sawtooth    57\n",
       "106       Magnolia: Saucer    55\n",
       "\n",
       "[79 rows x 2 columns]"
      ]
     },
     "execution_count": 57,
     "metadata": {},
     "output_type": "execute_result"
    }
   ],
   "source": [
    "#Selecting tree species whose count is more than 50\n",
    "df_trees_thresh = df_trees.groupby(['common_name'])['id'].count()\n",
    "df_trees_thresh1 = df_trees_thresh.to_frame().reset_index()\n",
    "df_trees_thresh1 = df_trees_thresh1.sort_values(by=['id'], ascending = False)\n",
    "df_trees_thresh1 = df_trees_thresh1[df_trees_thresh1['id'] > 50]\n",
    "df_trees_thresh1"
   ]
  },
  {
   "cell_type": "markdown",
   "metadata": {
    "id": "MuCE6FwPpHo4"
   },
   "source": [
    "**Run the following cell and select a species from the dropdown menu and run the following cells to visualize the distribution of the selected species across the neighborhoods of Pittsburgh.**"
   ]
  },
  {
   "cell_type": "code",
   "execution_count": 48,
   "metadata": {
    "colab": {
     "base_uri": "https://localhost:8080/",
     "height": 100,
     "referenced_widgets": [
      "9f346d231c4048c4a03281e6d606c7cd",
      "614c41f9cdc14644b14faa1b861192d3",
      "436e58c886d14de3ba480468577f006e"
     ]
    },
    "id": "W8A13FoDdknL",
    "outputId": "ea47aded-2a26-490d-af59-ff077af2426f"
   },
   "outputs": [
    {
     "name": "stdout",
     "output_type": "stream",
     "text": [
      "\n",
      "Select a species\n",
      "\n"
     ]
    },
    {
     "data": {
      "application/vnd.jupyter.widget-view+json": {
       "model_id": "9f346d231c4048c4a03281e6d606c7cd",
       "version_major": 2,
       "version_minor": 0
      },
      "text/plain": [
       "Dropdown(description='Species:', options=('Maple: Norway', 'Maple: Red', 'London planetree', 'Pear: Callery', …"
      ]
     },
     "metadata": {},
     "output_type": "display_data"
    }
   ],
   "source": [
    "#Run this cell\n",
    "#Select a species from the dropdown menu\n",
    "#Run the following cells\n",
    "selected_spec = widgets.Dropdown(options = df_trees_thresh1.common_name, value=None, description='Species:')\n",
    "print(\"\\nSelect a species\\n\")\n",
    "display(selected_spec)"
   ]
  },
  {
   "cell_type": "code",
   "execution_count": 50,
   "metadata": {
    "colab": {
     "base_uri": "https://localhost:8080/",
     "height": 419
    },
    "id": "pE0sbjCUWZiv",
    "outputId": "8ed6eed8-18d8-4324-9cf3-16400bdc9b9e"
   },
   "outputs": [
    {
     "data": {
      "text/html": [
       "<div>\n",
       "<style scoped>\n",
       "    .dataframe tbody tr th:only-of-type {\n",
       "        vertical-align: middle;\n",
       "    }\n",
       "\n",
       "    .dataframe tbody tr th {\n",
       "        vertical-align: top;\n",
       "    }\n",
       "\n",
       "    .dataframe thead th {\n",
       "        text-align: right;\n",
       "    }\n",
       "</style>\n",
       "<table border=\"1\" class=\"dataframe\">\n",
       "  <thead>\n",
       "    <tr style=\"text-align: right;\">\n",
       "      <th></th>\n",
       "      <th>common_name</th>\n",
       "      <th>neighborhood</th>\n",
       "      <th>count</th>\n",
       "    </tr>\n",
       "  </thead>\n",
       "  <tbody>\n",
       "    <tr>\n",
       "      <th>1968</th>\n",
       "      <td>Maple: Norway</td>\n",
       "      <td>Allegheny Center</td>\n",
       "      <td>48</td>\n",
       "    </tr>\n",
       "    <tr>\n",
       "      <th>1969</th>\n",
       "      <td>Maple: Norway</td>\n",
       "      <td>Allegheny West</td>\n",
       "      <td>21</td>\n",
       "    </tr>\n",
       "    <tr>\n",
       "      <th>1970</th>\n",
       "      <td>Maple: Norway</td>\n",
       "      <td>Allentown</td>\n",
       "      <td>9</td>\n",
       "    </tr>\n",
       "    <tr>\n",
       "      <th>1971</th>\n",
       "      <td>Maple: Norway</td>\n",
       "      <td>Arlington</td>\n",
       "      <td>9</td>\n",
       "    </tr>\n",
       "    <tr>\n",
       "      <th>1972</th>\n",
       "      <td>Maple: Norway</td>\n",
       "      <td>Banksville</td>\n",
       "      <td>39</td>\n",
       "    </tr>\n",
       "    <tr>\n",
       "      <th>...</th>\n",
       "      <td>...</td>\n",
       "      <td>...</td>\n",
       "      <td>...</td>\n",
       "    </tr>\n",
       "    <tr>\n",
       "      <th>2041</th>\n",
       "      <td>Maple: Norway</td>\n",
       "      <td>Upper Hill</td>\n",
       "      <td>18</td>\n",
       "    </tr>\n",
       "    <tr>\n",
       "      <th>2042</th>\n",
       "      <td>Maple: Norway</td>\n",
       "      <td>Upper Lawrenceville</td>\n",
       "      <td>26</td>\n",
       "    </tr>\n",
       "    <tr>\n",
       "      <th>2043</th>\n",
       "      <td>Maple: Norway</td>\n",
       "      <td>West End</td>\n",
       "      <td>12</td>\n",
       "    </tr>\n",
       "    <tr>\n",
       "      <th>2044</th>\n",
       "      <td>Maple: Norway</td>\n",
       "      <td>Westwood</td>\n",
       "      <td>26</td>\n",
       "    </tr>\n",
       "    <tr>\n",
       "      <th>2045</th>\n",
       "      <td>Maple: Norway</td>\n",
       "      <td>Windgap</td>\n",
       "      <td>18</td>\n",
       "    </tr>\n",
       "  </tbody>\n",
       "</table>\n",
       "<p>78 rows × 3 columns</p>\n",
       "</div>"
      ],
      "text/plain": [
       "        common_name         neighborhood  count\n",
       "1968  Maple: Norway     Allegheny Center     48\n",
       "1969  Maple: Norway       Allegheny West     21\n",
       "1970  Maple: Norway            Allentown      9\n",
       "1971  Maple: Norway            Arlington      9\n",
       "1972  Maple: Norway           Banksville     39\n",
       "...             ...                  ...    ...\n",
       "2041  Maple: Norway           Upper Hill     18\n",
       "2042  Maple: Norway  Upper Lawrenceville     26\n",
       "2043  Maple: Norway             West End     12\n",
       "2044  Maple: Norway             Westwood     26\n",
       "2045  Maple: Norway              Windgap     18\n",
       "\n",
       "[78 rows x 3 columns]"
      ]
     },
     "execution_count": 50,
     "metadata": {},
     "output_type": "execute_result"
    }
   ],
   "source": [
    "df_spec = df_trees.groupby(['common_name', 'neighborhood'])['id'].count()\n",
    "df_spec = df_spec.to_frame().reset_index()\n",
    "df_spec = df_spec.loc[df_spec['common_name'] == selected_spec.value]\n",
    "#df_spec['percent'] = ((df_spec['id']/df_spec['id'].sum()) * 100)\n",
    "df_spec = df_spec.rename(columns={\"id\": \"count\"})\n",
    "df_spec"
   ]
  },
  {
   "cell_type": "code",
   "execution_count": 51,
   "metadata": {
    "colab": {
     "base_uri": "https://localhost:8080/",
     "height": 375
    },
    "id": "G3E1V9sRxrZP",
    "outputId": "cbdc7500-8e93-40f1-a0a6-61a8d684fefb"
   },
   "outputs": [
    {
     "data": {
      "image/png": "[encoded data removed]",
      "text/plain": [
       "<Figure size 432x288 with 1 Axes>"
      ]
     },
     "metadata": {
      "needs_background": "light"
     },
     "output_type": "display_data"
    }
   ],
   "source": [
    "str1 = \"Neighborhoods with the most number of \" + str(selected_spec.value) + \" trees in pittsburgh\"\n",
    "df_spec1 = df_spec.sort_values(by=['count'], ascending = False)\n",
    "df_spec1 = df_spec1.head(5)\n",
    "ax = df_spec1.plot.bar(x='neighborhood', y='count', rot='vertical', ylabel = 'Number of trees', title= str1)\n"
   ]
  },
  {
   "cell_type": "code",
   "execution_count": 55,
   "metadata": {
    "colab": {
     "base_uri": "https://localhost:8080/",
     "height": 419
    },
    "id": "WjVI7RPlnpS7",
    "outputId": "088993de-aecb-4d66-b040-9d10fd10e8a2"
   },
   "outputs": [
    {
     "data": {
      "text/html": [
       "<div>\n",
       "<style scoped>\n",
       "    .dataframe tbody tr th:only-of-type {\n",
       "        vertical-align: middle;\n",
       "    }\n",
       "\n",
       "    .dataframe tbody tr th {\n",
       "        vertical-align: top;\n",
       "    }\n",
       "\n",
       "    .dataframe thead th {\n",
       "        text-align: right;\n",
       "    }\n",
       "</style>\n",
       "<table border=\"1\" class=\"dataframe\">\n",
       "  <thead>\n",
       "    <tr style=\"text-align: right;\">\n",
       "      <th></th>\n",
       "      <th>neighborhood</th>\n",
       "      <th>count</th>\n",
       "    </tr>\n",
       "  </thead>\n",
       "  <tbody>\n",
       "    <tr>\n",
       "      <th>26</th>\n",
       "      <td>Squirrel Hill South</td>\n",
       "      <td>348.0</td>\n",
       "    </tr>\n",
       "    <tr>\n",
       "      <th>4</th>\n",
       "      <td>Highland Park</td>\n",
       "      <td>329.0</td>\n",
       "    </tr>\n",
       "    <tr>\n",
       "      <th>42</th>\n",
       "      <td>Squirrel Hill North</td>\n",
       "      <td>153.0</td>\n",
       "    </tr>\n",
       "    <tr>\n",
       "      <th>5</th>\n",
       "      <td>Stanton Heights</td>\n",
       "      <td>142.0</td>\n",
       "    </tr>\n",
       "    <tr>\n",
       "      <th>28</th>\n",
       "      <td>Brighton Heights</td>\n",
       "      <td>125.0</td>\n",
       "    </tr>\n",
       "    <tr>\n",
       "      <th>...</th>\n",
       "      <td>...</td>\n",
       "      <td>...</td>\n",
       "    </tr>\n",
       "    <tr>\n",
       "      <th>37</th>\n",
       "      <td>Bedford Dwellings</td>\n",
       "      <td>0.0</td>\n",
       "    </tr>\n",
       "    <tr>\n",
       "      <th>77</th>\n",
       "      <td>Fairywood</td>\n",
       "      <td>0.0</td>\n",
       "    </tr>\n",
       "    <tr>\n",
       "      <th>62</th>\n",
       "      <td>Terrace Village</td>\n",
       "      <td>0.0</td>\n",
       "    </tr>\n",
       "    <tr>\n",
       "      <th>35</th>\n",
       "      <td>Arlington Heights</td>\n",
       "      <td>0.0</td>\n",
       "    </tr>\n",
       "    <tr>\n",
       "      <th>89</th>\n",
       "      <td>Hays</td>\n",
       "      <td>0.0</td>\n",
       "    </tr>\n",
       "  </tbody>\n",
       "</table>\n",
       "<p>90 rows × 2 columns</p>\n",
       "</div>"
      ],
      "text/plain": [
       "           neighborhood  count\n",
       "26  Squirrel Hill South  348.0\n",
       "4         Highland Park  329.0\n",
       "42  Squirrel Hill North  153.0\n",
       "5       Stanton Heights  142.0\n",
       "28     Brighton Heights  125.0\n",
       "..                  ...    ...\n",
       "37    Bedford Dwellings    0.0\n",
       "77            Fairywood    0.0\n",
       "62      Terrace Village    0.0\n",
       "35    Arlington Heights    0.0\n",
       "89                 Hays    0.0\n",
       "\n",
       "[90 rows x 2 columns]"
      ]
     },
     "execution_count": 55,
     "metadata": {},
     "output_type": "execute_result"
    }
   ],
   "source": [
    "full_neigh = pd.DataFrame({'neighborhood' : df_trees['neighborhood'].unique()})\n",
    "full_neigh = full_neigh.rename(columns={\"id\": \"count\"})\n",
    "full_neigh = full_neigh.merge(df_spec, how = 'outer', on = ['neighborhood'])\n",
    "full_neigh['count'] = full_neigh['count'].fillna(0)\n",
    "full_neigh = full_neigh.drop('common_name', 1)\n",
    "full_neigh.sort_values(['count'], ascending= False)"
   ]
  },
  {
   "cell_type": "markdown",
   "metadata": {
    "id": "yKc38Zsgri-c"
   },
   "source": [
    "<h4>Choropleth map showing the distribution of the selected species across the neighborhoods of Pittsburgh</h4>"
   ]
  },
  {
   "cell_type": "code",
   "execution_count": 56,
   "metadata": {
    "colab": {
     "base_uri": "https://localhost:8080/",
     "height": 717
    },
    "id": "3r4Z5mnJgBH3",
    "outputId": "9b0df257-0eaa-4c93-addd-b197e1de1570"
   },
   "outputs": [
    {
     "data": {
      "text/html": [
       "<html>\n",
       "<head><meta charset=\"utf-8\" /></head>\n",
       "<body>\n",
       "    <div>            <script src=\"https://cdnjs.cloudflare.com/ajax/libs/mathjax/2.7.5/MathJax.js?config=TeX-AMS-MML_SVG\"></script><script type=\"text/javascript\">if (window.MathJax) {MathJax.Hub.Config({SVG: {font: \"STIX-Web\"}});}</script>                <script type=\"text/javascript\">window.PlotlyConfig = {MathJaxConfig: 'local'};</script>\n",
       "        <script src=\"https://cdn.plot.ly/plotly-2.6.3.min.js\"></script>                <div id=\"1e56687b-f4a2-4211-bec8-b880ebc67d67\" class=\"plotly-graph-div\" style=\"height:700px; width:100%;\"></div>            <script type=\"text/javascript\">                                    window.PLOTLYENV=window.PLOTLYENV || {};                                    if (document.getElementById(\"1e56687b-f4a2-4211-bec8-b880ebc67d67\")) {                    Plotly.newPlot(                        \"1e56687b-f4a2-4211-bec8-b880ebc67d67\",                        [{\"coloraxis\":\"coloraxis\",\"featureidkey\":\"properties.name\",\"geo\":\"geo\",\"geojson\":\"https://raw.githubusercontent.com/blackmad/neighborhoods/master/gn-pittsburgh.geojson\",\"hovertemplate\":\"neighborhood=%{location}<br>count=%{z}<extra></extra>\",\"locations\":[\"Homewood North\",\"Oakwood\",\"South Side Flats\",\"East Allegheny\",\"Highland Park\",\"Stanton Heights\",\"Sheraden\",\"Chartiers City\",\"Elliott\",\"Morningside\",\"Bloomfield\",\"Friendship\",\"Garfield\",\"Polish Hill\",\"Lower Lawrenceville\",\"Central Northside\",\"East Liberty\",\"Central Lawrenceville\",\"Shadyside\",\"Allegheny Center\",\"Homewood South\",\"Point Breeze North\",\"East Hills\",\"Homewood West\",\"Greenfield\",\"Hazelwood\",\"Squirrel Hill South\",\"Marshall-Shadeland\",\"Brighton Heights\",\"North Shore\",\"Overbrook\",\"Knoxville\",\"Brookline\",\"South Side Slopes\",\"Arlington\",\"Arlington Heights\",\"Carrick\",\"Bedford Dwellings\",\"Central Business District\",\"Bluff\",\"West Oakland\",\"South Oakland\",\"Squirrel Hill North\",\"Point Breeze\",\"Lincoln-Lemington-Belmar\",\"Bon Air\",\"Mount Washington\",\"California-Kirkbride\",\"New Homestead\",\"Central Oakland\",\"Crafton Heights\",\"Beechview\",\"Manchester\",\"Allentown\",\"Beltzhoover\",\"Allegheny West\",\"Chateau\",\"Duquesne Heights\",\"Perry North\",\"Perry South\",\"Middle Hill\",\"Troy Hill\",\"Terrace Village\",\"Upper Hill\",\"North Oakland\",\"Fineview\",\"Strip District\",\"Windgap\",\"Crawford-Roberts\",\"Larimer\",\"Lincoln Place\",\"Regent Square\",\"Banksville\",\"Swisshelm Park\",\"Spring Garden\",\"Spring Hill-City View\",\"Westwood\",\"Fairywood\",\"Summer Hill\",\"West End\",\"Upper Lawrenceville\",\"Ridgemont\",\"Esplen\",\"East Carnegie\",\"South Shore\",\"St. Clair\",\"Mt. Oliver\",\"Northview Heights\",\"Glen Hazel\",\"Hays\"],\"name\":\"\",\"z\":[32.0,10.0,89.0,54.0,329.0,142.0,46.0,2.0,25.0,48.0,125.0,44.0,20.0,25.0,19.0,71.0,32.0,46.0,119.0,48.0,36.0,39.0,48.0,10.0,63.0,86.0,348.0,40.0,125.0,0.0,34.0,64.0,106.0,15.0,9.0,0.0,70.0,0.0,7.0,21.0,0.0,8.0,153.0,85.0,45.0,26.0,89.0,8.0,17.0,25.0,97.0,92.0,42.0,9.0,21.0,21.0,10.0,9.0,114.0,55.0,14.0,3.0,0.0,18.0,26.0,18.0,4.0,18.0,4.0,18.0,24.0,36.0,39.0,14.0,5.0,21.0,26.0,0.0,14.0,12.0,26.0,2.0,0.0,1.0,0.0,0.0,0.0,1.0,0.0,0.0],\"type\":\"choropleth\"}],                        {\"geo\":{\"domain\":{\"x\":[0.0,1.0],\"y\":[0.0,1.0]},\"center\":{},\"fitbounds\":\"locations\",\"visible\":false},\"coloraxis\":{\"colorbar\":{\"title\":{\"text\":\"count\"}},\"colorscale\":[[0.0,\"rgb(247,251,255)\"],[0.125,\"rgb(222,235,247)\"],[0.25,\"rgb(198,219,239)\"],[0.375,\"rgb(158,202,225)\"],[0.5,\"rgb(107,174,214)\"],[0.625,\"rgb(66,146,198)\"],[0.75,\"rgb(33,113,181)\"],[0.875,\"rgb(8,81,156)\"],[1.0,\"rgb(8,48,107)\"]]},\"legend\":{\"tracegroupgap\":0},\"title\":{\"text\":\"Distribution of Maple: Norway across neighborhoods of Pittsburgh\"},\"height\":700},                        {\"responsive\": true}                    ).then(function(){\n",
       "                            \n",
       "var gd = document.getElementById('1e56687b-f4a2-4211-bec8-b880ebc67d67');\n",
       "var x = new MutationObserver(function (mutations, observer) {{\n",
       "        var display = window.getComputedStyle(gd).display;\n",
       "        if (!display || display === 'none') {{\n",
       "            console.log([gd, 'removed!']);\n",
       "            Plotly.purge(gd);\n",
       "            observer.disconnect();\n",
       "        }}\n",
       "}});\n",
       "\n",
       "// Listen for the removal of the full notebook cells\n",
       "var notebookContainer = gd.closest('#notebook-container');\n",
       "if (notebookContainer) {{\n",
       "    x.observe(notebookContainer, {childList: true});\n",
       "}}\n",
       "\n",
       "// Listen for the clearing of the current output cell\n",
       "var outputEl = gd.closest('.output');\n",
       "if (outputEl) {{\n",
       "    x.observe(outputEl, {childList: true});\n",
       "}}\n",
       "\n",
       "                        })                };                            </script>        </div>\n",
       "</body>\n",
       "</html>"
      ]
     },
     "metadata": {},
     "output_type": "display_data"
    }
   ],
   "source": [
    "str2 = \"Distribution of \" + str(selected_spec.value) + \" across neighborhoods of Pittsburgh\"\n",
    "fig=px.choropleth(full_neigh,\n",
    "             geojson=\"https://raw.githubusercontent.com/blackmad/neighborhoods/master/gn-pittsburgh.geojson\",\n",
    "             featureidkey='properties.name',   \n",
    "             locations='neighborhood',        #column in dataframe\n",
    "             color='count',\n",
    "              color_continuous_scale= 'blues',\n",
    "               title= str2 ,  \n",
    "               height=700,\n",
    "              )\n",
    "fig.update_geos(fitbounds=\"locations\", visible=False)\n",
    "fig.layout.template = None\n",
    "fig.show()"
   ]
  },
  {
   "cell_type": "markdown",
   "metadata": {
    "id": "9U0MpqRfrzMP"
   },
   "source": [
    "**<h3>Research Questions</h3>**\n",
    "1. Is there a correlation between the height of a tree species and its benefits? If yes, what is the type of correlation? Does the data imply whether neighborhood with tall trees are benefitted more or benefitted less compared to neighborhood with short trees? Can we derive insights from this data on whether planting tree species that are tall provide more benefits to the neighborhood or not, so that it will be useful for lanscaping and planning?\n",
    "\n",
    "\n"
   ]
  }
 ],
 "metadata": {
  "colab": {
   "collapsed_sections": [],
   "name": "tree_characteristics_EDA.ipynb",
   "provenance": []
  },
  "kernelspec": {
   "display_name": "Python 3 (ipykernel)",
   "language": "python",
   "name": "python3"
  },
  "language_info": {
   "codemirror_mode": {
    "name": "ipython",
    "version": 3
   },
   "file_extension": ".py",
   "mimetype": "text/x-python",
   "name": "python",
   "nbconvert_exporter": "python",
   "pygments_lexer": "ipython3",
   "version": "3.7.9"
  },
  "widgets": {
   "application/vnd.jupyter.widget-state+json": {
    "436e58c886d14de3ba480468577f006e": {
     "model_module": "@jupyter-widgets/base",
     "model_module_version": "1.2.0",
     "model_name": "LayoutModel",
     "state": {
      "_model_module": "@jupyter-widgets/base",
      "_model_module_version": "1.2.0",
      "_model_name": "LayoutModel",
      "_view_count": null,
      "_view_module": "@jupyter-widgets/base",
      "_view_module_version": "1.2.0",
      "_view_name": "LayoutView",
      "align_content": null,
      "align_items": null,
      "align_self": null,
      "border": null,
      "bottom": null,
      "display": null,
      "flex": null,
      "flex_flow": null,
      "grid_area": null,
      "grid_auto_columns": null,
      "grid_auto_flow": null,
      "grid_auto_rows": null,
      "grid_column": null,
      "grid_gap": null,
      "grid_row": null,
      "grid_template_areas": null,
      "grid_template_columns": null,
      "grid_template_rows": null,
      "height": null,
      "justify_content": null,
      "justify_items": null,
      "left": null,
      "margin": null,
      "max_height": null,
      "max_width": null,
      "min_height": null,
      "min_width": null,
      "object_fit": null,
      "object_position": null,
      "order": null,
      "overflow": null,
      "overflow_x": null,
      "overflow_y": null,
      "padding": null,
      "right": null,
      "top": null,
      "visibility": null,
      "width": null
     }
    },
    "614c41f9cdc14644b14faa1b861192d3": {
     "model_module": "@jupyter-widgets/controls",
     "model_module_version": "1.5.0",
     "model_name": "DescriptionStyleModel",
     "state": {
      "_model_module": "@jupyter-widgets/controls",
      "_model_module_version": "1.5.0",
      "_model_name": "DescriptionStyleModel",
      "_view_count": null,
      "_view_module": "@jupyter-widgets/base",
      "_view_module_version": "1.2.0",
      "_view_name": "StyleView",
      "description_width": ""
     }
    },
    "9f346d231c4048c4a03281e6d606c7cd": {
     "model_module": "@jupyter-widgets/controls",
     "model_module_version": "1.5.0",
     "model_name": "DropdownModel",
     "state": {
      "_dom_classes": [],
      "_model_module": "@jupyter-widgets/controls",
      "_model_module_version": "1.5.0",
      "_model_name": "DropdownModel",
      "_options_labels": [
       "Maple: Norway",
       "Maple: Red",
       "London planetree",
       "Pear: Callery",
       "Vacant Site Small",
       "Linden: Littleleaf",
       "Honeylocust: Thornless",
       "Oak: Pin",
       "Crabapple: Flowering",
       "Ginkgo",
       "Stump",
       "Oak: Northern Red",
       "Sweetgum: American",
       "Vacant Site Not Suitable",
       "Elm: American",
       "Maple: Freeman",
       "Maple: Sugar",
       "Locust: Black",
       "Zelkova: Japanese",
       "Maple: Hedge",
       "Cherry/Plum: spp.",
       "Lilac: Japanese Tree",
       "Vacant Site Large",
       "Spruce: Colorado",
       "Maple: Silver",
       "Elm: spp.",
       "Hawthorn: spp.",
       "Mulberry: White",
       "Vacant Site Medium",
       "Arborvitae: Eastern",
       "Spruce: Norway",
       "Ash: Green",
       "Redbud: Eastern",
       "Horsechestnut",
       "Sycamore: American",
       "Oak: Swamp White",
       "Pine: Eastern White",
       "Ash: White",
       "Hornbeam: European",
       "Tree-of-Heaven",
       "Serviceberry: Downy",
       "Elm: Siberian",
       "Pine: Austrian",
       "Tuliptree",
       "Cherry: Black",
       "Dogwood: Corneliancherry",
       "Unknown",
       "Maple: Japanese",
       "Hackberry: Common",
       "Hornbeam: American",
       "Maple: Miyabei",
       "Dogwood: Flowering",
       "Linden: American",
       "Pine: Scotch",
       "Baldcypress: Common",
       "Linden: Silver",
       "Maple: Amur",
       "Ash: spp.",
       "Cherry: Japanese Flowering",
       "Dogwood: Kousa",
       "Honeylocust",
       "Hemlock: Eastern",
       "Oak: White",
       "Serviceberry: Smooth",
       "Buckeye: Ohio",
       "Coffeetree: Kentucky",
       "Maple: Tatarian",
       "Elm: Hybrid",
       "Redcedar: Eastern",
       "Goldenraintree",
       "Catalpa: Northern",
       "Oak: Scarlet",
       "Oak: Bur",
       "Birch: River",
       "Serviceberry: spp.",
       "Spruce: White",
       "Hophornbeam: American",
       "Oak: Sawtooth",
       "Magnolia: Saucer"
      ],
      "_view_count": null,
      "_view_module": "@jupyter-widgets/controls",
      "_view_module_version": "1.5.0",
      "_view_name": "DropdownView",
      "description": "Species:",
      "description_tooltip": null,
      "disabled": false,
      "index": 0,
      "layout": "IPY_MODEL_436e58c886d14de3ba480468577f006e",
      "style": "IPY_MODEL_614c41f9cdc14644b14faa1b861192d3"
     }
    }
   }
  }
 },
 "nbformat": 4,
 "nbformat_minor": 1
}
