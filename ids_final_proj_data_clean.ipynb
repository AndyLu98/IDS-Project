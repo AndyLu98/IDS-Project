{
  "nbformat": 4,
  "nbformat_minor": 0,
  "metadata": {
    "colab": {
      "name": "ids_final_proj_data_clean.ipynb",
      "provenance": [],
      "collapsed_sections": []
    },
    "kernelspec": {
      "name": "python3",
      "display_name": "Python 3"
    },
    "language_info": {
      "name": "python"
    }
  },
  "cells": [
    {
      "cell_type": "code",
      "metadata": {
        "id": "_VUa45B1lzuJ"
      },
      "source": [
        "import numpy as np\n",
        "import pandas as pd\n",
        "import matplotlib.pyplot as plt\n",
        "import seaborn as sns\n",
        "import json, ast\n",
        "from google.colab import files\n",
        "\n",
        "sns.set()"
      ],
      "execution_count": 9,
      "outputs": []
    },
    {
      "cell_type": "code",
      "metadata": {
        "colab": {
          "base_uri": "https://localhost:8080/"
        },
        "id": "P40IbZN1l8bo",
        "outputId": "5f6cb1f7-a8c8-46cd-b47f-0694e69d53ce"
      },
      "source": [
        "df_trees = pd.read_csv(\"tree.csv\", encoding=\"ISO-8859-1\")"
      ],
      "execution_count": 30,
      "outputs": [
        {
          "output_type": "stream",
          "name": "stderr",
          "text": [
            "/usr/local/lib/python3.7/dist-packages/IPython/core/interactiveshell.py:2718: DtypeWarning: Columns (1) have mixed types.Specify dtype option on import or set low_memory=False.\n",
            "  interactivity=interactivity, compiler=compiler, result=result)\n"
          ]
        }
      ]
    },
    {
      "cell_type": "code",
      "metadata": {
        "colab": {
          "base_uri": "https://localhost:8080/"
        },
        "id": "A3DpG3SZmT5Z",
        "outputId": "66982f2c-894c-4fa6-81c1-d8435168e6a6"
      },
      "source": [
        "len(df_trees)"
      ],
      "execution_count": 31,
      "outputs": [
        {
          "output_type": "execute_result",
          "data": {
            "text/plain": [
              "45709"
            ]
          },
          "metadata": {},
          "execution_count": 31
        }
      ]
    },
    {
      "cell_type": "code",
      "metadata": {
        "colab": {
          "base_uri": "https://localhost:8080/",
          "height": 213
        },
        "id": "IOsVkH5lmyVN",
        "outputId": "d8d0a17c-bdca-4fa9-8927-5cccbec23317"
      },
      "source": [
        "df_trees.head(3)"
      ],
      "execution_count": 32,
      "outputs": [
        {
          "output_type": "execute_result",
          "data": {
            "text/html": [
              "<div>\n",
              "<style scoped>\n",
              "    .dataframe tbody tr th:only-of-type {\n",
              "        vertical-align: middle;\n",
              "    }\n",
              "\n",
              "    .dataframe tbody tr th {\n",
              "        vertical-align: top;\n",
              "    }\n",
              "\n",
              "    .dataframe thead th {\n",
              "        text-align: right;\n",
              "    }\n",
              "</style>\n",
              "<table border=\"1\" class=\"dataframe\">\n",
              "  <thead>\n",
              "    <tr style=\"text-align: right;\">\n",
              "      <th></th>\n",
              "      <th>id</th>\n",
              "      <th>address_number</th>\n",
              "      <th>street</th>\n",
              "      <th>common_name</th>\n",
              "      <th>scientific_name</th>\n",
              "      <th>height</th>\n",
              "      <th>width</th>\n",
              "      <th>growth_space_length</th>\n",
              "      <th>growth_space_width</th>\n",
              "      <th>growth_space_type</th>\n",
              "      <th>diameter_base_height</th>\n",
              "      <th>stems</th>\n",
              "      <th>overhead_utilities</th>\n",
              "      <th>land_use</th>\n",
              "      <th>condition</th>\n",
              "      <th>stormwater_benefits_dollar_value</th>\n",
              "      <th>stormwater_benefits_runoff_elim</th>\n",
              "      <th>property_value_benefits_dollarvalue</th>\n",
              "      <th>property_value_benefits_leaf_surface_area</th>\n",
              "      <th>energy_benefits_electricity_dollar_value</th>\n",
              "      <th>energy_benefits_gas_dollar_value</th>\n",
              "      <th>air_quality_benfits_o3dep_dollar_value</th>\n",
              "      <th>air_quality_benfits_o3dep_lbs</th>\n",
              "      <th>air_quality_benfits_vocavd_dollar_value</th>\n",
              "      <th>air_quality_benfits_vocavd_lbs</th>\n",
              "      <th>air_quality_benfits_no2dep_dollar_value</th>\n",
              "      <th>air_quality_benfits_no2dep_lbs</th>\n",
              "      <th>air_quality_benfits_no2avd_dollar_value</th>\n",
              "      <th>air_quality_benfits_no2avd_lbs</th>\n",
              "      <th>air_quality_benfits_so2dep_dollar_value</th>\n",
              "      <th>air_quality_benfits_so2dep_lbs</th>\n",
              "      <th>air_quality_benfits_so2avd_dollar_value</th>\n",
              "      <th>air_quality_benfits_so2avd_lbs</th>\n",
              "      <th>air_quality_benfits_pm10depdollar_value</th>\n",
              "      <th>air_quality_benfits_pm10dep_lbs</th>\n",
              "      <th>air_quality_benfits_pm10avd_dollar_value</th>\n",
              "      <th>air_quality_benfits_pm10avd_lbs</th>\n",
              "      <th>air_quality_benfits_total_dollar_value</th>\n",
              "      <th>air_quality_benfits_total_lbs</th>\n",
              "      <th>co2_benefits_dollar_value</th>\n",
              "      <th>co2_benefits_sequestered_lbs</th>\n",
              "      <th>co2_benefits_sequestered_value</th>\n",
              "      <th>co2_benefits_avoided_lbs</th>\n",
              "      <th>co2_benefits_avoided_value</th>\n",
              "      <th>co2_benefits_decomp_lbs</th>\n",
              "      <th>co2_benefits_maint_lbs</th>\n",
              "      <th>co2_benefits_totalco2_lbs</th>\n",
              "      <th>overall_benefits_dollar_value</th>\n",
              "      <th>neighborhood</th>\n",
              "      <th>council_district</th>\n",
              "      <th>ward</th>\n",
              "      <th>tract</th>\n",
              "      <th>public_works_division</th>\n",
              "      <th>pli_division</th>\n",
              "      <th>police_zone</th>\n",
              "      <th>fire_zone</th>\n",
              "      <th>latitude</th>\n",
              "      <th>longitude</th>\n",
              "    </tr>\n",
              "  </thead>\n",
              "  <tbody>\n",
              "    <tr>\n",
              "      <th>0</th>\n",
              "      <td>754166088</td>\n",
              "      <td>7428</td>\n",
              "      <td>MONTICELLO ST</td>\n",
              "      <td>Stump</td>\n",
              "      <td>Stump</td>\n",
              "      <td>0.0</td>\n",
              "      <td>0.0</td>\n",
              "      <td>10.0</td>\n",
              "      <td>2.0</td>\n",
              "      <td>Well or Pit</td>\n",
              "      <td>16.0</td>\n",
              "      <td>1.0</td>\n",
              "      <td>Yes</td>\n",
              "      <td>Vacant</td>\n",
              "      <td>NaN</td>\n",
              "      <td>NaN</td>\n",
              "      <td>NaN</td>\n",
              "      <td>NaN</td>\n",
              "      <td>NaN</td>\n",
              "      <td>NaN</td>\n",
              "      <td>NaN</td>\n",
              "      <td>NaN</td>\n",
              "      <td>NaN</td>\n",
              "      <td>NaN</td>\n",
              "      <td>NaN</td>\n",
              "      <td>NaN</td>\n",
              "      <td>NaN</td>\n",
              "      <td>NaN</td>\n",
              "      <td>NaN</td>\n",
              "      <td>NaN</td>\n",
              "      <td>NaN</td>\n",
              "      <td>NaN</td>\n",
              "      <td>NaN</td>\n",
              "      <td>NaN</td>\n",
              "      <td>NaN</td>\n",
              "      <td>NaN</td>\n",
              "      <td>NaN</td>\n",
              "      <td>NaN</td>\n",
              "      <td>NaN</td>\n",
              "      <td>NaN</td>\n",
              "      <td>NaN</td>\n",
              "      <td>NaN</td>\n",
              "      <td>NaN</td>\n",
              "      <td>NaN</td>\n",
              "      <td>NaN</td>\n",
              "      <td>NaN</td>\n",
              "      <td>NaN</td>\n",
              "      <td>NaN</td>\n",
              "      <td>Homewood North</td>\n",
              "      <td>9.0</td>\n",
              "      <td>13.0</td>\n",
              "      <td>4.200313e+10</td>\n",
              "      <td>2.0</td>\n",
              "      <td>13.0</td>\n",
              "      <td>5.0</td>\n",
              "      <td>3-17</td>\n",
              "      <td>40.458169</td>\n",
              "      <td>-79.889724</td>\n",
              "    </tr>\n",
              "    <tr>\n",
              "      <th>1</th>\n",
              "      <td>1946899269</td>\n",
              "      <td>220</td>\n",
              "      <td>BALVER AVE</td>\n",
              "      <td>Linden: Littleleaf</td>\n",
              "      <td>Tilia cordata</td>\n",
              "      <td>0.0</td>\n",
              "      <td>0.0</td>\n",
              "      <td>99.0</td>\n",
              "      <td>99.0</td>\n",
              "      <td>Open or Unrestricted</td>\n",
              "      <td>22.0</td>\n",
              "      <td>0.0</td>\n",
              "      <td>No</td>\n",
              "      <td>Residential</td>\n",
              "      <td>NaN</td>\n",
              "      <td>13.946694</td>\n",
              "      <td>1743.336782</td>\n",
              "      <td>21.984813</td>\n",
              "      <td>36.538333</td>\n",
              "      <td>15.776457</td>\n",
              "      <td>61.068319</td>\n",
              "      <td>2.360847</td>\n",
              "      <td>0.514346</td>\n",
              "      <td>0.072138</td>\n",
              "      <td>0.031229</td>\n",
              "      <td>0.992384</td>\n",
              "      <td>0.216206</td>\n",
              "      <td>3.702306</td>\n",
              "      <td>0.806603</td>\n",
              "      <td>0.274901</td>\n",
              "      <td>0.078994</td>\n",
              "      <td>1.407724</td>\n",
              "      <td>0.404518</td>\n",
              "      <td>2.185328</td>\n",
              "      <td>0.262976</td>\n",
              "      <td>0.461810</td>\n",
              "      <td>0.055573</td>\n",
              "      <td>11.457438</td>\n",
              "      <td>2.370444</td>\n",
              "      <td>0.944601</td>\n",
              "      <td>115.328075</td>\n",
              "      <td>0.847431</td>\n",
              "      <td>277.540793</td>\n",
              "      <td>2.039370</td>\n",
              "      <td>-96.345471</td>\n",
              "      <td>-13.708796</td>\n",
              "      <td>282.814600</td>\n",
              "      <td>125.178322</td>\n",
              "      <td>Oakwood</td>\n",
              "      <td>2.0</td>\n",
              "      <td>28.0</td>\n",
              "      <td>4.200356e+10</td>\n",
              "      <td>5.0</td>\n",
              "      <td>28.0</td>\n",
              "      <td>6.0</td>\n",
              "      <td>1-19</td>\n",
              "      <td>40.429269</td>\n",
              "      <td>-80.067868</td>\n",
              "    </tr>\n",
              "    <tr>\n",
              "      <th>2</th>\n",
              "      <td>1431517397</td>\n",
              "      <td>2822</td>\n",
              "      <td>SIDNEY ST</td>\n",
              "      <td>Maple: Red</td>\n",
              "      <td>Acer rubrum</td>\n",
              "      <td>22.0</td>\n",
              "      <td>6.0</td>\n",
              "      <td>6.0</td>\n",
              "      <td>3.0</td>\n",
              "      <td>Well or Pit</td>\n",
              "      <td>6.0</td>\n",
              "      <td>1.0</td>\n",
              "      <td>No</td>\n",
              "      <td>Commercial/Industrial</td>\n",
              "      <td>Fair</td>\n",
              "      <td>3.974858</td>\n",
              "      <td>496.857276</td>\n",
              "      <td>51.529093</td>\n",
              "      <td>85.640354</td>\n",
              "      <td>3.388820</td>\n",
              "      <td>16.084741</td>\n",
              "      <td>0.464026</td>\n",
              "      <td>0.101095</td>\n",
              "      <td>0.017643</td>\n",
              "      <td>0.007638</td>\n",
              "      <td>0.200391</td>\n",
              "      <td>0.043658</td>\n",
              "      <td>0.875966</td>\n",
              "      <td>0.190842</td>\n",
              "      <td>0.058725</td>\n",
              "      <td>0.016875</td>\n",
              "      <td>0.302735</td>\n",
              "      <td>0.086993</td>\n",
              "      <td>0.444639</td>\n",
              "      <td>0.053507</td>\n",
              "      <td>0.110526</td>\n",
              "      <td>0.013300</td>\n",
              "      <td>2.474653</td>\n",
              "      <td>0.513908</td>\n",
              "      <td>0.314952</td>\n",
              "      <td>45.287950</td>\n",
              "      <td>0.332776</td>\n",
              "      <td>59.616419</td>\n",
              "      <td>0.438061</td>\n",
              "      <td>-6.868639</td>\n",
              "      <td>-3.738763</td>\n",
              "      <td>94.296967</td>\n",
              "      <td>77.767116</td>\n",
              "      <td>South Side Flats</td>\n",
              "      <td>3.0</td>\n",
              "      <td>16.0</td>\n",
              "      <td>4.200316e+10</td>\n",
              "      <td>3.0</td>\n",
              "      <td>16.0</td>\n",
              "      <td>3.0</td>\n",
              "      <td>4-24</td>\n",
              "      <td>40.426797</td>\n",
              "      <td>-79.965035</td>\n",
              "    </tr>\n",
              "  </tbody>\n",
              "</table>\n",
              "</div>"
            ],
            "text/plain": [
              "           id address_number         street  ... fire_zone   latitude  longitude\n",
              "0   754166088           7428  MONTICELLO ST  ...      3-17  40.458169 -79.889724\n",
              "1  1946899269            220     BALVER AVE  ...      1-19  40.429269 -80.067868\n",
              "2  1431517397           2822      SIDNEY ST  ...      4-24  40.426797 -79.965035\n",
              "\n",
              "[3 rows x 58 columns]"
            ]
          },
          "metadata": {},
          "execution_count": 32
        }
      ]
    },
    {
      "cell_type": "markdown",
      "metadata": {
        "id": "TUxvm9DCnOQ8"
      },
      "source": [
        ""
      ]
    },
    {
      "cell_type": "code",
      "metadata": {
        "colab": {
          "base_uri": "https://localhost:8080/"
        },
        "id": "4xSr9fz6naSO",
        "outputId": "ac779f8b-080d-4940-f75c-97b990d460b9"
      },
      "source": [
        "#Some datapoints are missing the basic tree name information. Only a few datapoints (13 in total)\n",
        "#so decided to drop them. \n",
        "df_trees = df_trees.dropna(subset = ['common_name'])\n",
        "df_trees = df_trees.dropna(subset = ['scientific_name'])\n",
        "\n",
        "# There are around 300 datapoints that are missing its geo location info. Drop them. \n",
        "# Our team is interested in the neighborhood-level granularity so as long as the \n",
        "# data point contains neighborhood information, it is valuable to us. \n",
        "df_trees = df_trees.dropna(subset = [\"latitude\"])\n",
        "df_trees = df_trees.dropna(subset = [\"longitude\"])\n",
        "df_trees = df_trees.dropna(subset = [\"neighborhood\"])\n",
        "\n",
        "print(len(df_trees))"
      ],
      "execution_count": 33,
      "outputs": [
        {
          "output_type": "stream",
          "name": "stdout",
          "text": [
            "45347\n"
          ]
        }
      ]
    },
    {
      "cell_type": "code",
      "metadata": {
        "id": "EuJsDQexoejI"
      },
      "source": [
        "#These are all numerical benefit values. \n",
        "values = ['stormwater_benefits_dollar_value', 'stormwater_benefits_runoff_elim',\n",
        "       'property_value_benefits_dollarvalue',\n",
        "       'property_value_benefits_leaf_surface_area',\n",
        "       'energy_benefits_electricity_dollar_value',\n",
        "       'energy_benefits_gas_dollar_value',\n",
        "       'air_quality_benfits_o3dep_dollar_value',\n",
        "       'air_quality_benfits_o3dep_lbs',\n",
        "       'air_quality_benfits_vocavd_dollar_value',\n",
        "       'air_quality_benfits_vocavd_lbs',\n",
        "       'air_quality_benfits_no2dep_dollar_value',\n",
        "       'air_quality_benfits_no2dep_lbs',\n",
        "       'air_quality_benfits_no2avd_dollar_value',\n",
        "       'air_quality_benfits_no2avd_lbs',\n",
        "       'air_quality_benfits_so2dep_dollar_value',\n",
        "       'air_quality_benfits_so2dep_lbs',\n",
        "       'air_quality_benfits_so2avd_dollar_value',\n",
        "       'air_quality_benfits_so2avd_lbs',\n",
        "       'air_quality_benfits_pm10depdollar_value',\n",
        "       'air_quality_benfits_pm10dep_lbs',\n",
        "       'air_quality_benfits_pm10avd_dollar_value',\n",
        "       'air_quality_benfits_pm10avd_lbs',\n",
        "       'air_quality_benfits_total_dollar_value',\n",
        "       'air_quality_benfits_total_lbs', 'co2_benefits_dollar_value',\n",
        "       'co2_benefits_sequestered_lbs', 'co2_benefits_sequestered_value',\n",
        "       'co2_benefits_avoided_lbs', 'co2_benefits_avoided_value',\n",
        "       'co2_benefits_decomp_lbs', 'co2_benefits_maint_lbs',\n",
        "       'co2_benefits_totalco2_lbs', 'overall_benefits_dollar_value']\n",
        "\n",
        "#Assume tree stumps has no benefit values so replace NaN with 0.0\n",
        "cond = (df_trees[\"common_name\"] == \"Stump\") | (df_trees[\"scientific_name\"] == \"Stump\")\n",
        "\n",
        "#Assume vacant sites has no benefit values so replace NaN with 0.0\n",
        "cond2 = (df_trees[\"common_name\"] == 'Vacant Site Small') | (df_trees[\"common_name\"] == 'Vacant Site Medium') | (df_trees[\"common_name\"] == 'Vacant Site Not Suitable') | (df_trees[\"common_name\"] == 'Vacant Site Not Large') \n",
        "\n",
        "for val in values:\n",
        "  df_trees.loc[cond,val] = df_trees.loc[cond,val].fillna(0.0)\n",
        "  df_trees.loc[cond2,val] = df_trees.loc[cond2,val].fillna(0.0)"
      ],
      "execution_count": 34,
      "outputs": []
    },
    {
      "cell_type": "code",
      "metadata": {
        "id": "qo3T1G8St9hP"
      },
      "source": [
        "# Some trees are missing some of the height, width, or benefit values. \n",
        "# Replace them with the average for that tree type so we do not have to drop that tree datapoint.\n",
        "# These values should be relatively independent of which neighborhood that tree is located in.\n",
        "# For example, it is unlikely that there will be a statistically significant difference in height\n",
        "# for the same type of tree across the neighborhoods. Similarly, the air quality value a type of tree provides\n",
        "# should be independent of the neighborhood. \n",
        "\n",
        "independent_cols_to_replace = ['height', 'width', 'growth_space_length','growth_space_width','diameter_base_height','stems',     \n",
        "                               'air_quality_benfits_o3dep_dollar_value',\n",
        "       'energy_benefits_electricity_dollar_value',\n",
        "       'energy_benefits_gas_dollar_value',\n",
        "       'air_quality_benfits_o3dep_lbs',\n",
        "       'air_quality_benfits_vocavd_dollar_value',\n",
        "       'air_quality_benfits_vocavd_lbs',\n",
        "       'air_quality_benfits_no2dep_dollar_value',\n",
        "       'air_quality_benfits_no2dep_lbs',\n",
        "       'air_quality_benfits_no2avd_dollar_value',\n",
        "       'air_quality_benfits_no2avd_lbs',\n",
        "       'air_quality_benfits_so2dep_dollar_value',\n",
        "       'air_quality_benfits_so2dep_lbs',\n",
        "       'air_quality_benfits_so2avd_dollar_value',\n",
        "       'air_quality_benfits_so2avd_lbs',\n",
        "       'air_quality_benfits_pm10depdollar_value',\n",
        "       'air_quality_benfits_pm10dep_lbs',\n",
        "       'air_quality_benfits_pm10avd_dollar_value',\n",
        "       'air_quality_benfits_pm10avd_lbs',\n",
        "       'air_quality_benfits_total_dollar_value',\n",
        "       'air_quality_benfits_total_lbs', 'co2_benefits_dollar_value',\n",
        "       'co2_benefits_sequestered_lbs', 'co2_benefits_sequestered_value',\n",
        "       'co2_benefits_avoided_lbs', 'co2_benefits_avoided_value',\n",
        "       'co2_benefits_decomp_lbs', 'co2_benefits_maint_lbs',\n",
        "       'co2_benefits_totalco2_lbs']\n",
        "\n",
        "\n",
        "tree_names = df_trees[\"common_name\"].unique()\n",
        "for val in independent_cols_to_replace:\n",
        "  for tree_name in tree_names:\n",
        "    t = df_trees[df_trees[\"common_name\"] == tree_name]\n",
        "    mean = t[val].mean()\n",
        "    df_trees[val].fillna(value=mean, inplace=True)\n"
      ],
      "execution_count": 35,
      "outputs": []
    },
    {
      "cell_type": "code",
      "metadata": {
        "id": "auQ1nQkN5PtG"
      },
      "source": [
        "# Some attributes,on the other hand, may depend on the neighborhood. For example,\n",
        "# the property value benefits should be heavily influenced by the property value\n",
        "# in that neighorhood. Similarly, stormwater benefits can vary across neighborhood\n",
        "# based on the sewage condition. \n",
        "dependent_cols_to_replace = ['stormwater_benefits_dollar_value', 'stormwater_benefits_runoff_elim','property_value_benefits_dollarvalue', 'property_value_benefits_leaf_surface_area', 'overall_benefits_dollar_value']\n",
        "\n",
        "#Build a dictionary that maps neighborhood, tree name, and the means of the different benefit values.\n",
        "neighborhoods = df_trees[\"neighborhood\"].unique()\n",
        "tree_name_neighbor_hood_value_average = {}\n",
        "\n",
        "for neighborhood in neighborhoods:\n",
        "  tree_name_neighbor_hood_value_average[neighborhood] = {}\n",
        "  t = df_trees[df_trees[\"neighborhood\"] == neighborhood]\n",
        "  for tree_name in tree_names:\n",
        "    tree_name_neighbor_hood_value_average[neighborhood][tree_name] = {}\n",
        "    k = t[t[\"common_name\"] == tree_name]\n",
        "    for val in dependent_cols_to_replace:\n",
        "      mean = k[val].mean()\n",
        "      tree_name_neighbor_hood_value_average[neighborhood][tree_name][val] = mean"
      ],
      "execution_count": 36,
      "outputs": []
    },
    {
      "cell_type": "code",
      "metadata": {
        "id": "qYafQxbcpCvb"
      },
      "source": [
        "# This cell may take a while to run since it is a triple for-loop. (around 10 mins in Google CoLab)\n",
        "for neighborhood in neighborhoods:\n",
        "  for tree_name in tree_names:\n",
        "    for val in dependent_cols_to_replace:\n",
        "      mean = tree_name_neighbor_hood_value_average[neighborhood][tree_name][val]\n",
        "      mask = (df_trees['neighborhood'] == neighborhood) & (df_trees['common_name'] == tree_name)\n",
        "      df_trees.loc[mask, val] = mean"
      ],
      "execution_count": 37,
      "outputs": []
    },
    {
      "cell_type": "code",
      "metadata": {
        "colab": {
          "base_uri": "https://localhost:8080/"
        },
        "id": "pc5CXuFExlxA",
        "outputId": "5766568b-150b-4c09-e3de-f8029e1a7137"
      },
      "source": [
        "print(df_trees.columns[df_trees.isnull().any()])"
      ],
      "execution_count": 38,
      "outputs": [
        {
          "output_type": "stream",
          "name": "stdout",
          "text": [
            "Index(['address_number', 'street', 'growth_space_type', 'overhead_utilities',\n",
            "       'land_use', 'condition', 'stormwater_benefits_dollar_value',\n",
            "       'stormwater_benefits_runoff_elim',\n",
            "       'property_value_benefits_dollarvalue',\n",
            "       'property_value_benefits_leaf_surface_area',\n",
            "       'overall_benefits_dollar_value', 'council_district', 'ward',\n",
            "       'pli_division'],\n",
            "      dtype='object')\n"
          ]
        }
      ]
    },
    {
      "cell_type": "code",
      "metadata": {
        "colab": {
          "base_uri": "https://localhost:8080/"
        },
        "id": "RiC2sGBCpwG-",
        "outputId": "815db434-e9de-40d5-97e4-958e5f054f80"
      },
      "source": [
        "# However, some of the data points may still contain NaN in those columns \n",
        "# because that data point is the only tree of that type in that neighborhood. \n",
        "# In that case, just use the entire average for that type of tree. \n",
        "for val in dependent_cols_to_replace:\n",
        "  for tree_name in tree_names:\n",
        "    t = df_trees[df_trees[\"common_name\"] == tree_name]\n",
        "    mean = t[val].mean()\n",
        "    df_trees[val].fillna(value=mean, inplace=True)\n",
        "\n",
        "\n",
        "print(df_trees.columns[df_trees.isnull().any()])\n",
        "# There will be some data points that contain NaN in some columns in the end, \n",
        "# but those can be processed specifically when those columns are used. \n",
        "# Also, data points like \"Vacant Site\" make sense to contain NaN because there is\n",
        "# no tree there yet. \n",
        "\n",
        "#There are around 4700 entries where the \"tree\" is actually just a tree stump or \n",
        "#a vacant spot of various sizes. However these data are still interesting. \n",
        "temp = df_trees[(df_trees[\"common_name\"] == \"Stump\") | (df_trees[\"common_name\"] == 'Vacant Site Small') | (df_trees[\"common_name\"] == 'Vacant Site Medium') | (df_trees[\"common_name\"] == 'Vacant Site Not Suitable') | (df_trees[\"common_name\"] == 'Vacant Site Not Large')] \n",
        "print(len(temp))"
      ],
      "execution_count": 39,
      "outputs": [
        {
          "output_type": "stream",
          "name": "stdout",
          "text": [
            "Index(['address_number', 'street', 'growth_space_type', 'overhead_utilities',\n",
            "       'land_use', 'condition', 'council_district', 'ward', 'pli_division'],\n",
            "      dtype='object')\n",
            "4708\n"
          ]
        }
      ]
    },
    {
      "cell_type": "code",
      "metadata": {
        "colab": {
          "base_uri": "https://localhost:8080/",
          "height": 51
        },
        "id": "KtAT6xxfACqY",
        "outputId": "355f51c0-5867-4a33-fb6e-7a5e1d8c0538"
      },
      "source": [
        "print(len(df_trees))\n",
        "# Download the cleaned data \n",
        "df_trees.to_csv('cleaned_tree_data_3.csv', index=False) \n",
        "files.download('cleaned_tree_data_3.csv')"
      ],
      "execution_count": 40,
      "outputs": [
        {
          "output_type": "stream",
          "name": "stdout",
          "text": [
            "45347\n"
          ]
        },
        {
          "output_type": "display_data",
          "data": {
            "application/javascript": [
              "\n",
              "    async function download(id, filename, size) {\n",
              "      if (!google.colab.kernel.accessAllowed) {\n",
              "        return;\n",
              "      }\n",
              "      const div = document.createElement('div');\n",
              "      const label = document.createElement('label');\n",
              "      label.textContent = `Downloading \"${filename}\": `;\n",
              "      div.appendChild(label);\n",
              "      const progress = document.createElement('progress');\n",
              "      progress.max = size;\n",
              "      div.appendChild(progress);\n",
              "      document.body.appendChild(div);\n",
              "\n",
              "      const buffers = [];\n",
              "      let downloaded = 0;\n",
              "\n",
              "      const channel = await google.colab.kernel.comms.open(id);\n",
              "      // Send a message to notify the kernel that we're ready.\n",
              "      channel.send({})\n",
              "\n",
              "      for await (const message of channel.messages) {\n",
              "        // Send a message to notify the kernel that we're ready.\n",
              "        channel.send({})\n",
              "        if (message.buffers) {\n",
              "          for (const buffer of message.buffers) {\n",
              "            buffers.push(buffer);\n",
              "            downloaded += buffer.byteLength;\n",
              "            progress.value = downloaded;\n",
              "          }\n",
              "        }\n",
              "      }\n",
              "      const blob = new Blob(buffers, {type: 'application/binary'});\n",
              "      const a = document.createElement('a');\n",
              "      a.href = window.URL.createObjectURL(blob);\n",
              "      a.download = filename;\n",
              "      div.appendChild(a);\n",
              "      a.click();\n",
              "      div.remove();\n",
              "    }\n",
              "  "
            ],
            "text/plain": [
              "<IPython.core.display.Javascript object>"
            ]
          },
          "metadata": {}
        },
        {
          "output_type": "display_data",
          "data": {
            "application/javascript": [
              "download(\"download_a6813d5b-4709-4a91-9988-f791bb91a4b6\", \"cleaned_tree_data_3.csv\", 32219949)"
            ],
            "text/plain": [
              "<IPython.core.display.Javascript object>"
            ]
          },
          "metadata": {}
        }
      ]
    }
  ]
}