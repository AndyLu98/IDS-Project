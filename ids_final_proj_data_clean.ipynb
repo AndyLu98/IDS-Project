{
 "cells": [
  {
   "cell_type": "code",
<<<<<<< HEAD
   "execution_count": null,
=======
   "execution_count": 53,
>>>>>>> origin/tree_density
   "metadata": {
    "id": "_VUa45B1lzuJ"
   },
   "outputs": [],
   "source": [
    "import numpy as np\n",
    "import pandas as pd\n",
    "import matplotlib.pyplot as plt\n",
    "import seaborn as sns\n",
    "import json, ast\n",
    "from google.colab import files\n",
    "\n",
    "sns.set()"
   ]
  },
  {
<<<<<<< HEAD
   "cell_type": "markdown",
   "metadata": {
    "id": "iJIeb8nuYQKB"
   },
   "source": [
    "The dataset being cleaned is \"City of Pittsburgh Trees\" dataset found from Western Pennsylvania Regional Data Center: https://data.wprdc.org/dataset/city-trees. It contains 45,709 entries and 58 features. The data include trees cared for and managed by the City of Pittsburgh Department of Public Works Forestry Division. In this data, the benefits of the trees are quantified to numerical values and are calculated using the National Tree Benefit Calculator Web Service. Here are all of the features for each tree datapoint. Some interesting ones will be commented. \n",
    "\n",
    "**_id\t| id |type |comments**\n",
    "\n",
    "1\tid\t text\n",
    "\n",
    "2\taddress_number\ttext\n",
    "\n",
    "3\tstreet\ttext\n",
    "\n",
    "4\tcommon_name\ttext\n",
    "\n",
    "5\tscientific_name\ttext\n",
    "\n",
    "6\theight\tfloat\n",
    "\n",
    "7\twidth\tfloat\n",
    "\n",
    "8\tgrowth_space_length\tfloat\n",
    "\n",
    "9\tgrowth_space_width\tfloat\n",
    "\n",
    "10\tgrowth_space_type\ttext: *what types of environment the tree is planted in. e.g. well, pit, unrestricted, etc.* \n",
    "\n",
    "11\tstems\tint\n",
    "\n",
    "12\toverhead_utilities\ttext: *whether there is overhead utilities and whether the tree is conflicting with utilities.*\n",
    "\n",
    "13\tland_use\ttext: *residential, commercial, park, etc.*\n",
    "\n",
    "14\tcondition\ttext: *condition of the tree. Good, fair, poor, etc.*\n",
    "\n",
    "15\tstormwater_benefits_dollar_value\tfloat: *trees can control stormwater runoff by acting as mini-reservoirs. This value represents the benefit of stromwater runoff control in dollar terms in a year.*\n",
    "\n",
    "16\tstormwater_benefits_runoff_elim\tfloat: *number of gallons of stormwater the tree can intercept annually.*\n",
    "\n",
    "17\tproperty_value_benefits_dollarvalue\tfloat\n",
    "\n",
    "18\tproperty_value_benefits_leaf_surface_area\tfloat\n",
    "\n",
    "19\tenergy_benefits_electricity_dollar_value\tfloat\n",
    "\n",
    "20\tenergy_benefits_gas_dollar_value\tfloat\n",
    "\n",
    "21\tair_quality_benfits_o3dep_dollar_value\tfloat: *dep means deposition. This is the tree absorbing or intercepting the pollutant . o3 is ozone. *\n",
    "\n",
    "22\tair_quality_benfits_o3dep_lbs\tfloat\n",
    "\n",
    "23\tair_quality_benfits_vocavd_dollar_value\tfloat: *voc means volatile organic compounds. avd means avoided. This is the tree lessening the need for creation of these pollutants in the first place by reducing energy production needs.*\n",
    "\n",
    "24\tair_quality_benfits_vocavd_lbs\tfloat\n",
    "\n",
    "25\tair_quality_benfits_no2dep_dollar_value\tfloat: *no2 is nitrogen dioxide.*\n",
    "\n",
    "26\tair_quality_benfits_no2dep_lbs\tfloat\n",
    "\n",
    "27\tair_quality_benfits_no2avd_dollar_value\tfloat\n",
    "\n",
    "28\tair_quality_benfits_no2avd_lbs\tfloat\n",
    "\n",
    "29\tair_quality_benfits_so2dep_dollar_value\tfloat: *so2 is sulfur dioxide.*\n",
    "\n",
    "30\tair_quality_benfits_so2dep_lbs\tfloat\n",
    "\n",
    "31\tair_quality_benfits_so2avd_dollar_value\tfloat\n",
    "\n",
    "32\tair_quality_benfits_so2avd_lbs\tfloat\n",
    "\n",
    "33\tair_quality_benfits_pm10depdollar_value\tfloat: *pm10 are inhalable particles with diameters that are generally 10 micrometers and smaller.*\n",
    "\n",
    "34\tair_quality_benfits_pm10dep_lbs\tfloat\n",
    "\n",
    "35\tair_quality_benfits_pm10avd_dollar_value\tfloat\n",
    "\n",
    "36\tair_quality_benfits_pm10avd_lbs\tfloat\n",
    "\n",
    "37\tair_quality_benfits_total_dollar_value\tfloat\n",
    "\n",
    "38\tair_quality_benfits_total_lbs\tfloat\n",
    "\n",
    "39\tco2_benefits_dollar_value\tfloat\n",
    "\n",
    "40\tco2_benefits_sequestered_lbs\tfloat\n",
    "\n",
    "41\tco2_benefits_sequestered_value\tfloat\n",
    "\n",
    "42\tco2_benefits_avoided_lbs\tfloat\n",
    "\n",
    "43\tco2_benefits_avoided_value\tfloat\n",
    "\n",
    "44\tco2_benefits_decomp_lbs\tfloat: *CO2 released when tree decomposes. A negative number to indicate emission.*\n",
    "\n",
    "45\tco2_benefits_maint_lbs\tfloat: *CO2 released for tree maintenance. A negative number to indicate emission.*\n",
    "\n",
    "46\tco2_benefits_totalco2_lbs\tfloat: *net CO2 benefits*\n",
    "\n",
    "47\toverall_benefits_dollar_value\tfloat\n",
    "\n",
    "48\tneighborhood\ttext\n",
    "\n",
    "49\tcouncil_district\ttext\n",
    "\n",
    "50\tward\ttext\n",
    "\n",
    "51\ttract\ttext\n",
    "\n",
    "52\tpublic_works_division\ttext\n",
    "\n",
    "53\tpli_division\ttext\n",
    "\n",
    "54\tpolice_zone\ttext\n",
    "\n",
    "55\tfire_zone\ttext\n",
    "\n",
    "56\tlatitude\tfloat\n",
    "\n",
    "57\tlongitude\tfloat\n",
    "\n",
    "58\tdiameter_base_height\tfloat"
   ]
  },
  {
   "cell_type": "code",
   "execution_count": null,
=======
   "cell_type": "code",
   "execution_count": 54,
>>>>>>> origin/tree_density
   "metadata": {
    "colab": {
     "base_uri": "https://localhost:8080/"
    },
    "id": "P40IbZN1l8bo",
    "outputId": "bbeb58a9-b6bb-4c33-bc14-1d3f6d6c88ef"
   },
   "outputs": [
    {
     "name": "stderr",
     "output_type": "stream",
     "text": [
      "/usr/local/lib/python3.7/dist-packages/IPython/core/interactiveshell.py:2718: DtypeWarning: Columns (1) have mixed types.Specify dtype option on import or set low_memory=False.\n",
      "  interactivity=interactivity, compiler=compiler, result=result)\n"
     ]
    }
   ],
   "source": [
    "df_trees = pd.read_csv(\"tree.csv\", encoding=\"ISO-8859-1\")"
   ]
  },
  {
   "cell_type": "code",
<<<<<<< HEAD
   "execution_count": null,
=======
   "execution_count": 55,
>>>>>>> origin/tree_density
   "metadata": {
    "colab": {
     "base_uri": "https://localhost:8080/"
    },
    "id": "A3DpG3SZmT5Z",
    "outputId": "30a6d5bf-4b7f-4d39-ad45-91a1f2a8d01d"
   },
   "outputs": [
    {
     "data": {
      "text/plain": [
       "45709"
      ]
     },
     "execution_count": 55,
     "metadata": {},
     "output_type": "execute_result"
    }
   ],
   "source": [
    "len(df_trees)"
   ]
  },
  {
<<<<<<< HEAD
   "cell_type": "markdown",
   "metadata": {
    "id": "YsXZfn2vdBXi"
   },
   "source": []
  },
  {
   "cell_type": "code",
   "execution_count": null,
=======
   "cell_type": "code",
   "execution_count": 56,
>>>>>>> origin/tree_density
   "metadata": {
    "colab": {
     "base_uri": "https://localhost:8080/",
     "height": 213
    },
    "id": "IOsVkH5lmyVN",
    "outputId": "b57e12ab-8aa7-4aec-a266-e125abc7f8f4"
   },
   "outputs": [
    {
     "data": {
      "text/html": [
       "<div>\n",
       "<style scoped>\n",
       "    .dataframe tbody tr th:only-of-type {\n",
       "        vertical-align: middle;\n",
       "    }\n",
       "\n",
       "    .dataframe tbody tr th {\n",
       "        vertical-align: top;\n",
       "    }\n",
       "\n",
       "    .dataframe thead th {\n",
       "        text-align: right;\n",
       "    }\n",
       "</style>\n",
       "<table border=\"1\" class=\"dataframe\">\n",
       "  <thead>\n",
       "    <tr style=\"text-align: right;\">\n",
       "      <th></th>\n",
       "      <th>id</th>\n",
       "      <th>address_number</th>\n",
       "      <th>street</th>\n",
       "      <th>common_name</th>\n",
       "      <th>scientific_name</th>\n",
       "      <th>height</th>\n",
       "      <th>width</th>\n",
       "      <th>growth_space_length</th>\n",
       "      <th>growth_space_width</th>\n",
       "      <th>growth_space_type</th>\n",
       "      <th>diameter_base_height</th>\n",
       "      <th>stems</th>\n",
       "      <th>overhead_utilities</th>\n",
       "      <th>land_use</th>\n",
       "      <th>condition</th>\n",
       "      <th>stormwater_benefits_dollar_value</th>\n",
       "      <th>stormwater_benefits_runoff_elim</th>\n",
       "      <th>property_value_benefits_dollarvalue</th>\n",
       "      <th>property_value_benefits_leaf_surface_area</th>\n",
       "      <th>energy_benefits_electricity_dollar_value</th>\n",
       "      <th>energy_benefits_gas_dollar_value</th>\n",
       "      <th>air_quality_benfits_o3dep_dollar_value</th>\n",
       "      <th>air_quality_benfits_o3dep_lbs</th>\n",
       "      <th>air_quality_benfits_vocavd_dollar_value</th>\n",
       "      <th>air_quality_benfits_vocavd_lbs</th>\n",
       "      <th>air_quality_benfits_no2dep_dollar_value</th>\n",
       "      <th>air_quality_benfits_no2dep_lbs</th>\n",
       "      <th>air_quality_benfits_no2avd_dollar_value</th>\n",
       "      <th>air_quality_benfits_no2avd_lbs</th>\n",
       "      <th>air_quality_benfits_so2dep_dollar_value</th>\n",
       "      <th>air_quality_benfits_so2dep_lbs</th>\n",
       "      <th>air_quality_benfits_so2avd_dollar_value</th>\n",
       "      <th>air_quality_benfits_so2avd_lbs</th>\n",
       "      <th>air_quality_benfits_pm10depdollar_value</th>\n",
       "      <th>air_quality_benfits_pm10dep_lbs</th>\n",
       "      <th>air_quality_benfits_pm10avd_dollar_value</th>\n",
       "      <th>air_quality_benfits_pm10avd_lbs</th>\n",
       "      <th>air_quality_benfits_total_dollar_value</th>\n",
       "      <th>air_quality_benfits_total_lbs</th>\n",
       "      <th>co2_benefits_dollar_value</th>\n",
       "      <th>co2_benefits_sequestered_lbs</th>\n",
       "      <th>co2_benefits_sequestered_value</th>\n",
       "      <th>co2_benefits_avoided_lbs</th>\n",
       "      <th>co2_benefits_avoided_value</th>\n",
       "      <th>co2_benefits_decomp_lbs</th>\n",
       "      <th>co2_benefits_maint_lbs</th>\n",
       "      <th>co2_benefits_totalco2_lbs</th>\n",
       "      <th>overall_benefits_dollar_value</th>\n",
       "      <th>neighborhood</th>\n",
       "      <th>council_district</th>\n",
       "      <th>ward</th>\n",
       "      <th>tract</th>\n",
       "      <th>public_works_division</th>\n",
       "      <th>pli_division</th>\n",
       "      <th>police_zone</th>\n",
       "      <th>fire_zone</th>\n",
       "      <th>latitude</th>\n",
       "      <th>longitude</th>\n",
       "    </tr>\n",
       "  </thead>\n",
       "  <tbody>\n",
       "    <tr>\n",
       "      <th>0</th>\n",
       "      <td>754166088</td>\n",
       "      <td>7428</td>\n",
       "      <td>MONTICELLO ST</td>\n",
       "      <td>Stump</td>\n",
       "      <td>Stump</td>\n",
       "      <td>0.0</td>\n",
       "      <td>0.0</td>\n",
       "      <td>10.0</td>\n",
       "      <td>2.0</td>\n",
       "      <td>Well or Pit</td>\n",
       "      <td>16.0</td>\n",
       "      <td>1.0</td>\n",
       "      <td>Yes</td>\n",
       "      <td>Vacant</td>\n",
       "      <td>NaN</td>\n",
       "      <td>NaN</td>\n",
       "      <td>NaN</td>\n",
       "      <td>NaN</td>\n",
       "      <td>NaN</td>\n",
       "      <td>NaN</td>\n",
       "      <td>NaN</td>\n",
       "      <td>NaN</td>\n",
       "      <td>NaN</td>\n",
       "      <td>NaN</td>\n",
       "      <td>NaN</td>\n",
       "      <td>NaN</td>\n",
       "      <td>NaN</td>\n",
       "      <td>NaN</td>\n",
       "      <td>NaN</td>\n",
       "      <td>NaN</td>\n",
       "      <td>NaN</td>\n",
       "      <td>NaN</td>\n",
       "      <td>NaN</td>\n",
       "      <td>NaN</td>\n",
       "      <td>NaN</td>\n",
       "      <td>NaN</td>\n",
       "      <td>NaN</td>\n",
       "      <td>NaN</td>\n",
       "      <td>NaN</td>\n",
       "      <td>NaN</td>\n",
       "      <td>NaN</td>\n",
       "      <td>NaN</td>\n",
       "      <td>NaN</td>\n",
       "      <td>NaN</td>\n",
       "      <td>NaN</td>\n",
       "      <td>NaN</td>\n",
       "      <td>NaN</td>\n",
       "      <td>NaN</td>\n",
       "      <td>Homewood North</td>\n",
       "      <td>9.0</td>\n",
       "      <td>13.0</td>\n",
       "      <td>4.200313e+10</td>\n",
       "      <td>2.0</td>\n",
       "      <td>13.0</td>\n",
       "      <td>5.0</td>\n",
       "      <td>3-17</td>\n",
       "      <td>40.458169</td>\n",
       "      <td>-79.889724</td>\n",
       "    </tr>\n",
       "    <tr>\n",
       "      <th>1</th>\n",
       "      <td>1946899269</td>\n",
       "      <td>220</td>\n",
       "      <td>BALVER AVE</td>\n",
       "      <td>Linden: Littleleaf</td>\n",
       "      <td>Tilia cordata</td>\n",
       "      <td>0.0</td>\n",
       "      <td>0.0</td>\n",
       "      <td>99.0</td>\n",
       "      <td>99.0</td>\n",
       "      <td>Open or Unrestricted</td>\n",
       "      <td>22.0</td>\n",
       "      <td>0.0</td>\n",
       "      <td>No</td>\n",
       "      <td>Residential</td>\n",
       "      <td>NaN</td>\n",
       "      <td>13.946694</td>\n",
       "      <td>1743.336782</td>\n",
       "      <td>21.984813</td>\n",
       "      <td>36.538333</td>\n",
       "      <td>15.776457</td>\n",
       "      <td>61.068319</td>\n",
       "      <td>2.360847</td>\n",
       "      <td>0.514346</td>\n",
       "      <td>0.072138</td>\n",
       "      <td>0.031229</td>\n",
       "      <td>0.992384</td>\n",
       "      <td>0.216206</td>\n",
       "      <td>3.702306</td>\n",
       "      <td>0.806603</td>\n",
       "      <td>0.274901</td>\n",
       "      <td>0.078994</td>\n",
       "      <td>1.407724</td>\n",
       "      <td>0.404518</td>\n",
       "      <td>2.185328</td>\n",
       "      <td>0.262976</td>\n",
       "      <td>0.461810</td>\n",
       "      <td>0.055573</td>\n",
       "      <td>11.457438</td>\n",
       "      <td>2.370444</td>\n",
       "      <td>0.944601</td>\n",
       "      <td>115.328075</td>\n",
       "      <td>0.847431</td>\n",
       "      <td>277.540793</td>\n",
       "      <td>2.039370</td>\n",
       "      <td>-96.345471</td>\n",
       "      <td>-13.708796</td>\n",
       "      <td>282.814600</td>\n",
       "      <td>125.178322</td>\n",
       "      <td>Oakwood</td>\n",
       "      <td>2.0</td>\n",
       "      <td>28.0</td>\n",
       "      <td>4.200356e+10</td>\n",
       "      <td>5.0</td>\n",
       "      <td>28.0</td>\n",
       "      <td>6.0</td>\n",
       "      <td>1-19</td>\n",
       "      <td>40.429269</td>\n",
       "      <td>-80.067868</td>\n",
       "    </tr>\n",
       "    <tr>\n",
       "      <th>2</th>\n",
       "      <td>1431517397</td>\n",
       "      <td>2822</td>\n",
       "      <td>SIDNEY ST</td>\n",
       "      <td>Maple: Red</td>\n",
       "      <td>Acer rubrum</td>\n",
       "      <td>22.0</td>\n",
       "      <td>6.0</td>\n",
       "      <td>6.0</td>\n",
       "      <td>3.0</td>\n",
       "      <td>Well or Pit</td>\n",
       "      <td>6.0</td>\n",
       "      <td>1.0</td>\n",
       "      <td>No</td>\n",
       "      <td>Commercial/Industrial</td>\n",
       "      <td>Fair</td>\n",
       "      <td>3.974858</td>\n",
       "      <td>496.857276</td>\n",
       "      <td>51.529093</td>\n",
       "      <td>85.640354</td>\n",
       "      <td>3.388820</td>\n",
       "      <td>16.084741</td>\n",
       "      <td>0.464026</td>\n",
       "      <td>0.101095</td>\n",
       "      <td>0.017643</td>\n",
       "      <td>0.007638</td>\n",
       "      <td>0.200391</td>\n",
       "      <td>0.043658</td>\n",
       "      <td>0.875966</td>\n",
       "      <td>0.190842</td>\n",
       "      <td>0.058725</td>\n",
       "      <td>0.016875</td>\n",
       "      <td>0.302735</td>\n",
       "      <td>0.086993</td>\n",
       "      <td>0.444639</td>\n",
       "      <td>0.053507</td>\n",
       "      <td>0.110526</td>\n",
       "      <td>0.013300</td>\n",
       "      <td>2.474653</td>\n",
       "      <td>0.513908</td>\n",
       "      <td>0.314952</td>\n",
       "      <td>45.287950</td>\n",
       "      <td>0.332776</td>\n",
       "      <td>59.616419</td>\n",
       "      <td>0.438061</td>\n",
       "      <td>-6.868639</td>\n",
       "      <td>-3.738763</td>\n",
       "      <td>94.296967</td>\n",
       "      <td>77.767116</td>\n",
       "      <td>South Side Flats</td>\n",
       "      <td>3.0</td>\n",
       "      <td>16.0</td>\n",
       "      <td>4.200316e+10</td>\n",
       "      <td>3.0</td>\n",
       "      <td>16.0</td>\n",
       "      <td>3.0</td>\n",
       "      <td>4-24</td>\n",
       "      <td>40.426797</td>\n",
       "      <td>-79.965035</td>\n",
       "    </tr>\n",
       "  </tbody>\n",
       "</table>\n",
       "</div>"
      ],
      "text/plain": [
       "           id address_number         street  ... fire_zone   latitude  longitude\n",
       "0   754166088           7428  MONTICELLO ST  ...      3-17  40.458169 -79.889724\n",
       "1  1946899269            220     BALVER AVE  ...      1-19  40.429269 -80.067868\n",
       "2  1431517397           2822      SIDNEY ST  ...      4-24  40.426797 -79.965035\n",
       "\n",
       "[3 rows x 58 columns]"
      ]
     },
     "execution_count": 56,
     "metadata": {},
     "output_type": "execute_result"
    }
   ],
   "source": [
    "df_trees.head(3)"
   ]
  },
  {
   "cell_type": "markdown",
   "metadata": {
    "id": "TUxvm9DCnOQ8"
   },
   "source": []
  },
  {
   "cell_type": "code",
<<<<<<< HEAD
   "execution_count": null,
=======
   "execution_count": 57,
>>>>>>> origin/tree_density
   "metadata": {
    "colab": {
     "base_uri": "https://localhost:8080/"
    },
    "id": "4xSr9fz6naSO",
    "outputId": "afb5f323-9ad9-4a2c-b1f4-b0a889a3cf73"
   },
   "outputs": [
    {
     "name": "stdout",
     "output_type": "stream",
     "text": [
      "45345\n"
     ]
    }
   ],
   "source": [
    "#Some datapoints are missing the basic tree name information. Only a few datapoints (13 in total)\n",
    "#so decided to drop them. \n",
    "df_trees = df_trees.dropna(subset = ['common_name'])\n",
    "df_trees = df_trees.dropna(subset = ['scientific_name'])\n",
    "\n",
    "# There are around 300 datapoints that are missing its geo location info. Drop them. \n",
    "# Our team is interested in the neighborhood-level granularity so as long as the \n",
    "# data point contains neighborhood information, it is valuable to us. \n",
    "df_trees = df_trees.dropna(subset = [\"latitude\"])\n",
    "df_trees = df_trees.dropna(subset = [\"longitude\"])\n",
    "df_trees = df_trees.dropna(subset = [\"neighborhood\"])\n",
    "\n",
    "#Also some data points are missing information. Drop these. \n",
    "df_trees = df_trees[df_trees[\"common_name\"] != \"Non-sufficient space\"]\n",
    "print(len(df_trees))"
   ]
  },
  {
   "cell_type": "code",
<<<<<<< HEAD
   "execution_count": null,
=======
   "execution_count": 58,
>>>>>>> origin/tree_density
   "metadata": {
    "id": "EuJsDQexoejI"
   },
   "outputs": [],
   "source": [
    "#These are all numerical benefit values. \n",
    "values = ['stormwater_benefits_dollar_value', 'stormwater_benefits_runoff_elim',\n",
    "       'property_value_benefits_dollarvalue',\n",
    "       'property_value_benefits_leaf_surface_area',\n",
    "       'energy_benefits_electricity_dollar_value',\n",
    "       'energy_benefits_gas_dollar_value',\n",
    "       'air_quality_benfits_o3dep_dollar_value',\n",
    "       'air_quality_benfits_o3dep_lbs',\n",
    "       'air_quality_benfits_vocavd_dollar_value',\n",
    "       'air_quality_benfits_vocavd_lbs',\n",
    "       'air_quality_benfits_no2dep_dollar_value',\n",
    "       'air_quality_benfits_no2dep_lbs',\n",
    "       'air_quality_benfits_no2avd_dollar_value',\n",
    "       'air_quality_benfits_no2avd_lbs',\n",
    "       'air_quality_benfits_so2dep_dollar_value',\n",
    "       'air_quality_benfits_so2dep_lbs',\n",
    "       'air_quality_benfits_so2avd_dollar_value',\n",
    "       'air_quality_benfits_so2avd_lbs',\n",
    "       'air_quality_benfits_pm10depdollar_value',\n",
    "       'air_quality_benfits_pm10dep_lbs',\n",
    "       'air_quality_benfits_pm10avd_dollar_value',\n",
    "       'air_quality_benfits_pm10avd_lbs',\n",
    "       'air_quality_benfits_total_dollar_value',\n",
    "       'air_quality_benfits_total_lbs', 'co2_benefits_dollar_value',\n",
    "       'co2_benefits_sequestered_lbs', 'co2_benefits_sequestered_value',\n",
    "       'co2_benefits_avoided_lbs', 'co2_benefits_avoided_value',\n",
    "       'co2_benefits_decomp_lbs', 'co2_benefits_maint_lbs',\n",
    "       'co2_benefits_totalco2_lbs', 'overall_benefits_dollar_value']\n",
    "\n",
    "#Assume tree stumps has no benefit values so replace NaN with 0.0\n",
    "cond = (df_trees[\"common_name\"] == \"Stump\") | (df_trees[\"scientific_name\"] == \"Stump\")\n",
    "\n",
    "#Assume vacant sites has no benefit values so replace NaN with 0.0\n",
    "cond2 = (df_trees[\"common_name\"] == 'Vacant Site Small') | (df_trees[\"common_name\"] == 'Vacant Site Medium') | (df_trees[\"common_name\"] == 'Vacant Site Not Suitable') | (df_trees[\"common_name\"] == 'Vacant Site Large') \n",
    "\n",
    "for val in values:\n",
    "  df_trees.loc[cond,val] = df_trees.loc[cond,val].fillna(0.0)\n",
    "  df_trees.loc[cond2,val] = df_trees.loc[cond2,val].fillna(0.0)"
   ]
  },
  {
   "cell_type": "code",
<<<<<<< HEAD
   "execution_count": null,
=======
   "execution_count": 59,
>>>>>>> origin/tree_density
   "metadata": {
    "id": "qo3T1G8St9hP"
   },
   "outputs": [],
   "source": [
    "# Some trees are missing some of the height, width, or benefit values. By missing, it means that\n",
    "# these values are either 0.0 or NaN. \n",
    "# Replace them with the average for that tree type so we do not have to drop that tree datapoint.\n",
    "# These values should be relatively independent of which neighborhood that tree is located in.\n",
    "# For example, it is unlikely that there will be a statistically significant difference in height\n",
    "# for the same type of tree across the neighborhoods. Similarly, the air quality value a type of tree provides\n",
    "# should be independent of the neighborhood. \n",
    "\n",
    "independent_cols_to_replace = ['height', 'width', 'growth_space_length','growth_space_width','diameter_base_height','stems',     \n",
    "                               'air_quality_benfits_o3dep_dollar_value',\n",
    "       'energy_benefits_electricity_dollar_value',\n",
    "       'energy_benefits_gas_dollar_value',\n",
    "       'air_quality_benfits_o3dep_lbs',\n",
    "       'air_quality_benfits_vocavd_dollar_value',\n",
    "       'air_quality_benfits_vocavd_lbs',\n",
    "       'air_quality_benfits_no2dep_dollar_value',\n",
    "       'air_quality_benfits_no2dep_lbs',\n",
    "       'air_quality_benfits_no2avd_dollar_value',\n",
    "       'air_quality_benfits_no2avd_lbs',\n",
    "       'air_quality_benfits_so2dep_dollar_value',\n",
    "       'air_quality_benfits_so2dep_lbs',\n",
    "       'air_quality_benfits_so2avd_dollar_value',\n",
    "       'air_quality_benfits_so2avd_lbs',\n",
    "       'air_quality_benfits_pm10depdollar_value',\n",
    "       'air_quality_benfits_pm10dep_lbs',\n",
    "       'air_quality_benfits_pm10avd_dollar_value',\n",
    "       'air_quality_benfits_pm10avd_lbs',\n",
    "       'air_quality_benfits_total_dollar_value',\n",
    "       'air_quality_benfits_total_lbs', 'co2_benefits_dollar_value',\n",
    "       'co2_benefits_sequestered_lbs', 'co2_benefits_sequestered_value',\n",
    "       'co2_benefits_avoided_lbs', 'co2_benefits_avoided_value',\n",
    "       'co2_benefits_decomp_lbs', 'co2_benefits_maint_lbs',\n",
    "       'co2_benefits_totalco2_lbs']\n",
    "\n",
    "\n",
    "tree_names = df_trees[\"common_name\"].unique()\n",
    "for val in independent_cols_to_replace:\n",
    "  for tree_name in tree_names:\n",
    "    t = df_trees[df_trees[\"common_name\"] == tree_name]\n",
    "    mean = t[val].mean()\n",
    "    mask = (df_trees['common_name'] == tree_name) & ((df_trees[val].isna()) | (df_trees[val] == 0.0))\n",
    "    df_trees.loc[mask, val] = mean\n",
    "    # df_trees[val].fillna(value=mean, inplace=True)\n"
   ]
  },
  {
   "cell_type": "code",
<<<<<<< HEAD
   "execution_count": null,
=======
   "execution_count": 60,
>>>>>>> origin/tree_density
   "metadata": {
    "id": "auQ1nQkN5PtG"
   },
   "outputs": [],
   "source": [
    "# Some attributes,on the other hand, may depend on the neighborhood. For example,\n",
    "# the property value benefits should be heavily influenced by the property value\n",
    "# in that neighorhood. Similarly, stormwater benefits can vary across neighborhood\n",
    "# based on the sewage condition. \n",
    "dependent_cols_to_replace = ['stormwater_benefits_dollar_value', 'stormwater_benefits_runoff_elim','property_value_benefits_dollarvalue', 'property_value_benefits_leaf_surface_area', 'overall_benefits_dollar_value']\n",
    "\n",
    "#Build a dictionary that maps neighborhood, tree name, and the means of the different benefit values.\n",
    "neighborhoods = df_trees[\"neighborhood\"].unique()\n",
    "tree_name_neighbor_hood_value_average = {}\n",
    "\n",
    "for neighborhood in neighborhoods:\n",
    "  tree_name_neighbor_hood_value_average[neighborhood] = {}\n",
    "  t = df_trees[df_trees[\"neighborhood\"] == neighborhood]\n",
    "  for tree_name in tree_names:\n",
    "    tree_name_neighbor_hood_value_average[neighborhood][tree_name] = {}\n",
    "    k = t[t[\"common_name\"] == tree_name]\n",
    "    for val in dependent_cols_to_replace:\n",
    "      mean = k[val].mean()\n",
    "      tree_name_neighbor_hood_value_average[neighborhood][tree_name][val] = mean"
   ]
  },
  {
   "cell_type": "code",
<<<<<<< HEAD
   "execution_count": null,
=======
   "execution_count": 61,
>>>>>>> origin/tree_density
   "metadata": {
    "id": "qYafQxbcpCvb"
   },
   "outputs": [],
   "source": [
    "# This cell may take a while to run since it is a triple for-loop. (around 15 mins in Google CoLab)\n",
    "for neighborhood in neighborhoods:\n",
    "  for tree_name in tree_names:\n",
    "    for val in dependent_cols_to_replace:\n",
    "      mean = tree_name_neighbor_hood_value_average[neighborhood][tree_name][val]\n",
    "      mask = (df_trees['neighborhood'] == neighborhood) & (df_trees['common_name'] == tree_name) & (df_trees[val].isna() | df_trees[val] == 0.0)\n",
    "      df_trees.loc[mask, val] = mean"
   ]
  },
  {
   "cell_type": "code",
<<<<<<< HEAD
   "execution_count": null,
=======
   "execution_count": 62,
>>>>>>> origin/tree_density
   "metadata": {
    "colab": {
     "base_uri": "https://localhost:8080/"
    },
    "id": "pc5CXuFExlxA",
    "outputId": "a0f817a3-7db6-44ca-d8d9-78010c7aed8e"
   },
   "outputs": [
    {
     "name": "stdout",
     "output_type": "stream",
     "text": [
      "Index(['address_number', 'street', 'height', 'width', 'growth_space_length',\n",
      "       'growth_space_width', 'growth_space_type', 'overhead_utilities',\n",
      "       'land_use', 'condition', 'stormwater_benefits_dollar_value',\n",
      "       'stormwater_benefits_runoff_elim',\n",
      "       'property_value_benefits_dollarvalue',\n",
      "       'property_value_benefits_leaf_surface_area',\n",
      "       'overall_benefits_dollar_value', 'council_district', 'ward',\n",
      "       'pli_division'],\n",
      "      dtype='object')\n"
     ]
    }
   ],
   "source": [
    "print(df_trees.columns[df_trees.isnull().any()])"
   ]
  },
  {
   "cell_type": "code",
<<<<<<< HEAD
   "execution_count": null,
=======
   "execution_count": 63,
>>>>>>> origin/tree_density
   "metadata": {
    "colab": {
     "base_uri": "https://localhost:8080/"
    },
    "id": "RiC2sGBCpwG-",
    "outputId": "8e101b84-f7b6-4203-bcd0-60d07156745f"
   },
   "outputs": [
    {
     "name": "stdout",
     "output_type": "stream",
     "text": [
      "Index(['address_number', 'street', 'height', 'width', 'growth_space_length',\n",
      "       'growth_space_width', 'growth_space_type', 'overhead_utilities',\n",
      "       'land_use', 'condition', 'council_district', 'ward', 'pli_division'],\n",
      "      dtype='object')\n",
      "5270\n"
     ]
    }
   ],
   "source": [
    "# However, some of the data points may still contain NaN in some of the columns \n",
    "# because that data point is the only tree of that type in that neighborhood. \n",
    "# In that case, just use the entire average for that type of tree. If that tree\n",
    "# is the only tree out of the entire dataset, then will leave it as NaN. \n",
    "for val in dependent_cols_to_replace:\n",
    "  for tree_name in tree_names:\n",
    "    t = df_trees[df_trees[\"common_name\"] == tree_name]\n",
    "    mean = t[val].mean()\n",
    "    df_trees[val].fillna(value=mean, inplace=True)\n",
    "\n",
    "\n",
    "print(df_trees.columns[df_trees.isnull().any()])\n",
    "# There will be some data points that contain NaN in some columns in the end, \n",
    "# but those can be processed specifically when those columns are used. \n",
    "# Also, data points like \"Vacant Site\" make sense to contain NaN because there is\n",
    "# no tree there yet. \n",
    "\n",
    "#There are around 5200 entries where the \"tree\" is actually just a tree stump or \n",
    "#a vacant spot of various sizes. However these data are still interesting. \n",
    "temp = df_trees[(df_trees[\"common_name\"] == \"Stump\") | (df_trees[\"common_name\"] == 'Vacant Site Small') | (df_trees[\"common_name\"] == 'Vacant Site Medium') | (df_trees[\"common_name\"] == 'Vacant Site Not Suitable') | (df_trees[\"common_name\"] == 'Vacant Site Large')] \n",
    "print(len(temp))"
   ]
  },
  {
   "cell_type": "code",
<<<<<<< HEAD
   "execution_count": null,
   "metadata": {
    "colab": {
     "base_uri": "https://localhost:8080/",
     "height": 51
=======
   "execution_count": 64,
   "metadata": {
    "colab": {
     "base_uri": "https://localhost:8080/",
     "height": 34
>>>>>>> origin/tree_density
    },
    "id": "KtAT6xxfACqY",
    "outputId": "a66758d8-288e-4b57-cd23-87c353b4dd2f"
   },
   "outputs": [
    {
     "name": "stdout",
     "output_type": "stream",
     "text": [
      "45345\n"
     ]
    },
    {
     "data": {
      "application/javascript": [
       "\n",
       "    async function download(id, filename, size) {\n",
       "      if (!google.colab.kernel.accessAllowed) {\n",
       "        return;\n",
       "      }\n",
       "      const div = document.createElement('div');\n",
       "      const label = document.createElement('label');\n",
       "      label.textContent = `Downloading \"${filename}\": `;\n",
       "      div.appendChild(label);\n",
       "      const progress = document.createElement('progress');\n",
       "      progress.max = size;\n",
       "      div.appendChild(progress);\n",
       "      document.body.appendChild(div);\n",
       "\n",
       "      const buffers = [];\n",
       "      let downloaded = 0;\n",
       "\n",
       "      const channel = await google.colab.kernel.comms.open(id);\n",
       "      // Send a message to notify the kernel that we're ready.\n",
       "      channel.send({})\n",
       "\n",
       "      for await (const message of channel.messages) {\n",
       "        // Send a message to notify the kernel that we're ready.\n",
       "        channel.send({})\n",
       "        if (message.buffers) {\n",
       "          for (const buffer of message.buffers) {\n",
       "            buffers.push(buffer);\n",
       "            downloaded += buffer.byteLength;\n",
       "            progress.value = downloaded;\n",
       "          }\n",
       "        }\n",
       "      }\n",
       "      const blob = new Blob(buffers, {type: 'application/binary'});\n",
       "      const a = document.createElement('a');\n",
       "      a.href = window.URL.createObjectURL(blob);\n",
       "      a.download = filename;\n",
       "      div.appendChild(a);\n",
       "      a.click();\n",
       "      div.remove();\n",
       "    }\n",
       "  "
      ],
      "text/plain": [
       "<IPython.core.display.Javascript object>"
      ]
     },
     "metadata": {},
     "output_type": "display_data"
    },
    {
     "data": {
      "application/javascript": [
       "download(\"download_0d4008e5-fd1d-4688-a651-e82addc2ab45\", \"cleaned_tree_data_5.csv\", 31886556)"
      ],
      "text/plain": [
       "<IPython.core.display.Javascript object>"
      ]
     },
     "metadata": {},
     "output_type": "display_data"
    }
   ],
   "source": [
    "print(len(df_trees))\n",
    "# Download the cleaned data \n",
    "df_trees.to_csv('cleaned_tree_data_5.csv', index=False) \n",
    "files.download('cleaned_tree_data_5.csv')"
   ]
  }
 ],
 "metadata": {
  "colab": {
   "collapsed_sections": [],
   "name": "ids_final_proj_data_clean.ipynb",
   "provenance": []
  },
  "kernelspec": {
<<<<<<< HEAD
   "display_name": "Python 3 (ipykernel)",
=======
   "display_name": "Python 3",
>>>>>>> origin/tree_density
   "language": "python",
   "name": "python3"
  },
  "language_info": {
   "codemirror_mode": {
    "name": "ipython",
    "version": 3
   },
   "file_extension": ".py",
   "mimetype": "text/x-python",
   "name": "python",
   "nbconvert_exporter": "python",
   "pygments_lexer": "ipython3",
<<<<<<< HEAD
   "version": "3.7.9"
=======
   "version": "3.8.8"
>>>>>>> origin/tree_density
  }
 },
 "nbformat": 4,
 "nbformat_minor": 1
}
