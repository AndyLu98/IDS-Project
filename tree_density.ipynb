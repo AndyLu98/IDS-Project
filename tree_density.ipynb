{
 "cells": [
  {
   "cell_type": "code",
   "execution_count": 722,
   "id": "12946803",
   "metadata": {},
   "outputs": [],
   "source": [
    "import numpy as np\n",
    "import pandas as pd\n",
    "import matplotlib.pyplot as plt\n",
    "import seaborn as sns\n",
    "import json, ast\n",
    "import plotly.express as px\n",
    "\n",
    "sns.set()"
   ]
  },
  {
   "cell_type": "code",
   "execution_count": 723,
   "id": "4270faf6",
   "metadata": {},
   "outputs": [],
   "source": [
    "# EDA"
   ]
  },
  {
   "cell_type": "markdown",
   "id": "92005121",
   "metadata": {},
   "source": [
    "**Load the data**"
   ]
  },
  {
   "cell_type": "code",
   "execution_count": 724,
   "id": "bd7f20c6",
   "metadata": {},
   "outputs": [],
   "source": [
    "raw_df_trees = pd.read_csv(\"cleaned_tree_data_5.csv\", encoding=\"ISO-8859-1\", dtype='unicode')"
   ]
  },
  {
   "cell_type": "code",
   "execution_count": 725,
   "id": "bf74d1e4",
   "metadata": {},
   "outputs": [
    {
     "data": {
      "text/plain": [
       "45345"
      ]
     },
     "execution_count": 725,
     "metadata": {},
     "output_type": "execute_result"
    }
   ],
   "source": [
    "len(raw_df_trees)"
   ]
  },
  {
   "cell_type": "code",
   "execution_count": 726,
   "id": "214114cc",
   "metadata": {},
   "outputs": [
    {
     "data": {
      "text/html": [
       "<div>\n",
       "<style scoped>\n",
       "    .dataframe tbody tr th:only-of-type {\n",
       "        vertical-align: middle;\n",
       "    }\n",
       "\n",
       "    .dataframe tbody tr th {\n",
       "        vertical-align: top;\n",
       "    }\n",
       "\n",
       "    .dataframe thead th {\n",
       "        text-align: right;\n",
       "    }\n",
       "</style>\n",
       "<table border=\"1\" class=\"dataframe\">\n",
       "  <thead>\n",
       "    <tr style=\"text-align: right;\">\n",
       "      <th></th>\n",
       "      <th>id</th>\n",
       "      <th>address_number</th>\n",
       "      <th>street</th>\n",
       "      <th>common_name</th>\n",
       "      <th>scientific_name</th>\n",
       "      <th>height</th>\n",
       "      <th>width</th>\n",
       "      <th>growth_space_length</th>\n",
       "      <th>growth_space_width</th>\n",
       "      <th>growth_space_type</th>\n",
       "      <th>diameter_base_height</th>\n",
       "      <th>stems</th>\n",
       "      <th>overhead_utilities</th>\n",
       "      <th>land_use</th>\n",
       "      <th>condition</th>\n",
       "      <th>stormwater_benefits_dollar_value</th>\n",
       "      <th>stormwater_benefits_runoff_elim</th>\n",
       "      <th>property_value_benefits_dollarvalue</th>\n",
       "      <th>property_value_benefits_leaf_surface_area</th>\n",
       "      <th>energy_benefits_electricity_dollar_value</th>\n",
       "      <th>energy_benefits_gas_dollar_value</th>\n",
       "      <th>air_quality_benfits_o3dep_dollar_value</th>\n",
       "      <th>air_quality_benfits_o3dep_lbs</th>\n",
       "      <th>air_quality_benfits_vocavd_dollar_value</th>\n",
       "      <th>air_quality_benfits_vocavd_lbs</th>\n",
       "      <th>air_quality_benfits_no2dep_dollar_value</th>\n",
       "      <th>air_quality_benfits_no2dep_lbs</th>\n",
       "      <th>air_quality_benfits_no2avd_dollar_value</th>\n",
       "      <th>air_quality_benfits_no2avd_lbs</th>\n",
       "      <th>air_quality_benfits_so2dep_dollar_value</th>\n",
       "      <th>air_quality_benfits_so2dep_lbs</th>\n",
       "      <th>air_quality_benfits_so2avd_dollar_value</th>\n",
       "      <th>air_quality_benfits_so2avd_lbs</th>\n",
       "      <th>air_quality_benfits_pm10depdollar_value</th>\n",
       "      <th>air_quality_benfits_pm10dep_lbs</th>\n",
       "      <th>air_quality_benfits_pm10avd_dollar_value</th>\n",
       "      <th>air_quality_benfits_pm10avd_lbs</th>\n",
       "      <th>air_quality_benfits_total_dollar_value</th>\n",
       "      <th>air_quality_benfits_total_lbs</th>\n",
       "      <th>co2_benefits_dollar_value</th>\n",
       "      <th>co2_benefits_sequestered_lbs</th>\n",
       "      <th>co2_benefits_sequestered_value</th>\n",
       "      <th>co2_benefits_avoided_lbs</th>\n",
       "      <th>co2_benefits_avoided_value</th>\n",
       "      <th>co2_benefits_decomp_lbs</th>\n",
       "      <th>co2_benefits_maint_lbs</th>\n",
       "      <th>co2_benefits_totalco2_lbs</th>\n",
       "      <th>overall_benefits_dollar_value</th>\n",
       "      <th>neighborhood</th>\n",
       "      <th>council_district</th>\n",
       "      <th>ward</th>\n",
       "      <th>tract</th>\n",
       "      <th>public_works_division</th>\n",
       "      <th>pli_division</th>\n",
       "      <th>police_zone</th>\n",
       "      <th>fire_zone</th>\n",
       "      <th>latitude</th>\n",
       "      <th>longitude</th>\n",
       "    </tr>\n",
       "  </thead>\n",
       "  <tbody>\n",
       "    <tr>\n",
       "      <th>0</th>\n",
       "      <td>754166088</td>\n",
       "      <td>7428.0</td>\n",
       "      <td>MONTICELLO ST</td>\n",
       "      <td>Stump</td>\n",
       "      <td>Stump</td>\n",
       "      <td>0.7428040854224698</td>\n",
       "      <td>0.2404828226555246</td>\n",
       "      <td>10.0</td>\n",
       "      <td>2.0</td>\n",
       "      <td>Well or Pit</td>\n",
       "      <td>16.0</td>\n",
       "      <td>1.0</td>\n",
       "      <td>Yes</td>\n",
       "      <td>Vacant</td>\n",
       "      <td>NaN</td>\n",
       "      <td>0.0</td>\n",
       "      <td>0.0</td>\n",
       "      <td>0.0</td>\n",
       "      <td>0.0</td>\n",
       "      <td>0.0</td>\n",
       "      <td>0.0</td>\n",
       "      <td>0.0</td>\n",
       "      <td>0.0</td>\n",
       "      <td>0.0</td>\n",
       "      <td>0.0</td>\n",
       "      <td>0.0</td>\n",
       "      <td>0.0</td>\n",
       "      <td>0.0</td>\n",
       "      <td>0.0</td>\n",
       "      <td>0.0</td>\n",
       "      <td>0.0</td>\n",
       "      <td>0.0</td>\n",
       "      <td>0.0</td>\n",
       "      <td>0.0</td>\n",
       "      <td>0.0</td>\n",
       "      <td>0.0</td>\n",
       "      <td>0.0</td>\n",
       "      <td>0.0</td>\n",
       "      <td>0.0</td>\n",
       "      <td>0.0</td>\n",
       "      <td>0.0</td>\n",
       "      <td>0.0</td>\n",
       "      <td>0.0</td>\n",
       "      <td>0.0</td>\n",
       "      <td>0.0</td>\n",
       "      <td>0.0</td>\n",
       "      <td>0.0</td>\n",
       "      <td>0.0</td>\n",
       "      <td>Homewood North</td>\n",
       "      <td>9.0</td>\n",
       "      <td>13.0</td>\n",
       "      <td>42003130200.0</td>\n",
       "      <td>2.0</td>\n",
       "      <td>13.0</td>\n",
       "      <td>5.0</td>\n",
       "      <td>3-17</td>\n",
       "      <td>40.45816863</td>\n",
       "      <td>-79.88972391</td>\n",
       "    </tr>\n",
       "    <tr>\n",
       "      <th>1</th>\n",
       "      <td>1946899269</td>\n",
       "      <td>220.0</td>\n",
       "      <td>BALVER AVE</td>\n",
       "      <td>Linden: Littleleaf</td>\n",
       "      <td>Tilia cordata</td>\n",
       "      <td>30.952598752598753</td>\n",
       "      <td>8.833264033264033</td>\n",
       "      <td>99.0</td>\n",
       "      <td>99.0</td>\n",
       "      <td>Open or Unrestricted</td>\n",
       "      <td>22.0</td>\n",
       "      <td>1.0116038126813096</td>\n",
       "      <td>No</td>\n",
       "      <td>Residential</td>\n",
       "      <td>NaN</td>\n",
       "      <td>13.9466942599</td>\n",
       "      <td>1743.33678249</td>\n",
       "      <td>21.9848130518</td>\n",
       "      <td>36.5383334693</td>\n",
       "      <td>15.776457219200001</td>\n",
       "      <td>61.0683188097</td>\n",
       "      <td>2.36084749382</td>\n",
       "      <td>0.51434585922</td>\n",
       "      <td>0.07213824704789999</td>\n",
       "      <td>0.031228678375699998</td>\n",
       "      <td>0.992383683567</td>\n",
       "      <td>0.216205595548</td>\n",
       "      <td>3.7023061135300006</td>\n",
       "      <td>0.806602639112</td>\n",
       "      <td>0.27490061234900004</td>\n",
       "      <td>0.078994428836</td>\n",
       "      <td>1.4077237315600002</td>\n",
       "      <td>0.404518313668</td>\n",
       "      <td>2.18532822434</td>\n",
       "      <td>0.26297571893399996</td>\n",
       "      <td>0.461810057269</td>\n",
       "      <td>0.0555728107424</td>\n",
       "      <td>11.457438163399999</td>\n",
       "      <td>2.37044404444</td>\n",
       "      <td>0.944600765534</td>\n",
       "      <td>115.328075315</td>\n",
       "      <td>0.847430697411</td>\n",
       "      <td>277.540792624</td>\n",
       "      <td>2.0393697442</td>\n",
       "      <td>-96.34547132700001</td>\n",
       "      <td>-13.7087961535</td>\n",
       "      <td>282.814600458</td>\n",
       "      <td>125.17832227</td>\n",
       "      <td>Oakwood</td>\n",
       "      <td>2.0</td>\n",
       "      <td>28.0</td>\n",
       "      <td>42003562800.0</td>\n",
       "      <td>5.0</td>\n",
       "      <td>28.0</td>\n",
       "      <td>6.0</td>\n",
       "      <td>1-19</td>\n",
       "      <td>40.42926879</td>\n",
       "      <td>-80.06786821</td>\n",
       "    </tr>\n",
       "    <tr>\n",
       "      <th>2</th>\n",
       "      <td>1431517397</td>\n",
       "      <td>2822.0</td>\n",
       "      <td>SIDNEY ST</td>\n",
       "      <td>Maple: Red</td>\n",
       "      <td>Acer rubrum</td>\n",
       "      <td>22.0</td>\n",
       "      <td>6.0</td>\n",
       "      <td>6.0</td>\n",
       "      <td>3.0</td>\n",
       "      <td>Well or Pit</td>\n",
       "      <td>6.0</td>\n",
       "      <td>1.0</td>\n",
       "      <td>No</td>\n",
       "      <td>Commercial/Industrial</td>\n",
       "      <td>Fair</td>\n",
       "      <td>3.97485820864</td>\n",
       "      <td>496.85727608</td>\n",
       "      <td>51.529092533100005</td>\n",
       "      <td>85.6403537258</td>\n",
       "      <td>3.3888203575599998</td>\n",
       "      <td>16.08474051</td>\n",
       "      <td>0.464026396623</td>\n",
       "      <td>0.10109507551699999</td>\n",
       "      <td>0.017643365156499998</td>\n",
       "      <td>0.00763782041405</td>\n",
       "      <td>0.20039118506499998</td>\n",
       "      <td>0.0436582102539</td>\n",
       "      <td>0.8759662842679999</td>\n",
       "      <td>0.190842327727</td>\n",
       "      <td>0.0587249372819</td>\n",
       "      <td>0.0168749819776</td>\n",
       "      <td>0.302735385882</td>\n",
       "      <td>0.0869929269772</td>\n",
       "      <td>0.444639118191</td>\n",
       "      <td>0.05350651241769999</td>\n",
       "      <td>0.110526048628</td>\n",
       "      <td>0.013300366862600001</td>\n",
       "      <td>2.4746527210900005</td>\n",
       "      <td>0.5139082221469999</td>\n",
       "      <td>0.314951871182</td>\n",
       "      <td>45.2879502377</td>\n",
       "      <td>0.33277585834600004</td>\n",
       "      <td>59.616419265</td>\n",
       "      <td>0.438061448759</td>\n",
       "      <td>-6.86863949566</td>\n",
       "      <td>-3.73876258732</td>\n",
       "      <td>94.2969674194</td>\n",
       "      <td>77.7671162015</td>\n",
       "      <td>South Side Flats</td>\n",
       "      <td>3.0</td>\n",
       "      <td>16.0</td>\n",
       "      <td>42003160900.0</td>\n",
       "      <td>3.0</td>\n",
       "      <td>16.0</td>\n",
       "      <td>3.0</td>\n",
       "      <td>4-24</td>\n",
       "      <td>40.42679667</td>\n",
       "      <td>-79.96503491</td>\n",
       "    </tr>\n",
       "  </tbody>\n",
       "</table>\n",
       "</div>"
      ],
      "text/plain": [
       "           id address_number         street         common_name  \\\n",
       "0   754166088         7428.0  MONTICELLO ST               Stump   \n",
       "1  1946899269          220.0     BALVER AVE  Linden: Littleleaf   \n",
       "2  1431517397         2822.0      SIDNEY ST          Maple: Red   \n",
       "\n",
       "  scientific_name              height               width growth_space_length  \\\n",
       "0           Stump  0.7428040854224698  0.2404828226555246                10.0   \n",
       "1   Tilia cordata  30.952598752598753   8.833264033264033                99.0   \n",
       "2     Acer rubrum                22.0                 6.0                 6.0   \n",
       "\n",
       "  growth_space_width     growth_space_type diameter_base_height  \\\n",
       "0                2.0           Well or Pit                 16.0   \n",
       "1               99.0  Open or Unrestricted                 22.0   \n",
       "2                3.0           Well or Pit                  6.0   \n",
       "\n",
       "                stems overhead_utilities               land_use condition  \\\n",
       "0                 1.0                Yes                 Vacant       NaN   \n",
       "1  1.0116038126813096                 No            Residential       NaN   \n",
       "2                 1.0                 No  Commercial/Industrial      Fair   \n",
       "\n",
       "  stormwater_benefits_dollar_value stormwater_benefits_runoff_elim  \\\n",
       "0                              0.0                             0.0   \n",
       "1                    13.9466942599                   1743.33678249   \n",
       "2                    3.97485820864                    496.85727608   \n",
       "\n",
       "  property_value_benefits_dollarvalue  \\\n",
       "0                                 0.0   \n",
       "1                       21.9848130518   \n",
       "2                  51.529092533100005   \n",
       "\n",
       "  property_value_benefits_leaf_surface_area  \\\n",
       "0                                       0.0   \n",
       "1                             36.5383334693   \n",
       "2                             85.6403537258   \n",
       "\n",
       "  energy_benefits_electricity_dollar_value energy_benefits_gas_dollar_value  \\\n",
       "0                                      0.0                              0.0   \n",
       "1                       15.776457219200001                    61.0683188097   \n",
       "2                       3.3888203575599998                      16.08474051   \n",
       "\n",
       "  air_quality_benfits_o3dep_dollar_value air_quality_benfits_o3dep_lbs  \\\n",
       "0                                    0.0                           0.0   \n",
       "1                          2.36084749382                 0.51434585922   \n",
       "2                         0.464026396623           0.10109507551699999   \n",
       "\n",
       "  air_quality_benfits_vocavd_dollar_value air_quality_benfits_vocavd_lbs  \\\n",
       "0                                     0.0                            0.0   \n",
       "1                     0.07213824704789999           0.031228678375699998   \n",
       "2                    0.017643365156499998               0.00763782041405   \n",
       "\n",
       "  air_quality_benfits_no2dep_dollar_value air_quality_benfits_no2dep_lbs  \\\n",
       "0                                     0.0                            0.0   \n",
       "1                          0.992383683567                 0.216205595548   \n",
       "2                     0.20039118506499998                0.0436582102539   \n",
       "\n",
       "  air_quality_benfits_no2avd_dollar_value air_quality_benfits_no2avd_lbs  \\\n",
       "0                                     0.0                            0.0   \n",
       "1                      3.7023061135300006                 0.806602639112   \n",
       "2                      0.8759662842679999                 0.190842327727   \n",
       "\n",
       "  air_quality_benfits_so2dep_dollar_value air_quality_benfits_so2dep_lbs  \\\n",
       "0                                     0.0                            0.0   \n",
       "1                     0.27490061234900004                 0.078994428836   \n",
       "2                         0.0587249372819                0.0168749819776   \n",
       "\n",
       "  air_quality_benfits_so2avd_dollar_value air_quality_benfits_so2avd_lbs  \\\n",
       "0                                     0.0                            0.0   \n",
       "1                      1.4077237315600002                 0.404518313668   \n",
       "2                          0.302735385882                0.0869929269772   \n",
       "\n",
       "  air_quality_benfits_pm10depdollar_value air_quality_benfits_pm10dep_lbs  \\\n",
       "0                                     0.0                             0.0   \n",
       "1                           2.18532822434             0.26297571893399996   \n",
       "2                          0.444639118191             0.05350651241769999   \n",
       "\n",
       "  air_quality_benfits_pm10avd_dollar_value air_quality_benfits_pm10avd_lbs  \\\n",
       "0                                      0.0                             0.0   \n",
       "1                           0.461810057269                 0.0555728107424   \n",
       "2                           0.110526048628            0.013300366862600001   \n",
       "\n",
       "  air_quality_benfits_total_dollar_value air_quality_benfits_total_lbs  \\\n",
       "0                                    0.0                           0.0   \n",
       "1                     11.457438163399999                 2.37044404444   \n",
       "2                     2.4746527210900005            0.5139082221469999   \n",
       "\n",
       "  co2_benefits_dollar_value co2_benefits_sequestered_lbs  \\\n",
       "0                       0.0                          0.0   \n",
       "1            0.944600765534                115.328075315   \n",
       "2            0.314951871182                45.2879502377   \n",
       "\n",
       "  co2_benefits_sequestered_value co2_benefits_avoided_lbs  \\\n",
       "0                            0.0                      0.0   \n",
       "1                 0.847430697411            277.540792624   \n",
       "2            0.33277585834600004             59.616419265   \n",
       "\n",
       "  co2_benefits_avoided_value co2_benefits_decomp_lbs co2_benefits_maint_lbs  \\\n",
       "0                        0.0                     0.0                    0.0   \n",
       "1               2.0393697442      -96.34547132700001         -13.7087961535   \n",
       "2             0.438061448759          -6.86863949566         -3.73876258732   \n",
       "\n",
       "  co2_benefits_totalco2_lbs overall_benefits_dollar_value      neighborhood  \\\n",
       "0                       0.0                           0.0    Homewood North   \n",
       "1             282.814600458                  125.17832227           Oakwood   \n",
       "2             94.2969674194                 77.7671162015  South Side Flats   \n",
       "\n",
       "  council_district  ward          tract public_works_division pli_division  \\\n",
       "0              9.0  13.0  42003130200.0                   2.0         13.0   \n",
       "1              2.0  28.0  42003562800.0                   5.0         28.0   \n",
       "2              3.0  16.0  42003160900.0                   3.0         16.0   \n",
       "\n",
       "  police_zone fire_zone     latitude     longitude  \n",
       "0         5.0      3-17  40.45816863  -79.88972391  \n",
       "1         6.0      1-19  40.42926879  -80.06786821  \n",
       "2         3.0      4-24  40.42679667  -79.96503491  "
      ]
     },
     "execution_count": 726,
     "metadata": {},
     "output_type": "execute_result"
    }
   ],
   "source": [
    "raw_df_trees.head(3)"
   ]
  },
  {
   "cell_type": "markdown",
   "id": "4b3cd4f7",
   "metadata": {},
   "source": [
    "**Filter out the stums from the dataframe**"
   ]
  },
  {
   "cell_type": "code",
   "execution_count": 727,
   "id": "a9b54d39",
   "metadata": {},
   "outputs": [],
   "source": [
    "df_trees = raw_df_trees[(raw_df_trees['common_name'] != 'Stump') & \n",
    "                       (raw_df_trees['scientific_name'] != 'Stump') &\n",
    "                       (raw_df_trees['common_name'] != 'Vacant Site Small') & \n",
    "                       (raw_df_trees['common_name'] != 'Vacant Site Medium') & \n",
    "                       (raw_df_trees['common_name'] != 'Vacant Site Not Suitable') & \n",
    "                       (raw_df_trees['common_name'] != 'Vacant Site Large')]"
   ]
  },
  {
   "cell_type": "code",
   "execution_count": 728,
   "id": "d83b9552",
   "metadata": {},
   "outputs": [
    {
     "data": {
      "text/plain": [
       "40075"
      ]
     },
     "execution_count": 728,
     "metadata": {},
     "output_type": "execute_result"
    }
   ],
   "source": [
    "len(df_trees)"
   ]
  },
  {
   "cell_type": "code",
   "execution_count": 729,
   "id": "a15e8fb5",
   "metadata": {},
   "outputs": [
    {
     "data": {
      "text/html": [
       "<div>\n",
       "<style scoped>\n",
       "    .dataframe tbody tr th:only-of-type {\n",
       "        vertical-align: middle;\n",
       "    }\n",
       "\n",
       "    .dataframe tbody tr th {\n",
       "        vertical-align: top;\n",
       "    }\n",
       "\n",
       "    .dataframe thead th {\n",
       "        text-align: right;\n",
       "    }\n",
       "</style>\n",
       "<table border=\"1\" class=\"dataframe\">\n",
       "  <thead>\n",
       "    <tr style=\"text-align: right;\">\n",
       "      <th></th>\n",
       "      <th>id</th>\n",
       "      <th>address_number</th>\n",
       "      <th>street</th>\n",
       "      <th>common_name</th>\n",
       "      <th>scientific_name</th>\n",
       "      <th>height</th>\n",
       "      <th>width</th>\n",
       "      <th>growth_space_length</th>\n",
       "      <th>growth_space_width</th>\n",
       "      <th>growth_space_type</th>\n",
       "      <th>diameter_base_height</th>\n",
       "      <th>stems</th>\n",
       "      <th>overhead_utilities</th>\n",
       "      <th>land_use</th>\n",
       "      <th>condition</th>\n",
       "      <th>stormwater_benefits_dollar_value</th>\n",
       "      <th>stormwater_benefits_runoff_elim</th>\n",
       "      <th>property_value_benefits_dollarvalue</th>\n",
       "      <th>property_value_benefits_leaf_surface_area</th>\n",
       "      <th>energy_benefits_electricity_dollar_value</th>\n",
       "      <th>energy_benefits_gas_dollar_value</th>\n",
       "      <th>air_quality_benfits_o3dep_dollar_value</th>\n",
       "      <th>air_quality_benfits_o3dep_lbs</th>\n",
       "      <th>air_quality_benfits_vocavd_dollar_value</th>\n",
       "      <th>air_quality_benfits_vocavd_lbs</th>\n",
       "      <th>air_quality_benfits_no2dep_dollar_value</th>\n",
       "      <th>air_quality_benfits_no2dep_lbs</th>\n",
       "      <th>air_quality_benfits_no2avd_dollar_value</th>\n",
       "      <th>air_quality_benfits_no2avd_lbs</th>\n",
       "      <th>air_quality_benfits_so2dep_dollar_value</th>\n",
       "      <th>air_quality_benfits_so2dep_lbs</th>\n",
       "      <th>air_quality_benfits_so2avd_dollar_value</th>\n",
       "      <th>air_quality_benfits_so2avd_lbs</th>\n",
       "      <th>air_quality_benfits_pm10depdollar_value</th>\n",
       "      <th>air_quality_benfits_pm10dep_lbs</th>\n",
       "      <th>air_quality_benfits_pm10avd_dollar_value</th>\n",
       "      <th>air_quality_benfits_pm10avd_lbs</th>\n",
       "      <th>air_quality_benfits_total_dollar_value</th>\n",
       "      <th>air_quality_benfits_total_lbs</th>\n",
       "      <th>co2_benefits_dollar_value</th>\n",
       "      <th>co2_benefits_sequestered_lbs</th>\n",
       "      <th>co2_benefits_sequestered_value</th>\n",
       "      <th>co2_benefits_avoided_lbs</th>\n",
       "      <th>co2_benefits_avoided_value</th>\n",
       "      <th>co2_benefits_decomp_lbs</th>\n",
       "      <th>co2_benefits_maint_lbs</th>\n",
       "      <th>co2_benefits_totalco2_lbs</th>\n",
       "      <th>overall_benefits_dollar_value</th>\n",
       "      <th>neighborhood</th>\n",
       "      <th>council_district</th>\n",
       "      <th>ward</th>\n",
       "      <th>tract</th>\n",
       "      <th>public_works_division</th>\n",
       "      <th>pli_division</th>\n",
       "      <th>police_zone</th>\n",
       "      <th>fire_zone</th>\n",
       "      <th>latitude</th>\n",
       "      <th>longitude</th>\n",
       "    </tr>\n",
       "  </thead>\n",
       "  <tbody>\n",
       "    <tr>\n",
       "      <th>1</th>\n",
       "      <td>1946899269</td>\n",
       "      <td>220.0</td>\n",
       "      <td>BALVER AVE</td>\n",
       "      <td>Linden: Littleleaf</td>\n",
       "      <td>Tilia cordata</td>\n",
       "      <td>30.952598752598753</td>\n",
       "      <td>8.833264033264033</td>\n",
       "      <td>99.0</td>\n",
       "      <td>99.0</td>\n",
       "      <td>Open or Unrestricted</td>\n",
       "      <td>22.0</td>\n",
       "      <td>1.0116038126813096</td>\n",
       "      <td>No</td>\n",
       "      <td>Residential</td>\n",
       "      <td>NaN</td>\n",
       "      <td>13.9466942599</td>\n",
       "      <td>1743.33678249</td>\n",
       "      <td>21.9848130518</td>\n",
       "      <td>36.5383334693</td>\n",
       "      <td>15.776457219200001</td>\n",
       "      <td>61.0683188097</td>\n",
       "      <td>2.36084749382</td>\n",
       "      <td>0.51434585922</td>\n",
       "      <td>0.07213824704789999</td>\n",
       "      <td>0.031228678375699998</td>\n",
       "      <td>0.992383683567</td>\n",
       "      <td>0.216205595548</td>\n",
       "      <td>3.7023061135300006</td>\n",
       "      <td>0.806602639112</td>\n",
       "      <td>0.27490061234900004</td>\n",
       "      <td>0.078994428836</td>\n",
       "      <td>1.4077237315600002</td>\n",
       "      <td>0.404518313668</td>\n",
       "      <td>2.18532822434</td>\n",
       "      <td>0.26297571893399996</td>\n",
       "      <td>0.461810057269</td>\n",
       "      <td>0.0555728107424</td>\n",
       "      <td>11.457438163399999</td>\n",
       "      <td>2.37044404444</td>\n",
       "      <td>0.944600765534</td>\n",
       "      <td>115.328075315</td>\n",
       "      <td>0.847430697411</td>\n",
       "      <td>277.540792624</td>\n",
       "      <td>2.0393697442</td>\n",
       "      <td>-96.34547132700001</td>\n",
       "      <td>-13.7087961535</td>\n",
       "      <td>282.814600458</td>\n",
       "      <td>125.17832227</td>\n",
       "      <td>Oakwood</td>\n",
       "      <td>2.0</td>\n",
       "      <td>28.0</td>\n",
       "      <td>42003562800.0</td>\n",
       "      <td>5.0</td>\n",
       "      <td>28.0</td>\n",
       "      <td>6.0</td>\n",
       "      <td>1-19</td>\n",
       "      <td>40.42926879</td>\n",
       "      <td>-80.06786821</td>\n",
       "    </tr>\n",
       "    <tr>\n",
       "      <th>2</th>\n",
       "      <td>1431517397</td>\n",
       "      <td>2822.0</td>\n",
       "      <td>SIDNEY ST</td>\n",
       "      <td>Maple: Red</td>\n",
       "      <td>Acer rubrum</td>\n",
       "      <td>22.0</td>\n",
       "      <td>6.0</td>\n",
       "      <td>6.0</td>\n",
       "      <td>3.0</td>\n",
       "      <td>Well or Pit</td>\n",
       "      <td>6.0</td>\n",
       "      <td>1.0</td>\n",
       "      <td>No</td>\n",
       "      <td>Commercial/Industrial</td>\n",
       "      <td>Fair</td>\n",
       "      <td>3.97485820864</td>\n",
       "      <td>496.85727608</td>\n",
       "      <td>51.529092533100005</td>\n",
       "      <td>85.6403537258</td>\n",
       "      <td>3.3888203575599998</td>\n",
       "      <td>16.08474051</td>\n",
       "      <td>0.464026396623</td>\n",
       "      <td>0.10109507551699999</td>\n",
       "      <td>0.017643365156499998</td>\n",
       "      <td>0.00763782041405</td>\n",
       "      <td>0.20039118506499998</td>\n",
       "      <td>0.0436582102539</td>\n",
       "      <td>0.8759662842679999</td>\n",
       "      <td>0.190842327727</td>\n",
       "      <td>0.0587249372819</td>\n",
       "      <td>0.0168749819776</td>\n",
       "      <td>0.302735385882</td>\n",
       "      <td>0.0869929269772</td>\n",
       "      <td>0.444639118191</td>\n",
       "      <td>0.05350651241769999</td>\n",
       "      <td>0.110526048628</td>\n",
       "      <td>0.013300366862600001</td>\n",
       "      <td>2.4746527210900005</td>\n",
       "      <td>0.5139082221469999</td>\n",
       "      <td>0.314951871182</td>\n",
       "      <td>45.2879502377</td>\n",
       "      <td>0.33277585834600004</td>\n",
       "      <td>59.616419265</td>\n",
       "      <td>0.438061448759</td>\n",
       "      <td>-6.86863949566</td>\n",
       "      <td>-3.73876258732</td>\n",
       "      <td>94.2969674194</td>\n",
       "      <td>77.7671162015</td>\n",
       "      <td>South Side Flats</td>\n",
       "      <td>3.0</td>\n",
       "      <td>16.0</td>\n",
       "      <td>42003160900.0</td>\n",
       "      <td>3.0</td>\n",
       "      <td>16.0</td>\n",
       "      <td>3.0</td>\n",
       "      <td>4-24</td>\n",
       "      <td>40.42679667</td>\n",
       "      <td>-79.96503491</td>\n",
       "    </tr>\n",
       "    <tr>\n",
       "      <th>3</th>\n",
       "      <td>994063598</td>\n",
       "      <td>608.0</td>\n",
       "      <td>SUISMON ST</td>\n",
       "      <td>Maple: Freeman</td>\n",
       "      <td>Acer x freemanii</td>\n",
       "      <td>25.0</td>\n",
       "      <td>10.0</td>\n",
       "      <td>3.0</td>\n",
       "      <td>3.0</td>\n",
       "      <td>Well or Pit</td>\n",
       "      <td>7.0</td>\n",
       "      <td>1.0</td>\n",
       "      <td>Conflicting</td>\n",
       "      <td>Residential</td>\n",
       "      <td>Fair</td>\n",
       "      <td>4.77566237175</td>\n",
       "      <td>596.957796467</td>\n",
       "      <td>43.1845240318</td>\n",
       "      <td>71.7718425022</td>\n",
       "      <td>5.3962179528</td>\n",
       "      <td>24.220928722800004</td>\n",
       "      <td>0.742734848787</td>\n",
       "      <td>0.161815871195</td>\n",
       "      <td>0.027087080466999997</td>\n",
       "      <td>0.0117260088601</td>\n",
       "      <td>0.312209046574</td>\n",
       "      <td>0.0680194001252</td>\n",
       "      <td>1.35699869677</td>\n",
       "      <td>0.295642417598</td>\n",
       "      <td>0.0864851564018</td>\n",
       "      <td>0.024852056437400002</td>\n",
       "      <td>0.481897783617</td>\n",
       "      <td>0.13847637460200002</td>\n",
       "      <td>0.6875155775640001</td>\n",
       "      <td>0.08273352317260001</td>\n",
       "      <td>0.17068357443</td>\n",
       "      <td>0.020539539642599997</td>\n",
       "      <td>3.8656117646199997</td>\n",
       "      <td>0.803805191634</td>\n",
       "      <td>0.39531443276699996</td>\n",
       "      <td>33.5649564029</td>\n",
       "      <td>0.246635299649</td>\n",
       "      <td>94.9307304536</td>\n",
       "      <td>0.6975510073729999</td>\n",
       "      <td>-5.77618257091</td>\n",
       "      <td>-4.3618896851999995</td>\n",
       "      <td>118.35761460100001</td>\n",
       "      <td>81.8382592766</td>\n",
       "      <td>East Allegheny</td>\n",
       "      <td>1.0</td>\n",
       "      <td>23.0</td>\n",
       "      <td>42003563200.0</td>\n",
       "      <td>1.0</td>\n",
       "      <td>23.0</td>\n",
       "      <td>1.0</td>\n",
       "      <td>1-6</td>\n",
       "      <td>40.45550338</td>\n",
       "      <td>-79.99927602</td>\n",
       "    </tr>\n",
       "  </tbody>\n",
       "</table>\n",
       "</div>"
      ],
      "text/plain": [
       "           id address_number      street         common_name  \\\n",
       "1  1946899269          220.0  BALVER AVE  Linden: Littleleaf   \n",
       "2  1431517397         2822.0   SIDNEY ST          Maple: Red   \n",
       "3   994063598          608.0  SUISMON ST      Maple: Freeman   \n",
       "\n",
       "    scientific_name              height              width  \\\n",
       "1     Tilia cordata  30.952598752598753  8.833264033264033   \n",
       "2       Acer rubrum                22.0                6.0   \n",
       "3  Acer x freemanii                25.0               10.0   \n",
       "\n",
       "  growth_space_length growth_space_width     growth_space_type  \\\n",
       "1                99.0               99.0  Open or Unrestricted   \n",
       "2                 6.0                3.0           Well or Pit   \n",
       "3                 3.0                3.0           Well or Pit   \n",
       "\n",
       "  diameter_base_height               stems overhead_utilities  \\\n",
       "1                 22.0  1.0116038126813096                 No   \n",
       "2                  6.0                 1.0                 No   \n",
       "3                  7.0                 1.0        Conflicting   \n",
       "\n",
       "                land_use condition stormwater_benefits_dollar_value  \\\n",
       "1            Residential       NaN                    13.9466942599   \n",
       "2  Commercial/Industrial      Fair                    3.97485820864   \n",
       "3            Residential      Fair                    4.77566237175   \n",
       "\n",
       "  stormwater_benefits_runoff_elim property_value_benefits_dollarvalue  \\\n",
       "1                   1743.33678249                       21.9848130518   \n",
       "2                    496.85727608                  51.529092533100005   \n",
       "3                   596.957796467                       43.1845240318   \n",
       "\n",
       "  property_value_benefits_leaf_surface_area  \\\n",
       "1                             36.5383334693   \n",
       "2                             85.6403537258   \n",
       "3                             71.7718425022   \n",
       "\n",
       "  energy_benefits_electricity_dollar_value energy_benefits_gas_dollar_value  \\\n",
       "1                       15.776457219200001                    61.0683188097   \n",
       "2                       3.3888203575599998                      16.08474051   \n",
       "3                             5.3962179528               24.220928722800004   \n",
       "\n",
       "  air_quality_benfits_o3dep_dollar_value air_quality_benfits_o3dep_lbs  \\\n",
       "1                          2.36084749382                 0.51434585922   \n",
       "2                         0.464026396623           0.10109507551699999   \n",
       "3                         0.742734848787                0.161815871195   \n",
       "\n",
       "  air_quality_benfits_vocavd_dollar_value air_quality_benfits_vocavd_lbs  \\\n",
       "1                     0.07213824704789999           0.031228678375699998   \n",
       "2                    0.017643365156499998               0.00763782041405   \n",
       "3                    0.027087080466999997                0.0117260088601   \n",
       "\n",
       "  air_quality_benfits_no2dep_dollar_value air_quality_benfits_no2dep_lbs  \\\n",
       "1                          0.992383683567                 0.216205595548   \n",
       "2                     0.20039118506499998                0.0436582102539   \n",
       "3                          0.312209046574                0.0680194001252   \n",
       "\n",
       "  air_quality_benfits_no2avd_dollar_value air_quality_benfits_no2avd_lbs  \\\n",
       "1                      3.7023061135300006                 0.806602639112   \n",
       "2                      0.8759662842679999                 0.190842327727   \n",
       "3                           1.35699869677                 0.295642417598   \n",
       "\n",
       "  air_quality_benfits_so2dep_dollar_value air_quality_benfits_so2dep_lbs  \\\n",
       "1                     0.27490061234900004                 0.078994428836   \n",
       "2                         0.0587249372819                0.0168749819776   \n",
       "3                         0.0864851564018           0.024852056437400002   \n",
       "\n",
       "  air_quality_benfits_so2avd_dollar_value air_quality_benfits_so2avd_lbs  \\\n",
       "1                      1.4077237315600002                 0.404518313668   \n",
       "2                          0.302735385882                0.0869929269772   \n",
       "3                          0.481897783617            0.13847637460200002   \n",
       "\n",
       "  air_quality_benfits_pm10depdollar_value air_quality_benfits_pm10dep_lbs  \\\n",
       "1                           2.18532822434             0.26297571893399996   \n",
       "2                          0.444639118191             0.05350651241769999   \n",
       "3                      0.6875155775640001             0.08273352317260001   \n",
       "\n",
       "  air_quality_benfits_pm10avd_dollar_value air_quality_benfits_pm10avd_lbs  \\\n",
       "1                           0.461810057269                 0.0555728107424   \n",
       "2                           0.110526048628            0.013300366862600001   \n",
       "3                            0.17068357443            0.020539539642599997   \n",
       "\n",
       "  air_quality_benfits_total_dollar_value air_quality_benfits_total_lbs  \\\n",
       "1                     11.457438163399999                 2.37044404444   \n",
       "2                     2.4746527210900005            0.5139082221469999   \n",
       "3                     3.8656117646199997                0.803805191634   \n",
       "\n",
       "  co2_benefits_dollar_value co2_benefits_sequestered_lbs  \\\n",
       "1            0.944600765534                115.328075315   \n",
       "2            0.314951871182                45.2879502377   \n",
       "3       0.39531443276699996                33.5649564029   \n",
       "\n",
       "  co2_benefits_sequestered_value co2_benefits_avoided_lbs  \\\n",
       "1                 0.847430697411            277.540792624   \n",
       "2            0.33277585834600004             59.616419265   \n",
       "3                 0.246635299649            94.9307304536   \n",
       "\n",
       "  co2_benefits_avoided_value co2_benefits_decomp_lbs co2_benefits_maint_lbs  \\\n",
       "1               2.0393697442      -96.34547132700001         -13.7087961535   \n",
       "2             0.438061448759          -6.86863949566         -3.73876258732   \n",
       "3         0.6975510073729999          -5.77618257091    -4.3618896851999995   \n",
       "\n",
       "  co2_benefits_totalco2_lbs overall_benefits_dollar_value      neighborhood  \\\n",
       "1             282.814600458                  125.17832227           Oakwood   \n",
       "2             94.2969674194                 77.7671162015  South Side Flats   \n",
       "3        118.35761460100001                 81.8382592766    East Allegheny   \n",
       "\n",
       "  council_district  ward          tract public_works_division pli_division  \\\n",
       "1              2.0  28.0  42003562800.0                   5.0         28.0   \n",
       "2              3.0  16.0  42003160900.0                   3.0         16.0   \n",
       "3              1.0  23.0  42003563200.0                   1.0         23.0   \n",
       "\n",
       "  police_zone fire_zone     latitude     longitude  \n",
       "1         6.0      1-19  40.42926879  -80.06786821  \n",
       "2         3.0      4-24  40.42679667  -79.96503491  \n",
       "3         1.0       1-6  40.45550338  -79.99927602  "
      ]
     },
     "execution_count": 729,
     "metadata": {},
     "output_type": "execute_result"
    }
   ],
   "source": [
    "df_trees.head(3)"
   ]
  },
  {
   "cell_type": "code",
   "execution_count": 730,
   "id": "df83a20c",
   "metadata": {},
   "outputs": [
    {
     "data": {
      "text/plain": [
       "id                                           object\n",
       "address_number                               object\n",
       "street                                       object\n",
       "common_name                                  object\n",
       "scientific_name                              object\n",
       "height                                       object\n",
       "width                                        object\n",
       "growth_space_length                          object\n",
       "growth_space_width                           object\n",
       "growth_space_type                            object\n",
       "diameter_base_height                         object\n",
       "stems                                        object\n",
       "overhead_utilities                           object\n",
       "land_use                                     object\n",
       "condition                                    object\n",
       "stormwater_benefits_dollar_value             object\n",
       "stormwater_benefits_runoff_elim              object\n",
       "property_value_benefits_dollarvalue          object\n",
       "property_value_benefits_leaf_surface_area    object\n",
       "energy_benefits_electricity_dollar_value     object\n",
       "energy_benefits_gas_dollar_value             object\n",
       "air_quality_benfits_o3dep_dollar_value       object\n",
       "air_quality_benfits_o3dep_lbs                object\n",
       "air_quality_benfits_vocavd_dollar_value      object\n",
       "air_quality_benfits_vocavd_lbs               object\n",
       "air_quality_benfits_no2dep_dollar_value      object\n",
       "air_quality_benfits_no2dep_lbs               object\n",
       "air_quality_benfits_no2avd_dollar_value      object\n",
       "air_quality_benfits_no2avd_lbs               object\n",
       "air_quality_benfits_so2dep_dollar_value      object\n",
       "air_quality_benfits_so2dep_lbs               object\n",
       "air_quality_benfits_so2avd_dollar_value      object\n",
       "air_quality_benfits_so2avd_lbs               object\n",
       "air_quality_benfits_pm10depdollar_value      object\n",
       "air_quality_benfits_pm10dep_lbs              object\n",
       "air_quality_benfits_pm10avd_dollar_value     object\n",
       "air_quality_benfits_pm10avd_lbs              object\n",
       "air_quality_benfits_total_dollar_value       object\n",
       "air_quality_benfits_total_lbs                object\n",
       "co2_benefits_dollar_value                    object\n",
       "co2_benefits_sequestered_lbs                 object\n",
       "co2_benefits_sequestered_value               object\n",
       "co2_benefits_avoided_lbs                     object\n",
       "co2_benefits_avoided_value                   object\n",
       "co2_benefits_decomp_lbs                      object\n",
       "co2_benefits_maint_lbs                       object\n",
       "co2_benefits_totalco2_lbs                    object\n",
       "overall_benefits_dollar_value                object\n",
       "neighborhood                                 object\n",
       "council_district                             object\n",
       "ward                                         object\n",
       "tract                                        object\n",
       "public_works_division                        object\n",
       "pli_division                                 object\n",
       "police_zone                                  object\n",
       "fire_zone                                    object\n",
       "latitude                                     object\n",
       "longitude                                    object\n",
       "dtype: object"
      ]
     },
     "execution_count": 730,
     "metadata": {},
     "output_type": "execute_result"
    }
   ],
   "source": [
    "df_trees.dtypes"
   ]
  },
  {
   "cell_type": "code",
   "execution_count": 731,
   "id": "67ef2cd7",
   "metadata": {},
   "outputs": [
    {
     "data": {
      "text/plain": [
       "Index(['id', 'address_number', 'street', 'common_name', 'scientific_name',\n",
       "       'height', 'width', 'growth_space_length', 'growth_space_width',\n",
       "       'growth_space_type', 'diameter_base_height', 'stems',\n",
       "       'overhead_utilities', 'land_use', 'condition',\n",
       "       'stormwater_benefits_dollar_value', 'stormwater_benefits_runoff_elim',\n",
       "       'property_value_benefits_dollarvalue',\n",
       "       'property_value_benefits_leaf_surface_area',\n",
       "       'energy_benefits_electricity_dollar_value',\n",
       "       'energy_benefits_gas_dollar_value',\n",
       "       'air_quality_benfits_o3dep_dollar_value',\n",
       "       'air_quality_benfits_o3dep_lbs',\n",
       "       'air_quality_benfits_vocavd_dollar_value',\n",
       "       'air_quality_benfits_vocavd_lbs',\n",
       "       'air_quality_benfits_no2dep_dollar_value',\n",
       "       'air_quality_benfits_no2dep_lbs',\n",
       "       'air_quality_benfits_no2avd_dollar_value',\n",
       "       'air_quality_benfits_no2avd_lbs',\n",
       "       'air_quality_benfits_so2dep_dollar_value',\n",
       "       'air_quality_benfits_so2dep_lbs',\n",
       "       'air_quality_benfits_so2avd_dollar_value',\n",
       "       'air_quality_benfits_so2avd_lbs',\n",
       "       'air_quality_benfits_pm10depdollar_value',\n",
       "       'air_quality_benfits_pm10dep_lbs',\n",
       "       'air_quality_benfits_pm10avd_dollar_value',\n",
       "       'air_quality_benfits_pm10avd_lbs',\n",
       "       'air_quality_benfits_total_dollar_value',\n",
       "       'air_quality_benfits_total_lbs', 'co2_benefits_dollar_value',\n",
       "       'co2_benefits_sequestered_lbs', 'co2_benefits_sequestered_value',\n",
       "       'co2_benefits_avoided_lbs', 'co2_benefits_avoided_value',\n",
       "       'co2_benefits_decomp_lbs', 'co2_benefits_maint_lbs',\n",
       "       'co2_benefits_totalco2_lbs', 'overall_benefits_dollar_value',\n",
       "       'neighborhood', 'council_district', 'ward', 'tract',\n",
       "       'public_works_division', 'pli_division', 'police_zone', 'fire_zone',\n",
       "       'latitude', 'longitude'],\n",
       "      dtype='object')"
      ]
     },
     "execution_count": 731,
     "metadata": {},
     "output_type": "execute_result"
    }
   ],
   "source": [
    "df_trees.columns"
   ]
  },
  {
   "cell_type": "code",
   "execution_count": 732,
   "id": "a00da2ad",
   "metadata": {},
   "outputs": [
    {
     "name": "stderr",
     "output_type": "stream",
     "text": [
      "<ipython-input-732-e9b6f18fe45a>:2: SettingWithCopyWarning:\n",
      "\n",
      "\n",
      "A value is trying to be set on a copy of a slice from a DataFrame.\n",
      "Try using .loc[row_indexer,col_indexer] = value instead\n",
      "\n",
      "See the caveats in the documentation: https://pandas.pydata.org/pandas-docs/stable/user_guide/indexing.html#returning-a-view-versus-a-copy\n",
      "\n"
     ]
    }
   ],
   "source": [
    "# df_trees['tree_count'] = pd.Series([1 for x in range(len(df_trees.index))])\n",
    "df_trees['tree_count'] = 1"
   ]
  },
  {
   "cell_type": "code",
   "execution_count": 733,
   "id": "fcc57a5c",
   "metadata": {},
   "outputs": [
    {
     "data": {
      "text/html": [
       "<div>\n",
       "<style scoped>\n",
       "    .dataframe tbody tr th:only-of-type {\n",
       "        vertical-align: middle;\n",
       "    }\n",
       "\n",
       "    .dataframe tbody tr th {\n",
       "        vertical-align: top;\n",
       "    }\n",
       "\n",
       "    .dataframe thead th {\n",
       "        text-align: right;\n",
       "    }\n",
       "</style>\n",
       "<table border=\"1\" class=\"dataframe\">\n",
       "  <thead>\n",
       "    <tr style=\"text-align: right;\">\n",
       "      <th></th>\n",
       "      <th>id</th>\n",
       "      <th>address_number</th>\n",
       "      <th>street</th>\n",
       "      <th>common_name</th>\n",
       "      <th>scientific_name</th>\n",
       "      <th>height</th>\n",
       "      <th>width</th>\n",
       "      <th>growth_space_length</th>\n",
       "      <th>growth_space_width</th>\n",
       "      <th>growth_space_type</th>\n",
       "      <th>diameter_base_height</th>\n",
       "      <th>stems</th>\n",
       "      <th>overhead_utilities</th>\n",
       "      <th>land_use</th>\n",
       "      <th>condition</th>\n",
       "      <th>stormwater_benefits_dollar_value</th>\n",
       "      <th>stormwater_benefits_runoff_elim</th>\n",
       "      <th>property_value_benefits_dollarvalue</th>\n",
       "      <th>property_value_benefits_leaf_surface_area</th>\n",
       "      <th>energy_benefits_electricity_dollar_value</th>\n",
       "      <th>energy_benefits_gas_dollar_value</th>\n",
       "      <th>air_quality_benfits_o3dep_dollar_value</th>\n",
       "      <th>air_quality_benfits_o3dep_lbs</th>\n",
       "      <th>air_quality_benfits_vocavd_dollar_value</th>\n",
       "      <th>air_quality_benfits_vocavd_lbs</th>\n",
       "      <th>air_quality_benfits_no2dep_dollar_value</th>\n",
       "      <th>air_quality_benfits_no2dep_lbs</th>\n",
       "      <th>air_quality_benfits_no2avd_dollar_value</th>\n",
       "      <th>air_quality_benfits_no2avd_lbs</th>\n",
       "      <th>air_quality_benfits_so2dep_dollar_value</th>\n",
       "      <th>air_quality_benfits_so2dep_lbs</th>\n",
       "      <th>air_quality_benfits_so2avd_dollar_value</th>\n",
       "      <th>air_quality_benfits_so2avd_lbs</th>\n",
       "      <th>air_quality_benfits_pm10depdollar_value</th>\n",
       "      <th>air_quality_benfits_pm10dep_lbs</th>\n",
       "      <th>air_quality_benfits_pm10avd_dollar_value</th>\n",
       "      <th>air_quality_benfits_pm10avd_lbs</th>\n",
       "      <th>air_quality_benfits_total_dollar_value</th>\n",
       "      <th>air_quality_benfits_total_lbs</th>\n",
       "      <th>co2_benefits_dollar_value</th>\n",
       "      <th>co2_benefits_sequestered_lbs</th>\n",
       "      <th>co2_benefits_sequestered_value</th>\n",
       "      <th>co2_benefits_avoided_lbs</th>\n",
       "      <th>co2_benefits_avoided_value</th>\n",
       "      <th>co2_benefits_decomp_lbs</th>\n",
       "      <th>co2_benefits_maint_lbs</th>\n",
       "      <th>co2_benefits_totalco2_lbs</th>\n",
       "      <th>overall_benefits_dollar_value</th>\n",
       "      <th>neighborhood</th>\n",
       "      <th>council_district</th>\n",
       "      <th>ward</th>\n",
       "      <th>tract</th>\n",
       "      <th>public_works_division</th>\n",
       "      <th>pli_division</th>\n",
       "      <th>police_zone</th>\n",
       "      <th>fire_zone</th>\n",
       "      <th>latitude</th>\n",
       "      <th>longitude</th>\n",
       "      <th>tree_count</th>\n",
       "    </tr>\n",
       "  </thead>\n",
       "  <tbody>\n",
       "    <tr>\n",
       "      <th>1</th>\n",
       "      <td>1946899269</td>\n",
       "      <td>220.0</td>\n",
       "      <td>BALVER AVE</td>\n",
       "      <td>Linden: Littleleaf</td>\n",
       "      <td>Tilia cordata</td>\n",
       "      <td>30.952598752598753</td>\n",
       "      <td>8.833264033264033</td>\n",
       "      <td>99.0</td>\n",
       "      <td>99.0</td>\n",
       "      <td>Open or Unrestricted</td>\n",
       "      <td>22.0</td>\n",
       "      <td>1.0116038126813096</td>\n",
       "      <td>No</td>\n",
       "      <td>Residential</td>\n",
       "      <td>NaN</td>\n",
       "      <td>13.9466942599</td>\n",
       "      <td>1743.33678249</td>\n",
       "      <td>21.9848130518</td>\n",
       "      <td>36.5383334693</td>\n",
       "      <td>15.776457219200001</td>\n",
       "      <td>61.0683188097</td>\n",
       "      <td>2.36084749382</td>\n",
       "      <td>0.51434585922</td>\n",
       "      <td>0.07213824704789999</td>\n",
       "      <td>0.031228678375699998</td>\n",
       "      <td>0.992383683567</td>\n",
       "      <td>0.216205595548</td>\n",
       "      <td>3.7023061135300006</td>\n",
       "      <td>0.806602639112</td>\n",
       "      <td>0.27490061234900004</td>\n",
       "      <td>0.078994428836</td>\n",
       "      <td>1.4077237315600002</td>\n",
       "      <td>0.404518313668</td>\n",
       "      <td>2.18532822434</td>\n",
       "      <td>0.26297571893399996</td>\n",
       "      <td>0.461810057269</td>\n",
       "      <td>0.0555728107424</td>\n",
       "      <td>11.457438163399999</td>\n",
       "      <td>2.37044404444</td>\n",
       "      <td>0.944600765534</td>\n",
       "      <td>115.328075315</td>\n",
       "      <td>0.847430697411</td>\n",
       "      <td>277.540792624</td>\n",
       "      <td>2.0393697442</td>\n",
       "      <td>-96.34547132700001</td>\n",
       "      <td>-13.7087961535</td>\n",
       "      <td>282.814600458</td>\n",
       "      <td>125.17832227</td>\n",
       "      <td>Oakwood</td>\n",
       "      <td>2.0</td>\n",
       "      <td>28.0</td>\n",
       "      <td>42003562800.0</td>\n",
       "      <td>5.0</td>\n",
       "      <td>28.0</td>\n",
       "      <td>6.0</td>\n",
       "      <td>1-19</td>\n",
       "      <td>40.42926879</td>\n",
       "      <td>-80.06786821</td>\n",
       "      <td>1</td>\n",
       "    </tr>\n",
       "    <tr>\n",
       "      <th>2</th>\n",
       "      <td>1431517397</td>\n",
       "      <td>2822.0</td>\n",
       "      <td>SIDNEY ST</td>\n",
       "      <td>Maple: Red</td>\n",
       "      <td>Acer rubrum</td>\n",
       "      <td>22.0</td>\n",
       "      <td>6.0</td>\n",
       "      <td>6.0</td>\n",
       "      <td>3.0</td>\n",
       "      <td>Well or Pit</td>\n",
       "      <td>6.0</td>\n",
       "      <td>1.0</td>\n",
       "      <td>No</td>\n",
       "      <td>Commercial/Industrial</td>\n",
       "      <td>Fair</td>\n",
       "      <td>3.97485820864</td>\n",
       "      <td>496.85727608</td>\n",
       "      <td>51.529092533100005</td>\n",
       "      <td>85.6403537258</td>\n",
       "      <td>3.3888203575599998</td>\n",
       "      <td>16.08474051</td>\n",
       "      <td>0.464026396623</td>\n",
       "      <td>0.10109507551699999</td>\n",
       "      <td>0.017643365156499998</td>\n",
       "      <td>0.00763782041405</td>\n",
       "      <td>0.20039118506499998</td>\n",
       "      <td>0.0436582102539</td>\n",
       "      <td>0.8759662842679999</td>\n",
       "      <td>0.190842327727</td>\n",
       "      <td>0.0587249372819</td>\n",
       "      <td>0.0168749819776</td>\n",
       "      <td>0.302735385882</td>\n",
       "      <td>0.0869929269772</td>\n",
       "      <td>0.444639118191</td>\n",
       "      <td>0.05350651241769999</td>\n",
       "      <td>0.110526048628</td>\n",
       "      <td>0.013300366862600001</td>\n",
       "      <td>2.4746527210900005</td>\n",
       "      <td>0.5139082221469999</td>\n",
       "      <td>0.314951871182</td>\n",
       "      <td>45.2879502377</td>\n",
       "      <td>0.33277585834600004</td>\n",
       "      <td>59.616419265</td>\n",
       "      <td>0.438061448759</td>\n",
       "      <td>-6.86863949566</td>\n",
       "      <td>-3.73876258732</td>\n",
       "      <td>94.2969674194</td>\n",
       "      <td>77.7671162015</td>\n",
       "      <td>South Side Flats</td>\n",
       "      <td>3.0</td>\n",
       "      <td>16.0</td>\n",
       "      <td>42003160900.0</td>\n",
       "      <td>3.0</td>\n",
       "      <td>16.0</td>\n",
       "      <td>3.0</td>\n",
       "      <td>4-24</td>\n",
       "      <td>40.42679667</td>\n",
       "      <td>-79.96503491</td>\n",
       "      <td>1</td>\n",
       "    </tr>\n",
       "    <tr>\n",
       "      <th>3</th>\n",
       "      <td>994063598</td>\n",
       "      <td>608.0</td>\n",
       "      <td>SUISMON ST</td>\n",
       "      <td>Maple: Freeman</td>\n",
       "      <td>Acer x freemanii</td>\n",
       "      <td>25.0</td>\n",
       "      <td>10.0</td>\n",
       "      <td>3.0</td>\n",
       "      <td>3.0</td>\n",
       "      <td>Well or Pit</td>\n",
       "      <td>7.0</td>\n",
       "      <td>1.0</td>\n",
       "      <td>Conflicting</td>\n",
       "      <td>Residential</td>\n",
       "      <td>Fair</td>\n",
       "      <td>4.77566237175</td>\n",
       "      <td>596.957796467</td>\n",
       "      <td>43.1845240318</td>\n",
       "      <td>71.7718425022</td>\n",
       "      <td>5.3962179528</td>\n",
       "      <td>24.220928722800004</td>\n",
       "      <td>0.742734848787</td>\n",
       "      <td>0.161815871195</td>\n",
       "      <td>0.027087080466999997</td>\n",
       "      <td>0.0117260088601</td>\n",
       "      <td>0.312209046574</td>\n",
       "      <td>0.0680194001252</td>\n",
       "      <td>1.35699869677</td>\n",
       "      <td>0.295642417598</td>\n",
       "      <td>0.0864851564018</td>\n",
       "      <td>0.024852056437400002</td>\n",
       "      <td>0.481897783617</td>\n",
       "      <td>0.13847637460200002</td>\n",
       "      <td>0.6875155775640001</td>\n",
       "      <td>0.08273352317260001</td>\n",
       "      <td>0.17068357443</td>\n",
       "      <td>0.020539539642599997</td>\n",
       "      <td>3.8656117646199997</td>\n",
       "      <td>0.803805191634</td>\n",
       "      <td>0.39531443276699996</td>\n",
       "      <td>33.5649564029</td>\n",
       "      <td>0.246635299649</td>\n",
       "      <td>94.9307304536</td>\n",
       "      <td>0.6975510073729999</td>\n",
       "      <td>-5.77618257091</td>\n",
       "      <td>-4.3618896851999995</td>\n",
       "      <td>118.35761460100001</td>\n",
       "      <td>81.8382592766</td>\n",
       "      <td>East Allegheny</td>\n",
       "      <td>1.0</td>\n",
       "      <td>23.0</td>\n",
       "      <td>42003563200.0</td>\n",
       "      <td>1.0</td>\n",
       "      <td>23.0</td>\n",
       "      <td>1.0</td>\n",
       "      <td>1-6</td>\n",
       "      <td>40.45550338</td>\n",
       "      <td>-79.99927602</td>\n",
       "      <td>1</td>\n",
       "    </tr>\n",
       "  </tbody>\n",
       "</table>\n",
       "</div>"
      ],
      "text/plain": [
       "           id address_number      street         common_name  \\\n",
       "1  1946899269          220.0  BALVER AVE  Linden: Littleleaf   \n",
       "2  1431517397         2822.0   SIDNEY ST          Maple: Red   \n",
       "3   994063598          608.0  SUISMON ST      Maple: Freeman   \n",
       "\n",
       "    scientific_name              height              width  \\\n",
       "1     Tilia cordata  30.952598752598753  8.833264033264033   \n",
       "2       Acer rubrum                22.0                6.0   \n",
       "3  Acer x freemanii                25.0               10.0   \n",
       "\n",
       "  growth_space_length growth_space_width     growth_space_type  \\\n",
       "1                99.0               99.0  Open or Unrestricted   \n",
       "2                 6.0                3.0           Well or Pit   \n",
       "3                 3.0                3.0           Well or Pit   \n",
       "\n",
       "  diameter_base_height               stems overhead_utilities  \\\n",
       "1                 22.0  1.0116038126813096                 No   \n",
       "2                  6.0                 1.0                 No   \n",
       "3                  7.0                 1.0        Conflicting   \n",
       "\n",
       "                land_use condition stormwater_benefits_dollar_value  \\\n",
       "1            Residential       NaN                    13.9466942599   \n",
       "2  Commercial/Industrial      Fair                    3.97485820864   \n",
       "3            Residential      Fair                    4.77566237175   \n",
       "\n",
       "  stormwater_benefits_runoff_elim property_value_benefits_dollarvalue  \\\n",
       "1                   1743.33678249                       21.9848130518   \n",
       "2                    496.85727608                  51.529092533100005   \n",
       "3                   596.957796467                       43.1845240318   \n",
       "\n",
       "  property_value_benefits_leaf_surface_area  \\\n",
       "1                             36.5383334693   \n",
       "2                             85.6403537258   \n",
       "3                             71.7718425022   \n",
       "\n",
       "  energy_benefits_electricity_dollar_value energy_benefits_gas_dollar_value  \\\n",
       "1                       15.776457219200001                    61.0683188097   \n",
       "2                       3.3888203575599998                      16.08474051   \n",
       "3                             5.3962179528               24.220928722800004   \n",
       "\n",
       "  air_quality_benfits_o3dep_dollar_value air_quality_benfits_o3dep_lbs  \\\n",
       "1                          2.36084749382                 0.51434585922   \n",
       "2                         0.464026396623           0.10109507551699999   \n",
       "3                         0.742734848787                0.161815871195   \n",
       "\n",
       "  air_quality_benfits_vocavd_dollar_value air_quality_benfits_vocavd_lbs  \\\n",
       "1                     0.07213824704789999           0.031228678375699998   \n",
       "2                    0.017643365156499998               0.00763782041405   \n",
       "3                    0.027087080466999997                0.0117260088601   \n",
       "\n",
       "  air_quality_benfits_no2dep_dollar_value air_quality_benfits_no2dep_lbs  \\\n",
       "1                          0.992383683567                 0.216205595548   \n",
       "2                     0.20039118506499998                0.0436582102539   \n",
       "3                          0.312209046574                0.0680194001252   \n",
       "\n",
       "  air_quality_benfits_no2avd_dollar_value air_quality_benfits_no2avd_lbs  \\\n",
       "1                      3.7023061135300006                 0.806602639112   \n",
       "2                      0.8759662842679999                 0.190842327727   \n",
       "3                           1.35699869677                 0.295642417598   \n",
       "\n",
       "  air_quality_benfits_so2dep_dollar_value air_quality_benfits_so2dep_lbs  \\\n",
       "1                     0.27490061234900004                 0.078994428836   \n",
       "2                         0.0587249372819                0.0168749819776   \n",
       "3                         0.0864851564018           0.024852056437400002   \n",
       "\n",
       "  air_quality_benfits_so2avd_dollar_value air_quality_benfits_so2avd_lbs  \\\n",
       "1                      1.4077237315600002                 0.404518313668   \n",
       "2                          0.302735385882                0.0869929269772   \n",
       "3                          0.481897783617            0.13847637460200002   \n",
       "\n",
       "  air_quality_benfits_pm10depdollar_value air_quality_benfits_pm10dep_lbs  \\\n",
       "1                           2.18532822434             0.26297571893399996   \n",
       "2                          0.444639118191             0.05350651241769999   \n",
       "3                      0.6875155775640001             0.08273352317260001   \n",
       "\n",
       "  air_quality_benfits_pm10avd_dollar_value air_quality_benfits_pm10avd_lbs  \\\n",
       "1                           0.461810057269                 0.0555728107424   \n",
       "2                           0.110526048628            0.013300366862600001   \n",
       "3                            0.17068357443            0.020539539642599997   \n",
       "\n",
       "  air_quality_benfits_total_dollar_value air_quality_benfits_total_lbs  \\\n",
       "1                     11.457438163399999                 2.37044404444   \n",
       "2                     2.4746527210900005            0.5139082221469999   \n",
       "3                     3.8656117646199997                0.803805191634   \n",
       "\n",
       "  co2_benefits_dollar_value co2_benefits_sequestered_lbs  \\\n",
       "1            0.944600765534                115.328075315   \n",
       "2            0.314951871182                45.2879502377   \n",
       "3       0.39531443276699996                33.5649564029   \n",
       "\n",
       "  co2_benefits_sequestered_value co2_benefits_avoided_lbs  \\\n",
       "1                 0.847430697411            277.540792624   \n",
       "2            0.33277585834600004             59.616419265   \n",
       "3                 0.246635299649            94.9307304536   \n",
       "\n",
       "  co2_benefits_avoided_value co2_benefits_decomp_lbs co2_benefits_maint_lbs  \\\n",
       "1               2.0393697442      -96.34547132700001         -13.7087961535   \n",
       "2             0.438061448759          -6.86863949566         -3.73876258732   \n",
       "3         0.6975510073729999          -5.77618257091    -4.3618896851999995   \n",
       "\n",
       "  co2_benefits_totalco2_lbs overall_benefits_dollar_value      neighborhood  \\\n",
       "1             282.814600458                  125.17832227           Oakwood   \n",
       "2             94.2969674194                 77.7671162015  South Side Flats   \n",
       "3        118.35761460100001                 81.8382592766    East Allegheny   \n",
       "\n",
       "  council_district  ward          tract public_works_division pli_division  \\\n",
       "1              2.0  28.0  42003562800.0                   5.0         28.0   \n",
       "2              3.0  16.0  42003160900.0                   3.0         16.0   \n",
       "3              1.0  23.0  42003563200.0                   1.0         23.0   \n",
       "\n",
       "  police_zone fire_zone     latitude     longitude  tree_count  \n",
       "1         6.0      1-19  40.42926879  -80.06786821           1  \n",
       "2         3.0      4-24  40.42679667  -79.96503491           1  \n",
       "3         1.0       1-6  40.45550338  -79.99927602           1  "
      ]
     },
     "execution_count": 733,
     "metadata": {},
     "output_type": "execute_result"
    }
   ],
   "source": [
    "df_trees.head(3)"
   ]
  },
  {
   "cell_type": "code",
   "execution_count": 734,
   "id": "01771e9c",
   "metadata": {},
   "outputs": [],
   "source": [
    "df_tree_density = df_trees[['neighborhood', 'tree_count', 'stormwater_benefits_dollar_value', \n",
    "                            'property_value_benefits_dollarvalue', 'energy_benefits_electricity_dollar_value', \n",
    "                            'energy_benefits_gas_dollar_value', 'air_quality_benfits_total_dollar_value', \n",
    "                           'co2_benefits_dollar_value', 'overall_benefits_dollar_value', ]]"
   ]
  },
  {
   "cell_type": "code",
   "execution_count": 735,
   "id": "532549f0",
   "metadata": {},
   "outputs": [
    {
     "data": {
      "text/html": [
       "<div>\n",
       "<style scoped>\n",
       "    .dataframe tbody tr th:only-of-type {\n",
       "        vertical-align: middle;\n",
       "    }\n",
       "\n",
       "    .dataframe tbody tr th {\n",
       "        vertical-align: top;\n",
       "    }\n",
       "\n",
       "    .dataframe thead th {\n",
       "        text-align: right;\n",
       "    }\n",
       "</style>\n",
       "<table border=\"1\" class=\"dataframe\">\n",
       "  <thead>\n",
       "    <tr style=\"text-align: right;\">\n",
       "      <th></th>\n",
       "      <th>neighborhood</th>\n",
       "      <th>tree_count</th>\n",
       "      <th>stormwater_benefits_dollar_value</th>\n",
       "      <th>property_value_benefits_dollarvalue</th>\n",
       "      <th>energy_benefits_electricity_dollar_value</th>\n",
       "      <th>energy_benefits_gas_dollar_value</th>\n",
       "      <th>air_quality_benfits_total_dollar_value</th>\n",
       "      <th>co2_benefits_dollar_value</th>\n",
       "      <th>overall_benefits_dollar_value</th>\n",
       "    </tr>\n",
       "  </thead>\n",
       "  <tbody>\n",
       "    <tr>\n",
       "      <th>1</th>\n",
       "      <td>Oakwood</td>\n",
       "      <td>1</td>\n",
       "      <td>13.9466942599</td>\n",
       "      <td>21.9848130518</td>\n",
       "      <td>15.776457219200001</td>\n",
       "      <td>61.0683188097</td>\n",
       "      <td>11.457438163399999</td>\n",
       "      <td>0.944600765534</td>\n",
       "      <td>125.17832227</td>\n",
       "    </tr>\n",
       "    <tr>\n",
       "      <th>2</th>\n",
       "      <td>South Side Flats</td>\n",
       "      <td>1</td>\n",
       "      <td>3.97485820864</td>\n",
       "      <td>51.529092533100005</td>\n",
       "      <td>3.3888203575599998</td>\n",
       "      <td>16.08474051</td>\n",
       "      <td>2.4746527210900005</td>\n",
       "      <td>0.314951871182</td>\n",
       "      <td>77.7671162015</td>\n",
       "    </tr>\n",
       "    <tr>\n",
       "      <th>3</th>\n",
       "      <td>East Allegheny</td>\n",
       "      <td>1</td>\n",
       "      <td>4.77566237175</td>\n",
       "      <td>43.1845240318</td>\n",
       "      <td>5.3962179528</td>\n",
       "      <td>24.220928722800004</td>\n",
       "      <td>3.8656117646199997</td>\n",
       "      <td>0.39531443276699996</td>\n",
       "      <td>81.8382592766</td>\n",
       "    </tr>\n",
       "  </tbody>\n",
       "</table>\n",
       "</div>"
      ],
      "text/plain": [
       "       neighborhood  tree_count stormwater_benefits_dollar_value  \\\n",
       "1           Oakwood           1                    13.9466942599   \n",
       "2  South Side Flats           1                    3.97485820864   \n",
       "3    East Allegheny           1                    4.77566237175   \n",
       "\n",
       "  property_value_benefits_dollarvalue  \\\n",
       "1                       21.9848130518   \n",
       "2                  51.529092533100005   \n",
       "3                       43.1845240318   \n",
       "\n",
       "  energy_benefits_electricity_dollar_value energy_benefits_gas_dollar_value  \\\n",
       "1                       15.776457219200001                    61.0683188097   \n",
       "2                       3.3888203575599998                      16.08474051   \n",
       "3                             5.3962179528               24.220928722800004   \n",
       "\n",
       "  air_quality_benfits_total_dollar_value co2_benefits_dollar_value  \\\n",
       "1                     11.457438163399999            0.944600765534   \n",
       "2                     2.4746527210900005            0.314951871182   \n",
       "3                     3.8656117646199997       0.39531443276699996   \n",
       "\n",
       "  overall_benefits_dollar_value  \n",
       "1                  125.17832227  \n",
       "2                 77.7671162015  \n",
       "3                 81.8382592766  "
      ]
     },
     "execution_count": 735,
     "metadata": {},
     "output_type": "execute_result"
    }
   ],
   "source": [
    "df_tree_density.head(3)"
   ]
  },
  {
   "cell_type": "code",
   "execution_count": 736,
   "id": "9a328fb7",
   "metadata": {},
   "outputs": [
    {
     "data": {
      "text/plain": [
       "40075"
      ]
     },
     "execution_count": 736,
     "metadata": {},
     "output_type": "execute_result"
    }
   ],
   "source": [
    "len(df_tree_density)"
   ]
  },
  {
   "cell_type": "code",
   "execution_count": 737,
   "id": "b6d415f4",
   "metadata": {},
   "outputs": [
    {
     "data": {
      "text/html": [
       "<div>\n",
       "<style scoped>\n",
       "    .dataframe tbody tr th:only-of-type {\n",
       "        vertical-align: middle;\n",
       "    }\n",
       "\n",
       "    .dataframe tbody tr th {\n",
       "        vertical-align: top;\n",
       "    }\n",
       "\n",
       "    .dataframe thead th {\n",
       "        text-align: right;\n",
       "    }\n",
       "</style>\n",
       "<table border=\"1\" class=\"dataframe\">\n",
       "  <thead>\n",
       "    <tr style=\"text-align: right;\">\n",
       "      <th></th>\n",
       "      <th>tree_count</th>\n",
       "    </tr>\n",
       "    <tr>\n",
       "      <th>neighborhood</th>\n",
       "      <th></th>\n",
       "    </tr>\n",
       "  </thead>\n",
       "  <tbody>\n",
       "    <tr>\n",
       "      <th>Allegheny Center</th>\n",
       "      <td>861</td>\n",
       "    </tr>\n",
       "    <tr>\n",
       "      <th>Allegheny West</th>\n",
       "      <td>368</td>\n",
       "    </tr>\n",
       "    <tr>\n",
       "      <th>Allentown</th>\n",
       "      <td>60</td>\n",
       "    </tr>\n",
       "    <tr>\n",
       "      <th>Arlington</th>\n",
       "      <td>82</td>\n",
       "    </tr>\n",
       "    <tr>\n",
       "      <th>Arlington Heights</th>\n",
       "      <td>4</td>\n",
       "    </tr>\n",
       "    <tr>\n",
       "      <th>Banksville</th>\n",
       "      <td>421</td>\n",
       "    </tr>\n",
       "    <tr>\n",
       "      <th>Bedford Dwellings</th>\n",
       "      <td>167</td>\n",
       "    </tr>\n",
       "    <tr>\n",
       "      <th>Beechview</th>\n",
       "      <td>543</td>\n",
       "    </tr>\n",
       "    <tr>\n",
       "      <th>Beltzhoover</th>\n",
       "      <td>112</td>\n",
       "    </tr>\n",
       "    <tr>\n",
       "      <th>Bloomfield</th>\n",
       "      <td>1182</td>\n",
       "    </tr>\n",
       "    <tr>\n",
       "      <th>Bluff</th>\n",
       "      <td>200</td>\n",
       "    </tr>\n",
       "    <tr>\n",
       "      <th>Bon Air</th>\n",
       "      <td>80</td>\n",
       "    </tr>\n",
       "    <tr>\n",
       "      <th>Brighton Heights</th>\n",
       "      <td>768</td>\n",
       "    </tr>\n",
       "    <tr>\n",
       "      <th>Brookline</th>\n",
       "      <td>727</td>\n",
       "    </tr>\n",
       "    <tr>\n",
       "      <th>California-Kirkbride</th>\n",
       "      <td>81</td>\n",
       "    </tr>\n",
       "    <tr>\n",
       "      <th>Carrick</th>\n",
       "      <td>656</td>\n",
       "    </tr>\n",
       "    <tr>\n",
       "      <th>Central Business District</th>\n",
       "      <td>965</td>\n",
       "    </tr>\n",
       "    <tr>\n",
       "      <th>Central Lawrenceville</th>\n",
       "      <td>624</td>\n",
       "    </tr>\n",
       "    <tr>\n",
       "      <th>Central Northside</th>\n",
       "      <td>608</td>\n",
       "    </tr>\n",
       "    <tr>\n",
       "      <th>Central Oakland</th>\n",
       "      <td>358</td>\n",
       "    </tr>\n",
       "    <tr>\n",
       "      <th>Chartiers City</th>\n",
       "      <td>36</td>\n",
       "    </tr>\n",
       "    <tr>\n",
       "      <th>Chateau</th>\n",
       "      <td>257</td>\n",
       "    </tr>\n",
       "    <tr>\n",
       "      <th>Crafton Heights</th>\n",
       "      <td>282</td>\n",
       "    </tr>\n",
       "    <tr>\n",
       "      <th>Crawford-Roberts</th>\n",
       "      <td>467</td>\n",
       "    </tr>\n",
       "    <tr>\n",
       "      <th>Duquesne Heights</th>\n",
       "      <td>82</td>\n",
       "    </tr>\n",
       "    <tr>\n",
       "      <th>East Allegheny</th>\n",
       "      <td>349</td>\n",
       "    </tr>\n",
       "    <tr>\n",
       "      <th>East Carnegie</th>\n",
       "      <td>4</td>\n",
       "    </tr>\n",
       "    <tr>\n",
       "      <th>East Hills</th>\n",
       "      <td>412</td>\n",
       "    </tr>\n",
       "    <tr>\n",
       "      <th>East Liberty</th>\n",
       "      <td>1239</td>\n",
       "    </tr>\n",
       "    <tr>\n",
       "      <th>Elliott</th>\n",
       "      <td>133</td>\n",
       "    </tr>\n",
       "    <tr>\n",
       "      <th>Esplen</th>\n",
       "      <td>2</td>\n",
       "    </tr>\n",
       "    <tr>\n",
       "      <th>Fairywood</th>\n",
       "      <td>27</td>\n",
       "    </tr>\n",
       "    <tr>\n",
       "      <th>Fineview</th>\n",
       "      <td>85</td>\n",
       "    </tr>\n",
       "    <tr>\n",
       "      <th>Friendship</th>\n",
       "      <td>304</td>\n",
       "    </tr>\n",
       "    <tr>\n",
       "      <th>Garfield</th>\n",
       "      <td>507</td>\n",
       "    </tr>\n",
       "    <tr>\n",
       "      <th>Glen Hazel</th>\n",
       "      <td>2</td>\n",
       "    </tr>\n",
       "    <tr>\n",
       "      <th>Greenfield</th>\n",
       "      <td>615</td>\n",
       "    </tr>\n",
       "    <tr>\n",
       "      <th>Hays</th>\n",
       "      <td>1</td>\n",
       "    </tr>\n",
       "    <tr>\n",
       "      <th>Hazelwood</th>\n",
       "      <td>487</td>\n",
       "    </tr>\n",
       "    <tr>\n",
       "      <th>Highland Park</th>\n",
       "      <td>2736</td>\n",
       "    </tr>\n",
       "    <tr>\n",
       "      <th>Homewood North</th>\n",
       "      <td>288</td>\n",
       "    </tr>\n",
       "    <tr>\n",
       "      <th>Homewood South</th>\n",
       "      <td>300</td>\n",
       "    </tr>\n",
       "    <tr>\n",
       "      <th>Homewood West</th>\n",
       "      <td>70</td>\n",
       "    </tr>\n",
       "    <tr>\n",
       "      <th>Knoxville</th>\n",
       "      <td>414</td>\n",
       "    </tr>\n",
       "    <tr>\n",
       "      <th>Larimer</th>\n",
       "      <td>285</td>\n",
       "    </tr>\n",
       "    <tr>\n",
       "      <th>Lincoln Place</th>\n",
       "      <td>241</td>\n",
       "    </tr>\n",
       "    <tr>\n",
       "      <th>Lincoln-Lemington-Belmar</th>\n",
       "      <td>475</td>\n",
       "    </tr>\n",
       "    <tr>\n",
       "      <th>Lower Lawrenceville</th>\n",
       "      <td>458</td>\n",
       "    </tr>\n",
       "    <tr>\n",
       "      <th>Manchester</th>\n",
       "      <td>577</td>\n",
       "    </tr>\n",
       "    <tr>\n",
       "      <th>Marshall-Shadeland</th>\n",
       "      <td>423</td>\n",
       "    </tr>\n",
       "    <tr>\n",
       "      <th>Middle Hill</th>\n",
       "      <td>250</td>\n",
       "    </tr>\n",
       "    <tr>\n",
       "      <th>Morningside</th>\n",
       "      <td>373</td>\n",
       "    </tr>\n",
       "    <tr>\n",
       "      <th>Mount Washington</th>\n",
       "      <td>674</td>\n",
       "    </tr>\n",
       "    <tr>\n",
       "      <th>Mt. Oliver</th>\n",
       "      <td>13</td>\n",
       "    </tr>\n",
       "    <tr>\n",
       "      <th>New Homestead</th>\n",
       "      <td>179</td>\n",
       "    </tr>\n",
       "    <tr>\n",
       "      <th>North Oakland</th>\n",
       "      <td>728</td>\n",
       "    </tr>\n",
       "    <tr>\n",
       "      <th>North Shore</th>\n",
       "      <td>428</td>\n",
       "    </tr>\n",
       "    <tr>\n",
       "      <th>Northview Heights</th>\n",
       "      <td>6</td>\n",
       "    </tr>\n",
       "    <tr>\n",
       "      <th>Oakwood</th>\n",
       "      <td>87</td>\n",
       "    </tr>\n",
       "    <tr>\n",
       "      <th>Overbrook</th>\n",
       "      <td>245</td>\n",
       "    </tr>\n",
       "    <tr>\n",
       "      <th>Perry North</th>\n",
       "      <td>927</td>\n",
       "    </tr>\n",
       "    <tr>\n",
       "      <th>Perry South</th>\n",
       "      <td>301</td>\n",
       "    </tr>\n",
       "    <tr>\n",
       "      <th>Point Breeze</th>\n",
       "      <td>1158</td>\n",
       "    </tr>\n",
       "    <tr>\n",
       "      <th>Point Breeze North</th>\n",
       "      <td>422</td>\n",
       "    </tr>\n",
       "    <tr>\n",
       "      <th>Polish Hill</th>\n",
       "      <td>238</td>\n",
       "    </tr>\n",
       "    <tr>\n",
       "      <th>Regent Square</th>\n",
       "      <td>408</td>\n",
       "    </tr>\n",
       "    <tr>\n",
       "      <th>Ridgemont</th>\n",
       "      <td>30</td>\n",
       "    </tr>\n",
       "    <tr>\n",
       "      <th>Shadyside</th>\n",
       "      <td>1317</td>\n",
       "    </tr>\n",
       "    <tr>\n",
       "      <th>Sheraden</th>\n",
       "      <td>279</td>\n",
       "    </tr>\n",
       "    <tr>\n",
       "      <th>South Oakland</th>\n",
       "      <td>203</td>\n",
       "    </tr>\n",
       "    <tr>\n",
       "      <th>South Shore</th>\n",
       "      <td>1</td>\n",
       "    </tr>\n",
       "    <tr>\n",
       "      <th>South Side Flats</th>\n",
       "      <td>1495</td>\n",
       "    </tr>\n",
       "    <tr>\n",
       "      <th>South Side Slopes</th>\n",
       "      <td>178</td>\n",
       "    </tr>\n",
       "    <tr>\n",
       "      <th>Spring Garden</th>\n",
       "      <td>48</td>\n",
       "    </tr>\n",
       "    <tr>\n",
       "      <th>Spring Hill-City View</th>\n",
       "      <td>94</td>\n",
       "    </tr>\n",
       "    <tr>\n",
       "      <th>Squirrel Hill North</th>\n",
       "      <td>1870</td>\n",
       "    </tr>\n",
       "    <tr>\n",
       "      <th>Squirrel Hill South</th>\n",
       "      <td>4892</td>\n",
       "    </tr>\n",
       "    <tr>\n",
       "      <th>St. Clair</th>\n",
       "      <td>12</td>\n",
       "    </tr>\n",
       "    <tr>\n",
       "      <th>Stanton Heights</th>\n",
       "      <td>624</td>\n",
       "    </tr>\n",
       "    <tr>\n",
       "      <th>Strip District</th>\n",
       "      <td>431</td>\n",
       "    </tr>\n",
       "    <tr>\n",
       "      <th>Summer Hill</th>\n",
       "      <td>73</td>\n",
       "    </tr>\n",
       "    <tr>\n",
       "      <th>Swisshelm Park</th>\n",
       "      <td>238</td>\n",
       "    </tr>\n",
       "    <tr>\n",
       "      <th>Terrace Village</th>\n",
       "      <td>254</td>\n",
       "    </tr>\n",
       "    <tr>\n",
       "      <th>Troy Hill</th>\n",
       "      <td>195</td>\n",
       "    </tr>\n",
       "    <tr>\n",
       "      <th>Upper Hill</th>\n",
       "      <td>126</td>\n",
       "    </tr>\n",
       "    <tr>\n",
       "      <th>Upper Lawrenceville</th>\n",
       "      <td>322</td>\n",
       "    </tr>\n",
       "    <tr>\n",
       "      <th>West End</th>\n",
       "      <td>111</td>\n",
       "    </tr>\n",
       "    <tr>\n",
       "      <th>West Oakland</th>\n",
       "      <td>71</td>\n",
       "    </tr>\n",
       "    <tr>\n",
       "      <th>Westwood</th>\n",
       "      <td>247</td>\n",
       "    </tr>\n",
       "    <tr>\n",
       "      <th>Windgap</th>\n",
       "      <td>102</td>\n",
       "    </tr>\n",
       "  </tbody>\n",
       "</table>\n",
       "</div>"
      ],
      "text/plain": [
       "                           tree_count\n",
       "neighborhood                         \n",
       "Allegheny Center                  861\n",
       "Allegheny West                    368\n",
       "Allentown                          60\n",
       "Arlington                          82\n",
       "Arlington Heights                   4\n",
       "Banksville                        421\n",
       "Bedford Dwellings                 167\n",
       "Beechview                         543\n",
       "Beltzhoover                       112\n",
       "Bloomfield                       1182\n",
       "Bluff                             200\n",
       "Bon Air                            80\n",
       "Brighton Heights                  768\n",
       "Brookline                         727\n",
       "California-Kirkbride               81\n",
       "Carrick                           656\n",
       "Central Business District         965\n",
       "Central Lawrenceville             624\n",
       "Central Northside                 608\n",
       "Central Oakland                   358\n",
       "Chartiers City                     36\n",
       "Chateau                           257\n",
       "Crafton Heights                   282\n",
       "Crawford-Roberts                  467\n",
       "Duquesne Heights                   82\n",
       "East Allegheny                    349\n",
       "East Carnegie                       4\n",
       "East Hills                        412\n",
       "East Liberty                     1239\n",
       "Elliott                           133\n",
       "Esplen                              2\n",
       "Fairywood                          27\n",
       "Fineview                           85\n",
       "Friendship                        304\n",
       "Garfield                          507\n",
       "Glen Hazel                          2\n",
       "Greenfield                        615\n",
       "Hays                                1\n",
       "Hazelwood                         487\n",
       "Highland Park                    2736\n",
       "Homewood North                    288\n",
       "Homewood South                    300\n",
       "Homewood West                      70\n",
       "Knoxville                         414\n",
       "Larimer                           285\n",
       "Lincoln Place                     241\n",
       "Lincoln-Lemington-Belmar          475\n",
       "Lower Lawrenceville               458\n",
       "Manchester                        577\n",
       "Marshall-Shadeland                423\n",
       "Middle Hill                       250\n",
       "Morningside                       373\n",
       "Mount Washington                  674\n",
       "Mt. Oliver                         13\n",
       "New Homestead                     179\n",
       "North Oakland                     728\n",
       "North Shore                       428\n",
       "Northview Heights                   6\n",
       "Oakwood                            87\n",
       "Overbrook                         245\n",
       "Perry North                       927\n",
       "Perry South                       301\n",
       "Point Breeze                     1158\n",
       "Point Breeze North                422\n",
       "Polish Hill                       238\n",
       "Regent Square                     408\n",
       "Ridgemont                          30\n",
       "Shadyside                        1317\n",
       "Sheraden                          279\n",
       "South Oakland                     203\n",
       "South Shore                         1\n",
       "South Side Flats                 1495\n",
       "South Side Slopes                 178\n",
       "Spring Garden                      48\n",
       "Spring Hill-City View              94\n",
       "Squirrel Hill North              1870\n",
       "Squirrel Hill South              4892\n",
       "St. Clair                          12\n",
       "Stanton Heights                   624\n",
       "Strip District                    431\n",
       "Summer Hill                        73\n",
       "Swisshelm Park                    238\n",
       "Terrace Village                   254\n",
       "Troy Hill                         195\n",
       "Upper Hill                        126\n",
       "Upper Lawrenceville               322\n",
       "West End                          111\n",
       "West Oakland                       71\n",
       "Westwood                          247\n",
       "Windgap                           102"
      ]
     },
     "execution_count": 737,
     "metadata": {},
     "output_type": "execute_result"
    }
   ],
   "source": [
    "df_tree_density.groupby(['neighborhood']).sum()"
   ]
  },
  {
   "cell_type": "code",
   "execution_count": 738,
   "id": "dd0d5954",
   "metadata": {},
   "outputs": [
    {
     "data": {
      "text/plain": [
       "40075"
      ]
     },
     "execution_count": 738,
     "metadata": {},
     "output_type": "execute_result"
    }
   ],
   "source": [
    "df_tree_density['tree_count'].sum()"
   ]
  },
  {
   "cell_type": "code",
   "execution_count": 739,
   "id": "cc7918a8",
   "metadata": {
    "scrolled": true
   },
   "outputs": [
    {
     "data": {
      "text/html": [
       "<div>\n",
       "<style scoped>\n",
       "    .dataframe tbody tr th:only-of-type {\n",
       "        vertical-align: middle;\n",
       "    }\n",
       "\n",
       "    .dataframe tbody tr th {\n",
       "        vertical-align: top;\n",
       "    }\n",
       "\n",
       "    .dataframe thead th {\n",
       "        text-align: right;\n",
       "    }\n",
       "</style>\n",
       "<table border=\"1\" class=\"dataframe\">\n",
       "  <thead>\n",
       "    <tr style=\"text-align: right;\">\n",
       "      <th></th>\n",
       "      <th>neighborhood</th>\n",
       "      <th>tree_count</th>\n",
       "      <th>stormwater_benefits_dollar_value</th>\n",
       "      <th>property_value_benefits_dollarvalue</th>\n",
       "      <th>energy_benefits_electricity_dollar_value</th>\n",
       "      <th>energy_benefits_gas_dollar_value</th>\n",
       "      <th>air_quality_benfits_total_dollar_value</th>\n",
       "      <th>co2_benefits_dollar_value</th>\n",
       "      <th>overall_benefits_dollar_value</th>\n",
       "    </tr>\n",
       "  </thead>\n",
       "  <tbody>\n",
       "    <tr>\n",
       "      <th>1</th>\n",
       "      <td>Oakwood</td>\n",
       "      <td>1</td>\n",
       "      <td>13.9466942599</td>\n",
       "      <td>21.9848130518</td>\n",
       "      <td>15.776457219200001</td>\n",
       "      <td>61.0683188097</td>\n",
       "      <td>11.457438163399999</td>\n",
       "      <td>0.944600765534</td>\n",
       "      <td>125.17832227</td>\n",
       "    </tr>\n",
       "    <tr>\n",
       "      <th>2</th>\n",
       "      <td>South Side Flats</td>\n",
       "      <td>1</td>\n",
       "      <td>3.97485820864</td>\n",
       "      <td>51.529092533100005</td>\n",
       "      <td>3.3888203575599998</td>\n",
       "      <td>16.08474051</td>\n",
       "      <td>2.4746527210900005</td>\n",
       "      <td>0.314951871182</td>\n",
       "      <td>77.7671162015</td>\n",
       "    </tr>\n",
       "    <tr>\n",
       "      <th>3</th>\n",
       "      <td>East Allegheny</td>\n",
       "      <td>1</td>\n",
       "      <td>4.77566237175</td>\n",
       "      <td>43.1845240318</td>\n",
       "      <td>5.3962179528</td>\n",
       "      <td>24.220928722800004</td>\n",
       "      <td>3.8656117646199997</td>\n",
       "      <td>0.39531443276699996</td>\n",
       "      <td>81.8382592766</td>\n",
       "    </tr>\n",
       "    <tr>\n",
       "      <th>4</th>\n",
       "      <td>Highland Park</td>\n",
       "      <td>1</td>\n",
       "      <td>41.2283976731</td>\n",
       "      <td>194.12891014099998</td>\n",
       "      <td>28.571536984</td>\n",
       "      <td>94.93006902030001</td>\n",
       "      <td>25.6383946503</td>\n",
       "      <td>6.0416858299800005</td>\n",
       "      <td>390.53899429800003</td>\n",
       "    </tr>\n",
       "    <tr>\n",
       "      <th>5</th>\n",
       "      <td>Highland Park</td>\n",
       "      <td>1</td>\n",
       "      <td>21.0691631464</td>\n",
       "      <td>85.7429542145</td>\n",
       "      <td>18.2326325226</td>\n",
       "      <td>63.686359161999995</td>\n",
       "      <td>15.696870241700001</td>\n",
       "      <td>2.14703849211</td>\n",
       "      <td>206.575017779</td>\n",
       "    </tr>\n",
       "  </tbody>\n",
       "</table>\n",
       "</div>"
      ],
      "text/plain": [
       "       neighborhood  tree_count stormwater_benefits_dollar_value  \\\n",
       "1           Oakwood           1                    13.9466942599   \n",
       "2  South Side Flats           1                    3.97485820864   \n",
       "3    East Allegheny           1                    4.77566237175   \n",
       "4     Highland Park           1                    41.2283976731   \n",
       "5     Highland Park           1                    21.0691631464   \n",
       "\n",
       "  property_value_benefits_dollarvalue  \\\n",
       "1                       21.9848130518   \n",
       "2                  51.529092533100005   \n",
       "3                       43.1845240318   \n",
       "4                  194.12891014099998   \n",
       "5                       85.7429542145   \n",
       "\n",
       "  energy_benefits_electricity_dollar_value energy_benefits_gas_dollar_value  \\\n",
       "1                       15.776457219200001                    61.0683188097   \n",
       "2                       3.3888203575599998                      16.08474051   \n",
       "3                             5.3962179528               24.220928722800004   \n",
       "4                             28.571536984                94.93006902030001   \n",
       "5                            18.2326325226               63.686359161999995   \n",
       "\n",
       "  air_quality_benfits_total_dollar_value co2_benefits_dollar_value  \\\n",
       "1                     11.457438163399999            0.944600765534   \n",
       "2                     2.4746527210900005            0.314951871182   \n",
       "3                     3.8656117646199997       0.39531443276699996   \n",
       "4                          25.6383946503        6.0416858299800005   \n",
       "5                     15.696870241700001             2.14703849211   \n",
       "\n",
       "  overall_benefits_dollar_value  \n",
       "1                  125.17832227  \n",
       "2                 77.7671162015  \n",
       "3                 81.8382592766  \n",
       "4            390.53899429800003  \n",
       "5                 206.575017779  "
      ]
     },
     "execution_count": 739,
     "metadata": {},
     "output_type": "execute_result"
    }
   ],
   "source": [
    "df_tree_density.head()"
   ]
  },
  {
   "cell_type": "markdown",
   "id": "6c271279",
   "metadata": {},
   "source": [
    "**Convert the fields to desired data type**"
   ]
  },
  {
   "cell_type": "code",
   "execution_count": 740,
   "id": "5e001075",
   "metadata": {},
   "outputs": [
    {
     "data": {
      "text/plain": [
       "neighborhood                                object\n",
       "tree_count                                   int64\n",
       "stormwater_benefits_dollar_value            object\n",
       "property_value_benefits_dollarvalue         object\n",
       "energy_benefits_electricity_dollar_value    object\n",
       "energy_benefits_gas_dollar_value            object\n",
       "air_quality_benfits_total_dollar_value      object\n",
       "co2_benefits_dollar_value                   object\n",
       "overall_benefits_dollar_value               object\n",
       "dtype: object"
      ]
     },
     "execution_count": 740,
     "metadata": {},
     "output_type": "execute_result"
    }
   ],
   "source": [
    "df_tree_density.dtypes"
   ]
  },
  {
   "cell_type": "code",
   "execution_count": 741,
   "id": "305c2a5c",
   "metadata": {},
   "outputs": [],
   "source": [
    "convert_dict = {'stormwater_benefits_dollar_value': float,\n",
    "                'property_value_benefits_dollarvalue': float,\n",
    "                'energy_benefits_electricity_dollar_value': float,\n",
    "                'energy_benefits_gas_dollar_value': float,\n",
    "                'air_quality_benfits_total_dollar_value': float,\n",
    "                'co2_benefits_dollar_value': float,\n",
    "                'overall_benefits_dollar_value': float\n",
    "               }\n",
    "# df_tree_density[\"stormwater_benefits_dollar_value\"] = pd.to_numeric(df_tree_density[\"stormwater_benefits_dollar_value\"])\n",
    "# df_tree_density[\"property_value_benefits_dollarvalue\"] = pd.to_numeric(df_tree_density[\"property_value_benefits_dollarvalue\"])\n",
    "# df_tree_density[\"energy_benefits_electricity_dollar_value\"] = pd.to_numeric(df_tree_density[\"energy_benefits_electricity_dollar_value\"])\n",
    "# df_tree_density[\"energy_benefits_gas_dollar_value\"] = pd.to_numeric(df_tree_density[\"energy_benefits_gas_dollar_value\"])\n",
    "# df_tree_density[\"air_quality_benfits_total_dollar_value\"] = pd.to_numeric(df_tree_density[\"air_quality_benfits_total_dollar_value\"])\n",
    "# df_tree_density[\"co2_benefits_dollar_value\"] = pd.to_numeric(df_tree_density[\"co2_benefits_dollar_value\"])\n",
    "# df_tree_density[\"overall_benefits_dollar_value\"] = pd.to_numeric(df_tree_density[\"overall_benefits_dollar_value\"])\n",
    "\n",
    "df_tree_density = df_tree_density.astype(convert_dict)\n"
   ]
  },
  {
   "cell_type": "code",
   "execution_count": 742,
   "id": "5fd36125",
   "metadata": {},
   "outputs": [
    {
     "data": {
      "text/plain": [
       "neighborhood                                 object\n",
       "tree_count                                    int64\n",
       "stormwater_benefits_dollar_value            float64\n",
       "property_value_benefits_dollarvalue         float64\n",
       "energy_benefits_electricity_dollar_value    float64\n",
       "energy_benefits_gas_dollar_value            float64\n",
       "air_quality_benfits_total_dollar_value      float64\n",
       "co2_benefits_dollar_value                   float64\n",
       "overall_benefits_dollar_value               float64\n",
       "dtype: object"
      ]
     },
     "execution_count": 742,
     "metadata": {},
     "output_type": "execute_result"
    }
   ],
   "source": [
    "df_tree_density.dtypes"
   ]
  },
  {
   "cell_type": "markdown",
   "id": "b916145c",
   "metadata": {},
   "source": [
    "**Aggregate the tree rows by neighborhood**"
   ]
  },
  {
   "cell_type": "code",
   "execution_count": 743,
   "id": "8819cc5c",
   "metadata": {},
   "outputs": [],
   "source": [
    "df_tree_density = df_tree_density.groupby('neighborhood', as_index=False).agg({\"tree_count\": \"sum\", \n",
    "                                                            \"stormwater_benefits_dollar_value\": \"sum\",\n",
    "                                                            \"property_value_benefits_dollarvalue\": \"sum\",\n",
    "                                                            \"energy_benefits_electricity_dollar_value\": \"sum\",\n",
    "                                                            \"energy_benefits_gas_dollar_value\": \"sum\",\n",
    "                                                            \"air_quality_benfits_total_dollar_value\": \"sum\",\n",
    "                                                            \"co2_benefits_dollar_value\": \"sum\",\n",
    "                                                            \"overall_benefits_dollar_value\": \"sum\"})"
   ]
  },
  {
   "cell_type": "markdown",
   "id": "3e432bde",
   "metadata": {},
   "source": [
    "**Load neighborhood data**"
   ]
  },
  {
   "cell_type": "code",
   "execution_count": 744,
   "id": "a2ad02e1",
   "metadata": {},
   "outputs": [],
   "source": [
    "neighborhood_data = pd.read_csv(\"neighborhood_data.csv\", encoding=\"ISO-8859-1\", dtype='unicode')"
   ]
  },
  {
   "cell_type": "code",
   "execution_count": 745,
   "id": "750259b2",
   "metadata": {},
   "outputs": [],
   "source": [
    "pd.options.display.max_columns = None\n",
    "pd.options.display.max_rows = None"
   ]
  },
  {
   "cell_type": "code",
   "execution_count": 746,
   "id": "7c932099",
   "metadata": {},
   "outputs": [
    {
     "data": {
      "text/plain": [
       "array(['ï»¿FID', 'Neighborhood_2010_FID_BlockG',\n",
       "       'Neighborhood_2010_STATEFP10', 'Neighborhood_2010_COUNTYFP10',\n",
       "       'Neighborhood_2010_TRACTCE10', 'Neighborhood_2010_BLKGRPCE10',\n",
       "       'Neighborhood_2010_GEOID10', 'Neighborhood_2010_NAMELSAD10',\n",
       "       'Neighborhood_2010_MTFCC10', 'Neighborhood_2010_FUNCSTAT10',\n",
       "       'Neighborhood_2010_ALAND10', 'Neighborhood_2010_AWATER10',\n",
       "       'Neighborhood_2010_INTPTLAT10', 'Neighborhood_2010_INTPTLON10',\n",
       "       'Neighborhood_2010_Shape_Leng', 'Neighborhood_2010_FID_Neighb',\n",
       "       'Neighborhood_2010_AREA', 'Neighborhood_2010_PERIMETER',\n",
       "       'Neighborhood_2010_NEIGHBOR_', 'Neighborhood_2010_NEIGHBOR_I',\n",
       "       'Neighborhood_2010_HOOD', 'Neighborhood_2010_HOOD_NO',\n",
       "       'Neighborhood_2010_ACRES', 'Neighborhood_2010_SQMILES',\n",
       "       'Neighborhood_2010_DPWDIV', 'Neighborhood_2010_UNIQUE_ID',\n",
       "       'Neighborhood_2010_SECTORS', 'Neighborhood_2010_Shape_Le_1',\n",
       "       'Neighborhood_2010_Shape_Ar_1', 'Neighborhood_2010_Page_Number',\n",
       "       'SNAP_All_csv_Neighborhood', 'SNAP_All_csv_Sector__', 'Pop__1940',\n",
       "       'Pop__1950', 'Pop__1960', 'Pop__1970', 'Pop__1980', 'Pop__1990',\n",
       "       'Pop__2000', 'Pop__2010', 'F__Pop__Change__60_70',\n",
       "       'F__Pop__Change__70_80', 'F__Pop__Change__80_90',\n",
       "       'F__Pop__Change__90_00', 'F__Pop__Change__00_10',\n",
       "       'Pop__as___of_City_total__2010_', 'Land_Area__sq__mi_',\n",
       "       'SNAP_All_csv_Land_Area__acres_', 'Persons___sq__mi__2010_',\n",
       "       'Persons___sq__mi__2000_', 'SNAP_All_csv_Persons___acre__20',\n",
       "       'SNAP_All_csv_Persons___acre__21',\n",
       "       'SNAP_All_csv___African_American', 'SNAP_All_csv___Asian__2010_',\n",
       "       'SNAP_All_csv___Other__2010_', 'SNAP_All_csv___White__2010_',\n",
       "       'SNAP_All_csv___2__Races__2010_',\n",
       "       'SNAP_All_csv___Hispanic__of_any', 'F__Pop__Age___5__2010_',\n",
       "       'F__Pop__Age_5_19__2010_', 'F__Pop__Age_20_34__2010_',\n",
       "       'F__Pop__Age_35_59__2010_', 'F__Pop__Age_60_74__2010_',\n",
       "       'F__Pop__Age___75__2010_', 'SNAP_All_csv_Total___Units__200',\n",
       "       'SNAP_All_csv_Total___Units__201',\n",
       "       'SNAP_All_csv___Occupied_Units__',\n",
       "       'SNAP_All_csv___Vacant_Units__20',\n",
       "       'SNAP_All_csv___Occupied_Units_1',\n",
       "       'SNAP_All_csv___Owner_Occupied_U',\n",
       "       'SNAP_All_csv___Renter_Occupied_',\n",
       "       'Est__Avg__Yrs__of_Residence__20',\n",
       "       'SNAP_All_csv___Living_in_Househ',\n",
       "       'SNAP_All_csv___Living_in_Group_',\n",
       "       'SNAP_All_csv___Units_Built_00_0',\n",
       "       'SNAP_All_csv___Units_Built_90_9',\n",
       "       'SNAP_All_csv___Units_Built_80_8',\n",
       "       'SNAP_All_csv___Units_Built_60_7',\n",
       "       'SNAP_All_csv___Units_Built_40_5',\n",
       "       'SNAP_All_csv___Units_Built_befo',\n",
       "       'SNAP_All_csv_Median_Home_Value_',\n",
       "       'Med__Val____00_in__10_Dollars_',\n",
       "       'SNAP_All_csv_Median_Home__Value',\n",
       "       'SNAP_All_csv___Change_Real_Valu',\n",
       "       'SNAP_All_csv_Median_Sale_Price_',\n",
       "       'SNAP_All_csv___Sales_Counted__2',\n",
       "       'SNAP_All_csv_Foreclosures__2008',\n",
       "       'SNAP_All_csv_Foreclosures__2010',\n",
       "       'SNAP_All_csv___of_all_Housing_U',\n",
       "       'Total_Age_16__N_hood_Residents_',\n",
       "       'SNAP_All_csv_Resident_Jobs__Con',\n",
       "       'SNAP_All_csv_Resident_Jobs__Man',\n",
       "       'SNAP_All_csv_Resident_Jobs__Ret',\n",
       "       'SNAP_All_csv_Resident_Jobs__Tra',\n",
       "       'SNAP_All_csv_Resident_Jobs__Inf',\n",
       "       'SNAP_All_csv_Resident_Jobs__Fin',\n",
       "       'SNAP_All_csv_Resident_Jobs__Pro',\n",
       "       'SNAP_All_csv_Resident_Jobs__Edu',\n",
       "       'SNAP_All_csv_Resident_Jobs__Art',\n",
       "       'SNAP_All_csv_Resident_Jobs__Pub',\n",
       "       'SNAP_All_csv_Resident_Jobs__Oth',\n",
       "       'Total___Jobs_Located_in_N_hood_',\n",
       "       'SNAP_All_csv_Jobs_in__Hood__Con',\n",
       "       'SNAP_All_csv_Jobs_in__Hood__Man',\n",
       "       'SNAP_All_csv_Jobs_in__Hood__Ret',\n",
       "       'SNAP_All_csv_Jobs_in__Hood__Tra',\n",
       "       'SNAP_All_csv_Jobs_in__Hood__Inf',\n",
       "       'SNAP_All_csv_Jobs_in__Hood__Fin',\n",
       "       'SNAP_All_csv_Jobs_in__Hood__Pro',\n",
       "       'SNAP_All_csv_Jobs_in__Hood__Edu',\n",
       "       'SNAP_All_csv_Jobs_in__Hood__Art',\n",
       "       'SNAP_All_csv_Jobs_in__Hood__Pub',\n",
       "       'SNAP_All_csv_Jobs_in__Hood__Oth',\n",
       "       'SNAP_All_csv_Total_Pop__25_and_',\n",
       "       'Edu__Attainment__Less_than_High',\n",
       "       'Edu__Attainment__High_School_Gr',\n",
       "       'Edu__Attainment__Assoc__Prof__D',\n",
       "       'Edu__Attainment__Bachelor_s_Deg',\n",
       "       'Edu__Attainment__Postgraduate_D',\n",
       "       'SNAP_All_csv_1999_Median_Income',\n",
       "       'SNAP_All_csv_2009_Median_Income',\n",
       "       'SNAP_All_csv_1999_Median_Inco_1',\n",
       "       'F2009_Med__Income___13_Dollars_',\n",
       "       'Est__Pop__for_which_Poverty_Cal',\n",
       "       'Est__Pop__Under_Poverty__2010_',\n",
       "       'Est__Percent_Under_Poverty__201',\n",
       "       'SNAP_All_csv__Part_1__Major_Cri',\n",
       "       'SNAP_All_csv__Part_2_Reports__2',\n",
       "       'SNAP_All_csv__Other_Police_Repo',\n",
       "       'SNAP_All_csv_Part_1_Crime_per_1',\n",
       "       'SNAP_All_csv_Part_2_Crime_per_1', 'SNAP_All_csv__Murder__2010_',\n",
       "       'SNAP_All_csv__Rape__2010_', 'SNAP_All_csv__Robbery__2010_',\n",
       "       'F_Agr__Assault__2010_', 'SNAP_All_csv__Burglary__2010_',\n",
       "       'SNAP_All_csv__Auto_Theft__2010_',\n",
       "       'SNAP_All_csv__Drug_Violations__',\n",
       "       'SNAP_All_csv_Land_Area__acres1', 'Approx__Total___Parcels__2010_',\n",
       "       'Approx__Total___Taxable_Parcels',\n",
       "       'Approx____of_Structures__2010_',\n",
       "       'Approx____Unoccupied_Parcels__2',\n",
       "       'SNAP_All_csv___Good___Excellent',\n",
       "       'SNAP_All_csv___Average_Conditio',\n",
       "       'SNAP_All_csv___Poor___Derelict_',\n",
       "       'F__Residential_Bldg__Permits__2',\n",
       "       'F__Residential_Bldg__Permits__3',\n",
       "       'F__Commercial_Bldg__Permits__20',\n",
       "       'F__Commercial_Bldg__Permits__21',\n",
       "       'SNAP_All_csv___Code_Violations_',\n",
       "       'F__of_all_Bldgs__w__Code_Violat',\n",
       "       'SNAP_All_csv___Condemned_Struct',\n",
       "       'F__of_all_Bldgs__Condemned__201',\n",
       "       'SNAP_All_csv___Demolitions__201',\n",
       "       'F__Tax_Delinquent_Prop___2__yrs',\n",
       "       'F__of_Taxable_Prop__Delinquent_',\n",
       "       'SNAP_All_csv_Landslide_Prone___',\n",
       "       'SNAP_All_csv_Undermined____land',\n",
       "       'SNAP_All_csv_Flood_Plain____lan', 'SNAP_All_csv___Street_Trees',\n",
       "       'SNAP_All_csv_Park_Space__acres_',\n",
       "       'SNAP_All_csv_Park_Space____of_l', 'Park_Space__acres_1000_pers__',\n",
       "       'SNAP_All_csv_Greenway____of_lan',\n",
       "       'SNAP_All_csv_Woodland____of_lan',\n",
       "       'SNAP_All_csv_Cemetery____of_lan', 'SNAP_All_csv_Residential',\n",
       "       'SNAP_All_csv_Mixed_Use___Commer',\n",
       "       'SNAP_All_csv_Mixed_Use___Indust', 'Institutional___Edu____Med_',\n",
       "       'SNAP_All_csv_Open_Space', 'SNAP_All_csv_Hillside',\n",
       "       'SNAP_All_csv_Special_Land_Use', 'SNAP_All_csv_Miles_of_Major_Roa',\n",
       "       'SNAP_All_csv_Total_Street_Miles',\n",
       "       'Street_Density__st__mi_area_sq_', 'SNAP_All_csv___Sets_of_Steps',\n",
       "       'SNAP_All_csv___Step_Treads', 'Res__Permit_Parking_Area_s_',\n",
       "       'Total_Working_Pop___Age_16____2',\n",
       "       'SNAP_All_csv_Commute_to_Work__D',\n",
       "       'SNAP_All_csv_Commute_to_Work__C',\n",
       "       'SNAP_All_csv_Commute_to_Work__P',\n",
       "       'SNAP_All_csv_Commute_to_Work__T',\n",
       "       'SNAP_All_csv_Commute_to_Work__M',\n",
       "       'SNAP_All_csv_Commute_to_Work__B',\n",
       "       'SNAP_All_csv_Commute_to_Work__W',\n",
       "       'SNAP_All_csv_Commute_to_Work__O',\n",
       "       'SNAP_All_csv_Work_at_Home__2010', 'SHAPE_Length', 'SHAPE_Area'],\n",
       "      dtype=object)"
      ]
     },
     "execution_count": 746,
     "metadata": {},
     "output_type": "execute_result"
    }
   ],
   "source": [
    "neighborhood_data.columns.values"
   ]
  },
  {
   "cell_type": "code",
   "execution_count": 747,
   "id": "03f8c960",
   "metadata": {},
   "outputs": [],
   "source": [
    "neighborhood_data_area = neighborhood_data[['SNAP_All_csv_Neighborhood', 'Neighborhood_2010_AREA',\n",
    "                                            'Neighborhood_2010_ACRES', 'Pop__2010', 'SNAP_All_csv__Part_1__Major_Cri',\n",
    "                                            'SNAP_All_csv_Landslide_Prone___', 'SNAP_All_csv_Flood_Plain____lan',\n",
    "                                           'Est__Percent_Under_Poverty__201', 'SNAP_All_csv_2009_Median_Income']].copy()"
   ]
  },
  {
   "cell_type": "code",
   "execution_count": 748,
   "id": "4cac33c5",
   "metadata": {},
   "outputs": [],
   "source": [
    "neighborhood_data_area['SNAP_All_csv_Landslide_Prone___'] = neighborhood_data_area['SNAP_All_csv_Landslide_Prone___'].str[:-1]\n",
    "\n",
    "neighborhood_data_area['SNAP_All_csv_Flood_Plain____lan'] = neighborhood_data_area['SNAP_All_csv_Flood_Plain____lan'].str[:-1]\n",
    "\n",
    "neighborhood_data_area['Est__Percent_Under_Poverty__201'] = neighborhood_data_area['Est__Percent_Under_Poverty__201'].str[:-1]\n"
   ]
  },
  {
   "cell_type": "code",
   "execution_count": 749,
   "id": "02c20b94",
   "metadata": {},
   "outputs": [
    {
     "data": {
      "text/html": [
       "<div>\n",
       "<style scoped>\n",
       "    .dataframe tbody tr th:only-of-type {\n",
       "        vertical-align: middle;\n",
       "    }\n",
       "\n",
       "    .dataframe tbody tr th {\n",
       "        vertical-align: top;\n",
       "    }\n",
       "\n",
       "    .dataframe thead th {\n",
       "        text-align: right;\n",
       "    }\n",
       "</style>\n",
       "<table border=\"1\" class=\"dataframe\">\n",
       "  <thead>\n",
       "    <tr style=\"text-align: right;\">\n",
       "      <th></th>\n",
       "      <th>SNAP_All_csv_Neighborhood</th>\n",
       "      <th>Neighborhood_2010_AREA</th>\n",
       "      <th>Neighborhood_2010_ACRES</th>\n",
       "      <th>Pop__2010</th>\n",
       "      <th>SNAP_All_csv__Part_1__Major_Cri</th>\n",
       "      <th>SNAP_All_csv_Landslide_Prone___</th>\n",
       "      <th>SNAP_All_csv_Flood_Plain____lan</th>\n",
       "      <th>Est__Percent_Under_Poverty__201</th>\n",
       "      <th>SNAP_All_csv_2009_Median_Income</th>\n",
       "    </tr>\n",
       "  </thead>\n",
       "  <tbody>\n",
       "    <tr>\n",
       "      <th>0</th>\n",
       "      <td>Central Oakland</td>\n",
       "      <td>7843108</td>\n",
       "      <td>180.883</td>\n",
       "      <td>6086</td>\n",
       "      <td>236</td>\n",
       "      <td>10.6</td>\n",
       "      <td>0.0</td>\n",
       "      <td>64.8</td>\n",
       "      <td>16717</td>\n",
       "    </tr>\n",
       "    <tr>\n",
       "      <th>1</th>\n",
       "      <td>North Oakland</td>\n",
       "      <td>13904629</td>\n",
       "      <td>320.679</td>\n",
       "      <td>10551</td>\n",
       "      <td>182</td>\n",
       "      <td>17.9</td>\n",
       "      <td>0.0</td>\n",
       "      <td>39.2</td>\n",
       "      <td>50004</td>\n",
       "    </tr>\n",
       "    <tr>\n",
       "      <th>2</th>\n",
       "      <td>West Oakland</td>\n",
       "      <td>5999801.5</td>\n",
       "      <td>138.372</td>\n",
       "      <td>2604</td>\n",
       "      <td>82</td>\n",
       "      <td>64.5</td>\n",
       "      <td>0.0</td>\n",
       "      <td>46.6</td>\n",
       "      <td>20962</td>\n",
       "    </tr>\n",
       "  </tbody>\n",
       "</table>\n",
       "</div>"
      ],
      "text/plain": [
       "  SNAP_All_csv_Neighborhood Neighborhood_2010_AREA Neighborhood_2010_ACRES  \\\n",
       "0           Central Oakland                7843108                 180.883   \n",
       "1             North Oakland               13904629                 320.679   \n",
       "2              West Oakland              5999801.5                 138.372   \n",
       "\n",
       "  Pop__2010 SNAP_All_csv__Part_1__Major_Cri SNAP_All_csv_Landslide_Prone___  \\\n",
       "0      6086                             236                            10.6   \n",
       "1     10551                             182                            17.9   \n",
       "2      2604                              82                            64.5   \n",
       "\n",
       "  SNAP_All_csv_Flood_Plain____lan Est__Percent_Under_Poverty__201  \\\n",
       "0                             0.0                            64.8   \n",
       "1                             0.0                            39.2   \n",
       "2                             0.0                            46.6   \n",
       "\n",
       "  SNAP_All_csv_2009_Median_Income  \n",
       "0                           16717  \n",
       "1                           50004  \n",
       "2                           20962  "
      ]
     },
     "execution_count": 749,
     "metadata": {},
     "output_type": "execute_result"
    }
   ],
   "source": [
    "neighborhood_data_area.head(3)"
   ]
  },
  {
   "cell_type": "code",
   "execution_count": 750,
   "id": "7cf51a94",
   "metadata": {},
   "outputs": [],
   "source": [
    "neighborhood_data_area.rename({'SNAP_All_csv_Neighborhood': 'neighborhood'}, axis=1, inplace=True)"
   ]
  },
  {
   "cell_type": "code",
   "execution_count": 751,
   "id": "e557cdca",
   "metadata": {},
   "outputs": [
    {
     "data": {
      "text/plain": [
       "array(['neighborhood', 'Neighborhood_2010_AREA',\n",
       "       'Neighborhood_2010_ACRES', 'Pop__2010',\n",
       "       'SNAP_All_csv__Part_1__Major_Cri',\n",
       "       'SNAP_All_csv_Landslide_Prone___',\n",
       "       'SNAP_All_csv_Flood_Plain____lan',\n",
       "       'Est__Percent_Under_Poverty__201',\n",
       "       'SNAP_All_csv_2009_Median_Income'], dtype=object)"
      ]
     },
     "execution_count": 751,
     "metadata": {},
     "output_type": "execute_result"
    }
   ],
   "source": [
    "neighborhood_data_area.columns.values"
   ]
  },
  {
   "cell_type": "code",
   "execution_count": 752,
   "id": "cec16060",
   "metadata": {},
   "outputs": [],
   "source": [
    "neighborhood_convert_dict = {'Neighborhood_2010_AREA': float,\n",
    "                             'Neighborhood_2010_ACRES': float,\n",
    "                             'Pop__2010': float,\n",
    "                             'SNAP_All_csv__Part_1__Major_Cri': float,\n",
    "                             'SNAP_All_csv_Landslide_Prone___': float,\n",
    "                             'SNAP_All_csv_Flood_Plain____lan': float,\n",
    "                             'Est__Percent_Under_Poverty__201': float,\n",
    "                             'SNAP_All_csv_2009_Median_Income': float\n",
    "                            }"
   ]
  },
  {
   "cell_type": "code",
   "execution_count": 753,
   "id": "dc5d4fc2",
   "metadata": {},
   "outputs": [],
   "source": [
    "neighborhood_data_area = neighborhood_data_area.astype(neighborhood_convert_dict)"
   ]
  },
  {
   "cell_type": "code",
   "execution_count": 754,
   "id": "229b9a56",
   "metadata": {},
   "outputs": [
    {
     "data": {
      "text/html": [
       "<div>\n",
       "<style scoped>\n",
       "    .dataframe tbody tr th:only-of-type {\n",
       "        vertical-align: middle;\n",
       "    }\n",
       "\n",
       "    .dataframe tbody tr th {\n",
       "        vertical-align: top;\n",
       "    }\n",
       "\n",
       "    .dataframe thead th {\n",
       "        text-align: right;\n",
       "    }\n",
       "</style>\n",
       "<table border=\"1\" class=\"dataframe\">\n",
       "  <thead>\n",
       "    <tr style=\"text-align: right;\">\n",
       "      <th></th>\n",
       "      <th>neighborhood</th>\n",
       "      <th>Neighborhood_2010_AREA</th>\n",
       "      <th>Neighborhood_2010_ACRES</th>\n",
       "      <th>Pop__2010</th>\n",
       "      <th>SNAP_All_csv__Part_1__Major_Cri</th>\n",
       "      <th>SNAP_All_csv_Landslide_Prone___</th>\n",
       "      <th>SNAP_All_csv_Flood_Plain____lan</th>\n",
       "      <th>Est__Percent_Under_Poverty__201</th>\n",
       "      <th>SNAP_All_csv_2009_Median_Income</th>\n",
       "    </tr>\n",
       "  </thead>\n",
       "  <tbody>\n",
       "    <tr>\n",
       "      <th>0</th>\n",
       "      <td>Central Oakland</td>\n",
       "      <td>7843108.0</td>\n",
       "      <td>180.883</td>\n",
       "      <td>6086.0</td>\n",
       "      <td>236.0</td>\n",
       "      <td>10.6</td>\n",
       "      <td>0.0</td>\n",
       "      <td>64.8</td>\n",
       "      <td>16717.0</td>\n",
       "    </tr>\n",
       "    <tr>\n",
       "      <th>1</th>\n",
       "      <td>North Oakland</td>\n",
       "      <td>13904629.0</td>\n",
       "      <td>320.679</td>\n",
       "      <td>10551.0</td>\n",
       "      <td>182.0</td>\n",
       "      <td>17.9</td>\n",
       "      <td>0.0</td>\n",
       "      <td>39.2</td>\n",
       "      <td>50004.0</td>\n",
       "    </tr>\n",
       "    <tr>\n",
       "      <th>2</th>\n",
       "      <td>West Oakland</td>\n",
       "      <td>5999801.5</td>\n",
       "      <td>138.372</td>\n",
       "      <td>2604.0</td>\n",
       "      <td>82.0</td>\n",
       "      <td>64.5</td>\n",
       "      <td>0.0</td>\n",
       "      <td>46.6</td>\n",
       "      <td>20962.0</td>\n",
       "    </tr>\n",
       "    <tr>\n",
       "      <th>3</th>\n",
       "      <td>Crawford-Roberts</td>\n",
       "      <td>7202139.0</td>\n",
       "      <td>166.101</td>\n",
       "      <td>2256.0</td>\n",
       "      <td>129.0</td>\n",
       "      <td>24.7</td>\n",
       "      <td>0.0</td>\n",
       "      <td>48.2</td>\n",
       "      <td>14932.0</td>\n",
       "    </tr>\n",
       "    <tr>\n",
       "      <th>4</th>\n",
       "      <td>Strip District</td>\n",
       "      <td>16947852.0</td>\n",
       "      <td>390.864</td>\n",
       "      <td>616.0</td>\n",
       "      <td>155.0</td>\n",
       "      <td>10.9</td>\n",
       "      <td>54.2</td>\n",
       "      <td>2.1</td>\n",
       "      <td>64868.0</td>\n",
       "    </tr>\n",
       "  </tbody>\n",
       "</table>\n",
       "</div>"
      ],
      "text/plain": [
       "       neighborhood  Neighborhood_2010_AREA  Neighborhood_2010_ACRES  \\\n",
       "0   Central Oakland               7843108.0                  180.883   \n",
       "1     North Oakland              13904629.0                  320.679   \n",
       "2      West Oakland               5999801.5                  138.372   \n",
       "3  Crawford-Roberts               7202139.0                  166.101   \n",
       "4    Strip District              16947852.0                  390.864   \n",
       "\n",
       "   Pop__2010  SNAP_All_csv__Part_1__Major_Cri  \\\n",
       "0     6086.0                            236.0   \n",
       "1    10551.0                            182.0   \n",
       "2     2604.0                             82.0   \n",
       "3     2256.0                            129.0   \n",
       "4      616.0                            155.0   \n",
       "\n",
       "   SNAP_All_csv_Landslide_Prone___  SNAP_All_csv_Flood_Plain____lan  \\\n",
       "0                             10.6                              0.0   \n",
       "1                             17.9                              0.0   \n",
       "2                             64.5                              0.0   \n",
       "3                             24.7                              0.0   \n",
       "4                             10.9                             54.2   \n",
       "\n",
       "   Est__Percent_Under_Poverty__201  SNAP_All_csv_2009_Median_Income  \n",
       "0                             64.8                          16717.0  \n",
       "1                             39.2                          50004.0  \n",
       "2                             46.6                          20962.0  \n",
       "3                             48.2                          14932.0  \n",
       "4                              2.1                          64868.0  "
      ]
     },
     "execution_count": 754,
     "metadata": {},
     "output_type": "execute_result"
    }
   ],
   "source": [
    "neighborhood_data_area.head(5)"
   ]
  },
  {
   "cell_type": "code",
   "execution_count": 755,
   "id": "eb4444a7",
   "metadata": {},
   "outputs": [
    {
     "data": {
      "text/plain": [
       "(90, 9)"
      ]
     },
     "execution_count": 755,
     "metadata": {},
     "output_type": "execute_result"
    }
   ],
   "source": [
    "neighborhood_data_area.shape"
   ]
  },
  {
   "cell_type": "code",
   "execution_count": 756,
   "id": "6660999e",
   "metadata": {},
   "outputs": [
    {
     "data": {
      "text/plain": [
       "(90, 9)"
      ]
     },
     "execution_count": 756,
     "metadata": {},
     "output_type": "execute_result"
    }
   ],
   "source": [
    "df_tree_density.shape"
   ]
  },
  {
   "cell_type": "markdown",
   "id": "4de0e497",
   "metadata": {},
   "source": [
    "**Merge tree and neighborhood data**"
   ]
  },
  {
   "cell_type": "code",
   "execution_count": 757,
   "id": "be4039a8",
   "metadata": {},
   "outputs": [],
   "source": [
    "combined_data = df_tree_density.merge(neighborhood_data_area, on='neighborhood', how='left')\n"
   ]
  },
  {
   "cell_type": "code",
   "execution_count": 758,
   "id": "e3ece334",
   "metadata": {},
   "outputs": [
    {
     "data": {
      "text/html": [
       "<div>\n",
       "<style scoped>\n",
       "    .dataframe tbody tr th:only-of-type {\n",
       "        vertical-align: middle;\n",
       "    }\n",
       "\n",
       "    .dataframe tbody tr th {\n",
       "        vertical-align: top;\n",
       "    }\n",
       "\n",
       "    .dataframe thead th {\n",
       "        text-align: right;\n",
       "    }\n",
       "</style>\n",
       "<table border=\"1\" class=\"dataframe\">\n",
       "  <thead>\n",
       "    <tr style=\"text-align: right;\">\n",
       "      <th></th>\n",
       "      <th>neighborhood</th>\n",
       "      <th>tree_count</th>\n",
       "      <th>stormwater_benefits_dollar_value</th>\n",
       "      <th>property_value_benefits_dollarvalue</th>\n",
       "      <th>energy_benefits_electricity_dollar_value</th>\n",
       "      <th>energy_benefits_gas_dollar_value</th>\n",
       "      <th>air_quality_benfits_total_dollar_value</th>\n",
       "      <th>co2_benefits_dollar_value</th>\n",
       "      <th>overall_benefits_dollar_value</th>\n",
       "      <th>Neighborhood_2010_AREA</th>\n",
       "      <th>Neighborhood_2010_ACRES</th>\n",
       "      <th>Pop__2010</th>\n",
       "      <th>SNAP_All_csv__Part_1__Major_Cri</th>\n",
       "      <th>SNAP_All_csv_Landslide_Prone___</th>\n",
       "      <th>SNAP_All_csv_Flood_Plain____lan</th>\n",
       "      <th>Est__Percent_Under_Poverty__201</th>\n",
       "      <th>SNAP_All_csv_2009_Median_Income</th>\n",
       "    </tr>\n",
       "  </thead>\n",
       "  <tbody>\n",
       "    <tr>\n",
       "      <th>0</th>\n",
       "      <td>Allegheny Center</td>\n",
       "      <td>861</td>\n",
       "      <td>15178.511842</td>\n",
       "      <td>57963.126001</td>\n",
       "      <td>14193.463380</td>\n",
       "      <td>48484.488931</td>\n",
       "      <td>10723.002809</td>\n",
       "      <td>1370.216934</td>\n",
       "      <td>147912.809897</td>\n",
       "      <td>5840713.0</td>\n",
       "      <td>134.703</td>\n",
       "      <td>933.0</td>\n",
       "      <td>71.0</td>\n",
       "      <td>0.0</td>\n",
       "      <td>0.2</td>\n",
       "      <td>34.0</td>\n",
       "      <td>20911.0</td>\n",
       "    </tr>\n",
       "    <tr>\n",
       "      <th>1</th>\n",
       "      <td>Allegheny West</td>\n",
       "      <td>368</td>\n",
       "      <td>5365.137916</td>\n",
       "      <td>22959.330812</td>\n",
       "      <td>5022.063352</td>\n",
       "      <td>17268.311191</td>\n",
       "      <td>3764.227070</td>\n",
       "      <td>484.084190</td>\n",
       "      <td>54863.154531</td>\n",
       "      <td>3938870.2</td>\n",
       "      <td>90.841</td>\n",
       "      <td>462.0</td>\n",
       "      <td>38.0</td>\n",
       "      <td>9.3</td>\n",
       "      <td>2.3</td>\n",
       "      <td>5.0</td>\n",
       "      <td>41761.0</td>\n",
       "    </tr>\n",
       "    <tr>\n",
       "      <th>2</th>\n",
       "      <td>Allentown</td>\n",
       "      <td>60</td>\n",
       "      <td>526.717770</td>\n",
       "      <td>3318.198878</td>\n",
       "      <td>628.412567</td>\n",
       "      <td>2303.234200</td>\n",
       "      <td>428.472504</td>\n",
       "      <td>53.256759</td>\n",
       "      <td>7227.077029</td>\n",
       "      <td>8221419.5</td>\n",
       "      <td>189.608</td>\n",
       "      <td>2500.0</td>\n",
       "      <td>159.0</td>\n",
       "      <td>27.1</td>\n",
       "      <td>0.0</td>\n",
       "      <td>28.5</td>\n",
       "      <td>29274.0</td>\n",
       "    </tr>\n",
       "    <tr>\n",
       "      <th>3</th>\n",
       "      <td>Arlington</td>\n",
       "      <td>82</td>\n",
       "      <td>390.847941</td>\n",
       "      <td>2700.603910</td>\n",
       "      <td>505.210444</td>\n",
       "      <td>1968.359203</td>\n",
       "      <td>302.469775</td>\n",
       "      <td>38.234504</td>\n",
       "      <td>5894.342859</td>\n",
       "      <td>13108599.0</td>\n",
       "      <td>302.320</td>\n",
       "      <td>1869.0</td>\n",
       "      <td>50.0</td>\n",
       "      <td>41.4</td>\n",
       "      <td>1.5</td>\n",
       "      <td>20.3</td>\n",
       "      <td>25119.0</td>\n",
       "    </tr>\n",
       "    <tr>\n",
       "      <th>4</th>\n",
       "      <td>Arlington Heights</td>\n",
       "      <td>4</td>\n",
       "      <td>79.176047</td>\n",
       "      <td>330.289204</td>\n",
       "      <td>92.492976</td>\n",
       "      <td>323.811103</td>\n",
       "      <td>43.677589</td>\n",
       "      <td>4.439313</td>\n",
       "      <td>873.886232</td>\n",
       "      <td>3667921.5</td>\n",
       "      <td>84.592</td>\n",
       "      <td>244.0</td>\n",
       "      <td>19.0</td>\n",
       "      <td>39.9</td>\n",
       "      <td>0.0</td>\n",
       "      <td>57.7</td>\n",
       "      <td>9417.0</td>\n",
       "    </tr>\n",
       "  </tbody>\n",
       "</table>\n",
       "</div>"
      ],
      "text/plain": [
       "        neighborhood  tree_count  stormwater_benefits_dollar_value  \\\n",
       "0   Allegheny Center         861                      15178.511842   \n",
       "1     Allegheny West         368                       5365.137916   \n",
       "2          Allentown          60                        526.717770   \n",
       "3          Arlington          82                        390.847941   \n",
       "4  Arlington Heights           4                         79.176047   \n",
       "\n",
       "   property_value_benefits_dollarvalue  \\\n",
       "0                         57963.126001   \n",
       "1                         22959.330812   \n",
       "2                          3318.198878   \n",
       "3                          2700.603910   \n",
       "4                           330.289204   \n",
       "\n",
       "   energy_benefits_electricity_dollar_value  energy_benefits_gas_dollar_value  \\\n",
       "0                              14193.463380                      48484.488931   \n",
       "1                               5022.063352                      17268.311191   \n",
       "2                                628.412567                       2303.234200   \n",
       "3                                505.210444                       1968.359203   \n",
       "4                                 92.492976                        323.811103   \n",
       "\n",
       "   air_quality_benfits_total_dollar_value  co2_benefits_dollar_value  \\\n",
       "0                            10723.002809                1370.216934   \n",
       "1                             3764.227070                 484.084190   \n",
       "2                              428.472504                  53.256759   \n",
       "3                              302.469775                  38.234504   \n",
       "4                               43.677589                   4.439313   \n",
       "\n",
       "   overall_benefits_dollar_value  Neighborhood_2010_AREA  \\\n",
       "0                  147912.809897               5840713.0   \n",
       "1                   54863.154531               3938870.2   \n",
       "2                    7227.077029               8221419.5   \n",
       "3                    5894.342859              13108599.0   \n",
       "4                     873.886232               3667921.5   \n",
       "\n",
       "   Neighborhood_2010_ACRES  Pop__2010  SNAP_All_csv__Part_1__Major_Cri  \\\n",
       "0                  134.703      933.0                             71.0   \n",
       "1                   90.841      462.0                             38.0   \n",
       "2                  189.608     2500.0                            159.0   \n",
       "3                  302.320     1869.0                             50.0   \n",
       "4                   84.592      244.0                             19.0   \n",
       "\n",
       "   SNAP_All_csv_Landslide_Prone___  SNAP_All_csv_Flood_Plain____lan  \\\n",
       "0                              0.0                              0.2   \n",
       "1                              9.3                              2.3   \n",
       "2                             27.1                              0.0   \n",
       "3                             41.4                              1.5   \n",
       "4                             39.9                              0.0   \n",
       "\n",
       "   Est__Percent_Under_Poverty__201  SNAP_All_csv_2009_Median_Income  \n",
       "0                             34.0                          20911.0  \n",
       "1                              5.0                          41761.0  \n",
       "2                             28.5                          29274.0  \n",
       "3                             20.3                          25119.0  \n",
       "4                             57.7                           9417.0  "
      ]
     },
     "execution_count": 758,
     "metadata": {},
     "output_type": "execute_result"
    }
   ],
   "source": [
    "combined_data.head(5)"
   ]
  },
  {
   "cell_type": "markdown",
   "id": "a0b9bbaf",
   "metadata": {},
   "source": [
    "**Divide the aggregated tree counts and benefits by the neighborhood area to get the corresponding neighborhood density values**"
   ]
  },
  {
   "cell_type": "code",
   "execution_count": 759,
   "id": "e760999e",
   "metadata": {},
   "outputs": [],
   "source": [
    "combined_data[['tree_count', 'stormwater_benefits_dollar_value', 'property_value_benefits_dollarvalue', \n",
    "               'energy_benefits_electricity_dollar_value', 'energy_benefits_gas_dollar_value',\n",
    "              'air_quality_benfits_total_dollar_value', 'co2_benefits_dollar_value', 'overall_benefits_dollar_value',\n",
    "               'Pop__2010', 'SNAP_All_csv__Part_1__Major_Cri']] = combined_data[['tree_count', 'stormwater_benefits_dollar_value', 'property_value_benefits_dollarvalue', \n",
    "               'energy_benefits_electricity_dollar_value', 'energy_benefits_gas_dollar_value',\n",
    "              'air_quality_benfits_total_dollar_value', 'co2_benefits_dollar_value', 'overall_benefits_dollar_value',\n",
    "               'Pop__2010', 'SNAP_All_csv__Part_1__Major_Cri']].div(combined_data.Neighborhood_2010_ACRES, axis=0)"
   ]
  },
  {
   "cell_type": "code",
   "execution_count": 760,
   "id": "75d19b80",
   "metadata": {},
   "outputs": [
    {
     "data": {
      "text/html": [
       "<div>\n",
       "<style scoped>\n",
       "    .dataframe tbody tr th:only-of-type {\n",
       "        vertical-align: middle;\n",
       "    }\n",
       "\n",
       "    .dataframe tbody tr th {\n",
       "        vertical-align: top;\n",
       "    }\n",
       "\n",
       "    .dataframe thead th {\n",
       "        text-align: right;\n",
       "    }\n",
       "</style>\n",
       "<table border=\"1\" class=\"dataframe\">\n",
       "  <thead>\n",
       "    <tr style=\"text-align: right;\">\n",
       "      <th></th>\n",
       "      <th>neighborhood</th>\n",
       "      <th>tree_count</th>\n",
       "      <th>stormwater_benefits_dollar_value</th>\n",
       "      <th>property_value_benefits_dollarvalue</th>\n",
       "      <th>energy_benefits_electricity_dollar_value</th>\n",
       "      <th>energy_benefits_gas_dollar_value</th>\n",
       "      <th>air_quality_benfits_total_dollar_value</th>\n",
       "      <th>co2_benefits_dollar_value</th>\n",
       "      <th>overall_benefits_dollar_value</th>\n",
       "      <th>Neighborhood_2010_AREA</th>\n",
       "      <th>Neighborhood_2010_ACRES</th>\n",
       "      <th>Pop__2010</th>\n",
       "      <th>SNAP_All_csv__Part_1__Major_Cri</th>\n",
       "      <th>SNAP_All_csv_Landslide_Prone___</th>\n",
       "      <th>SNAP_All_csv_Flood_Plain____lan</th>\n",
       "      <th>Est__Percent_Under_Poverty__201</th>\n",
       "      <th>SNAP_All_csv_2009_Median_Income</th>\n",
       "    </tr>\n",
       "  </thead>\n",
       "  <tbody>\n",
       "    <tr>\n",
       "      <th>0</th>\n",
       "      <td>Allegheny Center</td>\n",
       "      <td>6.391840</td>\n",
       "      <td>112.681320</td>\n",
       "      <td>430.303156</td>\n",
       "      <td>105.368577</td>\n",
       "      <td>359.936222</td>\n",
       "      <td>79.604781</td>\n",
       "      <td>10.172134</td>\n",
       "      <td>1098.066189</td>\n",
       "      <td>5840713.0</td>\n",
       "      <td>134.703</td>\n",
       "      <td>6.926349</td>\n",
       "      <td>0.527086</td>\n",
       "      <td>0.0</td>\n",
       "      <td>0.2</td>\n",
       "      <td>34.0</td>\n",
       "      <td>20911.0</td>\n",
       "    </tr>\n",
       "    <tr>\n",
       "      <th>1</th>\n",
       "      <td>Allegheny West</td>\n",
       "      <td>4.051034</td>\n",
       "      <td>59.060754</td>\n",
       "      <td>252.741943</td>\n",
       "      <td>55.284105</td>\n",
       "      <td>190.093803</td>\n",
       "      <td>41.437534</td>\n",
       "      <td>5.328917</td>\n",
       "      <td>603.947056</td>\n",
       "      <td>3938870.2</td>\n",
       "      <td>90.841</td>\n",
       "      <td>5.085809</td>\n",
       "      <td>0.418313</td>\n",
       "      <td>9.3</td>\n",
       "      <td>2.3</td>\n",
       "      <td>5.0</td>\n",
       "      <td>41761.0</td>\n",
       "    </tr>\n",
       "    <tr>\n",
       "      <th>2</th>\n",
       "      <td>Allentown</td>\n",
       "      <td>0.316442</td>\n",
       "      <td>2.777930</td>\n",
       "      <td>17.500311</td>\n",
       "      <td>3.314272</td>\n",
       "      <td>12.147347</td>\n",
       "      <td>2.259781</td>\n",
       "      <td>0.280878</td>\n",
       "      <td>38.115887</td>\n",
       "      <td>8221419.5</td>\n",
       "      <td>189.608</td>\n",
       "      <td>13.185098</td>\n",
       "      <td>0.838572</td>\n",
       "      <td>27.1</td>\n",
       "      <td>0.0</td>\n",
       "      <td>28.5</td>\n",
       "      <td>29274.0</td>\n",
       "    </tr>\n",
       "    <tr>\n",
       "      <th>3</th>\n",
       "      <td>Arlington</td>\n",
       "      <td>0.271236</td>\n",
       "      <td>1.292829</td>\n",
       "      <td>8.932932</td>\n",
       "      <td>1.671112</td>\n",
       "      <td>6.510847</td>\n",
       "      <td>1.000495</td>\n",
       "      <td>0.126470</td>\n",
       "      <td>19.497032</td>\n",
       "      <td>13108599.0</td>\n",
       "      <td>302.320</td>\n",
       "      <td>6.182191</td>\n",
       "      <td>0.165388</td>\n",
       "      <td>41.4</td>\n",
       "      <td>1.5</td>\n",
       "      <td>20.3</td>\n",
       "      <td>25119.0</td>\n",
       "    </tr>\n",
       "    <tr>\n",
       "      <th>4</th>\n",
       "      <td>Arlington Heights</td>\n",
       "      <td>0.047286</td>\n",
       "      <td>0.935976</td>\n",
       "      <td>3.904497</td>\n",
       "      <td>1.093401</td>\n",
       "      <td>3.827916</td>\n",
       "      <td>0.516332</td>\n",
       "      <td>0.052479</td>\n",
       "      <td>10.330601</td>\n",
       "      <td>3667921.5</td>\n",
       "      <td>84.592</td>\n",
       "      <td>2.884434</td>\n",
       "      <td>0.224608</td>\n",
       "      <td>39.9</td>\n",
       "      <td>0.0</td>\n",
       "      <td>57.7</td>\n",
       "      <td>9417.0</td>\n",
       "    </tr>\n",
       "  </tbody>\n",
       "</table>\n",
       "</div>"
      ],
      "text/plain": [
       "        neighborhood  tree_count  stormwater_benefits_dollar_value  \\\n",
       "0   Allegheny Center    6.391840                        112.681320   \n",
       "1     Allegheny West    4.051034                         59.060754   \n",
       "2          Allentown    0.316442                          2.777930   \n",
       "3          Arlington    0.271236                          1.292829   \n",
       "4  Arlington Heights    0.047286                          0.935976   \n",
       "\n",
       "   property_value_benefits_dollarvalue  \\\n",
       "0                           430.303156   \n",
       "1                           252.741943   \n",
       "2                            17.500311   \n",
       "3                             8.932932   \n",
       "4                             3.904497   \n",
       "\n",
       "   energy_benefits_electricity_dollar_value  energy_benefits_gas_dollar_value  \\\n",
       "0                                105.368577                        359.936222   \n",
       "1                                 55.284105                        190.093803   \n",
       "2                                  3.314272                         12.147347   \n",
       "3                                  1.671112                          6.510847   \n",
       "4                                  1.093401                          3.827916   \n",
       "\n",
       "   air_quality_benfits_total_dollar_value  co2_benefits_dollar_value  \\\n",
       "0                               79.604781                  10.172134   \n",
       "1                               41.437534                   5.328917   \n",
       "2                                2.259781                   0.280878   \n",
       "3                                1.000495                   0.126470   \n",
       "4                                0.516332                   0.052479   \n",
       "\n",
       "   overall_benefits_dollar_value  Neighborhood_2010_AREA  \\\n",
       "0                    1098.066189               5840713.0   \n",
       "1                     603.947056               3938870.2   \n",
       "2                      38.115887               8221419.5   \n",
       "3                      19.497032              13108599.0   \n",
       "4                      10.330601               3667921.5   \n",
       "\n",
       "   Neighborhood_2010_ACRES  Pop__2010  SNAP_All_csv__Part_1__Major_Cri  \\\n",
       "0                  134.703   6.926349                         0.527086   \n",
       "1                   90.841   5.085809                         0.418313   \n",
       "2                  189.608  13.185098                         0.838572   \n",
       "3                  302.320   6.182191                         0.165388   \n",
       "4                   84.592   2.884434                         0.224608   \n",
       "\n",
       "   SNAP_All_csv_Landslide_Prone___  SNAP_All_csv_Flood_Plain____lan  \\\n",
       "0                              0.0                              0.2   \n",
       "1                              9.3                              2.3   \n",
       "2                             27.1                              0.0   \n",
       "3                             41.4                              1.5   \n",
       "4                             39.9                              0.0   \n",
       "\n",
       "   Est__Percent_Under_Poverty__201  SNAP_All_csv_2009_Median_Income  \n",
       "0                             34.0                          20911.0  \n",
       "1                              5.0                          41761.0  \n",
       "2                             28.5                          29274.0  \n",
       "3                             20.3                          25119.0  \n",
       "4                             57.7                           9417.0  "
      ]
     },
     "execution_count": 760,
     "metadata": {},
     "output_type": "execute_result"
    }
   ],
   "source": [
    "combined_data.head(5)"
   ]
  },
  {
   "cell_type": "markdown",
   "id": "e1f8874f",
   "metadata": {},
   "source": [
    "# Plot neighborhood level tree density data"
   ]
  },
  {
   "cell_type": "code",
   "execution_count": 761,
   "id": "4ac8af8e",
   "metadata": {},
   "outputs": [],
   "source": [
    "tree_density_map = combined_data[['neighborhood', 'tree_count']].copy()"
   ]
  },
  {
   "cell_type": "code",
   "execution_count": 762,
   "id": "624c6f82",
   "metadata": {
    "scrolled": false
   },
   "outputs": [
    {
     "data": {
      "application/vnd.plotly.v1+json": {
       "config": {
        "plotlyServerURL": "https://plot.ly"
       },
       "data": [
        {
         "coloraxis": "coloraxis",
         "featureidkey": "properties.name",
         "geo": "geo",
         "geojson": "https://raw.githubusercontent.com/blackmad/neighborhoods/master/gn-pittsburgh.geojson",
         "hovertemplate": "neighborhood=%{location}<br>tree_count=%{z}<extra></extra>",
         "locations": [
          "Allegheny Center",
          "Allegheny West",
          "Allentown",
          "Arlington",
          "Arlington Heights",
          "Banksville",
          "Bedford Dwellings",
          "Beechview",
          "Beltzhoover",
          "Bloomfield",
          "Bluff",
          "Bon Air",
          "Brighton Heights",
          "Brookline",
          "California-Kirkbride",
          "Carrick",
          "Central Business District",
          "Central Lawrenceville",
          "Central Northside",
          "Central Oakland",
          "Chartiers City",
          "Chateau",
          "Crafton Heights",
          "Crawford-Roberts",
          "Duquesne Heights",
          "East Allegheny",
          "East Carnegie",
          "East Hills",
          "East Liberty",
          "Elliott",
          "Esplen",
          "Fairywood",
          "Fineview",
          "Friendship",
          "Garfield",
          "Glen Hazel",
          "Greenfield",
          "Hays",
          "Hazelwood",
          "Highland Park",
          "Homewood North",
          "Homewood South",
          "Homewood West",
          "Knoxville",
          "Larimer",
          "Lincoln Place",
          "Lincoln-Lemington-Belmar",
          "Lower Lawrenceville",
          "Manchester",
          "Marshall-Shadeland",
          "Middle Hill",
          "Morningside",
          "Mount Washington",
          "Mt. Oliver",
          "New Homestead",
          "North Oakland",
          "North Shore",
          "Northview Heights",
          "Oakwood",
          "Overbrook",
          "Perry North",
          "Perry South",
          "Point Breeze",
          "Point Breeze North",
          "Polish Hill",
          "Regent Square",
          "Ridgemont",
          "Shadyside",
          "Sheraden",
          "South Oakland",
          "South Shore",
          "South Side Flats",
          "South Side Slopes",
          "Spring Garden",
          "Spring Hill-City View",
          "Squirrel Hill North",
          "Squirrel Hill South",
          "St. Clair",
          "Stanton Heights",
          "Strip District",
          "Summer Hill",
          "Swisshelm Park",
          "Terrace Village",
          "Troy Hill",
          "Upper Hill",
          "Upper Lawrenceville",
          "West End",
          "West Oakland",
          "Westwood",
          "Windgap"
         ],
         "name": "",
         "type": "choropleth",
         "z": [
          6.391839825393643,
          4.051034224634251,
          0.3164423442048859,
          0.2712357766604922,
          0.04728579534707774,
          0.6758503111961588,
          1.4489987158574256,
          0.5783954904325077,
          0.41424101429871213,
          2.618491155392608,
          0.9500736307063797,
          0.3969632312807026,
          1.0692477118377417,
          0.5430767426451198,
          0.5804288007337767,
          0.6098524640456645,
          2.344549105548442,
          1.0077535654934844,
          3.65220003003454,
          1.979179911876738,
          0.42375874002401304,
          1.0425921193017473,
          0.5819532580095961,
          2.8115423748201396,
          0.20476043029655303,
          2.3005174516331035,
          0.014393925763327877,
          1.18364614726052,
          3.3159373745483745,
          0.3411393541436889,
          0.013529145160963004,
          0.04335636037806746,
          0.5296346144260007,
          4.4511471953380095,
          1.7240382620878205,
          0.006821352196645941,
          1.2373548371520315,
          0.0008885113702800055,
          0.478480651991295,
          3.659265659209486,
          1.0317403453464211,
          1.1714494343851647,
          0.5476494104945274,
          2.1342186388427793,
          0.9959463237349734,
          0.38102947523861774,
          2.6373504344687824,
          1.657066774725752,
          3.2133031865720683,
          2.8540776875898226,
          1.2748077589899443,
          1.5185008773108286,
          0.9201427996095537,
          0.1962975266511642,
          0.350480098995943,
          2.270182955541211,
          2.1947142256453382,
          0.02976810645074867,
          0.5369873159892603,
          0.45411156316321144,
          1.1898527509087549,
          0.5174879997799388,
          1.7934163962861722,
          2.296211251435132,
          1.4540833470799197,
          3.2987823612166687,
          0.12655077427982064,
          2.2242714117790117,
          0.48765566965261087,
          0.6211883363474737,
          0.0073420899993392125,
          2.485234052527375,
          0.38642560655794644,
          0.2719454296171235,
          0.2322335182142725,
          2.3792922686997104,
          2.8483509317403066,
          0.06021526958877989,
          1.3203135744739376,
          1.1026853330058537,
          0.2587698153872331,
          0.771287369359151,
          1.1556853805799356,
          0.7889306954727516,
          0.6263452753185165,
          1.2368013704681025,
          0.8626116149488261,
          0.5131095886451016,
          0.5550449541469947,
          0.38248374444086125
         ]
        }
       ],
       "layout": {
        "coloraxis": {
         "colorbar": {
          "title": {
           "text": "tree_count"
          }
         },
         "colorscale": [
          [
           0,
           "rgb(247,252,245)"
          ],
          [
           0.125,
           "rgb(229,245,224)"
          ],
          [
           0.25,
           "rgb(199,233,192)"
          ],
          [
           0.375,
           "rgb(161,217,155)"
          ],
          [
           0.5,
           "rgb(116,196,118)"
          ],
          [
           0.625,
           "rgb(65,171,93)"
          ],
          [
           0.75,
           "rgb(35,139,69)"
          ],
          [
           0.875,
           "rgb(0,109,44)"
          ],
          [
           1,
           "rgb(0,68,27)"
          ]
         ]
        },
        "geo": {
         "center": {},
         "domain": {
          "x": [
           0,
           1
          ],
          "y": [
           0,
           1
          ]
         },
         "fitbounds": "locations",
         "visible": false
        },
        "height": 500,
        "legend": {
         "tracegroupgap": 0
        },
        "template": {
         "data": {
          "bar": [
           {
            "error_x": {
             "color": "#2a3f5f"
            },
            "error_y": {
             "color": "#2a3f5f"
            },
            "marker": {
             "line": {
              "color": "#E5ECF6",
              "width": 0.5
             },
             "pattern": {
              "fillmode": "overlay",
              "size": 10,
              "solidity": 0.2
             }
            },
            "type": "bar"
           }
          ],
          "barpolar": [
           {
            "marker": {
             "line": {
              "color": "#E5ECF6",
              "width": 0.5
             },
             "pattern": {
              "fillmode": "overlay",
              "size": 10,
              "solidity": 0.2
             }
            },
            "type": "barpolar"
           }
          ],
          "carpet": [
           {
            "aaxis": {
             "endlinecolor": "#2a3f5f",
             "gridcolor": "white",
             "linecolor": "white",
             "minorgridcolor": "white",
             "startlinecolor": "#2a3f5f"
            },
            "baxis": {
             "endlinecolor": "#2a3f5f",
             "gridcolor": "white",
             "linecolor": "white",
             "minorgridcolor": "white",
             "startlinecolor": "#2a3f5f"
            },
            "type": "carpet"
           }
          ],
          "choropleth": [
           {
            "colorbar": {
             "outlinewidth": 0,
             "ticks": ""
            },
            "type": "choropleth"
           }
          ],
          "contour": [
           {
            "colorbar": {
             "outlinewidth": 0,
             "ticks": ""
            },
            "colorscale": [
             [
              0,
              "#0d0887"
             ],
             [
              0.1111111111111111,
              "#46039f"
             ],
             [
              0.2222222222222222,
              "#7201a8"
             ],
             [
              0.3333333333333333,
              "#9c179e"
             ],
             [
              0.4444444444444444,
              "#bd3786"
             ],
             [
              0.5555555555555556,
              "#d8576b"
             ],
             [
              0.6666666666666666,
              "#ed7953"
             ],
             [
              0.7777777777777778,
              "#fb9f3a"
             ],
             [
              0.8888888888888888,
              "#fdca26"
             ],
             [
              1,
              "#f0f921"
             ]
            ],
            "type": "contour"
           }
          ],
          "contourcarpet": [
           {
            "colorbar": {
             "outlinewidth": 0,
             "ticks": ""
            },
            "type": "contourcarpet"
           }
          ],
          "heatmap": [
           {
            "colorbar": {
             "outlinewidth": 0,
             "ticks": ""
            },
            "colorscale": [
             [
              0,
              "#0d0887"
             ],
             [
              0.1111111111111111,
              "#46039f"
             ],
             [
              0.2222222222222222,
              "#7201a8"
             ],
             [
              0.3333333333333333,
              "#9c179e"
             ],
             [
              0.4444444444444444,
              "#bd3786"
             ],
             [
              0.5555555555555556,
              "#d8576b"
             ],
             [
              0.6666666666666666,
              "#ed7953"
             ],
             [
              0.7777777777777778,
              "#fb9f3a"
             ],
             [
              0.8888888888888888,
              "#fdca26"
             ],
             [
              1,
              "#f0f921"
             ]
            ],
            "type": "heatmap"
           }
          ],
          "heatmapgl": [
           {
            "colorbar": {
             "outlinewidth": 0,
             "ticks": ""
            },
            "colorscale": [
             [
              0,
              "#0d0887"
             ],
             [
              0.1111111111111111,
              "#46039f"
             ],
             [
              0.2222222222222222,
              "#7201a8"
             ],
             [
              0.3333333333333333,
              "#9c179e"
             ],
             [
              0.4444444444444444,
              "#bd3786"
             ],
             [
              0.5555555555555556,
              "#d8576b"
             ],
             [
              0.6666666666666666,
              "#ed7953"
             ],
             [
              0.7777777777777778,
              "#fb9f3a"
             ],
             [
              0.8888888888888888,
              "#fdca26"
             ],
             [
              1,
              "#f0f921"
             ]
            ],
            "type": "heatmapgl"
           }
          ],
          "histogram": [
           {
            "marker": {
             "pattern": {
              "fillmode": "overlay",
              "size": 10,
              "solidity": 0.2
             }
            },
            "type": "histogram"
           }
          ],
          "histogram2d": [
           {
            "colorbar": {
             "outlinewidth": 0,
             "ticks": ""
            },
            "colorscale": [
             [
              0,
              "#0d0887"
             ],
             [
              0.1111111111111111,
              "#46039f"
             ],
             [
              0.2222222222222222,
              "#7201a8"
             ],
             [
              0.3333333333333333,
              "#9c179e"
             ],
             [
              0.4444444444444444,
              "#bd3786"
             ],
             [
              0.5555555555555556,
              "#d8576b"
             ],
             [
              0.6666666666666666,
              "#ed7953"
             ],
             [
              0.7777777777777778,
              "#fb9f3a"
             ],
             [
              0.8888888888888888,
              "#fdca26"
             ],
             [
              1,
              "#f0f921"
             ]
            ],
            "type": "histogram2d"
           }
          ],
          "histogram2dcontour": [
           {
            "colorbar": {
             "outlinewidth": 0,
             "ticks": ""
            },
            "colorscale": [
             [
              0,
              "#0d0887"
             ],
             [
              0.1111111111111111,
              "#46039f"
             ],
             [
              0.2222222222222222,
              "#7201a8"
             ],
             [
              0.3333333333333333,
              "#9c179e"
             ],
             [
              0.4444444444444444,
              "#bd3786"
             ],
             [
              0.5555555555555556,
              "#d8576b"
             ],
             [
              0.6666666666666666,
              "#ed7953"
             ],
             [
              0.7777777777777778,
              "#fb9f3a"
             ],
             [
              0.8888888888888888,
              "#fdca26"
             ],
             [
              1,
              "#f0f921"
             ]
            ],
            "type": "histogram2dcontour"
           }
          ],
          "mesh3d": [
           {
            "colorbar": {
             "outlinewidth": 0,
             "ticks": ""
            },
            "type": "mesh3d"
           }
          ],
          "parcoords": [
           {
            "line": {
             "colorbar": {
              "outlinewidth": 0,
              "ticks": ""
             }
            },
            "type": "parcoords"
           }
          ],
          "pie": [
           {
            "automargin": true,
            "type": "pie"
           }
          ],
          "scatter": [
           {
            "marker": {
             "colorbar": {
              "outlinewidth": 0,
              "ticks": ""
             }
            },
            "type": "scatter"
           }
          ],
          "scatter3d": [
           {
            "line": {
             "colorbar": {
              "outlinewidth": 0,
              "ticks": ""
             }
            },
            "marker": {
             "colorbar": {
              "outlinewidth": 0,
              "ticks": ""
             }
            },
            "type": "scatter3d"
           }
          ],
          "scattercarpet": [
           {
            "marker": {
             "colorbar": {
              "outlinewidth": 0,
              "ticks": ""
             }
            },
            "type": "scattercarpet"
           }
          ],
          "scattergeo": [
           {
            "marker": {
             "colorbar": {
              "outlinewidth": 0,
              "ticks": ""
             }
            },
            "type": "scattergeo"
           }
          ],
          "scattergl": [
           {
            "marker": {
             "colorbar": {
              "outlinewidth": 0,
              "ticks": ""
             }
            },
            "type": "scattergl"
           }
          ],
          "scattermapbox": [
           {
            "marker": {
             "colorbar": {
              "outlinewidth": 0,
              "ticks": ""
             }
            },
            "type": "scattermapbox"
           }
          ],
          "scatterpolar": [
           {
            "marker": {
             "colorbar": {
              "outlinewidth": 0,
              "ticks": ""
             }
            },
            "type": "scatterpolar"
           }
          ],
          "scatterpolargl": [
           {
            "marker": {
             "colorbar": {
              "outlinewidth": 0,
              "ticks": ""
             }
            },
            "type": "scatterpolargl"
           }
          ],
          "scatterternary": [
           {
            "marker": {
             "colorbar": {
              "outlinewidth": 0,
              "ticks": ""
             }
            },
            "type": "scatterternary"
           }
          ],
          "surface": [
           {
            "colorbar": {
             "outlinewidth": 0,
             "ticks": ""
            },
            "colorscale": [
             [
              0,
              "#0d0887"
             ],
             [
              0.1111111111111111,
              "#46039f"
             ],
             [
              0.2222222222222222,
              "#7201a8"
             ],
             [
              0.3333333333333333,
              "#9c179e"
             ],
             [
              0.4444444444444444,
              "#bd3786"
             ],
             [
              0.5555555555555556,
              "#d8576b"
             ],
             [
              0.6666666666666666,
              "#ed7953"
             ],
             [
              0.7777777777777778,
              "#fb9f3a"
             ],
             [
              0.8888888888888888,
              "#fdca26"
             ],
             [
              1,
              "#f0f921"
             ]
            ],
            "type": "surface"
           }
          ],
          "table": [
           {
            "cells": {
             "fill": {
              "color": "#EBF0F8"
             },
             "line": {
              "color": "white"
             }
            },
            "header": {
             "fill": {
              "color": "#C8D4E3"
             },
             "line": {
              "color": "white"
             }
            },
            "type": "table"
           }
          ]
         },
         "layout": {
          "annotationdefaults": {
           "arrowcolor": "#2a3f5f",
           "arrowhead": 0,
           "arrowwidth": 1
          },
          "autotypenumbers": "strict",
          "coloraxis": {
           "colorbar": {
            "outlinewidth": 0,
            "ticks": ""
           }
          },
          "colorscale": {
           "diverging": [
            [
             0,
             "#8e0152"
            ],
            [
             0.1,
             "#c51b7d"
            ],
            [
             0.2,
             "#de77ae"
            ],
            [
             0.3,
             "#f1b6da"
            ],
            [
             0.4,
             "#fde0ef"
            ],
            [
             0.5,
             "#f7f7f7"
            ],
            [
             0.6,
             "#e6f5d0"
            ],
            [
             0.7,
             "#b8e186"
            ],
            [
             0.8,
             "#7fbc41"
            ],
            [
             0.9,
             "#4d9221"
            ],
            [
             1,
             "#276419"
            ]
           ],
           "sequential": [
            [
             0,
             "#0d0887"
            ],
            [
             0.1111111111111111,
             "#46039f"
            ],
            [
             0.2222222222222222,
             "#7201a8"
            ],
            [
             0.3333333333333333,
             "#9c179e"
            ],
            [
             0.4444444444444444,
             "#bd3786"
            ],
            [
             0.5555555555555556,
             "#d8576b"
            ],
            [
             0.6666666666666666,
             "#ed7953"
            ],
            [
             0.7777777777777778,
             "#fb9f3a"
            ],
            [
             0.8888888888888888,
             "#fdca26"
            ],
            [
             1,
             "#f0f921"
            ]
           ],
           "sequentialminus": [
            [
             0,
             "#0d0887"
            ],
            [
             0.1111111111111111,
             "#46039f"
            ],
            [
             0.2222222222222222,
             "#7201a8"
            ],
            [
             0.3333333333333333,
             "#9c179e"
            ],
            [
             0.4444444444444444,
             "#bd3786"
            ],
            [
             0.5555555555555556,
             "#d8576b"
            ],
            [
             0.6666666666666666,
             "#ed7953"
            ],
            [
             0.7777777777777778,
             "#fb9f3a"
            ],
            [
             0.8888888888888888,
             "#fdca26"
            ],
            [
             1,
             "#f0f921"
            ]
           ]
          },
          "colorway": [
           "#636efa",
           "#EF553B",
           "#00cc96",
           "#ab63fa",
           "#FFA15A",
           "#19d3f3",
           "#FF6692",
           "#B6E880",
           "#FF97FF",
           "#FECB52"
          ],
          "font": {
           "color": "#2a3f5f"
          },
          "geo": {
           "bgcolor": "white",
           "lakecolor": "white",
           "landcolor": "#E5ECF6",
           "showlakes": true,
           "showland": true,
           "subunitcolor": "white"
          },
          "hoverlabel": {
           "align": "left"
          },
          "hovermode": "closest",
          "mapbox": {
           "style": "light"
          },
          "paper_bgcolor": "white",
          "plot_bgcolor": "#E5ECF6",
          "polar": {
           "angularaxis": {
            "gridcolor": "white",
            "linecolor": "white",
            "ticks": ""
           },
           "bgcolor": "#E5ECF6",
           "radialaxis": {
            "gridcolor": "white",
            "linecolor": "white",
            "ticks": ""
           }
          },
          "scene": {
           "xaxis": {
            "backgroundcolor": "#E5ECF6",
            "gridcolor": "white",
            "gridwidth": 2,
            "linecolor": "white",
            "showbackground": true,
            "ticks": "",
            "zerolinecolor": "white"
           },
           "yaxis": {
            "backgroundcolor": "#E5ECF6",
            "gridcolor": "white",
            "gridwidth": 2,
            "linecolor": "white",
            "showbackground": true,
            "ticks": "",
            "zerolinecolor": "white"
           },
           "zaxis": {
            "backgroundcolor": "#E5ECF6",
            "gridcolor": "white",
            "gridwidth": 2,
            "linecolor": "white",
            "showbackground": true,
            "ticks": "",
            "zerolinecolor": "white"
           }
          },
          "shapedefaults": {
           "line": {
            "color": "#2a3f5f"
           }
          },
          "ternary": {
           "aaxis": {
            "gridcolor": "white",
            "linecolor": "white",
            "ticks": ""
           },
           "baxis": {
            "gridcolor": "white",
            "linecolor": "white",
            "ticks": ""
           },
           "bgcolor": "#E5ECF6",
           "caxis": {
            "gridcolor": "white",
            "linecolor": "white",
            "ticks": ""
           }
          },
          "title": {
           "x": 0.05
          },
          "xaxis": {
           "automargin": true,
           "gridcolor": "white",
           "linecolor": "white",
           "ticks": "",
           "title": {
            "standoff": 15
           },
           "zerolinecolor": "white",
           "zerolinewidth": 2
          },
          "yaxis": {
           "automargin": true,
           "gridcolor": "white",
           "linecolor": "white",
           "ticks": "",
           "title": {
            "standoff": 15
           },
           "zerolinecolor": "white",
           "zerolinewidth": 2
          }
         }
        },
        "title": {
         "text": "Average Tree Density (trees per acre) across Neighborhoods"
        }
       }
      },
      "text/html": [
       "<div>                            <div id=\"4ac00475-b4db-4e84-bcc2-a204452e6731\" class=\"plotly-graph-div\" style=\"height:500px; width:100%;\"></div>            <script type=\"text/javascript\">                require([\"plotly\"], function(Plotly) {                    window.PLOTLYENV=window.PLOTLYENV || {};                                    if (document.getElementById(\"4ac00475-b4db-4e84-bcc2-a204452e6731\")) {                    Plotly.newPlot(                        \"4ac00475-b4db-4e84-bcc2-a204452e6731\",                        [{\"coloraxis\":\"coloraxis\",\"featureidkey\":\"properties.name\",\"geo\":\"geo\",\"geojson\":\"https://raw.githubusercontent.com/blackmad/neighborhoods/master/gn-pittsburgh.geojson\",\"hovertemplate\":\"neighborhood=%{location}<br>tree_count=%{z}<extra></extra>\",\"locations\":[\"Allegheny Center\",\"Allegheny West\",\"Allentown\",\"Arlington\",\"Arlington Heights\",\"Banksville\",\"Bedford Dwellings\",\"Beechview\",\"Beltzhoover\",\"Bloomfield\",\"Bluff\",\"Bon Air\",\"Brighton Heights\",\"Brookline\",\"California-Kirkbride\",\"Carrick\",\"Central Business District\",\"Central Lawrenceville\",\"Central Northside\",\"Central Oakland\",\"Chartiers City\",\"Chateau\",\"Crafton Heights\",\"Crawford-Roberts\",\"Duquesne Heights\",\"East Allegheny\",\"East Carnegie\",\"East Hills\",\"East Liberty\",\"Elliott\",\"Esplen\",\"Fairywood\",\"Fineview\",\"Friendship\",\"Garfield\",\"Glen Hazel\",\"Greenfield\",\"Hays\",\"Hazelwood\",\"Highland Park\",\"Homewood North\",\"Homewood South\",\"Homewood West\",\"Knoxville\",\"Larimer\",\"Lincoln Place\",\"Lincoln-Lemington-Belmar\",\"Lower Lawrenceville\",\"Manchester\",\"Marshall-Shadeland\",\"Middle Hill\",\"Morningside\",\"Mount Washington\",\"Mt. Oliver\",\"New Homestead\",\"North Oakland\",\"North Shore\",\"Northview Heights\",\"Oakwood\",\"Overbrook\",\"Perry North\",\"Perry South\",\"Point Breeze\",\"Point Breeze North\",\"Polish Hill\",\"Regent Square\",\"Ridgemont\",\"Shadyside\",\"Sheraden\",\"South Oakland\",\"South Shore\",\"South Side Flats\",\"South Side Slopes\",\"Spring Garden\",\"Spring Hill-City View\",\"Squirrel Hill North\",\"Squirrel Hill South\",\"St. Clair\",\"Stanton Heights\",\"Strip District\",\"Summer Hill\",\"Swisshelm Park\",\"Terrace Village\",\"Troy Hill\",\"Upper Hill\",\"Upper Lawrenceville\",\"West End\",\"West Oakland\",\"Westwood\",\"Windgap\"],\"name\":\"\",\"type\":\"choropleth\",\"z\":[6.391839825393643,4.051034224634251,0.3164423442048859,0.2712357766604922,0.04728579534707774,0.6758503111961588,1.4489987158574256,0.5783954904325077,0.41424101429871213,2.618491155392608,0.9500736307063797,0.3969632312807026,1.0692477118377417,0.5430767426451198,0.5804288007337767,0.6098524640456645,2.344549105548442,1.0077535654934844,3.65220003003454,1.979179911876738,0.42375874002401304,1.0425921193017473,0.5819532580095961,2.8115423748201396,0.20476043029655303,2.3005174516331035,0.014393925763327877,1.18364614726052,3.3159373745483745,0.3411393541436889,0.013529145160963004,0.04335636037806746,0.5296346144260007,4.4511471953380095,1.7240382620878205,0.006821352196645941,1.2373548371520315,0.0008885113702800055,0.478480651991295,3.659265659209486,1.0317403453464211,1.1714494343851647,0.5476494104945274,2.1342186388427793,0.9959463237349734,0.38102947523861774,2.6373504344687824,1.657066774725752,3.2133031865720683,2.8540776875898226,1.2748077589899443,1.5185008773108286,0.9201427996095537,0.1962975266511642,0.350480098995943,2.270182955541211,2.1947142256453382,0.02976810645074867,0.5369873159892603,0.45411156316321144,1.1898527509087549,0.5174879997799388,1.7934163962861722,2.296211251435132,1.4540833470799197,3.2987823612166687,0.12655077427982064,2.2242714117790117,0.48765566965261087,0.6211883363474737,0.0073420899993392125,2.485234052527375,0.38642560655794644,0.2719454296171235,0.2322335182142725,2.3792922686997104,2.8483509317403066,0.06021526958877989,1.3203135744739376,1.1026853330058537,0.2587698153872331,0.771287369359151,1.1556853805799356,0.7889306954727516,0.6263452753185165,1.2368013704681025,0.8626116149488261,0.5131095886451016,0.5550449541469947,0.38248374444086125]}],                        {\"coloraxis\":{\"colorbar\":{\"title\":{\"text\":\"tree_count\"}},\"colorscale\":[[0.0,\"rgb(247,252,245)\"],[0.125,\"rgb(229,245,224)\"],[0.25,\"rgb(199,233,192)\"],[0.375,\"rgb(161,217,155)\"],[0.5,\"rgb(116,196,118)\"],[0.625,\"rgb(65,171,93)\"],[0.75,\"rgb(35,139,69)\"],[0.875,\"rgb(0,109,44)\"],[1.0,\"rgb(0,68,27)\"]]},\"geo\":{\"center\":{},\"domain\":{\"x\":[0.0,1.0],\"y\":[0.0,1.0]},\"fitbounds\":\"locations\",\"visible\":false},\"height\":500,\"legend\":{\"tracegroupgap\":0},\"template\":{\"data\":{\"bar\":[{\"error_x\":{\"color\":\"#2a3f5f\"},\"error_y\":{\"color\":\"#2a3f5f\"},\"marker\":{\"line\":{\"color\":\"#E5ECF6\",\"width\":0.5},\"pattern\":{\"fillmode\":\"overlay\",\"size\":10,\"solidity\":0.2}},\"type\":\"bar\"}],\"barpolar\":[{\"marker\":{\"line\":{\"color\":\"#E5ECF6\",\"width\":0.5},\"pattern\":{\"fillmode\":\"overlay\",\"size\":10,\"solidity\":0.2}},\"type\":\"barpolar\"}],\"carpet\":[{\"aaxis\":{\"endlinecolor\":\"#2a3f5f\",\"gridcolor\":\"white\",\"linecolor\":\"white\",\"minorgridcolor\":\"white\",\"startlinecolor\":\"#2a3f5f\"},\"baxis\":{\"endlinecolor\":\"#2a3f5f\",\"gridcolor\":\"white\",\"linecolor\":\"white\",\"minorgridcolor\":\"white\",\"startlinecolor\":\"#2a3f5f\"},\"type\":\"carpet\"}],\"choropleth\":[{\"colorbar\":{\"outlinewidth\":0,\"ticks\":\"\"},\"type\":\"choropleth\"}],\"contour\":[{\"colorbar\":{\"outlinewidth\":0,\"ticks\":\"\"},\"colorscale\":[[0.0,\"#0d0887\"],[0.1111111111111111,\"#46039f\"],[0.2222222222222222,\"#7201a8\"],[0.3333333333333333,\"#9c179e\"],[0.4444444444444444,\"#bd3786\"],[0.5555555555555556,\"#d8576b\"],[0.6666666666666666,\"#ed7953\"],[0.7777777777777778,\"#fb9f3a\"],[0.8888888888888888,\"#fdca26\"],[1.0,\"#f0f921\"]],\"type\":\"contour\"}],\"contourcarpet\":[{\"colorbar\":{\"outlinewidth\":0,\"ticks\":\"\"},\"type\":\"contourcarpet\"}],\"heatmap\":[{\"colorbar\":{\"outlinewidth\":0,\"ticks\":\"\"},\"colorscale\":[[0.0,\"#0d0887\"],[0.1111111111111111,\"#46039f\"],[0.2222222222222222,\"#7201a8\"],[0.3333333333333333,\"#9c179e\"],[0.4444444444444444,\"#bd3786\"],[0.5555555555555556,\"#d8576b\"],[0.6666666666666666,\"#ed7953\"],[0.7777777777777778,\"#fb9f3a\"],[0.8888888888888888,\"#fdca26\"],[1.0,\"#f0f921\"]],\"type\":\"heatmap\"}],\"heatmapgl\":[{\"colorbar\":{\"outlinewidth\":0,\"ticks\":\"\"},\"colorscale\":[[0.0,\"#0d0887\"],[0.1111111111111111,\"#46039f\"],[0.2222222222222222,\"#7201a8\"],[0.3333333333333333,\"#9c179e\"],[0.4444444444444444,\"#bd3786\"],[0.5555555555555556,\"#d8576b\"],[0.6666666666666666,\"#ed7953\"],[0.7777777777777778,\"#fb9f3a\"],[0.8888888888888888,\"#fdca26\"],[1.0,\"#f0f921\"]],\"type\":\"heatmapgl\"}],\"histogram\":[{\"marker\":{\"pattern\":{\"fillmode\":\"overlay\",\"size\":10,\"solidity\":0.2}},\"type\":\"histogram\"}],\"histogram2d\":[{\"colorbar\":{\"outlinewidth\":0,\"ticks\":\"\"},\"colorscale\":[[0.0,\"#0d0887\"],[0.1111111111111111,\"#46039f\"],[0.2222222222222222,\"#7201a8\"],[0.3333333333333333,\"#9c179e\"],[0.4444444444444444,\"#bd3786\"],[0.5555555555555556,\"#d8576b\"],[0.6666666666666666,\"#ed7953\"],[0.7777777777777778,\"#fb9f3a\"],[0.8888888888888888,\"#fdca26\"],[1.0,\"#f0f921\"]],\"type\":\"histogram2d\"}],\"histogram2dcontour\":[{\"colorbar\":{\"outlinewidth\":0,\"ticks\":\"\"},\"colorscale\":[[0.0,\"#0d0887\"],[0.1111111111111111,\"#46039f\"],[0.2222222222222222,\"#7201a8\"],[0.3333333333333333,\"#9c179e\"],[0.4444444444444444,\"#bd3786\"],[0.5555555555555556,\"#d8576b\"],[0.6666666666666666,\"#ed7953\"],[0.7777777777777778,\"#fb9f3a\"],[0.8888888888888888,\"#fdca26\"],[1.0,\"#f0f921\"]],\"type\":\"histogram2dcontour\"}],\"mesh3d\":[{\"colorbar\":{\"outlinewidth\":0,\"ticks\":\"\"},\"type\":\"mesh3d\"}],\"parcoords\":[{\"line\":{\"colorbar\":{\"outlinewidth\":0,\"ticks\":\"\"}},\"type\":\"parcoords\"}],\"pie\":[{\"automargin\":true,\"type\":\"pie\"}],\"scatter\":[{\"marker\":{\"colorbar\":{\"outlinewidth\":0,\"ticks\":\"\"}},\"type\":\"scatter\"}],\"scatter3d\":[{\"line\":{\"colorbar\":{\"outlinewidth\":0,\"ticks\":\"\"}},\"marker\":{\"colorbar\":{\"outlinewidth\":0,\"ticks\":\"\"}},\"type\":\"scatter3d\"}],\"scattercarpet\":[{\"marker\":{\"colorbar\":{\"outlinewidth\":0,\"ticks\":\"\"}},\"type\":\"scattercarpet\"}],\"scattergeo\":[{\"marker\":{\"colorbar\":{\"outlinewidth\":0,\"ticks\":\"\"}},\"type\":\"scattergeo\"}],\"scattergl\":[{\"marker\":{\"colorbar\":{\"outlinewidth\":0,\"ticks\":\"\"}},\"type\":\"scattergl\"}],\"scattermapbox\":[{\"marker\":{\"colorbar\":{\"outlinewidth\":0,\"ticks\":\"\"}},\"type\":\"scattermapbox\"}],\"scatterpolar\":[{\"marker\":{\"colorbar\":{\"outlinewidth\":0,\"ticks\":\"\"}},\"type\":\"scatterpolar\"}],\"scatterpolargl\":[{\"marker\":{\"colorbar\":{\"outlinewidth\":0,\"ticks\":\"\"}},\"type\":\"scatterpolargl\"}],\"scatterternary\":[{\"marker\":{\"colorbar\":{\"outlinewidth\":0,\"ticks\":\"\"}},\"type\":\"scatterternary\"}],\"surface\":[{\"colorbar\":{\"outlinewidth\":0,\"ticks\":\"\"},\"colorscale\":[[0.0,\"#0d0887\"],[0.1111111111111111,\"#46039f\"],[0.2222222222222222,\"#7201a8\"],[0.3333333333333333,\"#9c179e\"],[0.4444444444444444,\"#bd3786\"],[0.5555555555555556,\"#d8576b\"],[0.6666666666666666,\"#ed7953\"],[0.7777777777777778,\"#fb9f3a\"],[0.8888888888888888,\"#fdca26\"],[1.0,\"#f0f921\"]],\"type\":\"surface\"}],\"table\":[{\"cells\":{\"fill\":{\"color\":\"#EBF0F8\"},\"line\":{\"color\":\"white\"}},\"header\":{\"fill\":{\"color\":\"#C8D4E3\"},\"line\":{\"color\":\"white\"}},\"type\":\"table\"}]},\"layout\":{\"annotationdefaults\":{\"arrowcolor\":\"#2a3f5f\",\"arrowhead\":0,\"arrowwidth\":1},\"autotypenumbers\":\"strict\",\"coloraxis\":{\"colorbar\":{\"outlinewidth\":0,\"ticks\":\"\"}},\"colorscale\":{\"diverging\":[[0,\"#8e0152\"],[0.1,\"#c51b7d\"],[0.2,\"#de77ae\"],[0.3,\"#f1b6da\"],[0.4,\"#fde0ef\"],[0.5,\"#f7f7f7\"],[0.6,\"#e6f5d0\"],[0.7,\"#b8e186\"],[0.8,\"#7fbc41\"],[0.9,\"#4d9221\"],[1,\"#276419\"]],\"sequential\":[[0.0,\"#0d0887\"],[0.1111111111111111,\"#46039f\"],[0.2222222222222222,\"#7201a8\"],[0.3333333333333333,\"#9c179e\"],[0.4444444444444444,\"#bd3786\"],[0.5555555555555556,\"#d8576b\"],[0.6666666666666666,\"#ed7953\"],[0.7777777777777778,\"#fb9f3a\"],[0.8888888888888888,\"#fdca26\"],[1.0,\"#f0f921\"]],\"sequentialminus\":[[0.0,\"#0d0887\"],[0.1111111111111111,\"#46039f\"],[0.2222222222222222,\"#7201a8\"],[0.3333333333333333,\"#9c179e\"],[0.4444444444444444,\"#bd3786\"],[0.5555555555555556,\"#d8576b\"],[0.6666666666666666,\"#ed7953\"],[0.7777777777777778,\"#fb9f3a\"],[0.8888888888888888,\"#fdca26\"],[1.0,\"#f0f921\"]]},\"colorway\":[\"#636efa\",\"#EF553B\",\"#00cc96\",\"#ab63fa\",\"#FFA15A\",\"#19d3f3\",\"#FF6692\",\"#B6E880\",\"#FF97FF\",\"#FECB52\"],\"font\":{\"color\":\"#2a3f5f\"},\"geo\":{\"bgcolor\":\"white\",\"lakecolor\":\"white\",\"landcolor\":\"#E5ECF6\",\"showlakes\":true,\"showland\":true,\"subunitcolor\":\"white\"},\"hoverlabel\":{\"align\":\"left\"},\"hovermode\":\"closest\",\"mapbox\":{\"style\":\"light\"},\"paper_bgcolor\":\"white\",\"plot_bgcolor\":\"#E5ECF6\",\"polar\":{\"angularaxis\":{\"gridcolor\":\"white\",\"linecolor\":\"white\",\"ticks\":\"\"},\"bgcolor\":\"#E5ECF6\",\"radialaxis\":{\"gridcolor\":\"white\",\"linecolor\":\"white\",\"ticks\":\"\"}},\"scene\":{\"xaxis\":{\"backgroundcolor\":\"#E5ECF6\",\"gridcolor\":\"white\",\"gridwidth\":2,\"linecolor\":\"white\",\"showbackground\":true,\"ticks\":\"\",\"zerolinecolor\":\"white\"},\"yaxis\":{\"backgroundcolor\":\"#E5ECF6\",\"gridcolor\":\"white\",\"gridwidth\":2,\"linecolor\":\"white\",\"showbackground\":true,\"ticks\":\"\",\"zerolinecolor\":\"white\"},\"zaxis\":{\"backgroundcolor\":\"#E5ECF6\",\"gridcolor\":\"white\",\"gridwidth\":2,\"linecolor\":\"white\",\"showbackground\":true,\"ticks\":\"\",\"zerolinecolor\":\"white\"}},\"shapedefaults\":{\"line\":{\"color\":\"#2a3f5f\"}},\"ternary\":{\"aaxis\":{\"gridcolor\":\"white\",\"linecolor\":\"white\",\"ticks\":\"\"},\"baxis\":{\"gridcolor\":\"white\",\"linecolor\":\"white\",\"ticks\":\"\"},\"bgcolor\":\"#E5ECF6\",\"caxis\":{\"gridcolor\":\"white\",\"linecolor\":\"white\",\"ticks\":\"\"}},\"title\":{\"x\":0.05},\"xaxis\":{\"automargin\":true,\"gridcolor\":\"white\",\"linecolor\":\"white\",\"ticks\":\"\",\"title\":{\"standoff\":15},\"zerolinecolor\":\"white\",\"zerolinewidth\":2},\"yaxis\":{\"automargin\":true,\"gridcolor\":\"white\",\"linecolor\":\"white\",\"ticks\":\"\",\"title\":{\"standoff\":15},\"zerolinecolor\":\"white\",\"zerolinewidth\":2}}},\"title\":{\"text\":\"Average Tree Density (trees per acre) across Neighborhoods\"}},                        {\"responsive\": true}                    ).then(function(){\n",
       "                            \n",
       "var gd = document.getElementById('4ac00475-b4db-4e84-bcc2-a204452e6731');\n",
       "var x = new MutationObserver(function (mutations, observer) {{\n",
       "        var display = window.getComputedStyle(gd).display;\n",
       "        if (!display || display === 'none') {{\n",
       "            console.log([gd, 'removed!']);\n",
       "            Plotly.purge(gd);\n",
       "            observer.disconnect();\n",
       "        }}\n",
       "}});\n",
       "\n",
       "// Listen for the removal of the full notebook cells\n",
       "var notebookContainer = gd.closest('#notebook-container');\n",
       "if (notebookContainer) {{\n",
       "    x.observe(notebookContainer, {childList: true});\n",
       "}}\n",
       "\n",
       "// Listen for the clearing of the current output cell\n",
       "var outputEl = gd.closest('.output');\n",
       "if (outputEl) {{\n",
       "    x.observe(outputEl, {childList: true});\n",
       "}}\n",
       "\n",
       "                        })                };                });            </script>        </div>"
      ]
     },
     "metadata": {},
     "output_type": "display_data"
    }
   ],
   "source": [
    "fig=px.choropleth(tree_density_map,\n",
    "             geojson=\"https://raw.githubusercontent.com/blackmad/neighborhoods/master/gn-pittsburgh.geojson\",\n",
    "             featureidkey='properties.name',   \n",
    "             locations='neighborhood',        #column in dataframe\n",
    "             color='tree_count',\n",
    "              color_continuous_scale='greens',\n",
    "               title='Average Tree Density (trees per acre) across Neighborhoods' ,  \n",
    "               height=500\n",
    "              )\n",
    "fig.update_geos(fitbounds=\"locations\", visible=False)\n",
    "fig.show()"
   ]
  },
  {
   "cell_type": "markdown",
   "id": "b735b3fd",
   "metadata": {},
   "source": [
    "**Top 5 neighborhoods with highest tree density**"
   ]
  },
  {
   "cell_type": "code",
   "execution_count": 763,
   "id": "2ff78f67",
   "metadata": {},
   "outputs": [
    {
     "data": {
      "text/html": [
       "<div>\n",
       "<style scoped>\n",
       "    .dataframe tbody tr th:only-of-type {\n",
       "        vertical-align: middle;\n",
       "    }\n",
       "\n",
       "    .dataframe tbody tr th {\n",
       "        vertical-align: top;\n",
       "    }\n",
       "\n",
       "    .dataframe thead th {\n",
       "        text-align: right;\n",
       "    }\n",
       "</style>\n",
       "<table border=\"1\" class=\"dataframe\">\n",
       "  <thead>\n",
       "    <tr style=\"text-align: right;\">\n",
       "      <th></th>\n",
       "      <th>neighborhood</th>\n",
       "      <th>tree_count</th>\n",
       "    </tr>\n",
       "  </thead>\n",
       "  <tbody>\n",
       "    <tr>\n",
       "      <th>0</th>\n",
       "      <td>Allegheny Center</td>\n",
       "      <td>6.391840</td>\n",
       "    </tr>\n",
       "    <tr>\n",
       "      <th>33</th>\n",
       "      <td>Friendship</td>\n",
       "      <td>4.451147</td>\n",
       "    </tr>\n",
       "    <tr>\n",
       "      <th>1</th>\n",
       "      <td>Allegheny West</td>\n",
       "      <td>4.051034</td>\n",
       "    </tr>\n",
       "    <tr>\n",
       "      <th>39</th>\n",
       "      <td>Highland Park</td>\n",
       "      <td>3.659266</td>\n",
       "    </tr>\n",
       "    <tr>\n",
       "      <th>18</th>\n",
       "      <td>Central Northside</td>\n",
       "      <td>3.652200</td>\n",
       "    </tr>\n",
       "  </tbody>\n",
       "</table>\n",
       "</div>"
      ],
      "text/plain": [
       "         neighborhood  tree_count\n",
       "0    Allegheny Center    6.391840\n",
       "33         Friendship    4.451147\n",
       "1      Allegheny West    4.051034\n",
       "39      Highland Park    3.659266\n",
       "18  Central Northside    3.652200"
      ]
     },
     "execution_count": 763,
     "metadata": {},
     "output_type": "execute_result"
    }
   ],
   "source": [
    "tree_density_map.sort_values('tree_count', ascending=False).head(5)"
   ]
  },
  {
   "cell_type": "markdown",
   "id": "f931db27",
   "metadata": {},
   "source": [
    "# Plot neighborhood level overall tree benefits data"
   ]
  },
  {
   "cell_type": "code",
   "execution_count": 764,
   "id": "c3445953",
   "metadata": {},
   "outputs": [],
   "source": [
    "overall_benefit_map = combined_data[['neighborhood', 'overall_benefits_dollar_value']].copy()"
   ]
  },
  {
   "cell_type": "code",
   "execution_count": 765,
   "id": "4cfad8e7",
   "metadata": {},
   "outputs": [
    {
     "data": {
      "application/vnd.plotly.v1+json": {
       "config": {
        "plotlyServerURL": "https://plot.ly"
       },
       "data": [
        {
         "coloraxis": "coloraxis",
         "featureidkey": "properties.name",
         "geo": "geo",
         "geojson": "https://raw.githubusercontent.com/blackmad/neighborhoods/master/gn-pittsburgh.geojson",
         "hovertemplate": "neighborhood=%{location}<br>overall_benefits_dollar_value=%{z}<extra></extra>",
         "locations": [
          "Allegheny Center",
          "Allegheny West",
          "Allentown",
          "Arlington",
          "Arlington Heights",
          "Banksville",
          "Bedford Dwellings",
          "Beechview",
          "Beltzhoover",
          "Bloomfield",
          "Bluff",
          "Bon Air",
          "Brighton Heights",
          "Brookline",
          "California-Kirkbride",
          "Carrick",
          "Central Business District",
          "Central Lawrenceville",
          "Central Northside",
          "Central Oakland",
          "Chartiers City",
          "Chateau",
          "Crafton Heights",
          "Crawford-Roberts",
          "Duquesne Heights",
          "East Allegheny",
          "East Carnegie",
          "East Hills",
          "East Liberty",
          "Elliott",
          "Esplen",
          "Fairywood",
          "Fineview",
          "Friendship",
          "Garfield",
          "Glen Hazel",
          "Greenfield",
          "Hays",
          "Hazelwood",
          "Highland Park",
          "Homewood North",
          "Homewood South",
          "Homewood West",
          "Knoxville",
          "Larimer",
          "Lincoln Place",
          "Lincoln-Lemington-Belmar",
          "Lower Lawrenceville",
          "Manchester",
          "Marshall-Shadeland",
          "Middle Hill",
          "Morningside",
          "Mount Washington",
          "Mt. Oliver",
          "New Homestead",
          "North Oakland",
          "North Shore",
          "Northview Heights",
          "Oakwood",
          "Overbrook",
          "Perry North",
          "Perry South",
          "Point Breeze",
          "Point Breeze North",
          "Polish Hill",
          "Regent Square",
          "Ridgemont",
          "Shadyside",
          "Sheraden",
          "South Oakland",
          "South Shore",
          "South Side Flats",
          "South Side Slopes",
          "Spring Garden",
          "Spring Hill-City View",
          "Squirrel Hill North",
          "Squirrel Hill South",
          "St. Clair",
          "Stanton Heights",
          "Strip District",
          "Summer Hill",
          "Swisshelm Park",
          "Terrace Village",
          "Troy Hill",
          "Upper Hill",
          "Upper Lawrenceville",
          "West End",
          "West Oakland",
          "Westwood",
          "Windgap"
         ],
         "name": "",
         "type": "choropleth",
         "z": [
          1098.0661893005654,
          603.9470561842169,
          38.11588661167935,
          19.497032478505496,
          10.330601385331946,
          87.26197098791584,
          104.54532759735208,
          63.08002647894023,
          46.00470848189888,
          251.38286553784283,
          75.84640314270139,
          42.54819269473868,
          131.37953433756965,
          70.17826206112431,
          62.650004712362325,
          66.3637858990835,
          211.54642471857127,
          67.20651848525961,
          323.0918095422729,
          252.91749212718403,
          55.518544151945754,
          104.78891378531539,
          78.2784441651546,
          257.50319570171933,
          18.247439557371628,
          215.09864075716675,
          2.2262476547055545,
          171.98644567829774,
          274.50931822853136,
          45.473035314428124,
          1.4407409302748446,
          8.993014678018488,
          72.98770447392953,
          375.5495205367661,
          179.27098162605728,
          0.5356204254845719,
          136.7920043849027,
          0.1611737542075456,
          56.358221958377804,
          544.767046248344,
          118.7814124199926,
          132.2423644995284,
          59.499033874373445,
          262.5120979213261,
          99.67752979222008,
          49.14389488723728,
          405.02337410135516,
          146.25798095584503,
          329.389975502456,
          334.43943376850615,
          117.55885866689222,
          147.20416015355227,
          95.8728159170795,
          18.71365495181651,
          49.2698921143237,
          252.75872159424432,
          225.5077509256107,
          4.664218077088481,
          69.68083306443798,
          53.66951993070519,
          175.86408910105766,
          70.86427618388313,
          263.5201532243534,
          315.16432460732983,
          95.39873958241226,
          477.59697473930447,
          14.241247015754901,
          281.9351219384073,
          61.17079119750076,
          53.81367405106127,
          0.33492169799047,
          193.45633885526908,
          31.27284434074446,
          24.650674987216515,
          23.70858294584116,
          401.0491515295823,
          407.28561878194955,
          10.241384017086084,
          222.0399012457426,
          76.46867698778001,
          35.09574796512919,
          104.74859913132529,
          101.4785063436146,
          33.93597628258934,
          78.49451342809553,
          137.66507852534107,
          71.22071365118659,
          39.05928546985864,
          70.36640363137886,
          51.81775931735906
         ]
        }
       ],
       "layout": {
        "coloraxis": {
         "colorbar": {
          "title": {
           "text": "overall_benefits_dollar_value"
          }
         },
         "colorscale": [
          [
           0,
           "rgb(247,252,245)"
          ],
          [
           0.125,
           "rgb(229,245,224)"
          ],
          [
           0.25,
           "rgb(199,233,192)"
          ],
          [
           0.375,
           "rgb(161,217,155)"
          ],
          [
           0.5,
           "rgb(116,196,118)"
          ],
          [
           0.625,
           "rgb(65,171,93)"
          ],
          [
           0.75,
           "rgb(35,139,69)"
          ],
          [
           0.875,
           "rgb(0,109,44)"
          ],
          [
           1,
           "rgb(0,68,27)"
          ]
         ]
        },
        "geo": {
         "center": {},
         "domain": {
          "x": [
           0,
           1
          ],
          "y": [
           0,
           1
          ]
         },
         "fitbounds": "locations",
         "visible": false
        },
        "height": 500,
        "legend": {
         "tracegroupgap": 0
        },
        "template": {
         "data": {
          "bar": [
           {
            "error_x": {
             "color": "#2a3f5f"
            },
            "error_y": {
             "color": "#2a3f5f"
            },
            "marker": {
             "line": {
              "color": "#E5ECF6",
              "width": 0.5
             },
             "pattern": {
              "fillmode": "overlay",
              "size": 10,
              "solidity": 0.2
             }
            },
            "type": "bar"
           }
          ],
          "barpolar": [
           {
            "marker": {
             "line": {
              "color": "#E5ECF6",
              "width": 0.5
             },
             "pattern": {
              "fillmode": "overlay",
              "size": 10,
              "solidity": 0.2
             }
            },
            "type": "barpolar"
           }
          ],
          "carpet": [
           {
            "aaxis": {
             "endlinecolor": "#2a3f5f",
             "gridcolor": "white",
             "linecolor": "white",
             "minorgridcolor": "white",
             "startlinecolor": "#2a3f5f"
            },
            "baxis": {
             "endlinecolor": "#2a3f5f",
             "gridcolor": "white",
             "linecolor": "white",
             "minorgridcolor": "white",
             "startlinecolor": "#2a3f5f"
            },
            "type": "carpet"
           }
          ],
          "choropleth": [
           {
            "colorbar": {
             "outlinewidth": 0,
             "ticks": ""
            },
            "type": "choropleth"
           }
          ],
          "contour": [
           {
            "colorbar": {
             "outlinewidth": 0,
             "ticks": ""
            },
            "colorscale": [
             [
              0,
              "#0d0887"
             ],
             [
              0.1111111111111111,
              "#46039f"
             ],
             [
              0.2222222222222222,
              "#7201a8"
             ],
             [
              0.3333333333333333,
              "#9c179e"
             ],
             [
              0.4444444444444444,
              "#bd3786"
             ],
             [
              0.5555555555555556,
              "#d8576b"
             ],
             [
              0.6666666666666666,
              "#ed7953"
             ],
             [
              0.7777777777777778,
              "#fb9f3a"
             ],
             [
              0.8888888888888888,
              "#fdca26"
             ],
             [
              1,
              "#f0f921"
             ]
            ],
            "type": "contour"
           }
          ],
          "contourcarpet": [
           {
            "colorbar": {
             "outlinewidth": 0,
             "ticks": ""
            },
            "type": "contourcarpet"
           }
          ],
          "heatmap": [
           {
            "colorbar": {
             "outlinewidth": 0,
             "ticks": ""
            },
            "colorscale": [
             [
              0,
              "#0d0887"
             ],
             [
              0.1111111111111111,
              "#46039f"
             ],
             [
              0.2222222222222222,
              "#7201a8"
             ],
             [
              0.3333333333333333,
              "#9c179e"
             ],
             [
              0.4444444444444444,
              "#bd3786"
             ],
             [
              0.5555555555555556,
              "#d8576b"
             ],
             [
              0.6666666666666666,
              "#ed7953"
             ],
             [
              0.7777777777777778,
              "#fb9f3a"
             ],
             [
              0.8888888888888888,
              "#fdca26"
             ],
             [
              1,
              "#f0f921"
             ]
            ],
            "type": "heatmap"
           }
          ],
          "heatmapgl": [
           {
            "colorbar": {
             "outlinewidth": 0,
             "ticks": ""
            },
            "colorscale": [
             [
              0,
              "#0d0887"
             ],
             [
              0.1111111111111111,
              "#46039f"
             ],
             [
              0.2222222222222222,
              "#7201a8"
             ],
             [
              0.3333333333333333,
              "#9c179e"
             ],
             [
              0.4444444444444444,
              "#bd3786"
             ],
             [
              0.5555555555555556,
              "#d8576b"
             ],
             [
              0.6666666666666666,
              "#ed7953"
             ],
             [
              0.7777777777777778,
              "#fb9f3a"
             ],
             [
              0.8888888888888888,
              "#fdca26"
             ],
             [
              1,
              "#f0f921"
             ]
            ],
            "type": "heatmapgl"
           }
          ],
          "histogram": [
           {
            "marker": {
             "pattern": {
              "fillmode": "overlay",
              "size": 10,
              "solidity": 0.2
             }
            },
            "type": "histogram"
           }
          ],
          "histogram2d": [
           {
            "colorbar": {
             "outlinewidth": 0,
             "ticks": ""
            },
            "colorscale": [
             [
              0,
              "#0d0887"
             ],
             [
              0.1111111111111111,
              "#46039f"
             ],
             [
              0.2222222222222222,
              "#7201a8"
             ],
             [
              0.3333333333333333,
              "#9c179e"
             ],
             [
              0.4444444444444444,
              "#bd3786"
             ],
             [
              0.5555555555555556,
              "#d8576b"
             ],
             [
              0.6666666666666666,
              "#ed7953"
             ],
             [
              0.7777777777777778,
              "#fb9f3a"
             ],
             [
              0.8888888888888888,
              "#fdca26"
             ],
             [
              1,
              "#f0f921"
             ]
            ],
            "type": "histogram2d"
           }
          ],
          "histogram2dcontour": [
           {
            "colorbar": {
             "outlinewidth": 0,
             "ticks": ""
            },
            "colorscale": [
             [
              0,
              "#0d0887"
             ],
             [
              0.1111111111111111,
              "#46039f"
             ],
             [
              0.2222222222222222,
              "#7201a8"
             ],
             [
              0.3333333333333333,
              "#9c179e"
             ],
             [
              0.4444444444444444,
              "#bd3786"
             ],
             [
              0.5555555555555556,
              "#d8576b"
             ],
             [
              0.6666666666666666,
              "#ed7953"
             ],
             [
              0.7777777777777778,
              "#fb9f3a"
             ],
             [
              0.8888888888888888,
              "#fdca26"
             ],
             [
              1,
              "#f0f921"
             ]
            ],
            "type": "histogram2dcontour"
           }
          ],
          "mesh3d": [
           {
            "colorbar": {
             "outlinewidth": 0,
             "ticks": ""
            },
            "type": "mesh3d"
           }
          ],
          "parcoords": [
           {
            "line": {
             "colorbar": {
              "outlinewidth": 0,
              "ticks": ""
             }
            },
            "type": "parcoords"
           }
          ],
          "pie": [
           {
            "automargin": true,
            "type": "pie"
           }
          ],
          "scatter": [
           {
            "marker": {
             "colorbar": {
              "outlinewidth": 0,
              "ticks": ""
             }
            },
            "type": "scatter"
           }
          ],
          "scatter3d": [
           {
            "line": {
             "colorbar": {
              "outlinewidth": 0,
              "ticks": ""
             }
            },
            "marker": {
             "colorbar": {
              "outlinewidth": 0,
              "ticks": ""
             }
            },
            "type": "scatter3d"
           }
          ],
          "scattercarpet": [
           {
            "marker": {
             "colorbar": {
              "outlinewidth": 0,
              "ticks": ""
             }
            },
            "type": "scattercarpet"
           }
          ],
          "scattergeo": [
           {
            "marker": {
             "colorbar": {
              "outlinewidth": 0,
              "ticks": ""
             }
            },
            "type": "scattergeo"
           }
          ],
          "scattergl": [
           {
            "marker": {
             "colorbar": {
              "outlinewidth": 0,
              "ticks": ""
             }
            },
            "type": "scattergl"
           }
          ],
          "scattermapbox": [
           {
            "marker": {
             "colorbar": {
              "outlinewidth": 0,
              "ticks": ""
             }
            },
            "type": "scattermapbox"
           }
          ],
          "scatterpolar": [
           {
            "marker": {
             "colorbar": {
              "outlinewidth": 0,
              "ticks": ""
             }
            },
            "type": "scatterpolar"
           }
          ],
          "scatterpolargl": [
           {
            "marker": {
             "colorbar": {
              "outlinewidth": 0,
              "ticks": ""
             }
            },
            "type": "scatterpolargl"
           }
          ],
          "scatterternary": [
           {
            "marker": {
             "colorbar": {
              "outlinewidth": 0,
              "ticks": ""
             }
            },
            "type": "scatterternary"
           }
          ],
          "surface": [
           {
            "colorbar": {
             "outlinewidth": 0,
             "ticks": ""
            },
            "colorscale": [
             [
              0,
              "#0d0887"
             ],
             [
              0.1111111111111111,
              "#46039f"
             ],
             [
              0.2222222222222222,
              "#7201a8"
             ],
             [
              0.3333333333333333,
              "#9c179e"
             ],
             [
              0.4444444444444444,
              "#bd3786"
             ],
             [
              0.5555555555555556,
              "#d8576b"
             ],
             [
              0.6666666666666666,
              "#ed7953"
             ],
             [
              0.7777777777777778,
              "#fb9f3a"
             ],
             [
              0.8888888888888888,
              "#fdca26"
             ],
             [
              1,
              "#f0f921"
             ]
            ],
            "type": "surface"
           }
          ],
          "table": [
           {
            "cells": {
             "fill": {
              "color": "#EBF0F8"
             },
             "line": {
              "color": "white"
             }
            },
            "header": {
             "fill": {
              "color": "#C8D4E3"
             },
             "line": {
              "color": "white"
             }
            },
            "type": "table"
           }
          ]
         },
         "layout": {
          "annotationdefaults": {
           "arrowcolor": "#2a3f5f",
           "arrowhead": 0,
           "arrowwidth": 1
          },
          "autotypenumbers": "strict",
          "coloraxis": {
           "colorbar": {
            "outlinewidth": 0,
            "ticks": ""
           }
          },
          "colorscale": {
           "diverging": [
            [
             0,
             "#8e0152"
            ],
            [
             0.1,
             "#c51b7d"
            ],
            [
             0.2,
             "#de77ae"
            ],
            [
             0.3,
             "#f1b6da"
            ],
            [
             0.4,
             "#fde0ef"
            ],
            [
             0.5,
             "#f7f7f7"
            ],
            [
             0.6,
             "#e6f5d0"
            ],
            [
             0.7,
             "#b8e186"
            ],
            [
             0.8,
             "#7fbc41"
            ],
            [
             0.9,
             "#4d9221"
            ],
            [
             1,
             "#276419"
            ]
           ],
           "sequential": [
            [
             0,
             "#0d0887"
            ],
            [
             0.1111111111111111,
             "#46039f"
            ],
            [
             0.2222222222222222,
             "#7201a8"
            ],
            [
             0.3333333333333333,
             "#9c179e"
            ],
            [
             0.4444444444444444,
             "#bd3786"
            ],
            [
             0.5555555555555556,
             "#d8576b"
            ],
            [
             0.6666666666666666,
             "#ed7953"
            ],
            [
             0.7777777777777778,
             "#fb9f3a"
            ],
            [
             0.8888888888888888,
             "#fdca26"
            ],
            [
             1,
             "#f0f921"
            ]
           ],
           "sequentialminus": [
            [
             0,
             "#0d0887"
            ],
            [
             0.1111111111111111,
             "#46039f"
            ],
            [
             0.2222222222222222,
             "#7201a8"
            ],
            [
             0.3333333333333333,
             "#9c179e"
            ],
            [
             0.4444444444444444,
             "#bd3786"
            ],
            [
             0.5555555555555556,
             "#d8576b"
            ],
            [
             0.6666666666666666,
             "#ed7953"
            ],
            [
             0.7777777777777778,
             "#fb9f3a"
            ],
            [
             0.8888888888888888,
             "#fdca26"
            ],
            [
             1,
             "#f0f921"
            ]
           ]
          },
          "colorway": [
           "#636efa",
           "#EF553B",
           "#00cc96",
           "#ab63fa",
           "#FFA15A",
           "#19d3f3",
           "#FF6692",
           "#B6E880",
           "#FF97FF",
           "#FECB52"
          ],
          "font": {
           "color": "#2a3f5f"
          },
          "geo": {
           "bgcolor": "white",
           "lakecolor": "white",
           "landcolor": "#E5ECF6",
           "showlakes": true,
           "showland": true,
           "subunitcolor": "white"
          },
          "hoverlabel": {
           "align": "left"
          },
          "hovermode": "closest",
          "mapbox": {
           "style": "light"
          },
          "paper_bgcolor": "white",
          "plot_bgcolor": "#E5ECF6",
          "polar": {
           "angularaxis": {
            "gridcolor": "white",
            "linecolor": "white",
            "ticks": ""
           },
           "bgcolor": "#E5ECF6",
           "radialaxis": {
            "gridcolor": "white",
            "linecolor": "white",
            "ticks": ""
           }
          },
          "scene": {
           "xaxis": {
            "backgroundcolor": "#E5ECF6",
            "gridcolor": "white",
            "gridwidth": 2,
            "linecolor": "white",
            "showbackground": true,
            "ticks": "",
            "zerolinecolor": "white"
           },
           "yaxis": {
            "backgroundcolor": "#E5ECF6",
            "gridcolor": "white",
            "gridwidth": 2,
            "linecolor": "white",
            "showbackground": true,
            "ticks": "",
            "zerolinecolor": "white"
           },
           "zaxis": {
            "backgroundcolor": "#E5ECF6",
            "gridcolor": "white",
            "gridwidth": 2,
            "linecolor": "white",
            "showbackground": true,
            "ticks": "",
            "zerolinecolor": "white"
           }
          },
          "shapedefaults": {
           "line": {
            "color": "#2a3f5f"
           }
          },
          "ternary": {
           "aaxis": {
            "gridcolor": "white",
            "linecolor": "white",
            "ticks": ""
           },
           "baxis": {
            "gridcolor": "white",
            "linecolor": "white",
            "ticks": ""
           },
           "bgcolor": "#E5ECF6",
           "caxis": {
            "gridcolor": "white",
            "linecolor": "white",
            "ticks": ""
           }
          },
          "title": {
           "x": 0.05
          },
          "xaxis": {
           "automargin": true,
           "gridcolor": "white",
           "linecolor": "white",
           "ticks": "",
           "title": {
            "standoff": 15
           },
           "zerolinecolor": "white",
           "zerolinewidth": 2
          },
          "yaxis": {
           "automargin": true,
           "gridcolor": "white",
           "linecolor": "white",
           "ticks": "",
           "title": {
            "standoff": 15
           },
           "zerolinecolor": "white",
           "zerolinewidth": 2
          }
         }
        },
        "title": {
         "text": "Average Overall benefit across Neighborhoods"
        }
       }
      },
      "text/html": [
       "<div>                            <div id=\"e759653e-129c-4f40-9af9-98980deacc07\" class=\"plotly-graph-div\" style=\"height:500px; width:100%;\"></div>            <script type=\"text/javascript\">                require([\"plotly\"], function(Plotly) {                    window.PLOTLYENV=window.PLOTLYENV || {};                                    if (document.getElementById(\"e759653e-129c-4f40-9af9-98980deacc07\")) {                    Plotly.newPlot(                        \"e759653e-129c-4f40-9af9-98980deacc07\",                        [{\"coloraxis\":\"coloraxis\",\"featureidkey\":\"properties.name\",\"geo\":\"geo\",\"geojson\":\"https://raw.githubusercontent.com/blackmad/neighborhoods/master/gn-pittsburgh.geojson\",\"hovertemplate\":\"neighborhood=%{location}<br>overall_benefits_dollar_value=%{z}<extra></extra>\",\"locations\":[\"Allegheny Center\",\"Allegheny West\",\"Allentown\",\"Arlington\",\"Arlington Heights\",\"Banksville\",\"Bedford Dwellings\",\"Beechview\",\"Beltzhoover\",\"Bloomfield\",\"Bluff\",\"Bon Air\",\"Brighton Heights\",\"Brookline\",\"California-Kirkbride\",\"Carrick\",\"Central Business District\",\"Central Lawrenceville\",\"Central Northside\",\"Central Oakland\",\"Chartiers City\",\"Chateau\",\"Crafton Heights\",\"Crawford-Roberts\",\"Duquesne Heights\",\"East Allegheny\",\"East Carnegie\",\"East Hills\",\"East Liberty\",\"Elliott\",\"Esplen\",\"Fairywood\",\"Fineview\",\"Friendship\",\"Garfield\",\"Glen Hazel\",\"Greenfield\",\"Hays\",\"Hazelwood\",\"Highland Park\",\"Homewood North\",\"Homewood South\",\"Homewood West\",\"Knoxville\",\"Larimer\",\"Lincoln Place\",\"Lincoln-Lemington-Belmar\",\"Lower Lawrenceville\",\"Manchester\",\"Marshall-Shadeland\",\"Middle Hill\",\"Morningside\",\"Mount Washington\",\"Mt. Oliver\",\"New Homestead\",\"North Oakland\",\"North Shore\",\"Northview Heights\",\"Oakwood\",\"Overbrook\",\"Perry North\",\"Perry South\",\"Point Breeze\",\"Point Breeze North\",\"Polish Hill\",\"Regent Square\",\"Ridgemont\",\"Shadyside\",\"Sheraden\",\"South Oakland\",\"South Shore\",\"South Side Flats\",\"South Side Slopes\",\"Spring Garden\",\"Spring Hill-City View\",\"Squirrel Hill North\",\"Squirrel Hill South\",\"St. Clair\",\"Stanton Heights\",\"Strip District\",\"Summer Hill\",\"Swisshelm Park\",\"Terrace Village\",\"Troy Hill\",\"Upper Hill\",\"Upper Lawrenceville\",\"West End\",\"West Oakland\",\"Westwood\",\"Windgap\"],\"name\":\"\",\"type\":\"choropleth\",\"z\":[1098.0661893005654,603.9470561842169,38.11588661167935,19.497032478505496,10.330601385331946,87.26197098791584,104.54532759735208,63.08002647894023,46.00470848189888,251.38286553784283,75.84640314270139,42.54819269473868,131.37953433756965,70.17826206112431,62.650004712362325,66.3637858990835,211.54642471857127,67.20651848525961,323.0918095422729,252.91749212718403,55.518544151945754,104.78891378531539,78.2784441651546,257.50319570171933,18.247439557371628,215.09864075716675,2.2262476547055545,171.98644567829774,274.50931822853136,45.473035314428124,1.4407409302748446,8.993014678018488,72.98770447392953,375.5495205367661,179.27098162605728,0.5356204254845719,136.7920043849027,0.1611737542075456,56.358221958377804,544.767046248344,118.7814124199926,132.2423644995284,59.499033874373445,262.5120979213261,99.67752979222008,49.14389488723728,405.02337410135516,146.25798095584503,329.389975502456,334.43943376850615,117.55885866689222,147.20416015355227,95.8728159170795,18.71365495181651,49.2698921143237,252.75872159424432,225.5077509256107,4.664218077088481,69.68083306443798,53.66951993070519,175.86408910105766,70.86427618388313,263.5201532243534,315.16432460732983,95.39873958241226,477.59697473930447,14.241247015754901,281.9351219384073,61.17079119750076,53.81367405106127,0.33492169799047,193.45633885526908,31.27284434074446,24.650674987216515,23.70858294584116,401.0491515295823,407.28561878194955,10.241384017086084,222.0399012457426,76.46867698778001,35.09574796512919,104.74859913132529,101.4785063436146,33.93597628258934,78.49451342809553,137.66507852534107,71.22071365118659,39.05928546985864,70.36640363137886,51.81775931735906]}],                        {\"coloraxis\":{\"colorbar\":{\"title\":{\"text\":\"overall_benefits_dollar_value\"}},\"colorscale\":[[0.0,\"rgb(247,252,245)\"],[0.125,\"rgb(229,245,224)\"],[0.25,\"rgb(199,233,192)\"],[0.375,\"rgb(161,217,155)\"],[0.5,\"rgb(116,196,118)\"],[0.625,\"rgb(65,171,93)\"],[0.75,\"rgb(35,139,69)\"],[0.875,\"rgb(0,109,44)\"],[1.0,\"rgb(0,68,27)\"]]},\"geo\":{\"center\":{},\"domain\":{\"x\":[0.0,1.0],\"y\":[0.0,1.0]},\"fitbounds\":\"locations\",\"visible\":false},\"height\":500,\"legend\":{\"tracegroupgap\":0},\"template\":{\"data\":{\"bar\":[{\"error_x\":{\"color\":\"#2a3f5f\"},\"error_y\":{\"color\":\"#2a3f5f\"},\"marker\":{\"line\":{\"color\":\"#E5ECF6\",\"width\":0.5},\"pattern\":{\"fillmode\":\"overlay\",\"size\":10,\"solidity\":0.2}},\"type\":\"bar\"}],\"barpolar\":[{\"marker\":{\"line\":{\"color\":\"#E5ECF6\",\"width\":0.5},\"pattern\":{\"fillmode\":\"overlay\",\"size\":10,\"solidity\":0.2}},\"type\":\"barpolar\"}],\"carpet\":[{\"aaxis\":{\"endlinecolor\":\"#2a3f5f\",\"gridcolor\":\"white\",\"linecolor\":\"white\",\"minorgridcolor\":\"white\",\"startlinecolor\":\"#2a3f5f\"},\"baxis\":{\"endlinecolor\":\"#2a3f5f\",\"gridcolor\":\"white\",\"linecolor\":\"white\",\"minorgridcolor\":\"white\",\"startlinecolor\":\"#2a3f5f\"},\"type\":\"carpet\"}],\"choropleth\":[{\"colorbar\":{\"outlinewidth\":0,\"ticks\":\"\"},\"type\":\"choropleth\"}],\"contour\":[{\"colorbar\":{\"outlinewidth\":0,\"ticks\":\"\"},\"colorscale\":[[0.0,\"#0d0887\"],[0.1111111111111111,\"#46039f\"],[0.2222222222222222,\"#7201a8\"],[0.3333333333333333,\"#9c179e\"],[0.4444444444444444,\"#bd3786\"],[0.5555555555555556,\"#d8576b\"],[0.6666666666666666,\"#ed7953\"],[0.7777777777777778,\"#fb9f3a\"],[0.8888888888888888,\"#fdca26\"],[1.0,\"#f0f921\"]],\"type\":\"contour\"}],\"contourcarpet\":[{\"colorbar\":{\"outlinewidth\":0,\"ticks\":\"\"},\"type\":\"contourcarpet\"}],\"heatmap\":[{\"colorbar\":{\"outlinewidth\":0,\"ticks\":\"\"},\"colorscale\":[[0.0,\"#0d0887\"],[0.1111111111111111,\"#46039f\"],[0.2222222222222222,\"#7201a8\"],[0.3333333333333333,\"#9c179e\"],[0.4444444444444444,\"#bd3786\"],[0.5555555555555556,\"#d8576b\"],[0.6666666666666666,\"#ed7953\"],[0.7777777777777778,\"#fb9f3a\"],[0.8888888888888888,\"#fdca26\"],[1.0,\"#f0f921\"]],\"type\":\"heatmap\"}],\"heatmapgl\":[{\"colorbar\":{\"outlinewidth\":0,\"ticks\":\"\"},\"colorscale\":[[0.0,\"#0d0887\"],[0.1111111111111111,\"#46039f\"],[0.2222222222222222,\"#7201a8\"],[0.3333333333333333,\"#9c179e\"],[0.4444444444444444,\"#bd3786\"],[0.5555555555555556,\"#d8576b\"],[0.6666666666666666,\"#ed7953\"],[0.7777777777777778,\"#fb9f3a\"],[0.8888888888888888,\"#fdca26\"],[1.0,\"#f0f921\"]],\"type\":\"heatmapgl\"}],\"histogram\":[{\"marker\":{\"pattern\":{\"fillmode\":\"overlay\",\"size\":10,\"solidity\":0.2}},\"type\":\"histogram\"}],\"histogram2d\":[{\"colorbar\":{\"outlinewidth\":0,\"ticks\":\"\"},\"colorscale\":[[0.0,\"#0d0887\"],[0.1111111111111111,\"#46039f\"],[0.2222222222222222,\"#7201a8\"],[0.3333333333333333,\"#9c179e\"],[0.4444444444444444,\"#bd3786\"],[0.5555555555555556,\"#d8576b\"],[0.6666666666666666,\"#ed7953\"],[0.7777777777777778,\"#fb9f3a\"],[0.8888888888888888,\"#fdca26\"],[1.0,\"#f0f921\"]],\"type\":\"histogram2d\"}],\"histogram2dcontour\":[{\"colorbar\":{\"outlinewidth\":0,\"ticks\":\"\"},\"colorscale\":[[0.0,\"#0d0887\"],[0.1111111111111111,\"#46039f\"],[0.2222222222222222,\"#7201a8\"],[0.3333333333333333,\"#9c179e\"],[0.4444444444444444,\"#bd3786\"],[0.5555555555555556,\"#d8576b\"],[0.6666666666666666,\"#ed7953\"],[0.7777777777777778,\"#fb9f3a\"],[0.8888888888888888,\"#fdca26\"],[1.0,\"#f0f921\"]],\"type\":\"histogram2dcontour\"}],\"mesh3d\":[{\"colorbar\":{\"outlinewidth\":0,\"ticks\":\"\"},\"type\":\"mesh3d\"}],\"parcoords\":[{\"line\":{\"colorbar\":{\"outlinewidth\":0,\"ticks\":\"\"}},\"type\":\"parcoords\"}],\"pie\":[{\"automargin\":true,\"type\":\"pie\"}],\"scatter\":[{\"marker\":{\"colorbar\":{\"outlinewidth\":0,\"ticks\":\"\"}},\"type\":\"scatter\"}],\"scatter3d\":[{\"line\":{\"colorbar\":{\"outlinewidth\":0,\"ticks\":\"\"}},\"marker\":{\"colorbar\":{\"outlinewidth\":0,\"ticks\":\"\"}},\"type\":\"scatter3d\"}],\"scattercarpet\":[{\"marker\":{\"colorbar\":{\"outlinewidth\":0,\"ticks\":\"\"}},\"type\":\"scattercarpet\"}],\"scattergeo\":[{\"marker\":{\"colorbar\":{\"outlinewidth\":0,\"ticks\":\"\"}},\"type\":\"scattergeo\"}],\"scattergl\":[{\"marker\":{\"colorbar\":{\"outlinewidth\":0,\"ticks\":\"\"}},\"type\":\"scattergl\"}],\"scattermapbox\":[{\"marker\":{\"colorbar\":{\"outlinewidth\":0,\"ticks\":\"\"}},\"type\":\"scattermapbox\"}],\"scatterpolar\":[{\"marker\":{\"colorbar\":{\"outlinewidth\":0,\"ticks\":\"\"}},\"type\":\"scatterpolar\"}],\"scatterpolargl\":[{\"marker\":{\"colorbar\":{\"outlinewidth\":0,\"ticks\":\"\"}},\"type\":\"scatterpolargl\"}],\"scatterternary\":[{\"marker\":{\"colorbar\":{\"outlinewidth\":0,\"ticks\":\"\"}},\"type\":\"scatterternary\"}],\"surface\":[{\"colorbar\":{\"outlinewidth\":0,\"ticks\":\"\"},\"colorscale\":[[0.0,\"#0d0887\"],[0.1111111111111111,\"#46039f\"],[0.2222222222222222,\"#7201a8\"],[0.3333333333333333,\"#9c179e\"],[0.4444444444444444,\"#bd3786\"],[0.5555555555555556,\"#d8576b\"],[0.6666666666666666,\"#ed7953\"],[0.7777777777777778,\"#fb9f3a\"],[0.8888888888888888,\"#fdca26\"],[1.0,\"#f0f921\"]],\"type\":\"surface\"}],\"table\":[{\"cells\":{\"fill\":{\"color\":\"#EBF0F8\"},\"line\":{\"color\":\"white\"}},\"header\":{\"fill\":{\"color\":\"#C8D4E3\"},\"line\":{\"color\":\"white\"}},\"type\":\"table\"}]},\"layout\":{\"annotationdefaults\":{\"arrowcolor\":\"#2a3f5f\",\"arrowhead\":0,\"arrowwidth\":1},\"autotypenumbers\":\"strict\",\"coloraxis\":{\"colorbar\":{\"outlinewidth\":0,\"ticks\":\"\"}},\"colorscale\":{\"diverging\":[[0,\"#8e0152\"],[0.1,\"#c51b7d\"],[0.2,\"#de77ae\"],[0.3,\"#f1b6da\"],[0.4,\"#fde0ef\"],[0.5,\"#f7f7f7\"],[0.6,\"#e6f5d0\"],[0.7,\"#b8e186\"],[0.8,\"#7fbc41\"],[0.9,\"#4d9221\"],[1,\"#276419\"]],\"sequential\":[[0.0,\"#0d0887\"],[0.1111111111111111,\"#46039f\"],[0.2222222222222222,\"#7201a8\"],[0.3333333333333333,\"#9c179e\"],[0.4444444444444444,\"#bd3786\"],[0.5555555555555556,\"#d8576b\"],[0.6666666666666666,\"#ed7953\"],[0.7777777777777778,\"#fb9f3a\"],[0.8888888888888888,\"#fdca26\"],[1.0,\"#f0f921\"]],\"sequentialminus\":[[0.0,\"#0d0887\"],[0.1111111111111111,\"#46039f\"],[0.2222222222222222,\"#7201a8\"],[0.3333333333333333,\"#9c179e\"],[0.4444444444444444,\"#bd3786\"],[0.5555555555555556,\"#d8576b\"],[0.6666666666666666,\"#ed7953\"],[0.7777777777777778,\"#fb9f3a\"],[0.8888888888888888,\"#fdca26\"],[1.0,\"#f0f921\"]]},\"colorway\":[\"#636efa\",\"#EF553B\",\"#00cc96\",\"#ab63fa\",\"#FFA15A\",\"#19d3f3\",\"#FF6692\",\"#B6E880\",\"#FF97FF\",\"#FECB52\"],\"font\":{\"color\":\"#2a3f5f\"},\"geo\":{\"bgcolor\":\"white\",\"lakecolor\":\"white\",\"landcolor\":\"#E5ECF6\",\"showlakes\":true,\"showland\":true,\"subunitcolor\":\"white\"},\"hoverlabel\":{\"align\":\"left\"},\"hovermode\":\"closest\",\"mapbox\":{\"style\":\"light\"},\"paper_bgcolor\":\"white\",\"plot_bgcolor\":\"#E5ECF6\",\"polar\":{\"angularaxis\":{\"gridcolor\":\"white\",\"linecolor\":\"white\",\"ticks\":\"\"},\"bgcolor\":\"#E5ECF6\",\"radialaxis\":{\"gridcolor\":\"white\",\"linecolor\":\"white\",\"ticks\":\"\"}},\"scene\":{\"xaxis\":{\"backgroundcolor\":\"#E5ECF6\",\"gridcolor\":\"white\",\"gridwidth\":2,\"linecolor\":\"white\",\"showbackground\":true,\"ticks\":\"\",\"zerolinecolor\":\"white\"},\"yaxis\":{\"backgroundcolor\":\"#E5ECF6\",\"gridcolor\":\"white\",\"gridwidth\":2,\"linecolor\":\"white\",\"showbackground\":true,\"ticks\":\"\",\"zerolinecolor\":\"white\"},\"zaxis\":{\"backgroundcolor\":\"#E5ECF6\",\"gridcolor\":\"white\",\"gridwidth\":2,\"linecolor\":\"white\",\"showbackground\":true,\"ticks\":\"\",\"zerolinecolor\":\"white\"}},\"shapedefaults\":{\"line\":{\"color\":\"#2a3f5f\"}},\"ternary\":{\"aaxis\":{\"gridcolor\":\"white\",\"linecolor\":\"white\",\"ticks\":\"\"},\"baxis\":{\"gridcolor\":\"white\",\"linecolor\":\"white\",\"ticks\":\"\"},\"bgcolor\":\"#E5ECF6\",\"caxis\":{\"gridcolor\":\"white\",\"linecolor\":\"white\",\"ticks\":\"\"}},\"title\":{\"x\":0.05},\"xaxis\":{\"automargin\":true,\"gridcolor\":\"white\",\"linecolor\":\"white\",\"ticks\":\"\",\"title\":{\"standoff\":15},\"zerolinecolor\":\"white\",\"zerolinewidth\":2},\"yaxis\":{\"automargin\":true,\"gridcolor\":\"white\",\"linecolor\":\"white\",\"ticks\":\"\",\"title\":{\"standoff\":15},\"zerolinecolor\":\"white\",\"zerolinewidth\":2}}},\"title\":{\"text\":\"Average Overall benefit across Neighborhoods\"}},                        {\"responsive\": true}                    ).then(function(){\n",
       "                            \n",
       "var gd = document.getElementById('e759653e-129c-4f40-9af9-98980deacc07');\n",
       "var x = new MutationObserver(function (mutations, observer) {{\n",
       "        var display = window.getComputedStyle(gd).display;\n",
       "        if (!display || display === 'none') {{\n",
       "            console.log([gd, 'removed!']);\n",
       "            Plotly.purge(gd);\n",
       "            observer.disconnect();\n",
       "        }}\n",
       "}});\n",
       "\n",
       "// Listen for the removal of the full notebook cells\n",
       "var notebookContainer = gd.closest('#notebook-container');\n",
       "if (notebookContainer) {{\n",
       "    x.observe(notebookContainer, {childList: true});\n",
       "}}\n",
       "\n",
       "// Listen for the clearing of the current output cell\n",
       "var outputEl = gd.closest('.output');\n",
       "if (outputEl) {{\n",
       "    x.observe(outputEl, {childList: true});\n",
       "}}\n",
       "\n",
       "                        })                };                });            </script>        </div>"
      ]
     },
     "metadata": {},
     "output_type": "display_data"
    }
   ],
   "source": [
    "fig=px.choropleth(overall_benefit_map,\n",
    "             geojson=\"https://raw.githubusercontent.com/blackmad/neighborhoods/master/gn-pittsburgh.geojson\",\n",
    "             featureidkey='properties.name',   \n",
    "             locations='neighborhood',        #column in dataframe\n",
    "             color='overall_benefits_dollar_value',\n",
    "              color_continuous_scale='greens',\n",
    "               title='Average Overall benefit across Neighborhoods' ,  \n",
    "               height=500\n",
    "              )\n",
    "fig.update_geos(fitbounds=\"locations\", visible=False)\n",
    "fig.show()"
   ]
  },
  {
   "cell_type": "markdown",
   "id": "7362673c",
   "metadata": {},
   "source": [
    "**Top 5 neighborhoods with highest overall benefits**"
   ]
  },
  {
   "cell_type": "code",
   "execution_count": 766,
   "id": "fdecdd6f",
   "metadata": {},
   "outputs": [
    {
     "data": {
      "text/html": [
       "<div>\n",
       "<style scoped>\n",
       "    .dataframe tbody tr th:only-of-type {\n",
       "        vertical-align: middle;\n",
       "    }\n",
       "\n",
       "    .dataframe tbody tr th {\n",
       "        vertical-align: top;\n",
       "    }\n",
       "\n",
       "    .dataframe thead th {\n",
       "        text-align: right;\n",
       "    }\n",
       "</style>\n",
       "<table border=\"1\" class=\"dataframe\">\n",
       "  <thead>\n",
       "    <tr style=\"text-align: right;\">\n",
       "      <th></th>\n",
       "      <th>neighborhood</th>\n",
       "      <th>overall_benefits_dollar_value</th>\n",
       "    </tr>\n",
       "  </thead>\n",
       "  <tbody>\n",
       "    <tr>\n",
       "      <th>0</th>\n",
       "      <td>Allegheny Center</td>\n",
       "      <td>1098.066189</td>\n",
       "    </tr>\n",
       "    <tr>\n",
       "      <th>1</th>\n",
       "      <td>Allegheny West</td>\n",
       "      <td>603.947056</td>\n",
       "    </tr>\n",
       "    <tr>\n",
       "      <th>39</th>\n",
       "      <td>Highland Park</td>\n",
       "      <td>544.767046</td>\n",
       "    </tr>\n",
       "    <tr>\n",
       "      <th>65</th>\n",
       "      <td>Regent Square</td>\n",
       "      <td>477.596975</td>\n",
       "    </tr>\n",
       "    <tr>\n",
       "      <th>76</th>\n",
       "      <td>Squirrel Hill South</td>\n",
       "      <td>407.285619</td>\n",
       "    </tr>\n",
       "  </tbody>\n",
       "</table>\n",
       "</div>"
      ],
      "text/plain": [
       "           neighborhood  overall_benefits_dollar_value\n",
       "0      Allegheny Center                    1098.066189\n",
       "1        Allegheny West                     603.947056\n",
       "39        Highland Park                     544.767046\n",
       "65        Regent Square                     477.596975\n",
       "76  Squirrel Hill South                     407.285619"
      ]
     },
     "execution_count": 766,
     "metadata": {},
     "output_type": "execute_result"
    }
   ],
   "source": [
    "overall_benefit_map.sort_values('overall_benefits_dollar_value', ascending=False).head(5)"
   ]
  },
  {
   "cell_type": "markdown",
   "id": "d6d56b99",
   "metadata": {},
   "source": [
    "**Inference:\n",
    "3 of the top 5 neighborhoods with the highest overall benefits are also in the top 5 neighborhoods with highest tree density. This exhibhits a clear positive correlation between the two**"
   ]
  },
  {
   "cell_type": "markdown",
   "id": "26bee5de",
   "metadata": {},
   "source": [
    "# Plot neighborhood level tree Stormwater benefits data"
   ]
  },
  {
   "cell_type": "code",
   "execution_count": 767,
   "id": "aae6cf35",
   "metadata": {},
   "outputs": [],
   "source": [
    "stormwater_benefit_map = combined_data[['neighborhood', 'stormwater_benefits_dollar_value']].copy()"
   ]
  },
  {
   "cell_type": "code",
   "execution_count": 768,
   "id": "8f1cd288",
   "metadata": {},
   "outputs": [
    {
     "data": {
      "application/vnd.plotly.v1+json": {
       "config": {
        "plotlyServerURL": "https://plot.ly"
       },
       "data": [
        {
         "coloraxis": "coloraxis",
         "featureidkey": "properties.name",
         "geo": "geo",
         "geojson": "https://raw.githubusercontent.com/blackmad/neighborhoods/master/gn-pittsburgh.geojson",
         "hovertemplate": "neighborhood=%{location}<br>stormwater_benefits_dollar_value=%{z}<extra></extra>",
         "locations": [
          "Allegheny Center",
          "Allegheny West",
          "Allentown",
          "Arlington",
          "Arlington Heights",
          "Banksville",
          "Bedford Dwellings",
          "Beechview",
          "Beltzhoover",
          "Bloomfield",
          "Bluff",
          "Bon Air",
          "Brighton Heights",
          "Brookline",
          "California-Kirkbride",
          "Carrick",
          "Central Business District",
          "Central Lawrenceville",
          "Central Northside",
          "Central Oakland",
          "Chartiers City",
          "Chateau",
          "Crafton Heights",
          "Crawford-Roberts",
          "Duquesne Heights",
          "East Allegheny",
          "East Carnegie",
          "East Hills",
          "East Liberty",
          "Elliott",
          "Esplen",
          "Fairywood",
          "Fineview",
          "Friendship",
          "Garfield",
          "Glen Hazel",
          "Greenfield",
          "Hays",
          "Hazelwood",
          "Highland Park",
          "Homewood North",
          "Homewood South",
          "Homewood West",
          "Knoxville",
          "Larimer",
          "Lincoln Place",
          "Lincoln-Lemington-Belmar",
          "Lower Lawrenceville",
          "Manchester",
          "Marshall-Shadeland",
          "Middle Hill",
          "Morningside",
          "Mount Washington",
          "Mt. Oliver",
          "New Homestead",
          "North Oakland",
          "North Shore",
          "Northview Heights",
          "Oakwood",
          "Overbrook",
          "Perry North",
          "Perry South",
          "Point Breeze",
          "Point Breeze North",
          "Polish Hill",
          "Regent Square",
          "Ridgemont",
          "Shadyside",
          "Sheraden",
          "South Oakland",
          "South Shore",
          "South Side Flats",
          "South Side Slopes",
          "Spring Garden",
          "Spring Hill-City View",
          "Squirrel Hill North",
          "Squirrel Hill South",
          "St. Clair",
          "Stanton Heights",
          "Strip District",
          "Summer Hill",
          "Swisshelm Park",
          "Terrace Village",
          "Troy Hill",
          "Upper Hill",
          "Upper Lawrenceville",
          "West End",
          "West Oakland",
          "Westwood",
          "Windgap"
         ],
         "name": "",
         "type": "choropleth",
         "z": [
          112.6813199579172,
          59.06075358394866,
          2.777930098961094,
          1.2928285957248236,
          0.9359755914566391,
          8.24313971727448,
          7.52607949134096,
          5.584968370236785,
          3.328893149969976,
          16.687390752216686,
          3.3472239145594562,
          3.641727541145707,
          10.791645327120321,
          6.027410806865334,
          4.213491426092896,
          5.591840154850221,
          8.724374277947962,
          3.2042934139328247,
          18.104550612834938,
          20.714067930194435,
          6.324360696531653,
          4.500818614894988,
          6.541727927039732,
          15.598949828919968,
          1.3379957964146532,
          12.594165240791156,
          0.1648467974630706,
          14.465345108140646,
          16.978245382137537,
          3.9662488413694112,
          0.10026923279890955,
          0.8332142310698424,
          5.132235283337104,
          26.91678720520651,
          11.946002994827198,
          0.02058399139438671,
          11.550120300435358,
          0.004983212358935492,
          4.106016198219323,
          52.14821683624681,
          8.777714411570498,
          10.022004046908776,
          4.109515488562482,
          23.5541457415246,
          7.401476130099385,
          4.494514713018351,
          32.864651162496955,
          7.948693097557035,
          20.151249650313503,
          26.939549731230997,
          6.298508784685209,
          11.289822090070466,
          7.790997121610252,
          1.3674854566932926,
          4.91972144116002,
          20.431456739927395,
          9.554516757670942,
          0.29438364459594757,
          6.0436137002520764,
          4.545481043827743,
          15.501640037587961,
          5.7665169758002515,
          26.03418631819882,
          27.547920529534323,
          5.624965252578951,
          45.628699089256514,
          1.1665049540939343,
          22.560199392966815,
          5.2447149446919745,
          3.4698952575976674,
          0.01629699960815266,
          10.100083219361272,
          2.2669337135540433,
          1.2582641557410112,
          1.546660119047151,
          42.47138275063659,
          38.09941938160015,
          0.7151508521549039,
          21.060468874471557,
          3.230034534293992,
          2.6881184219460335,
          11.251118609652274,
          4.771034934769817,
          1.2590915658748607,
          6.114436485860204,
          8.4176849886696,
          4.083605890925609,
          1.7021914117873627,
          6.871909202619073,
          4.556557680479005
         ]
        }
       ],
       "layout": {
        "coloraxis": {
         "colorbar": {
          "title": {
           "text": "stormwater_benefits_dollar_value"
          }
         },
         "colorscale": [
          [
           0,
           "rgb(247,252,245)"
          ],
          [
           0.125,
           "rgb(229,245,224)"
          ],
          [
           0.25,
           "rgb(199,233,192)"
          ],
          [
           0.375,
           "rgb(161,217,155)"
          ],
          [
           0.5,
           "rgb(116,196,118)"
          ],
          [
           0.625,
           "rgb(65,171,93)"
          ],
          [
           0.75,
           "rgb(35,139,69)"
          ],
          [
           0.875,
           "rgb(0,109,44)"
          ],
          [
           1,
           "rgb(0,68,27)"
          ]
         ]
        },
        "geo": {
         "center": {},
         "domain": {
          "x": [
           0,
           1
          ],
          "y": [
           0,
           1
          ]
         },
         "fitbounds": "locations",
         "visible": false
        },
        "height": 500,
        "legend": {
         "tracegroupgap": 0
        },
        "template": {
         "data": {
          "bar": [
           {
            "error_x": {
             "color": "#2a3f5f"
            },
            "error_y": {
             "color": "#2a3f5f"
            },
            "marker": {
             "line": {
              "color": "#E5ECF6",
              "width": 0.5
             },
             "pattern": {
              "fillmode": "overlay",
              "size": 10,
              "solidity": 0.2
             }
            },
            "type": "bar"
           }
          ],
          "barpolar": [
           {
            "marker": {
             "line": {
              "color": "#E5ECF6",
              "width": 0.5
             },
             "pattern": {
              "fillmode": "overlay",
              "size": 10,
              "solidity": 0.2
             }
            },
            "type": "barpolar"
           }
          ],
          "carpet": [
           {
            "aaxis": {
             "endlinecolor": "#2a3f5f",
             "gridcolor": "white",
             "linecolor": "white",
             "minorgridcolor": "white",
             "startlinecolor": "#2a3f5f"
            },
            "baxis": {
             "endlinecolor": "#2a3f5f",
             "gridcolor": "white",
             "linecolor": "white",
             "minorgridcolor": "white",
             "startlinecolor": "#2a3f5f"
            },
            "type": "carpet"
           }
          ],
          "choropleth": [
           {
            "colorbar": {
             "outlinewidth": 0,
             "ticks": ""
            },
            "type": "choropleth"
           }
          ],
          "contour": [
           {
            "colorbar": {
             "outlinewidth": 0,
             "ticks": ""
            },
            "colorscale": [
             [
              0,
              "#0d0887"
             ],
             [
              0.1111111111111111,
              "#46039f"
             ],
             [
              0.2222222222222222,
              "#7201a8"
             ],
             [
              0.3333333333333333,
              "#9c179e"
             ],
             [
              0.4444444444444444,
              "#bd3786"
             ],
             [
              0.5555555555555556,
              "#d8576b"
             ],
             [
              0.6666666666666666,
              "#ed7953"
             ],
             [
              0.7777777777777778,
              "#fb9f3a"
             ],
             [
              0.8888888888888888,
              "#fdca26"
             ],
             [
              1,
              "#f0f921"
             ]
            ],
            "type": "contour"
           }
          ],
          "contourcarpet": [
           {
            "colorbar": {
             "outlinewidth": 0,
             "ticks": ""
            },
            "type": "contourcarpet"
           }
          ],
          "heatmap": [
           {
            "colorbar": {
             "outlinewidth": 0,
             "ticks": ""
            },
            "colorscale": [
             [
              0,
              "#0d0887"
             ],
             [
              0.1111111111111111,
              "#46039f"
             ],
             [
              0.2222222222222222,
              "#7201a8"
             ],
             [
              0.3333333333333333,
              "#9c179e"
             ],
             [
              0.4444444444444444,
              "#bd3786"
             ],
             [
              0.5555555555555556,
              "#d8576b"
             ],
             [
              0.6666666666666666,
              "#ed7953"
             ],
             [
              0.7777777777777778,
              "#fb9f3a"
             ],
             [
              0.8888888888888888,
              "#fdca26"
             ],
             [
              1,
              "#f0f921"
             ]
            ],
            "type": "heatmap"
           }
          ],
          "heatmapgl": [
           {
            "colorbar": {
             "outlinewidth": 0,
             "ticks": ""
            },
            "colorscale": [
             [
              0,
              "#0d0887"
             ],
             [
              0.1111111111111111,
              "#46039f"
             ],
             [
              0.2222222222222222,
              "#7201a8"
             ],
             [
              0.3333333333333333,
              "#9c179e"
             ],
             [
              0.4444444444444444,
              "#bd3786"
             ],
             [
              0.5555555555555556,
              "#d8576b"
             ],
             [
              0.6666666666666666,
              "#ed7953"
             ],
             [
              0.7777777777777778,
              "#fb9f3a"
             ],
             [
              0.8888888888888888,
              "#fdca26"
             ],
             [
              1,
              "#f0f921"
             ]
            ],
            "type": "heatmapgl"
           }
          ],
          "histogram": [
           {
            "marker": {
             "pattern": {
              "fillmode": "overlay",
              "size": 10,
              "solidity": 0.2
             }
            },
            "type": "histogram"
           }
          ],
          "histogram2d": [
           {
            "colorbar": {
             "outlinewidth": 0,
             "ticks": ""
            },
            "colorscale": [
             [
              0,
              "#0d0887"
             ],
             [
              0.1111111111111111,
              "#46039f"
             ],
             [
              0.2222222222222222,
              "#7201a8"
             ],
             [
              0.3333333333333333,
              "#9c179e"
             ],
             [
              0.4444444444444444,
              "#bd3786"
             ],
             [
              0.5555555555555556,
              "#d8576b"
             ],
             [
              0.6666666666666666,
              "#ed7953"
             ],
             [
              0.7777777777777778,
              "#fb9f3a"
             ],
             [
              0.8888888888888888,
              "#fdca26"
             ],
             [
              1,
              "#f0f921"
             ]
            ],
            "type": "histogram2d"
           }
          ],
          "histogram2dcontour": [
           {
            "colorbar": {
             "outlinewidth": 0,
             "ticks": ""
            },
            "colorscale": [
             [
              0,
              "#0d0887"
             ],
             [
              0.1111111111111111,
              "#46039f"
             ],
             [
              0.2222222222222222,
              "#7201a8"
             ],
             [
              0.3333333333333333,
              "#9c179e"
             ],
             [
              0.4444444444444444,
              "#bd3786"
             ],
             [
              0.5555555555555556,
              "#d8576b"
             ],
             [
              0.6666666666666666,
              "#ed7953"
             ],
             [
              0.7777777777777778,
              "#fb9f3a"
             ],
             [
              0.8888888888888888,
              "#fdca26"
             ],
             [
              1,
              "#f0f921"
             ]
            ],
            "type": "histogram2dcontour"
           }
          ],
          "mesh3d": [
           {
            "colorbar": {
             "outlinewidth": 0,
             "ticks": ""
            },
            "type": "mesh3d"
           }
          ],
          "parcoords": [
           {
            "line": {
             "colorbar": {
              "outlinewidth": 0,
              "ticks": ""
             }
            },
            "type": "parcoords"
           }
          ],
          "pie": [
           {
            "automargin": true,
            "type": "pie"
           }
          ],
          "scatter": [
           {
            "marker": {
             "colorbar": {
              "outlinewidth": 0,
              "ticks": ""
             }
            },
            "type": "scatter"
           }
          ],
          "scatter3d": [
           {
            "line": {
             "colorbar": {
              "outlinewidth": 0,
              "ticks": ""
             }
            },
            "marker": {
             "colorbar": {
              "outlinewidth": 0,
              "ticks": ""
             }
            },
            "type": "scatter3d"
           }
          ],
          "scattercarpet": [
           {
            "marker": {
             "colorbar": {
              "outlinewidth": 0,
              "ticks": ""
             }
            },
            "type": "scattercarpet"
           }
          ],
          "scattergeo": [
           {
            "marker": {
             "colorbar": {
              "outlinewidth": 0,
              "ticks": ""
             }
            },
            "type": "scattergeo"
           }
          ],
          "scattergl": [
           {
            "marker": {
             "colorbar": {
              "outlinewidth": 0,
              "ticks": ""
             }
            },
            "type": "scattergl"
           }
          ],
          "scattermapbox": [
           {
            "marker": {
             "colorbar": {
              "outlinewidth": 0,
              "ticks": ""
             }
            },
            "type": "scattermapbox"
           }
          ],
          "scatterpolar": [
           {
            "marker": {
             "colorbar": {
              "outlinewidth": 0,
              "ticks": ""
             }
            },
            "type": "scatterpolar"
           }
          ],
          "scatterpolargl": [
           {
            "marker": {
             "colorbar": {
              "outlinewidth": 0,
              "ticks": ""
             }
            },
            "type": "scatterpolargl"
           }
          ],
          "scatterternary": [
           {
            "marker": {
             "colorbar": {
              "outlinewidth": 0,
              "ticks": ""
             }
            },
            "type": "scatterternary"
           }
          ],
          "surface": [
           {
            "colorbar": {
             "outlinewidth": 0,
             "ticks": ""
            },
            "colorscale": [
             [
              0,
              "#0d0887"
             ],
             [
              0.1111111111111111,
              "#46039f"
             ],
             [
              0.2222222222222222,
              "#7201a8"
             ],
             [
              0.3333333333333333,
              "#9c179e"
             ],
             [
              0.4444444444444444,
              "#bd3786"
             ],
             [
              0.5555555555555556,
              "#d8576b"
             ],
             [
              0.6666666666666666,
              "#ed7953"
             ],
             [
              0.7777777777777778,
              "#fb9f3a"
             ],
             [
              0.8888888888888888,
              "#fdca26"
             ],
             [
              1,
              "#f0f921"
             ]
            ],
            "type": "surface"
           }
          ],
          "table": [
           {
            "cells": {
             "fill": {
              "color": "#EBF0F8"
             },
             "line": {
              "color": "white"
             }
            },
            "header": {
             "fill": {
              "color": "#C8D4E3"
             },
             "line": {
              "color": "white"
             }
            },
            "type": "table"
           }
          ]
         },
         "layout": {
          "annotationdefaults": {
           "arrowcolor": "#2a3f5f",
           "arrowhead": 0,
           "arrowwidth": 1
          },
          "autotypenumbers": "strict",
          "coloraxis": {
           "colorbar": {
            "outlinewidth": 0,
            "ticks": ""
           }
          },
          "colorscale": {
           "diverging": [
            [
             0,
             "#8e0152"
            ],
            [
             0.1,
             "#c51b7d"
            ],
            [
             0.2,
             "#de77ae"
            ],
            [
             0.3,
             "#f1b6da"
            ],
            [
             0.4,
             "#fde0ef"
            ],
            [
             0.5,
             "#f7f7f7"
            ],
            [
             0.6,
             "#e6f5d0"
            ],
            [
             0.7,
             "#b8e186"
            ],
            [
             0.8,
             "#7fbc41"
            ],
            [
             0.9,
             "#4d9221"
            ],
            [
             1,
             "#276419"
            ]
           ],
           "sequential": [
            [
             0,
             "#0d0887"
            ],
            [
             0.1111111111111111,
             "#46039f"
            ],
            [
             0.2222222222222222,
             "#7201a8"
            ],
            [
             0.3333333333333333,
             "#9c179e"
            ],
            [
             0.4444444444444444,
             "#bd3786"
            ],
            [
             0.5555555555555556,
             "#d8576b"
            ],
            [
             0.6666666666666666,
             "#ed7953"
            ],
            [
             0.7777777777777778,
             "#fb9f3a"
            ],
            [
             0.8888888888888888,
             "#fdca26"
            ],
            [
             1,
             "#f0f921"
            ]
           ],
           "sequentialminus": [
            [
             0,
             "#0d0887"
            ],
            [
             0.1111111111111111,
             "#46039f"
            ],
            [
             0.2222222222222222,
             "#7201a8"
            ],
            [
             0.3333333333333333,
             "#9c179e"
            ],
            [
             0.4444444444444444,
             "#bd3786"
            ],
            [
             0.5555555555555556,
             "#d8576b"
            ],
            [
             0.6666666666666666,
             "#ed7953"
            ],
            [
             0.7777777777777778,
             "#fb9f3a"
            ],
            [
             0.8888888888888888,
             "#fdca26"
            ],
            [
             1,
             "#f0f921"
            ]
           ]
          },
          "colorway": [
           "#636efa",
           "#EF553B",
           "#00cc96",
           "#ab63fa",
           "#FFA15A",
           "#19d3f3",
           "#FF6692",
           "#B6E880",
           "#FF97FF",
           "#FECB52"
          ],
          "font": {
           "color": "#2a3f5f"
          },
          "geo": {
           "bgcolor": "white",
           "lakecolor": "white",
           "landcolor": "#E5ECF6",
           "showlakes": true,
           "showland": true,
           "subunitcolor": "white"
          },
          "hoverlabel": {
           "align": "left"
          },
          "hovermode": "closest",
          "mapbox": {
           "style": "light"
          },
          "paper_bgcolor": "white",
          "plot_bgcolor": "#E5ECF6",
          "polar": {
           "angularaxis": {
            "gridcolor": "white",
            "linecolor": "white",
            "ticks": ""
           },
           "bgcolor": "#E5ECF6",
           "radialaxis": {
            "gridcolor": "white",
            "linecolor": "white",
            "ticks": ""
           }
          },
          "scene": {
           "xaxis": {
            "backgroundcolor": "#E5ECF6",
            "gridcolor": "white",
            "gridwidth": 2,
            "linecolor": "white",
            "showbackground": true,
            "ticks": "",
            "zerolinecolor": "white"
           },
           "yaxis": {
            "backgroundcolor": "#E5ECF6",
            "gridcolor": "white",
            "gridwidth": 2,
            "linecolor": "white",
            "showbackground": true,
            "ticks": "",
            "zerolinecolor": "white"
           },
           "zaxis": {
            "backgroundcolor": "#E5ECF6",
            "gridcolor": "white",
            "gridwidth": 2,
            "linecolor": "white",
            "showbackground": true,
            "ticks": "",
            "zerolinecolor": "white"
           }
          },
          "shapedefaults": {
           "line": {
            "color": "#2a3f5f"
           }
          },
          "ternary": {
           "aaxis": {
            "gridcolor": "white",
            "linecolor": "white",
            "ticks": ""
           },
           "baxis": {
            "gridcolor": "white",
            "linecolor": "white",
            "ticks": ""
           },
           "bgcolor": "#E5ECF6",
           "caxis": {
            "gridcolor": "white",
            "linecolor": "white",
            "ticks": ""
           }
          },
          "title": {
           "x": 0.05
          },
          "xaxis": {
           "automargin": true,
           "gridcolor": "white",
           "linecolor": "white",
           "ticks": "",
           "title": {
            "standoff": 15
           },
           "zerolinecolor": "white",
           "zerolinewidth": 2
          },
          "yaxis": {
           "automargin": true,
           "gridcolor": "white",
           "linecolor": "white",
           "ticks": "",
           "title": {
            "standoff": 15
           },
           "zerolinecolor": "white",
           "zerolinewidth": 2
          }
         }
        },
        "title": {
         "text": "Average Stormwater benefit across Neighborhoods"
        }
       }
      },
      "text/html": [
       "<div>                            <div id=\"4dd8d353-4ed3-4c07-9fb3-8249d0454093\" class=\"plotly-graph-div\" style=\"height:500px; width:100%;\"></div>            <script type=\"text/javascript\">                require([\"plotly\"], function(Plotly) {                    window.PLOTLYENV=window.PLOTLYENV || {};                                    if (document.getElementById(\"4dd8d353-4ed3-4c07-9fb3-8249d0454093\")) {                    Plotly.newPlot(                        \"4dd8d353-4ed3-4c07-9fb3-8249d0454093\",                        [{\"coloraxis\":\"coloraxis\",\"featureidkey\":\"properties.name\",\"geo\":\"geo\",\"geojson\":\"https://raw.githubusercontent.com/blackmad/neighborhoods/master/gn-pittsburgh.geojson\",\"hovertemplate\":\"neighborhood=%{location}<br>stormwater_benefits_dollar_value=%{z}<extra></extra>\",\"locations\":[\"Allegheny Center\",\"Allegheny West\",\"Allentown\",\"Arlington\",\"Arlington Heights\",\"Banksville\",\"Bedford Dwellings\",\"Beechview\",\"Beltzhoover\",\"Bloomfield\",\"Bluff\",\"Bon Air\",\"Brighton Heights\",\"Brookline\",\"California-Kirkbride\",\"Carrick\",\"Central Business District\",\"Central Lawrenceville\",\"Central Northside\",\"Central Oakland\",\"Chartiers City\",\"Chateau\",\"Crafton Heights\",\"Crawford-Roberts\",\"Duquesne Heights\",\"East Allegheny\",\"East Carnegie\",\"East Hills\",\"East Liberty\",\"Elliott\",\"Esplen\",\"Fairywood\",\"Fineview\",\"Friendship\",\"Garfield\",\"Glen Hazel\",\"Greenfield\",\"Hays\",\"Hazelwood\",\"Highland Park\",\"Homewood North\",\"Homewood South\",\"Homewood West\",\"Knoxville\",\"Larimer\",\"Lincoln Place\",\"Lincoln-Lemington-Belmar\",\"Lower Lawrenceville\",\"Manchester\",\"Marshall-Shadeland\",\"Middle Hill\",\"Morningside\",\"Mount Washington\",\"Mt. Oliver\",\"New Homestead\",\"North Oakland\",\"North Shore\",\"Northview Heights\",\"Oakwood\",\"Overbrook\",\"Perry North\",\"Perry South\",\"Point Breeze\",\"Point Breeze North\",\"Polish Hill\",\"Regent Square\",\"Ridgemont\",\"Shadyside\",\"Sheraden\",\"South Oakland\",\"South Shore\",\"South Side Flats\",\"South Side Slopes\",\"Spring Garden\",\"Spring Hill-City View\",\"Squirrel Hill North\",\"Squirrel Hill South\",\"St. Clair\",\"Stanton Heights\",\"Strip District\",\"Summer Hill\",\"Swisshelm Park\",\"Terrace Village\",\"Troy Hill\",\"Upper Hill\",\"Upper Lawrenceville\",\"West End\",\"West Oakland\",\"Westwood\",\"Windgap\"],\"name\":\"\",\"type\":\"choropleth\",\"z\":[112.6813199579172,59.06075358394866,2.777930098961094,1.2928285957248236,0.9359755914566391,8.24313971727448,7.52607949134096,5.584968370236785,3.328893149969976,16.687390752216686,3.3472239145594562,3.641727541145707,10.791645327120321,6.027410806865334,4.213491426092896,5.591840154850221,8.724374277947962,3.2042934139328247,18.104550612834938,20.714067930194435,6.324360696531653,4.500818614894988,6.541727927039732,15.598949828919968,1.3379957964146532,12.594165240791156,0.1648467974630706,14.465345108140646,16.978245382137537,3.9662488413694112,0.10026923279890955,0.8332142310698424,5.132235283337104,26.91678720520651,11.946002994827198,0.02058399139438671,11.550120300435358,0.004983212358935492,4.106016198219323,52.14821683624681,8.777714411570498,10.022004046908776,4.109515488562482,23.5541457415246,7.401476130099385,4.494514713018351,32.864651162496955,7.948693097557035,20.151249650313503,26.939549731230997,6.298508784685209,11.289822090070466,7.790997121610252,1.3674854566932926,4.91972144116002,20.431456739927395,9.554516757670942,0.29438364459594757,6.0436137002520764,4.545481043827743,15.501640037587961,5.7665169758002515,26.03418631819882,27.547920529534323,5.624965252578951,45.628699089256514,1.1665049540939343,22.560199392966815,5.2447149446919745,3.4698952575976674,0.01629699960815266,10.100083219361272,2.2669337135540433,1.2582641557410112,1.546660119047151,42.47138275063659,38.09941938160015,0.7151508521549039,21.060468874471557,3.230034534293992,2.6881184219460335,11.251118609652274,4.771034934769817,1.2590915658748607,6.114436485860204,8.4176849886696,4.083605890925609,1.7021914117873627,6.871909202619073,4.556557680479005]}],                        {\"coloraxis\":{\"colorbar\":{\"title\":{\"text\":\"stormwater_benefits_dollar_value\"}},\"colorscale\":[[0.0,\"rgb(247,252,245)\"],[0.125,\"rgb(229,245,224)\"],[0.25,\"rgb(199,233,192)\"],[0.375,\"rgb(161,217,155)\"],[0.5,\"rgb(116,196,118)\"],[0.625,\"rgb(65,171,93)\"],[0.75,\"rgb(35,139,69)\"],[0.875,\"rgb(0,109,44)\"],[1.0,\"rgb(0,68,27)\"]]},\"geo\":{\"center\":{},\"domain\":{\"x\":[0.0,1.0],\"y\":[0.0,1.0]},\"fitbounds\":\"locations\",\"visible\":false},\"height\":500,\"legend\":{\"tracegroupgap\":0},\"template\":{\"data\":{\"bar\":[{\"error_x\":{\"color\":\"#2a3f5f\"},\"error_y\":{\"color\":\"#2a3f5f\"},\"marker\":{\"line\":{\"color\":\"#E5ECF6\",\"width\":0.5},\"pattern\":{\"fillmode\":\"overlay\",\"size\":10,\"solidity\":0.2}},\"type\":\"bar\"}],\"barpolar\":[{\"marker\":{\"line\":{\"color\":\"#E5ECF6\",\"width\":0.5},\"pattern\":{\"fillmode\":\"overlay\",\"size\":10,\"solidity\":0.2}},\"type\":\"barpolar\"}],\"carpet\":[{\"aaxis\":{\"endlinecolor\":\"#2a3f5f\",\"gridcolor\":\"white\",\"linecolor\":\"white\",\"minorgridcolor\":\"white\",\"startlinecolor\":\"#2a3f5f\"},\"baxis\":{\"endlinecolor\":\"#2a3f5f\",\"gridcolor\":\"white\",\"linecolor\":\"white\",\"minorgridcolor\":\"white\",\"startlinecolor\":\"#2a3f5f\"},\"type\":\"carpet\"}],\"choropleth\":[{\"colorbar\":{\"outlinewidth\":0,\"ticks\":\"\"},\"type\":\"choropleth\"}],\"contour\":[{\"colorbar\":{\"outlinewidth\":0,\"ticks\":\"\"},\"colorscale\":[[0.0,\"#0d0887\"],[0.1111111111111111,\"#46039f\"],[0.2222222222222222,\"#7201a8\"],[0.3333333333333333,\"#9c179e\"],[0.4444444444444444,\"#bd3786\"],[0.5555555555555556,\"#d8576b\"],[0.6666666666666666,\"#ed7953\"],[0.7777777777777778,\"#fb9f3a\"],[0.8888888888888888,\"#fdca26\"],[1.0,\"#f0f921\"]],\"type\":\"contour\"}],\"contourcarpet\":[{\"colorbar\":{\"outlinewidth\":0,\"ticks\":\"\"},\"type\":\"contourcarpet\"}],\"heatmap\":[{\"colorbar\":{\"outlinewidth\":0,\"ticks\":\"\"},\"colorscale\":[[0.0,\"#0d0887\"],[0.1111111111111111,\"#46039f\"],[0.2222222222222222,\"#7201a8\"],[0.3333333333333333,\"#9c179e\"],[0.4444444444444444,\"#bd3786\"],[0.5555555555555556,\"#d8576b\"],[0.6666666666666666,\"#ed7953\"],[0.7777777777777778,\"#fb9f3a\"],[0.8888888888888888,\"#fdca26\"],[1.0,\"#f0f921\"]],\"type\":\"heatmap\"}],\"heatmapgl\":[{\"colorbar\":{\"outlinewidth\":0,\"ticks\":\"\"},\"colorscale\":[[0.0,\"#0d0887\"],[0.1111111111111111,\"#46039f\"],[0.2222222222222222,\"#7201a8\"],[0.3333333333333333,\"#9c179e\"],[0.4444444444444444,\"#bd3786\"],[0.5555555555555556,\"#d8576b\"],[0.6666666666666666,\"#ed7953\"],[0.7777777777777778,\"#fb9f3a\"],[0.8888888888888888,\"#fdca26\"],[1.0,\"#f0f921\"]],\"type\":\"heatmapgl\"}],\"histogram\":[{\"marker\":{\"pattern\":{\"fillmode\":\"overlay\",\"size\":10,\"solidity\":0.2}},\"type\":\"histogram\"}],\"histogram2d\":[{\"colorbar\":{\"outlinewidth\":0,\"ticks\":\"\"},\"colorscale\":[[0.0,\"#0d0887\"],[0.1111111111111111,\"#46039f\"],[0.2222222222222222,\"#7201a8\"],[0.3333333333333333,\"#9c179e\"],[0.4444444444444444,\"#bd3786\"],[0.5555555555555556,\"#d8576b\"],[0.6666666666666666,\"#ed7953\"],[0.7777777777777778,\"#fb9f3a\"],[0.8888888888888888,\"#fdca26\"],[1.0,\"#f0f921\"]],\"type\":\"histogram2d\"}],\"histogram2dcontour\":[{\"colorbar\":{\"outlinewidth\":0,\"ticks\":\"\"},\"colorscale\":[[0.0,\"#0d0887\"],[0.1111111111111111,\"#46039f\"],[0.2222222222222222,\"#7201a8\"],[0.3333333333333333,\"#9c179e\"],[0.4444444444444444,\"#bd3786\"],[0.5555555555555556,\"#d8576b\"],[0.6666666666666666,\"#ed7953\"],[0.7777777777777778,\"#fb9f3a\"],[0.8888888888888888,\"#fdca26\"],[1.0,\"#f0f921\"]],\"type\":\"histogram2dcontour\"}],\"mesh3d\":[{\"colorbar\":{\"outlinewidth\":0,\"ticks\":\"\"},\"type\":\"mesh3d\"}],\"parcoords\":[{\"line\":{\"colorbar\":{\"outlinewidth\":0,\"ticks\":\"\"}},\"type\":\"parcoords\"}],\"pie\":[{\"automargin\":true,\"type\":\"pie\"}],\"scatter\":[{\"marker\":{\"colorbar\":{\"outlinewidth\":0,\"ticks\":\"\"}},\"type\":\"scatter\"}],\"scatter3d\":[{\"line\":{\"colorbar\":{\"outlinewidth\":0,\"ticks\":\"\"}},\"marker\":{\"colorbar\":{\"outlinewidth\":0,\"ticks\":\"\"}},\"type\":\"scatter3d\"}],\"scattercarpet\":[{\"marker\":{\"colorbar\":{\"outlinewidth\":0,\"ticks\":\"\"}},\"type\":\"scattercarpet\"}],\"scattergeo\":[{\"marker\":{\"colorbar\":{\"outlinewidth\":0,\"ticks\":\"\"}},\"type\":\"scattergeo\"}],\"scattergl\":[{\"marker\":{\"colorbar\":{\"outlinewidth\":0,\"ticks\":\"\"}},\"type\":\"scattergl\"}],\"scattermapbox\":[{\"marker\":{\"colorbar\":{\"outlinewidth\":0,\"ticks\":\"\"}},\"type\":\"scattermapbox\"}],\"scatterpolar\":[{\"marker\":{\"colorbar\":{\"outlinewidth\":0,\"ticks\":\"\"}},\"type\":\"scatterpolar\"}],\"scatterpolargl\":[{\"marker\":{\"colorbar\":{\"outlinewidth\":0,\"ticks\":\"\"}},\"type\":\"scatterpolargl\"}],\"scatterternary\":[{\"marker\":{\"colorbar\":{\"outlinewidth\":0,\"ticks\":\"\"}},\"type\":\"scatterternary\"}],\"surface\":[{\"colorbar\":{\"outlinewidth\":0,\"ticks\":\"\"},\"colorscale\":[[0.0,\"#0d0887\"],[0.1111111111111111,\"#46039f\"],[0.2222222222222222,\"#7201a8\"],[0.3333333333333333,\"#9c179e\"],[0.4444444444444444,\"#bd3786\"],[0.5555555555555556,\"#d8576b\"],[0.6666666666666666,\"#ed7953\"],[0.7777777777777778,\"#fb9f3a\"],[0.8888888888888888,\"#fdca26\"],[1.0,\"#f0f921\"]],\"type\":\"surface\"}],\"table\":[{\"cells\":{\"fill\":{\"color\":\"#EBF0F8\"},\"line\":{\"color\":\"white\"}},\"header\":{\"fill\":{\"color\":\"#C8D4E3\"},\"line\":{\"color\":\"white\"}},\"type\":\"table\"}]},\"layout\":{\"annotationdefaults\":{\"arrowcolor\":\"#2a3f5f\",\"arrowhead\":0,\"arrowwidth\":1},\"autotypenumbers\":\"strict\",\"coloraxis\":{\"colorbar\":{\"outlinewidth\":0,\"ticks\":\"\"}},\"colorscale\":{\"diverging\":[[0,\"#8e0152\"],[0.1,\"#c51b7d\"],[0.2,\"#de77ae\"],[0.3,\"#f1b6da\"],[0.4,\"#fde0ef\"],[0.5,\"#f7f7f7\"],[0.6,\"#e6f5d0\"],[0.7,\"#b8e186\"],[0.8,\"#7fbc41\"],[0.9,\"#4d9221\"],[1,\"#276419\"]],\"sequential\":[[0.0,\"#0d0887\"],[0.1111111111111111,\"#46039f\"],[0.2222222222222222,\"#7201a8\"],[0.3333333333333333,\"#9c179e\"],[0.4444444444444444,\"#bd3786\"],[0.5555555555555556,\"#d8576b\"],[0.6666666666666666,\"#ed7953\"],[0.7777777777777778,\"#fb9f3a\"],[0.8888888888888888,\"#fdca26\"],[1.0,\"#f0f921\"]],\"sequentialminus\":[[0.0,\"#0d0887\"],[0.1111111111111111,\"#46039f\"],[0.2222222222222222,\"#7201a8\"],[0.3333333333333333,\"#9c179e\"],[0.4444444444444444,\"#bd3786\"],[0.5555555555555556,\"#d8576b\"],[0.6666666666666666,\"#ed7953\"],[0.7777777777777778,\"#fb9f3a\"],[0.8888888888888888,\"#fdca26\"],[1.0,\"#f0f921\"]]},\"colorway\":[\"#636efa\",\"#EF553B\",\"#00cc96\",\"#ab63fa\",\"#FFA15A\",\"#19d3f3\",\"#FF6692\",\"#B6E880\",\"#FF97FF\",\"#FECB52\"],\"font\":{\"color\":\"#2a3f5f\"},\"geo\":{\"bgcolor\":\"white\",\"lakecolor\":\"white\",\"landcolor\":\"#E5ECF6\",\"showlakes\":true,\"showland\":true,\"subunitcolor\":\"white\"},\"hoverlabel\":{\"align\":\"left\"},\"hovermode\":\"closest\",\"mapbox\":{\"style\":\"light\"},\"paper_bgcolor\":\"white\",\"plot_bgcolor\":\"#E5ECF6\",\"polar\":{\"angularaxis\":{\"gridcolor\":\"white\",\"linecolor\":\"white\",\"ticks\":\"\"},\"bgcolor\":\"#E5ECF6\",\"radialaxis\":{\"gridcolor\":\"white\",\"linecolor\":\"white\",\"ticks\":\"\"}},\"scene\":{\"xaxis\":{\"backgroundcolor\":\"#E5ECF6\",\"gridcolor\":\"white\",\"gridwidth\":2,\"linecolor\":\"white\",\"showbackground\":true,\"ticks\":\"\",\"zerolinecolor\":\"white\"},\"yaxis\":{\"backgroundcolor\":\"#E5ECF6\",\"gridcolor\":\"white\",\"gridwidth\":2,\"linecolor\":\"white\",\"showbackground\":true,\"ticks\":\"\",\"zerolinecolor\":\"white\"},\"zaxis\":{\"backgroundcolor\":\"#E5ECF6\",\"gridcolor\":\"white\",\"gridwidth\":2,\"linecolor\":\"white\",\"showbackground\":true,\"ticks\":\"\",\"zerolinecolor\":\"white\"}},\"shapedefaults\":{\"line\":{\"color\":\"#2a3f5f\"}},\"ternary\":{\"aaxis\":{\"gridcolor\":\"white\",\"linecolor\":\"white\",\"ticks\":\"\"},\"baxis\":{\"gridcolor\":\"white\",\"linecolor\":\"white\",\"ticks\":\"\"},\"bgcolor\":\"#E5ECF6\",\"caxis\":{\"gridcolor\":\"white\",\"linecolor\":\"white\",\"ticks\":\"\"}},\"title\":{\"x\":0.05},\"xaxis\":{\"automargin\":true,\"gridcolor\":\"white\",\"linecolor\":\"white\",\"ticks\":\"\",\"title\":{\"standoff\":15},\"zerolinecolor\":\"white\",\"zerolinewidth\":2},\"yaxis\":{\"automargin\":true,\"gridcolor\":\"white\",\"linecolor\":\"white\",\"ticks\":\"\",\"title\":{\"standoff\":15},\"zerolinecolor\":\"white\",\"zerolinewidth\":2}}},\"title\":{\"text\":\"Average Stormwater benefit across Neighborhoods\"}},                        {\"responsive\": true}                    ).then(function(){\n",
       "                            \n",
       "var gd = document.getElementById('4dd8d353-4ed3-4c07-9fb3-8249d0454093');\n",
       "var x = new MutationObserver(function (mutations, observer) {{\n",
       "        var display = window.getComputedStyle(gd).display;\n",
       "        if (!display || display === 'none') {{\n",
       "            console.log([gd, 'removed!']);\n",
       "            Plotly.purge(gd);\n",
       "            observer.disconnect();\n",
       "        }}\n",
       "}});\n",
       "\n",
       "// Listen for the removal of the full notebook cells\n",
       "var notebookContainer = gd.closest('#notebook-container');\n",
       "if (notebookContainer) {{\n",
       "    x.observe(notebookContainer, {childList: true});\n",
       "}}\n",
       "\n",
       "// Listen for the clearing of the current output cell\n",
       "var outputEl = gd.closest('.output');\n",
       "if (outputEl) {{\n",
       "    x.observe(outputEl, {childList: true});\n",
       "}}\n",
       "\n",
       "                        })                };                });            </script>        </div>"
      ]
     },
     "metadata": {},
     "output_type": "display_data"
    }
   ],
   "source": [
    "fig=px.choropleth(stormwater_benefit_map,\n",
    "             geojson=\"https://raw.githubusercontent.com/blackmad/neighborhoods/master/gn-pittsburgh.geojson\",\n",
    "             featureidkey='properties.name',   \n",
    "             locations='neighborhood',        #column in dataframe\n",
    "             color='stormwater_benefits_dollar_value',\n",
    "              color_continuous_scale='greens',\n",
    "               title='Average Stormwater benefit across Neighborhoods' ,  \n",
    "               height=500\n",
    "              )\n",
    "fig.update_geos(fitbounds=\"locations\", visible=False)\n",
    "fig.show()"
   ]
  },
  {
   "cell_type": "markdown",
   "id": "c8e84e7f",
   "metadata": {},
   "source": [
    "**Top 5 neighborhoods with highest stormwater benefits**"
   ]
  },
  {
   "cell_type": "code",
   "execution_count": 769,
   "id": "63f54896",
   "metadata": {},
   "outputs": [
    {
     "data": {
      "text/html": [
       "<div>\n",
       "<style scoped>\n",
       "    .dataframe tbody tr th:only-of-type {\n",
       "        vertical-align: middle;\n",
       "    }\n",
       "\n",
       "    .dataframe tbody tr th {\n",
       "        vertical-align: top;\n",
       "    }\n",
       "\n",
       "    .dataframe thead th {\n",
       "        text-align: right;\n",
       "    }\n",
       "</style>\n",
       "<table border=\"1\" class=\"dataframe\">\n",
       "  <thead>\n",
       "    <tr style=\"text-align: right;\">\n",
       "      <th></th>\n",
       "      <th>neighborhood</th>\n",
       "      <th>stormwater_benefits_dollar_value</th>\n",
       "    </tr>\n",
       "  </thead>\n",
       "  <tbody>\n",
       "    <tr>\n",
       "      <th>0</th>\n",
       "      <td>Allegheny Center</td>\n",
       "      <td>112.681320</td>\n",
       "    </tr>\n",
       "    <tr>\n",
       "      <th>1</th>\n",
       "      <td>Allegheny West</td>\n",
       "      <td>59.060754</td>\n",
       "    </tr>\n",
       "    <tr>\n",
       "      <th>39</th>\n",
       "      <td>Highland Park</td>\n",
       "      <td>52.148217</td>\n",
       "    </tr>\n",
       "    <tr>\n",
       "      <th>65</th>\n",
       "      <td>Regent Square</td>\n",
       "      <td>45.628699</td>\n",
       "    </tr>\n",
       "    <tr>\n",
       "      <th>75</th>\n",
       "      <td>Squirrel Hill North</td>\n",
       "      <td>42.471383</td>\n",
       "    </tr>\n",
       "  </tbody>\n",
       "</table>\n",
       "</div>"
      ],
      "text/plain": [
       "           neighborhood  stormwater_benefits_dollar_value\n",
       "0      Allegheny Center                        112.681320\n",
       "1        Allegheny West                         59.060754\n",
       "39        Highland Park                         52.148217\n",
       "65        Regent Square                         45.628699\n",
       "75  Squirrel Hill North                         42.471383"
      ]
     },
     "execution_count": 769,
     "metadata": {},
     "output_type": "execute_result"
    }
   ],
   "source": [
    "stormwater_benefit_map.sort_values('stormwater_benefits_dollar_value', ascending=False).head(5)"
   ]
  },
  {
   "cell_type": "markdown",
   "id": "bd07242b",
   "metadata": {},
   "source": [
    "**Inference:\n",
    "3 of the top 5 neighborhoods with the highest stormwater benefits are also in the top 5 neighborhoods with highest tree density. This exhibhits a clear positive correlation between the two**"
   ]
  },
  {
   "cell_type": "markdown",
   "id": "db38d0b8",
   "metadata": {},
   "source": [
    "# Plot neighborhood level tree Property value benefits data"
   ]
  },
  {
   "cell_type": "code",
   "execution_count": 770,
   "id": "64b299b8",
   "metadata": {},
   "outputs": [],
   "source": [
    "property_value_benefit_map = combined_data[['neighborhood', 'property_value_benefits_dollarvalue']].copy()\n"
   ]
  },
  {
   "cell_type": "code",
   "execution_count": 771,
   "id": "516280d7",
   "metadata": {},
   "outputs": [
    {
     "data": {
      "application/vnd.plotly.v1+json": {
       "config": {
        "plotlyServerURL": "https://plot.ly"
       },
       "data": [
        {
         "coloraxis": "coloraxis",
         "featureidkey": "properties.name",
         "geo": "geo",
         "geojson": "https://raw.githubusercontent.com/blackmad/neighborhoods/master/gn-pittsburgh.geojson",
         "hovertemplate": "neighborhood=%{location}<br>property_value_benefits_dollarvalue=%{z}<extra></extra>",
         "locations": [
          "Allegheny Center",
          "Allegheny West",
          "Allentown",
          "Arlington",
          "Arlington Heights",
          "Banksville",
          "Bedford Dwellings",
          "Beechview",
          "Beltzhoover",
          "Bloomfield",
          "Bluff",
          "Bon Air",
          "Brighton Heights",
          "Brookline",
          "California-Kirkbride",
          "Carrick",
          "Central Business District",
          "Central Lawrenceville",
          "Central Northside",
          "Central Oakland",
          "Chartiers City",
          "Chateau",
          "Crafton Heights",
          "Crawford-Roberts",
          "Duquesne Heights",
          "East Allegheny",
          "East Carnegie",
          "East Hills",
          "East Liberty",
          "Elliott",
          "Esplen",
          "Fairywood",
          "Fineview",
          "Friendship",
          "Garfield",
          "Glen Hazel",
          "Greenfield",
          "Hays",
          "Hazelwood",
          "Highland Park",
          "Homewood North",
          "Homewood South",
          "Homewood West",
          "Knoxville",
          "Larimer",
          "Lincoln Place",
          "Lincoln-Lemington-Belmar",
          "Lower Lawrenceville",
          "Manchester",
          "Marshall-Shadeland",
          "Middle Hill",
          "Morningside",
          "Mount Washington",
          "Mt. Oliver",
          "New Homestead",
          "North Oakland",
          "North Shore",
          "Northview Heights",
          "Oakwood",
          "Overbrook",
          "Perry North",
          "Perry South",
          "Point Breeze",
          "Point Breeze North",
          "Polish Hill",
          "Regent Square",
          "Ridgemont",
          "Shadyside",
          "Sheraden",
          "South Oakland",
          "South Shore",
          "South Side Flats",
          "South Side Slopes",
          "Spring Garden",
          "Spring Hill-City View",
          "Squirrel Hill North",
          "Squirrel Hill South",
          "St. Clair",
          "Stanton Heights",
          "Strip District",
          "Summer Hill",
          "Swisshelm Park",
          "Terrace Village",
          "Troy Hill",
          "Upper Hill",
          "Upper Lawrenceville",
          "West End",
          "West Oakland",
          "Westwood",
          "Windgap"
         ],
         "name": "",
         "type": "choropleth",
         "z": [
          430.3031558366514,
          252.74194265141594,
          17.500310524827142,
          8.932931695912474,
          3.9044969318682616,
          34.83956351708378,
          51.89275403646796,
          26.67747063924553,
          19.58492985252294,
          128.6092325225929,
          45.357900777365685,
          17.677130596153198,
          56.15912012720663,
          30.296658245466915,
          28.34341992256478,
          28.240550200650663,
          130.96142609705774,
          38.57736913430654,
          171.43385273030876,
          108.3246961070329,
          19.77376029541523,
          63.207148298354404,
          33.46694419667789,
          147.99016500464833,
          8.786387172395909,
          115.84373084112741,
          1.0126601215563433,
          71.27319621404862,
          142.8770763827425,
          17.802964122674275,
          0.6805201477402946,
          3.5710666447196773,
          33.62297160839689,
          182.77163766824393,
          95.69328650662882,
          0.21976328515366797,
          57.41064305653131,
          0.08653327123586599,
          26.519601151580606,
          217.63174023388996,
          51.66277871733065,
          58.98914040857211,
          30.503104427305725,
          116.0397170899729,
          46.360480446255565,
          19.659090577085564,
          170.28237741996398,
          86.31913378693115,
          171.8534427788605,
          152.65746044346963,
          63.61664808227596,
          66.88972577740545,
          41.79092378878717,
          9.676565167265123,
          17.952835120999413,
          114.5295222264785,
          134.6885770888894,
          2.137631584535469,
          26.18156376370623,
          23.11810158808633,
          72.39766424425524,
          31.484221702602355,
          102.80580779749836,
          129.01702052921218,
          52.841627523926576,
          188.76111686581467,
          6.14844695530602,
          126.73914247586025,
          23.917583415434986,
          28.527094740974622,
          0.16573435753188304,
          112.21314153855997,
          14.448459509279056,
          13.06119180241626,
          10.984832515439086,
          150.61438334727993,
          166.7898304864866,
          5.006376056530096,
          90.75478510585273,
          46.98716783463862,
          16.63920761966331,
          40.82679421963501,
          58.285268245107595,
          22.07089137730454,
          33.41326848057832,
          75.58007142662636,
          42.23483422929226,
          23.937000549118753,
          27.82792442316824,
          21.14097611172156
         ]
        }
       ],
       "layout": {
        "coloraxis": {
         "colorbar": {
          "title": {
           "text": "property_value_benefits_dollarvalue"
          }
         },
         "colorscale": [
          [
           0,
           "rgb(247,252,245)"
          ],
          [
           0.125,
           "rgb(229,245,224)"
          ],
          [
           0.25,
           "rgb(199,233,192)"
          ],
          [
           0.375,
           "rgb(161,217,155)"
          ],
          [
           0.5,
           "rgb(116,196,118)"
          ],
          [
           0.625,
           "rgb(65,171,93)"
          ],
          [
           0.75,
           "rgb(35,139,69)"
          ],
          [
           0.875,
           "rgb(0,109,44)"
          ],
          [
           1,
           "rgb(0,68,27)"
          ]
         ]
        },
        "geo": {
         "center": {},
         "domain": {
          "x": [
           0,
           1
          ],
          "y": [
           0,
           1
          ]
         },
         "fitbounds": "locations",
         "visible": false
        },
        "height": 500,
        "legend": {
         "tracegroupgap": 0
        },
        "template": {
         "data": {
          "bar": [
           {
            "error_x": {
             "color": "#2a3f5f"
            },
            "error_y": {
             "color": "#2a3f5f"
            },
            "marker": {
             "line": {
              "color": "#E5ECF6",
              "width": 0.5
             },
             "pattern": {
              "fillmode": "overlay",
              "size": 10,
              "solidity": 0.2
             }
            },
            "type": "bar"
           }
          ],
          "barpolar": [
           {
            "marker": {
             "line": {
              "color": "#E5ECF6",
              "width": 0.5
             },
             "pattern": {
              "fillmode": "overlay",
              "size": 10,
              "solidity": 0.2
             }
            },
            "type": "barpolar"
           }
          ],
          "carpet": [
           {
            "aaxis": {
             "endlinecolor": "#2a3f5f",
             "gridcolor": "white",
             "linecolor": "white",
             "minorgridcolor": "white",
             "startlinecolor": "#2a3f5f"
            },
            "baxis": {
             "endlinecolor": "#2a3f5f",
             "gridcolor": "white",
             "linecolor": "white",
             "minorgridcolor": "white",
             "startlinecolor": "#2a3f5f"
            },
            "type": "carpet"
           }
          ],
          "choropleth": [
           {
            "colorbar": {
             "outlinewidth": 0,
             "ticks": ""
            },
            "type": "choropleth"
           }
          ],
          "contour": [
           {
            "colorbar": {
             "outlinewidth": 0,
             "ticks": ""
            },
            "colorscale": [
             [
              0,
              "#0d0887"
             ],
             [
              0.1111111111111111,
              "#46039f"
             ],
             [
              0.2222222222222222,
              "#7201a8"
             ],
             [
              0.3333333333333333,
              "#9c179e"
             ],
             [
              0.4444444444444444,
              "#bd3786"
             ],
             [
              0.5555555555555556,
              "#d8576b"
             ],
             [
              0.6666666666666666,
              "#ed7953"
             ],
             [
              0.7777777777777778,
              "#fb9f3a"
             ],
             [
              0.8888888888888888,
              "#fdca26"
             ],
             [
              1,
              "#f0f921"
             ]
            ],
            "type": "contour"
           }
          ],
          "contourcarpet": [
           {
            "colorbar": {
             "outlinewidth": 0,
             "ticks": ""
            },
            "type": "contourcarpet"
           }
          ],
          "heatmap": [
           {
            "colorbar": {
             "outlinewidth": 0,
             "ticks": ""
            },
            "colorscale": [
             [
              0,
              "#0d0887"
             ],
             [
              0.1111111111111111,
              "#46039f"
             ],
             [
              0.2222222222222222,
              "#7201a8"
             ],
             [
              0.3333333333333333,
              "#9c179e"
             ],
             [
              0.4444444444444444,
              "#bd3786"
             ],
             [
              0.5555555555555556,
              "#d8576b"
             ],
             [
              0.6666666666666666,
              "#ed7953"
             ],
             [
              0.7777777777777778,
              "#fb9f3a"
             ],
             [
              0.8888888888888888,
              "#fdca26"
             ],
             [
              1,
              "#f0f921"
             ]
            ],
            "type": "heatmap"
           }
          ],
          "heatmapgl": [
           {
            "colorbar": {
             "outlinewidth": 0,
             "ticks": ""
            },
            "colorscale": [
             [
              0,
              "#0d0887"
             ],
             [
              0.1111111111111111,
              "#46039f"
             ],
             [
              0.2222222222222222,
              "#7201a8"
             ],
             [
              0.3333333333333333,
              "#9c179e"
             ],
             [
              0.4444444444444444,
              "#bd3786"
             ],
             [
              0.5555555555555556,
              "#d8576b"
             ],
             [
              0.6666666666666666,
              "#ed7953"
             ],
             [
              0.7777777777777778,
              "#fb9f3a"
             ],
             [
              0.8888888888888888,
              "#fdca26"
             ],
             [
              1,
              "#f0f921"
             ]
            ],
            "type": "heatmapgl"
           }
          ],
          "histogram": [
           {
            "marker": {
             "pattern": {
              "fillmode": "overlay",
              "size": 10,
              "solidity": 0.2
             }
            },
            "type": "histogram"
           }
          ],
          "histogram2d": [
           {
            "colorbar": {
             "outlinewidth": 0,
             "ticks": ""
            },
            "colorscale": [
             [
              0,
              "#0d0887"
             ],
             [
              0.1111111111111111,
              "#46039f"
             ],
             [
              0.2222222222222222,
              "#7201a8"
             ],
             [
              0.3333333333333333,
              "#9c179e"
             ],
             [
              0.4444444444444444,
              "#bd3786"
             ],
             [
              0.5555555555555556,
              "#d8576b"
             ],
             [
              0.6666666666666666,
              "#ed7953"
             ],
             [
              0.7777777777777778,
              "#fb9f3a"
             ],
             [
              0.8888888888888888,
              "#fdca26"
             ],
             [
              1,
              "#f0f921"
             ]
            ],
            "type": "histogram2d"
           }
          ],
          "histogram2dcontour": [
           {
            "colorbar": {
             "outlinewidth": 0,
             "ticks": ""
            },
            "colorscale": [
             [
              0,
              "#0d0887"
             ],
             [
              0.1111111111111111,
              "#46039f"
             ],
             [
              0.2222222222222222,
              "#7201a8"
             ],
             [
              0.3333333333333333,
              "#9c179e"
             ],
             [
              0.4444444444444444,
              "#bd3786"
             ],
             [
              0.5555555555555556,
              "#d8576b"
             ],
             [
              0.6666666666666666,
              "#ed7953"
             ],
             [
              0.7777777777777778,
              "#fb9f3a"
             ],
             [
              0.8888888888888888,
              "#fdca26"
             ],
             [
              1,
              "#f0f921"
             ]
            ],
            "type": "histogram2dcontour"
           }
          ],
          "mesh3d": [
           {
            "colorbar": {
             "outlinewidth": 0,
             "ticks": ""
            },
            "type": "mesh3d"
           }
          ],
          "parcoords": [
           {
            "line": {
             "colorbar": {
              "outlinewidth": 0,
              "ticks": ""
             }
            },
            "type": "parcoords"
           }
          ],
          "pie": [
           {
            "automargin": true,
            "type": "pie"
           }
          ],
          "scatter": [
           {
            "marker": {
             "colorbar": {
              "outlinewidth": 0,
              "ticks": ""
             }
            },
            "type": "scatter"
           }
          ],
          "scatter3d": [
           {
            "line": {
             "colorbar": {
              "outlinewidth": 0,
              "ticks": ""
             }
            },
            "marker": {
             "colorbar": {
              "outlinewidth": 0,
              "ticks": ""
             }
            },
            "type": "scatter3d"
           }
          ],
          "scattercarpet": [
           {
            "marker": {
             "colorbar": {
              "outlinewidth": 0,
              "ticks": ""
             }
            },
            "type": "scattercarpet"
           }
          ],
          "scattergeo": [
           {
            "marker": {
             "colorbar": {
              "outlinewidth": 0,
              "ticks": ""
             }
            },
            "type": "scattergeo"
           }
          ],
          "scattergl": [
           {
            "marker": {
             "colorbar": {
              "outlinewidth": 0,
              "ticks": ""
             }
            },
            "type": "scattergl"
           }
          ],
          "scattermapbox": [
           {
            "marker": {
             "colorbar": {
              "outlinewidth": 0,
              "ticks": ""
             }
            },
            "type": "scattermapbox"
           }
          ],
          "scatterpolar": [
           {
            "marker": {
             "colorbar": {
              "outlinewidth": 0,
              "ticks": ""
             }
            },
            "type": "scatterpolar"
           }
          ],
          "scatterpolargl": [
           {
            "marker": {
             "colorbar": {
              "outlinewidth": 0,
              "ticks": ""
             }
            },
            "type": "scatterpolargl"
           }
          ],
          "scatterternary": [
           {
            "marker": {
             "colorbar": {
              "outlinewidth": 0,
              "ticks": ""
             }
            },
            "type": "scatterternary"
           }
          ],
          "surface": [
           {
            "colorbar": {
             "outlinewidth": 0,
             "ticks": ""
            },
            "colorscale": [
             [
              0,
              "#0d0887"
             ],
             [
              0.1111111111111111,
              "#46039f"
             ],
             [
              0.2222222222222222,
              "#7201a8"
             ],
             [
              0.3333333333333333,
              "#9c179e"
             ],
             [
              0.4444444444444444,
              "#bd3786"
             ],
             [
              0.5555555555555556,
              "#d8576b"
             ],
             [
              0.6666666666666666,
              "#ed7953"
             ],
             [
              0.7777777777777778,
              "#fb9f3a"
             ],
             [
              0.8888888888888888,
              "#fdca26"
             ],
             [
              1,
              "#f0f921"
             ]
            ],
            "type": "surface"
           }
          ],
          "table": [
           {
            "cells": {
             "fill": {
              "color": "#EBF0F8"
             },
             "line": {
              "color": "white"
             }
            },
            "header": {
             "fill": {
              "color": "#C8D4E3"
             },
             "line": {
              "color": "white"
             }
            },
            "type": "table"
           }
          ]
         },
         "layout": {
          "annotationdefaults": {
           "arrowcolor": "#2a3f5f",
           "arrowhead": 0,
           "arrowwidth": 1
          },
          "autotypenumbers": "strict",
          "coloraxis": {
           "colorbar": {
            "outlinewidth": 0,
            "ticks": ""
           }
          },
          "colorscale": {
           "diverging": [
            [
             0,
             "#8e0152"
            ],
            [
             0.1,
             "#c51b7d"
            ],
            [
             0.2,
             "#de77ae"
            ],
            [
             0.3,
             "#f1b6da"
            ],
            [
             0.4,
             "#fde0ef"
            ],
            [
             0.5,
             "#f7f7f7"
            ],
            [
             0.6,
             "#e6f5d0"
            ],
            [
             0.7,
             "#b8e186"
            ],
            [
             0.8,
             "#7fbc41"
            ],
            [
             0.9,
             "#4d9221"
            ],
            [
             1,
             "#276419"
            ]
           ],
           "sequential": [
            [
             0,
             "#0d0887"
            ],
            [
             0.1111111111111111,
             "#46039f"
            ],
            [
             0.2222222222222222,
             "#7201a8"
            ],
            [
             0.3333333333333333,
             "#9c179e"
            ],
            [
             0.4444444444444444,
             "#bd3786"
            ],
            [
             0.5555555555555556,
             "#d8576b"
            ],
            [
             0.6666666666666666,
             "#ed7953"
            ],
            [
             0.7777777777777778,
             "#fb9f3a"
            ],
            [
             0.8888888888888888,
             "#fdca26"
            ],
            [
             1,
             "#f0f921"
            ]
           ],
           "sequentialminus": [
            [
             0,
             "#0d0887"
            ],
            [
             0.1111111111111111,
             "#46039f"
            ],
            [
             0.2222222222222222,
             "#7201a8"
            ],
            [
             0.3333333333333333,
             "#9c179e"
            ],
            [
             0.4444444444444444,
             "#bd3786"
            ],
            [
             0.5555555555555556,
             "#d8576b"
            ],
            [
             0.6666666666666666,
             "#ed7953"
            ],
            [
             0.7777777777777778,
             "#fb9f3a"
            ],
            [
             0.8888888888888888,
             "#fdca26"
            ],
            [
             1,
             "#f0f921"
            ]
           ]
          },
          "colorway": [
           "#636efa",
           "#EF553B",
           "#00cc96",
           "#ab63fa",
           "#FFA15A",
           "#19d3f3",
           "#FF6692",
           "#B6E880",
           "#FF97FF",
           "#FECB52"
          ],
          "font": {
           "color": "#2a3f5f"
          },
          "geo": {
           "bgcolor": "white",
           "lakecolor": "white",
           "landcolor": "#E5ECF6",
           "showlakes": true,
           "showland": true,
           "subunitcolor": "white"
          },
          "hoverlabel": {
           "align": "left"
          },
          "hovermode": "closest",
          "mapbox": {
           "style": "light"
          },
          "paper_bgcolor": "white",
          "plot_bgcolor": "#E5ECF6",
          "polar": {
           "angularaxis": {
            "gridcolor": "white",
            "linecolor": "white",
            "ticks": ""
           },
           "bgcolor": "#E5ECF6",
           "radialaxis": {
            "gridcolor": "white",
            "linecolor": "white",
            "ticks": ""
           }
          },
          "scene": {
           "xaxis": {
            "backgroundcolor": "#E5ECF6",
            "gridcolor": "white",
            "gridwidth": 2,
            "linecolor": "white",
            "showbackground": true,
            "ticks": "",
            "zerolinecolor": "white"
           },
           "yaxis": {
            "backgroundcolor": "#E5ECF6",
            "gridcolor": "white",
            "gridwidth": 2,
            "linecolor": "white",
            "showbackground": true,
            "ticks": "",
            "zerolinecolor": "white"
           },
           "zaxis": {
            "backgroundcolor": "#E5ECF6",
            "gridcolor": "white",
            "gridwidth": 2,
            "linecolor": "white",
            "showbackground": true,
            "ticks": "",
            "zerolinecolor": "white"
           }
          },
          "shapedefaults": {
           "line": {
            "color": "#2a3f5f"
           }
          },
          "ternary": {
           "aaxis": {
            "gridcolor": "white",
            "linecolor": "white",
            "ticks": ""
           },
           "baxis": {
            "gridcolor": "white",
            "linecolor": "white",
            "ticks": ""
           },
           "bgcolor": "#E5ECF6",
           "caxis": {
            "gridcolor": "white",
            "linecolor": "white",
            "ticks": ""
           }
          },
          "title": {
           "x": 0.05
          },
          "xaxis": {
           "automargin": true,
           "gridcolor": "white",
           "linecolor": "white",
           "ticks": "",
           "title": {
            "standoff": 15
           },
           "zerolinecolor": "white",
           "zerolinewidth": 2
          },
          "yaxis": {
           "automargin": true,
           "gridcolor": "white",
           "linecolor": "white",
           "ticks": "",
           "title": {
            "standoff": 15
           },
           "zerolinecolor": "white",
           "zerolinewidth": 2
          }
         }
        },
        "title": {
         "text": "Average Property Value benefit across Neighborhoods"
        }
       }
      },
      "text/html": [
       "<div>                            <div id=\"62ba9028-eeaa-40c3-b5d0-f4ed62dc2664\" class=\"plotly-graph-div\" style=\"height:500px; width:100%;\"></div>            <script type=\"text/javascript\">                require([\"plotly\"], function(Plotly) {                    window.PLOTLYENV=window.PLOTLYENV || {};                                    if (document.getElementById(\"62ba9028-eeaa-40c3-b5d0-f4ed62dc2664\")) {                    Plotly.newPlot(                        \"62ba9028-eeaa-40c3-b5d0-f4ed62dc2664\",                        [{\"coloraxis\":\"coloraxis\",\"featureidkey\":\"properties.name\",\"geo\":\"geo\",\"geojson\":\"https://raw.githubusercontent.com/blackmad/neighborhoods/master/gn-pittsburgh.geojson\",\"hovertemplate\":\"neighborhood=%{location}<br>property_value_benefits_dollarvalue=%{z}<extra></extra>\",\"locations\":[\"Allegheny Center\",\"Allegheny West\",\"Allentown\",\"Arlington\",\"Arlington Heights\",\"Banksville\",\"Bedford Dwellings\",\"Beechview\",\"Beltzhoover\",\"Bloomfield\",\"Bluff\",\"Bon Air\",\"Brighton Heights\",\"Brookline\",\"California-Kirkbride\",\"Carrick\",\"Central Business District\",\"Central Lawrenceville\",\"Central Northside\",\"Central Oakland\",\"Chartiers City\",\"Chateau\",\"Crafton Heights\",\"Crawford-Roberts\",\"Duquesne Heights\",\"East Allegheny\",\"East Carnegie\",\"East Hills\",\"East Liberty\",\"Elliott\",\"Esplen\",\"Fairywood\",\"Fineview\",\"Friendship\",\"Garfield\",\"Glen Hazel\",\"Greenfield\",\"Hays\",\"Hazelwood\",\"Highland Park\",\"Homewood North\",\"Homewood South\",\"Homewood West\",\"Knoxville\",\"Larimer\",\"Lincoln Place\",\"Lincoln-Lemington-Belmar\",\"Lower Lawrenceville\",\"Manchester\",\"Marshall-Shadeland\",\"Middle Hill\",\"Morningside\",\"Mount Washington\",\"Mt. Oliver\",\"New Homestead\",\"North Oakland\",\"North Shore\",\"Northview Heights\",\"Oakwood\",\"Overbrook\",\"Perry North\",\"Perry South\",\"Point Breeze\",\"Point Breeze North\",\"Polish Hill\",\"Regent Square\",\"Ridgemont\",\"Shadyside\",\"Sheraden\",\"South Oakland\",\"South Shore\",\"South Side Flats\",\"South Side Slopes\",\"Spring Garden\",\"Spring Hill-City View\",\"Squirrel Hill North\",\"Squirrel Hill South\",\"St. Clair\",\"Stanton Heights\",\"Strip District\",\"Summer Hill\",\"Swisshelm Park\",\"Terrace Village\",\"Troy Hill\",\"Upper Hill\",\"Upper Lawrenceville\",\"West End\",\"West Oakland\",\"Westwood\",\"Windgap\"],\"name\":\"\",\"type\":\"choropleth\",\"z\":[430.3031558366514,252.74194265141594,17.500310524827142,8.932931695912474,3.9044969318682616,34.83956351708378,51.89275403646796,26.67747063924553,19.58492985252294,128.6092325225929,45.357900777365685,17.677130596153198,56.15912012720663,30.296658245466915,28.34341992256478,28.240550200650663,130.96142609705774,38.57736913430654,171.43385273030876,108.3246961070329,19.77376029541523,63.207148298354404,33.46694419667789,147.99016500464833,8.786387172395909,115.84373084112741,1.0126601215563433,71.27319621404862,142.8770763827425,17.802964122674275,0.6805201477402946,3.5710666447196773,33.62297160839689,182.77163766824393,95.69328650662882,0.21976328515366797,57.41064305653131,0.08653327123586599,26.519601151580606,217.63174023388996,51.66277871733065,58.98914040857211,30.503104427305725,116.0397170899729,46.360480446255565,19.659090577085564,170.28237741996398,86.31913378693115,171.8534427788605,152.65746044346963,63.61664808227596,66.88972577740545,41.79092378878717,9.676565167265123,17.952835120999413,114.5295222264785,134.6885770888894,2.137631584535469,26.18156376370623,23.11810158808633,72.39766424425524,31.484221702602355,102.80580779749836,129.01702052921218,52.841627523926576,188.76111686581467,6.14844695530602,126.73914247586025,23.917583415434986,28.527094740974622,0.16573435753188304,112.21314153855997,14.448459509279056,13.06119180241626,10.984832515439086,150.61438334727993,166.7898304864866,5.006376056530096,90.75478510585273,46.98716783463862,16.63920761966331,40.82679421963501,58.285268245107595,22.07089137730454,33.41326848057832,75.58007142662636,42.23483422929226,23.937000549118753,27.82792442316824,21.14097611172156]}],                        {\"coloraxis\":{\"colorbar\":{\"title\":{\"text\":\"property_value_benefits_dollarvalue\"}},\"colorscale\":[[0.0,\"rgb(247,252,245)\"],[0.125,\"rgb(229,245,224)\"],[0.25,\"rgb(199,233,192)\"],[0.375,\"rgb(161,217,155)\"],[0.5,\"rgb(116,196,118)\"],[0.625,\"rgb(65,171,93)\"],[0.75,\"rgb(35,139,69)\"],[0.875,\"rgb(0,109,44)\"],[1.0,\"rgb(0,68,27)\"]]},\"geo\":{\"center\":{},\"domain\":{\"x\":[0.0,1.0],\"y\":[0.0,1.0]},\"fitbounds\":\"locations\",\"visible\":false},\"height\":500,\"legend\":{\"tracegroupgap\":0},\"template\":{\"data\":{\"bar\":[{\"error_x\":{\"color\":\"#2a3f5f\"},\"error_y\":{\"color\":\"#2a3f5f\"},\"marker\":{\"line\":{\"color\":\"#E5ECF6\",\"width\":0.5},\"pattern\":{\"fillmode\":\"overlay\",\"size\":10,\"solidity\":0.2}},\"type\":\"bar\"}],\"barpolar\":[{\"marker\":{\"line\":{\"color\":\"#E5ECF6\",\"width\":0.5},\"pattern\":{\"fillmode\":\"overlay\",\"size\":10,\"solidity\":0.2}},\"type\":\"barpolar\"}],\"carpet\":[{\"aaxis\":{\"endlinecolor\":\"#2a3f5f\",\"gridcolor\":\"white\",\"linecolor\":\"white\",\"minorgridcolor\":\"white\",\"startlinecolor\":\"#2a3f5f\"},\"baxis\":{\"endlinecolor\":\"#2a3f5f\",\"gridcolor\":\"white\",\"linecolor\":\"white\",\"minorgridcolor\":\"white\",\"startlinecolor\":\"#2a3f5f\"},\"type\":\"carpet\"}],\"choropleth\":[{\"colorbar\":{\"outlinewidth\":0,\"ticks\":\"\"},\"type\":\"choropleth\"}],\"contour\":[{\"colorbar\":{\"outlinewidth\":0,\"ticks\":\"\"},\"colorscale\":[[0.0,\"#0d0887\"],[0.1111111111111111,\"#46039f\"],[0.2222222222222222,\"#7201a8\"],[0.3333333333333333,\"#9c179e\"],[0.4444444444444444,\"#bd3786\"],[0.5555555555555556,\"#d8576b\"],[0.6666666666666666,\"#ed7953\"],[0.7777777777777778,\"#fb9f3a\"],[0.8888888888888888,\"#fdca26\"],[1.0,\"#f0f921\"]],\"type\":\"contour\"}],\"contourcarpet\":[{\"colorbar\":{\"outlinewidth\":0,\"ticks\":\"\"},\"type\":\"contourcarpet\"}],\"heatmap\":[{\"colorbar\":{\"outlinewidth\":0,\"ticks\":\"\"},\"colorscale\":[[0.0,\"#0d0887\"],[0.1111111111111111,\"#46039f\"],[0.2222222222222222,\"#7201a8\"],[0.3333333333333333,\"#9c179e\"],[0.4444444444444444,\"#bd3786\"],[0.5555555555555556,\"#d8576b\"],[0.6666666666666666,\"#ed7953\"],[0.7777777777777778,\"#fb9f3a\"],[0.8888888888888888,\"#fdca26\"],[1.0,\"#f0f921\"]],\"type\":\"heatmap\"}],\"heatmapgl\":[{\"colorbar\":{\"outlinewidth\":0,\"ticks\":\"\"},\"colorscale\":[[0.0,\"#0d0887\"],[0.1111111111111111,\"#46039f\"],[0.2222222222222222,\"#7201a8\"],[0.3333333333333333,\"#9c179e\"],[0.4444444444444444,\"#bd3786\"],[0.5555555555555556,\"#d8576b\"],[0.6666666666666666,\"#ed7953\"],[0.7777777777777778,\"#fb9f3a\"],[0.8888888888888888,\"#fdca26\"],[1.0,\"#f0f921\"]],\"type\":\"heatmapgl\"}],\"histogram\":[{\"marker\":{\"pattern\":{\"fillmode\":\"overlay\",\"size\":10,\"solidity\":0.2}},\"type\":\"histogram\"}],\"histogram2d\":[{\"colorbar\":{\"outlinewidth\":0,\"ticks\":\"\"},\"colorscale\":[[0.0,\"#0d0887\"],[0.1111111111111111,\"#46039f\"],[0.2222222222222222,\"#7201a8\"],[0.3333333333333333,\"#9c179e\"],[0.4444444444444444,\"#bd3786\"],[0.5555555555555556,\"#d8576b\"],[0.6666666666666666,\"#ed7953\"],[0.7777777777777778,\"#fb9f3a\"],[0.8888888888888888,\"#fdca26\"],[1.0,\"#f0f921\"]],\"type\":\"histogram2d\"}],\"histogram2dcontour\":[{\"colorbar\":{\"outlinewidth\":0,\"ticks\":\"\"},\"colorscale\":[[0.0,\"#0d0887\"],[0.1111111111111111,\"#46039f\"],[0.2222222222222222,\"#7201a8\"],[0.3333333333333333,\"#9c179e\"],[0.4444444444444444,\"#bd3786\"],[0.5555555555555556,\"#d8576b\"],[0.6666666666666666,\"#ed7953\"],[0.7777777777777778,\"#fb9f3a\"],[0.8888888888888888,\"#fdca26\"],[1.0,\"#f0f921\"]],\"type\":\"histogram2dcontour\"}],\"mesh3d\":[{\"colorbar\":{\"outlinewidth\":0,\"ticks\":\"\"},\"type\":\"mesh3d\"}],\"parcoords\":[{\"line\":{\"colorbar\":{\"outlinewidth\":0,\"ticks\":\"\"}},\"type\":\"parcoords\"}],\"pie\":[{\"automargin\":true,\"type\":\"pie\"}],\"scatter\":[{\"marker\":{\"colorbar\":{\"outlinewidth\":0,\"ticks\":\"\"}},\"type\":\"scatter\"}],\"scatter3d\":[{\"line\":{\"colorbar\":{\"outlinewidth\":0,\"ticks\":\"\"}},\"marker\":{\"colorbar\":{\"outlinewidth\":0,\"ticks\":\"\"}},\"type\":\"scatter3d\"}],\"scattercarpet\":[{\"marker\":{\"colorbar\":{\"outlinewidth\":0,\"ticks\":\"\"}},\"type\":\"scattercarpet\"}],\"scattergeo\":[{\"marker\":{\"colorbar\":{\"outlinewidth\":0,\"ticks\":\"\"}},\"type\":\"scattergeo\"}],\"scattergl\":[{\"marker\":{\"colorbar\":{\"outlinewidth\":0,\"ticks\":\"\"}},\"type\":\"scattergl\"}],\"scattermapbox\":[{\"marker\":{\"colorbar\":{\"outlinewidth\":0,\"ticks\":\"\"}},\"type\":\"scattermapbox\"}],\"scatterpolar\":[{\"marker\":{\"colorbar\":{\"outlinewidth\":0,\"ticks\":\"\"}},\"type\":\"scatterpolar\"}],\"scatterpolargl\":[{\"marker\":{\"colorbar\":{\"outlinewidth\":0,\"ticks\":\"\"}},\"type\":\"scatterpolargl\"}],\"scatterternary\":[{\"marker\":{\"colorbar\":{\"outlinewidth\":0,\"ticks\":\"\"}},\"type\":\"scatterternary\"}],\"surface\":[{\"colorbar\":{\"outlinewidth\":0,\"ticks\":\"\"},\"colorscale\":[[0.0,\"#0d0887\"],[0.1111111111111111,\"#46039f\"],[0.2222222222222222,\"#7201a8\"],[0.3333333333333333,\"#9c179e\"],[0.4444444444444444,\"#bd3786\"],[0.5555555555555556,\"#d8576b\"],[0.6666666666666666,\"#ed7953\"],[0.7777777777777778,\"#fb9f3a\"],[0.8888888888888888,\"#fdca26\"],[1.0,\"#f0f921\"]],\"type\":\"surface\"}],\"table\":[{\"cells\":{\"fill\":{\"color\":\"#EBF0F8\"},\"line\":{\"color\":\"white\"}},\"header\":{\"fill\":{\"color\":\"#C8D4E3\"},\"line\":{\"color\":\"white\"}},\"type\":\"table\"}]},\"layout\":{\"annotationdefaults\":{\"arrowcolor\":\"#2a3f5f\",\"arrowhead\":0,\"arrowwidth\":1},\"autotypenumbers\":\"strict\",\"coloraxis\":{\"colorbar\":{\"outlinewidth\":0,\"ticks\":\"\"}},\"colorscale\":{\"diverging\":[[0,\"#8e0152\"],[0.1,\"#c51b7d\"],[0.2,\"#de77ae\"],[0.3,\"#f1b6da\"],[0.4,\"#fde0ef\"],[0.5,\"#f7f7f7\"],[0.6,\"#e6f5d0\"],[0.7,\"#b8e186\"],[0.8,\"#7fbc41\"],[0.9,\"#4d9221\"],[1,\"#276419\"]],\"sequential\":[[0.0,\"#0d0887\"],[0.1111111111111111,\"#46039f\"],[0.2222222222222222,\"#7201a8\"],[0.3333333333333333,\"#9c179e\"],[0.4444444444444444,\"#bd3786\"],[0.5555555555555556,\"#d8576b\"],[0.6666666666666666,\"#ed7953\"],[0.7777777777777778,\"#fb9f3a\"],[0.8888888888888888,\"#fdca26\"],[1.0,\"#f0f921\"]],\"sequentialminus\":[[0.0,\"#0d0887\"],[0.1111111111111111,\"#46039f\"],[0.2222222222222222,\"#7201a8\"],[0.3333333333333333,\"#9c179e\"],[0.4444444444444444,\"#bd3786\"],[0.5555555555555556,\"#d8576b\"],[0.6666666666666666,\"#ed7953\"],[0.7777777777777778,\"#fb9f3a\"],[0.8888888888888888,\"#fdca26\"],[1.0,\"#f0f921\"]]},\"colorway\":[\"#636efa\",\"#EF553B\",\"#00cc96\",\"#ab63fa\",\"#FFA15A\",\"#19d3f3\",\"#FF6692\",\"#B6E880\",\"#FF97FF\",\"#FECB52\"],\"font\":{\"color\":\"#2a3f5f\"},\"geo\":{\"bgcolor\":\"white\",\"lakecolor\":\"white\",\"landcolor\":\"#E5ECF6\",\"showlakes\":true,\"showland\":true,\"subunitcolor\":\"white\"},\"hoverlabel\":{\"align\":\"left\"},\"hovermode\":\"closest\",\"mapbox\":{\"style\":\"light\"},\"paper_bgcolor\":\"white\",\"plot_bgcolor\":\"#E5ECF6\",\"polar\":{\"angularaxis\":{\"gridcolor\":\"white\",\"linecolor\":\"white\",\"ticks\":\"\"},\"bgcolor\":\"#E5ECF6\",\"radialaxis\":{\"gridcolor\":\"white\",\"linecolor\":\"white\",\"ticks\":\"\"}},\"scene\":{\"xaxis\":{\"backgroundcolor\":\"#E5ECF6\",\"gridcolor\":\"white\",\"gridwidth\":2,\"linecolor\":\"white\",\"showbackground\":true,\"ticks\":\"\",\"zerolinecolor\":\"white\"},\"yaxis\":{\"backgroundcolor\":\"#E5ECF6\",\"gridcolor\":\"white\",\"gridwidth\":2,\"linecolor\":\"white\",\"showbackground\":true,\"ticks\":\"\",\"zerolinecolor\":\"white\"},\"zaxis\":{\"backgroundcolor\":\"#E5ECF6\",\"gridcolor\":\"white\",\"gridwidth\":2,\"linecolor\":\"white\",\"showbackground\":true,\"ticks\":\"\",\"zerolinecolor\":\"white\"}},\"shapedefaults\":{\"line\":{\"color\":\"#2a3f5f\"}},\"ternary\":{\"aaxis\":{\"gridcolor\":\"white\",\"linecolor\":\"white\",\"ticks\":\"\"},\"baxis\":{\"gridcolor\":\"white\",\"linecolor\":\"white\",\"ticks\":\"\"},\"bgcolor\":\"#E5ECF6\",\"caxis\":{\"gridcolor\":\"white\",\"linecolor\":\"white\",\"ticks\":\"\"}},\"title\":{\"x\":0.05},\"xaxis\":{\"automargin\":true,\"gridcolor\":\"white\",\"linecolor\":\"white\",\"ticks\":\"\",\"title\":{\"standoff\":15},\"zerolinecolor\":\"white\",\"zerolinewidth\":2},\"yaxis\":{\"automargin\":true,\"gridcolor\":\"white\",\"linecolor\":\"white\",\"ticks\":\"\",\"title\":{\"standoff\":15},\"zerolinecolor\":\"white\",\"zerolinewidth\":2}}},\"title\":{\"text\":\"Average Property Value benefit across Neighborhoods\"}},                        {\"responsive\": true}                    ).then(function(){\n",
       "                            \n",
       "var gd = document.getElementById('62ba9028-eeaa-40c3-b5d0-f4ed62dc2664');\n",
       "var x = new MutationObserver(function (mutations, observer) {{\n",
       "        var display = window.getComputedStyle(gd).display;\n",
       "        if (!display || display === 'none') {{\n",
       "            console.log([gd, 'removed!']);\n",
       "            Plotly.purge(gd);\n",
       "            observer.disconnect();\n",
       "        }}\n",
       "}});\n",
       "\n",
       "// Listen for the removal of the full notebook cells\n",
       "var notebookContainer = gd.closest('#notebook-container');\n",
       "if (notebookContainer) {{\n",
       "    x.observe(notebookContainer, {childList: true});\n",
       "}}\n",
       "\n",
       "// Listen for the clearing of the current output cell\n",
       "var outputEl = gd.closest('.output');\n",
       "if (outputEl) {{\n",
       "    x.observe(outputEl, {childList: true});\n",
       "}}\n",
       "\n",
       "                        })                };                });            </script>        </div>"
      ]
     },
     "metadata": {},
     "output_type": "display_data"
    }
   ],
   "source": [
    "fig=px.choropleth(property_value_benefit_map,\n",
    "             geojson=\"https://raw.githubusercontent.com/blackmad/neighborhoods/master/gn-pittsburgh.geojson\",\n",
    "             featureidkey='properties.name',   \n",
    "             locations='neighborhood',        #column in dataframe\n",
    "             color='property_value_benefits_dollarvalue',\n",
    "              color_continuous_scale='greens',\n",
    "               title='Average Property Value benefit across Neighborhoods' ,  \n",
    "               height=500\n",
    "              )\n",
    "fig.update_geos(fitbounds=\"locations\", visible=False)\n",
    "fig.show()"
   ]
  },
  {
   "cell_type": "markdown",
   "id": "4867b7a2",
   "metadata": {},
   "source": [
    "**Top 5 neighborhoods with highest property value benefits**"
   ]
  },
  {
   "cell_type": "code",
   "execution_count": 772,
   "id": "6d305841",
   "metadata": {},
   "outputs": [
    {
     "data": {
      "text/html": [
       "<div>\n",
       "<style scoped>\n",
       "    .dataframe tbody tr th:only-of-type {\n",
       "        vertical-align: middle;\n",
       "    }\n",
       "\n",
       "    .dataframe tbody tr th {\n",
       "        vertical-align: top;\n",
       "    }\n",
       "\n",
       "    .dataframe thead th {\n",
       "        text-align: right;\n",
       "    }\n",
       "</style>\n",
       "<table border=\"1\" class=\"dataframe\">\n",
       "  <thead>\n",
       "    <tr style=\"text-align: right;\">\n",
       "      <th></th>\n",
       "      <th>neighborhood</th>\n",
       "      <th>property_value_benefits_dollarvalue</th>\n",
       "    </tr>\n",
       "  </thead>\n",
       "  <tbody>\n",
       "    <tr>\n",
       "      <th>0</th>\n",
       "      <td>Allegheny Center</td>\n",
       "      <td>430.303156</td>\n",
       "    </tr>\n",
       "    <tr>\n",
       "      <th>1</th>\n",
       "      <td>Allegheny West</td>\n",
       "      <td>252.741943</td>\n",
       "    </tr>\n",
       "    <tr>\n",
       "      <th>39</th>\n",
       "      <td>Highland Park</td>\n",
       "      <td>217.631740</td>\n",
       "    </tr>\n",
       "    <tr>\n",
       "      <th>65</th>\n",
       "      <td>Regent Square</td>\n",
       "      <td>188.761117</td>\n",
       "    </tr>\n",
       "    <tr>\n",
       "      <th>33</th>\n",
       "      <td>Friendship</td>\n",
       "      <td>182.771638</td>\n",
       "    </tr>\n",
       "  </tbody>\n",
       "</table>\n",
       "</div>"
      ],
      "text/plain": [
       "        neighborhood  property_value_benefits_dollarvalue\n",
       "0   Allegheny Center                           430.303156\n",
       "1     Allegheny West                           252.741943\n",
       "39     Highland Park                           217.631740\n",
       "65     Regent Square                           188.761117\n",
       "33        Friendship                           182.771638"
      ]
     },
     "execution_count": 772,
     "metadata": {},
     "output_type": "execute_result"
    }
   ],
   "source": [
    "property_value_benefit_map.sort_values('property_value_benefits_dollarvalue', ascending=False).head(5)"
   ]
  },
  {
   "cell_type": "markdown",
   "id": "90f0b616",
   "metadata": {},
   "source": [
    "**Inference:\n",
    "4 of the top 5 neighborhoods with the highest property value benefits are also in the top 5 neighborhoods with highest tree density. This exhibhits a clear positive correlation between the two**"
   ]
  },
  {
   "cell_type": "markdown",
   "id": "d13fa5fe",
   "metadata": {},
   "source": [
    "# Plot neighborhood level tree Energy (Electricity) benefits data"
   ]
  },
  {
   "cell_type": "code",
   "execution_count": 773,
   "id": "7d6c70e9",
   "metadata": {},
   "outputs": [],
   "source": [
    "energy_electricity_benefit_map = combined_data[['neighborhood', 'energy_benefits_electricity_dollar_value']].copy()\n"
   ]
  },
  {
   "cell_type": "code",
   "execution_count": 774,
   "id": "f81cc8ee",
   "metadata": {},
   "outputs": [
    {
     "data": {
      "application/vnd.plotly.v1+json": {
       "config": {
        "plotlyServerURL": "https://plot.ly"
       },
       "data": [
        {
         "coloraxis": "coloraxis",
         "featureidkey": "properties.name",
         "geo": "geo",
         "geojson": "https://raw.githubusercontent.com/blackmad/neighborhoods/master/gn-pittsburgh.geojson",
         "hovertemplate": "neighborhood=%{location}<br>energy_benefits_electricity_dollar_value=%{z}<extra></extra>",
         "locations": [
          "Allegheny Center",
          "Allegheny West",
          "Allentown",
          "Arlington",
          "Arlington Heights",
          "Banksville",
          "Bedford Dwellings",
          "Beechview",
          "Beltzhoover",
          "Bloomfield",
          "Bluff",
          "Bon Air",
          "Brighton Heights",
          "Brookline",
          "California-Kirkbride",
          "Carrick",
          "Central Business District",
          "Central Lawrenceville",
          "Central Northside",
          "Central Oakland",
          "Chartiers City",
          "Chateau",
          "Crafton Heights",
          "Crawford-Roberts",
          "Duquesne Heights",
          "East Allegheny",
          "East Carnegie",
          "East Hills",
          "East Liberty",
          "Elliott",
          "Esplen",
          "Fairywood",
          "Fineview",
          "Friendship",
          "Garfield",
          "Glen Hazel",
          "Greenfield",
          "Hays",
          "Hazelwood",
          "Highland Park",
          "Homewood North",
          "Homewood South",
          "Homewood West",
          "Knoxville",
          "Larimer",
          "Lincoln Place",
          "Lincoln-Lemington-Belmar",
          "Lower Lawrenceville",
          "Manchester",
          "Marshall-Shadeland",
          "Middle Hill",
          "Morningside",
          "Mount Washington",
          "Mt. Oliver",
          "New Homestead",
          "North Oakland",
          "North Shore",
          "Northview Heights",
          "Oakwood",
          "Overbrook",
          "Perry North",
          "Perry South",
          "Point Breeze",
          "Point Breeze North",
          "Polish Hill",
          "Regent Square",
          "Ridgemont",
          "Shadyside",
          "Sheraden",
          "South Oakland",
          "South Shore",
          "South Side Flats",
          "South Side Slopes",
          "Spring Garden",
          "Spring Hill-City View",
          "Squirrel Hill North",
          "Squirrel Hill South",
          "St. Clair",
          "Stanton Heights",
          "Strip District",
          "Summer Hill",
          "Swisshelm Park",
          "Terrace Village",
          "Troy Hill",
          "Upper Hill",
          "Upper Lawrenceville",
          "West End",
          "West Oakland",
          "Westwood",
          "Windgap"
         ],
         "name": "",
         "type": "choropleth",
         "z": [
          105.3685766484623,
          55.2841046609331,
          3.3142724284169693,
          1.6711115505363314,
          1.0934009867457917,
          8.354659653959123,
          8.00617329278752,
          5.662712303989982,
          4.297944692276719,
          19.11150544984177,
          4.764821190085217,
          3.927889724467333,
          12.018414826423575,
          6.316065375630783,
          5.625894521199059,
          6.157548675974903,
          12.393882382706918,
          4.334021532450985,
          24.02407579875058,
          23.427319689897242,
          5.904650539488336,
          6.536828384981221,
          7.302847883023308,
          16.5890880894767,
          1.4922301615117468,
          15.211840046437365,
          0.19785482665352025,
          16.329710949606532,
          20.446472648650644,
          4.414191638748652,
          0.12157372519167416,
          0.9078262616174493,
          6.573261245736102,
          28.52216322973595,
          13.162853837121789,
          0.05549788528293263,
          12.864233433655226,
          0.01544235911301687,
          4.8808116738636205,
          52.100405059469146,
          10.953953488426427,
          11.777458270471945,
          4.667137363144181,
          23.80268306693378,
          8.62912530200905,
          4.818990700286717,
          39.5435181141479,
          9.073592350533227,
          25.56856187602087,
          29.49725808391289,
          8.393213834261864,
          12.805551690573516,
          8.331179258207564,
          1.466094984548093,
          4.914405626434591,
          21.84966207619222,
          13.303789163781856,
          0.43486798736586985,
          6.882055703684952,
          5.213275750857171,
          16.5973429565078,
          6.40197768404737,
          25.482936755557365,
          29.7776242308658,
          6.29894881215577,
          45.65353721961084,
          1.3963563668102033,
          24.714340592770647,
          5.874110290632852,
          3.9817459138115683,
          0.02458113114962445,
          12.472628983709916,
          2.6521659113428844,
          1.8344897049629307,
          2.0140607229821255,
          39.547891353345484,
          38.252499101862504,
          0.8663002442253004,
          20.973573490769567,
          4.317434807607016,
          2.996203166760115,
          10.453937892200788,
          6.578413728102767,
          1.7328763670748124,
          7.446975013389196,
          9.504245639716332,
          4.365905824747823,
          2.3283026113914382,
          7.0362303650586915,
          4.984785263396189
         ]
        }
       ],
       "layout": {
        "coloraxis": {
         "colorbar": {
          "title": {
           "text": "energy_benefits_electricity_dollar_value"
          }
         },
         "colorscale": [
          [
           0,
           "rgb(247,252,245)"
          ],
          [
           0.125,
           "rgb(229,245,224)"
          ],
          [
           0.25,
           "rgb(199,233,192)"
          ],
          [
           0.375,
           "rgb(161,217,155)"
          ],
          [
           0.5,
           "rgb(116,196,118)"
          ],
          [
           0.625,
           "rgb(65,171,93)"
          ],
          [
           0.75,
           "rgb(35,139,69)"
          ],
          [
           0.875,
           "rgb(0,109,44)"
          ],
          [
           1,
           "rgb(0,68,27)"
          ]
         ]
        },
        "geo": {
         "center": {},
         "domain": {
          "x": [
           0,
           1
          ],
          "y": [
           0,
           1
          ]
         },
         "fitbounds": "locations",
         "visible": false
        },
        "height": 500,
        "legend": {
         "tracegroupgap": 0
        },
        "template": {
         "data": {
          "bar": [
           {
            "error_x": {
             "color": "#2a3f5f"
            },
            "error_y": {
             "color": "#2a3f5f"
            },
            "marker": {
             "line": {
              "color": "#E5ECF6",
              "width": 0.5
             },
             "pattern": {
              "fillmode": "overlay",
              "size": 10,
              "solidity": 0.2
             }
            },
            "type": "bar"
           }
          ],
          "barpolar": [
           {
            "marker": {
             "line": {
              "color": "#E5ECF6",
              "width": 0.5
             },
             "pattern": {
              "fillmode": "overlay",
              "size": 10,
              "solidity": 0.2
             }
            },
            "type": "barpolar"
           }
          ],
          "carpet": [
           {
            "aaxis": {
             "endlinecolor": "#2a3f5f",
             "gridcolor": "white",
             "linecolor": "white",
             "minorgridcolor": "white",
             "startlinecolor": "#2a3f5f"
            },
            "baxis": {
             "endlinecolor": "#2a3f5f",
             "gridcolor": "white",
             "linecolor": "white",
             "minorgridcolor": "white",
             "startlinecolor": "#2a3f5f"
            },
            "type": "carpet"
           }
          ],
          "choropleth": [
           {
            "colorbar": {
             "outlinewidth": 0,
             "ticks": ""
            },
            "type": "choropleth"
           }
          ],
          "contour": [
           {
            "colorbar": {
             "outlinewidth": 0,
             "ticks": ""
            },
            "colorscale": [
             [
              0,
              "#0d0887"
             ],
             [
              0.1111111111111111,
              "#46039f"
             ],
             [
              0.2222222222222222,
              "#7201a8"
             ],
             [
              0.3333333333333333,
              "#9c179e"
             ],
             [
              0.4444444444444444,
              "#bd3786"
             ],
             [
              0.5555555555555556,
              "#d8576b"
             ],
             [
              0.6666666666666666,
              "#ed7953"
             ],
             [
              0.7777777777777778,
              "#fb9f3a"
             ],
             [
              0.8888888888888888,
              "#fdca26"
             ],
             [
              1,
              "#f0f921"
             ]
            ],
            "type": "contour"
           }
          ],
          "contourcarpet": [
           {
            "colorbar": {
             "outlinewidth": 0,
             "ticks": ""
            },
            "type": "contourcarpet"
           }
          ],
          "heatmap": [
           {
            "colorbar": {
             "outlinewidth": 0,
             "ticks": ""
            },
            "colorscale": [
             [
              0,
              "#0d0887"
             ],
             [
              0.1111111111111111,
              "#46039f"
             ],
             [
              0.2222222222222222,
              "#7201a8"
             ],
             [
              0.3333333333333333,
              "#9c179e"
             ],
             [
              0.4444444444444444,
              "#bd3786"
             ],
             [
              0.5555555555555556,
              "#d8576b"
             ],
             [
              0.6666666666666666,
              "#ed7953"
             ],
             [
              0.7777777777777778,
              "#fb9f3a"
             ],
             [
              0.8888888888888888,
              "#fdca26"
             ],
             [
              1,
              "#f0f921"
             ]
            ],
            "type": "heatmap"
           }
          ],
          "heatmapgl": [
           {
            "colorbar": {
             "outlinewidth": 0,
             "ticks": ""
            },
            "colorscale": [
             [
              0,
              "#0d0887"
             ],
             [
              0.1111111111111111,
              "#46039f"
             ],
             [
              0.2222222222222222,
              "#7201a8"
             ],
             [
              0.3333333333333333,
              "#9c179e"
             ],
             [
              0.4444444444444444,
              "#bd3786"
             ],
             [
              0.5555555555555556,
              "#d8576b"
             ],
             [
              0.6666666666666666,
              "#ed7953"
             ],
             [
              0.7777777777777778,
              "#fb9f3a"
             ],
             [
              0.8888888888888888,
              "#fdca26"
             ],
             [
              1,
              "#f0f921"
             ]
            ],
            "type": "heatmapgl"
           }
          ],
          "histogram": [
           {
            "marker": {
             "pattern": {
              "fillmode": "overlay",
              "size": 10,
              "solidity": 0.2
             }
            },
            "type": "histogram"
           }
          ],
          "histogram2d": [
           {
            "colorbar": {
             "outlinewidth": 0,
             "ticks": ""
            },
            "colorscale": [
             [
              0,
              "#0d0887"
             ],
             [
              0.1111111111111111,
              "#46039f"
             ],
             [
              0.2222222222222222,
              "#7201a8"
             ],
             [
              0.3333333333333333,
              "#9c179e"
             ],
             [
              0.4444444444444444,
              "#bd3786"
             ],
             [
              0.5555555555555556,
              "#d8576b"
             ],
             [
              0.6666666666666666,
              "#ed7953"
             ],
             [
              0.7777777777777778,
              "#fb9f3a"
             ],
             [
              0.8888888888888888,
              "#fdca26"
             ],
             [
              1,
              "#f0f921"
             ]
            ],
            "type": "histogram2d"
           }
          ],
          "histogram2dcontour": [
           {
            "colorbar": {
             "outlinewidth": 0,
             "ticks": ""
            },
            "colorscale": [
             [
              0,
              "#0d0887"
             ],
             [
              0.1111111111111111,
              "#46039f"
             ],
             [
              0.2222222222222222,
              "#7201a8"
             ],
             [
              0.3333333333333333,
              "#9c179e"
             ],
             [
              0.4444444444444444,
              "#bd3786"
             ],
             [
              0.5555555555555556,
              "#d8576b"
             ],
             [
              0.6666666666666666,
              "#ed7953"
             ],
             [
              0.7777777777777778,
              "#fb9f3a"
             ],
             [
              0.8888888888888888,
              "#fdca26"
             ],
             [
              1,
              "#f0f921"
             ]
            ],
            "type": "histogram2dcontour"
           }
          ],
          "mesh3d": [
           {
            "colorbar": {
             "outlinewidth": 0,
             "ticks": ""
            },
            "type": "mesh3d"
           }
          ],
          "parcoords": [
           {
            "line": {
             "colorbar": {
              "outlinewidth": 0,
              "ticks": ""
             }
            },
            "type": "parcoords"
           }
          ],
          "pie": [
           {
            "automargin": true,
            "type": "pie"
           }
          ],
          "scatter": [
           {
            "marker": {
             "colorbar": {
              "outlinewidth": 0,
              "ticks": ""
             }
            },
            "type": "scatter"
           }
          ],
          "scatter3d": [
           {
            "line": {
             "colorbar": {
              "outlinewidth": 0,
              "ticks": ""
             }
            },
            "marker": {
             "colorbar": {
              "outlinewidth": 0,
              "ticks": ""
             }
            },
            "type": "scatter3d"
           }
          ],
          "scattercarpet": [
           {
            "marker": {
             "colorbar": {
              "outlinewidth": 0,
              "ticks": ""
             }
            },
            "type": "scattercarpet"
           }
          ],
          "scattergeo": [
           {
            "marker": {
             "colorbar": {
              "outlinewidth": 0,
              "ticks": ""
             }
            },
            "type": "scattergeo"
           }
          ],
          "scattergl": [
           {
            "marker": {
             "colorbar": {
              "outlinewidth": 0,
              "ticks": ""
             }
            },
            "type": "scattergl"
           }
          ],
          "scattermapbox": [
           {
            "marker": {
             "colorbar": {
              "outlinewidth": 0,
              "ticks": ""
             }
            },
            "type": "scattermapbox"
           }
          ],
          "scatterpolar": [
           {
            "marker": {
             "colorbar": {
              "outlinewidth": 0,
              "ticks": ""
             }
            },
            "type": "scatterpolar"
           }
          ],
          "scatterpolargl": [
           {
            "marker": {
             "colorbar": {
              "outlinewidth": 0,
              "ticks": ""
             }
            },
            "type": "scatterpolargl"
           }
          ],
          "scatterternary": [
           {
            "marker": {
             "colorbar": {
              "outlinewidth": 0,
              "ticks": ""
             }
            },
            "type": "scatterternary"
           }
          ],
          "surface": [
           {
            "colorbar": {
             "outlinewidth": 0,
             "ticks": ""
            },
            "colorscale": [
             [
              0,
              "#0d0887"
             ],
             [
              0.1111111111111111,
              "#46039f"
             ],
             [
              0.2222222222222222,
              "#7201a8"
             ],
             [
              0.3333333333333333,
              "#9c179e"
             ],
             [
              0.4444444444444444,
              "#bd3786"
             ],
             [
              0.5555555555555556,
              "#d8576b"
             ],
             [
              0.6666666666666666,
              "#ed7953"
             ],
             [
              0.7777777777777778,
              "#fb9f3a"
             ],
             [
              0.8888888888888888,
              "#fdca26"
             ],
             [
              1,
              "#f0f921"
             ]
            ],
            "type": "surface"
           }
          ],
          "table": [
           {
            "cells": {
             "fill": {
              "color": "#EBF0F8"
             },
             "line": {
              "color": "white"
             }
            },
            "header": {
             "fill": {
              "color": "#C8D4E3"
             },
             "line": {
              "color": "white"
             }
            },
            "type": "table"
           }
          ]
         },
         "layout": {
          "annotationdefaults": {
           "arrowcolor": "#2a3f5f",
           "arrowhead": 0,
           "arrowwidth": 1
          },
          "autotypenumbers": "strict",
          "coloraxis": {
           "colorbar": {
            "outlinewidth": 0,
            "ticks": ""
           }
          },
          "colorscale": {
           "diverging": [
            [
             0,
             "#8e0152"
            ],
            [
             0.1,
             "#c51b7d"
            ],
            [
             0.2,
             "#de77ae"
            ],
            [
             0.3,
             "#f1b6da"
            ],
            [
             0.4,
             "#fde0ef"
            ],
            [
             0.5,
             "#f7f7f7"
            ],
            [
             0.6,
             "#e6f5d0"
            ],
            [
             0.7,
             "#b8e186"
            ],
            [
             0.8,
             "#7fbc41"
            ],
            [
             0.9,
             "#4d9221"
            ],
            [
             1,
             "#276419"
            ]
           ],
           "sequential": [
            [
             0,
             "#0d0887"
            ],
            [
             0.1111111111111111,
             "#46039f"
            ],
            [
             0.2222222222222222,
             "#7201a8"
            ],
            [
             0.3333333333333333,
             "#9c179e"
            ],
            [
             0.4444444444444444,
             "#bd3786"
            ],
            [
             0.5555555555555556,
             "#d8576b"
            ],
            [
             0.6666666666666666,
             "#ed7953"
            ],
            [
             0.7777777777777778,
             "#fb9f3a"
            ],
            [
             0.8888888888888888,
             "#fdca26"
            ],
            [
             1,
             "#f0f921"
            ]
           ],
           "sequentialminus": [
            [
             0,
             "#0d0887"
            ],
            [
             0.1111111111111111,
             "#46039f"
            ],
            [
             0.2222222222222222,
             "#7201a8"
            ],
            [
             0.3333333333333333,
             "#9c179e"
            ],
            [
             0.4444444444444444,
             "#bd3786"
            ],
            [
             0.5555555555555556,
             "#d8576b"
            ],
            [
             0.6666666666666666,
             "#ed7953"
            ],
            [
             0.7777777777777778,
             "#fb9f3a"
            ],
            [
             0.8888888888888888,
             "#fdca26"
            ],
            [
             1,
             "#f0f921"
            ]
           ]
          },
          "colorway": [
           "#636efa",
           "#EF553B",
           "#00cc96",
           "#ab63fa",
           "#FFA15A",
           "#19d3f3",
           "#FF6692",
           "#B6E880",
           "#FF97FF",
           "#FECB52"
          ],
          "font": {
           "color": "#2a3f5f"
          },
          "geo": {
           "bgcolor": "white",
           "lakecolor": "white",
           "landcolor": "#E5ECF6",
           "showlakes": true,
           "showland": true,
           "subunitcolor": "white"
          },
          "hoverlabel": {
           "align": "left"
          },
          "hovermode": "closest",
          "mapbox": {
           "style": "light"
          },
          "paper_bgcolor": "white",
          "plot_bgcolor": "#E5ECF6",
          "polar": {
           "angularaxis": {
            "gridcolor": "white",
            "linecolor": "white",
            "ticks": ""
           },
           "bgcolor": "#E5ECF6",
           "radialaxis": {
            "gridcolor": "white",
            "linecolor": "white",
            "ticks": ""
           }
          },
          "scene": {
           "xaxis": {
            "backgroundcolor": "#E5ECF6",
            "gridcolor": "white",
            "gridwidth": 2,
            "linecolor": "white",
            "showbackground": true,
            "ticks": "",
            "zerolinecolor": "white"
           },
           "yaxis": {
            "backgroundcolor": "#E5ECF6",
            "gridcolor": "white",
            "gridwidth": 2,
            "linecolor": "white",
            "showbackground": true,
            "ticks": "",
            "zerolinecolor": "white"
           },
           "zaxis": {
            "backgroundcolor": "#E5ECF6",
            "gridcolor": "white",
            "gridwidth": 2,
            "linecolor": "white",
            "showbackground": true,
            "ticks": "",
            "zerolinecolor": "white"
           }
          },
          "shapedefaults": {
           "line": {
            "color": "#2a3f5f"
           }
          },
          "ternary": {
           "aaxis": {
            "gridcolor": "white",
            "linecolor": "white",
            "ticks": ""
           },
           "baxis": {
            "gridcolor": "white",
            "linecolor": "white",
            "ticks": ""
           },
           "bgcolor": "#E5ECF6",
           "caxis": {
            "gridcolor": "white",
            "linecolor": "white",
            "ticks": ""
           }
          },
          "title": {
           "x": 0.05
          },
          "xaxis": {
           "automargin": true,
           "gridcolor": "white",
           "linecolor": "white",
           "ticks": "",
           "title": {
            "standoff": 15
           },
           "zerolinecolor": "white",
           "zerolinewidth": 2
          },
          "yaxis": {
           "automargin": true,
           "gridcolor": "white",
           "linecolor": "white",
           "ticks": "",
           "title": {
            "standoff": 15
           },
           "zerolinecolor": "white",
           "zerolinewidth": 2
          }
         }
        },
        "title": {
         "text": "Average Energy Electricity benefit across Neighborhoods"
        }
       }
      },
      "text/html": [
       "<div>                            <div id=\"5e09a1a4-f33f-46dd-8a40-b9571611088e\" class=\"plotly-graph-div\" style=\"height:500px; width:100%;\"></div>            <script type=\"text/javascript\">                require([\"plotly\"], function(Plotly) {                    window.PLOTLYENV=window.PLOTLYENV || {};                                    if (document.getElementById(\"5e09a1a4-f33f-46dd-8a40-b9571611088e\")) {                    Plotly.newPlot(                        \"5e09a1a4-f33f-46dd-8a40-b9571611088e\",                        [{\"coloraxis\":\"coloraxis\",\"featureidkey\":\"properties.name\",\"geo\":\"geo\",\"geojson\":\"https://raw.githubusercontent.com/blackmad/neighborhoods/master/gn-pittsburgh.geojson\",\"hovertemplate\":\"neighborhood=%{location}<br>energy_benefits_electricity_dollar_value=%{z}<extra></extra>\",\"locations\":[\"Allegheny Center\",\"Allegheny West\",\"Allentown\",\"Arlington\",\"Arlington Heights\",\"Banksville\",\"Bedford Dwellings\",\"Beechview\",\"Beltzhoover\",\"Bloomfield\",\"Bluff\",\"Bon Air\",\"Brighton Heights\",\"Brookline\",\"California-Kirkbride\",\"Carrick\",\"Central Business District\",\"Central Lawrenceville\",\"Central Northside\",\"Central Oakland\",\"Chartiers City\",\"Chateau\",\"Crafton Heights\",\"Crawford-Roberts\",\"Duquesne Heights\",\"East Allegheny\",\"East Carnegie\",\"East Hills\",\"East Liberty\",\"Elliott\",\"Esplen\",\"Fairywood\",\"Fineview\",\"Friendship\",\"Garfield\",\"Glen Hazel\",\"Greenfield\",\"Hays\",\"Hazelwood\",\"Highland Park\",\"Homewood North\",\"Homewood South\",\"Homewood West\",\"Knoxville\",\"Larimer\",\"Lincoln Place\",\"Lincoln-Lemington-Belmar\",\"Lower Lawrenceville\",\"Manchester\",\"Marshall-Shadeland\",\"Middle Hill\",\"Morningside\",\"Mount Washington\",\"Mt. Oliver\",\"New Homestead\",\"North Oakland\",\"North Shore\",\"Northview Heights\",\"Oakwood\",\"Overbrook\",\"Perry North\",\"Perry South\",\"Point Breeze\",\"Point Breeze North\",\"Polish Hill\",\"Regent Square\",\"Ridgemont\",\"Shadyside\",\"Sheraden\",\"South Oakland\",\"South Shore\",\"South Side Flats\",\"South Side Slopes\",\"Spring Garden\",\"Spring Hill-City View\",\"Squirrel Hill North\",\"Squirrel Hill South\",\"St. Clair\",\"Stanton Heights\",\"Strip District\",\"Summer Hill\",\"Swisshelm Park\",\"Terrace Village\",\"Troy Hill\",\"Upper Hill\",\"Upper Lawrenceville\",\"West End\",\"West Oakland\",\"Westwood\",\"Windgap\"],\"name\":\"\",\"type\":\"choropleth\",\"z\":[105.3685766484623,55.2841046609331,3.3142724284169693,1.6711115505363314,1.0934009867457917,8.354659653959123,8.00617329278752,5.662712303989982,4.297944692276719,19.11150544984177,4.764821190085217,3.927889724467333,12.018414826423575,6.316065375630783,5.625894521199059,6.157548675974903,12.393882382706918,4.334021532450985,24.02407579875058,23.427319689897242,5.904650539488336,6.536828384981221,7.302847883023308,16.5890880894767,1.4922301615117468,15.211840046437365,0.19785482665352025,16.329710949606532,20.446472648650644,4.414191638748652,0.12157372519167416,0.9078262616174493,6.573261245736102,28.52216322973595,13.162853837121789,0.05549788528293263,12.864233433655226,0.01544235911301687,4.8808116738636205,52.100405059469146,10.953953488426427,11.777458270471945,4.667137363144181,23.80268306693378,8.62912530200905,4.818990700286717,39.5435181141479,9.073592350533227,25.56856187602087,29.49725808391289,8.393213834261864,12.805551690573516,8.331179258207564,1.466094984548093,4.914405626434591,21.84966207619222,13.303789163781856,0.43486798736586985,6.882055703684952,5.213275750857171,16.5973429565078,6.40197768404737,25.482936755557365,29.7776242308658,6.29894881215577,45.65353721961084,1.3963563668102033,24.714340592770647,5.874110290632852,3.9817459138115683,0.02458113114962445,12.472628983709916,2.6521659113428844,1.8344897049629307,2.0140607229821255,39.547891353345484,38.252499101862504,0.8663002442253004,20.973573490769567,4.317434807607016,2.996203166760115,10.453937892200788,6.578413728102767,1.7328763670748124,7.446975013389196,9.504245639716332,4.365905824747823,2.3283026113914382,7.0362303650586915,4.984785263396189]}],                        {\"coloraxis\":{\"colorbar\":{\"title\":{\"text\":\"energy_benefits_electricity_dollar_value\"}},\"colorscale\":[[0.0,\"rgb(247,252,245)\"],[0.125,\"rgb(229,245,224)\"],[0.25,\"rgb(199,233,192)\"],[0.375,\"rgb(161,217,155)\"],[0.5,\"rgb(116,196,118)\"],[0.625,\"rgb(65,171,93)\"],[0.75,\"rgb(35,139,69)\"],[0.875,\"rgb(0,109,44)\"],[1.0,\"rgb(0,68,27)\"]]},\"geo\":{\"center\":{},\"domain\":{\"x\":[0.0,1.0],\"y\":[0.0,1.0]},\"fitbounds\":\"locations\",\"visible\":false},\"height\":500,\"legend\":{\"tracegroupgap\":0},\"template\":{\"data\":{\"bar\":[{\"error_x\":{\"color\":\"#2a3f5f\"},\"error_y\":{\"color\":\"#2a3f5f\"},\"marker\":{\"line\":{\"color\":\"#E5ECF6\",\"width\":0.5},\"pattern\":{\"fillmode\":\"overlay\",\"size\":10,\"solidity\":0.2}},\"type\":\"bar\"}],\"barpolar\":[{\"marker\":{\"line\":{\"color\":\"#E5ECF6\",\"width\":0.5},\"pattern\":{\"fillmode\":\"overlay\",\"size\":10,\"solidity\":0.2}},\"type\":\"barpolar\"}],\"carpet\":[{\"aaxis\":{\"endlinecolor\":\"#2a3f5f\",\"gridcolor\":\"white\",\"linecolor\":\"white\",\"minorgridcolor\":\"white\",\"startlinecolor\":\"#2a3f5f\"},\"baxis\":{\"endlinecolor\":\"#2a3f5f\",\"gridcolor\":\"white\",\"linecolor\":\"white\",\"minorgridcolor\":\"white\",\"startlinecolor\":\"#2a3f5f\"},\"type\":\"carpet\"}],\"choropleth\":[{\"colorbar\":{\"outlinewidth\":0,\"ticks\":\"\"},\"type\":\"choropleth\"}],\"contour\":[{\"colorbar\":{\"outlinewidth\":0,\"ticks\":\"\"},\"colorscale\":[[0.0,\"#0d0887\"],[0.1111111111111111,\"#46039f\"],[0.2222222222222222,\"#7201a8\"],[0.3333333333333333,\"#9c179e\"],[0.4444444444444444,\"#bd3786\"],[0.5555555555555556,\"#d8576b\"],[0.6666666666666666,\"#ed7953\"],[0.7777777777777778,\"#fb9f3a\"],[0.8888888888888888,\"#fdca26\"],[1.0,\"#f0f921\"]],\"type\":\"contour\"}],\"contourcarpet\":[{\"colorbar\":{\"outlinewidth\":0,\"ticks\":\"\"},\"type\":\"contourcarpet\"}],\"heatmap\":[{\"colorbar\":{\"outlinewidth\":0,\"ticks\":\"\"},\"colorscale\":[[0.0,\"#0d0887\"],[0.1111111111111111,\"#46039f\"],[0.2222222222222222,\"#7201a8\"],[0.3333333333333333,\"#9c179e\"],[0.4444444444444444,\"#bd3786\"],[0.5555555555555556,\"#d8576b\"],[0.6666666666666666,\"#ed7953\"],[0.7777777777777778,\"#fb9f3a\"],[0.8888888888888888,\"#fdca26\"],[1.0,\"#f0f921\"]],\"type\":\"heatmap\"}],\"heatmapgl\":[{\"colorbar\":{\"outlinewidth\":0,\"ticks\":\"\"},\"colorscale\":[[0.0,\"#0d0887\"],[0.1111111111111111,\"#46039f\"],[0.2222222222222222,\"#7201a8\"],[0.3333333333333333,\"#9c179e\"],[0.4444444444444444,\"#bd3786\"],[0.5555555555555556,\"#d8576b\"],[0.6666666666666666,\"#ed7953\"],[0.7777777777777778,\"#fb9f3a\"],[0.8888888888888888,\"#fdca26\"],[1.0,\"#f0f921\"]],\"type\":\"heatmapgl\"}],\"histogram\":[{\"marker\":{\"pattern\":{\"fillmode\":\"overlay\",\"size\":10,\"solidity\":0.2}},\"type\":\"histogram\"}],\"histogram2d\":[{\"colorbar\":{\"outlinewidth\":0,\"ticks\":\"\"},\"colorscale\":[[0.0,\"#0d0887\"],[0.1111111111111111,\"#46039f\"],[0.2222222222222222,\"#7201a8\"],[0.3333333333333333,\"#9c179e\"],[0.4444444444444444,\"#bd3786\"],[0.5555555555555556,\"#d8576b\"],[0.6666666666666666,\"#ed7953\"],[0.7777777777777778,\"#fb9f3a\"],[0.8888888888888888,\"#fdca26\"],[1.0,\"#f0f921\"]],\"type\":\"histogram2d\"}],\"histogram2dcontour\":[{\"colorbar\":{\"outlinewidth\":0,\"ticks\":\"\"},\"colorscale\":[[0.0,\"#0d0887\"],[0.1111111111111111,\"#46039f\"],[0.2222222222222222,\"#7201a8\"],[0.3333333333333333,\"#9c179e\"],[0.4444444444444444,\"#bd3786\"],[0.5555555555555556,\"#d8576b\"],[0.6666666666666666,\"#ed7953\"],[0.7777777777777778,\"#fb9f3a\"],[0.8888888888888888,\"#fdca26\"],[1.0,\"#f0f921\"]],\"type\":\"histogram2dcontour\"}],\"mesh3d\":[{\"colorbar\":{\"outlinewidth\":0,\"ticks\":\"\"},\"type\":\"mesh3d\"}],\"parcoords\":[{\"line\":{\"colorbar\":{\"outlinewidth\":0,\"ticks\":\"\"}},\"type\":\"parcoords\"}],\"pie\":[{\"automargin\":true,\"type\":\"pie\"}],\"scatter\":[{\"marker\":{\"colorbar\":{\"outlinewidth\":0,\"ticks\":\"\"}},\"type\":\"scatter\"}],\"scatter3d\":[{\"line\":{\"colorbar\":{\"outlinewidth\":0,\"ticks\":\"\"}},\"marker\":{\"colorbar\":{\"outlinewidth\":0,\"ticks\":\"\"}},\"type\":\"scatter3d\"}],\"scattercarpet\":[{\"marker\":{\"colorbar\":{\"outlinewidth\":0,\"ticks\":\"\"}},\"type\":\"scattercarpet\"}],\"scattergeo\":[{\"marker\":{\"colorbar\":{\"outlinewidth\":0,\"ticks\":\"\"}},\"type\":\"scattergeo\"}],\"scattergl\":[{\"marker\":{\"colorbar\":{\"outlinewidth\":0,\"ticks\":\"\"}},\"type\":\"scattergl\"}],\"scattermapbox\":[{\"marker\":{\"colorbar\":{\"outlinewidth\":0,\"ticks\":\"\"}},\"type\":\"scattermapbox\"}],\"scatterpolar\":[{\"marker\":{\"colorbar\":{\"outlinewidth\":0,\"ticks\":\"\"}},\"type\":\"scatterpolar\"}],\"scatterpolargl\":[{\"marker\":{\"colorbar\":{\"outlinewidth\":0,\"ticks\":\"\"}},\"type\":\"scatterpolargl\"}],\"scatterternary\":[{\"marker\":{\"colorbar\":{\"outlinewidth\":0,\"ticks\":\"\"}},\"type\":\"scatterternary\"}],\"surface\":[{\"colorbar\":{\"outlinewidth\":0,\"ticks\":\"\"},\"colorscale\":[[0.0,\"#0d0887\"],[0.1111111111111111,\"#46039f\"],[0.2222222222222222,\"#7201a8\"],[0.3333333333333333,\"#9c179e\"],[0.4444444444444444,\"#bd3786\"],[0.5555555555555556,\"#d8576b\"],[0.6666666666666666,\"#ed7953\"],[0.7777777777777778,\"#fb9f3a\"],[0.8888888888888888,\"#fdca26\"],[1.0,\"#f0f921\"]],\"type\":\"surface\"}],\"table\":[{\"cells\":{\"fill\":{\"color\":\"#EBF0F8\"},\"line\":{\"color\":\"white\"}},\"header\":{\"fill\":{\"color\":\"#C8D4E3\"},\"line\":{\"color\":\"white\"}},\"type\":\"table\"}]},\"layout\":{\"annotationdefaults\":{\"arrowcolor\":\"#2a3f5f\",\"arrowhead\":0,\"arrowwidth\":1},\"autotypenumbers\":\"strict\",\"coloraxis\":{\"colorbar\":{\"outlinewidth\":0,\"ticks\":\"\"}},\"colorscale\":{\"diverging\":[[0,\"#8e0152\"],[0.1,\"#c51b7d\"],[0.2,\"#de77ae\"],[0.3,\"#f1b6da\"],[0.4,\"#fde0ef\"],[0.5,\"#f7f7f7\"],[0.6,\"#e6f5d0\"],[0.7,\"#b8e186\"],[0.8,\"#7fbc41\"],[0.9,\"#4d9221\"],[1,\"#276419\"]],\"sequential\":[[0.0,\"#0d0887\"],[0.1111111111111111,\"#46039f\"],[0.2222222222222222,\"#7201a8\"],[0.3333333333333333,\"#9c179e\"],[0.4444444444444444,\"#bd3786\"],[0.5555555555555556,\"#d8576b\"],[0.6666666666666666,\"#ed7953\"],[0.7777777777777778,\"#fb9f3a\"],[0.8888888888888888,\"#fdca26\"],[1.0,\"#f0f921\"]],\"sequentialminus\":[[0.0,\"#0d0887\"],[0.1111111111111111,\"#46039f\"],[0.2222222222222222,\"#7201a8\"],[0.3333333333333333,\"#9c179e\"],[0.4444444444444444,\"#bd3786\"],[0.5555555555555556,\"#d8576b\"],[0.6666666666666666,\"#ed7953\"],[0.7777777777777778,\"#fb9f3a\"],[0.8888888888888888,\"#fdca26\"],[1.0,\"#f0f921\"]]},\"colorway\":[\"#636efa\",\"#EF553B\",\"#00cc96\",\"#ab63fa\",\"#FFA15A\",\"#19d3f3\",\"#FF6692\",\"#B6E880\",\"#FF97FF\",\"#FECB52\"],\"font\":{\"color\":\"#2a3f5f\"},\"geo\":{\"bgcolor\":\"white\",\"lakecolor\":\"white\",\"landcolor\":\"#E5ECF6\",\"showlakes\":true,\"showland\":true,\"subunitcolor\":\"white\"},\"hoverlabel\":{\"align\":\"left\"},\"hovermode\":\"closest\",\"mapbox\":{\"style\":\"light\"},\"paper_bgcolor\":\"white\",\"plot_bgcolor\":\"#E5ECF6\",\"polar\":{\"angularaxis\":{\"gridcolor\":\"white\",\"linecolor\":\"white\",\"ticks\":\"\"},\"bgcolor\":\"#E5ECF6\",\"radialaxis\":{\"gridcolor\":\"white\",\"linecolor\":\"white\",\"ticks\":\"\"}},\"scene\":{\"xaxis\":{\"backgroundcolor\":\"#E5ECF6\",\"gridcolor\":\"white\",\"gridwidth\":2,\"linecolor\":\"white\",\"showbackground\":true,\"ticks\":\"\",\"zerolinecolor\":\"white\"},\"yaxis\":{\"backgroundcolor\":\"#E5ECF6\",\"gridcolor\":\"white\",\"gridwidth\":2,\"linecolor\":\"white\",\"showbackground\":true,\"ticks\":\"\",\"zerolinecolor\":\"white\"},\"zaxis\":{\"backgroundcolor\":\"#E5ECF6\",\"gridcolor\":\"white\",\"gridwidth\":2,\"linecolor\":\"white\",\"showbackground\":true,\"ticks\":\"\",\"zerolinecolor\":\"white\"}},\"shapedefaults\":{\"line\":{\"color\":\"#2a3f5f\"}},\"ternary\":{\"aaxis\":{\"gridcolor\":\"white\",\"linecolor\":\"white\",\"ticks\":\"\"},\"baxis\":{\"gridcolor\":\"white\",\"linecolor\":\"white\",\"ticks\":\"\"},\"bgcolor\":\"#E5ECF6\",\"caxis\":{\"gridcolor\":\"white\",\"linecolor\":\"white\",\"ticks\":\"\"}},\"title\":{\"x\":0.05},\"xaxis\":{\"automargin\":true,\"gridcolor\":\"white\",\"linecolor\":\"white\",\"ticks\":\"\",\"title\":{\"standoff\":15},\"zerolinecolor\":\"white\",\"zerolinewidth\":2},\"yaxis\":{\"automargin\":true,\"gridcolor\":\"white\",\"linecolor\":\"white\",\"ticks\":\"\",\"title\":{\"standoff\":15},\"zerolinecolor\":\"white\",\"zerolinewidth\":2}}},\"title\":{\"text\":\"Average Energy Electricity benefit across Neighborhoods\"}},                        {\"responsive\": true}                    ).then(function(){\n",
       "                            \n",
       "var gd = document.getElementById('5e09a1a4-f33f-46dd-8a40-b9571611088e');\n",
       "var x = new MutationObserver(function (mutations, observer) {{\n",
       "        var display = window.getComputedStyle(gd).display;\n",
       "        if (!display || display === 'none') {{\n",
       "            console.log([gd, 'removed!']);\n",
       "            Plotly.purge(gd);\n",
       "            observer.disconnect();\n",
       "        }}\n",
       "}});\n",
       "\n",
       "// Listen for the removal of the full notebook cells\n",
       "var notebookContainer = gd.closest('#notebook-container');\n",
       "if (notebookContainer) {{\n",
       "    x.observe(notebookContainer, {childList: true});\n",
       "}}\n",
       "\n",
       "// Listen for the clearing of the current output cell\n",
       "var outputEl = gd.closest('.output');\n",
       "if (outputEl) {{\n",
       "    x.observe(outputEl, {childList: true});\n",
       "}}\n",
       "\n",
       "                        })                };                });            </script>        </div>"
      ]
     },
     "metadata": {},
     "output_type": "display_data"
    }
   ],
   "source": [
    "fig=px.choropleth(energy_electricity_benefit_map,\n",
    "             geojson=\"https://raw.githubusercontent.com/blackmad/neighborhoods/master/gn-pittsburgh.geojson\",\n",
    "             featureidkey='properties.name',   \n",
    "             locations='neighborhood',        #column in dataframe\n",
    "             color='energy_benefits_electricity_dollar_value',\n",
    "              color_continuous_scale='greens',\n",
    "               title='Average Energy Electricity benefit across Neighborhoods' ,  \n",
    "               height=500\n",
    "              )\n",
    "fig.update_geos(fitbounds=\"locations\", visible=False)\n",
    "fig.show()"
   ]
  },
  {
   "cell_type": "markdown",
   "id": "d1c25d7a",
   "metadata": {},
   "source": [
    "**Top 5 neighborhoods with highest energy (electricity) benefits**"
   ]
  },
  {
   "cell_type": "code",
   "execution_count": 775,
   "id": "d049473c",
   "metadata": {},
   "outputs": [
    {
     "data": {
      "text/html": [
       "<div>\n",
       "<style scoped>\n",
       "    .dataframe tbody tr th:only-of-type {\n",
       "        vertical-align: middle;\n",
       "    }\n",
       "\n",
       "    .dataframe tbody tr th {\n",
       "        vertical-align: top;\n",
       "    }\n",
       "\n",
       "    .dataframe thead th {\n",
       "        text-align: right;\n",
       "    }\n",
       "</style>\n",
       "<table border=\"1\" class=\"dataframe\">\n",
       "  <thead>\n",
       "    <tr style=\"text-align: right;\">\n",
       "      <th></th>\n",
       "      <th>neighborhood</th>\n",
       "      <th>energy_benefits_electricity_dollar_value</th>\n",
       "    </tr>\n",
       "  </thead>\n",
       "  <tbody>\n",
       "    <tr>\n",
       "      <th>0</th>\n",
       "      <td>Allegheny Center</td>\n",
       "      <td>105.368577</td>\n",
       "    </tr>\n",
       "    <tr>\n",
       "      <th>1</th>\n",
       "      <td>Allegheny West</td>\n",
       "      <td>55.284105</td>\n",
       "    </tr>\n",
       "    <tr>\n",
       "      <th>39</th>\n",
       "      <td>Highland Park</td>\n",
       "      <td>52.100405</td>\n",
       "    </tr>\n",
       "    <tr>\n",
       "      <th>65</th>\n",
       "      <td>Regent Square</td>\n",
       "      <td>45.653537</td>\n",
       "    </tr>\n",
       "    <tr>\n",
       "      <th>75</th>\n",
       "      <td>Squirrel Hill North</td>\n",
       "      <td>39.547891</td>\n",
       "    </tr>\n",
       "  </tbody>\n",
       "</table>\n",
       "</div>"
      ],
      "text/plain": [
       "           neighborhood  energy_benefits_electricity_dollar_value\n",
       "0      Allegheny Center                                105.368577\n",
       "1        Allegheny West                                 55.284105\n",
       "39        Highland Park                                 52.100405\n",
       "65        Regent Square                                 45.653537\n",
       "75  Squirrel Hill North                                 39.547891"
      ]
     },
     "execution_count": 775,
     "metadata": {},
     "output_type": "execute_result"
    }
   ],
   "source": [
    "energy_electricity_benefit_map.sort_values('energy_benefits_electricity_dollar_value', ascending=False).head(5)"
   ]
  },
  {
   "cell_type": "markdown",
   "id": "00fb3bf4",
   "metadata": {},
   "source": [
    "**Inference:\n",
    "3 of the top 5 neighborhoods with the highest energy (electricity) benefits are also in the top 5 neighborhoods with highest tree density. This exhibhits a clear positive correlation between the two**"
   ]
  },
  {
   "cell_type": "markdown",
   "id": "c5f2397c",
   "metadata": {},
   "source": [
    "# Plot neighborhood level tree Energy (Gas) benefits data"
   ]
  },
  {
   "cell_type": "code",
   "execution_count": 776,
   "id": "2280ddb0",
   "metadata": {},
   "outputs": [],
   "source": [
    "energy_gas_benefit_map = combined_data[['neighborhood', 'energy_benefits_gas_dollar_value']].copy()\n"
   ]
  },
  {
   "cell_type": "code",
   "execution_count": 777,
   "id": "3071b122",
   "metadata": {},
   "outputs": [
    {
     "data": {
      "application/vnd.plotly.v1+json": {
       "config": {
        "plotlyServerURL": "https://plot.ly"
       },
       "data": [
        {
         "coloraxis": "coloraxis",
         "featureidkey": "properties.name",
         "geo": "geo",
         "geojson": "https://raw.githubusercontent.com/blackmad/neighborhoods/master/gn-pittsburgh.geojson",
         "hovertemplate": "neighborhood=%{location}<br>energy_benefits_gas_dollar_value=%{z}<extra></extra>",
         "locations": [
          "Allegheny Center",
          "Allegheny West",
          "Allentown",
          "Arlington",
          "Arlington Heights",
          "Banksville",
          "Bedford Dwellings",
          "Beechview",
          "Beltzhoover",
          "Bloomfield",
          "Bluff",
          "Bon Air",
          "Brighton Heights",
          "Brookline",
          "California-Kirkbride",
          "Carrick",
          "Central Business District",
          "Central Lawrenceville",
          "Central Northside",
          "Central Oakland",
          "Chartiers City",
          "Chateau",
          "Crafton Heights",
          "Crawford-Roberts",
          "Duquesne Heights",
          "East Allegheny",
          "East Carnegie",
          "East Hills",
          "East Liberty",
          "Elliott",
          "Esplen",
          "Fairywood",
          "Fineview",
          "Friendship",
          "Garfield",
          "Glen Hazel",
          "Greenfield",
          "Hays",
          "Hazelwood",
          "Highland Park",
          "Homewood North",
          "Homewood South",
          "Homewood West",
          "Knoxville",
          "Larimer",
          "Lincoln Place",
          "Lincoln-Lemington-Belmar",
          "Lower Lawrenceville",
          "Manchester",
          "Marshall-Shadeland",
          "Middle Hill",
          "Morningside",
          "Mount Washington",
          "Mt. Oliver",
          "New Homestead",
          "North Oakland",
          "North Shore",
          "Northview Heights",
          "Oakwood",
          "Overbrook",
          "Perry North",
          "Perry South",
          "Point Breeze",
          "Point Breeze North",
          "Polish Hill",
          "Regent Square",
          "Ridgemont",
          "Shadyside",
          "Sheraden",
          "South Oakland",
          "South Shore",
          "South Side Flats",
          "South Side Slopes",
          "Spring Garden",
          "Spring Hill-City View",
          "Squirrel Hill North",
          "Squirrel Hill South",
          "St. Clair",
          "Stanton Heights",
          "Strip District",
          "Summer Hill",
          "Swisshelm Park",
          "Terrace Village",
          "Troy Hill",
          "Upper Hill",
          "Upper Lawrenceville",
          "West End",
          "West Oakland",
          "Westwood",
          "Windgap"
         ],
         "name": "",
         "type": "choropleth",
         "z": [
          359.9362221404878,
          190.0938033554614,
          12.147347158620462,
          6.510846796084487,
          3.8279163853591363,
          29.335521576314328,
          30.70547050587975,
          20.572198780388998,
          16.09713540158565,
          72.26790987949776,
          19.171176134268443,
          13.997393320758915,
          43.64811186941532,
          22.698542959154086,
          20.822654915607114,
          21.958381547056863,
          51.27426564900269,
          17.900428425020547,
          92.1218777995395,
          83.62296680018729,
          18.67856528987217,
          26.05259890112446,
          25.85102207362944,
          62.69973845186582,
          5.535352155249039,
          58.77652998097032,
          0.714532290810414,
          58.5452917877115,
          78.98969740488025,
          15.910090899784194,
          0.46245495790609414,
          3.084427345126264,
          23.622593095691816,
          112.25556472360083,
          48.4840308340634,
          0.2271396203266063,
          45.48499925977281,
          0.05258728570500711,
          17.548201463252287,
          180.97879368707387,
          40.243982082102605,
          43.058486236155815,
          16.88286781725518,
          80.70264540936014,
          31.186128438852258,
          16.721379602400035,
          137.90123653998137,
          35.01166308647811,
          95.08473897923598,
          103.4555939094051,
          33.52908647208044,
          46.866852969550735,
          31.16122668322431,
          5.196647372902033,
          17.360606265020937,
          78.67203043388946,
          57.616195584037975,
          1.566672553212475,
          25.57458767079642,
          17.42248345196917,
          58.96359598663057,
          22.671136812199126,
          88.26997368264355,
          106.69377041362624,
          25.382810920031506,
          161.49868752529804,
          4.777440733190155,
          89.36402055170207,
          21.617458080285854,
          14.867663624573066,
          0.10881232030748672,
          50.472984868822195,
          10.027004026390374,
          7.2701281674971945,
          7.759568985256917,
          135.08440719794532,
          133.72493654403377,
          3.088547761284592,
          72.92200508760216,
          18.613808662001947,
          10.562766079325945,
          33.87677995832936,
          27.255710450629856,
          7.676770541898785,
          26.58568340419333,
          36.169639764757854,
          16.91257907486066,
          9.490513184941314,
          23.6853758239579,
          17.650927660996672
         ]
        }
       ],
       "layout": {
        "coloraxis": {
         "colorbar": {
          "title": {
           "text": "energy_benefits_gas_dollar_value"
          }
         },
         "colorscale": [
          [
           0,
           "rgb(247,252,245)"
          ],
          [
           0.125,
           "rgb(229,245,224)"
          ],
          [
           0.25,
           "rgb(199,233,192)"
          ],
          [
           0.375,
           "rgb(161,217,155)"
          ],
          [
           0.5,
           "rgb(116,196,118)"
          ],
          [
           0.625,
           "rgb(65,171,93)"
          ],
          [
           0.75,
           "rgb(35,139,69)"
          ],
          [
           0.875,
           "rgb(0,109,44)"
          ],
          [
           1,
           "rgb(0,68,27)"
          ]
         ]
        },
        "geo": {
         "center": {},
         "domain": {
          "x": [
           0,
           1
          ],
          "y": [
           0,
           1
          ]
         },
         "fitbounds": "locations",
         "visible": false
        },
        "height": 500,
        "legend": {
         "tracegroupgap": 0
        },
        "template": {
         "data": {
          "bar": [
           {
            "error_x": {
             "color": "#2a3f5f"
            },
            "error_y": {
             "color": "#2a3f5f"
            },
            "marker": {
             "line": {
              "color": "#E5ECF6",
              "width": 0.5
             },
             "pattern": {
              "fillmode": "overlay",
              "size": 10,
              "solidity": 0.2
             }
            },
            "type": "bar"
           }
          ],
          "barpolar": [
           {
            "marker": {
             "line": {
              "color": "#E5ECF6",
              "width": 0.5
             },
             "pattern": {
              "fillmode": "overlay",
              "size": 10,
              "solidity": 0.2
             }
            },
            "type": "barpolar"
           }
          ],
          "carpet": [
           {
            "aaxis": {
             "endlinecolor": "#2a3f5f",
             "gridcolor": "white",
             "linecolor": "white",
             "minorgridcolor": "white",
             "startlinecolor": "#2a3f5f"
            },
            "baxis": {
             "endlinecolor": "#2a3f5f",
             "gridcolor": "white",
             "linecolor": "white",
             "minorgridcolor": "white",
             "startlinecolor": "#2a3f5f"
            },
            "type": "carpet"
           }
          ],
          "choropleth": [
           {
            "colorbar": {
             "outlinewidth": 0,
             "ticks": ""
            },
            "type": "choropleth"
           }
          ],
          "contour": [
           {
            "colorbar": {
             "outlinewidth": 0,
             "ticks": ""
            },
            "colorscale": [
             [
              0,
              "#0d0887"
             ],
             [
              0.1111111111111111,
              "#46039f"
             ],
             [
              0.2222222222222222,
              "#7201a8"
             ],
             [
              0.3333333333333333,
              "#9c179e"
             ],
             [
              0.4444444444444444,
              "#bd3786"
             ],
             [
              0.5555555555555556,
              "#d8576b"
             ],
             [
              0.6666666666666666,
              "#ed7953"
             ],
             [
              0.7777777777777778,
              "#fb9f3a"
             ],
             [
              0.8888888888888888,
              "#fdca26"
             ],
             [
              1,
              "#f0f921"
             ]
            ],
            "type": "contour"
           }
          ],
          "contourcarpet": [
           {
            "colorbar": {
             "outlinewidth": 0,
             "ticks": ""
            },
            "type": "contourcarpet"
           }
          ],
          "heatmap": [
           {
            "colorbar": {
             "outlinewidth": 0,
             "ticks": ""
            },
            "colorscale": [
             [
              0,
              "#0d0887"
             ],
             [
              0.1111111111111111,
              "#46039f"
             ],
             [
              0.2222222222222222,
              "#7201a8"
             ],
             [
              0.3333333333333333,
              "#9c179e"
             ],
             [
              0.4444444444444444,
              "#bd3786"
             ],
             [
              0.5555555555555556,
              "#d8576b"
             ],
             [
              0.6666666666666666,
              "#ed7953"
             ],
             [
              0.7777777777777778,
              "#fb9f3a"
             ],
             [
              0.8888888888888888,
              "#fdca26"
             ],
             [
              1,
              "#f0f921"
             ]
            ],
            "type": "heatmap"
           }
          ],
          "heatmapgl": [
           {
            "colorbar": {
             "outlinewidth": 0,
             "ticks": ""
            },
            "colorscale": [
             [
              0,
              "#0d0887"
             ],
             [
              0.1111111111111111,
              "#46039f"
             ],
             [
              0.2222222222222222,
              "#7201a8"
             ],
             [
              0.3333333333333333,
              "#9c179e"
             ],
             [
              0.4444444444444444,
              "#bd3786"
             ],
             [
              0.5555555555555556,
              "#d8576b"
             ],
             [
              0.6666666666666666,
              "#ed7953"
             ],
             [
              0.7777777777777778,
              "#fb9f3a"
             ],
             [
              0.8888888888888888,
              "#fdca26"
             ],
             [
              1,
              "#f0f921"
             ]
            ],
            "type": "heatmapgl"
           }
          ],
          "histogram": [
           {
            "marker": {
             "pattern": {
              "fillmode": "overlay",
              "size": 10,
              "solidity": 0.2
             }
            },
            "type": "histogram"
           }
          ],
          "histogram2d": [
           {
            "colorbar": {
             "outlinewidth": 0,
             "ticks": ""
            },
            "colorscale": [
             [
              0,
              "#0d0887"
             ],
             [
              0.1111111111111111,
              "#46039f"
             ],
             [
              0.2222222222222222,
              "#7201a8"
             ],
             [
              0.3333333333333333,
              "#9c179e"
             ],
             [
              0.4444444444444444,
              "#bd3786"
             ],
             [
              0.5555555555555556,
              "#d8576b"
             ],
             [
              0.6666666666666666,
              "#ed7953"
             ],
             [
              0.7777777777777778,
              "#fb9f3a"
             ],
             [
              0.8888888888888888,
              "#fdca26"
             ],
             [
              1,
              "#f0f921"
             ]
            ],
            "type": "histogram2d"
           }
          ],
          "histogram2dcontour": [
           {
            "colorbar": {
             "outlinewidth": 0,
             "ticks": ""
            },
            "colorscale": [
             [
              0,
              "#0d0887"
             ],
             [
              0.1111111111111111,
              "#46039f"
             ],
             [
              0.2222222222222222,
              "#7201a8"
             ],
             [
              0.3333333333333333,
              "#9c179e"
             ],
             [
              0.4444444444444444,
              "#bd3786"
             ],
             [
              0.5555555555555556,
              "#d8576b"
             ],
             [
              0.6666666666666666,
              "#ed7953"
             ],
             [
              0.7777777777777778,
              "#fb9f3a"
             ],
             [
              0.8888888888888888,
              "#fdca26"
             ],
             [
              1,
              "#f0f921"
             ]
            ],
            "type": "histogram2dcontour"
           }
          ],
          "mesh3d": [
           {
            "colorbar": {
             "outlinewidth": 0,
             "ticks": ""
            },
            "type": "mesh3d"
           }
          ],
          "parcoords": [
           {
            "line": {
             "colorbar": {
              "outlinewidth": 0,
              "ticks": ""
             }
            },
            "type": "parcoords"
           }
          ],
          "pie": [
           {
            "automargin": true,
            "type": "pie"
           }
          ],
          "scatter": [
           {
            "marker": {
             "colorbar": {
              "outlinewidth": 0,
              "ticks": ""
             }
            },
            "type": "scatter"
           }
          ],
          "scatter3d": [
           {
            "line": {
             "colorbar": {
              "outlinewidth": 0,
              "ticks": ""
             }
            },
            "marker": {
             "colorbar": {
              "outlinewidth": 0,
              "ticks": ""
             }
            },
            "type": "scatter3d"
           }
          ],
          "scattercarpet": [
           {
            "marker": {
             "colorbar": {
              "outlinewidth": 0,
              "ticks": ""
             }
            },
            "type": "scattercarpet"
           }
          ],
          "scattergeo": [
           {
            "marker": {
             "colorbar": {
              "outlinewidth": 0,
              "ticks": ""
             }
            },
            "type": "scattergeo"
           }
          ],
          "scattergl": [
           {
            "marker": {
             "colorbar": {
              "outlinewidth": 0,
              "ticks": ""
             }
            },
            "type": "scattergl"
           }
          ],
          "scattermapbox": [
           {
            "marker": {
             "colorbar": {
              "outlinewidth": 0,
              "ticks": ""
             }
            },
            "type": "scattermapbox"
           }
          ],
          "scatterpolar": [
           {
            "marker": {
             "colorbar": {
              "outlinewidth": 0,
              "ticks": ""
             }
            },
            "type": "scatterpolar"
           }
          ],
          "scatterpolargl": [
           {
            "marker": {
             "colorbar": {
              "outlinewidth": 0,
              "ticks": ""
             }
            },
            "type": "scatterpolargl"
           }
          ],
          "scatterternary": [
           {
            "marker": {
             "colorbar": {
              "outlinewidth": 0,
              "ticks": ""
             }
            },
            "type": "scatterternary"
           }
          ],
          "surface": [
           {
            "colorbar": {
             "outlinewidth": 0,
             "ticks": ""
            },
            "colorscale": [
             [
              0,
              "#0d0887"
             ],
             [
              0.1111111111111111,
              "#46039f"
             ],
             [
              0.2222222222222222,
              "#7201a8"
             ],
             [
              0.3333333333333333,
              "#9c179e"
             ],
             [
              0.4444444444444444,
              "#bd3786"
             ],
             [
              0.5555555555555556,
              "#d8576b"
             ],
             [
              0.6666666666666666,
              "#ed7953"
             ],
             [
              0.7777777777777778,
              "#fb9f3a"
             ],
             [
              0.8888888888888888,
              "#fdca26"
             ],
             [
              1,
              "#f0f921"
             ]
            ],
            "type": "surface"
           }
          ],
          "table": [
           {
            "cells": {
             "fill": {
              "color": "#EBF0F8"
             },
             "line": {
              "color": "white"
             }
            },
            "header": {
             "fill": {
              "color": "#C8D4E3"
             },
             "line": {
              "color": "white"
             }
            },
            "type": "table"
           }
          ]
         },
         "layout": {
          "annotationdefaults": {
           "arrowcolor": "#2a3f5f",
           "arrowhead": 0,
           "arrowwidth": 1
          },
          "autotypenumbers": "strict",
          "coloraxis": {
           "colorbar": {
            "outlinewidth": 0,
            "ticks": ""
           }
          },
          "colorscale": {
           "diverging": [
            [
             0,
             "#8e0152"
            ],
            [
             0.1,
             "#c51b7d"
            ],
            [
             0.2,
             "#de77ae"
            ],
            [
             0.3,
             "#f1b6da"
            ],
            [
             0.4,
             "#fde0ef"
            ],
            [
             0.5,
             "#f7f7f7"
            ],
            [
             0.6,
             "#e6f5d0"
            ],
            [
             0.7,
             "#b8e186"
            ],
            [
             0.8,
             "#7fbc41"
            ],
            [
             0.9,
             "#4d9221"
            ],
            [
             1,
             "#276419"
            ]
           ],
           "sequential": [
            [
             0,
             "#0d0887"
            ],
            [
             0.1111111111111111,
             "#46039f"
            ],
            [
             0.2222222222222222,
             "#7201a8"
            ],
            [
             0.3333333333333333,
             "#9c179e"
            ],
            [
             0.4444444444444444,
             "#bd3786"
            ],
            [
             0.5555555555555556,
             "#d8576b"
            ],
            [
             0.6666666666666666,
             "#ed7953"
            ],
            [
             0.7777777777777778,
             "#fb9f3a"
            ],
            [
             0.8888888888888888,
             "#fdca26"
            ],
            [
             1,
             "#f0f921"
            ]
           ],
           "sequentialminus": [
            [
             0,
             "#0d0887"
            ],
            [
             0.1111111111111111,
             "#46039f"
            ],
            [
             0.2222222222222222,
             "#7201a8"
            ],
            [
             0.3333333333333333,
             "#9c179e"
            ],
            [
             0.4444444444444444,
             "#bd3786"
            ],
            [
             0.5555555555555556,
             "#d8576b"
            ],
            [
             0.6666666666666666,
             "#ed7953"
            ],
            [
             0.7777777777777778,
             "#fb9f3a"
            ],
            [
             0.8888888888888888,
             "#fdca26"
            ],
            [
             1,
             "#f0f921"
            ]
           ]
          },
          "colorway": [
           "#636efa",
           "#EF553B",
           "#00cc96",
           "#ab63fa",
           "#FFA15A",
           "#19d3f3",
           "#FF6692",
           "#B6E880",
           "#FF97FF",
           "#FECB52"
          ],
          "font": {
           "color": "#2a3f5f"
          },
          "geo": {
           "bgcolor": "white",
           "lakecolor": "white",
           "landcolor": "#E5ECF6",
           "showlakes": true,
           "showland": true,
           "subunitcolor": "white"
          },
          "hoverlabel": {
           "align": "left"
          },
          "hovermode": "closest",
          "mapbox": {
           "style": "light"
          },
          "paper_bgcolor": "white",
          "plot_bgcolor": "#E5ECF6",
          "polar": {
           "angularaxis": {
            "gridcolor": "white",
            "linecolor": "white",
            "ticks": ""
           },
           "bgcolor": "#E5ECF6",
           "radialaxis": {
            "gridcolor": "white",
            "linecolor": "white",
            "ticks": ""
           }
          },
          "scene": {
           "xaxis": {
            "backgroundcolor": "#E5ECF6",
            "gridcolor": "white",
            "gridwidth": 2,
            "linecolor": "white",
            "showbackground": true,
            "ticks": "",
            "zerolinecolor": "white"
           },
           "yaxis": {
            "backgroundcolor": "#E5ECF6",
            "gridcolor": "white",
            "gridwidth": 2,
            "linecolor": "white",
            "showbackground": true,
            "ticks": "",
            "zerolinecolor": "white"
           },
           "zaxis": {
            "backgroundcolor": "#E5ECF6",
            "gridcolor": "white",
            "gridwidth": 2,
            "linecolor": "white",
            "showbackground": true,
            "ticks": "",
            "zerolinecolor": "white"
           }
          },
          "shapedefaults": {
           "line": {
            "color": "#2a3f5f"
           }
          },
          "ternary": {
           "aaxis": {
            "gridcolor": "white",
            "linecolor": "white",
            "ticks": ""
           },
           "baxis": {
            "gridcolor": "white",
            "linecolor": "white",
            "ticks": ""
           },
           "bgcolor": "#E5ECF6",
           "caxis": {
            "gridcolor": "white",
            "linecolor": "white",
            "ticks": ""
           }
          },
          "title": {
           "x": 0.05
          },
          "xaxis": {
           "automargin": true,
           "gridcolor": "white",
           "linecolor": "white",
           "ticks": "",
           "title": {
            "standoff": 15
           },
           "zerolinecolor": "white",
           "zerolinewidth": 2
          },
          "yaxis": {
           "automargin": true,
           "gridcolor": "white",
           "linecolor": "white",
           "ticks": "",
           "title": {
            "standoff": 15
           },
           "zerolinecolor": "white",
           "zerolinewidth": 2
          }
         }
        },
        "title": {
         "text": "Average Energy Gas benefit across Neighborhoods"
        }
       }
      },
      "text/html": [
       "<div>                            <div id=\"e0fcdb41-a969-47bf-b09c-6a217a5cb5aa\" class=\"plotly-graph-div\" style=\"height:500px; width:100%;\"></div>            <script type=\"text/javascript\">                require([\"plotly\"], function(Plotly) {                    window.PLOTLYENV=window.PLOTLYENV || {};                                    if (document.getElementById(\"e0fcdb41-a969-47bf-b09c-6a217a5cb5aa\")) {                    Plotly.newPlot(                        \"e0fcdb41-a969-47bf-b09c-6a217a5cb5aa\",                        [{\"coloraxis\":\"coloraxis\",\"featureidkey\":\"properties.name\",\"geo\":\"geo\",\"geojson\":\"https://raw.githubusercontent.com/blackmad/neighborhoods/master/gn-pittsburgh.geojson\",\"hovertemplate\":\"neighborhood=%{location}<br>energy_benefits_gas_dollar_value=%{z}<extra></extra>\",\"locations\":[\"Allegheny Center\",\"Allegheny West\",\"Allentown\",\"Arlington\",\"Arlington Heights\",\"Banksville\",\"Bedford Dwellings\",\"Beechview\",\"Beltzhoover\",\"Bloomfield\",\"Bluff\",\"Bon Air\",\"Brighton Heights\",\"Brookline\",\"California-Kirkbride\",\"Carrick\",\"Central Business District\",\"Central Lawrenceville\",\"Central Northside\",\"Central Oakland\",\"Chartiers City\",\"Chateau\",\"Crafton Heights\",\"Crawford-Roberts\",\"Duquesne Heights\",\"East Allegheny\",\"East Carnegie\",\"East Hills\",\"East Liberty\",\"Elliott\",\"Esplen\",\"Fairywood\",\"Fineview\",\"Friendship\",\"Garfield\",\"Glen Hazel\",\"Greenfield\",\"Hays\",\"Hazelwood\",\"Highland Park\",\"Homewood North\",\"Homewood South\",\"Homewood West\",\"Knoxville\",\"Larimer\",\"Lincoln Place\",\"Lincoln-Lemington-Belmar\",\"Lower Lawrenceville\",\"Manchester\",\"Marshall-Shadeland\",\"Middle Hill\",\"Morningside\",\"Mount Washington\",\"Mt. Oliver\",\"New Homestead\",\"North Oakland\",\"North Shore\",\"Northview Heights\",\"Oakwood\",\"Overbrook\",\"Perry North\",\"Perry South\",\"Point Breeze\",\"Point Breeze North\",\"Polish Hill\",\"Regent Square\",\"Ridgemont\",\"Shadyside\",\"Sheraden\",\"South Oakland\",\"South Shore\",\"South Side Flats\",\"South Side Slopes\",\"Spring Garden\",\"Spring Hill-City View\",\"Squirrel Hill North\",\"Squirrel Hill South\",\"St. Clair\",\"Stanton Heights\",\"Strip District\",\"Summer Hill\",\"Swisshelm Park\",\"Terrace Village\",\"Troy Hill\",\"Upper Hill\",\"Upper Lawrenceville\",\"West End\",\"West Oakland\",\"Westwood\",\"Windgap\"],\"name\":\"\",\"type\":\"choropleth\",\"z\":[359.9362221404878,190.0938033554614,12.147347158620462,6.510846796084487,3.8279163853591363,29.335521576314328,30.70547050587975,20.572198780388998,16.09713540158565,72.26790987949776,19.171176134268443,13.997393320758915,43.64811186941532,22.698542959154086,20.822654915607114,21.958381547056863,51.27426564900269,17.900428425020547,92.1218777995395,83.62296680018729,18.67856528987217,26.05259890112446,25.85102207362944,62.69973845186582,5.535352155249039,58.77652998097032,0.714532290810414,58.5452917877115,78.98969740488025,15.910090899784194,0.46245495790609414,3.084427345126264,23.622593095691816,112.25556472360083,48.4840308340634,0.2271396203266063,45.48499925977281,0.05258728570500711,17.548201463252287,180.97879368707387,40.243982082102605,43.058486236155815,16.88286781725518,80.70264540936014,31.186128438852258,16.721379602400035,137.90123653998137,35.01166308647811,95.08473897923598,103.4555939094051,33.52908647208044,46.866852969550735,31.16122668322431,5.196647372902033,17.360606265020937,78.67203043388946,57.616195584037975,1.566672553212475,25.57458767079642,17.42248345196917,58.96359598663057,22.671136812199126,88.26997368264355,106.69377041362624,25.382810920031506,161.49868752529804,4.777440733190155,89.36402055170207,21.617458080285854,14.867663624573066,0.10881232030748672,50.472984868822195,10.027004026390374,7.2701281674971945,7.759568985256917,135.08440719794532,133.72493654403377,3.088547761284592,72.92200508760216,18.613808662001947,10.562766079325945,33.87677995832936,27.255710450629856,7.676770541898785,26.58568340419333,36.169639764757854,16.91257907486066,9.490513184941314,23.6853758239579,17.650927660996672]}],                        {\"coloraxis\":{\"colorbar\":{\"title\":{\"text\":\"energy_benefits_gas_dollar_value\"}},\"colorscale\":[[0.0,\"rgb(247,252,245)\"],[0.125,\"rgb(229,245,224)\"],[0.25,\"rgb(199,233,192)\"],[0.375,\"rgb(161,217,155)\"],[0.5,\"rgb(116,196,118)\"],[0.625,\"rgb(65,171,93)\"],[0.75,\"rgb(35,139,69)\"],[0.875,\"rgb(0,109,44)\"],[1.0,\"rgb(0,68,27)\"]]},\"geo\":{\"center\":{},\"domain\":{\"x\":[0.0,1.0],\"y\":[0.0,1.0]},\"fitbounds\":\"locations\",\"visible\":false},\"height\":500,\"legend\":{\"tracegroupgap\":0},\"template\":{\"data\":{\"bar\":[{\"error_x\":{\"color\":\"#2a3f5f\"},\"error_y\":{\"color\":\"#2a3f5f\"},\"marker\":{\"line\":{\"color\":\"#E5ECF6\",\"width\":0.5},\"pattern\":{\"fillmode\":\"overlay\",\"size\":10,\"solidity\":0.2}},\"type\":\"bar\"}],\"barpolar\":[{\"marker\":{\"line\":{\"color\":\"#E5ECF6\",\"width\":0.5},\"pattern\":{\"fillmode\":\"overlay\",\"size\":10,\"solidity\":0.2}},\"type\":\"barpolar\"}],\"carpet\":[{\"aaxis\":{\"endlinecolor\":\"#2a3f5f\",\"gridcolor\":\"white\",\"linecolor\":\"white\",\"minorgridcolor\":\"white\",\"startlinecolor\":\"#2a3f5f\"},\"baxis\":{\"endlinecolor\":\"#2a3f5f\",\"gridcolor\":\"white\",\"linecolor\":\"white\",\"minorgridcolor\":\"white\",\"startlinecolor\":\"#2a3f5f\"},\"type\":\"carpet\"}],\"choropleth\":[{\"colorbar\":{\"outlinewidth\":0,\"ticks\":\"\"},\"type\":\"choropleth\"}],\"contour\":[{\"colorbar\":{\"outlinewidth\":0,\"ticks\":\"\"},\"colorscale\":[[0.0,\"#0d0887\"],[0.1111111111111111,\"#46039f\"],[0.2222222222222222,\"#7201a8\"],[0.3333333333333333,\"#9c179e\"],[0.4444444444444444,\"#bd3786\"],[0.5555555555555556,\"#d8576b\"],[0.6666666666666666,\"#ed7953\"],[0.7777777777777778,\"#fb9f3a\"],[0.8888888888888888,\"#fdca26\"],[1.0,\"#f0f921\"]],\"type\":\"contour\"}],\"contourcarpet\":[{\"colorbar\":{\"outlinewidth\":0,\"ticks\":\"\"},\"type\":\"contourcarpet\"}],\"heatmap\":[{\"colorbar\":{\"outlinewidth\":0,\"ticks\":\"\"},\"colorscale\":[[0.0,\"#0d0887\"],[0.1111111111111111,\"#46039f\"],[0.2222222222222222,\"#7201a8\"],[0.3333333333333333,\"#9c179e\"],[0.4444444444444444,\"#bd3786\"],[0.5555555555555556,\"#d8576b\"],[0.6666666666666666,\"#ed7953\"],[0.7777777777777778,\"#fb9f3a\"],[0.8888888888888888,\"#fdca26\"],[1.0,\"#f0f921\"]],\"type\":\"heatmap\"}],\"heatmapgl\":[{\"colorbar\":{\"outlinewidth\":0,\"ticks\":\"\"},\"colorscale\":[[0.0,\"#0d0887\"],[0.1111111111111111,\"#46039f\"],[0.2222222222222222,\"#7201a8\"],[0.3333333333333333,\"#9c179e\"],[0.4444444444444444,\"#bd3786\"],[0.5555555555555556,\"#d8576b\"],[0.6666666666666666,\"#ed7953\"],[0.7777777777777778,\"#fb9f3a\"],[0.8888888888888888,\"#fdca26\"],[1.0,\"#f0f921\"]],\"type\":\"heatmapgl\"}],\"histogram\":[{\"marker\":{\"pattern\":{\"fillmode\":\"overlay\",\"size\":10,\"solidity\":0.2}},\"type\":\"histogram\"}],\"histogram2d\":[{\"colorbar\":{\"outlinewidth\":0,\"ticks\":\"\"},\"colorscale\":[[0.0,\"#0d0887\"],[0.1111111111111111,\"#46039f\"],[0.2222222222222222,\"#7201a8\"],[0.3333333333333333,\"#9c179e\"],[0.4444444444444444,\"#bd3786\"],[0.5555555555555556,\"#d8576b\"],[0.6666666666666666,\"#ed7953\"],[0.7777777777777778,\"#fb9f3a\"],[0.8888888888888888,\"#fdca26\"],[1.0,\"#f0f921\"]],\"type\":\"histogram2d\"}],\"histogram2dcontour\":[{\"colorbar\":{\"outlinewidth\":0,\"ticks\":\"\"},\"colorscale\":[[0.0,\"#0d0887\"],[0.1111111111111111,\"#46039f\"],[0.2222222222222222,\"#7201a8\"],[0.3333333333333333,\"#9c179e\"],[0.4444444444444444,\"#bd3786\"],[0.5555555555555556,\"#d8576b\"],[0.6666666666666666,\"#ed7953\"],[0.7777777777777778,\"#fb9f3a\"],[0.8888888888888888,\"#fdca26\"],[1.0,\"#f0f921\"]],\"type\":\"histogram2dcontour\"}],\"mesh3d\":[{\"colorbar\":{\"outlinewidth\":0,\"ticks\":\"\"},\"type\":\"mesh3d\"}],\"parcoords\":[{\"line\":{\"colorbar\":{\"outlinewidth\":0,\"ticks\":\"\"}},\"type\":\"parcoords\"}],\"pie\":[{\"automargin\":true,\"type\":\"pie\"}],\"scatter\":[{\"marker\":{\"colorbar\":{\"outlinewidth\":0,\"ticks\":\"\"}},\"type\":\"scatter\"}],\"scatter3d\":[{\"line\":{\"colorbar\":{\"outlinewidth\":0,\"ticks\":\"\"}},\"marker\":{\"colorbar\":{\"outlinewidth\":0,\"ticks\":\"\"}},\"type\":\"scatter3d\"}],\"scattercarpet\":[{\"marker\":{\"colorbar\":{\"outlinewidth\":0,\"ticks\":\"\"}},\"type\":\"scattercarpet\"}],\"scattergeo\":[{\"marker\":{\"colorbar\":{\"outlinewidth\":0,\"ticks\":\"\"}},\"type\":\"scattergeo\"}],\"scattergl\":[{\"marker\":{\"colorbar\":{\"outlinewidth\":0,\"ticks\":\"\"}},\"type\":\"scattergl\"}],\"scattermapbox\":[{\"marker\":{\"colorbar\":{\"outlinewidth\":0,\"ticks\":\"\"}},\"type\":\"scattermapbox\"}],\"scatterpolar\":[{\"marker\":{\"colorbar\":{\"outlinewidth\":0,\"ticks\":\"\"}},\"type\":\"scatterpolar\"}],\"scatterpolargl\":[{\"marker\":{\"colorbar\":{\"outlinewidth\":0,\"ticks\":\"\"}},\"type\":\"scatterpolargl\"}],\"scatterternary\":[{\"marker\":{\"colorbar\":{\"outlinewidth\":0,\"ticks\":\"\"}},\"type\":\"scatterternary\"}],\"surface\":[{\"colorbar\":{\"outlinewidth\":0,\"ticks\":\"\"},\"colorscale\":[[0.0,\"#0d0887\"],[0.1111111111111111,\"#46039f\"],[0.2222222222222222,\"#7201a8\"],[0.3333333333333333,\"#9c179e\"],[0.4444444444444444,\"#bd3786\"],[0.5555555555555556,\"#d8576b\"],[0.6666666666666666,\"#ed7953\"],[0.7777777777777778,\"#fb9f3a\"],[0.8888888888888888,\"#fdca26\"],[1.0,\"#f0f921\"]],\"type\":\"surface\"}],\"table\":[{\"cells\":{\"fill\":{\"color\":\"#EBF0F8\"},\"line\":{\"color\":\"white\"}},\"header\":{\"fill\":{\"color\":\"#C8D4E3\"},\"line\":{\"color\":\"white\"}},\"type\":\"table\"}]},\"layout\":{\"annotationdefaults\":{\"arrowcolor\":\"#2a3f5f\",\"arrowhead\":0,\"arrowwidth\":1},\"autotypenumbers\":\"strict\",\"coloraxis\":{\"colorbar\":{\"outlinewidth\":0,\"ticks\":\"\"}},\"colorscale\":{\"diverging\":[[0,\"#8e0152\"],[0.1,\"#c51b7d\"],[0.2,\"#de77ae\"],[0.3,\"#f1b6da\"],[0.4,\"#fde0ef\"],[0.5,\"#f7f7f7\"],[0.6,\"#e6f5d0\"],[0.7,\"#b8e186\"],[0.8,\"#7fbc41\"],[0.9,\"#4d9221\"],[1,\"#276419\"]],\"sequential\":[[0.0,\"#0d0887\"],[0.1111111111111111,\"#46039f\"],[0.2222222222222222,\"#7201a8\"],[0.3333333333333333,\"#9c179e\"],[0.4444444444444444,\"#bd3786\"],[0.5555555555555556,\"#d8576b\"],[0.6666666666666666,\"#ed7953\"],[0.7777777777777778,\"#fb9f3a\"],[0.8888888888888888,\"#fdca26\"],[1.0,\"#f0f921\"]],\"sequentialminus\":[[0.0,\"#0d0887\"],[0.1111111111111111,\"#46039f\"],[0.2222222222222222,\"#7201a8\"],[0.3333333333333333,\"#9c179e\"],[0.4444444444444444,\"#bd3786\"],[0.5555555555555556,\"#d8576b\"],[0.6666666666666666,\"#ed7953\"],[0.7777777777777778,\"#fb9f3a\"],[0.8888888888888888,\"#fdca26\"],[1.0,\"#f0f921\"]]},\"colorway\":[\"#636efa\",\"#EF553B\",\"#00cc96\",\"#ab63fa\",\"#FFA15A\",\"#19d3f3\",\"#FF6692\",\"#B6E880\",\"#FF97FF\",\"#FECB52\"],\"font\":{\"color\":\"#2a3f5f\"},\"geo\":{\"bgcolor\":\"white\",\"lakecolor\":\"white\",\"landcolor\":\"#E5ECF6\",\"showlakes\":true,\"showland\":true,\"subunitcolor\":\"white\"},\"hoverlabel\":{\"align\":\"left\"},\"hovermode\":\"closest\",\"mapbox\":{\"style\":\"light\"},\"paper_bgcolor\":\"white\",\"plot_bgcolor\":\"#E5ECF6\",\"polar\":{\"angularaxis\":{\"gridcolor\":\"white\",\"linecolor\":\"white\",\"ticks\":\"\"},\"bgcolor\":\"#E5ECF6\",\"radialaxis\":{\"gridcolor\":\"white\",\"linecolor\":\"white\",\"ticks\":\"\"}},\"scene\":{\"xaxis\":{\"backgroundcolor\":\"#E5ECF6\",\"gridcolor\":\"white\",\"gridwidth\":2,\"linecolor\":\"white\",\"showbackground\":true,\"ticks\":\"\",\"zerolinecolor\":\"white\"},\"yaxis\":{\"backgroundcolor\":\"#E5ECF6\",\"gridcolor\":\"white\",\"gridwidth\":2,\"linecolor\":\"white\",\"showbackground\":true,\"ticks\":\"\",\"zerolinecolor\":\"white\"},\"zaxis\":{\"backgroundcolor\":\"#E5ECF6\",\"gridcolor\":\"white\",\"gridwidth\":2,\"linecolor\":\"white\",\"showbackground\":true,\"ticks\":\"\",\"zerolinecolor\":\"white\"}},\"shapedefaults\":{\"line\":{\"color\":\"#2a3f5f\"}},\"ternary\":{\"aaxis\":{\"gridcolor\":\"white\",\"linecolor\":\"white\",\"ticks\":\"\"},\"baxis\":{\"gridcolor\":\"white\",\"linecolor\":\"white\",\"ticks\":\"\"},\"bgcolor\":\"#E5ECF6\",\"caxis\":{\"gridcolor\":\"white\",\"linecolor\":\"white\",\"ticks\":\"\"}},\"title\":{\"x\":0.05},\"xaxis\":{\"automargin\":true,\"gridcolor\":\"white\",\"linecolor\":\"white\",\"ticks\":\"\",\"title\":{\"standoff\":15},\"zerolinecolor\":\"white\",\"zerolinewidth\":2},\"yaxis\":{\"automargin\":true,\"gridcolor\":\"white\",\"linecolor\":\"white\",\"ticks\":\"\",\"title\":{\"standoff\":15},\"zerolinecolor\":\"white\",\"zerolinewidth\":2}}},\"title\":{\"text\":\"Average Energy Gas benefit across Neighborhoods\"}},                        {\"responsive\": true}                    ).then(function(){\n",
       "                            \n",
       "var gd = document.getElementById('e0fcdb41-a969-47bf-b09c-6a217a5cb5aa');\n",
       "var x = new MutationObserver(function (mutations, observer) {{\n",
       "        var display = window.getComputedStyle(gd).display;\n",
       "        if (!display || display === 'none') {{\n",
       "            console.log([gd, 'removed!']);\n",
       "            Plotly.purge(gd);\n",
       "            observer.disconnect();\n",
       "        }}\n",
       "}});\n",
       "\n",
       "// Listen for the removal of the full notebook cells\n",
       "var notebookContainer = gd.closest('#notebook-container');\n",
       "if (notebookContainer) {{\n",
       "    x.observe(notebookContainer, {childList: true});\n",
       "}}\n",
       "\n",
       "// Listen for the clearing of the current output cell\n",
       "var outputEl = gd.closest('.output');\n",
       "if (outputEl) {{\n",
       "    x.observe(outputEl, {childList: true});\n",
       "}}\n",
       "\n",
       "                        })                };                });            </script>        </div>"
      ]
     },
     "metadata": {},
     "output_type": "display_data"
    }
   ],
   "source": [
    "fig=px.choropleth(energy_gas_benefit_map,\n",
    "             geojson=\"https://raw.githubusercontent.com/blackmad/neighborhoods/master/gn-pittsburgh.geojson\",\n",
    "             featureidkey='properties.name',   \n",
    "             locations='neighborhood',        #column in dataframe\n",
    "             color='energy_benefits_gas_dollar_value',\n",
    "              color_continuous_scale='greens',\n",
    "               title='Average Energy Gas benefit across Neighborhoods' ,  \n",
    "               height=500\n",
    "              )\n",
    "fig.update_geos(fitbounds=\"locations\", visible=False)\n",
    "fig.show()"
   ]
  },
  {
   "cell_type": "markdown",
   "id": "61be8b23",
   "metadata": {},
   "source": [
    "**Top 5 neighborhoods with highest energy (gas) benefits**"
   ]
  },
  {
   "cell_type": "code",
   "execution_count": 778,
   "id": "05897a72",
   "metadata": {},
   "outputs": [
    {
     "data": {
      "text/html": [
       "<div>\n",
       "<style scoped>\n",
       "    .dataframe tbody tr th:only-of-type {\n",
       "        vertical-align: middle;\n",
       "    }\n",
       "\n",
       "    .dataframe tbody tr th {\n",
       "        vertical-align: top;\n",
       "    }\n",
       "\n",
       "    .dataframe thead th {\n",
       "        text-align: right;\n",
       "    }\n",
       "</style>\n",
       "<table border=\"1\" class=\"dataframe\">\n",
       "  <thead>\n",
       "    <tr style=\"text-align: right;\">\n",
       "      <th></th>\n",
       "      <th>neighborhood</th>\n",
       "      <th>energy_benefits_gas_dollar_value</th>\n",
       "    </tr>\n",
       "  </thead>\n",
       "  <tbody>\n",
       "    <tr>\n",
       "      <th>0</th>\n",
       "      <td>Allegheny Center</td>\n",
       "      <td>359.936222</td>\n",
       "    </tr>\n",
       "    <tr>\n",
       "      <th>1</th>\n",
       "      <td>Allegheny West</td>\n",
       "      <td>190.093803</td>\n",
       "    </tr>\n",
       "    <tr>\n",
       "      <th>39</th>\n",
       "      <td>Highland Park</td>\n",
       "      <td>180.978794</td>\n",
       "    </tr>\n",
       "    <tr>\n",
       "      <th>65</th>\n",
       "      <td>Regent Square</td>\n",
       "      <td>161.498688</td>\n",
       "    </tr>\n",
       "    <tr>\n",
       "      <th>46</th>\n",
       "      <td>Lincoln-Lemington-Belmar</td>\n",
       "      <td>137.901237</td>\n",
       "    </tr>\n",
       "  </tbody>\n",
       "</table>\n",
       "</div>"
      ],
      "text/plain": [
       "                neighborhood  energy_benefits_gas_dollar_value\n",
       "0           Allegheny Center                        359.936222\n",
       "1             Allegheny West                        190.093803\n",
       "39             Highland Park                        180.978794\n",
       "65             Regent Square                        161.498688\n",
       "46  Lincoln-Lemington-Belmar                        137.901237"
      ]
     },
     "execution_count": 778,
     "metadata": {},
     "output_type": "execute_result"
    }
   ],
   "source": [
    "energy_gas_benefit_map.sort_values('energy_benefits_gas_dollar_value', ascending=False).head(5)"
   ]
  },
  {
   "cell_type": "markdown",
   "id": "497ae5cb",
   "metadata": {},
   "source": [
    "**Inference:\n",
    "3 of the top 5 neighborhoods with the highest energy (gas) benefits are also in the top 5 neighborhoods with highest tree density. This exhibhits a clear positive correlation between the two**"
   ]
  },
  {
   "cell_type": "markdown",
   "id": "41d02d4f",
   "metadata": {},
   "source": [
    "# Plot neighborhood level tree CO2 benefits data"
   ]
  },
  {
   "cell_type": "code",
   "execution_count": 779,
   "id": "ebb49282",
   "metadata": {},
   "outputs": [],
   "source": [
    "co2_benefit_map = combined_data[['neighborhood', 'co2_benefits_dollar_value']].copy()\n"
   ]
  },
  {
   "cell_type": "code",
   "execution_count": 780,
   "id": "afe2bbeb",
   "metadata": {},
   "outputs": [
    {
     "data": {
      "application/vnd.plotly.v1+json": {
       "config": {
        "plotlyServerURL": "https://plot.ly"
       },
       "data": [
        {
         "coloraxis": "coloraxis",
         "featureidkey": "properties.name",
         "geo": "geo",
         "geojson": "https://raw.githubusercontent.com/blackmad/neighborhoods/master/gn-pittsburgh.geojson",
         "hovertemplate": "neighborhood=%{location}<br>co2_benefits_dollar_value=%{z}<extra></extra>",
         "locations": [
          "Allegheny Center",
          "Allegheny West",
          "Allentown",
          "Arlington",
          "Arlington Heights",
          "Banksville",
          "Bedford Dwellings",
          "Beechview",
          "Beltzhoover",
          "Bloomfield",
          "Bluff",
          "Bon Air",
          "Brighton Heights",
          "Brookline",
          "California-Kirkbride",
          "Carrick",
          "Central Business District",
          "Central Lawrenceville",
          "Central Northside",
          "Central Oakland",
          "Chartiers City",
          "Chateau",
          "Crafton Heights",
          "Crawford-Roberts",
          "Duquesne Heights",
          "East Allegheny",
          "East Carnegie",
          "East Hills",
          "East Liberty",
          "Elliott",
          "Esplen",
          "Fairywood",
          "Fineview",
          "Friendship",
          "Garfield",
          "Glen Hazel",
          "Greenfield",
          "Hays",
          "Hazelwood",
          "Highland Park",
          "Homewood North",
          "Homewood South",
          "Homewood West",
          "Knoxville",
          "Larimer",
          "Lincoln Place",
          "Lincoln-Lemington-Belmar",
          "Lower Lawrenceville",
          "Manchester",
          "Marshall-Shadeland",
          "Middle Hill",
          "Morningside",
          "Mount Washington",
          "Mt. Oliver",
          "New Homestead",
          "North Oakland",
          "North Shore",
          "Northview Heights",
          "Oakwood",
          "Overbrook",
          "Perry North",
          "Perry South",
          "Point Breeze",
          "Point Breeze North",
          "Polish Hill",
          "Regent Square",
          "Ridgemont",
          "Shadyside",
          "Sheraden",
          "South Oakland",
          "South Shore",
          "South Side Flats",
          "South Side Slopes",
          "Spring Garden",
          "Spring Hill-City View",
          "Squirrel Hill North",
          "Squirrel Hill South",
          "St. Clair",
          "Stanton Heights",
          "Strip District",
          "Summer Hill",
          "Swisshelm Park",
          "Terrace Village",
          "Troy Hill",
          "Upper Hill",
          "Upper Lawrenceville",
          "West End",
          "West Oakland",
          "Westwood",
          "Windgap"
         ],
         "name": "",
         "type": "choropleth",
         "z": [
          10.172133758761088,
          5.3289174476534695,
          0.2808782260702854,
          0.12647030845559595,
          0.05247910572411103,
          0.7750412272358338,
          0.6732392908433658,
          0.5058953439343048,
          0.34151114070497113,
          1.75910017985866,
          0.37929800512818507,
          0.409146812982843,
          1.0046075227138176,
          0.5822637721022983,
          0.40014566256990525,
          0.5351594448879264,
          1.0717854036773886,
          0.3738747850239205,
          2.041892505433793,
          1.9221608749014978,
          0.6439772202097731,
          0.5492809647332962,
          0.639924760974643,
          1.8239127382696714,
          0.13699087554688227,
          1.55922073874459,
          0.013937180587599636,
          1.2500254843073748,
          1.6758054840611216,
          0.38803011539433896,
          0.007348711512996773,
          0.07573287564598326,
          0.44459970679318234,
          2.8798377363845526,
          1.1749476084065367,
          0.0012058197900094475,
          1.1089555369922737,
          0.00011716735116546034,
          0.39384373793347777,
          4.885688343711779,
          0.7712615857959327,
          0.8953717636266202,
          0.4129831877095338,
          2.345971621430502,
          0.7101149972009757,
          0.3989179654481017,
          2.6697625459724605,
          0.9822870541634168,
          1.885616067543567,
          2.661359613001274,
          0.6710181034151499,
          1.124999719624452,
          0.7696533721783182,
          0.12724730997476824,
          0.46935306546061056,
          1.927843102244509,
          1.1770297435673542,
          0.02572732703617321,
          0.5037069099076588,
          0.43609516932917447,
          1.394263660674357,
          0.5342949275571982,
          2.4348114527740683,
          2.6353160534939346,
          0.6141728873038615,
          4.0915951988384505,
          0.0834948653398614,
          2.1837008165254574,
          0.5064342631651362,
          0.33005017458596253,
          0.002015418233140726,
          1.1708456493561004,
          0.23001929266439053,
          0.14499146847568128,
          0.15236849108683947,
          3.7997251878891256,
          3.4269202466818993,
          0.06279162526184912,
          1.9759640985205624,
          0.39274596695099206,
          0.2998206236234393,
          1.113393524443721,
          0.5126710345926638,
          0.12960213048632943,
          0.5441042796596548,
          0.9567868994410693,
          0.48665592872836655,
          0.18308775786156298,
          0.5940171039111345,
          0.41328741257420526
         ]
        }
       ],
       "layout": {
        "coloraxis": {
         "colorbar": {
          "title": {
           "text": "co2_benefits_dollar_value"
          }
         },
         "colorscale": [
          [
           0,
           "rgb(247,252,245)"
          ],
          [
           0.125,
           "rgb(229,245,224)"
          ],
          [
           0.25,
           "rgb(199,233,192)"
          ],
          [
           0.375,
           "rgb(161,217,155)"
          ],
          [
           0.5,
           "rgb(116,196,118)"
          ],
          [
           0.625,
           "rgb(65,171,93)"
          ],
          [
           0.75,
           "rgb(35,139,69)"
          ],
          [
           0.875,
           "rgb(0,109,44)"
          ],
          [
           1,
           "rgb(0,68,27)"
          ]
         ]
        },
        "geo": {
         "center": {},
         "domain": {
          "x": [
           0,
           1
          ],
          "y": [
           0,
           1
          ]
         },
         "fitbounds": "locations",
         "visible": false
        },
        "height": 500,
        "legend": {
         "tracegroupgap": 0
        },
        "template": {
         "data": {
          "bar": [
           {
            "error_x": {
             "color": "#2a3f5f"
            },
            "error_y": {
             "color": "#2a3f5f"
            },
            "marker": {
             "line": {
              "color": "#E5ECF6",
              "width": 0.5
             },
             "pattern": {
              "fillmode": "overlay",
              "size": 10,
              "solidity": 0.2
             }
            },
            "type": "bar"
           }
          ],
          "barpolar": [
           {
            "marker": {
             "line": {
              "color": "#E5ECF6",
              "width": 0.5
             },
             "pattern": {
              "fillmode": "overlay",
              "size": 10,
              "solidity": 0.2
             }
            },
            "type": "barpolar"
           }
          ],
          "carpet": [
           {
            "aaxis": {
             "endlinecolor": "#2a3f5f",
             "gridcolor": "white",
             "linecolor": "white",
             "minorgridcolor": "white",
             "startlinecolor": "#2a3f5f"
            },
            "baxis": {
             "endlinecolor": "#2a3f5f",
             "gridcolor": "white",
             "linecolor": "white",
             "minorgridcolor": "white",
             "startlinecolor": "#2a3f5f"
            },
            "type": "carpet"
           }
          ],
          "choropleth": [
           {
            "colorbar": {
             "outlinewidth": 0,
             "ticks": ""
            },
            "type": "choropleth"
           }
          ],
          "contour": [
           {
            "colorbar": {
             "outlinewidth": 0,
             "ticks": ""
            },
            "colorscale": [
             [
              0,
              "#0d0887"
             ],
             [
              0.1111111111111111,
              "#46039f"
             ],
             [
              0.2222222222222222,
              "#7201a8"
             ],
             [
              0.3333333333333333,
              "#9c179e"
             ],
             [
              0.4444444444444444,
              "#bd3786"
             ],
             [
              0.5555555555555556,
              "#d8576b"
             ],
             [
              0.6666666666666666,
              "#ed7953"
             ],
             [
              0.7777777777777778,
              "#fb9f3a"
             ],
             [
              0.8888888888888888,
              "#fdca26"
             ],
             [
              1,
              "#f0f921"
             ]
            ],
            "type": "contour"
           }
          ],
          "contourcarpet": [
           {
            "colorbar": {
             "outlinewidth": 0,
             "ticks": ""
            },
            "type": "contourcarpet"
           }
          ],
          "heatmap": [
           {
            "colorbar": {
             "outlinewidth": 0,
             "ticks": ""
            },
            "colorscale": [
             [
              0,
              "#0d0887"
             ],
             [
              0.1111111111111111,
              "#46039f"
             ],
             [
              0.2222222222222222,
              "#7201a8"
             ],
             [
              0.3333333333333333,
              "#9c179e"
             ],
             [
              0.4444444444444444,
              "#bd3786"
             ],
             [
              0.5555555555555556,
              "#d8576b"
             ],
             [
              0.6666666666666666,
              "#ed7953"
             ],
             [
              0.7777777777777778,
              "#fb9f3a"
             ],
             [
              0.8888888888888888,
              "#fdca26"
             ],
             [
              1,
              "#f0f921"
             ]
            ],
            "type": "heatmap"
           }
          ],
          "heatmapgl": [
           {
            "colorbar": {
             "outlinewidth": 0,
             "ticks": ""
            },
            "colorscale": [
             [
              0,
              "#0d0887"
             ],
             [
              0.1111111111111111,
              "#46039f"
             ],
             [
              0.2222222222222222,
              "#7201a8"
             ],
             [
              0.3333333333333333,
              "#9c179e"
             ],
             [
              0.4444444444444444,
              "#bd3786"
             ],
             [
              0.5555555555555556,
              "#d8576b"
             ],
             [
              0.6666666666666666,
              "#ed7953"
             ],
             [
              0.7777777777777778,
              "#fb9f3a"
             ],
             [
              0.8888888888888888,
              "#fdca26"
             ],
             [
              1,
              "#f0f921"
             ]
            ],
            "type": "heatmapgl"
           }
          ],
          "histogram": [
           {
            "marker": {
             "pattern": {
              "fillmode": "overlay",
              "size": 10,
              "solidity": 0.2
             }
            },
            "type": "histogram"
           }
          ],
          "histogram2d": [
           {
            "colorbar": {
             "outlinewidth": 0,
             "ticks": ""
            },
            "colorscale": [
             [
              0,
              "#0d0887"
             ],
             [
              0.1111111111111111,
              "#46039f"
             ],
             [
              0.2222222222222222,
              "#7201a8"
             ],
             [
              0.3333333333333333,
              "#9c179e"
             ],
             [
              0.4444444444444444,
              "#bd3786"
             ],
             [
              0.5555555555555556,
              "#d8576b"
             ],
             [
              0.6666666666666666,
              "#ed7953"
             ],
             [
              0.7777777777777778,
              "#fb9f3a"
             ],
             [
              0.8888888888888888,
              "#fdca26"
             ],
             [
              1,
              "#f0f921"
             ]
            ],
            "type": "histogram2d"
           }
          ],
          "histogram2dcontour": [
           {
            "colorbar": {
             "outlinewidth": 0,
             "ticks": ""
            },
            "colorscale": [
             [
              0,
              "#0d0887"
             ],
             [
              0.1111111111111111,
              "#46039f"
             ],
             [
              0.2222222222222222,
              "#7201a8"
             ],
             [
              0.3333333333333333,
              "#9c179e"
             ],
             [
              0.4444444444444444,
              "#bd3786"
             ],
             [
              0.5555555555555556,
              "#d8576b"
             ],
             [
              0.6666666666666666,
              "#ed7953"
             ],
             [
              0.7777777777777778,
              "#fb9f3a"
             ],
             [
              0.8888888888888888,
              "#fdca26"
             ],
             [
              1,
              "#f0f921"
             ]
            ],
            "type": "histogram2dcontour"
           }
          ],
          "mesh3d": [
           {
            "colorbar": {
             "outlinewidth": 0,
             "ticks": ""
            },
            "type": "mesh3d"
           }
          ],
          "parcoords": [
           {
            "line": {
             "colorbar": {
              "outlinewidth": 0,
              "ticks": ""
             }
            },
            "type": "parcoords"
           }
          ],
          "pie": [
           {
            "automargin": true,
            "type": "pie"
           }
          ],
          "scatter": [
           {
            "marker": {
             "colorbar": {
              "outlinewidth": 0,
              "ticks": ""
             }
            },
            "type": "scatter"
           }
          ],
          "scatter3d": [
           {
            "line": {
             "colorbar": {
              "outlinewidth": 0,
              "ticks": ""
             }
            },
            "marker": {
             "colorbar": {
              "outlinewidth": 0,
              "ticks": ""
             }
            },
            "type": "scatter3d"
           }
          ],
          "scattercarpet": [
           {
            "marker": {
             "colorbar": {
              "outlinewidth": 0,
              "ticks": ""
             }
            },
            "type": "scattercarpet"
           }
          ],
          "scattergeo": [
           {
            "marker": {
             "colorbar": {
              "outlinewidth": 0,
              "ticks": ""
             }
            },
            "type": "scattergeo"
           }
          ],
          "scattergl": [
           {
            "marker": {
             "colorbar": {
              "outlinewidth": 0,
              "ticks": ""
             }
            },
            "type": "scattergl"
           }
          ],
          "scattermapbox": [
           {
            "marker": {
             "colorbar": {
              "outlinewidth": 0,
              "ticks": ""
             }
            },
            "type": "scattermapbox"
           }
          ],
          "scatterpolar": [
           {
            "marker": {
             "colorbar": {
              "outlinewidth": 0,
              "ticks": ""
             }
            },
            "type": "scatterpolar"
           }
          ],
          "scatterpolargl": [
           {
            "marker": {
             "colorbar": {
              "outlinewidth": 0,
              "ticks": ""
             }
            },
            "type": "scatterpolargl"
           }
          ],
          "scatterternary": [
           {
            "marker": {
             "colorbar": {
              "outlinewidth": 0,
              "ticks": ""
             }
            },
            "type": "scatterternary"
           }
          ],
          "surface": [
           {
            "colorbar": {
             "outlinewidth": 0,
             "ticks": ""
            },
            "colorscale": [
             [
              0,
              "#0d0887"
             ],
             [
              0.1111111111111111,
              "#46039f"
             ],
             [
              0.2222222222222222,
              "#7201a8"
             ],
             [
              0.3333333333333333,
              "#9c179e"
             ],
             [
              0.4444444444444444,
              "#bd3786"
             ],
             [
              0.5555555555555556,
              "#d8576b"
             ],
             [
              0.6666666666666666,
              "#ed7953"
             ],
             [
              0.7777777777777778,
              "#fb9f3a"
             ],
             [
              0.8888888888888888,
              "#fdca26"
             ],
             [
              1,
              "#f0f921"
             ]
            ],
            "type": "surface"
           }
          ],
          "table": [
           {
            "cells": {
             "fill": {
              "color": "#EBF0F8"
             },
             "line": {
              "color": "white"
             }
            },
            "header": {
             "fill": {
              "color": "#C8D4E3"
             },
             "line": {
              "color": "white"
             }
            },
            "type": "table"
           }
          ]
         },
         "layout": {
          "annotationdefaults": {
           "arrowcolor": "#2a3f5f",
           "arrowhead": 0,
           "arrowwidth": 1
          },
          "autotypenumbers": "strict",
          "coloraxis": {
           "colorbar": {
            "outlinewidth": 0,
            "ticks": ""
           }
          },
          "colorscale": {
           "diverging": [
            [
             0,
             "#8e0152"
            ],
            [
             0.1,
             "#c51b7d"
            ],
            [
             0.2,
             "#de77ae"
            ],
            [
             0.3,
             "#f1b6da"
            ],
            [
             0.4,
             "#fde0ef"
            ],
            [
             0.5,
             "#f7f7f7"
            ],
            [
             0.6,
             "#e6f5d0"
            ],
            [
             0.7,
             "#b8e186"
            ],
            [
             0.8,
             "#7fbc41"
            ],
            [
             0.9,
             "#4d9221"
            ],
            [
             1,
             "#276419"
            ]
           ],
           "sequential": [
            [
             0,
             "#0d0887"
            ],
            [
             0.1111111111111111,
             "#46039f"
            ],
            [
             0.2222222222222222,
             "#7201a8"
            ],
            [
             0.3333333333333333,
             "#9c179e"
            ],
            [
             0.4444444444444444,
             "#bd3786"
            ],
            [
             0.5555555555555556,
             "#d8576b"
            ],
            [
             0.6666666666666666,
             "#ed7953"
            ],
            [
             0.7777777777777778,
             "#fb9f3a"
            ],
            [
             0.8888888888888888,
             "#fdca26"
            ],
            [
             1,
             "#f0f921"
            ]
           ],
           "sequentialminus": [
            [
             0,
             "#0d0887"
            ],
            [
             0.1111111111111111,
             "#46039f"
            ],
            [
             0.2222222222222222,
             "#7201a8"
            ],
            [
             0.3333333333333333,
             "#9c179e"
            ],
            [
             0.4444444444444444,
             "#bd3786"
            ],
            [
             0.5555555555555556,
             "#d8576b"
            ],
            [
             0.6666666666666666,
             "#ed7953"
            ],
            [
             0.7777777777777778,
             "#fb9f3a"
            ],
            [
             0.8888888888888888,
             "#fdca26"
            ],
            [
             1,
             "#f0f921"
            ]
           ]
          },
          "colorway": [
           "#636efa",
           "#EF553B",
           "#00cc96",
           "#ab63fa",
           "#FFA15A",
           "#19d3f3",
           "#FF6692",
           "#B6E880",
           "#FF97FF",
           "#FECB52"
          ],
          "font": {
           "color": "#2a3f5f"
          },
          "geo": {
           "bgcolor": "white",
           "lakecolor": "white",
           "landcolor": "#E5ECF6",
           "showlakes": true,
           "showland": true,
           "subunitcolor": "white"
          },
          "hoverlabel": {
           "align": "left"
          },
          "hovermode": "closest",
          "mapbox": {
           "style": "light"
          },
          "paper_bgcolor": "white",
          "plot_bgcolor": "#E5ECF6",
          "polar": {
           "angularaxis": {
            "gridcolor": "white",
            "linecolor": "white",
            "ticks": ""
           },
           "bgcolor": "#E5ECF6",
           "radialaxis": {
            "gridcolor": "white",
            "linecolor": "white",
            "ticks": ""
           }
          },
          "scene": {
           "xaxis": {
            "backgroundcolor": "#E5ECF6",
            "gridcolor": "white",
            "gridwidth": 2,
            "linecolor": "white",
            "showbackground": true,
            "ticks": "",
            "zerolinecolor": "white"
           },
           "yaxis": {
            "backgroundcolor": "#E5ECF6",
            "gridcolor": "white",
            "gridwidth": 2,
            "linecolor": "white",
            "showbackground": true,
            "ticks": "",
            "zerolinecolor": "white"
           },
           "zaxis": {
            "backgroundcolor": "#E5ECF6",
            "gridcolor": "white",
            "gridwidth": 2,
            "linecolor": "white",
            "showbackground": true,
            "ticks": "",
            "zerolinecolor": "white"
           }
          },
          "shapedefaults": {
           "line": {
            "color": "#2a3f5f"
           }
          },
          "ternary": {
           "aaxis": {
            "gridcolor": "white",
            "linecolor": "white",
            "ticks": ""
           },
           "baxis": {
            "gridcolor": "white",
            "linecolor": "white",
            "ticks": ""
           },
           "bgcolor": "#E5ECF6",
           "caxis": {
            "gridcolor": "white",
            "linecolor": "white",
            "ticks": ""
           }
          },
          "title": {
           "x": 0.05
          },
          "xaxis": {
           "automargin": true,
           "gridcolor": "white",
           "linecolor": "white",
           "ticks": "",
           "title": {
            "standoff": 15
           },
           "zerolinecolor": "white",
           "zerolinewidth": 2
          },
          "yaxis": {
           "automargin": true,
           "gridcolor": "white",
           "linecolor": "white",
           "ticks": "",
           "title": {
            "standoff": 15
           },
           "zerolinecolor": "white",
           "zerolinewidth": 2
          }
         }
        },
        "title": {
         "text": "Average CO2 benefit across Neighborhoods"
        }
       }
      },
      "text/html": [
       "<div>                            <div id=\"768a49ec-2f03-4af3-8864-d001200c69d8\" class=\"plotly-graph-div\" style=\"height:500px; width:100%;\"></div>            <script type=\"text/javascript\">                require([\"plotly\"], function(Plotly) {                    window.PLOTLYENV=window.PLOTLYENV || {};                                    if (document.getElementById(\"768a49ec-2f03-4af3-8864-d001200c69d8\")) {                    Plotly.newPlot(                        \"768a49ec-2f03-4af3-8864-d001200c69d8\",                        [{\"coloraxis\":\"coloraxis\",\"featureidkey\":\"properties.name\",\"geo\":\"geo\",\"geojson\":\"https://raw.githubusercontent.com/blackmad/neighborhoods/master/gn-pittsburgh.geojson\",\"hovertemplate\":\"neighborhood=%{location}<br>co2_benefits_dollar_value=%{z}<extra></extra>\",\"locations\":[\"Allegheny Center\",\"Allegheny West\",\"Allentown\",\"Arlington\",\"Arlington Heights\",\"Banksville\",\"Bedford Dwellings\",\"Beechview\",\"Beltzhoover\",\"Bloomfield\",\"Bluff\",\"Bon Air\",\"Brighton Heights\",\"Brookline\",\"California-Kirkbride\",\"Carrick\",\"Central Business District\",\"Central Lawrenceville\",\"Central Northside\",\"Central Oakland\",\"Chartiers City\",\"Chateau\",\"Crafton Heights\",\"Crawford-Roberts\",\"Duquesne Heights\",\"East Allegheny\",\"East Carnegie\",\"East Hills\",\"East Liberty\",\"Elliott\",\"Esplen\",\"Fairywood\",\"Fineview\",\"Friendship\",\"Garfield\",\"Glen Hazel\",\"Greenfield\",\"Hays\",\"Hazelwood\",\"Highland Park\",\"Homewood North\",\"Homewood South\",\"Homewood West\",\"Knoxville\",\"Larimer\",\"Lincoln Place\",\"Lincoln-Lemington-Belmar\",\"Lower Lawrenceville\",\"Manchester\",\"Marshall-Shadeland\",\"Middle Hill\",\"Morningside\",\"Mount Washington\",\"Mt. Oliver\",\"New Homestead\",\"North Oakland\",\"North Shore\",\"Northview Heights\",\"Oakwood\",\"Overbrook\",\"Perry North\",\"Perry South\",\"Point Breeze\",\"Point Breeze North\",\"Polish Hill\",\"Regent Square\",\"Ridgemont\",\"Shadyside\",\"Sheraden\",\"South Oakland\",\"South Shore\",\"South Side Flats\",\"South Side Slopes\",\"Spring Garden\",\"Spring Hill-City View\",\"Squirrel Hill North\",\"Squirrel Hill South\",\"St. Clair\",\"Stanton Heights\",\"Strip District\",\"Summer Hill\",\"Swisshelm Park\",\"Terrace Village\",\"Troy Hill\",\"Upper Hill\",\"Upper Lawrenceville\",\"West End\",\"West Oakland\",\"Westwood\",\"Windgap\"],\"name\":\"\",\"type\":\"choropleth\",\"z\":[10.172133758761088,5.3289174476534695,0.2808782260702854,0.12647030845559595,0.05247910572411103,0.7750412272358338,0.6732392908433658,0.5058953439343048,0.34151114070497113,1.75910017985866,0.37929800512818507,0.409146812982843,1.0046075227138176,0.5822637721022983,0.40014566256990525,0.5351594448879264,1.0717854036773886,0.3738747850239205,2.041892505433793,1.9221608749014978,0.6439772202097731,0.5492809647332962,0.639924760974643,1.8239127382696714,0.13699087554688227,1.55922073874459,0.013937180587599636,1.2500254843073748,1.6758054840611216,0.38803011539433896,0.007348711512996773,0.07573287564598326,0.44459970679318234,2.8798377363845526,1.1749476084065367,0.0012058197900094475,1.1089555369922737,0.00011716735116546034,0.39384373793347777,4.885688343711779,0.7712615857959327,0.8953717636266202,0.4129831877095338,2.345971621430502,0.7101149972009757,0.3989179654481017,2.6697625459724605,0.9822870541634168,1.885616067543567,2.661359613001274,0.6710181034151499,1.124999719624452,0.7696533721783182,0.12724730997476824,0.46935306546061056,1.927843102244509,1.1770297435673542,0.02572732703617321,0.5037069099076588,0.43609516932917447,1.394263660674357,0.5342949275571982,2.4348114527740683,2.6353160534939346,0.6141728873038615,4.0915951988384505,0.0834948653398614,2.1837008165254574,0.5064342631651362,0.33005017458596253,0.002015418233140726,1.1708456493561004,0.23001929266439053,0.14499146847568128,0.15236849108683947,3.7997251878891256,3.4269202466818993,0.06279162526184912,1.9759640985205624,0.39274596695099206,0.2998206236234393,1.113393524443721,0.5126710345926638,0.12960213048632943,0.5441042796596548,0.9567868994410693,0.48665592872836655,0.18308775786156298,0.5940171039111345,0.41328741257420526]}],                        {\"coloraxis\":{\"colorbar\":{\"title\":{\"text\":\"co2_benefits_dollar_value\"}},\"colorscale\":[[0.0,\"rgb(247,252,245)\"],[0.125,\"rgb(229,245,224)\"],[0.25,\"rgb(199,233,192)\"],[0.375,\"rgb(161,217,155)\"],[0.5,\"rgb(116,196,118)\"],[0.625,\"rgb(65,171,93)\"],[0.75,\"rgb(35,139,69)\"],[0.875,\"rgb(0,109,44)\"],[1.0,\"rgb(0,68,27)\"]]},\"geo\":{\"center\":{},\"domain\":{\"x\":[0.0,1.0],\"y\":[0.0,1.0]},\"fitbounds\":\"locations\",\"visible\":false},\"height\":500,\"legend\":{\"tracegroupgap\":0},\"template\":{\"data\":{\"bar\":[{\"error_x\":{\"color\":\"#2a3f5f\"},\"error_y\":{\"color\":\"#2a3f5f\"},\"marker\":{\"line\":{\"color\":\"#E5ECF6\",\"width\":0.5},\"pattern\":{\"fillmode\":\"overlay\",\"size\":10,\"solidity\":0.2}},\"type\":\"bar\"}],\"barpolar\":[{\"marker\":{\"line\":{\"color\":\"#E5ECF6\",\"width\":0.5},\"pattern\":{\"fillmode\":\"overlay\",\"size\":10,\"solidity\":0.2}},\"type\":\"barpolar\"}],\"carpet\":[{\"aaxis\":{\"endlinecolor\":\"#2a3f5f\",\"gridcolor\":\"white\",\"linecolor\":\"white\",\"minorgridcolor\":\"white\",\"startlinecolor\":\"#2a3f5f\"},\"baxis\":{\"endlinecolor\":\"#2a3f5f\",\"gridcolor\":\"white\",\"linecolor\":\"white\",\"minorgridcolor\":\"white\",\"startlinecolor\":\"#2a3f5f\"},\"type\":\"carpet\"}],\"choropleth\":[{\"colorbar\":{\"outlinewidth\":0,\"ticks\":\"\"},\"type\":\"choropleth\"}],\"contour\":[{\"colorbar\":{\"outlinewidth\":0,\"ticks\":\"\"},\"colorscale\":[[0.0,\"#0d0887\"],[0.1111111111111111,\"#46039f\"],[0.2222222222222222,\"#7201a8\"],[0.3333333333333333,\"#9c179e\"],[0.4444444444444444,\"#bd3786\"],[0.5555555555555556,\"#d8576b\"],[0.6666666666666666,\"#ed7953\"],[0.7777777777777778,\"#fb9f3a\"],[0.8888888888888888,\"#fdca26\"],[1.0,\"#f0f921\"]],\"type\":\"contour\"}],\"contourcarpet\":[{\"colorbar\":{\"outlinewidth\":0,\"ticks\":\"\"},\"type\":\"contourcarpet\"}],\"heatmap\":[{\"colorbar\":{\"outlinewidth\":0,\"ticks\":\"\"},\"colorscale\":[[0.0,\"#0d0887\"],[0.1111111111111111,\"#46039f\"],[0.2222222222222222,\"#7201a8\"],[0.3333333333333333,\"#9c179e\"],[0.4444444444444444,\"#bd3786\"],[0.5555555555555556,\"#d8576b\"],[0.6666666666666666,\"#ed7953\"],[0.7777777777777778,\"#fb9f3a\"],[0.8888888888888888,\"#fdca26\"],[1.0,\"#f0f921\"]],\"type\":\"heatmap\"}],\"heatmapgl\":[{\"colorbar\":{\"outlinewidth\":0,\"ticks\":\"\"},\"colorscale\":[[0.0,\"#0d0887\"],[0.1111111111111111,\"#46039f\"],[0.2222222222222222,\"#7201a8\"],[0.3333333333333333,\"#9c179e\"],[0.4444444444444444,\"#bd3786\"],[0.5555555555555556,\"#d8576b\"],[0.6666666666666666,\"#ed7953\"],[0.7777777777777778,\"#fb9f3a\"],[0.8888888888888888,\"#fdca26\"],[1.0,\"#f0f921\"]],\"type\":\"heatmapgl\"}],\"histogram\":[{\"marker\":{\"pattern\":{\"fillmode\":\"overlay\",\"size\":10,\"solidity\":0.2}},\"type\":\"histogram\"}],\"histogram2d\":[{\"colorbar\":{\"outlinewidth\":0,\"ticks\":\"\"},\"colorscale\":[[0.0,\"#0d0887\"],[0.1111111111111111,\"#46039f\"],[0.2222222222222222,\"#7201a8\"],[0.3333333333333333,\"#9c179e\"],[0.4444444444444444,\"#bd3786\"],[0.5555555555555556,\"#d8576b\"],[0.6666666666666666,\"#ed7953\"],[0.7777777777777778,\"#fb9f3a\"],[0.8888888888888888,\"#fdca26\"],[1.0,\"#f0f921\"]],\"type\":\"histogram2d\"}],\"histogram2dcontour\":[{\"colorbar\":{\"outlinewidth\":0,\"ticks\":\"\"},\"colorscale\":[[0.0,\"#0d0887\"],[0.1111111111111111,\"#46039f\"],[0.2222222222222222,\"#7201a8\"],[0.3333333333333333,\"#9c179e\"],[0.4444444444444444,\"#bd3786\"],[0.5555555555555556,\"#d8576b\"],[0.6666666666666666,\"#ed7953\"],[0.7777777777777778,\"#fb9f3a\"],[0.8888888888888888,\"#fdca26\"],[1.0,\"#f0f921\"]],\"type\":\"histogram2dcontour\"}],\"mesh3d\":[{\"colorbar\":{\"outlinewidth\":0,\"ticks\":\"\"},\"type\":\"mesh3d\"}],\"parcoords\":[{\"line\":{\"colorbar\":{\"outlinewidth\":0,\"ticks\":\"\"}},\"type\":\"parcoords\"}],\"pie\":[{\"automargin\":true,\"type\":\"pie\"}],\"scatter\":[{\"marker\":{\"colorbar\":{\"outlinewidth\":0,\"ticks\":\"\"}},\"type\":\"scatter\"}],\"scatter3d\":[{\"line\":{\"colorbar\":{\"outlinewidth\":0,\"ticks\":\"\"}},\"marker\":{\"colorbar\":{\"outlinewidth\":0,\"ticks\":\"\"}},\"type\":\"scatter3d\"}],\"scattercarpet\":[{\"marker\":{\"colorbar\":{\"outlinewidth\":0,\"ticks\":\"\"}},\"type\":\"scattercarpet\"}],\"scattergeo\":[{\"marker\":{\"colorbar\":{\"outlinewidth\":0,\"ticks\":\"\"}},\"type\":\"scattergeo\"}],\"scattergl\":[{\"marker\":{\"colorbar\":{\"outlinewidth\":0,\"ticks\":\"\"}},\"type\":\"scattergl\"}],\"scattermapbox\":[{\"marker\":{\"colorbar\":{\"outlinewidth\":0,\"ticks\":\"\"}},\"type\":\"scattermapbox\"}],\"scatterpolar\":[{\"marker\":{\"colorbar\":{\"outlinewidth\":0,\"ticks\":\"\"}},\"type\":\"scatterpolar\"}],\"scatterpolargl\":[{\"marker\":{\"colorbar\":{\"outlinewidth\":0,\"ticks\":\"\"}},\"type\":\"scatterpolargl\"}],\"scatterternary\":[{\"marker\":{\"colorbar\":{\"outlinewidth\":0,\"ticks\":\"\"}},\"type\":\"scatterternary\"}],\"surface\":[{\"colorbar\":{\"outlinewidth\":0,\"ticks\":\"\"},\"colorscale\":[[0.0,\"#0d0887\"],[0.1111111111111111,\"#46039f\"],[0.2222222222222222,\"#7201a8\"],[0.3333333333333333,\"#9c179e\"],[0.4444444444444444,\"#bd3786\"],[0.5555555555555556,\"#d8576b\"],[0.6666666666666666,\"#ed7953\"],[0.7777777777777778,\"#fb9f3a\"],[0.8888888888888888,\"#fdca26\"],[1.0,\"#f0f921\"]],\"type\":\"surface\"}],\"table\":[{\"cells\":{\"fill\":{\"color\":\"#EBF0F8\"},\"line\":{\"color\":\"white\"}},\"header\":{\"fill\":{\"color\":\"#C8D4E3\"},\"line\":{\"color\":\"white\"}},\"type\":\"table\"}]},\"layout\":{\"annotationdefaults\":{\"arrowcolor\":\"#2a3f5f\",\"arrowhead\":0,\"arrowwidth\":1},\"autotypenumbers\":\"strict\",\"coloraxis\":{\"colorbar\":{\"outlinewidth\":0,\"ticks\":\"\"}},\"colorscale\":{\"diverging\":[[0,\"#8e0152\"],[0.1,\"#c51b7d\"],[0.2,\"#de77ae\"],[0.3,\"#f1b6da\"],[0.4,\"#fde0ef\"],[0.5,\"#f7f7f7\"],[0.6,\"#e6f5d0\"],[0.7,\"#b8e186\"],[0.8,\"#7fbc41\"],[0.9,\"#4d9221\"],[1,\"#276419\"]],\"sequential\":[[0.0,\"#0d0887\"],[0.1111111111111111,\"#46039f\"],[0.2222222222222222,\"#7201a8\"],[0.3333333333333333,\"#9c179e\"],[0.4444444444444444,\"#bd3786\"],[0.5555555555555556,\"#d8576b\"],[0.6666666666666666,\"#ed7953\"],[0.7777777777777778,\"#fb9f3a\"],[0.8888888888888888,\"#fdca26\"],[1.0,\"#f0f921\"]],\"sequentialminus\":[[0.0,\"#0d0887\"],[0.1111111111111111,\"#46039f\"],[0.2222222222222222,\"#7201a8\"],[0.3333333333333333,\"#9c179e\"],[0.4444444444444444,\"#bd3786\"],[0.5555555555555556,\"#d8576b\"],[0.6666666666666666,\"#ed7953\"],[0.7777777777777778,\"#fb9f3a\"],[0.8888888888888888,\"#fdca26\"],[1.0,\"#f0f921\"]]},\"colorway\":[\"#636efa\",\"#EF553B\",\"#00cc96\",\"#ab63fa\",\"#FFA15A\",\"#19d3f3\",\"#FF6692\",\"#B6E880\",\"#FF97FF\",\"#FECB52\"],\"font\":{\"color\":\"#2a3f5f\"},\"geo\":{\"bgcolor\":\"white\",\"lakecolor\":\"white\",\"landcolor\":\"#E5ECF6\",\"showlakes\":true,\"showland\":true,\"subunitcolor\":\"white\"},\"hoverlabel\":{\"align\":\"left\"},\"hovermode\":\"closest\",\"mapbox\":{\"style\":\"light\"},\"paper_bgcolor\":\"white\",\"plot_bgcolor\":\"#E5ECF6\",\"polar\":{\"angularaxis\":{\"gridcolor\":\"white\",\"linecolor\":\"white\",\"ticks\":\"\"},\"bgcolor\":\"#E5ECF6\",\"radialaxis\":{\"gridcolor\":\"white\",\"linecolor\":\"white\",\"ticks\":\"\"}},\"scene\":{\"xaxis\":{\"backgroundcolor\":\"#E5ECF6\",\"gridcolor\":\"white\",\"gridwidth\":2,\"linecolor\":\"white\",\"showbackground\":true,\"ticks\":\"\",\"zerolinecolor\":\"white\"},\"yaxis\":{\"backgroundcolor\":\"#E5ECF6\",\"gridcolor\":\"white\",\"gridwidth\":2,\"linecolor\":\"white\",\"showbackground\":true,\"ticks\":\"\",\"zerolinecolor\":\"white\"},\"zaxis\":{\"backgroundcolor\":\"#E5ECF6\",\"gridcolor\":\"white\",\"gridwidth\":2,\"linecolor\":\"white\",\"showbackground\":true,\"ticks\":\"\",\"zerolinecolor\":\"white\"}},\"shapedefaults\":{\"line\":{\"color\":\"#2a3f5f\"}},\"ternary\":{\"aaxis\":{\"gridcolor\":\"white\",\"linecolor\":\"white\",\"ticks\":\"\"},\"baxis\":{\"gridcolor\":\"white\",\"linecolor\":\"white\",\"ticks\":\"\"},\"bgcolor\":\"#E5ECF6\",\"caxis\":{\"gridcolor\":\"white\",\"linecolor\":\"white\",\"ticks\":\"\"}},\"title\":{\"x\":0.05},\"xaxis\":{\"automargin\":true,\"gridcolor\":\"white\",\"linecolor\":\"white\",\"ticks\":\"\",\"title\":{\"standoff\":15},\"zerolinecolor\":\"white\",\"zerolinewidth\":2},\"yaxis\":{\"automargin\":true,\"gridcolor\":\"white\",\"linecolor\":\"white\",\"ticks\":\"\",\"title\":{\"standoff\":15},\"zerolinecolor\":\"white\",\"zerolinewidth\":2}}},\"title\":{\"text\":\"Average CO2 benefit across Neighborhoods\"}},                        {\"responsive\": true}                    ).then(function(){\n",
       "                            \n",
       "var gd = document.getElementById('768a49ec-2f03-4af3-8864-d001200c69d8');\n",
       "var x = new MutationObserver(function (mutations, observer) {{\n",
       "        var display = window.getComputedStyle(gd).display;\n",
       "        if (!display || display === 'none') {{\n",
       "            console.log([gd, 'removed!']);\n",
       "            Plotly.purge(gd);\n",
       "            observer.disconnect();\n",
       "        }}\n",
       "}});\n",
       "\n",
       "// Listen for the removal of the full notebook cells\n",
       "var notebookContainer = gd.closest('#notebook-container');\n",
       "if (notebookContainer) {{\n",
       "    x.observe(notebookContainer, {childList: true});\n",
       "}}\n",
       "\n",
       "// Listen for the clearing of the current output cell\n",
       "var outputEl = gd.closest('.output');\n",
       "if (outputEl) {{\n",
       "    x.observe(outputEl, {childList: true});\n",
       "}}\n",
       "\n",
       "                        })                };                });            </script>        </div>"
      ]
     },
     "metadata": {},
     "output_type": "display_data"
    }
   ],
   "source": [
    "fig=px.choropleth(co2_benefit_map,\n",
    "             geojson=\"https://raw.githubusercontent.com/blackmad/neighborhoods/master/gn-pittsburgh.geojson\",\n",
    "             featureidkey='properties.name',   \n",
    "             locations='neighborhood',        #column in dataframe\n",
    "             color='co2_benefits_dollar_value',\n",
    "              color_continuous_scale='greens',\n",
    "               title='Average CO2 benefit across Neighborhoods' ,  \n",
    "               height=500\n",
    "              )\n",
    "fig.update_geos(fitbounds=\"locations\", visible=False)\n",
    "fig.show()"
   ]
  },
  {
   "cell_type": "markdown",
   "id": "7c9967d9",
   "metadata": {},
   "source": [
    "**Top 5 neighborhoods with highest CO2 benefit**"
   ]
  },
  {
   "cell_type": "code",
   "execution_count": 781,
   "id": "611c4be6",
   "metadata": {},
   "outputs": [
    {
     "data": {
      "text/html": [
       "<div>\n",
       "<style scoped>\n",
       "    .dataframe tbody tr th:only-of-type {\n",
       "        vertical-align: middle;\n",
       "    }\n",
       "\n",
       "    .dataframe tbody tr th {\n",
       "        vertical-align: top;\n",
       "    }\n",
       "\n",
       "    .dataframe thead th {\n",
       "        text-align: right;\n",
       "    }\n",
       "</style>\n",
       "<table border=\"1\" class=\"dataframe\">\n",
       "  <thead>\n",
       "    <tr style=\"text-align: right;\">\n",
       "      <th></th>\n",
       "      <th>neighborhood</th>\n",
       "      <th>co2_benefits_dollar_value</th>\n",
       "    </tr>\n",
       "  </thead>\n",
       "  <tbody>\n",
       "    <tr>\n",
       "      <th>0</th>\n",
       "      <td>Allegheny Center</td>\n",
       "      <td>10.172134</td>\n",
       "    </tr>\n",
       "    <tr>\n",
       "      <th>1</th>\n",
       "      <td>Allegheny West</td>\n",
       "      <td>5.328917</td>\n",
       "    </tr>\n",
       "    <tr>\n",
       "      <th>39</th>\n",
       "      <td>Highland Park</td>\n",
       "      <td>4.885688</td>\n",
       "    </tr>\n",
       "    <tr>\n",
       "      <th>65</th>\n",
       "      <td>Regent Square</td>\n",
       "      <td>4.091595</td>\n",
       "    </tr>\n",
       "    <tr>\n",
       "      <th>75</th>\n",
       "      <td>Squirrel Hill North</td>\n",
       "      <td>3.799725</td>\n",
       "    </tr>\n",
       "  </tbody>\n",
       "</table>\n",
       "</div>"
      ],
      "text/plain": [
       "           neighborhood  co2_benefits_dollar_value\n",
       "0      Allegheny Center                  10.172134\n",
       "1        Allegheny West                   5.328917\n",
       "39        Highland Park                   4.885688\n",
       "65        Regent Square                   4.091595\n",
       "75  Squirrel Hill North                   3.799725"
      ]
     },
     "execution_count": 781,
     "metadata": {},
     "output_type": "execute_result"
    }
   ],
   "source": [
    "co2_benefit_map.sort_values('co2_benefits_dollar_value', ascending=False).head(5)"
   ]
  },
  {
   "cell_type": "markdown",
   "id": "9b4d07f0",
   "metadata": {},
   "source": [
    "**Inference:\n",
    "3 of the top 5 neighborhoods with the highest CO2 benefits are also in the top 5 neighborhoods with highest tree density. This exhibhits a clear positive correlation between the two**"
   ]
  },
  {
   "cell_type": "markdown",
   "id": "480b4068",
   "metadata": {},
   "source": [
    "# Plot neighborhood level tree Air quality benefits data"
   ]
  },
  {
   "cell_type": "code",
   "execution_count": 782,
   "id": "4f8a1f41",
   "metadata": {},
   "outputs": [],
   "source": [
    "air_quality_benefit_map = combined_data[['neighborhood', 'air_quality_benfits_total_dollar_value']].copy()"
   ]
  },
  {
   "cell_type": "code",
   "execution_count": 783,
   "id": "17e851fa",
   "metadata": {},
   "outputs": [
    {
     "data": {
      "application/vnd.plotly.v1+json": {
       "config": {
        "plotlyServerURL": "https://plot.ly"
       },
       "data": [
        {
         "coloraxis": "coloraxis",
         "featureidkey": "properties.name",
         "geo": "geo",
         "geojson": "https://raw.githubusercontent.com/blackmad/neighborhoods/master/gn-pittsburgh.geojson",
         "hovertemplate": "neighborhood=%{location}<br>air_quality_benfits_total_dollar_value=%{z}<extra></extra>",
         "locations": [
          "Allegheny Center",
          "Allegheny West",
          "Allentown",
          "Arlington",
          "Arlington Heights",
          "Banksville",
          "Bedford Dwellings",
          "Beechview",
          "Beltzhoover",
          "Bloomfield",
          "Bluff",
          "Bon Air",
          "Brighton Heights",
          "Brookline",
          "California-Kirkbride",
          "Carrick",
          "Central Business District",
          "Central Lawrenceville",
          "Central Northside",
          "Central Oakland",
          "Chartiers City",
          "Chateau",
          "Crafton Heights",
          "Crawford-Roberts",
          "Duquesne Heights",
          "East Allegheny",
          "East Carnegie",
          "East Hills",
          "East Liberty",
          "Elliott",
          "Esplen",
          "Fairywood",
          "Fineview",
          "Friendship",
          "Garfield",
          "Glen Hazel",
          "Greenfield",
          "Hays",
          "Hazelwood",
          "Highland Park",
          "Homewood North",
          "Homewood South",
          "Homewood West",
          "Knoxville",
          "Larimer",
          "Lincoln Place",
          "Lincoln-Lemington-Belmar",
          "Lower Lawrenceville",
          "Manchester",
          "Marshall-Shadeland",
          "Middle Hill",
          "Morningside",
          "Mount Washington",
          "Mt. Oliver",
          "New Homestead",
          "North Oakland",
          "North Shore",
          "Northview Heights",
          "Oakwood",
          "Overbrook",
          "Perry North",
          "Perry South",
          "Point Breeze",
          "Point Breeze North",
          "Polish Hill",
          "Regent Square",
          "Ridgemont",
          "Shadyside",
          "Sheraden",
          "South Oakland",
          "South Shore",
          "South Side Flats",
          "South Side Slopes",
          "Spring Garden",
          "Spring Hill-City View",
          "Squirrel Hill North",
          "Squirrel Hill South",
          "St. Clair",
          "Stanton Heights",
          "Strip District",
          "Summer Hill",
          "Swisshelm Park",
          "Terrace Village",
          "Troy Hill",
          "Upper Hill",
          "Upper Lawrenceville",
          "West End",
          "West Oakland",
          "Westwood",
          "Windgap"
         ],
         "name": "",
         "type": "choropleth",
         "z": [
          79.60478095817605,
          41.4375344847473,
          2.259780726650177,
          1.0004954183698138,
          0.516332384176518,
          5.914693968638372,
          5.741610980065374,
          4.076781041146541,
          2.7384285943140902,
          13.28987515746522,
          2.825983121282157,
          2.8493357980210017,
          7.916762796050106,
          4.442028603976529,
          3.244398264352455,
          3.990340103504904,
          8.019824705072498,
          2.816531194524492,
          15.365560095342486,
          15.291982997954465,
          4.193230110384847,
          3.9422386212762635,
          4.586879227231479,
          12.801341588717076,
          1.036431319442966,
          11.238296144330409,
          0.12241643763712196,
          10.122876134470202,
          13.542020926013715,
          3.066833822796166,
          0.06857415512323022,
          0.5207473198399526,
          3.59204353397119,
          22.203529973708182,
          8.809859845002743,
          0.01142982353523399,
          8.35958956237391,
          0.0015104584437456796,
          2.9097477335252386,
          37.17010915887291,
          6.37172213478743,
          7.499903773820074,
          2.923425590419756,
          16.06771469021208,
          5.550554339822937,
          3.0510013290080855,
          21.7546901528135,
          6.922611580184978,
          15.07647632768052,
          19.228211987520087,
          5.050383390237353,
          8.444917938279703,
          6.147667791373513,
          0.8796146604107753,
          3.652970595253004,
          15.348207015540945,
          9.167642587766744,
          0.2049349803471458,
          4.49530531605144,
          2.9340829266167554,
          11.026583246290317,
          4.006128081701039,
          18.662194785358462,
          19.492672850580135,
          4.636214186439394,
          31.963338840491016,
          0.6690031410164559,
          16.695063073900663,
          4.159826188119314,
          2.637224339511159,
          0.017481471160564168,
          8.761686527953712,
          1.8263463567238223,
          1.0816096881104837,
          1.25109211204195,
          29.528303934190674,
          27.014410521293197,
          0.5022174776222897,
          14.614757764699815,
          2.927485182300585,
          1.9096320538098672,
          7.595162127772389,
          4.07540795044157,
          1.0667442999489245,
          4.390045764413492,
          7.0366498061459986,
          3.379718119906449,
          1.4181899547614905,
          4.350946712679946,
          3.3053326053525036
         ]
        }
       ],
       "layout": {
        "coloraxis": {
         "colorbar": {
          "title": {
           "text": "air_quality_benfits_total_dollar_value"
          }
         },
         "colorscale": [
          [
           0,
           "rgb(247,252,245)"
          ],
          [
           0.125,
           "rgb(229,245,224)"
          ],
          [
           0.25,
           "rgb(199,233,192)"
          ],
          [
           0.375,
           "rgb(161,217,155)"
          ],
          [
           0.5,
           "rgb(116,196,118)"
          ],
          [
           0.625,
           "rgb(65,171,93)"
          ],
          [
           0.75,
           "rgb(35,139,69)"
          ],
          [
           0.875,
           "rgb(0,109,44)"
          ],
          [
           1,
           "rgb(0,68,27)"
          ]
         ]
        },
        "geo": {
         "center": {},
         "domain": {
          "x": [
           0,
           1
          ],
          "y": [
           0,
           1
          ]
         },
         "fitbounds": "locations",
         "visible": false
        },
        "height": 500,
        "legend": {
         "tracegroupgap": 0
        },
        "template": {
         "data": {
          "bar": [
           {
            "error_x": {
             "color": "#2a3f5f"
            },
            "error_y": {
             "color": "#2a3f5f"
            },
            "marker": {
             "line": {
              "color": "#E5ECF6",
              "width": 0.5
             },
             "pattern": {
              "fillmode": "overlay",
              "size": 10,
              "solidity": 0.2
             }
            },
            "type": "bar"
           }
          ],
          "barpolar": [
           {
            "marker": {
             "line": {
              "color": "#E5ECF6",
              "width": 0.5
             },
             "pattern": {
              "fillmode": "overlay",
              "size": 10,
              "solidity": 0.2
             }
            },
            "type": "barpolar"
           }
          ],
          "carpet": [
           {
            "aaxis": {
             "endlinecolor": "#2a3f5f",
             "gridcolor": "white",
             "linecolor": "white",
             "minorgridcolor": "white",
             "startlinecolor": "#2a3f5f"
            },
            "baxis": {
             "endlinecolor": "#2a3f5f",
             "gridcolor": "white",
             "linecolor": "white",
             "minorgridcolor": "white",
             "startlinecolor": "#2a3f5f"
            },
            "type": "carpet"
           }
          ],
          "choropleth": [
           {
            "colorbar": {
             "outlinewidth": 0,
             "ticks": ""
            },
            "type": "choropleth"
           }
          ],
          "contour": [
           {
            "colorbar": {
             "outlinewidth": 0,
             "ticks": ""
            },
            "colorscale": [
             [
              0,
              "#0d0887"
             ],
             [
              0.1111111111111111,
              "#46039f"
             ],
             [
              0.2222222222222222,
              "#7201a8"
             ],
             [
              0.3333333333333333,
              "#9c179e"
             ],
             [
              0.4444444444444444,
              "#bd3786"
             ],
             [
              0.5555555555555556,
              "#d8576b"
             ],
             [
              0.6666666666666666,
              "#ed7953"
             ],
             [
              0.7777777777777778,
              "#fb9f3a"
             ],
             [
              0.8888888888888888,
              "#fdca26"
             ],
             [
              1,
              "#f0f921"
             ]
            ],
            "type": "contour"
           }
          ],
          "contourcarpet": [
           {
            "colorbar": {
             "outlinewidth": 0,
             "ticks": ""
            },
            "type": "contourcarpet"
           }
          ],
          "heatmap": [
           {
            "colorbar": {
             "outlinewidth": 0,
             "ticks": ""
            },
            "colorscale": [
             [
              0,
              "#0d0887"
             ],
             [
              0.1111111111111111,
              "#46039f"
             ],
             [
              0.2222222222222222,
              "#7201a8"
             ],
             [
              0.3333333333333333,
              "#9c179e"
             ],
             [
              0.4444444444444444,
              "#bd3786"
             ],
             [
              0.5555555555555556,
              "#d8576b"
             ],
             [
              0.6666666666666666,
              "#ed7953"
             ],
             [
              0.7777777777777778,
              "#fb9f3a"
             ],
             [
              0.8888888888888888,
              "#fdca26"
             ],
             [
              1,
              "#f0f921"
             ]
            ],
            "type": "heatmap"
           }
          ],
          "heatmapgl": [
           {
            "colorbar": {
             "outlinewidth": 0,
             "ticks": ""
            },
            "colorscale": [
             [
              0,
              "#0d0887"
             ],
             [
              0.1111111111111111,
              "#46039f"
             ],
             [
              0.2222222222222222,
              "#7201a8"
             ],
             [
              0.3333333333333333,
              "#9c179e"
             ],
             [
              0.4444444444444444,
              "#bd3786"
             ],
             [
              0.5555555555555556,
              "#d8576b"
             ],
             [
              0.6666666666666666,
              "#ed7953"
             ],
             [
              0.7777777777777778,
              "#fb9f3a"
             ],
             [
              0.8888888888888888,
              "#fdca26"
             ],
             [
              1,
              "#f0f921"
             ]
            ],
            "type": "heatmapgl"
           }
          ],
          "histogram": [
           {
            "marker": {
             "pattern": {
              "fillmode": "overlay",
              "size": 10,
              "solidity": 0.2
             }
            },
            "type": "histogram"
           }
          ],
          "histogram2d": [
           {
            "colorbar": {
             "outlinewidth": 0,
             "ticks": ""
            },
            "colorscale": [
             [
              0,
              "#0d0887"
             ],
             [
              0.1111111111111111,
              "#46039f"
             ],
             [
              0.2222222222222222,
              "#7201a8"
             ],
             [
              0.3333333333333333,
              "#9c179e"
             ],
             [
              0.4444444444444444,
              "#bd3786"
             ],
             [
              0.5555555555555556,
              "#d8576b"
             ],
             [
              0.6666666666666666,
              "#ed7953"
             ],
             [
              0.7777777777777778,
              "#fb9f3a"
             ],
             [
              0.8888888888888888,
              "#fdca26"
             ],
             [
              1,
              "#f0f921"
             ]
            ],
            "type": "histogram2d"
           }
          ],
          "histogram2dcontour": [
           {
            "colorbar": {
             "outlinewidth": 0,
             "ticks": ""
            },
            "colorscale": [
             [
              0,
              "#0d0887"
             ],
             [
              0.1111111111111111,
              "#46039f"
             ],
             [
              0.2222222222222222,
              "#7201a8"
             ],
             [
              0.3333333333333333,
              "#9c179e"
             ],
             [
              0.4444444444444444,
              "#bd3786"
             ],
             [
              0.5555555555555556,
              "#d8576b"
             ],
             [
              0.6666666666666666,
              "#ed7953"
             ],
             [
              0.7777777777777778,
              "#fb9f3a"
             ],
             [
              0.8888888888888888,
              "#fdca26"
             ],
             [
              1,
              "#f0f921"
             ]
            ],
            "type": "histogram2dcontour"
           }
          ],
          "mesh3d": [
           {
            "colorbar": {
             "outlinewidth": 0,
             "ticks": ""
            },
            "type": "mesh3d"
           }
          ],
          "parcoords": [
           {
            "line": {
             "colorbar": {
              "outlinewidth": 0,
              "ticks": ""
             }
            },
            "type": "parcoords"
           }
          ],
          "pie": [
           {
            "automargin": true,
            "type": "pie"
           }
          ],
          "scatter": [
           {
            "marker": {
             "colorbar": {
              "outlinewidth": 0,
              "ticks": ""
             }
            },
            "type": "scatter"
           }
          ],
          "scatter3d": [
           {
            "line": {
             "colorbar": {
              "outlinewidth": 0,
              "ticks": ""
             }
            },
            "marker": {
             "colorbar": {
              "outlinewidth": 0,
              "ticks": ""
             }
            },
            "type": "scatter3d"
           }
          ],
          "scattercarpet": [
           {
            "marker": {
             "colorbar": {
              "outlinewidth": 0,
              "ticks": ""
             }
            },
            "type": "scattercarpet"
           }
          ],
          "scattergeo": [
           {
            "marker": {
             "colorbar": {
              "outlinewidth": 0,
              "ticks": ""
             }
            },
            "type": "scattergeo"
           }
          ],
          "scattergl": [
           {
            "marker": {
             "colorbar": {
              "outlinewidth": 0,
              "ticks": ""
             }
            },
            "type": "scattergl"
           }
          ],
          "scattermapbox": [
           {
            "marker": {
             "colorbar": {
              "outlinewidth": 0,
              "ticks": ""
             }
            },
            "type": "scattermapbox"
           }
          ],
          "scatterpolar": [
           {
            "marker": {
             "colorbar": {
              "outlinewidth": 0,
              "ticks": ""
             }
            },
            "type": "scatterpolar"
           }
          ],
          "scatterpolargl": [
           {
            "marker": {
             "colorbar": {
              "outlinewidth": 0,
              "ticks": ""
             }
            },
            "type": "scatterpolargl"
           }
          ],
          "scatterternary": [
           {
            "marker": {
             "colorbar": {
              "outlinewidth": 0,
              "ticks": ""
             }
            },
            "type": "scatterternary"
           }
          ],
          "surface": [
           {
            "colorbar": {
             "outlinewidth": 0,
             "ticks": ""
            },
            "colorscale": [
             [
              0,
              "#0d0887"
             ],
             [
              0.1111111111111111,
              "#46039f"
             ],
             [
              0.2222222222222222,
              "#7201a8"
             ],
             [
              0.3333333333333333,
              "#9c179e"
             ],
             [
              0.4444444444444444,
              "#bd3786"
             ],
             [
              0.5555555555555556,
              "#d8576b"
             ],
             [
              0.6666666666666666,
              "#ed7953"
             ],
             [
              0.7777777777777778,
              "#fb9f3a"
             ],
             [
              0.8888888888888888,
              "#fdca26"
             ],
             [
              1,
              "#f0f921"
             ]
            ],
            "type": "surface"
           }
          ],
          "table": [
           {
            "cells": {
             "fill": {
              "color": "#EBF0F8"
             },
             "line": {
              "color": "white"
             }
            },
            "header": {
             "fill": {
              "color": "#C8D4E3"
             },
             "line": {
              "color": "white"
             }
            },
            "type": "table"
           }
          ]
         },
         "layout": {
          "annotationdefaults": {
           "arrowcolor": "#2a3f5f",
           "arrowhead": 0,
           "arrowwidth": 1
          },
          "autotypenumbers": "strict",
          "coloraxis": {
           "colorbar": {
            "outlinewidth": 0,
            "ticks": ""
           }
          },
          "colorscale": {
           "diverging": [
            [
             0,
             "#8e0152"
            ],
            [
             0.1,
             "#c51b7d"
            ],
            [
             0.2,
             "#de77ae"
            ],
            [
             0.3,
             "#f1b6da"
            ],
            [
             0.4,
             "#fde0ef"
            ],
            [
             0.5,
             "#f7f7f7"
            ],
            [
             0.6,
             "#e6f5d0"
            ],
            [
             0.7,
             "#b8e186"
            ],
            [
             0.8,
             "#7fbc41"
            ],
            [
             0.9,
             "#4d9221"
            ],
            [
             1,
             "#276419"
            ]
           ],
           "sequential": [
            [
             0,
             "#0d0887"
            ],
            [
             0.1111111111111111,
             "#46039f"
            ],
            [
             0.2222222222222222,
             "#7201a8"
            ],
            [
             0.3333333333333333,
             "#9c179e"
            ],
            [
             0.4444444444444444,
             "#bd3786"
            ],
            [
             0.5555555555555556,
             "#d8576b"
            ],
            [
             0.6666666666666666,
             "#ed7953"
            ],
            [
             0.7777777777777778,
             "#fb9f3a"
            ],
            [
             0.8888888888888888,
             "#fdca26"
            ],
            [
             1,
             "#f0f921"
            ]
           ],
           "sequentialminus": [
            [
             0,
             "#0d0887"
            ],
            [
             0.1111111111111111,
             "#46039f"
            ],
            [
             0.2222222222222222,
             "#7201a8"
            ],
            [
             0.3333333333333333,
             "#9c179e"
            ],
            [
             0.4444444444444444,
             "#bd3786"
            ],
            [
             0.5555555555555556,
             "#d8576b"
            ],
            [
             0.6666666666666666,
             "#ed7953"
            ],
            [
             0.7777777777777778,
             "#fb9f3a"
            ],
            [
             0.8888888888888888,
             "#fdca26"
            ],
            [
             1,
             "#f0f921"
            ]
           ]
          },
          "colorway": [
           "#636efa",
           "#EF553B",
           "#00cc96",
           "#ab63fa",
           "#FFA15A",
           "#19d3f3",
           "#FF6692",
           "#B6E880",
           "#FF97FF",
           "#FECB52"
          ],
          "font": {
           "color": "#2a3f5f"
          },
          "geo": {
           "bgcolor": "white",
           "lakecolor": "white",
           "landcolor": "#E5ECF6",
           "showlakes": true,
           "showland": true,
           "subunitcolor": "white"
          },
          "hoverlabel": {
           "align": "left"
          },
          "hovermode": "closest",
          "mapbox": {
           "style": "light"
          },
          "paper_bgcolor": "white",
          "plot_bgcolor": "#E5ECF6",
          "polar": {
           "angularaxis": {
            "gridcolor": "white",
            "linecolor": "white",
            "ticks": ""
           },
           "bgcolor": "#E5ECF6",
           "radialaxis": {
            "gridcolor": "white",
            "linecolor": "white",
            "ticks": ""
           }
          },
          "scene": {
           "xaxis": {
            "backgroundcolor": "#E5ECF6",
            "gridcolor": "white",
            "gridwidth": 2,
            "linecolor": "white",
            "showbackground": true,
            "ticks": "",
            "zerolinecolor": "white"
           },
           "yaxis": {
            "backgroundcolor": "#E5ECF6",
            "gridcolor": "white",
            "gridwidth": 2,
            "linecolor": "white",
            "showbackground": true,
            "ticks": "",
            "zerolinecolor": "white"
           },
           "zaxis": {
            "backgroundcolor": "#E5ECF6",
            "gridcolor": "white",
            "gridwidth": 2,
            "linecolor": "white",
            "showbackground": true,
            "ticks": "",
            "zerolinecolor": "white"
           }
          },
          "shapedefaults": {
           "line": {
            "color": "#2a3f5f"
           }
          },
          "ternary": {
           "aaxis": {
            "gridcolor": "white",
            "linecolor": "white",
            "ticks": ""
           },
           "baxis": {
            "gridcolor": "white",
            "linecolor": "white",
            "ticks": ""
           },
           "bgcolor": "#E5ECF6",
           "caxis": {
            "gridcolor": "white",
            "linecolor": "white",
            "ticks": ""
           }
          },
          "title": {
           "x": 0.05
          },
          "xaxis": {
           "automargin": true,
           "gridcolor": "white",
           "linecolor": "white",
           "ticks": "",
           "title": {
            "standoff": 15
           },
           "zerolinecolor": "white",
           "zerolinewidth": 2
          },
          "yaxis": {
           "automargin": true,
           "gridcolor": "white",
           "linecolor": "white",
           "ticks": "",
           "title": {
            "standoff": 15
           },
           "zerolinecolor": "white",
           "zerolinewidth": 2
          }
         }
        },
        "title": {
         "text": "Average Air Quality benefit across Neighborhoods"
        }
       }
      },
      "text/html": [
       "<div>                            <div id=\"fd3b2592-d3e1-4271-a128-4aba70966e10\" class=\"plotly-graph-div\" style=\"height:500px; width:100%;\"></div>            <script type=\"text/javascript\">                require([\"plotly\"], function(Plotly) {                    window.PLOTLYENV=window.PLOTLYENV || {};                                    if (document.getElementById(\"fd3b2592-d3e1-4271-a128-4aba70966e10\")) {                    Plotly.newPlot(                        \"fd3b2592-d3e1-4271-a128-4aba70966e10\",                        [{\"coloraxis\":\"coloraxis\",\"featureidkey\":\"properties.name\",\"geo\":\"geo\",\"geojson\":\"https://raw.githubusercontent.com/blackmad/neighborhoods/master/gn-pittsburgh.geojson\",\"hovertemplate\":\"neighborhood=%{location}<br>air_quality_benfits_total_dollar_value=%{z}<extra></extra>\",\"locations\":[\"Allegheny Center\",\"Allegheny West\",\"Allentown\",\"Arlington\",\"Arlington Heights\",\"Banksville\",\"Bedford Dwellings\",\"Beechview\",\"Beltzhoover\",\"Bloomfield\",\"Bluff\",\"Bon Air\",\"Brighton Heights\",\"Brookline\",\"California-Kirkbride\",\"Carrick\",\"Central Business District\",\"Central Lawrenceville\",\"Central Northside\",\"Central Oakland\",\"Chartiers City\",\"Chateau\",\"Crafton Heights\",\"Crawford-Roberts\",\"Duquesne Heights\",\"East Allegheny\",\"East Carnegie\",\"East Hills\",\"East Liberty\",\"Elliott\",\"Esplen\",\"Fairywood\",\"Fineview\",\"Friendship\",\"Garfield\",\"Glen Hazel\",\"Greenfield\",\"Hays\",\"Hazelwood\",\"Highland Park\",\"Homewood North\",\"Homewood South\",\"Homewood West\",\"Knoxville\",\"Larimer\",\"Lincoln Place\",\"Lincoln-Lemington-Belmar\",\"Lower Lawrenceville\",\"Manchester\",\"Marshall-Shadeland\",\"Middle Hill\",\"Morningside\",\"Mount Washington\",\"Mt. Oliver\",\"New Homestead\",\"North Oakland\",\"North Shore\",\"Northview Heights\",\"Oakwood\",\"Overbrook\",\"Perry North\",\"Perry South\",\"Point Breeze\",\"Point Breeze North\",\"Polish Hill\",\"Regent Square\",\"Ridgemont\",\"Shadyside\",\"Sheraden\",\"South Oakland\",\"South Shore\",\"South Side Flats\",\"South Side Slopes\",\"Spring Garden\",\"Spring Hill-City View\",\"Squirrel Hill North\",\"Squirrel Hill South\",\"St. Clair\",\"Stanton Heights\",\"Strip District\",\"Summer Hill\",\"Swisshelm Park\",\"Terrace Village\",\"Troy Hill\",\"Upper Hill\",\"Upper Lawrenceville\",\"West End\",\"West Oakland\",\"Westwood\",\"Windgap\"],\"name\":\"\",\"type\":\"choropleth\",\"z\":[79.60478095817605,41.4375344847473,2.259780726650177,1.0004954183698138,0.516332384176518,5.914693968638372,5.741610980065374,4.076781041146541,2.7384285943140902,13.28987515746522,2.825983121282157,2.8493357980210017,7.916762796050106,4.442028603976529,3.244398264352455,3.990340103504904,8.019824705072498,2.816531194524492,15.365560095342486,15.291982997954465,4.193230110384847,3.9422386212762635,4.586879227231479,12.801341588717076,1.036431319442966,11.238296144330409,0.12241643763712196,10.122876134470202,13.542020926013715,3.066833822796166,0.06857415512323022,0.5207473198399526,3.59204353397119,22.203529973708182,8.809859845002743,0.01142982353523399,8.35958956237391,0.0015104584437456796,2.9097477335252386,37.17010915887291,6.37172213478743,7.499903773820074,2.923425590419756,16.06771469021208,5.550554339822937,3.0510013290080855,21.7546901528135,6.922611580184978,15.07647632768052,19.228211987520087,5.050383390237353,8.444917938279703,6.147667791373513,0.8796146604107753,3.652970595253004,15.348207015540945,9.167642587766744,0.2049349803471458,4.49530531605144,2.9340829266167554,11.026583246290317,4.006128081701039,18.662194785358462,19.492672850580135,4.636214186439394,31.963338840491016,0.6690031410164559,16.695063073900663,4.159826188119314,2.637224339511159,0.017481471160564168,8.761686527953712,1.8263463567238223,1.0816096881104837,1.25109211204195,29.528303934190674,27.014410521293197,0.5022174776222897,14.614757764699815,2.927485182300585,1.9096320538098672,7.595162127772389,4.07540795044157,1.0667442999489245,4.390045764413492,7.0366498061459986,3.379718119906449,1.4181899547614905,4.350946712679946,3.3053326053525036]}],                        {\"coloraxis\":{\"colorbar\":{\"title\":{\"text\":\"air_quality_benfits_total_dollar_value\"}},\"colorscale\":[[0.0,\"rgb(247,252,245)\"],[0.125,\"rgb(229,245,224)\"],[0.25,\"rgb(199,233,192)\"],[0.375,\"rgb(161,217,155)\"],[0.5,\"rgb(116,196,118)\"],[0.625,\"rgb(65,171,93)\"],[0.75,\"rgb(35,139,69)\"],[0.875,\"rgb(0,109,44)\"],[1.0,\"rgb(0,68,27)\"]]},\"geo\":{\"center\":{},\"domain\":{\"x\":[0.0,1.0],\"y\":[0.0,1.0]},\"fitbounds\":\"locations\",\"visible\":false},\"height\":500,\"legend\":{\"tracegroupgap\":0},\"template\":{\"data\":{\"bar\":[{\"error_x\":{\"color\":\"#2a3f5f\"},\"error_y\":{\"color\":\"#2a3f5f\"},\"marker\":{\"line\":{\"color\":\"#E5ECF6\",\"width\":0.5},\"pattern\":{\"fillmode\":\"overlay\",\"size\":10,\"solidity\":0.2}},\"type\":\"bar\"}],\"barpolar\":[{\"marker\":{\"line\":{\"color\":\"#E5ECF6\",\"width\":0.5},\"pattern\":{\"fillmode\":\"overlay\",\"size\":10,\"solidity\":0.2}},\"type\":\"barpolar\"}],\"carpet\":[{\"aaxis\":{\"endlinecolor\":\"#2a3f5f\",\"gridcolor\":\"white\",\"linecolor\":\"white\",\"minorgridcolor\":\"white\",\"startlinecolor\":\"#2a3f5f\"},\"baxis\":{\"endlinecolor\":\"#2a3f5f\",\"gridcolor\":\"white\",\"linecolor\":\"white\",\"minorgridcolor\":\"white\",\"startlinecolor\":\"#2a3f5f\"},\"type\":\"carpet\"}],\"choropleth\":[{\"colorbar\":{\"outlinewidth\":0,\"ticks\":\"\"},\"type\":\"choropleth\"}],\"contour\":[{\"colorbar\":{\"outlinewidth\":0,\"ticks\":\"\"},\"colorscale\":[[0.0,\"#0d0887\"],[0.1111111111111111,\"#46039f\"],[0.2222222222222222,\"#7201a8\"],[0.3333333333333333,\"#9c179e\"],[0.4444444444444444,\"#bd3786\"],[0.5555555555555556,\"#d8576b\"],[0.6666666666666666,\"#ed7953\"],[0.7777777777777778,\"#fb9f3a\"],[0.8888888888888888,\"#fdca26\"],[1.0,\"#f0f921\"]],\"type\":\"contour\"}],\"contourcarpet\":[{\"colorbar\":{\"outlinewidth\":0,\"ticks\":\"\"},\"type\":\"contourcarpet\"}],\"heatmap\":[{\"colorbar\":{\"outlinewidth\":0,\"ticks\":\"\"},\"colorscale\":[[0.0,\"#0d0887\"],[0.1111111111111111,\"#46039f\"],[0.2222222222222222,\"#7201a8\"],[0.3333333333333333,\"#9c179e\"],[0.4444444444444444,\"#bd3786\"],[0.5555555555555556,\"#d8576b\"],[0.6666666666666666,\"#ed7953\"],[0.7777777777777778,\"#fb9f3a\"],[0.8888888888888888,\"#fdca26\"],[1.0,\"#f0f921\"]],\"type\":\"heatmap\"}],\"heatmapgl\":[{\"colorbar\":{\"outlinewidth\":0,\"ticks\":\"\"},\"colorscale\":[[0.0,\"#0d0887\"],[0.1111111111111111,\"#46039f\"],[0.2222222222222222,\"#7201a8\"],[0.3333333333333333,\"#9c179e\"],[0.4444444444444444,\"#bd3786\"],[0.5555555555555556,\"#d8576b\"],[0.6666666666666666,\"#ed7953\"],[0.7777777777777778,\"#fb9f3a\"],[0.8888888888888888,\"#fdca26\"],[1.0,\"#f0f921\"]],\"type\":\"heatmapgl\"}],\"histogram\":[{\"marker\":{\"pattern\":{\"fillmode\":\"overlay\",\"size\":10,\"solidity\":0.2}},\"type\":\"histogram\"}],\"histogram2d\":[{\"colorbar\":{\"outlinewidth\":0,\"ticks\":\"\"},\"colorscale\":[[0.0,\"#0d0887\"],[0.1111111111111111,\"#46039f\"],[0.2222222222222222,\"#7201a8\"],[0.3333333333333333,\"#9c179e\"],[0.4444444444444444,\"#bd3786\"],[0.5555555555555556,\"#d8576b\"],[0.6666666666666666,\"#ed7953\"],[0.7777777777777778,\"#fb9f3a\"],[0.8888888888888888,\"#fdca26\"],[1.0,\"#f0f921\"]],\"type\":\"histogram2d\"}],\"histogram2dcontour\":[{\"colorbar\":{\"outlinewidth\":0,\"ticks\":\"\"},\"colorscale\":[[0.0,\"#0d0887\"],[0.1111111111111111,\"#46039f\"],[0.2222222222222222,\"#7201a8\"],[0.3333333333333333,\"#9c179e\"],[0.4444444444444444,\"#bd3786\"],[0.5555555555555556,\"#d8576b\"],[0.6666666666666666,\"#ed7953\"],[0.7777777777777778,\"#fb9f3a\"],[0.8888888888888888,\"#fdca26\"],[1.0,\"#f0f921\"]],\"type\":\"histogram2dcontour\"}],\"mesh3d\":[{\"colorbar\":{\"outlinewidth\":0,\"ticks\":\"\"},\"type\":\"mesh3d\"}],\"parcoords\":[{\"line\":{\"colorbar\":{\"outlinewidth\":0,\"ticks\":\"\"}},\"type\":\"parcoords\"}],\"pie\":[{\"automargin\":true,\"type\":\"pie\"}],\"scatter\":[{\"marker\":{\"colorbar\":{\"outlinewidth\":0,\"ticks\":\"\"}},\"type\":\"scatter\"}],\"scatter3d\":[{\"line\":{\"colorbar\":{\"outlinewidth\":0,\"ticks\":\"\"}},\"marker\":{\"colorbar\":{\"outlinewidth\":0,\"ticks\":\"\"}},\"type\":\"scatter3d\"}],\"scattercarpet\":[{\"marker\":{\"colorbar\":{\"outlinewidth\":0,\"ticks\":\"\"}},\"type\":\"scattercarpet\"}],\"scattergeo\":[{\"marker\":{\"colorbar\":{\"outlinewidth\":0,\"ticks\":\"\"}},\"type\":\"scattergeo\"}],\"scattergl\":[{\"marker\":{\"colorbar\":{\"outlinewidth\":0,\"ticks\":\"\"}},\"type\":\"scattergl\"}],\"scattermapbox\":[{\"marker\":{\"colorbar\":{\"outlinewidth\":0,\"ticks\":\"\"}},\"type\":\"scattermapbox\"}],\"scatterpolar\":[{\"marker\":{\"colorbar\":{\"outlinewidth\":0,\"ticks\":\"\"}},\"type\":\"scatterpolar\"}],\"scatterpolargl\":[{\"marker\":{\"colorbar\":{\"outlinewidth\":0,\"ticks\":\"\"}},\"type\":\"scatterpolargl\"}],\"scatterternary\":[{\"marker\":{\"colorbar\":{\"outlinewidth\":0,\"ticks\":\"\"}},\"type\":\"scatterternary\"}],\"surface\":[{\"colorbar\":{\"outlinewidth\":0,\"ticks\":\"\"},\"colorscale\":[[0.0,\"#0d0887\"],[0.1111111111111111,\"#46039f\"],[0.2222222222222222,\"#7201a8\"],[0.3333333333333333,\"#9c179e\"],[0.4444444444444444,\"#bd3786\"],[0.5555555555555556,\"#d8576b\"],[0.6666666666666666,\"#ed7953\"],[0.7777777777777778,\"#fb9f3a\"],[0.8888888888888888,\"#fdca26\"],[1.0,\"#f0f921\"]],\"type\":\"surface\"}],\"table\":[{\"cells\":{\"fill\":{\"color\":\"#EBF0F8\"},\"line\":{\"color\":\"white\"}},\"header\":{\"fill\":{\"color\":\"#C8D4E3\"},\"line\":{\"color\":\"white\"}},\"type\":\"table\"}]},\"layout\":{\"annotationdefaults\":{\"arrowcolor\":\"#2a3f5f\",\"arrowhead\":0,\"arrowwidth\":1},\"autotypenumbers\":\"strict\",\"coloraxis\":{\"colorbar\":{\"outlinewidth\":0,\"ticks\":\"\"}},\"colorscale\":{\"diverging\":[[0,\"#8e0152\"],[0.1,\"#c51b7d\"],[0.2,\"#de77ae\"],[0.3,\"#f1b6da\"],[0.4,\"#fde0ef\"],[0.5,\"#f7f7f7\"],[0.6,\"#e6f5d0\"],[0.7,\"#b8e186\"],[0.8,\"#7fbc41\"],[0.9,\"#4d9221\"],[1,\"#276419\"]],\"sequential\":[[0.0,\"#0d0887\"],[0.1111111111111111,\"#46039f\"],[0.2222222222222222,\"#7201a8\"],[0.3333333333333333,\"#9c179e\"],[0.4444444444444444,\"#bd3786\"],[0.5555555555555556,\"#d8576b\"],[0.6666666666666666,\"#ed7953\"],[0.7777777777777778,\"#fb9f3a\"],[0.8888888888888888,\"#fdca26\"],[1.0,\"#f0f921\"]],\"sequentialminus\":[[0.0,\"#0d0887\"],[0.1111111111111111,\"#46039f\"],[0.2222222222222222,\"#7201a8\"],[0.3333333333333333,\"#9c179e\"],[0.4444444444444444,\"#bd3786\"],[0.5555555555555556,\"#d8576b\"],[0.6666666666666666,\"#ed7953\"],[0.7777777777777778,\"#fb9f3a\"],[0.8888888888888888,\"#fdca26\"],[1.0,\"#f0f921\"]]},\"colorway\":[\"#636efa\",\"#EF553B\",\"#00cc96\",\"#ab63fa\",\"#FFA15A\",\"#19d3f3\",\"#FF6692\",\"#B6E880\",\"#FF97FF\",\"#FECB52\"],\"font\":{\"color\":\"#2a3f5f\"},\"geo\":{\"bgcolor\":\"white\",\"lakecolor\":\"white\",\"landcolor\":\"#E5ECF6\",\"showlakes\":true,\"showland\":true,\"subunitcolor\":\"white\"},\"hoverlabel\":{\"align\":\"left\"},\"hovermode\":\"closest\",\"mapbox\":{\"style\":\"light\"},\"paper_bgcolor\":\"white\",\"plot_bgcolor\":\"#E5ECF6\",\"polar\":{\"angularaxis\":{\"gridcolor\":\"white\",\"linecolor\":\"white\",\"ticks\":\"\"},\"bgcolor\":\"#E5ECF6\",\"radialaxis\":{\"gridcolor\":\"white\",\"linecolor\":\"white\",\"ticks\":\"\"}},\"scene\":{\"xaxis\":{\"backgroundcolor\":\"#E5ECF6\",\"gridcolor\":\"white\",\"gridwidth\":2,\"linecolor\":\"white\",\"showbackground\":true,\"ticks\":\"\",\"zerolinecolor\":\"white\"},\"yaxis\":{\"backgroundcolor\":\"#E5ECF6\",\"gridcolor\":\"white\",\"gridwidth\":2,\"linecolor\":\"white\",\"showbackground\":true,\"ticks\":\"\",\"zerolinecolor\":\"white\"},\"zaxis\":{\"backgroundcolor\":\"#E5ECF6\",\"gridcolor\":\"white\",\"gridwidth\":2,\"linecolor\":\"white\",\"showbackground\":true,\"ticks\":\"\",\"zerolinecolor\":\"white\"}},\"shapedefaults\":{\"line\":{\"color\":\"#2a3f5f\"}},\"ternary\":{\"aaxis\":{\"gridcolor\":\"white\",\"linecolor\":\"white\",\"ticks\":\"\"},\"baxis\":{\"gridcolor\":\"white\",\"linecolor\":\"white\",\"ticks\":\"\"},\"bgcolor\":\"#E5ECF6\",\"caxis\":{\"gridcolor\":\"white\",\"linecolor\":\"white\",\"ticks\":\"\"}},\"title\":{\"x\":0.05},\"xaxis\":{\"automargin\":true,\"gridcolor\":\"white\",\"linecolor\":\"white\",\"ticks\":\"\",\"title\":{\"standoff\":15},\"zerolinecolor\":\"white\",\"zerolinewidth\":2},\"yaxis\":{\"automargin\":true,\"gridcolor\":\"white\",\"linecolor\":\"white\",\"ticks\":\"\",\"title\":{\"standoff\":15},\"zerolinecolor\":\"white\",\"zerolinewidth\":2}}},\"title\":{\"text\":\"Average Air Quality benefit across Neighborhoods\"}},                        {\"responsive\": true}                    ).then(function(){\n",
       "                            \n",
       "var gd = document.getElementById('fd3b2592-d3e1-4271-a128-4aba70966e10');\n",
       "var x = new MutationObserver(function (mutations, observer) {{\n",
       "        var display = window.getComputedStyle(gd).display;\n",
       "        if (!display || display === 'none') {{\n",
       "            console.log([gd, 'removed!']);\n",
       "            Plotly.purge(gd);\n",
       "            observer.disconnect();\n",
       "        }}\n",
       "}});\n",
       "\n",
       "// Listen for the removal of the full notebook cells\n",
       "var notebookContainer = gd.closest('#notebook-container');\n",
       "if (notebookContainer) {{\n",
       "    x.observe(notebookContainer, {childList: true});\n",
       "}}\n",
       "\n",
       "// Listen for the clearing of the current output cell\n",
       "var outputEl = gd.closest('.output');\n",
       "if (outputEl) {{\n",
       "    x.observe(outputEl, {childList: true});\n",
       "}}\n",
       "\n",
       "                        })                };                });            </script>        </div>"
      ]
     },
     "metadata": {},
     "output_type": "display_data"
    }
   ],
   "source": [
    "fig=px.choropleth(air_quality_benefit_map,\n",
    "             geojson=\"https://raw.githubusercontent.com/blackmad/neighborhoods/master/gn-pittsburgh.geojson\",\n",
    "             featureidkey='properties.name',   \n",
    "             locations='neighborhood',        #column in dataframe\n",
    "             color='air_quality_benfits_total_dollar_value',\n",
    "              color_continuous_scale='greens',\n",
    "               title='Average Air Quality benefit across Neighborhoods' ,  \n",
    "               height=500\n",
    "              )\n",
    "fig.update_geos(fitbounds=\"locations\", visible=False)\n",
    "fig.show()"
   ]
  },
  {
   "cell_type": "markdown",
   "id": "2f32bbb0",
   "metadata": {},
   "source": [
    "**Top 5 neighborhoods with highest Air quality benefit**"
   ]
  },
  {
   "cell_type": "code",
   "execution_count": 784,
   "id": "46af670c",
   "metadata": {},
   "outputs": [
    {
     "data": {
      "text/html": [
       "<div>\n",
       "<style scoped>\n",
       "    .dataframe tbody tr th:only-of-type {\n",
       "        vertical-align: middle;\n",
       "    }\n",
       "\n",
       "    .dataframe tbody tr th {\n",
       "        vertical-align: top;\n",
       "    }\n",
       "\n",
       "    .dataframe thead th {\n",
       "        text-align: right;\n",
       "    }\n",
       "</style>\n",
       "<table border=\"1\" class=\"dataframe\">\n",
       "  <thead>\n",
       "    <tr style=\"text-align: right;\">\n",
       "      <th></th>\n",
       "      <th>neighborhood</th>\n",
       "      <th>air_quality_benfits_total_dollar_value</th>\n",
       "    </tr>\n",
       "  </thead>\n",
       "  <tbody>\n",
       "    <tr>\n",
       "      <th>0</th>\n",
       "      <td>Allegheny Center</td>\n",
       "      <td>79.604781</td>\n",
       "    </tr>\n",
       "    <tr>\n",
       "      <th>1</th>\n",
       "      <td>Allegheny West</td>\n",
       "      <td>41.437534</td>\n",
       "    </tr>\n",
       "    <tr>\n",
       "      <th>39</th>\n",
       "      <td>Highland Park</td>\n",
       "      <td>37.170109</td>\n",
       "    </tr>\n",
       "    <tr>\n",
       "      <th>65</th>\n",
       "      <td>Regent Square</td>\n",
       "      <td>31.963339</td>\n",
       "    </tr>\n",
       "    <tr>\n",
       "      <th>75</th>\n",
       "      <td>Squirrel Hill North</td>\n",
       "      <td>29.528304</td>\n",
       "    </tr>\n",
       "  </tbody>\n",
       "</table>\n",
       "</div>"
      ],
      "text/plain": [
       "           neighborhood  air_quality_benfits_total_dollar_value\n",
       "0      Allegheny Center                               79.604781\n",
       "1        Allegheny West                               41.437534\n",
       "39        Highland Park                               37.170109\n",
       "65        Regent Square                               31.963339\n",
       "75  Squirrel Hill North                               29.528304"
      ]
     },
     "execution_count": 784,
     "metadata": {},
     "output_type": "execute_result"
    }
   ],
   "source": [
    "air_quality_benefit_map.sort_values('air_quality_benfits_total_dollar_value', ascending=False).head(5)"
   ]
  },
  {
   "cell_type": "markdown",
   "id": "07c87ca3",
   "metadata": {},
   "source": [
    "**Inference:\n",
    "3 of the top 5 neighborhoods with the highest air quality benefits are also in the top 5 neighborhoods with highest tree density. This exhibhits a clear positive correlation between the two**"
   ]
  },
  {
   "cell_type": "markdown",
   "id": "4df274f7",
   "metadata": {},
   "source": [
    "# Research questions"
   ]
  },
  {
   "cell_type": "markdown",
   "id": "b4c0d128",
   "metadata": {},
   "source": [
    "**1. What are the factors facilitating the high tree density in the Allegheny Center, Friendship, and Allegheny West neighborhoods?**"
   ]
  },
  {
   "cell_type": "markdown",
   "id": "b1efc585",
   "metadata": {},
   "source": [
    "**2. We see that there exists a clear correlation between the tree density and the overall benefits, however is this reflective of the reality? For example, given that Allegheny Center has the highest tree density where does it rank amongst the overall Air Quality Index score compared to the other neighborhoods?**"
   ]
  },
  {
   "cell_type": "code",
   "execution_count": 785,
   "id": "0710d648",
   "metadata": {},
   "outputs": [
    {
     "data": {
      "text/plain": [
       "Index(['neighborhood', 'tree_count', 'stormwater_benefits_dollar_value',\n",
       "       'property_value_benefits_dollarvalue',\n",
       "       'energy_benefits_electricity_dollar_value',\n",
       "       'energy_benefits_gas_dollar_value',\n",
       "       'air_quality_benfits_total_dollar_value', 'co2_benefits_dollar_value',\n",
       "       'overall_benefits_dollar_value'],\n",
       "      dtype='object')"
      ]
     },
     "execution_count": 785,
     "metadata": {},
     "output_type": "execute_result"
    }
   ],
   "source": [
    "df_tree_density.columns"
   ]
  },
  {
   "cell_type": "code",
   "execution_count": 786,
   "id": "f1dc2dc0",
   "metadata": {},
   "outputs": [
    {
     "data": {
      "text/plain": [
       "array(['ï»¿FID', 'Neighborhood_2010_FID_BlockG',\n",
       "       'Neighborhood_2010_STATEFP10', 'Neighborhood_2010_COUNTYFP10',\n",
       "       'Neighborhood_2010_TRACTCE10', 'Neighborhood_2010_BLKGRPCE10',\n",
       "       'Neighborhood_2010_GEOID10', 'Neighborhood_2010_NAMELSAD10',\n",
       "       'Neighborhood_2010_MTFCC10', 'Neighborhood_2010_FUNCSTAT10',\n",
       "       'Neighborhood_2010_ALAND10', 'Neighborhood_2010_AWATER10',\n",
       "       'Neighborhood_2010_INTPTLAT10', 'Neighborhood_2010_INTPTLON10',\n",
       "       'Neighborhood_2010_Shape_Leng', 'Neighborhood_2010_FID_Neighb',\n",
       "       'Neighborhood_2010_AREA', 'Neighborhood_2010_PERIMETER',\n",
       "       'Neighborhood_2010_NEIGHBOR_', 'Neighborhood_2010_NEIGHBOR_I',\n",
       "       'Neighborhood_2010_HOOD', 'Neighborhood_2010_HOOD_NO',\n",
       "       'Neighborhood_2010_ACRES', 'Neighborhood_2010_SQMILES',\n",
       "       'Neighborhood_2010_DPWDIV', 'Neighborhood_2010_UNIQUE_ID',\n",
       "       'Neighborhood_2010_SECTORS', 'Neighborhood_2010_Shape_Le_1',\n",
       "       'Neighborhood_2010_Shape_Ar_1', 'Neighborhood_2010_Page_Number',\n",
       "       'SNAP_All_csv_Neighborhood', 'SNAP_All_csv_Sector__', 'Pop__1940',\n",
       "       'Pop__1950', 'Pop__1960', 'Pop__1970', 'Pop__1980', 'Pop__1990',\n",
       "       'Pop__2000', 'Pop__2010', 'F__Pop__Change__60_70',\n",
       "       'F__Pop__Change__70_80', 'F__Pop__Change__80_90',\n",
       "       'F__Pop__Change__90_00', 'F__Pop__Change__00_10',\n",
       "       'Pop__as___of_City_total__2010_', 'Land_Area__sq__mi_',\n",
       "       'SNAP_All_csv_Land_Area__acres_', 'Persons___sq__mi__2010_',\n",
       "       'Persons___sq__mi__2000_', 'SNAP_All_csv_Persons___acre__20',\n",
       "       'SNAP_All_csv_Persons___acre__21',\n",
       "       'SNAP_All_csv___African_American', 'SNAP_All_csv___Asian__2010_',\n",
       "       'SNAP_All_csv___Other__2010_', 'SNAP_All_csv___White__2010_',\n",
       "       'SNAP_All_csv___2__Races__2010_',\n",
       "       'SNAP_All_csv___Hispanic__of_any', 'F__Pop__Age___5__2010_',\n",
       "       'F__Pop__Age_5_19__2010_', 'F__Pop__Age_20_34__2010_',\n",
       "       'F__Pop__Age_35_59__2010_', 'F__Pop__Age_60_74__2010_',\n",
       "       'F__Pop__Age___75__2010_', 'SNAP_All_csv_Total___Units__200',\n",
       "       'SNAP_All_csv_Total___Units__201',\n",
       "       'SNAP_All_csv___Occupied_Units__',\n",
       "       'SNAP_All_csv___Vacant_Units__20',\n",
       "       'SNAP_All_csv___Occupied_Units_1',\n",
       "       'SNAP_All_csv___Owner_Occupied_U',\n",
       "       'SNAP_All_csv___Renter_Occupied_',\n",
       "       'Est__Avg__Yrs__of_Residence__20',\n",
       "       'SNAP_All_csv___Living_in_Househ',\n",
       "       'SNAP_All_csv___Living_in_Group_',\n",
       "       'SNAP_All_csv___Units_Built_00_0',\n",
       "       'SNAP_All_csv___Units_Built_90_9',\n",
       "       'SNAP_All_csv___Units_Built_80_8',\n",
       "       'SNAP_All_csv___Units_Built_60_7',\n",
       "       'SNAP_All_csv___Units_Built_40_5',\n",
       "       'SNAP_All_csv___Units_Built_befo',\n",
       "       'SNAP_All_csv_Median_Home_Value_',\n",
       "       'Med__Val____00_in__10_Dollars_',\n",
       "       'SNAP_All_csv_Median_Home__Value',\n",
       "       'SNAP_All_csv___Change_Real_Valu',\n",
       "       'SNAP_All_csv_Median_Sale_Price_',\n",
       "       'SNAP_All_csv___Sales_Counted__2',\n",
       "       'SNAP_All_csv_Foreclosures__2008',\n",
       "       'SNAP_All_csv_Foreclosures__2010',\n",
       "       'SNAP_All_csv___of_all_Housing_U',\n",
       "       'Total_Age_16__N_hood_Residents_',\n",
       "       'SNAP_All_csv_Resident_Jobs__Con',\n",
       "       'SNAP_All_csv_Resident_Jobs__Man',\n",
       "       'SNAP_All_csv_Resident_Jobs__Ret',\n",
       "       'SNAP_All_csv_Resident_Jobs__Tra',\n",
       "       'SNAP_All_csv_Resident_Jobs__Inf',\n",
       "       'SNAP_All_csv_Resident_Jobs__Fin',\n",
       "       'SNAP_All_csv_Resident_Jobs__Pro',\n",
       "       'SNAP_All_csv_Resident_Jobs__Edu',\n",
       "       'SNAP_All_csv_Resident_Jobs__Art',\n",
       "       'SNAP_All_csv_Resident_Jobs__Pub',\n",
       "       'SNAP_All_csv_Resident_Jobs__Oth',\n",
       "       'Total___Jobs_Located_in_N_hood_',\n",
       "       'SNAP_All_csv_Jobs_in__Hood__Con',\n",
       "       'SNAP_All_csv_Jobs_in__Hood__Man',\n",
       "       'SNAP_All_csv_Jobs_in__Hood__Ret',\n",
       "       'SNAP_All_csv_Jobs_in__Hood__Tra',\n",
       "       'SNAP_All_csv_Jobs_in__Hood__Inf',\n",
       "       'SNAP_All_csv_Jobs_in__Hood__Fin',\n",
       "       'SNAP_All_csv_Jobs_in__Hood__Pro',\n",
       "       'SNAP_All_csv_Jobs_in__Hood__Edu',\n",
       "       'SNAP_All_csv_Jobs_in__Hood__Art',\n",
       "       'SNAP_All_csv_Jobs_in__Hood__Pub',\n",
       "       'SNAP_All_csv_Jobs_in__Hood__Oth',\n",
       "       'SNAP_All_csv_Total_Pop__25_and_',\n",
       "       'Edu__Attainment__Less_than_High',\n",
       "       'Edu__Attainment__High_School_Gr',\n",
       "       'Edu__Attainment__Assoc__Prof__D',\n",
       "       'Edu__Attainment__Bachelor_s_Deg',\n",
       "       'Edu__Attainment__Postgraduate_D',\n",
       "       'SNAP_All_csv_1999_Median_Income',\n",
       "       'SNAP_All_csv_2009_Median_Income',\n",
       "       'SNAP_All_csv_1999_Median_Inco_1',\n",
       "       'F2009_Med__Income___13_Dollars_',\n",
       "       'Est__Pop__for_which_Poverty_Cal',\n",
       "       'Est__Pop__Under_Poverty__2010_',\n",
       "       'Est__Percent_Under_Poverty__201',\n",
       "       'SNAP_All_csv__Part_1__Major_Cri',\n",
       "       'SNAP_All_csv__Part_2_Reports__2',\n",
       "       'SNAP_All_csv__Other_Police_Repo',\n",
       "       'SNAP_All_csv_Part_1_Crime_per_1',\n",
       "       'SNAP_All_csv_Part_2_Crime_per_1', 'SNAP_All_csv__Murder__2010_',\n",
       "       'SNAP_All_csv__Rape__2010_', 'SNAP_All_csv__Robbery__2010_',\n",
       "       'F_Agr__Assault__2010_', 'SNAP_All_csv__Burglary__2010_',\n",
       "       'SNAP_All_csv__Auto_Theft__2010_',\n",
       "       'SNAP_All_csv__Drug_Violations__',\n",
       "       'SNAP_All_csv_Land_Area__acres1', 'Approx__Total___Parcels__2010_',\n",
       "       'Approx__Total___Taxable_Parcels',\n",
       "       'Approx____of_Structures__2010_',\n",
       "       'Approx____Unoccupied_Parcels__2',\n",
       "       'SNAP_All_csv___Good___Excellent',\n",
       "       'SNAP_All_csv___Average_Conditio',\n",
       "       'SNAP_All_csv___Poor___Derelict_',\n",
       "       'F__Residential_Bldg__Permits__2',\n",
       "       'F__Residential_Bldg__Permits__3',\n",
       "       'F__Commercial_Bldg__Permits__20',\n",
       "       'F__Commercial_Bldg__Permits__21',\n",
       "       'SNAP_All_csv___Code_Violations_',\n",
       "       'F__of_all_Bldgs__w__Code_Violat',\n",
       "       'SNAP_All_csv___Condemned_Struct',\n",
       "       'F__of_all_Bldgs__Condemned__201',\n",
       "       'SNAP_All_csv___Demolitions__201',\n",
       "       'F__Tax_Delinquent_Prop___2__yrs',\n",
       "       'F__of_Taxable_Prop__Delinquent_',\n",
       "       'SNAP_All_csv_Landslide_Prone___',\n",
       "       'SNAP_All_csv_Undermined____land',\n",
       "       'SNAP_All_csv_Flood_Plain____lan', 'SNAP_All_csv___Street_Trees',\n",
       "       'SNAP_All_csv_Park_Space__acres_',\n",
       "       'SNAP_All_csv_Park_Space____of_l', 'Park_Space__acres_1000_pers__',\n",
       "       'SNAP_All_csv_Greenway____of_lan',\n",
       "       'SNAP_All_csv_Woodland____of_lan',\n",
       "       'SNAP_All_csv_Cemetery____of_lan', 'SNAP_All_csv_Residential',\n",
       "       'SNAP_All_csv_Mixed_Use___Commer',\n",
       "       'SNAP_All_csv_Mixed_Use___Indust', 'Institutional___Edu____Med_',\n",
       "       'SNAP_All_csv_Open_Space', 'SNAP_All_csv_Hillside',\n",
       "       'SNAP_All_csv_Special_Land_Use', 'SNAP_All_csv_Miles_of_Major_Roa',\n",
       "       'SNAP_All_csv_Total_Street_Miles',\n",
       "       'Street_Density__st__mi_area_sq_', 'SNAP_All_csv___Sets_of_Steps',\n",
       "       'SNAP_All_csv___Step_Treads', 'Res__Permit_Parking_Area_s_',\n",
       "       'Total_Working_Pop___Age_16____2',\n",
       "       'SNAP_All_csv_Commute_to_Work__D',\n",
       "       'SNAP_All_csv_Commute_to_Work__C',\n",
       "       'SNAP_All_csv_Commute_to_Work__P',\n",
       "       'SNAP_All_csv_Commute_to_Work__T',\n",
       "       'SNAP_All_csv_Commute_to_Work__M',\n",
       "       'SNAP_All_csv_Commute_to_Work__B',\n",
       "       'SNAP_All_csv_Commute_to_Work__W',\n",
       "       'SNAP_All_csv_Commute_to_Work__O',\n",
       "       'SNAP_All_csv_Work_at_Home__2010', 'SHAPE_Length', 'SHAPE_Area'],\n",
       "      dtype=object)"
      ]
     },
     "execution_count": 786,
     "metadata": {},
     "output_type": "execute_result"
    }
   ],
   "source": [
    "neighborhood_data.columns.values"
   ]
  },
  {
   "cell_type": "code",
   "execution_count": null,
   "id": "01599d77",
   "metadata": {},
   "outputs": [],
   "source": []
  },
  {
   "cell_type": "markdown",
   "id": "17039e45",
   "metadata": {},
   "source": [
    "# Phase 2  - Correlating tree density with external factors at neighborhood level "
   ]
  },
  {
   "cell_type": "markdown",
   "id": "7709985f",
   "metadata": {},
   "source": [
    "**(have updated some dataframes from before to store new columns, so please take that into account)**"
   ]
  },
  {
   "cell_type": "markdown",
   "id": "401776a6",
   "metadata": {},
   "source": [
    "# Tree density vs Population density per neighborhood"
   ]
  },
  {
   "cell_type": "code",
   "execution_count": 787,
   "id": "584d8fb4",
   "metadata": {},
   "outputs": [],
   "source": [
    "population_density_map = combined_data[['neighborhood', 'Pop__2010']].copy()"
   ]
  },
  {
   "cell_type": "code",
   "execution_count": 788,
   "id": "26ae6397",
   "metadata": {},
   "outputs": [
    {
     "data": {
      "application/vnd.plotly.v1+json": {
       "config": {
        "plotlyServerURL": "https://plot.ly"
       },
       "data": [
        {
         "coloraxis": "coloraxis",
         "featureidkey": "properties.name",
         "geo": "geo",
         "geojson": "https://raw.githubusercontent.com/blackmad/neighborhoods/master/gn-pittsburgh.geojson",
         "hovertemplate": "neighborhood=%{location}<br>Pop__2010=%{z}<extra></extra>",
         "locations": [
          "Allegheny Center",
          "Allegheny West",
          "Allentown",
          "Arlington",
          "Arlington Heights",
          "Banksville",
          "Bedford Dwellings",
          "Beechview",
          "Beltzhoover",
          "Bloomfield",
          "Bluff",
          "Bon Air",
          "Brighton Heights",
          "Brookline",
          "California-Kirkbride",
          "Carrick",
          "Central Business District",
          "Central Lawrenceville",
          "Central Northside",
          "Central Oakland",
          "Chartiers City",
          "Chateau",
          "Crafton Heights",
          "Crawford-Roberts",
          "Duquesne Heights",
          "East Allegheny",
          "East Carnegie",
          "East Hills",
          "East Liberty",
          "Elliott",
          "Esplen",
          "Fairywood",
          "Fineview",
          "Friendship",
          "Garfield",
          "Glen Hazel",
          "Greenfield",
          "Hays",
          "Hazelwood",
          "Highland Park",
          "Homewood North",
          "Homewood South",
          "Homewood West",
          "Knoxville",
          "Larimer",
          "Lincoln Place",
          "Lincoln-Lemington-Belmar",
          "Lower Lawrenceville",
          "Manchester",
          "Marshall-Shadeland",
          "Middle Hill",
          "Morningside",
          "Mount Washington",
          "Mt. Oliver",
          "New Homestead",
          "North Oakland",
          "North Shore",
          "Northview Heights",
          "Oakwood",
          "Overbrook",
          "Perry North",
          "Perry South",
          "Point Breeze",
          "Point Breeze North",
          "Polish Hill",
          "Regent Square",
          "Ridgemont",
          "Shadyside",
          "Sheraden",
          "South Oakland",
          "South Shore",
          "South Side Flats",
          "South Side Slopes",
          "Spring Garden",
          "Spring Hill-City View",
          "Squirrel Hill North",
          "Squirrel Hill South",
          "St. Clair",
          "Stanton Heights",
          "Strip District",
          "Summer Hill",
          "Swisshelm Park",
          "Terrace Village",
          "Troy Hill",
          "Upper Hill",
          "Upper Lawrenceville",
          "West End",
          "West Oakland",
          "Westwood",
          "Windgap"
         ],
         "name": "",
         "type": "choropleth",
         "z": [
          6.926349079085099,
          5.085809271144087,
          13.185097675203577,
          6.182191055834877,
          2.8844335161717423,
          6.652550331584043,
          10.42932009856662,
          8.493785710329313,
          7.119767433259114,
          18.701609419479183,
          31.352429813310533,
          4.009328635935097,
          10.089633030843899,
          9.870998730828905,
          5.453164411832149,
          9.401582269655192,
          8.816962387601343,
          7.238383782919547,
          17.558191920708815,
          33.64605850190454,
          5.614803305318173,
          0.044624565417584514,
          7.870814631378011,
          13.582097639388083,
          6.055415164257818,
          14.079957812860485,
          2.0511344212742224,
          9.104307380263563,
          15.70721263214238,
          6.107163926437018,
          2.0361363467249323,
          1.6090027073638369,
          8.006829171028363,
          26.13584784104719,
          12.49672704767799,
          2.442044086399247,
          14.675229564531575,
          0.321641116041362,
          4.241480440752404,
          8.55299849804264,
          11.75037615533424,
          9.152924913996086,
          6.399674539778906,
          19.31622521677269,
          6.0385798154878385,
          5.102000483796761,
          27.111962466339083,
          8.469854409679007,
          11.861933773654256,
          40.77350228393687,
          8.70438737838334,
          13.621726368584538,
          12.012368685110479,
          7.685803158880198,
          1.9384094860669476,
          32.90206093944412,
          1.5537346036694801,
          6.023080205201481,
          6.338919235873222,
          6.754214433333642,
          5.198385804941163,
          7.12620517969384,
          8.231440540812612,
          11.176345759354884,
          7.783622622604276,
          7.503112821590854,
          2.037467465905112,
          23.500939024225474,
          9.261961983832204,
          9.085261924215024,
          0.13949970998744504,
          10.966614745500397,
          9.602025043852793,
          5.008328328782024,
          6.54206761948291,
          14.457699491569418,
          8.79774786970483,
          1.0487492786712498,
          9.735196724606709,
          1.5759957427647469,
          3.7255763831778355,
          4.410597099570607,
          14.687214206740286,
          10.980296961605374,
          10.22533516928721,
          10.251623781923495,
          1.9739040558288454,
          18.818836180730205,
          6.88974829722545,
          5.1335318248974415
         ]
        }
       ],
       "layout": {
        "coloraxis": {
         "colorbar": {
          "title": {
           "text": "Pop__2010"
          }
         },
         "colorscale": [
          [
           0,
           "rgb(230, 240, 240)"
          ],
          [
           0.09090909090909091,
           "rgb(191, 221, 229)"
          ],
          [
           0.18181818181818182,
           "rgb(156, 201, 226)"
          ],
          [
           0.2727272727272727,
           "rgb(129, 180, 227)"
          ],
          [
           0.36363636363636365,
           "rgb(115, 154, 228)"
          ],
          [
           0.45454545454545453,
           "rgb(117, 127, 221)"
          ],
          [
           0.5454545454545454,
           "rgb(120, 100, 202)"
          ],
          [
           0.6363636363636364,
           "rgb(119, 74, 175)"
          ],
          [
           0.7272727272727273,
           "rgb(113, 50, 141)"
          ],
          [
           0.8181818181818182,
           "rgb(100, 31, 104)"
          ],
          [
           0.9090909090909091,
           "rgb(80, 20, 66)"
          ],
          [
           1,
           "rgb(54, 14, 36)"
          ]
         ]
        },
        "geo": {
         "center": {},
         "domain": {
          "x": [
           0,
           1
          ],
          "y": [
           0,
           1
          ]
         },
         "fitbounds": "locations",
         "visible": false
        },
        "height": 500,
        "legend": {
         "tracegroupgap": 0
        },
        "template": {
         "data": {
          "bar": [
           {
            "error_x": {
             "color": "#2a3f5f"
            },
            "error_y": {
             "color": "#2a3f5f"
            },
            "marker": {
             "line": {
              "color": "#E5ECF6",
              "width": 0.5
             },
             "pattern": {
              "fillmode": "overlay",
              "size": 10,
              "solidity": 0.2
             }
            },
            "type": "bar"
           }
          ],
          "barpolar": [
           {
            "marker": {
             "line": {
              "color": "#E5ECF6",
              "width": 0.5
             },
             "pattern": {
              "fillmode": "overlay",
              "size": 10,
              "solidity": 0.2
             }
            },
            "type": "barpolar"
           }
          ],
          "carpet": [
           {
            "aaxis": {
             "endlinecolor": "#2a3f5f",
             "gridcolor": "white",
             "linecolor": "white",
             "minorgridcolor": "white",
             "startlinecolor": "#2a3f5f"
            },
            "baxis": {
             "endlinecolor": "#2a3f5f",
             "gridcolor": "white",
             "linecolor": "white",
             "minorgridcolor": "white",
             "startlinecolor": "#2a3f5f"
            },
            "type": "carpet"
           }
          ],
          "choropleth": [
           {
            "colorbar": {
             "outlinewidth": 0,
             "ticks": ""
            },
            "type": "choropleth"
           }
          ],
          "contour": [
           {
            "colorbar": {
             "outlinewidth": 0,
             "ticks": ""
            },
            "colorscale": [
             [
              0,
              "#0d0887"
             ],
             [
              0.1111111111111111,
              "#46039f"
             ],
             [
              0.2222222222222222,
              "#7201a8"
             ],
             [
              0.3333333333333333,
              "#9c179e"
             ],
             [
              0.4444444444444444,
              "#bd3786"
             ],
             [
              0.5555555555555556,
              "#d8576b"
             ],
             [
              0.6666666666666666,
              "#ed7953"
             ],
             [
              0.7777777777777778,
              "#fb9f3a"
             ],
             [
              0.8888888888888888,
              "#fdca26"
             ],
             [
              1,
              "#f0f921"
             ]
            ],
            "type": "contour"
           }
          ],
          "contourcarpet": [
           {
            "colorbar": {
             "outlinewidth": 0,
             "ticks": ""
            },
            "type": "contourcarpet"
           }
          ],
          "heatmap": [
           {
            "colorbar": {
             "outlinewidth": 0,
             "ticks": ""
            },
            "colorscale": [
             [
              0,
              "#0d0887"
             ],
             [
              0.1111111111111111,
              "#46039f"
             ],
             [
              0.2222222222222222,
              "#7201a8"
             ],
             [
              0.3333333333333333,
              "#9c179e"
             ],
             [
              0.4444444444444444,
              "#bd3786"
             ],
             [
              0.5555555555555556,
              "#d8576b"
             ],
             [
              0.6666666666666666,
              "#ed7953"
             ],
             [
              0.7777777777777778,
              "#fb9f3a"
             ],
             [
              0.8888888888888888,
              "#fdca26"
             ],
             [
              1,
              "#f0f921"
             ]
            ],
            "type": "heatmap"
           }
          ],
          "heatmapgl": [
           {
            "colorbar": {
             "outlinewidth": 0,
             "ticks": ""
            },
            "colorscale": [
             [
              0,
              "#0d0887"
             ],
             [
              0.1111111111111111,
              "#46039f"
             ],
             [
              0.2222222222222222,
              "#7201a8"
             ],
             [
              0.3333333333333333,
              "#9c179e"
             ],
             [
              0.4444444444444444,
              "#bd3786"
             ],
             [
              0.5555555555555556,
              "#d8576b"
             ],
             [
              0.6666666666666666,
              "#ed7953"
             ],
             [
              0.7777777777777778,
              "#fb9f3a"
             ],
             [
              0.8888888888888888,
              "#fdca26"
             ],
             [
              1,
              "#f0f921"
             ]
            ],
            "type": "heatmapgl"
           }
          ],
          "histogram": [
           {
            "marker": {
             "pattern": {
              "fillmode": "overlay",
              "size": 10,
              "solidity": 0.2
             }
            },
            "type": "histogram"
           }
          ],
          "histogram2d": [
           {
            "colorbar": {
             "outlinewidth": 0,
             "ticks": ""
            },
            "colorscale": [
             [
              0,
              "#0d0887"
             ],
             [
              0.1111111111111111,
              "#46039f"
             ],
             [
              0.2222222222222222,
              "#7201a8"
             ],
             [
              0.3333333333333333,
              "#9c179e"
             ],
             [
              0.4444444444444444,
              "#bd3786"
             ],
             [
              0.5555555555555556,
              "#d8576b"
             ],
             [
              0.6666666666666666,
              "#ed7953"
             ],
             [
              0.7777777777777778,
              "#fb9f3a"
             ],
             [
              0.8888888888888888,
              "#fdca26"
             ],
             [
              1,
              "#f0f921"
             ]
            ],
            "type": "histogram2d"
           }
          ],
          "histogram2dcontour": [
           {
            "colorbar": {
             "outlinewidth": 0,
             "ticks": ""
            },
            "colorscale": [
             [
              0,
              "#0d0887"
             ],
             [
              0.1111111111111111,
              "#46039f"
             ],
             [
              0.2222222222222222,
              "#7201a8"
             ],
             [
              0.3333333333333333,
              "#9c179e"
             ],
             [
              0.4444444444444444,
              "#bd3786"
             ],
             [
              0.5555555555555556,
              "#d8576b"
             ],
             [
              0.6666666666666666,
              "#ed7953"
             ],
             [
              0.7777777777777778,
              "#fb9f3a"
             ],
             [
              0.8888888888888888,
              "#fdca26"
             ],
             [
              1,
              "#f0f921"
             ]
            ],
            "type": "histogram2dcontour"
           }
          ],
          "mesh3d": [
           {
            "colorbar": {
             "outlinewidth": 0,
             "ticks": ""
            },
            "type": "mesh3d"
           }
          ],
          "parcoords": [
           {
            "line": {
             "colorbar": {
              "outlinewidth": 0,
              "ticks": ""
             }
            },
            "type": "parcoords"
           }
          ],
          "pie": [
           {
            "automargin": true,
            "type": "pie"
           }
          ],
          "scatter": [
           {
            "marker": {
             "colorbar": {
              "outlinewidth": 0,
              "ticks": ""
             }
            },
            "type": "scatter"
           }
          ],
          "scatter3d": [
           {
            "line": {
             "colorbar": {
              "outlinewidth": 0,
              "ticks": ""
             }
            },
            "marker": {
             "colorbar": {
              "outlinewidth": 0,
              "ticks": ""
             }
            },
            "type": "scatter3d"
           }
          ],
          "scattercarpet": [
           {
            "marker": {
             "colorbar": {
              "outlinewidth": 0,
              "ticks": ""
             }
            },
            "type": "scattercarpet"
           }
          ],
          "scattergeo": [
           {
            "marker": {
             "colorbar": {
              "outlinewidth": 0,
              "ticks": ""
             }
            },
            "type": "scattergeo"
           }
          ],
          "scattergl": [
           {
            "marker": {
             "colorbar": {
              "outlinewidth": 0,
              "ticks": ""
             }
            },
            "type": "scattergl"
           }
          ],
          "scattermapbox": [
           {
            "marker": {
             "colorbar": {
              "outlinewidth": 0,
              "ticks": ""
             }
            },
            "type": "scattermapbox"
           }
          ],
          "scatterpolar": [
           {
            "marker": {
             "colorbar": {
              "outlinewidth": 0,
              "ticks": ""
             }
            },
            "type": "scatterpolar"
           }
          ],
          "scatterpolargl": [
           {
            "marker": {
             "colorbar": {
              "outlinewidth": 0,
              "ticks": ""
             }
            },
            "type": "scatterpolargl"
           }
          ],
          "scatterternary": [
           {
            "marker": {
             "colorbar": {
              "outlinewidth": 0,
              "ticks": ""
             }
            },
            "type": "scatterternary"
           }
          ],
          "surface": [
           {
            "colorbar": {
             "outlinewidth": 0,
             "ticks": ""
            },
            "colorscale": [
             [
              0,
              "#0d0887"
             ],
             [
              0.1111111111111111,
              "#46039f"
             ],
             [
              0.2222222222222222,
              "#7201a8"
             ],
             [
              0.3333333333333333,
              "#9c179e"
             ],
             [
              0.4444444444444444,
              "#bd3786"
             ],
             [
              0.5555555555555556,
              "#d8576b"
             ],
             [
              0.6666666666666666,
              "#ed7953"
             ],
             [
              0.7777777777777778,
              "#fb9f3a"
             ],
             [
              0.8888888888888888,
              "#fdca26"
             ],
             [
              1,
              "#f0f921"
             ]
            ],
            "type": "surface"
           }
          ],
          "table": [
           {
            "cells": {
             "fill": {
              "color": "#EBF0F8"
             },
             "line": {
              "color": "white"
             }
            },
            "header": {
             "fill": {
              "color": "#C8D4E3"
             },
             "line": {
              "color": "white"
             }
            },
            "type": "table"
           }
          ]
         },
         "layout": {
          "annotationdefaults": {
           "arrowcolor": "#2a3f5f",
           "arrowhead": 0,
           "arrowwidth": 1
          },
          "autotypenumbers": "strict",
          "coloraxis": {
           "colorbar": {
            "outlinewidth": 0,
            "ticks": ""
           }
          },
          "colorscale": {
           "diverging": [
            [
             0,
             "#8e0152"
            ],
            [
             0.1,
             "#c51b7d"
            ],
            [
             0.2,
             "#de77ae"
            ],
            [
             0.3,
             "#f1b6da"
            ],
            [
             0.4,
             "#fde0ef"
            ],
            [
             0.5,
             "#f7f7f7"
            ],
            [
             0.6,
             "#e6f5d0"
            ],
            [
             0.7,
             "#b8e186"
            ],
            [
             0.8,
             "#7fbc41"
            ],
            [
             0.9,
             "#4d9221"
            ],
            [
             1,
             "#276419"
            ]
           ],
           "sequential": [
            [
             0,
             "#0d0887"
            ],
            [
             0.1111111111111111,
             "#46039f"
            ],
            [
             0.2222222222222222,
             "#7201a8"
            ],
            [
             0.3333333333333333,
             "#9c179e"
            ],
            [
             0.4444444444444444,
             "#bd3786"
            ],
            [
             0.5555555555555556,
             "#d8576b"
            ],
            [
             0.6666666666666666,
             "#ed7953"
            ],
            [
             0.7777777777777778,
             "#fb9f3a"
            ],
            [
             0.8888888888888888,
             "#fdca26"
            ],
            [
             1,
             "#f0f921"
            ]
           ],
           "sequentialminus": [
            [
             0,
             "#0d0887"
            ],
            [
             0.1111111111111111,
             "#46039f"
            ],
            [
             0.2222222222222222,
             "#7201a8"
            ],
            [
             0.3333333333333333,
             "#9c179e"
            ],
            [
             0.4444444444444444,
             "#bd3786"
            ],
            [
             0.5555555555555556,
             "#d8576b"
            ],
            [
             0.6666666666666666,
             "#ed7953"
            ],
            [
             0.7777777777777778,
             "#fb9f3a"
            ],
            [
             0.8888888888888888,
             "#fdca26"
            ],
            [
             1,
             "#f0f921"
            ]
           ]
          },
          "colorway": [
           "#636efa",
           "#EF553B",
           "#00cc96",
           "#ab63fa",
           "#FFA15A",
           "#19d3f3",
           "#FF6692",
           "#B6E880",
           "#FF97FF",
           "#FECB52"
          ],
          "font": {
           "color": "#2a3f5f"
          },
          "geo": {
           "bgcolor": "white",
           "lakecolor": "white",
           "landcolor": "#E5ECF6",
           "showlakes": true,
           "showland": true,
           "subunitcolor": "white"
          },
          "hoverlabel": {
           "align": "left"
          },
          "hovermode": "closest",
          "mapbox": {
           "style": "light"
          },
          "paper_bgcolor": "white",
          "plot_bgcolor": "#E5ECF6",
          "polar": {
           "angularaxis": {
            "gridcolor": "white",
            "linecolor": "white",
            "ticks": ""
           },
           "bgcolor": "#E5ECF6",
           "radialaxis": {
            "gridcolor": "white",
            "linecolor": "white",
            "ticks": ""
           }
          },
          "scene": {
           "xaxis": {
            "backgroundcolor": "#E5ECF6",
            "gridcolor": "white",
            "gridwidth": 2,
            "linecolor": "white",
            "showbackground": true,
            "ticks": "",
            "zerolinecolor": "white"
           },
           "yaxis": {
            "backgroundcolor": "#E5ECF6",
            "gridcolor": "white",
            "gridwidth": 2,
            "linecolor": "white",
            "showbackground": true,
            "ticks": "",
            "zerolinecolor": "white"
           },
           "zaxis": {
            "backgroundcolor": "#E5ECF6",
            "gridcolor": "white",
            "gridwidth": 2,
            "linecolor": "white",
            "showbackground": true,
            "ticks": "",
            "zerolinecolor": "white"
           }
          },
          "shapedefaults": {
           "line": {
            "color": "#2a3f5f"
           }
          },
          "ternary": {
           "aaxis": {
            "gridcolor": "white",
            "linecolor": "white",
            "ticks": ""
           },
           "baxis": {
            "gridcolor": "white",
            "linecolor": "white",
            "ticks": ""
           },
           "bgcolor": "#E5ECF6",
           "caxis": {
            "gridcolor": "white",
            "linecolor": "white",
            "ticks": ""
           }
          },
          "title": {
           "x": 0.05
          },
          "xaxis": {
           "automargin": true,
           "gridcolor": "white",
           "linecolor": "white",
           "ticks": "",
           "title": {
            "standoff": 15
           },
           "zerolinecolor": "white",
           "zerolinewidth": 2
          },
          "yaxis": {
           "automargin": true,
           "gridcolor": "white",
           "linecolor": "white",
           "ticks": "",
           "title": {
            "standoff": 15
           },
           "zerolinecolor": "white",
           "zerolinewidth": 2
          }
         }
        },
        "title": {
         "text": "Population density across Neighborhoods"
        }
       }
      },
      "text/html": [
       "<div>                            <div id=\"4bbefcd1-5f21-49c9-bf90-dd7b8adfc169\" class=\"plotly-graph-div\" style=\"height:500px; width:100%;\"></div>            <script type=\"text/javascript\">                require([\"plotly\"], function(Plotly) {                    window.PLOTLYENV=window.PLOTLYENV || {};                                    if (document.getElementById(\"4bbefcd1-5f21-49c9-bf90-dd7b8adfc169\")) {                    Plotly.newPlot(                        \"4bbefcd1-5f21-49c9-bf90-dd7b8adfc169\",                        [{\"coloraxis\":\"coloraxis\",\"featureidkey\":\"properties.name\",\"geo\":\"geo\",\"geojson\":\"https://raw.githubusercontent.com/blackmad/neighborhoods/master/gn-pittsburgh.geojson\",\"hovertemplate\":\"neighborhood=%{location}<br>Pop__2010=%{z}<extra></extra>\",\"locations\":[\"Allegheny Center\",\"Allegheny West\",\"Allentown\",\"Arlington\",\"Arlington Heights\",\"Banksville\",\"Bedford Dwellings\",\"Beechview\",\"Beltzhoover\",\"Bloomfield\",\"Bluff\",\"Bon Air\",\"Brighton Heights\",\"Brookline\",\"California-Kirkbride\",\"Carrick\",\"Central Business District\",\"Central Lawrenceville\",\"Central Northside\",\"Central Oakland\",\"Chartiers City\",\"Chateau\",\"Crafton Heights\",\"Crawford-Roberts\",\"Duquesne Heights\",\"East Allegheny\",\"East Carnegie\",\"East Hills\",\"East Liberty\",\"Elliott\",\"Esplen\",\"Fairywood\",\"Fineview\",\"Friendship\",\"Garfield\",\"Glen Hazel\",\"Greenfield\",\"Hays\",\"Hazelwood\",\"Highland Park\",\"Homewood North\",\"Homewood South\",\"Homewood West\",\"Knoxville\",\"Larimer\",\"Lincoln Place\",\"Lincoln-Lemington-Belmar\",\"Lower Lawrenceville\",\"Manchester\",\"Marshall-Shadeland\",\"Middle Hill\",\"Morningside\",\"Mount Washington\",\"Mt. Oliver\",\"New Homestead\",\"North Oakland\",\"North Shore\",\"Northview Heights\",\"Oakwood\",\"Overbrook\",\"Perry North\",\"Perry South\",\"Point Breeze\",\"Point Breeze North\",\"Polish Hill\",\"Regent Square\",\"Ridgemont\",\"Shadyside\",\"Sheraden\",\"South Oakland\",\"South Shore\",\"South Side Flats\",\"South Side Slopes\",\"Spring Garden\",\"Spring Hill-City View\",\"Squirrel Hill North\",\"Squirrel Hill South\",\"St. Clair\",\"Stanton Heights\",\"Strip District\",\"Summer Hill\",\"Swisshelm Park\",\"Terrace Village\",\"Troy Hill\",\"Upper Hill\",\"Upper Lawrenceville\",\"West End\",\"West Oakland\",\"Westwood\",\"Windgap\"],\"name\":\"\",\"type\":\"choropleth\",\"z\":[6.926349079085099,5.085809271144087,13.185097675203577,6.182191055834877,2.8844335161717423,6.652550331584043,10.42932009856662,8.493785710329313,7.119767433259114,18.701609419479183,31.352429813310533,4.009328635935097,10.089633030843899,9.870998730828905,5.453164411832149,9.401582269655192,8.816962387601343,7.238383782919547,17.558191920708815,33.64605850190454,5.614803305318173,0.044624565417584514,7.870814631378011,13.582097639388083,6.055415164257818,14.079957812860485,2.0511344212742224,9.104307380263563,15.70721263214238,6.107163926437018,2.0361363467249323,1.6090027073638369,8.006829171028363,26.13584784104719,12.49672704767799,2.442044086399247,14.675229564531575,0.321641116041362,4.241480440752404,8.55299849804264,11.75037615533424,9.152924913996086,6.399674539778906,19.31622521677269,6.0385798154878385,5.102000483796761,27.111962466339083,8.469854409679007,11.861933773654256,40.77350228393687,8.70438737838334,13.621726368584538,12.012368685110479,7.685803158880198,1.9384094860669476,32.90206093944412,1.5537346036694801,6.023080205201481,6.338919235873222,6.754214433333642,5.198385804941163,7.12620517969384,8.231440540812612,11.176345759354884,7.783622622604276,7.503112821590854,2.037467465905112,23.500939024225474,9.261961983832204,9.085261924215024,0.13949970998744504,10.966614745500397,9.602025043852793,5.008328328782024,6.54206761948291,14.457699491569418,8.79774786970483,1.0487492786712498,9.735196724606709,1.5759957427647469,3.7255763831778355,4.410597099570607,14.687214206740286,10.980296961605374,10.22533516928721,10.251623781923495,1.9739040558288454,18.818836180730205,6.88974829722545,5.1335318248974415]}],                        {\"coloraxis\":{\"colorbar\":{\"title\":{\"text\":\"Pop__2010\"}},\"colorscale\":[[0.0,\"rgb(230, 240, 240)\"],[0.09090909090909091,\"rgb(191, 221, 229)\"],[0.18181818181818182,\"rgb(156, 201, 226)\"],[0.2727272727272727,\"rgb(129, 180, 227)\"],[0.36363636363636365,\"rgb(115, 154, 228)\"],[0.45454545454545453,\"rgb(117, 127, 221)\"],[0.5454545454545454,\"rgb(120, 100, 202)\"],[0.6363636363636364,\"rgb(119, 74, 175)\"],[0.7272727272727273,\"rgb(113, 50, 141)\"],[0.8181818181818182,\"rgb(100, 31, 104)\"],[0.9090909090909091,\"rgb(80, 20, 66)\"],[1.0,\"rgb(54, 14, 36)\"]]},\"geo\":{\"center\":{},\"domain\":{\"x\":[0.0,1.0],\"y\":[0.0,1.0]},\"fitbounds\":\"locations\",\"visible\":false},\"height\":500,\"legend\":{\"tracegroupgap\":0},\"template\":{\"data\":{\"bar\":[{\"error_x\":{\"color\":\"#2a3f5f\"},\"error_y\":{\"color\":\"#2a3f5f\"},\"marker\":{\"line\":{\"color\":\"#E5ECF6\",\"width\":0.5},\"pattern\":{\"fillmode\":\"overlay\",\"size\":10,\"solidity\":0.2}},\"type\":\"bar\"}],\"barpolar\":[{\"marker\":{\"line\":{\"color\":\"#E5ECF6\",\"width\":0.5},\"pattern\":{\"fillmode\":\"overlay\",\"size\":10,\"solidity\":0.2}},\"type\":\"barpolar\"}],\"carpet\":[{\"aaxis\":{\"endlinecolor\":\"#2a3f5f\",\"gridcolor\":\"white\",\"linecolor\":\"white\",\"minorgridcolor\":\"white\",\"startlinecolor\":\"#2a3f5f\"},\"baxis\":{\"endlinecolor\":\"#2a3f5f\",\"gridcolor\":\"white\",\"linecolor\":\"white\",\"minorgridcolor\":\"white\",\"startlinecolor\":\"#2a3f5f\"},\"type\":\"carpet\"}],\"choropleth\":[{\"colorbar\":{\"outlinewidth\":0,\"ticks\":\"\"},\"type\":\"choropleth\"}],\"contour\":[{\"colorbar\":{\"outlinewidth\":0,\"ticks\":\"\"},\"colorscale\":[[0.0,\"#0d0887\"],[0.1111111111111111,\"#46039f\"],[0.2222222222222222,\"#7201a8\"],[0.3333333333333333,\"#9c179e\"],[0.4444444444444444,\"#bd3786\"],[0.5555555555555556,\"#d8576b\"],[0.6666666666666666,\"#ed7953\"],[0.7777777777777778,\"#fb9f3a\"],[0.8888888888888888,\"#fdca26\"],[1.0,\"#f0f921\"]],\"type\":\"contour\"}],\"contourcarpet\":[{\"colorbar\":{\"outlinewidth\":0,\"ticks\":\"\"},\"type\":\"contourcarpet\"}],\"heatmap\":[{\"colorbar\":{\"outlinewidth\":0,\"ticks\":\"\"},\"colorscale\":[[0.0,\"#0d0887\"],[0.1111111111111111,\"#46039f\"],[0.2222222222222222,\"#7201a8\"],[0.3333333333333333,\"#9c179e\"],[0.4444444444444444,\"#bd3786\"],[0.5555555555555556,\"#d8576b\"],[0.6666666666666666,\"#ed7953\"],[0.7777777777777778,\"#fb9f3a\"],[0.8888888888888888,\"#fdca26\"],[1.0,\"#f0f921\"]],\"type\":\"heatmap\"}],\"heatmapgl\":[{\"colorbar\":{\"outlinewidth\":0,\"ticks\":\"\"},\"colorscale\":[[0.0,\"#0d0887\"],[0.1111111111111111,\"#46039f\"],[0.2222222222222222,\"#7201a8\"],[0.3333333333333333,\"#9c179e\"],[0.4444444444444444,\"#bd3786\"],[0.5555555555555556,\"#d8576b\"],[0.6666666666666666,\"#ed7953\"],[0.7777777777777778,\"#fb9f3a\"],[0.8888888888888888,\"#fdca26\"],[1.0,\"#f0f921\"]],\"type\":\"heatmapgl\"}],\"histogram\":[{\"marker\":{\"pattern\":{\"fillmode\":\"overlay\",\"size\":10,\"solidity\":0.2}},\"type\":\"histogram\"}],\"histogram2d\":[{\"colorbar\":{\"outlinewidth\":0,\"ticks\":\"\"},\"colorscale\":[[0.0,\"#0d0887\"],[0.1111111111111111,\"#46039f\"],[0.2222222222222222,\"#7201a8\"],[0.3333333333333333,\"#9c179e\"],[0.4444444444444444,\"#bd3786\"],[0.5555555555555556,\"#d8576b\"],[0.6666666666666666,\"#ed7953\"],[0.7777777777777778,\"#fb9f3a\"],[0.8888888888888888,\"#fdca26\"],[1.0,\"#f0f921\"]],\"type\":\"histogram2d\"}],\"histogram2dcontour\":[{\"colorbar\":{\"outlinewidth\":0,\"ticks\":\"\"},\"colorscale\":[[0.0,\"#0d0887\"],[0.1111111111111111,\"#46039f\"],[0.2222222222222222,\"#7201a8\"],[0.3333333333333333,\"#9c179e\"],[0.4444444444444444,\"#bd3786\"],[0.5555555555555556,\"#d8576b\"],[0.6666666666666666,\"#ed7953\"],[0.7777777777777778,\"#fb9f3a\"],[0.8888888888888888,\"#fdca26\"],[1.0,\"#f0f921\"]],\"type\":\"histogram2dcontour\"}],\"mesh3d\":[{\"colorbar\":{\"outlinewidth\":0,\"ticks\":\"\"},\"type\":\"mesh3d\"}],\"parcoords\":[{\"line\":{\"colorbar\":{\"outlinewidth\":0,\"ticks\":\"\"}},\"type\":\"parcoords\"}],\"pie\":[{\"automargin\":true,\"type\":\"pie\"}],\"scatter\":[{\"marker\":{\"colorbar\":{\"outlinewidth\":0,\"ticks\":\"\"}},\"type\":\"scatter\"}],\"scatter3d\":[{\"line\":{\"colorbar\":{\"outlinewidth\":0,\"ticks\":\"\"}},\"marker\":{\"colorbar\":{\"outlinewidth\":0,\"ticks\":\"\"}},\"type\":\"scatter3d\"}],\"scattercarpet\":[{\"marker\":{\"colorbar\":{\"outlinewidth\":0,\"ticks\":\"\"}},\"type\":\"scattercarpet\"}],\"scattergeo\":[{\"marker\":{\"colorbar\":{\"outlinewidth\":0,\"ticks\":\"\"}},\"type\":\"scattergeo\"}],\"scattergl\":[{\"marker\":{\"colorbar\":{\"outlinewidth\":0,\"ticks\":\"\"}},\"type\":\"scattergl\"}],\"scattermapbox\":[{\"marker\":{\"colorbar\":{\"outlinewidth\":0,\"ticks\":\"\"}},\"type\":\"scattermapbox\"}],\"scatterpolar\":[{\"marker\":{\"colorbar\":{\"outlinewidth\":0,\"ticks\":\"\"}},\"type\":\"scatterpolar\"}],\"scatterpolargl\":[{\"marker\":{\"colorbar\":{\"outlinewidth\":0,\"ticks\":\"\"}},\"type\":\"scatterpolargl\"}],\"scatterternary\":[{\"marker\":{\"colorbar\":{\"outlinewidth\":0,\"ticks\":\"\"}},\"type\":\"scatterternary\"}],\"surface\":[{\"colorbar\":{\"outlinewidth\":0,\"ticks\":\"\"},\"colorscale\":[[0.0,\"#0d0887\"],[0.1111111111111111,\"#46039f\"],[0.2222222222222222,\"#7201a8\"],[0.3333333333333333,\"#9c179e\"],[0.4444444444444444,\"#bd3786\"],[0.5555555555555556,\"#d8576b\"],[0.6666666666666666,\"#ed7953\"],[0.7777777777777778,\"#fb9f3a\"],[0.8888888888888888,\"#fdca26\"],[1.0,\"#f0f921\"]],\"type\":\"surface\"}],\"table\":[{\"cells\":{\"fill\":{\"color\":\"#EBF0F8\"},\"line\":{\"color\":\"white\"}},\"header\":{\"fill\":{\"color\":\"#C8D4E3\"},\"line\":{\"color\":\"white\"}},\"type\":\"table\"}]},\"layout\":{\"annotationdefaults\":{\"arrowcolor\":\"#2a3f5f\",\"arrowhead\":0,\"arrowwidth\":1},\"autotypenumbers\":\"strict\",\"coloraxis\":{\"colorbar\":{\"outlinewidth\":0,\"ticks\":\"\"}},\"colorscale\":{\"diverging\":[[0,\"#8e0152\"],[0.1,\"#c51b7d\"],[0.2,\"#de77ae\"],[0.3,\"#f1b6da\"],[0.4,\"#fde0ef\"],[0.5,\"#f7f7f7\"],[0.6,\"#e6f5d0\"],[0.7,\"#b8e186\"],[0.8,\"#7fbc41\"],[0.9,\"#4d9221\"],[1,\"#276419\"]],\"sequential\":[[0.0,\"#0d0887\"],[0.1111111111111111,\"#46039f\"],[0.2222222222222222,\"#7201a8\"],[0.3333333333333333,\"#9c179e\"],[0.4444444444444444,\"#bd3786\"],[0.5555555555555556,\"#d8576b\"],[0.6666666666666666,\"#ed7953\"],[0.7777777777777778,\"#fb9f3a\"],[0.8888888888888888,\"#fdca26\"],[1.0,\"#f0f921\"]],\"sequentialminus\":[[0.0,\"#0d0887\"],[0.1111111111111111,\"#46039f\"],[0.2222222222222222,\"#7201a8\"],[0.3333333333333333,\"#9c179e\"],[0.4444444444444444,\"#bd3786\"],[0.5555555555555556,\"#d8576b\"],[0.6666666666666666,\"#ed7953\"],[0.7777777777777778,\"#fb9f3a\"],[0.8888888888888888,\"#fdca26\"],[1.0,\"#f0f921\"]]},\"colorway\":[\"#636efa\",\"#EF553B\",\"#00cc96\",\"#ab63fa\",\"#FFA15A\",\"#19d3f3\",\"#FF6692\",\"#B6E880\",\"#FF97FF\",\"#FECB52\"],\"font\":{\"color\":\"#2a3f5f\"},\"geo\":{\"bgcolor\":\"white\",\"lakecolor\":\"white\",\"landcolor\":\"#E5ECF6\",\"showlakes\":true,\"showland\":true,\"subunitcolor\":\"white\"},\"hoverlabel\":{\"align\":\"left\"},\"hovermode\":\"closest\",\"mapbox\":{\"style\":\"light\"},\"paper_bgcolor\":\"white\",\"plot_bgcolor\":\"#E5ECF6\",\"polar\":{\"angularaxis\":{\"gridcolor\":\"white\",\"linecolor\":\"white\",\"ticks\":\"\"},\"bgcolor\":\"#E5ECF6\",\"radialaxis\":{\"gridcolor\":\"white\",\"linecolor\":\"white\",\"ticks\":\"\"}},\"scene\":{\"xaxis\":{\"backgroundcolor\":\"#E5ECF6\",\"gridcolor\":\"white\",\"gridwidth\":2,\"linecolor\":\"white\",\"showbackground\":true,\"ticks\":\"\",\"zerolinecolor\":\"white\"},\"yaxis\":{\"backgroundcolor\":\"#E5ECF6\",\"gridcolor\":\"white\",\"gridwidth\":2,\"linecolor\":\"white\",\"showbackground\":true,\"ticks\":\"\",\"zerolinecolor\":\"white\"},\"zaxis\":{\"backgroundcolor\":\"#E5ECF6\",\"gridcolor\":\"white\",\"gridwidth\":2,\"linecolor\":\"white\",\"showbackground\":true,\"ticks\":\"\",\"zerolinecolor\":\"white\"}},\"shapedefaults\":{\"line\":{\"color\":\"#2a3f5f\"}},\"ternary\":{\"aaxis\":{\"gridcolor\":\"white\",\"linecolor\":\"white\",\"ticks\":\"\"},\"baxis\":{\"gridcolor\":\"white\",\"linecolor\":\"white\",\"ticks\":\"\"},\"bgcolor\":\"#E5ECF6\",\"caxis\":{\"gridcolor\":\"white\",\"linecolor\":\"white\",\"ticks\":\"\"}},\"title\":{\"x\":0.05},\"xaxis\":{\"automargin\":true,\"gridcolor\":\"white\",\"linecolor\":\"white\",\"ticks\":\"\",\"title\":{\"standoff\":15},\"zerolinecolor\":\"white\",\"zerolinewidth\":2},\"yaxis\":{\"automargin\":true,\"gridcolor\":\"white\",\"linecolor\":\"white\",\"ticks\":\"\",\"title\":{\"standoff\":15},\"zerolinecolor\":\"white\",\"zerolinewidth\":2}}},\"title\":{\"text\":\"Population density across Neighborhoods\"}},                        {\"responsive\": true}                    ).then(function(){\n",
       "                            \n",
       "var gd = document.getElementById('4bbefcd1-5f21-49c9-bf90-dd7b8adfc169');\n",
       "var x = new MutationObserver(function (mutations, observer) {{\n",
       "        var display = window.getComputedStyle(gd).display;\n",
       "        if (!display || display === 'none') {{\n",
       "            console.log([gd, 'removed!']);\n",
       "            Plotly.purge(gd);\n",
       "            observer.disconnect();\n",
       "        }}\n",
       "}});\n",
       "\n",
       "// Listen for the removal of the full notebook cells\n",
       "var notebookContainer = gd.closest('#notebook-container');\n",
       "if (notebookContainer) {{\n",
       "    x.observe(notebookContainer, {childList: true});\n",
       "}}\n",
       "\n",
       "// Listen for the clearing of the current output cell\n",
       "var outputEl = gd.closest('.output');\n",
       "if (outputEl) {{\n",
       "    x.observe(outputEl, {childList: true});\n",
       "}}\n",
       "\n",
       "                        })                };                });            </script>        </div>"
      ]
     },
     "metadata": {},
     "output_type": "display_data"
    }
   ],
   "source": [
    "fig=px.choropleth(population_density_map,\n",
    "             geojson=\"https://raw.githubusercontent.com/blackmad/neighborhoods/master/gn-pittsburgh.geojson\",\n",
    "             featureidkey='properties.name',   \n",
    "             locations='neighborhood',        #column in dataframe\n",
    "             color='Pop__2010',\n",
    "              color_continuous_scale='dense',\n",
    "               title='Population density across Neighborhoods' ,  \n",
    "               height=500\n",
    "              )\n",
    "fig.update_geos(fitbounds=\"locations\", visible=False)\n",
    "fig.show()"
   ]
  },
  {
   "cell_type": "code",
   "execution_count": 789,
   "id": "7344446b",
   "metadata": {
    "scrolled": true
   },
   "outputs": [
    {
     "data": {
      "text/plain": [
       "[Text(0.5, 0, 'Number of Trees (Normalized by Area)'),\n",
       " Text(0, 0.5, 'Population Density'),\n",
       " Text(0.5, 1.0, 'Population Density vs Number of Trees')]"
      ]
     },
     "execution_count": 789,
     "metadata": {},
     "output_type": "execute_result"
    },
    {
     "data": {
      "image/png": "[encoded data removed]",
      "text/plain": [
       "<Figure size 432x288 with 1 Axes>"
      ]
     },
     "metadata": {},
     "output_type": "display_data"
    }
   ],
   "source": [
    "plot = sns.regplot(x = 'tree_count', y = 'Pop__2010', data = combined_data)\n",
    "plot.set(xlabel = \"Number of Trees (Normalized by Area)\", ylabel = \"Population Density\",\n",
    "title = \"Population Density vs Number of Trees\")"
   ]
  },
  {
   "cell_type": "markdown",
   "id": "e432071a",
   "metadata": {},
   "source": [
    "**Inference: People might prefer to live in neighborhoods with a higher green cover due to the aesthetic appeal/ other benefits**"
   ]
  },
  {
   "cell_type": "markdown",
   "id": "9f34a70e",
   "metadata": {},
   "source": [
    "# Tree density vs Crime rate density (i.e crimes per unit area) per neighborhood"
   ]
  },
  {
   "cell_type": "code",
   "execution_count": 790,
   "id": "e309d978",
   "metadata": {},
   "outputs": [],
   "source": [
    "crime_rate_density_map = combined_data[['neighborhood', 'SNAP_All_csv__Part_1__Major_Cri']].copy()"
   ]
  },
  {
   "cell_type": "code",
   "execution_count": 791,
   "id": "bf7358e8",
   "metadata": {},
   "outputs": [
    {
     "data": {
      "application/vnd.plotly.v1+json": {
       "config": {
        "plotlyServerURL": "https://plot.ly"
       },
       "data": [
        {
         "coloraxis": "coloraxis",
         "featureidkey": "properties.name",
         "geo": "geo",
         "geojson": "https://raw.githubusercontent.com/blackmad/neighborhoods/master/gn-pittsburgh.geojson",
         "hovertemplate": "neighborhood=%{location}<br>SNAP_All_csv__Part_1__Major_Cri=%{z}<extra></extra>",
         "locations": [
          "Allegheny Center",
          "Allegheny West",
          "Allentown",
          "Arlington",
          "Arlington Heights",
          "Banksville",
          "Bedford Dwellings",
          "Beechview",
          "Beltzhoover",
          "Bloomfield",
          "Bluff",
          "Bon Air",
          "Brighton Heights",
          "Brookline",
          "California-Kirkbride",
          "Carrick",
          "Central Business District",
          "Central Lawrenceville",
          "Central Northside",
          "Central Oakland",
          "Chartiers City",
          "Chateau",
          "Crafton Heights",
          "Crawford-Roberts",
          "Duquesne Heights",
          "East Allegheny",
          "East Carnegie",
          "East Hills",
          "East Liberty",
          "Elliott",
          "Esplen",
          "Fairywood",
          "Fineview",
          "Friendship",
          "Garfield",
          "Glen Hazel",
          "Greenfield",
          "Hays",
          "Hazelwood",
          "Highland Park",
          "Homewood North",
          "Homewood South",
          "Homewood West",
          "Knoxville",
          "Larimer",
          "Lincoln Place",
          "Lincoln-Lemington-Belmar",
          "Lower Lawrenceville",
          "Manchester",
          "Marshall-Shadeland",
          "Middle Hill",
          "Morningside",
          "Mount Washington",
          "Mt. Oliver",
          "New Homestead",
          "North Oakland",
          "North Shore",
          "Northview Heights",
          "Oakwood",
          "Overbrook",
          "Perry North",
          "Perry South",
          "Point Breeze",
          "Point Breeze North",
          "Polish Hill",
          "Regent Square",
          "Ridgemont",
          "Shadyside",
          "Sheraden",
          "South Oakland",
          "South Shore",
          "South Side Flats",
          "South Side Slopes",
          "Spring Garden",
          "Spring Hill-City View",
          "Squirrel Hill North",
          "Squirrel Hill South",
          "St. Clair",
          "Stanton Heights",
          "Strip District",
          "Summer Hill",
          "Swisshelm Park",
          "Terrace Village",
          "Troy Hill",
          "Upper Hill",
          "Upper Lawrenceville",
          "West End",
          "West Oakland",
          "Westwood",
          "Windgap"
         ],
         "name": "",
         "type": "choropleth",
         "z": [
          0.527085514056851,
          0.418313316674189,
          0.8385722121429475,
          0.16538766869542207,
          0.22460752789861926,
          0.09953139974860295,
          0.36441883871863395,
          0.20558071759387478,
          0.30698218023922413,
          1.0035334123458979,
          0.4987886561208494,
          0.12901305016622835,
          0.335532159574083,
          0.18002956668153217,
          0.4586104104563174,
          0.4211328753242165,
          1.9169422220494516,
          0.28585317482747874,
          0.7088151374080193,
          1.304710779896397,
          0.10593968500600326,
          0.06490845878921384,
          0.1836660991590569,
          0.7766359022522441,
          0.13733931300378557,
          1.542467288487525,
          0.032386332967487726,
          0.25856347877050195,
          1.306035059547705,
          0.26932054274501754,
          0.20970174999492655,
          0.004817373375340829,
          0.43616968246847115,
          1.3031319091614566,
          0.6188855299802433,
          0.034106760983229706,
          0.2917340672960075,
          0.013327670554200081,
          0.15621852908956038,
          0.24341606358776552,
          0.7093214874256646,
          0.9488740418519834,
          0.4381195283956219,
          1.1495911991834293,
          0.48574224210232037,
          0.050593125342887006,
          0.738458121651259,
          0.38713132073287215,
          0.38425982647048995,
          1.497884743841467,
          0.5813123380994146,
          0.27276021120596655,
          0.5924955119147571,
          0.18119771690876696,
          0.013705925659059225,
          0.5675457388853028,
          0.3692042622580943,
          0.312565117732861,
          0.08641175199827177,
          0.13530671065679362,
          0.1437578296675087,
          0.3799496609679949,
          0.17965138339308806,
          0.4570657467311637,
          0.20772619243998852,
          0.30723953364272893,
          0.05905702799724963,
          1.0521800224284923,
          0.38802709198164737,
          0.31824427083811463,
          0.27165732997555087,
          1.112121458957066,
          0.45589537852342,
          0.20395907221284262,
          0.2989388904673082,
          0.18830762340511079,
          0.19272366279763725,
          0.07025114785357654,
          0.14176443828486188,
          0.3965573703385321,
          0.046082295890877124,
          0.0907396905128413,
          0.7416406182461792,
          0.6594651454464538,
          0.22369474118518445,
          0.3533718201337436,
          0.17873934363804506,
          0.5926054404070187,
          0.12808729711084493,
          0.15374346590269913
         ]
        }
       ],
       "layout": {
        "coloraxis": {
         "colorbar": {
          "title": {
           "text": "SNAP_All_csv__Part_1__Major_Cri"
          }
         },
         "colorscale": [
          [
           0,
           "rgb(255,245,240)"
          ],
          [
           0.125,
           "rgb(254,224,210)"
          ],
          [
           0.25,
           "rgb(252,187,161)"
          ],
          [
           0.375,
           "rgb(252,146,114)"
          ],
          [
           0.5,
           "rgb(251,106,74)"
          ],
          [
           0.625,
           "rgb(239,59,44)"
          ],
          [
           0.75,
           "rgb(203,24,29)"
          ],
          [
           0.875,
           "rgb(165,15,21)"
          ],
          [
           1,
           "rgb(103,0,13)"
          ]
         ]
        },
        "geo": {
         "center": {},
         "domain": {
          "x": [
           0,
           1
          ],
          "y": [
           0,
           1
          ]
         },
         "fitbounds": "locations",
         "visible": false
        },
        "height": 500,
        "legend": {
         "tracegroupgap": 0
        },
        "template": {
         "data": {
          "bar": [
           {
            "error_x": {
             "color": "#2a3f5f"
            },
            "error_y": {
             "color": "#2a3f5f"
            },
            "marker": {
             "line": {
              "color": "#E5ECF6",
              "width": 0.5
             },
             "pattern": {
              "fillmode": "overlay",
              "size": 10,
              "solidity": 0.2
             }
            },
            "type": "bar"
           }
          ],
          "barpolar": [
           {
            "marker": {
             "line": {
              "color": "#E5ECF6",
              "width": 0.5
             },
             "pattern": {
              "fillmode": "overlay",
              "size": 10,
              "solidity": 0.2
             }
            },
            "type": "barpolar"
           }
          ],
          "carpet": [
           {
            "aaxis": {
             "endlinecolor": "#2a3f5f",
             "gridcolor": "white",
             "linecolor": "white",
             "minorgridcolor": "white",
             "startlinecolor": "#2a3f5f"
            },
            "baxis": {
             "endlinecolor": "#2a3f5f",
             "gridcolor": "white",
             "linecolor": "white",
             "minorgridcolor": "white",
             "startlinecolor": "#2a3f5f"
            },
            "type": "carpet"
           }
          ],
          "choropleth": [
           {
            "colorbar": {
             "outlinewidth": 0,
             "ticks": ""
            },
            "type": "choropleth"
           }
          ],
          "contour": [
           {
            "colorbar": {
             "outlinewidth": 0,
             "ticks": ""
            },
            "colorscale": [
             [
              0,
              "#0d0887"
             ],
             [
              0.1111111111111111,
              "#46039f"
             ],
             [
              0.2222222222222222,
              "#7201a8"
             ],
             [
              0.3333333333333333,
              "#9c179e"
             ],
             [
              0.4444444444444444,
              "#bd3786"
             ],
             [
              0.5555555555555556,
              "#d8576b"
             ],
             [
              0.6666666666666666,
              "#ed7953"
             ],
             [
              0.7777777777777778,
              "#fb9f3a"
             ],
             [
              0.8888888888888888,
              "#fdca26"
             ],
             [
              1,
              "#f0f921"
             ]
            ],
            "type": "contour"
           }
          ],
          "contourcarpet": [
           {
            "colorbar": {
             "outlinewidth": 0,
             "ticks": ""
            },
            "type": "contourcarpet"
           }
          ],
          "heatmap": [
           {
            "colorbar": {
             "outlinewidth": 0,
             "ticks": ""
            },
            "colorscale": [
             [
              0,
              "#0d0887"
             ],
             [
              0.1111111111111111,
              "#46039f"
             ],
             [
              0.2222222222222222,
              "#7201a8"
             ],
             [
              0.3333333333333333,
              "#9c179e"
             ],
             [
              0.4444444444444444,
              "#bd3786"
             ],
             [
              0.5555555555555556,
              "#d8576b"
             ],
             [
              0.6666666666666666,
              "#ed7953"
             ],
             [
              0.7777777777777778,
              "#fb9f3a"
             ],
             [
              0.8888888888888888,
              "#fdca26"
             ],
             [
              1,
              "#f0f921"
             ]
            ],
            "type": "heatmap"
           }
          ],
          "heatmapgl": [
           {
            "colorbar": {
             "outlinewidth": 0,
             "ticks": ""
            },
            "colorscale": [
             [
              0,
              "#0d0887"
             ],
             [
              0.1111111111111111,
              "#46039f"
             ],
             [
              0.2222222222222222,
              "#7201a8"
             ],
             [
              0.3333333333333333,
              "#9c179e"
             ],
             [
              0.4444444444444444,
              "#bd3786"
             ],
             [
              0.5555555555555556,
              "#d8576b"
             ],
             [
              0.6666666666666666,
              "#ed7953"
             ],
             [
              0.7777777777777778,
              "#fb9f3a"
             ],
             [
              0.8888888888888888,
              "#fdca26"
             ],
             [
              1,
              "#f0f921"
             ]
            ],
            "type": "heatmapgl"
           }
          ],
          "histogram": [
           {
            "marker": {
             "pattern": {
              "fillmode": "overlay",
              "size": 10,
              "solidity": 0.2
             }
            },
            "type": "histogram"
           }
          ],
          "histogram2d": [
           {
            "colorbar": {
             "outlinewidth": 0,
             "ticks": ""
            },
            "colorscale": [
             [
              0,
              "#0d0887"
             ],
             [
              0.1111111111111111,
              "#46039f"
             ],
             [
              0.2222222222222222,
              "#7201a8"
             ],
             [
              0.3333333333333333,
              "#9c179e"
             ],
             [
              0.4444444444444444,
              "#bd3786"
             ],
             [
              0.5555555555555556,
              "#d8576b"
             ],
             [
              0.6666666666666666,
              "#ed7953"
             ],
             [
              0.7777777777777778,
              "#fb9f3a"
             ],
             [
              0.8888888888888888,
              "#fdca26"
             ],
             [
              1,
              "#f0f921"
             ]
            ],
            "type": "histogram2d"
           }
          ],
          "histogram2dcontour": [
           {
            "colorbar": {
             "outlinewidth": 0,
             "ticks": ""
            },
            "colorscale": [
             [
              0,
              "#0d0887"
             ],
             [
              0.1111111111111111,
              "#46039f"
             ],
             [
              0.2222222222222222,
              "#7201a8"
             ],
             [
              0.3333333333333333,
              "#9c179e"
             ],
             [
              0.4444444444444444,
              "#bd3786"
             ],
             [
              0.5555555555555556,
              "#d8576b"
             ],
             [
              0.6666666666666666,
              "#ed7953"
             ],
             [
              0.7777777777777778,
              "#fb9f3a"
             ],
             [
              0.8888888888888888,
              "#fdca26"
             ],
             [
              1,
              "#f0f921"
             ]
            ],
            "type": "histogram2dcontour"
           }
          ],
          "mesh3d": [
           {
            "colorbar": {
             "outlinewidth": 0,
             "ticks": ""
            },
            "type": "mesh3d"
           }
          ],
          "parcoords": [
           {
            "line": {
             "colorbar": {
              "outlinewidth": 0,
              "ticks": ""
             }
            },
            "type": "parcoords"
           }
          ],
          "pie": [
           {
            "automargin": true,
            "type": "pie"
           }
          ],
          "scatter": [
           {
            "marker": {
             "colorbar": {
              "outlinewidth": 0,
              "ticks": ""
             }
            },
            "type": "scatter"
           }
          ],
          "scatter3d": [
           {
            "line": {
             "colorbar": {
              "outlinewidth": 0,
              "ticks": ""
             }
            },
            "marker": {
             "colorbar": {
              "outlinewidth": 0,
              "ticks": ""
             }
            },
            "type": "scatter3d"
           }
          ],
          "scattercarpet": [
           {
            "marker": {
             "colorbar": {
              "outlinewidth": 0,
              "ticks": ""
             }
            },
            "type": "scattercarpet"
           }
          ],
          "scattergeo": [
           {
            "marker": {
             "colorbar": {
              "outlinewidth": 0,
              "ticks": ""
             }
            },
            "type": "scattergeo"
           }
          ],
          "scattergl": [
           {
            "marker": {
             "colorbar": {
              "outlinewidth": 0,
              "ticks": ""
             }
            },
            "type": "scattergl"
           }
          ],
          "scattermapbox": [
           {
            "marker": {
             "colorbar": {
              "outlinewidth": 0,
              "ticks": ""
             }
            },
            "type": "scattermapbox"
           }
          ],
          "scatterpolar": [
           {
            "marker": {
             "colorbar": {
              "outlinewidth": 0,
              "ticks": ""
             }
            },
            "type": "scatterpolar"
           }
          ],
          "scatterpolargl": [
           {
            "marker": {
             "colorbar": {
              "outlinewidth": 0,
              "ticks": ""
             }
            },
            "type": "scatterpolargl"
           }
          ],
          "scatterternary": [
           {
            "marker": {
             "colorbar": {
              "outlinewidth": 0,
              "ticks": ""
             }
            },
            "type": "scatterternary"
           }
          ],
          "surface": [
           {
            "colorbar": {
             "outlinewidth": 0,
             "ticks": ""
            },
            "colorscale": [
             [
              0,
              "#0d0887"
             ],
             [
              0.1111111111111111,
              "#46039f"
             ],
             [
              0.2222222222222222,
              "#7201a8"
             ],
             [
              0.3333333333333333,
              "#9c179e"
             ],
             [
              0.4444444444444444,
              "#bd3786"
             ],
             [
              0.5555555555555556,
              "#d8576b"
             ],
             [
              0.6666666666666666,
              "#ed7953"
             ],
             [
              0.7777777777777778,
              "#fb9f3a"
             ],
             [
              0.8888888888888888,
              "#fdca26"
             ],
             [
              1,
              "#f0f921"
             ]
            ],
            "type": "surface"
           }
          ],
          "table": [
           {
            "cells": {
             "fill": {
              "color": "#EBF0F8"
             },
             "line": {
              "color": "white"
             }
            },
            "header": {
             "fill": {
              "color": "#C8D4E3"
             },
             "line": {
              "color": "white"
             }
            },
            "type": "table"
           }
          ]
         },
         "layout": {
          "annotationdefaults": {
           "arrowcolor": "#2a3f5f",
           "arrowhead": 0,
           "arrowwidth": 1
          },
          "autotypenumbers": "strict",
          "coloraxis": {
           "colorbar": {
            "outlinewidth": 0,
            "ticks": ""
           }
          },
          "colorscale": {
           "diverging": [
            [
             0,
             "#8e0152"
            ],
            [
             0.1,
             "#c51b7d"
            ],
            [
             0.2,
             "#de77ae"
            ],
            [
             0.3,
             "#f1b6da"
            ],
            [
             0.4,
             "#fde0ef"
            ],
            [
             0.5,
             "#f7f7f7"
            ],
            [
             0.6,
             "#e6f5d0"
            ],
            [
             0.7,
             "#b8e186"
            ],
            [
             0.8,
             "#7fbc41"
            ],
            [
             0.9,
             "#4d9221"
            ],
            [
             1,
             "#276419"
            ]
           ],
           "sequential": [
            [
             0,
             "#0d0887"
            ],
            [
             0.1111111111111111,
             "#46039f"
            ],
            [
             0.2222222222222222,
             "#7201a8"
            ],
            [
             0.3333333333333333,
             "#9c179e"
            ],
            [
             0.4444444444444444,
             "#bd3786"
            ],
            [
             0.5555555555555556,
             "#d8576b"
            ],
            [
             0.6666666666666666,
             "#ed7953"
            ],
            [
             0.7777777777777778,
             "#fb9f3a"
            ],
            [
             0.8888888888888888,
             "#fdca26"
            ],
            [
             1,
             "#f0f921"
            ]
           ],
           "sequentialminus": [
            [
             0,
             "#0d0887"
            ],
            [
             0.1111111111111111,
             "#46039f"
            ],
            [
             0.2222222222222222,
             "#7201a8"
            ],
            [
             0.3333333333333333,
             "#9c179e"
            ],
            [
             0.4444444444444444,
             "#bd3786"
            ],
            [
             0.5555555555555556,
             "#d8576b"
            ],
            [
             0.6666666666666666,
             "#ed7953"
            ],
            [
             0.7777777777777778,
             "#fb9f3a"
            ],
            [
             0.8888888888888888,
             "#fdca26"
            ],
            [
             1,
             "#f0f921"
            ]
           ]
          },
          "colorway": [
           "#636efa",
           "#EF553B",
           "#00cc96",
           "#ab63fa",
           "#FFA15A",
           "#19d3f3",
           "#FF6692",
           "#B6E880",
           "#FF97FF",
           "#FECB52"
          ],
          "font": {
           "color": "#2a3f5f"
          },
          "geo": {
           "bgcolor": "white",
           "lakecolor": "white",
           "landcolor": "#E5ECF6",
           "showlakes": true,
           "showland": true,
           "subunitcolor": "white"
          },
          "hoverlabel": {
           "align": "left"
          },
          "hovermode": "closest",
          "mapbox": {
           "style": "light"
          },
          "paper_bgcolor": "white",
          "plot_bgcolor": "#E5ECF6",
          "polar": {
           "angularaxis": {
            "gridcolor": "white",
            "linecolor": "white",
            "ticks": ""
           },
           "bgcolor": "#E5ECF6",
           "radialaxis": {
            "gridcolor": "white",
            "linecolor": "white",
            "ticks": ""
           }
          },
          "scene": {
           "xaxis": {
            "backgroundcolor": "#E5ECF6",
            "gridcolor": "white",
            "gridwidth": 2,
            "linecolor": "white",
            "showbackground": true,
            "ticks": "",
            "zerolinecolor": "white"
           },
           "yaxis": {
            "backgroundcolor": "#E5ECF6",
            "gridcolor": "white",
            "gridwidth": 2,
            "linecolor": "white",
            "showbackground": true,
            "ticks": "",
            "zerolinecolor": "white"
           },
           "zaxis": {
            "backgroundcolor": "#E5ECF6",
            "gridcolor": "white",
            "gridwidth": 2,
            "linecolor": "white",
            "showbackground": true,
            "ticks": "",
            "zerolinecolor": "white"
           }
          },
          "shapedefaults": {
           "line": {
            "color": "#2a3f5f"
           }
          },
          "ternary": {
           "aaxis": {
            "gridcolor": "white",
            "linecolor": "white",
            "ticks": ""
           },
           "baxis": {
            "gridcolor": "white",
            "linecolor": "white",
            "ticks": ""
           },
           "bgcolor": "#E5ECF6",
           "caxis": {
            "gridcolor": "white",
            "linecolor": "white",
            "ticks": ""
           }
          },
          "title": {
           "x": 0.05
          },
          "xaxis": {
           "automargin": true,
           "gridcolor": "white",
           "linecolor": "white",
           "ticks": "",
           "title": {
            "standoff": 15
           },
           "zerolinecolor": "white",
           "zerolinewidth": 2
          },
          "yaxis": {
           "automargin": true,
           "gridcolor": "white",
           "linecolor": "white",
           "ticks": "",
           "title": {
            "standoff": 15
           },
           "zerolinecolor": "white",
           "zerolinewidth": 2
          }
         }
        },
        "title": {
         "text": "Crimes Density across Neighborhoods"
        }
       }
      },
      "text/html": [
       "<div>                            <div id=\"5f83e721-5317-4e5f-89b6-ac22b40f5feb\" class=\"plotly-graph-div\" style=\"height:500px; width:100%;\"></div>            <script type=\"text/javascript\">                require([\"plotly\"], function(Plotly) {                    window.PLOTLYENV=window.PLOTLYENV || {};                                    if (document.getElementById(\"5f83e721-5317-4e5f-89b6-ac22b40f5feb\")) {                    Plotly.newPlot(                        \"5f83e721-5317-4e5f-89b6-ac22b40f5feb\",                        [{\"coloraxis\":\"coloraxis\",\"featureidkey\":\"properties.name\",\"geo\":\"geo\",\"geojson\":\"https://raw.githubusercontent.com/blackmad/neighborhoods/master/gn-pittsburgh.geojson\",\"hovertemplate\":\"neighborhood=%{location}<br>SNAP_All_csv__Part_1__Major_Cri=%{z}<extra></extra>\",\"locations\":[\"Allegheny Center\",\"Allegheny West\",\"Allentown\",\"Arlington\",\"Arlington Heights\",\"Banksville\",\"Bedford Dwellings\",\"Beechview\",\"Beltzhoover\",\"Bloomfield\",\"Bluff\",\"Bon Air\",\"Brighton Heights\",\"Brookline\",\"California-Kirkbride\",\"Carrick\",\"Central Business District\",\"Central Lawrenceville\",\"Central Northside\",\"Central Oakland\",\"Chartiers City\",\"Chateau\",\"Crafton Heights\",\"Crawford-Roberts\",\"Duquesne Heights\",\"East Allegheny\",\"East Carnegie\",\"East Hills\",\"East Liberty\",\"Elliott\",\"Esplen\",\"Fairywood\",\"Fineview\",\"Friendship\",\"Garfield\",\"Glen Hazel\",\"Greenfield\",\"Hays\",\"Hazelwood\",\"Highland Park\",\"Homewood North\",\"Homewood South\",\"Homewood West\",\"Knoxville\",\"Larimer\",\"Lincoln Place\",\"Lincoln-Lemington-Belmar\",\"Lower Lawrenceville\",\"Manchester\",\"Marshall-Shadeland\",\"Middle Hill\",\"Morningside\",\"Mount Washington\",\"Mt. Oliver\",\"New Homestead\",\"North Oakland\",\"North Shore\",\"Northview Heights\",\"Oakwood\",\"Overbrook\",\"Perry North\",\"Perry South\",\"Point Breeze\",\"Point Breeze North\",\"Polish Hill\",\"Regent Square\",\"Ridgemont\",\"Shadyside\",\"Sheraden\",\"South Oakland\",\"South Shore\",\"South Side Flats\",\"South Side Slopes\",\"Spring Garden\",\"Spring Hill-City View\",\"Squirrel Hill North\",\"Squirrel Hill South\",\"St. Clair\",\"Stanton Heights\",\"Strip District\",\"Summer Hill\",\"Swisshelm Park\",\"Terrace Village\",\"Troy Hill\",\"Upper Hill\",\"Upper Lawrenceville\",\"West End\",\"West Oakland\",\"Westwood\",\"Windgap\"],\"name\":\"\",\"type\":\"choropleth\",\"z\":[0.527085514056851,0.418313316674189,0.8385722121429475,0.16538766869542207,0.22460752789861926,0.09953139974860295,0.36441883871863395,0.20558071759387478,0.30698218023922413,1.0035334123458979,0.4987886561208494,0.12901305016622835,0.335532159574083,0.18002956668153217,0.4586104104563174,0.4211328753242165,1.9169422220494516,0.28585317482747874,0.7088151374080193,1.304710779896397,0.10593968500600326,0.06490845878921384,0.1836660991590569,0.7766359022522441,0.13733931300378557,1.542467288487525,0.032386332967487726,0.25856347877050195,1.306035059547705,0.26932054274501754,0.20970174999492655,0.004817373375340829,0.43616968246847115,1.3031319091614566,0.6188855299802433,0.034106760983229706,0.2917340672960075,0.013327670554200081,0.15621852908956038,0.24341606358776552,0.7093214874256646,0.9488740418519834,0.4381195283956219,1.1495911991834293,0.48574224210232037,0.050593125342887006,0.738458121651259,0.38713132073287215,0.38425982647048995,1.497884743841467,0.5813123380994146,0.27276021120596655,0.5924955119147571,0.18119771690876696,0.013705925659059225,0.5675457388853028,0.3692042622580943,0.312565117732861,0.08641175199827177,0.13530671065679362,0.1437578296675087,0.3799496609679949,0.17965138339308806,0.4570657467311637,0.20772619243998852,0.30723953364272893,0.05905702799724963,1.0521800224284923,0.38802709198164737,0.31824427083811463,0.27165732997555087,1.112121458957066,0.45589537852342,0.20395907221284262,0.2989388904673082,0.18830762340511079,0.19272366279763725,0.07025114785357654,0.14176443828486188,0.3965573703385321,0.046082295890877124,0.0907396905128413,0.7416406182461792,0.6594651454464538,0.22369474118518445,0.3533718201337436,0.17873934363804506,0.5926054404070187,0.12808729711084493,0.15374346590269913]}],                        {\"coloraxis\":{\"colorbar\":{\"title\":{\"text\":\"SNAP_All_csv__Part_1__Major_Cri\"}},\"colorscale\":[[0.0,\"rgb(255,245,240)\"],[0.125,\"rgb(254,224,210)\"],[0.25,\"rgb(252,187,161)\"],[0.375,\"rgb(252,146,114)\"],[0.5,\"rgb(251,106,74)\"],[0.625,\"rgb(239,59,44)\"],[0.75,\"rgb(203,24,29)\"],[0.875,\"rgb(165,15,21)\"],[1.0,\"rgb(103,0,13)\"]]},\"geo\":{\"center\":{},\"domain\":{\"x\":[0.0,1.0],\"y\":[0.0,1.0]},\"fitbounds\":\"locations\",\"visible\":false},\"height\":500,\"legend\":{\"tracegroupgap\":0},\"template\":{\"data\":{\"bar\":[{\"error_x\":{\"color\":\"#2a3f5f\"},\"error_y\":{\"color\":\"#2a3f5f\"},\"marker\":{\"line\":{\"color\":\"#E5ECF6\",\"width\":0.5},\"pattern\":{\"fillmode\":\"overlay\",\"size\":10,\"solidity\":0.2}},\"type\":\"bar\"}],\"barpolar\":[{\"marker\":{\"line\":{\"color\":\"#E5ECF6\",\"width\":0.5},\"pattern\":{\"fillmode\":\"overlay\",\"size\":10,\"solidity\":0.2}},\"type\":\"barpolar\"}],\"carpet\":[{\"aaxis\":{\"endlinecolor\":\"#2a3f5f\",\"gridcolor\":\"white\",\"linecolor\":\"white\",\"minorgridcolor\":\"white\",\"startlinecolor\":\"#2a3f5f\"},\"baxis\":{\"endlinecolor\":\"#2a3f5f\",\"gridcolor\":\"white\",\"linecolor\":\"white\",\"minorgridcolor\":\"white\",\"startlinecolor\":\"#2a3f5f\"},\"type\":\"carpet\"}],\"choropleth\":[{\"colorbar\":{\"outlinewidth\":0,\"ticks\":\"\"},\"type\":\"choropleth\"}],\"contour\":[{\"colorbar\":{\"outlinewidth\":0,\"ticks\":\"\"},\"colorscale\":[[0.0,\"#0d0887\"],[0.1111111111111111,\"#46039f\"],[0.2222222222222222,\"#7201a8\"],[0.3333333333333333,\"#9c179e\"],[0.4444444444444444,\"#bd3786\"],[0.5555555555555556,\"#d8576b\"],[0.6666666666666666,\"#ed7953\"],[0.7777777777777778,\"#fb9f3a\"],[0.8888888888888888,\"#fdca26\"],[1.0,\"#f0f921\"]],\"type\":\"contour\"}],\"contourcarpet\":[{\"colorbar\":{\"outlinewidth\":0,\"ticks\":\"\"},\"type\":\"contourcarpet\"}],\"heatmap\":[{\"colorbar\":{\"outlinewidth\":0,\"ticks\":\"\"},\"colorscale\":[[0.0,\"#0d0887\"],[0.1111111111111111,\"#46039f\"],[0.2222222222222222,\"#7201a8\"],[0.3333333333333333,\"#9c179e\"],[0.4444444444444444,\"#bd3786\"],[0.5555555555555556,\"#d8576b\"],[0.6666666666666666,\"#ed7953\"],[0.7777777777777778,\"#fb9f3a\"],[0.8888888888888888,\"#fdca26\"],[1.0,\"#f0f921\"]],\"type\":\"heatmap\"}],\"heatmapgl\":[{\"colorbar\":{\"outlinewidth\":0,\"ticks\":\"\"},\"colorscale\":[[0.0,\"#0d0887\"],[0.1111111111111111,\"#46039f\"],[0.2222222222222222,\"#7201a8\"],[0.3333333333333333,\"#9c179e\"],[0.4444444444444444,\"#bd3786\"],[0.5555555555555556,\"#d8576b\"],[0.6666666666666666,\"#ed7953\"],[0.7777777777777778,\"#fb9f3a\"],[0.8888888888888888,\"#fdca26\"],[1.0,\"#f0f921\"]],\"type\":\"heatmapgl\"}],\"histogram\":[{\"marker\":{\"pattern\":{\"fillmode\":\"overlay\",\"size\":10,\"solidity\":0.2}},\"type\":\"histogram\"}],\"histogram2d\":[{\"colorbar\":{\"outlinewidth\":0,\"ticks\":\"\"},\"colorscale\":[[0.0,\"#0d0887\"],[0.1111111111111111,\"#46039f\"],[0.2222222222222222,\"#7201a8\"],[0.3333333333333333,\"#9c179e\"],[0.4444444444444444,\"#bd3786\"],[0.5555555555555556,\"#d8576b\"],[0.6666666666666666,\"#ed7953\"],[0.7777777777777778,\"#fb9f3a\"],[0.8888888888888888,\"#fdca26\"],[1.0,\"#f0f921\"]],\"type\":\"histogram2d\"}],\"histogram2dcontour\":[{\"colorbar\":{\"outlinewidth\":0,\"ticks\":\"\"},\"colorscale\":[[0.0,\"#0d0887\"],[0.1111111111111111,\"#46039f\"],[0.2222222222222222,\"#7201a8\"],[0.3333333333333333,\"#9c179e\"],[0.4444444444444444,\"#bd3786\"],[0.5555555555555556,\"#d8576b\"],[0.6666666666666666,\"#ed7953\"],[0.7777777777777778,\"#fb9f3a\"],[0.8888888888888888,\"#fdca26\"],[1.0,\"#f0f921\"]],\"type\":\"histogram2dcontour\"}],\"mesh3d\":[{\"colorbar\":{\"outlinewidth\":0,\"ticks\":\"\"},\"type\":\"mesh3d\"}],\"parcoords\":[{\"line\":{\"colorbar\":{\"outlinewidth\":0,\"ticks\":\"\"}},\"type\":\"parcoords\"}],\"pie\":[{\"automargin\":true,\"type\":\"pie\"}],\"scatter\":[{\"marker\":{\"colorbar\":{\"outlinewidth\":0,\"ticks\":\"\"}},\"type\":\"scatter\"}],\"scatter3d\":[{\"line\":{\"colorbar\":{\"outlinewidth\":0,\"ticks\":\"\"}},\"marker\":{\"colorbar\":{\"outlinewidth\":0,\"ticks\":\"\"}},\"type\":\"scatter3d\"}],\"scattercarpet\":[{\"marker\":{\"colorbar\":{\"outlinewidth\":0,\"ticks\":\"\"}},\"type\":\"scattercarpet\"}],\"scattergeo\":[{\"marker\":{\"colorbar\":{\"outlinewidth\":0,\"ticks\":\"\"}},\"type\":\"scattergeo\"}],\"scattergl\":[{\"marker\":{\"colorbar\":{\"outlinewidth\":0,\"ticks\":\"\"}},\"type\":\"scattergl\"}],\"scattermapbox\":[{\"marker\":{\"colorbar\":{\"outlinewidth\":0,\"ticks\":\"\"}},\"type\":\"scattermapbox\"}],\"scatterpolar\":[{\"marker\":{\"colorbar\":{\"outlinewidth\":0,\"ticks\":\"\"}},\"type\":\"scatterpolar\"}],\"scatterpolargl\":[{\"marker\":{\"colorbar\":{\"outlinewidth\":0,\"ticks\":\"\"}},\"type\":\"scatterpolargl\"}],\"scatterternary\":[{\"marker\":{\"colorbar\":{\"outlinewidth\":0,\"ticks\":\"\"}},\"type\":\"scatterternary\"}],\"surface\":[{\"colorbar\":{\"outlinewidth\":0,\"ticks\":\"\"},\"colorscale\":[[0.0,\"#0d0887\"],[0.1111111111111111,\"#46039f\"],[0.2222222222222222,\"#7201a8\"],[0.3333333333333333,\"#9c179e\"],[0.4444444444444444,\"#bd3786\"],[0.5555555555555556,\"#d8576b\"],[0.6666666666666666,\"#ed7953\"],[0.7777777777777778,\"#fb9f3a\"],[0.8888888888888888,\"#fdca26\"],[1.0,\"#f0f921\"]],\"type\":\"surface\"}],\"table\":[{\"cells\":{\"fill\":{\"color\":\"#EBF0F8\"},\"line\":{\"color\":\"white\"}},\"header\":{\"fill\":{\"color\":\"#C8D4E3\"},\"line\":{\"color\":\"white\"}},\"type\":\"table\"}]},\"layout\":{\"annotationdefaults\":{\"arrowcolor\":\"#2a3f5f\",\"arrowhead\":0,\"arrowwidth\":1},\"autotypenumbers\":\"strict\",\"coloraxis\":{\"colorbar\":{\"outlinewidth\":0,\"ticks\":\"\"}},\"colorscale\":{\"diverging\":[[0,\"#8e0152\"],[0.1,\"#c51b7d\"],[0.2,\"#de77ae\"],[0.3,\"#f1b6da\"],[0.4,\"#fde0ef\"],[0.5,\"#f7f7f7\"],[0.6,\"#e6f5d0\"],[0.7,\"#b8e186\"],[0.8,\"#7fbc41\"],[0.9,\"#4d9221\"],[1,\"#276419\"]],\"sequential\":[[0.0,\"#0d0887\"],[0.1111111111111111,\"#46039f\"],[0.2222222222222222,\"#7201a8\"],[0.3333333333333333,\"#9c179e\"],[0.4444444444444444,\"#bd3786\"],[0.5555555555555556,\"#d8576b\"],[0.6666666666666666,\"#ed7953\"],[0.7777777777777778,\"#fb9f3a\"],[0.8888888888888888,\"#fdca26\"],[1.0,\"#f0f921\"]],\"sequentialminus\":[[0.0,\"#0d0887\"],[0.1111111111111111,\"#46039f\"],[0.2222222222222222,\"#7201a8\"],[0.3333333333333333,\"#9c179e\"],[0.4444444444444444,\"#bd3786\"],[0.5555555555555556,\"#d8576b\"],[0.6666666666666666,\"#ed7953\"],[0.7777777777777778,\"#fb9f3a\"],[0.8888888888888888,\"#fdca26\"],[1.0,\"#f0f921\"]]},\"colorway\":[\"#636efa\",\"#EF553B\",\"#00cc96\",\"#ab63fa\",\"#FFA15A\",\"#19d3f3\",\"#FF6692\",\"#B6E880\",\"#FF97FF\",\"#FECB52\"],\"font\":{\"color\":\"#2a3f5f\"},\"geo\":{\"bgcolor\":\"white\",\"lakecolor\":\"white\",\"landcolor\":\"#E5ECF6\",\"showlakes\":true,\"showland\":true,\"subunitcolor\":\"white\"},\"hoverlabel\":{\"align\":\"left\"},\"hovermode\":\"closest\",\"mapbox\":{\"style\":\"light\"},\"paper_bgcolor\":\"white\",\"plot_bgcolor\":\"#E5ECF6\",\"polar\":{\"angularaxis\":{\"gridcolor\":\"white\",\"linecolor\":\"white\",\"ticks\":\"\"},\"bgcolor\":\"#E5ECF6\",\"radialaxis\":{\"gridcolor\":\"white\",\"linecolor\":\"white\",\"ticks\":\"\"}},\"scene\":{\"xaxis\":{\"backgroundcolor\":\"#E5ECF6\",\"gridcolor\":\"white\",\"gridwidth\":2,\"linecolor\":\"white\",\"showbackground\":true,\"ticks\":\"\",\"zerolinecolor\":\"white\"},\"yaxis\":{\"backgroundcolor\":\"#E5ECF6\",\"gridcolor\":\"white\",\"gridwidth\":2,\"linecolor\":\"white\",\"showbackground\":true,\"ticks\":\"\",\"zerolinecolor\":\"white\"},\"zaxis\":{\"backgroundcolor\":\"#E5ECF6\",\"gridcolor\":\"white\",\"gridwidth\":2,\"linecolor\":\"white\",\"showbackground\":true,\"ticks\":\"\",\"zerolinecolor\":\"white\"}},\"shapedefaults\":{\"line\":{\"color\":\"#2a3f5f\"}},\"ternary\":{\"aaxis\":{\"gridcolor\":\"white\",\"linecolor\":\"white\",\"ticks\":\"\"},\"baxis\":{\"gridcolor\":\"white\",\"linecolor\":\"white\",\"ticks\":\"\"},\"bgcolor\":\"#E5ECF6\",\"caxis\":{\"gridcolor\":\"white\",\"linecolor\":\"white\",\"ticks\":\"\"}},\"title\":{\"x\":0.05},\"xaxis\":{\"automargin\":true,\"gridcolor\":\"white\",\"linecolor\":\"white\",\"ticks\":\"\",\"title\":{\"standoff\":15},\"zerolinecolor\":\"white\",\"zerolinewidth\":2},\"yaxis\":{\"automargin\":true,\"gridcolor\":\"white\",\"linecolor\":\"white\",\"ticks\":\"\",\"title\":{\"standoff\":15},\"zerolinecolor\":\"white\",\"zerolinewidth\":2}}},\"title\":{\"text\":\"Crimes Density across Neighborhoods\"}},                        {\"responsive\": true}                    ).then(function(){\n",
       "                            \n",
       "var gd = document.getElementById('5f83e721-5317-4e5f-89b6-ac22b40f5feb');\n",
       "var x = new MutationObserver(function (mutations, observer) {{\n",
       "        var display = window.getComputedStyle(gd).display;\n",
       "        if (!display || display === 'none') {{\n",
       "            console.log([gd, 'removed!']);\n",
       "            Plotly.purge(gd);\n",
       "            observer.disconnect();\n",
       "        }}\n",
       "}});\n",
       "\n",
       "// Listen for the removal of the full notebook cells\n",
       "var notebookContainer = gd.closest('#notebook-container');\n",
       "if (notebookContainer) {{\n",
       "    x.observe(notebookContainer, {childList: true});\n",
       "}}\n",
       "\n",
       "// Listen for the clearing of the current output cell\n",
       "var outputEl = gd.closest('.output');\n",
       "if (outputEl) {{\n",
       "    x.observe(outputEl, {childList: true});\n",
       "}}\n",
       "\n",
       "                        })                };                });            </script>        </div>"
      ]
     },
     "metadata": {},
     "output_type": "display_data"
    }
   ],
   "source": [
    "fig=px.choropleth(crime_rate_density_map,\n",
    "             geojson=\"https://raw.githubusercontent.com/blackmad/neighborhoods/master/gn-pittsburgh.geojson\",\n",
    "             featureidkey='properties.name',   \n",
    "             locations='neighborhood',        #column in dataframe\n",
    "             color='SNAP_All_csv__Part_1__Major_Cri',\n",
    "              color_continuous_scale='reds',\n",
    "               title='Crimes Density across Neighborhoods' ,  \n",
    "               height=500\n",
    "              )\n",
    "fig.update_geos(fitbounds=\"locations\", visible=False)\n",
    "fig.show()"
   ]
  },
  {
   "cell_type": "code",
   "execution_count": 792,
   "id": "e3291ad4",
   "metadata": {},
   "outputs": [
    {
     "data": {
      "text/plain": [
       "[Text(0.5, 0, 'Number of Trees (Normalized by Area)'),\n",
       " Text(0, 0.5, 'Crime Rate(Normalized by Area)'),\n",
       " Text(0.5, 1.0, 'Crime Rate vs Number of Trees')]"
      ]
     },
     "execution_count": 792,
     "metadata": {},
     "output_type": "execute_result"
    },
    {
     "data": {
      "image/png": "[encoded data removed]",
      "text/plain": [
       "<Figure size 432x288 with 1 Axes>"
      ]
     },
     "metadata": {},
     "output_type": "display_data"
    }
   ],
   "source": [
    "plot = sns.regplot(x = 'tree_count', y = 'SNAP_All_csv__Part_1__Major_Cri', data = combined_data)\n",
    "plot.set(xlabel = \"Number of Trees (Normalized by Area)\", ylabel = \"Crime Rate(Normalized by Area)\",\n",
    "title = \"Crime Rate vs Number of Trees\")"
   ]
  },
  {
   "cell_type": "markdown",
   "id": "1990823c",
   "metadata": {},
   "source": [
    "**Inference: We have already established that the population density is higher in neighborhoods with a higher green cover.**\n",
    "\n",
    "**Since, more crimes are bound to happen in neighborhoods with a higher population density, we observe a higher crime rate in areas with higher tree densities.**"
   ]
  },
  {
   "cell_type": "markdown",
   "id": "02eba124",
   "metadata": {},
   "source": [
    "# Tree density vs how landslide prone the neighborhood is"
   ]
  },
  {
   "cell_type": "code",
   "execution_count": 793,
   "id": "4a1fa748",
   "metadata": {},
   "outputs": [],
   "source": [
    "landslide_map = combined_data[['neighborhood', 'SNAP_All_csv_Landslide_Prone___']].copy()"
   ]
  },
  {
   "cell_type": "code",
   "execution_count": 794,
   "id": "bc2f939d",
   "metadata": {},
   "outputs": [
    {
     "data": {
      "application/vnd.plotly.v1+json": {
       "config": {
        "plotlyServerURL": "https://plot.ly"
       },
       "data": [
        {
         "coloraxis": "coloraxis",
         "featureidkey": "properties.name",
         "geo": "geo",
         "geojson": "https://raw.githubusercontent.com/blackmad/neighborhoods/master/gn-pittsburgh.geojson",
         "hovertemplate": "neighborhood=%{location}<br>SNAP_All_csv_Landslide_Prone___=%{z}<extra></extra>",
         "locations": [
          "Allegheny Center",
          "Allegheny West",
          "Allentown",
          "Arlington",
          "Arlington Heights",
          "Banksville",
          "Bedford Dwellings",
          "Beechview",
          "Beltzhoover",
          "Bloomfield",
          "Bluff",
          "Bon Air",
          "Brighton Heights",
          "Brookline",
          "California-Kirkbride",
          "Carrick",
          "Central Business District",
          "Central Lawrenceville",
          "Central Northside",
          "Central Oakland",
          "Chartiers City",
          "Chateau",
          "Crafton Heights",
          "Crawford-Roberts",
          "Duquesne Heights",
          "East Allegheny",
          "East Carnegie",
          "East Hills",
          "East Liberty",
          "Elliott",
          "Esplen",
          "Fairywood",
          "Fineview",
          "Friendship",
          "Garfield",
          "Glen Hazel",
          "Greenfield",
          "Hays",
          "Hazelwood",
          "Highland Park",
          "Homewood North",
          "Homewood South",
          "Homewood West",
          "Knoxville",
          "Larimer",
          "Lincoln Place",
          "Lincoln-Lemington-Belmar",
          "Lower Lawrenceville",
          "Manchester",
          "Marshall-Shadeland",
          "Middle Hill",
          "Morningside",
          "Mount Washington",
          "Mt. Oliver",
          "New Homestead",
          "North Oakland",
          "North Shore",
          "Northview Heights",
          "Oakwood",
          "Overbrook",
          "Perry North",
          "Perry South",
          "Point Breeze",
          "Point Breeze North",
          "Polish Hill",
          "Regent Square",
          "Ridgemont",
          "Shadyside",
          "Sheraden",
          "South Oakland",
          "South Shore",
          "South Side Flats",
          "South Side Slopes",
          "Spring Garden",
          "Spring Hill-City View",
          "Squirrel Hill North",
          "Squirrel Hill South",
          "St. Clair",
          "Stanton Heights",
          "Strip District",
          "Summer Hill",
          "Swisshelm Park",
          "Terrace Village",
          "Troy Hill",
          "Upper Hill",
          "Upper Lawrenceville",
          "West End",
          "West Oakland",
          "Westwood",
          "Windgap"
         ],
         "name": "",
         "type": "choropleth",
         "z": [
          0,
          9.3,
          27.1,
          41.4,
          39.9,
          6.3,
          33.6,
          19.1,
          17.9,
          8.1,
          12.3,
          38.2,
          32.3,
          3.5,
          19.6,
          6.8,
          0.1,
          21.6,
          12.2,
          10.6,
          15.6,
          0,
          36.3,
          24.7,
          41.5,
          11.1,
          0,
          0,
          0.8,
          37.6,
          0.2,
          6.3,
          92,
          0,
          2.4,
          58.8,
          15.3,
          46.9,
          26.4,
          16.4,
          0,
          0,
          4,
          0.1,
          10,
          5.6,
          20.8,
          4.7,
          0,
          27.6,
          0,
          26,
          23.8,
          9.2,
          30.9,
          17.9,
          0,
          38,
          0,
          0,
          59,
          31.9,
          3.8,
          0,
          75,
          32.8,
          29.7,
          1.1,
          38.2,
          23.2,
          7.6,
          0,
          66.4,
          54.3,
          57.2,
          0.4,
          21.9,
          47.1,
          18,
          10.9,
          52.8,
          47.3,
          14.7,
          23.9,
          38.5,
          13.9,
          16.8,
          64.5,
          15.2,
          11
         ]
        }
       ],
       "layout": {
        "coloraxis": {
         "colorbar": {
          "title": {
           "text": "SNAP_All_csv_Landslide_Prone___"
          }
         },
         "colorscale": [
          [
           0,
           "rgb(237, 229, 207)"
          ],
          [
           0.16666666666666666,
           "rgb(224, 194, 162)"
          ],
          [
           0.3333333333333333,
           "rgb(211, 156, 131)"
          ],
          [
           0.5,
           "rgb(193, 118, 111)"
          ],
          [
           0.6666666666666666,
           "rgb(166, 84, 97)"
          ],
          [
           0.8333333333333334,
           "rgb(129, 55, 83)"
          ],
          [
           1,
           "rgb(84, 31, 63)"
          ]
         ]
        },
        "geo": {
         "center": {},
         "domain": {
          "x": [
           0,
           1
          ],
          "y": [
           0,
           1
          ]
         },
         "fitbounds": "locations",
         "visible": false
        },
        "height": 500,
        "legend": {
         "tracegroupgap": 0
        },
        "template": {
         "data": {
          "bar": [
           {
            "error_x": {
             "color": "#2a3f5f"
            },
            "error_y": {
             "color": "#2a3f5f"
            },
            "marker": {
             "line": {
              "color": "#E5ECF6",
              "width": 0.5
             },
             "pattern": {
              "fillmode": "overlay",
              "size": 10,
              "solidity": 0.2
             }
            },
            "type": "bar"
           }
          ],
          "barpolar": [
           {
            "marker": {
             "line": {
              "color": "#E5ECF6",
              "width": 0.5
             },
             "pattern": {
              "fillmode": "overlay",
              "size": 10,
              "solidity": 0.2
             }
            },
            "type": "barpolar"
           }
          ],
          "carpet": [
           {
            "aaxis": {
             "endlinecolor": "#2a3f5f",
             "gridcolor": "white",
             "linecolor": "white",
             "minorgridcolor": "white",
             "startlinecolor": "#2a3f5f"
            },
            "baxis": {
             "endlinecolor": "#2a3f5f",
             "gridcolor": "white",
             "linecolor": "white",
             "minorgridcolor": "white",
             "startlinecolor": "#2a3f5f"
            },
            "type": "carpet"
           }
          ],
          "choropleth": [
           {
            "colorbar": {
             "outlinewidth": 0,
             "ticks": ""
            },
            "type": "choropleth"
           }
          ],
          "contour": [
           {
            "colorbar": {
             "outlinewidth": 0,
             "ticks": ""
            },
            "colorscale": [
             [
              0,
              "#0d0887"
             ],
             [
              0.1111111111111111,
              "#46039f"
             ],
             [
              0.2222222222222222,
              "#7201a8"
             ],
             [
              0.3333333333333333,
              "#9c179e"
             ],
             [
              0.4444444444444444,
              "#bd3786"
             ],
             [
              0.5555555555555556,
              "#d8576b"
             ],
             [
              0.6666666666666666,
              "#ed7953"
             ],
             [
              0.7777777777777778,
              "#fb9f3a"
             ],
             [
              0.8888888888888888,
              "#fdca26"
             ],
             [
              1,
              "#f0f921"
             ]
            ],
            "type": "contour"
           }
          ],
          "contourcarpet": [
           {
            "colorbar": {
             "outlinewidth": 0,
             "ticks": ""
            },
            "type": "contourcarpet"
           }
          ],
          "heatmap": [
           {
            "colorbar": {
             "outlinewidth": 0,
             "ticks": ""
            },
            "colorscale": [
             [
              0,
              "#0d0887"
             ],
             [
              0.1111111111111111,
              "#46039f"
             ],
             [
              0.2222222222222222,
              "#7201a8"
             ],
             [
              0.3333333333333333,
              "#9c179e"
             ],
             [
              0.4444444444444444,
              "#bd3786"
             ],
             [
              0.5555555555555556,
              "#d8576b"
             ],
             [
              0.6666666666666666,
              "#ed7953"
             ],
             [
              0.7777777777777778,
              "#fb9f3a"
             ],
             [
              0.8888888888888888,
              "#fdca26"
             ],
             [
              1,
              "#f0f921"
             ]
            ],
            "type": "heatmap"
           }
          ],
          "heatmapgl": [
           {
            "colorbar": {
             "outlinewidth": 0,
             "ticks": ""
            },
            "colorscale": [
             [
              0,
              "#0d0887"
             ],
             [
              0.1111111111111111,
              "#46039f"
             ],
             [
              0.2222222222222222,
              "#7201a8"
             ],
             [
              0.3333333333333333,
              "#9c179e"
             ],
             [
              0.4444444444444444,
              "#bd3786"
             ],
             [
              0.5555555555555556,
              "#d8576b"
             ],
             [
              0.6666666666666666,
              "#ed7953"
             ],
             [
              0.7777777777777778,
              "#fb9f3a"
             ],
             [
              0.8888888888888888,
              "#fdca26"
             ],
             [
              1,
              "#f0f921"
             ]
            ],
            "type": "heatmapgl"
           }
          ],
          "histogram": [
           {
            "marker": {
             "pattern": {
              "fillmode": "overlay",
              "size": 10,
              "solidity": 0.2
             }
            },
            "type": "histogram"
           }
          ],
          "histogram2d": [
           {
            "colorbar": {
             "outlinewidth": 0,
             "ticks": ""
            },
            "colorscale": [
             [
              0,
              "#0d0887"
             ],
             [
              0.1111111111111111,
              "#46039f"
             ],
             [
              0.2222222222222222,
              "#7201a8"
             ],
             [
              0.3333333333333333,
              "#9c179e"
             ],
             [
              0.4444444444444444,
              "#bd3786"
             ],
             [
              0.5555555555555556,
              "#d8576b"
             ],
             [
              0.6666666666666666,
              "#ed7953"
             ],
             [
              0.7777777777777778,
              "#fb9f3a"
             ],
             [
              0.8888888888888888,
              "#fdca26"
             ],
             [
              1,
              "#f0f921"
             ]
            ],
            "type": "histogram2d"
           }
          ],
          "histogram2dcontour": [
           {
            "colorbar": {
             "outlinewidth": 0,
             "ticks": ""
            },
            "colorscale": [
             [
              0,
              "#0d0887"
             ],
             [
              0.1111111111111111,
              "#46039f"
             ],
             [
              0.2222222222222222,
              "#7201a8"
             ],
             [
              0.3333333333333333,
              "#9c179e"
             ],
             [
              0.4444444444444444,
              "#bd3786"
             ],
             [
              0.5555555555555556,
              "#d8576b"
             ],
             [
              0.6666666666666666,
              "#ed7953"
             ],
             [
              0.7777777777777778,
              "#fb9f3a"
             ],
             [
              0.8888888888888888,
              "#fdca26"
             ],
             [
              1,
              "#f0f921"
             ]
            ],
            "type": "histogram2dcontour"
           }
          ],
          "mesh3d": [
           {
            "colorbar": {
             "outlinewidth": 0,
             "ticks": ""
            },
            "type": "mesh3d"
           }
          ],
          "parcoords": [
           {
            "line": {
             "colorbar": {
              "outlinewidth": 0,
              "ticks": ""
             }
            },
            "type": "parcoords"
           }
          ],
          "pie": [
           {
            "automargin": true,
            "type": "pie"
           }
          ],
          "scatter": [
           {
            "marker": {
             "colorbar": {
              "outlinewidth": 0,
              "ticks": ""
             }
            },
            "type": "scatter"
           }
          ],
          "scatter3d": [
           {
            "line": {
             "colorbar": {
              "outlinewidth": 0,
              "ticks": ""
             }
            },
            "marker": {
             "colorbar": {
              "outlinewidth": 0,
              "ticks": ""
             }
            },
            "type": "scatter3d"
           }
          ],
          "scattercarpet": [
           {
            "marker": {
             "colorbar": {
              "outlinewidth": 0,
              "ticks": ""
             }
            },
            "type": "scattercarpet"
           }
          ],
          "scattergeo": [
           {
            "marker": {
             "colorbar": {
              "outlinewidth": 0,
              "ticks": ""
             }
            },
            "type": "scattergeo"
           }
          ],
          "scattergl": [
           {
            "marker": {
             "colorbar": {
              "outlinewidth": 0,
              "ticks": ""
             }
            },
            "type": "scattergl"
           }
          ],
          "scattermapbox": [
           {
            "marker": {
             "colorbar": {
              "outlinewidth": 0,
              "ticks": ""
             }
            },
            "type": "scattermapbox"
           }
          ],
          "scatterpolar": [
           {
            "marker": {
             "colorbar": {
              "outlinewidth": 0,
              "ticks": ""
             }
            },
            "type": "scatterpolar"
           }
          ],
          "scatterpolargl": [
           {
            "marker": {
             "colorbar": {
              "outlinewidth": 0,
              "ticks": ""
             }
            },
            "type": "scatterpolargl"
           }
          ],
          "scatterternary": [
           {
            "marker": {
             "colorbar": {
              "outlinewidth": 0,
              "ticks": ""
             }
            },
            "type": "scatterternary"
           }
          ],
          "surface": [
           {
            "colorbar": {
             "outlinewidth": 0,
             "ticks": ""
            },
            "colorscale": [
             [
              0,
              "#0d0887"
             ],
             [
              0.1111111111111111,
              "#46039f"
             ],
             [
              0.2222222222222222,
              "#7201a8"
             ],
             [
              0.3333333333333333,
              "#9c179e"
             ],
             [
              0.4444444444444444,
              "#bd3786"
             ],
             [
              0.5555555555555556,
              "#d8576b"
             ],
             [
              0.6666666666666666,
              "#ed7953"
             ],
             [
              0.7777777777777778,
              "#fb9f3a"
             ],
             [
              0.8888888888888888,
              "#fdca26"
             ],
             [
              1,
              "#f0f921"
             ]
            ],
            "type": "surface"
           }
          ],
          "table": [
           {
            "cells": {
             "fill": {
              "color": "#EBF0F8"
             },
             "line": {
              "color": "white"
             }
            },
            "header": {
             "fill": {
              "color": "#C8D4E3"
             },
             "line": {
              "color": "white"
             }
            },
            "type": "table"
           }
          ]
         },
         "layout": {
          "annotationdefaults": {
           "arrowcolor": "#2a3f5f",
           "arrowhead": 0,
           "arrowwidth": 1
          },
          "autotypenumbers": "strict",
          "coloraxis": {
           "colorbar": {
            "outlinewidth": 0,
            "ticks": ""
           }
          },
          "colorscale": {
           "diverging": [
            [
             0,
             "#8e0152"
            ],
            [
             0.1,
             "#c51b7d"
            ],
            [
             0.2,
             "#de77ae"
            ],
            [
             0.3,
             "#f1b6da"
            ],
            [
             0.4,
             "#fde0ef"
            ],
            [
             0.5,
             "#f7f7f7"
            ],
            [
             0.6,
             "#e6f5d0"
            ],
            [
             0.7,
             "#b8e186"
            ],
            [
             0.8,
             "#7fbc41"
            ],
            [
             0.9,
             "#4d9221"
            ],
            [
             1,
             "#276419"
            ]
           ],
           "sequential": [
            [
             0,
             "#0d0887"
            ],
            [
             0.1111111111111111,
             "#46039f"
            ],
            [
             0.2222222222222222,
             "#7201a8"
            ],
            [
             0.3333333333333333,
             "#9c179e"
            ],
            [
             0.4444444444444444,
             "#bd3786"
            ],
            [
             0.5555555555555556,
             "#d8576b"
            ],
            [
             0.6666666666666666,
             "#ed7953"
            ],
            [
             0.7777777777777778,
             "#fb9f3a"
            ],
            [
             0.8888888888888888,
             "#fdca26"
            ],
            [
             1,
             "#f0f921"
            ]
           ],
           "sequentialminus": [
            [
             0,
             "#0d0887"
            ],
            [
             0.1111111111111111,
             "#46039f"
            ],
            [
             0.2222222222222222,
             "#7201a8"
            ],
            [
             0.3333333333333333,
             "#9c179e"
            ],
            [
             0.4444444444444444,
             "#bd3786"
            ],
            [
             0.5555555555555556,
             "#d8576b"
            ],
            [
             0.6666666666666666,
             "#ed7953"
            ],
            [
             0.7777777777777778,
             "#fb9f3a"
            ],
            [
             0.8888888888888888,
             "#fdca26"
            ],
            [
             1,
             "#f0f921"
            ]
           ]
          },
          "colorway": [
           "#636efa",
           "#EF553B",
           "#00cc96",
           "#ab63fa",
           "#FFA15A",
           "#19d3f3",
           "#FF6692",
           "#B6E880",
           "#FF97FF",
           "#FECB52"
          ],
          "font": {
           "color": "#2a3f5f"
          },
          "geo": {
           "bgcolor": "white",
           "lakecolor": "white",
           "landcolor": "#E5ECF6",
           "showlakes": true,
           "showland": true,
           "subunitcolor": "white"
          },
          "hoverlabel": {
           "align": "left"
          },
          "hovermode": "closest",
          "mapbox": {
           "style": "light"
          },
          "paper_bgcolor": "white",
          "plot_bgcolor": "#E5ECF6",
          "polar": {
           "angularaxis": {
            "gridcolor": "white",
            "linecolor": "white",
            "ticks": ""
           },
           "bgcolor": "#E5ECF6",
           "radialaxis": {
            "gridcolor": "white",
            "linecolor": "white",
            "ticks": ""
           }
          },
          "scene": {
           "xaxis": {
            "backgroundcolor": "#E5ECF6",
            "gridcolor": "white",
            "gridwidth": 2,
            "linecolor": "white",
            "showbackground": true,
            "ticks": "",
            "zerolinecolor": "white"
           },
           "yaxis": {
            "backgroundcolor": "#E5ECF6",
            "gridcolor": "white",
            "gridwidth": 2,
            "linecolor": "white",
            "showbackground": true,
            "ticks": "",
            "zerolinecolor": "white"
           },
           "zaxis": {
            "backgroundcolor": "#E5ECF6",
            "gridcolor": "white",
            "gridwidth": 2,
            "linecolor": "white",
            "showbackground": true,
            "ticks": "",
            "zerolinecolor": "white"
           }
          },
          "shapedefaults": {
           "line": {
            "color": "#2a3f5f"
           }
          },
          "ternary": {
           "aaxis": {
            "gridcolor": "white",
            "linecolor": "white",
            "ticks": ""
           },
           "baxis": {
            "gridcolor": "white",
            "linecolor": "white",
            "ticks": ""
           },
           "bgcolor": "#E5ECF6",
           "caxis": {
            "gridcolor": "white",
            "linecolor": "white",
            "ticks": ""
           }
          },
          "title": {
           "x": 0.05
          },
          "xaxis": {
           "automargin": true,
           "gridcolor": "white",
           "linecolor": "white",
           "ticks": "",
           "title": {
            "standoff": 15
           },
           "zerolinecolor": "white",
           "zerolinewidth": 2
          },
          "yaxis": {
           "automargin": true,
           "gridcolor": "white",
           "linecolor": "white",
           "ticks": "",
           "title": {
            "standoff": 15
           },
           "zerolinecolor": "white",
           "zerolinewidth": 2
          }
         }
        },
        "title": {
         "text": "Landslide susceptibility across Neighborhoods"
        }
       }
      },
      "text/html": [
       "<div>                            <div id=\"f15b6e5d-01f8-4897-bb70-47a4a2b724f2\" class=\"plotly-graph-div\" style=\"height:500px; width:100%;\"></div>            <script type=\"text/javascript\">                require([\"plotly\"], function(Plotly) {                    window.PLOTLYENV=window.PLOTLYENV || {};                                    if (document.getElementById(\"f15b6e5d-01f8-4897-bb70-47a4a2b724f2\")) {                    Plotly.newPlot(                        \"f15b6e5d-01f8-4897-bb70-47a4a2b724f2\",                        [{\"coloraxis\":\"coloraxis\",\"featureidkey\":\"properties.name\",\"geo\":\"geo\",\"geojson\":\"https://raw.githubusercontent.com/blackmad/neighborhoods/master/gn-pittsburgh.geojson\",\"hovertemplate\":\"neighborhood=%{location}<br>SNAP_All_csv_Landslide_Prone___=%{z}<extra></extra>\",\"locations\":[\"Allegheny Center\",\"Allegheny West\",\"Allentown\",\"Arlington\",\"Arlington Heights\",\"Banksville\",\"Bedford Dwellings\",\"Beechview\",\"Beltzhoover\",\"Bloomfield\",\"Bluff\",\"Bon Air\",\"Brighton Heights\",\"Brookline\",\"California-Kirkbride\",\"Carrick\",\"Central Business District\",\"Central Lawrenceville\",\"Central Northside\",\"Central Oakland\",\"Chartiers City\",\"Chateau\",\"Crafton Heights\",\"Crawford-Roberts\",\"Duquesne Heights\",\"East Allegheny\",\"East Carnegie\",\"East Hills\",\"East Liberty\",\"Elliott\",\"Esplen\",\"Fairywood\",\"Fineview\",\"Friendship\",\"Garfield\",\"Glen Hazel\",\"Greenfield\",\"Hays\",\"Hazelwood\",\"Highland Park\",\"Homewood North\",\"Homewood South\",\"Homewood West\",\"Knoxville\",\"Larimer\",\"Lincoln Place\",\"Lincoln-Lemington-Belmar\",\"Lower Lawrenceville\",\"Manchester\",\"Marshall-Shadeland\",\"Middle Hill\",\"Morningside\",\"Mount Washington\",\"Mt. Oliver\",\"New Homestead\",\"North Oakland\",\"North Shore\",\"Northview Heights\",\"Oakwood\",\"Overbrook\",\"Perry North\",\"Perry South\",\"Point Breeze\",\"Point Breeze North\",\"Polish Hill\",\"Regent Square\",\"Ridgemont\",\"Shadyside\",\"Sheraden\",\"South Oakland\",\"South Shore\",\"South Side Flats\",\"South Side Slopes\",\"Spring Garden\",\"Spring Hill-City View\",\"Squirrel Hill North\",\"Squirrel Hill South\",\"St. Clair\",\"Stanton Heights\",\"Strip District\",\"Summer Hill\",\"Swisshelm Park\",\"Terrace Village\",\"Troy Hill\",\"Upper Hill\",\"Upper Lawrenceville\",\"West End\",\"West Oakland\",\"Westwood\",\"Windgap\"],\"name\":\"\",\"type\":\"choropleth\",\"z\":[0.0,9.3,27.1,41.4,39.9,6.3,33.6,19.1,17.9,8.1,12.3,38.2,32.3,3.5,19.6,6.8,0.1,21.6,12.2,10.6,15.6,0.0,36.3,24.7,41.5,11.1,0.0,0.0,0.8,37.6,0.2,6.3,92.0,0.0,2.4,58.8,15.3,46.9,26.4,16.4,0.0,0.0,4.0,0.1,10.0,5.6,20.8,4.7,0.0,27.6,0.0,26.0,23.8,9.2,30.9,17.9,0.0,38.0,0.0,0.0,59.0,31.9,3.8,0.0,75.0,32.8,29.7,1.1,38.2,23.2,7.6,0.0,66.4,54.3,57.2,0.4,21.9,47.1,18.0,10.9,52.8,47.3,14.7,23.9,38.5,13.9,16.8,64.5,15.2,11.0]}],                        {\"coloraxis\":{\"colorbar\":{\"title\":{\"text\":\"SNAP_All_csv_Landslide_Prone___\"}},\"colorscale\":[[0.0,\"rgb(237, 229, 207)\"],[0.16666666666666666,\"rgb(224, 194, 162)\"],[0.3333333333333333,\"rgb(211, 156, 131)\"],[0.5,\"rgb(193, 118, 111)\"],[0.6666666666666666,\"rgb(166, 84, 97)\"],[0.8333333333333334,\"rgb(129, 55, 83)\"],[1.0,\"rgb(84, 31, 63)\"]]},\"geo\":{\"center\":{},\"domain\":{\"x\":[0.0,1.0],\"y\":[0.0,1.0]},\"fitbounds\":\"locations\",\"visible\":false},\"height\":500,\"legend\":{\"tracegroupgap\":0},\"template\":{\"data\":{\"bar\":[{\"error_x\":{\"color\":\"#2a3f5f\"},\"error_y\":{\"color\":\"#2a3f5f\"},\"marker\":{\"line\":{\"color\":\"#E5ECF6\",\"width\":0.5},\"pattern\":{\"fillmode\":\"overlay\",\"size\":10,\"solidity\":0.2}},\"type\":\"bar\"}],\"barpolar\":[{\"marker\":{\"line\":{\"color\":\"#E5ECF6\",\"width\":0.5},\"pattern\":{\"fillmode\":\"overlay\",\"size\":10,\"solidity\":0.2}},\"type\":\"barpolar\"}],\"carpet\":[{\"aaxis\":{\"endlinecolor\":\"#2a3f5f\",\"gridcolor\":\"white\",\"linecolor\":\"white\",\"minorgridcolor\":\"white\",\"startlinecolor\":\"#2a3f5f\"},\"baxis\":{\"endlinecolor\":\"#2a3f5f\",\"gridcolor\":\"white\",\"linecolor\":\"white\",\"minorgridcolor\":\"white\",\"startlinecolor\":\"#2a3f5f\"},\"type\":\"carpet\"}],\"choropleth\":[{\"colorbar\":{\"outlinewidth\":0,\"ticks\":\"\"},\"type\":\"choropleth\"}],\"contour\":[{\"colorbar\":{\"outlinewidth\":0,\"ticks\":\"\"},\"colorscale\":[[0.0,\"#0d0887\"],[0.1111111111111111,\"#46039f\"],[0.2222222222222222,\"#7201a8\"],[0.3333333333333333,\"#9c179e\"],[0.4444444444444444,\"#bd3786\"],[0.5555555555555556,\"#d8576b\"],[0.6666666666666666,\"#ed7953\"],[0.7777777777777778,\"#fb9f3a\"],[0.8888888888888888,\"#fdca26\"],[1.0,\"#f0f921\"]],\"type\":\"contour\"}],\"contourcarpet\":[{\"colorbar\":{\"outlinewidth\":0,\"ticks\":\"\"},\"type\":\"contourcarpet\"}],\"heatmap\":[{\"colorbar\":{\"outlinewidth\":0,\"ticks\":\"\"},\"colorscale\":[[0.0,\"#0d0887\"],[0.1111111111111111,\"#46039f\"],[0.2222222222222222,\"#7201a8\"],[0.3333333333333333,\"#9c179e\"],[0.4444444444444444,\"#bd3786\"],[0.5555555555555556,\"#d8576b\"],[0.6666666666666666,\"#ed7953\"],[0.7777777777777778,\"#fb9f3a\"],[0.8888888888888888,\"#fdca26\"],[1.0,\"#f0f921\"]],\"type\":\"heatmap\"}],\"heatmapgl\":[{\"colorbar\":{\"outlinewidth\":0,\"ticks\":\"\"},\"colorscale\":[[0.0,\"#0d0887\"],[0.1111111111111111,\"#46039f\"],[0.2222222222222222,\"#7201a8\"],[0.3333333333333333,\"#9c179e\"],[0.4444444444444444,\"#bd3786\"],[0.5555555555555556,\"#d8576b\"],[0.6666666666666666,\"#ed7953\"],[0.7777777777777778,\"#fb9f3a\"],[0.8888888888888888,\"#fdca26\"],[1.0,\"#f0f921\"]],\"type\":\"heatmapgl\"}],\"histogram\":[{\"marker\":{\"pattern\":{\"fillmode\":\"overlay\",\"size\":10,\"solidity\":0.2}},\"type\":\"histogram\"}],\"histogram2d\":[{\"colorbar\":{\"outlinewidth\":0,\"ticks\":\"\"},\"colorscale\":[[0.0,\"#0d0887\"],[0.1111111111111111,\"#46039f\"],[0.2222222222222222,\"#7201a8\"],[0.3333333333333333,\"#9c179e\"],[0.4444444444444444,\"#bd3786\"],[0.5555555555555556,\"#d8576b\"],[0.6666666666666666,\"#ed7953\"],[0.7777777777777778,\"#fb9f3a\"],[0.8888888888888888,\"#fdca26\"],[1.0,\"#f0f921\"]],\"type\":\"histogram2d\"}],\"histogram2dcontour\":[{\"colorbar\":{\"outlinewidth\":0,\"ticks\":\"\"},\"colorscale\":[[0.0,\"#0d0887\"],[0.1111111111111111,\"#46039f\"],[0.2222222222222222,\"#7201a8\"],[0.3333333333333333,\"#9c179e\"],[0.4444444444444444,\"#bd3786\"],[0.5555555555555556,\"#d8576b\"],[0.6666666666666666,\"#ed7953\"],[0.7777777777777778,\"#fb9f3a\"],[0.8888888888888888,\"#fdca26\"],[1.0,\"#f0f921\"]],\"type\":\"histogram2dcontour\"}],\"mesh3d\":[{\"colorbar\":{\"outlinewidth\":0,\"ticks\":\"\"},\"type\":\"mesh3d\"}],\"parcoords\":[{\"line\":{\"colorbar\":{\"outlinewidth\":0,\"ticks\":\"\"}},\"type\":\"parcoords\"}],\"pie\":[{\"automargin\":true,\"type\":\"pie\"}],\"scatter\":[{\"marker\":{\"colorbar\":{\"outlinewidth\":0,\"ticks\":\"\"}},\"type\":\"scatter\"}],\"scatter3d\":[{\"line\":{\"colorbar\":{\"outlinewidth\":0,\"ticks\":\"\"}},\"marker\":{\"colorbar\":{\"outlinewidth\":0,\"ticks\":\"\"}},\"type\":\"scatter3d\"}],\"scattercarpet\":[{\"marker\":{\"colorbar\":{\"outlinewidth\":0,\"ticks\":\"\"}},\"type\":\"scattercarpet\"}],\"scattergeo\":[{\"marker\":{\"colorbar\":{\"outlinewidth\":0,\"ticks\":\"\"}},\"type\":\"scattergeo\"}],\"scattergl\":[{\"marker\":{\"colorbar\":{\"outlinewidth\":0,\"ticks\":\"\"}},\"type\":\"scattergl\"}],\"scattermapbox\":[{\"marker\":{\"colorbar\":{\"outlinewidth\":0,\"ticks\":\"\"}},\"type\":\"scattermapbox\"}],\"scatterpolar\":[{\"marker\":{\"colorbar\":{\"outlinewidth\":0,\"ticks\":\"\"}},\"type\":\"scatterpolar\"}],\"scatterpolargl\":[{\"marker\":{\"colorbar\":{\"outlinewidth\":0,\"ticks\":\"\"}},\"type\":\"scatterpolargl\"}],\"scatterternary\":[{\"marker\":{\"colorbar\":{\"outlinewidth\":0,\"ticks\":\"\"}},\"type\":\"scatterternary\"}],\"surface\":[{\"colorbar\":{\"outlinewidth\":0,\"ticks\":\"\"},\"colorscale\":[[0.0,\"#0d0887\"],[0.1111111111111111,\"#46039f\"],[0.2222222222222222,\"#7201a8\"],[0.3333333333333333,\"#9c179e\"],[0.4444444444444444,\"#bd3786\"],[0.5555555555555556,\"#d8576b\"],[0.6666666666666666,\"#ed7953\"],[0.7777777777777778,\"#fb9f3a\"],[0.8888888888888888,\"#fdca26\"],[1.0,\"#f0f921\"]],\"type\":\"surface\"}],\"table\":[{\"cells\":{\"fill\":{\"color\":\"#EBF0F8\"},\"line\":{\"color\":\"white\"}},\"header\":{\"fill\":{\"color\":\"#C8D4E3\"},\"line\":{\"color\":\"white\"}},\"type\":\"table\"}]},\"layout\":{\"annotationdefaults\":{\"arrowcolor\":\"#2a3f5f\",\"arrowhead\":0,\"arrowwidth\":1},\"autotypenumbers\":\"strict\",\"coloraxis\":{\"colorbar\":{\"outlinewidth\":0,\"ticks\":\"\"}},\"colorscale\":{\"diverging\":[[0,\"#8e0152\"],[0.1,\"#c51b7d\"],[0.2,\"#de77ae\"],[0.3,\"#f1b6da\"],[0.4,\"#fde0ef\"],[0.5,\"#f7f7f7\"],[0.6,\"#e6f5d0\"],[0.7,\"#b8e186\"],[0.8,\"#7fbc41\"],[0.9,\"#4d9221\"],[1,\"#276419\"]],\"sequential\":[[0.0,\"#0d0887\"],[0.1111111111111111,\"#46039f\"],[0.2222222222222222,\"#7201a8\"],[0.3333333333333333,\"#9c179e\"],[0.4444444444444444,\"#bd3786\"],[0.5555555555555556,\"#d8576b\"],[0.6666666666666666,\"#ed7953\"],[0.7777777777777778,\"#fb9f3a\"],[0.8888888888888888,\"#fdca26\"],[1.0,\"#f0f921\"]],\"sequentialminus\":[[0.0,\"#0d0887\"],[0.1111111111111111,\"#46039f\"],[0.2222222222222222,\"#7201a8\"],[0.3333333333333333,\"#9c179e\"],[0.4444444444444444,\"#bd3786\"],[0.5555555555555556,\"#d8576b\"],[0.6666666666666666,\"#ed7953\"],[0.7777777777777778,\"#fb9f3a\"],[0.8888888888888888,\"#fdca26\"],[1.0,\"#f0f921\"]]},\"colorway\":[\"#636efa\",\"#EF553B\",\"#00cc96\",\"#ab63fa\",\"#FFA15A\",\"#19d3f3\",\"#FF6692\",\"#B6E880\",\"#FF97FF\",\"#FECB52\"],\"font\":{\"color\":\"#2a3f5f\"},\"geo\":{\"bgcolor\":\"white\",\"lakecolor\":\"white\",\"landcolor\":\"#E5ECF6\",\"showlakes\":true,\"showland\":true,\"subunitcolor\":\"white\"},\"hoverlabel\":{\"align\":\"left\"},\"hovermode\":\"closest\",\"mapbox\":{\"style\":\"light\"},\"paper_bgcolor\":\"white\",\"plot_bgcolor\":\"#E5ECF6\",\"polar\":{\"angularaxis\":{\"gridcolor\":\"white\",\"linecolor\":\"white\",\"ticks\":\"\"},\"bgcolor\":\"#E5ECF6\",\"radialaxis\":{\"gridcolor\":\"white\",\"linecolor\":\"white\",\"ticks\":\"\"}},\"scene\":{\"xaxis\":{\"backgroundcolor\":\"#E5ECF6\",\"gridcolor\":\"white\",\"gridwidth\":2,\"linecolor\":\"white\",\"showbackground\":true,\"ticks\":\"\",\"zerolinecolor\":\"white\"},\"yaxis\":{\"backgroundcolor\":\"#E5ECF6\",\"gridcolor\":\"white\",\"gridwidth\":2,\"linecolor\":\"white\",\"showbackground\":true,\"ticks\":\"\",\"zerolinecolor\":\"white\"},\"zaxis\":{\"backgroundcolor\":\"#E5ECF6\",\"gridcolor\":\"white\",\"gridwidth\":2,\"linecolor\":\"white\",\"showbackground\":true,\"ticks\":\"\",\"zerolinecolor\":\"white\"}},\"shapedefaults\":{\"line\":{\"color\":\"#2a3f5f\"}},\"ternary\":{\"aaxis\":{\"gridcolor\":\"white\",\"linecolor\":\"white\",\"ticks\":\"\"},\"baxis\":{\"gridcolor\":\"white\",\"linecolor\":\"white\",\"ticks\":\"\"},\"bgcolor\":\"#E5ECF6\",\"caxis\":{\"gridcolor\":\"white\",\"linecolor\":\"white\",\"ticks\":\"\"}},\"title\":{\"x\":0.05},\"xaxis\":{\"automargin\":true,\"gridcolor\":\"white\",\"linecolor\":\"white\",\"ticks\":\"\",\"title\":{\"standoff\":15},\"zerolinecolor\":\"white\",\"zerolinewidth\":2},\"yaxis\":{\"automargin\":true,\"gridcolor\":\"white\",\"linecolor\":\"white\",\"ticks\":\"\",\"title\":{\"standoff\":15},\"zerolinecolor\":\"white\",\"zerolinewidth\":2}}},\"title\":{\"text\":\"Landslide susceptibility across Neighborhoods\"}},                        {\"responsive\": true}                    ).then(function(){\n",
       "                            \n",
       "var gd = document.getElementById('f15b6e5d-01f8-4897-bb70-47a4a2b724f2');\n",
       "var x = new MutationObserver(function (mutations, observer) {{\n",
       "        var display = window.getComputedStyle(gd).display;\n",
       "        if (!display || display === 'none') {{\n",
       "            console.log([gd, 'removed!']);\n",
       "            Plotly.purge(gd);\n",
       "            observer.disconnect();\n",
       "        }}\n",
       "}});\n",
       "\n",
       "// Listen for the removal of the full notebook cells\n",
       "var notebookContainer = gd.closest('#notebook-container');\n",
       "if (notebookContainer) {{\n",
       "    x.observe(notebookContainer, {childList: true});\n",
       "}}\n",
       "\n",
       "// Listen for the clearing of the current output cell\n",
       "var outputEl = gd.closest('.output');\n",
       "if (outputEl) {{\n",
       "    x.observe(outputEl, {childList: true});\n",
       "}}\n",
       "\n",
       "                        })                };                });            </script>        </div>"
      ]
     },
     "metadata": {},
     "output_type": "display_data"
    }
   ],
   "source": [
    "fig=px.choropleth(landslide_map,\n",
    "             geojson=\"https://raw.githubusercontent.com/blackmad/neighborhoods/master/gn-pittsburgh.geojson\",\n",
    "             featureidkey='properties.name',   \n",
    "             locations='neighborhood',        #column in dataframe\n",
    "             color='SNAP_All_csv_Landslide_Prone___',\n",
    "              color_continuous_scale='brwnyl',\n",
    "               title='Landslide susceptibility across Neighborhoods' ,  \n",
    "               height=500\n",
    "              )\n",
    "fig.update_geos(fitbounds=\"locations\", visible=False)\n",
    "fig.show()"
   ]
  },
  {
   "cell_type": "code",
   "execution_count": 795,
   "id": "b7b3ab52",
   "metadata": {},
   "outputs": [
    {
     "data": {
      "text/plain": [
       "[Text(0.5, 0, 'Number of Trees (Normalized by Area)'),\n",
       " Text(0, 0.5, 'Landslide susceptibility'),\n",
       " Text(0.5, 1.0, 'Landslide susceptibility vs Number of Trees')]"
      ]
     },
     "execution_count": 795,
     "metadata": {},
     "output_type": "execute_result"
    },
    {
     "data": {
      "image/png": "[encoded data removed]",
      "text/plain": [
       "<Figure size 432x288 with 1 Axes>"
      ]
     },
     "metadata": {},
     "output_type": "display_data"
    }
   ],
   "source": [
    "plot = sns.regplot(x = 'tree_count', y = 'SNAP_All_csv_Landslide_Prone___', data = combined_data)\n",
    "plot.set(xlabel = \"Number of Trees (Normalized by Area)\", ylabel = \"Landslide susceptibility\",\n",
    "title = \"Landslide susceptibility vs Number of Trees\")"
   ]
  },
  {
   "cell_type": "markdown",
   "id": "12a54e5d",
   "metadata": {},
   "source": [
    "**Inference: We see a negative correlation between the Landslide susceptibility and tree density. This should be expected as trees reduce soil erosion and lower soil moisture levels, thereby lowering the risk of landslides.**"
   ]
  },
  {
   "cell_type": "markdown",
   "id": "686811f4",
   "metadata": {},
   "source": [
    "# Tree density vs how Flooding prone the neighborhood is "
   ]
  },
  {
   "cell_type": "code",
   "execution_count": 796,
   "id": "a5b4675b",
   "metadata": {},
   "outputs": [],
   "source": [
    "flooding_map = combined_data[['neighborhood', 'SNAP_All_csv_Flood_Plain____lan']].copy()"
   ]
  },
  {
   "cell_type": "code",
   "execution_count": 797,
   "id": "b0afa823",
   "metadata": {},
   "outputs": [
    {
     "data": {
      "application/vnd.plotly.v1+json": {
       "config": {
        "plotlyServerURL": "https://plot.ly"
       },
       "data": [
        {
         "coloraxis": "coloraxis",
         "featureidkey": "properties.name",
         "geo": "geo",
         "geojson": "https://raw.githubusercontent.com/blackmad/neighborhoods/master/gn-pittsburgh.geojson",
         "hovertemplate": "neighborhood=%{location}<br>SNAP_All_csv_Flood_Plain____lan=%{z}<extra></extra>",
         "locations": [
          "Allegheny Center",
          "Allegheny West",
          "Allentown",
          "Arlington",
          "Arlington Heights",
          "Banksville",
          "Bedford Dwellings",
          "Beechview",
          "Beltzhoover",
          "Bloomfield",
          "Bluff",
          "Bon Air",
          "Brighton Heights",
          "Brookline",
          "California-Kirkbride",
          "Carrick",
          "Central Business District",
          "Central Lawrenceville",
          "Central Northside",
          "Central Oakland",
          "Chartiers City",
          "Chateau",
          "Crafton Heights",
          "Crawford-Roberts",
          "Duquesne Heights",
          "East Allegheny",
          "East Carnegie",
          "East Hills",
          "East Liberty",
          "Elliott",
          "Esplen",
          "Fairywood",
          "Fineview",
          "Friendship",
          "Garfield",
          "Glen Hazel",
          "Greenfield",
          "Hays",
          "Hazelwood",
          "Highland Park",
          "Homewood North",
          "Homewood South",
          "Homewood West",
          "Knoxville",
          "Larimer",
          "Lincoln Place",
          "Lincoln-Lemington-Belmar",
          "Lower Lawrenceville",
          "Manchester",
          "Marshall-Shadeland",
          "Middle Hill",
          "Morningside",
          "Mount Washington",
          "Mt. Oliver",
          "New Homestead",
          "North Oakland",
          "North Shore",
          "Northview Heights",
          "Oakwood",
          "Overbrook",
          "Perry North",
          "Perry South",
          "Point Breeze",
          "Point Breeze North",
          "Polish Hill",
          "Regent Square",
          "Ridgemont",
          "Shadyside",
          "Sheraden",
          "South Oakland",
          "South Shore",
          "South Side Flats",
          "South Side Slopes",
          "Spring Garden",
          "Spring Hill-City View",
          "Squirrel Hill North",
          "Squirrel Hill South",
          "St. Clair",
          "Stanton Heights",
          "Strip District",
          "Summer Hill",
          "Swisshelm Park",
          "Terrace Village",
          "Troy Hill",
          "Upper Hill",
          "Upper Lawrenceville",
          "West End",
          "West Oakland",
          "Westwood",
          "Windgap"
         ],
         "name": "",
         "type": "choropleth",
         "z": [
          0.2,
          2.3,
          0,
          1.5,
          0,
          0,
          0,
          0.1,
          1.1,
          0,
          7.2,
          5.7,
          2.6,
          0.5,
          0,
          0.5,
          30.5,
          14,
          0,
          0,
          2.5,
          56.7,
          0,
          0,
          3.1,
          0,
          4.2,
          0,
          0,
          3.3,
          28.3,
          11.9,
          0,
          0,
          0,
          1.7,
          0.2,
          6.5,
          2.4,
          0.3,
          0,
          0,
          0,
          0,
          0,
          0.1,
          0.9,
          29.9,
          0.1,
          33.1,
          0,
          1.4,
          1.6,
          0,
          0,
          0,
          82,
          0,
          0,
          3.9,
          0,
          0,
          0,
          0,
          0.4,
          2.7,
          0,
          0,
          0.1,
          9.8,
          52.4,
          21.3,
          0,
          0.2,
          0,
          0,
          1.3,
          0.1,
          0,
          54.2,
          0,
          4.8,
          0,
          29.1,
          0,
          11.9,
          25.4,
          0,
          0,
          2.1
         ]
        }
       ],
       "layout": {
        "coloraxis": {
         "colorbar": {
          "title": {
           "text": "SNAP_All_csv_Flood_Plain____lan"
          }
         },
         "colorscale": [
          [
           0,
           "rgb(247,251,255)"
          ],
          [
           0.125,
           "rgb(222,235,247)"
          ],
          [
           0.25,
           "rgb(198,219,239)"
          ],
          [
           0.375,
           "rgb(158,202,225)"
          ],
          [
           0.5,
           "rgb(107,174,214)"
          ],
          [
           0.625,
           "rgb(66,146,198)"
          ],
          [
           0.75,
           "rgb(33,113,181)"
          ],
          [
           0.875,
           "rgb(8,81,156)"
          ],
          [
           1,
           "rgb(8,48,107)"
          ]
         ]
        },
        "geo": {
         "center": {},
         "domain": {
          "x": [
           0,
           1
          ],
          "y": [
           0,
           1
          ]
         },
         "fitbounds": "locations",
         "visible": false
        },
        "height": 500,
        "legend": {
         "tracegroupgap": 0
        },
        "template": {
         "data": {
          "bar": [
           {
            "error_x": {
             "color": "#2a3f5f"
            },
            "error_y": {
             "color": "#2a3f5f"
            },
            "marker": {
             "line": {
              "color": "#E5ECF6",
              "width": 0.5
             },
             "pattern": {
              "fillmode": "overlay",
              "size": 10,
              "solidity": 0.2
             }
            },
            "type": "bar"
           }
          ],
          "barpolar": [
           {
            "marker": {
             "line": {
              "color": "#E5ECF6",
              "width": 0.5
             },
             "pattern": {
              "fillmode": "overlay",
              "size": 10,
              "solidity": 0.2
             }
            },
            "type": "barpolar"
           }
          ],
          "carpet": [
           {
            "aaxis": {
             "endlinecolor": "#2a3f5f",
             "gridcolor": "white",
             "linecolor": "white",
             "minorgridcolor": "white",
             "startlinecolor": "#2a3f5f"
            },
            "baxis": {
             "endlinecolor": "#2a3f5f",
             "gridcolor": "white",
             "linecolor": "white",
             "minorgridcolor": "white",
             "startlinecolor": "#2a3f5f"
            },
            "type": "carpet"
           }
          ],
          "choropleth": [
           {
            "colorbar": {
             "outlinewidth": 0,
             "ticks": ""
            },
            "type": "choropleth"
           }
          ],
          "contour": [
           {
            "colorbar": {
             "outlinewidth": 0,
             "ticks": ""
            },
            "colorscale": [
             [
              0,
              "#0d0887"
             ],
             [
              0.1111111111111111,
              "#46039f"
             ],
             [
              0.2222222222222222,
              "#7201a8"
             ],
             [
              0.3333333333333333,
              "#9c179e"
             ],
             [
              0.4444444444444444,
              "#bd3786"
             ],
             [
              0.5555555555555556,
              "#d8576b"
             ],
             [
              0.6666666666666666,
              "#ed7953"
             ],
             [
              0.7777777777777778,
              "#fb9f3a"
             ],
             [
              0.8888888888888888,
              "#fdca26"
             ],
             [
              1,
              "#f0f921"
             ]
            ],
            "type": "contour"
           }
          ],
          "contourcarpet": [
           {
            "colorbar": {
             "outlinewidth": 0,
             "ticks": ""
            },
            "type": "contourcarpet"
           }
          ],
          "heatmap": [
           {
            "colorbar": {
             "outlinewidth": 0,
             "ticks": ""
            },
            "colorscale": [
             [
              0,
              "#0d0887"
             ],
             [
              0.1111111111111111,
              "#46039f"
             ],
             [
              0.2222222222222222,
              "#7201a8"
             ],
             [
              0.3333333333333333,
              "#9c179e"
             ],
             [
              0.4444444444444444,
              "#bd3786"
             ],
             [
              0.5555555555555556,
              "#d8576b"
             ],
             [
              0.6666666666666666,
              "#ed7953"
             ],
             [
              0.7777777777777778,
              "#fb9f3a"
             ],
             [
              0.8888888888888888,
              "#fdca26"
             ],
             [
              1,
              "#f0f921"
             ]
            ],
            "type": "heatmap"
           }
          ],
          "heatmapgl": [
           {
            "colorbar": {
             "outlinewidth": 0,
             "ticks": ""
            },
            "colorscale": [
             [
              0,
              "#0d0887"
             ],
             [
              0.1111111111111111,
              "#46039f"
             ],
             [
              0.2222222222222222,
              "#7201a8"
             ],
             [
              0.3333333333333333,
              "#9c179e"
             ],
             [
              0.4444444444444444,
              "#bd3786"
             ],
             [
              0.5555555555555556,
              "#d8576b"
             ],
             [
              0.6666666666666666,
              "#ed7953"
             ],
             [
              0.7777777777777778,
              "#fb9f3a"
             ],
             [
              0.8888888888888888,
              "#fdca26"
             ],
             [
              1,
              "#f0f921"
             ]
            ],
            "type": "heatmapgl"
           }
          ],
          "histogram": [
           {
            "marker": {
             "pattern": {
              "fillmode": "overlay",
              "size": 10,
              "solidity": 0.2
             }
            },
            "type": "histogram"
           }
          ],
          "histogram2d": [
           {
            "colorbar": {
             "outlinewidth": 0,
             "ticks": ""
            },
            "colorscale": [
             [
              0,
              "#0d0887"
             ],
             [
              0.1111111111111111,
              "#46039f"
             ],
             [
              0.2222222222222222,
              "#7201a8"
             ],
             [
              0.3333333333333333,
              "#9c179e"
             ],
             [
              0.4444444444444444,
              "#bd3786"
             ],
             [
              0.5555555555555556,
              "#d8576b"
             ],
             [
              0.6666666666666666,
              "#ed7953"
             ],
             [
              0.7777777777777778,
              "#fb9f3a"
             ],
             [
              0.8888888888888888,
              "#fdca26"
             ],
             [
              1,
              "#f0f921"
             ]
            ],
            "type": "histogram2d"
           }
          ],
          "histogram2dcontour": [
           {
            "colorbar": {
             "outlinewidth": 0,
             "ticks": ""
            },
            "colorscale": [
             [
              0,
              "#0d0887"
             ],
             [
              0.1111111111111111,
              "#46039f"
             ],
             [
              0.2222222222222222,
              "#7201a8"
             ],
             [
              0.3333333333333333,
              "#9c179e"
             ],
             [
              0.4444444444444444,
              "#bd3786"
             ],
             [
              0.5555555555555556,
              "#d8576b"
             ],
             [
              0.6666666666666666,
              "#ed7953"
             ],
             [
              0.7777777777777778,
              "#fb9f3a"
             ],
             [
              0.8888888888888888,
              "#fdca26"
             ],
             [
              1,
              "#f0f921"
             ]
            ],
            "type": "histogram2dcontour"
           }
          ],
          "mesh3d": [
           {
            "colorbar": {
             "outlinewidth": 0,
             "ticks": ""
            },
            "type": "mesh3d"
           }
          ],
          "parcoords": [
           {
            "line": {
             "colorbar": {
              "outlinewidth": 0,
              "ticks": ""
             }
            },
            "type": "parcoords"
           }
          ],
          "pie": [
           {
            "automargin": true,
            "type": "pie"
           }
          ],
          "scatter": [
           {
            "marker": {
             "colorbar": {
              "outlinewidth": 0,
              "ticks": ""
             }
            },
            "type": "scatter"
           }
          ],
          "scatter3d": [
           {
            "line": {
             "colorbar": {
              "outlinewidth": 0,
              "ticks": ""
             }
            },
            "marker": {
             "colorbar": {
              "outlinewidth": 0,
              "ticks": ""
             }
            },
            "type": "scatter3d"
           }
          ],
          "scattercarpet": [
           {
            "marker": {
             "colorbar": {
              "outlinewidth": 0,
              "ticks": ""
             }
            },
            "type": "scattercarpet"
           }
          ],
          "scattergeo": [
           {
            "marker": {
             "colorbar": {
              "outlinewidth": 0,
              "ticks": ""
             }
            },
            "type": "scattergeo"
           }
          ],
          "scattergl": [
           {
            "marker": {
             "colorbar": {
              "outlinewidth": 0,
              "ticks": ""
             }
            },
            "type": "scattergl"
           }
          ],
          "scattermapbox": [
           {
            "marker": {
             "colorbar": {
              "outlinewidth": 0,
              "ticks": ""
             }
            },
            "type": "scattermapbox"
           }
          ],
          "scatterpolar": [
           {
            "marker": {
             "colorbar": {
              "outlinewidth": 0,
              "ticks": ""
             }
            },
            "type": "scatterpolar"
           }
          ],
          "scatterpolargl": [
           {
            "marker": {
             "colorbar": {
              "outlinewidth": 0,
              "ticks": ""
             }
            },
            "type": "scatterpolargl"
           }
          ],
          "scatterternary": [
           {
            "marker": {
             "colorbar": {
              "outlinewidth": 0,
              "ticks": ""
             }
            },
            "type": "scatterternary"
           }
          ],
          "surface": [
           {
            "colorbar": {
             "outlinewidth": 0,
             "ticks": ""
            },
            "colorscale": [
             [
              0,
              "#0d0887"
             ],
             [
              0.1111111111111111,
              "#46039f"
             ],
             [
              0.2222222222222222,
              "#7201a8"
             ],
             [
              0.3333333333333333,
              "#9c179e"
             ],
             [
              0.4444444444444444,
              "#bd3786"
             ],
             [
              0.5555555555555556,
              "#d8576b"
             ],
             [
              0.6666666666666666,
              "#ed7953"
             ],
             [
              0.7777777777777778,
              "#fb9f3a"
             ],
             [
              0.8888888888888888,
              "#fdca26"
             ],
             [
              1,
              "#f0f921"
             ]
            ],
            "type": "surface"
           }
          ],
          "table": [
           {
            "cells": {
             "fill": {
              "color": "#EBF0F8"
             },
             "line": {
              "color": "white"
             }
            },
            "header": {
             "fill": {
              "color": "#C8D4E3"
             },
             "line": {
              "color": "white"
             }
            },
            "type": "table"
           }
          ]
         },
         "layout": {
          "annotationdefaults": {
           "arrowcolor": "#2a3f5f",
           "arrowhead": 0,
           "arrowwidth": 1
          },
          "autotypenumbers": "strict",
          "coloraxis": {
           "colorbar": {
            "outlinewidth": 0,
            "ticks": ""
           }
          },
          "colorscale": {
           "diverging": [
            [
             0,
             "#8e0152"
            ],
            [
             0.1,
             "#c51b7d"
            ],
            [
             0.2,
             "#de77ae"
            ],
            [
             0.3,
             "#f1b6da"
            ],
            [
             0.4,
             "#fde0ef"
            ],
            [
             0.5,
             "#f7f7f7"
            ],
            [
             0.6,
             "#e6f5d0"
            ],
            [
             0.7,
             "#b8e186"
            ],
            [
             0.8,
             "#7fbc41"
            ],
            [
             0.9,
             "#4d9221"
            ],
            [
             1,
             "#276419"
            ]
           ],
           "sequential": [
            [
             0,
             "#0d0887"
            ],
            [
             0.1111111111111111,
             "#46039f"
            ],
            [
             0.2222222222222222,
             "#7201a8"
            ],
            [
             0.3333333333333333,
             "#9c179e"
            ],
            [
             0.4444444444444444,
             "#bd3786"
            ],
            [
             0.5555555555555556,
             "#d8576b"
            ],
            [
             0.6666666666666666,
             "#ed7953"
            ],
            [
             0.7777777777777778,
             "#fb9f3a"
            ],
            [
             0.8888888888888888,
             "#fdca26"
            ],
            [
             1,
             "#f0f921"
            ]
           ],
           "sequentialminus": [
            [
             0,
             "#0d0887"
            ],
            [
             0.1111111111111111,
             "#46039f"
            ],
            [
             0.2222222222222222,
             "#7201a8"
            ],
            [
             0.3333333333333333,
             "#9c179e"
            ],
            [
             0.4444444444444444,
             "#bd3786"
            ],
            [
             0.5555555555555556,
             "#d8576b"
            ],
            [
             0.6666666666666666,
             "#ed7953"
            ],
            [
             0.7777777777777778,
             "#fb9f3a"
            ],
            [
             0.8888888888888888,
             "#fdca26"
            ],
            [
             1,
             "#f0f921"
            ]
           ]
          },
          "colorway": [
           "#636efa",
           "#EF553B",
           "#00cc96",
           "#ab63fa",
           "#FFA15A",
           "#19d3f3",
           "#FF6692",
           "#B6E880",
           "#FF97FF",
           "#FECB52"
          ],
          "font": {
           "color": "#2a3f5f"
          },
          "geo": {
           "bgcolor": "white",
           "lakecolor": "white",
           "landcolor": "#E5ECF6",
           "showlakes": true,
           "showland": true,
           "subunitcolor": "white"
          },
          "hoverlabel": {
           "align": "left"
          },
          "hovermode": "closest",
          "mapbox": {
           "style": "light"
          },
          "paper_bgcolor": "white",
          "plot_bgcolor": "#E5ECF6",
          "polar": {
           "angularaxis": {
            "gridcolor": "white",
            "linecolor": "white",
            "ticks": ""
           },
           "bgcolor": "#E5ECF6",
           "radialaxis": {
            "gridcolor": "white",
            "linecolor": "white",
            "ticks": ""
           }
          },
          "scene": {
           "xaxis": {
            "backgroundcolor": "#E5ECF6",
            "gridcolor": "white",
            "gridwidth": 2,
            "linecolor": "white",
            "showbackground": true,
            "ticks": "",
            "zerolinecolor": "white"
           },
           "yaxis": {
            "backgroundcolor": "#E5ECF6",
            "gridcolor": "white",
            "gridwidth": 2,
            "linecolor": "white",
            "showbackground": true,
            "ticks": "",
            "zerolinecolor": "white"
           },
           "zaxis": {
            "backgroundcolor": "#E5ECF6",
            "gridcolor": "white",
            "gridwidth": 2,
            "linecolor": "white",
            "showbackground": true,
            "ticks": "",
            "zerolinecolor": "white"
           }
          },
          "shapedefaults": {
           "line": {
            "color": "#2a3f5f"
           }
          },
          "ternary": {
           "aaxis": {
            "gridcolor": "white",
            "linecolor": "white",
            "ticks": ""
           },
           "baxis": {
            "gridcolor": "white",
            "linecolor": "white",
            "ticks": ""
           },
           "bgcolor": "#E5ECF6",
           "caxis": {
            "gridcolor": "white",
            "linecolor": "white",
            "ticks": ""
           }
          },
          "title": {
           "x": 0.05
          },
          "xaxis": {
           "automargin": true,
           "gridcolor": "white",
           "linecolor": "white",
           "ticks": "",
           "title": {
            "standoff": 15
           },
           "zerolinecolor": "white",
           "zerolinewidth": 2
          },
          "yaxis": {
           "automargin": true,
           "gridcolor": "white",
           "linecolor": "white",
           "ticks": "",
           "title": {
            "standoff": 15
           },
           "zerolinecolor": "white",
           "zerolinewidth": 2
          }
         }
        },
        "title": {
         "text": "Flooding susceptibility across Neighborhoods"
        }
       }
      },
      "text/html": [
       "<div>                            <div id=\"a1c7d12a-035f-4089-b7d6-7193960c9763\" class=\"plotly-graph-div\" style=\"height:500px; width:100%;\"></div>            <script type=\"text/javascript\">                require([\"plotly\"], function(Plotly) {                    window.PLOTLYENV=window.PLOTLYENV || {};                                    if (document.getElementById(\"a1c7d12a-035f-4089-b7d6-7193960c9763\")) {                    Plotly.newPlot(                        \"a1c7d12a-035f-4089-b7d6-7193960c9763\",                        [{\"coloraxis\":\"coloraxis\",\"featureidkey\":\"properties.name\",\"geo\":\"geo\",\"geojson\":\"https://raw.githubusercontent.com/blackmad/neighborhoods/master/gn-pittsburgh.geojson\",\"hovertemplate\":\"neighborhood=%{location}<br>SNAP_All_csv_Flood_Plain____lan=%{z}<extra></extra>\",\"locations\":[\"Allegheny Center\",\"Allegheny West\",\"Allentown\",\"Arlington\",\"Arlington Heights\",\"Banksville\",\"Bedford Dwellings\",\"Beechview\",\"Beltzhoover\",\"Bloomfield\",\"Bluff\",\"Bon Air\",\"Brighton Heights\",\"Brookline\",\"California-Kirkbride\",\"Carrick\",\"Central Business District\",\"Central Lawrenceville\",\"Central Northside\",\"Central Oakland\",\"Chartiers City\",\"Chateau\",\"Crafton Heights\",\"Crawford-Roberts\",\"Duquesne Heights\",\"East Allegheny\",\"East Carnegie\",\"East Hills\",\"East Liberty\",\"Elliott\",\"Esplen\",\"Fairywood\",\"Fineview\",\"Friendship\",\"Garfield\",\"Glen Hazel\",\"Greenfield\",\"Hays\",\"Hazelwood\",\"Highland Park\",\"Homewood North\",\"Homewood South\",\"Homewood West\",\"Knoxville\",\"Larimer\",\"Lincoln Place\",\"Lincoln-Lemington-Belmar\",\"Lower Lawrenceville\",\"Manchester\",\"Marshall-Shadeland\",\"Middle Hill\",\"Morningside\",\"Mount Washington\",\"Mt. Oliver\",\"New Homestead\",\"North Oakland\",\"North Shore\",\"Northview Heights\",\"Oakwood\",\"Overbrook\",\"Perry North\",\"Perry South\",\"Point Breeze\",\"Point Breeze North\",\"Polish Hill\",\"Regent Square\",\"Ridgemont\",\"Shadyside\",\"Sheraden\",\"South Oakland\",\"South Shore\",\"South Side Flats\",\"South Side Slopes\",\"Spring Garden\",\"Spring Hill-City View\",\"Squirrel Hill North\",\"Squirrel Hill South\",\"St. Clair\",\"Stanton Heights\",\"Strip District\",\"Summer Hill\",\"Swisshelm Park\",\"Terrace Village\",\"Troy Hill\",\"Upper Hill\",\"Upper Lawrenceville\",\"West End\",\"West Oakland\",\"Westwood\",\"Windgap\"],\"name\":\"\",\"type\":\"choropleth\",\"z\":[0.2,2.3,0.0,1.5,0.0,0.0,0.0,0.1,1.1,0.0,7.2,5.7,2.6,0.5,0.0,0.5,30.5,14.0,0.0,0.0,2.5,56.7,0.0,0.0,3.1,0.0,4.2,0.0,0.0,3.3,28.3,11.9,0.0,0.0,0.0,1.7,0.2,6.5,2.4,0.3,0.0,0.0,0.0,0.0,0.0,0.1,0.9,29.9,0.1,33.1,0.0,1.4,1.6,0.0,0.0,0.0,82.0,0.0,0.0,3.9,0.0,0.0,0.0,0.0,0.4,2.7,0.0,0.0,0.1,9.8,52.4,21.3,0.0,0.2,0.0,0.0,1.3,0.1,0.0,54.2,0.0,4.8,0.0,29.1,0.0,11.9,25.4,0.0,0.0,2.1]}],                        {\"coloraxis\":{\"colorbar\":{\"title\":{\"text\":\"SNAP_All_csv_Flood_Plain____lan\"}},\"colorscale\":[[0.0,\"rgb(247,251,255)\"],[0.125,\"rgb(222,235,247)\"],[0.25,\"rgb(198,219,239)\"],[0.375,\"rgb(158,202,225)\"],[0.5,\"rgb(107,174,214)\"],[0.625,\"rgb(66,146,198)\"],[0.75,\"rgb(33,113,181)\"],[0.875,\"rgb(8,81,156)\"],[1.0,\"rgb(8,48,107)\"]]},\"geo\":{\"center\":{},\"domain\":{\"x\":[0.0,1.0],\"y\":[0.0,1.0]},\"fitbounds\":\"locations\",\"visible\":false},\"height\":500,\"legend\":{\"tracegroupgap\":0},\"template\":{\"data\":{\"bar\":[{\"error_x\":{\"color\":\"#2a3f5f\"},\"error_y\":{\"color\":\"#2a3f5f\"},\"marker\":{\"line\":{\"color\":\"#E5ECF6\",\"width\":0.5},\"pattern\":{\"fillmode\":\"overlay\",\"size\":10,\"solidity\":0.2}},\"type\":\"bar\"}],\"barpolar\":[{\"marker\":{\"line\":{\"color\":\"#E5ECF6\",\"width\":0.5},\"pattern\":{\"fillmode\":\"overlay\",\"size\":10,\"solidity\":0.2}},\"type\":\"barpolar\"}],\"carpet\":[{\"aaxis\":{\"endlinecolor\":\"#2a3f5f\",\"gridcolor\":\"white\",\"linecolor\":\"white\",\"minorgridcolor\":\"white\",\"startlinecolor\":\"#2a3f5f\"},\"baxis\":{\"endlinecolor\":\"#2a3f5f\",\"gridcolor\":\"white\",\"linecolor\":\"white\",\"minorgridcolor\":\"white\",\"startlinecolor\":\"#2a3f5f\"},\"type\":\"carpet\"}],\"choropleth\":[{\"colorbar\":{\"outlinewidth\":0,\"ticks\":\"\"},\"type\":\"choropleth\"}],\"contour\":[{\"colorbar\":{\"outlinewidth\":0,\"ticks\":\"\"},\"colorscale\":[[0.0,\"#0d0887\"],[0.1111111111111111,\"#46039f\"],[0.2222222222222222,\"#7201a8\"],[0.3333333333333333,\"#9c179e\"],[0.4444444444444444,\"#bd3786\"],[0.5555555555555556,\"#d8576b\"],[0.6666666666666666,\"#ed7953\"],[0.7777777777777778,\"#fb9f3a\"],[0.8888888888888888,\"#fdca26\"],[1.0,\"#f0f921\"]],\"type\":\"contour\"}],\"contourcarpet\":[{\"colorbar\":{\"outlinewidth\":0,\"ticks\":\"\"},\"type\":\"contourcarpet\"}],\"heatmap\":[{\"colorbar\":{\"outlinewidth\":0,\"ticks\":\"\"},\"colorscale\":[[0.0,\"#0d0887\"],[0.1111111111111111,\"#46039f\"],[0.2222222222222222,\"#7201a8\"],[0.3333333333333333,\"#9c179e\"],[0.4444444444444444,\"#bd3786\"],[0.5555555555555556,\"#d8576b\"],[0.6666666666666666,\"#ed7953\"],[0.7777777777777778,\"#fb9f3a\"],[0.8888888888888888,\"#fdca26\"],[1.0,\"#f0f921\"]],\"type\":\"heatmap\"}],\"heatmapgl\":[{\"colorbar\":{\"outlinewidth\":0,\"ticks\":\"\"},\"colorscale\":[[0.0,\"#0d0887\"],[0.1111111111111111,\"#46039f\"],[0.2222222222222222,\"#7201a8\"],[0.3333333333333333,\"#9c179e\"],[0.4444444444444444,\"#bd3786\"],[0.5555555555555556,\"#d8576b\"],[0.6666666666666666,\"#ed7953\"],[0.7777777777777778,\"#fb9f3a\"],[0.8888888888888888,\"#fdca26\"],[1.0,\"#f0f921\"]],\"type\":\"heatmapgl\"}],\"histogram\":[{\"marker\":{\"pattern\":{\"fillmode\":\"overlay\",\"size\":10,\"solidity\":0.2}},\"type\":\"histogram\"}],\"histogram2d\":[{\"colorbar\":{\"outlinewidth\":0,\"ticks\":\"\"},\"colorscale\":[[0.0,\"#0d0887\"],[0.1111111111111111,\"#46039f\"],[0.2222222222222222,\"#7201a8\"],[0.3333333333333333,\"#9c179e\"],[0.4444444444444444,\"#bd3786\"],[0.5555555555555556,\"#d8576b\"],[0.6666666666666666,\"#ed7953\"],[0.7777777777777778,\"#fb9f3a\"],[0.8888888888888888,\"#fdca26\"],[1.0,\"#f0f921\"]],\"type\":\"histogram2d\"}],\"histogram2dcontour\":[{\"colorbar\":{\"outlinewidth\":0,\"ticks\":\"\"},\"colorscale\":[[0.0,\"#0d0887\"],[0.1111111111111111,\"#46039f\"],[0.2222222222222222,\"#7201a8\"],[0.3333333333333333,\"#9c179e\"],[0.4444444444444444,\"#bd3786\"],[0.5555555555555556,\"#d8576b\"],[0.6666666666666666,\"#ed7953\"],[0.7777777777777778,\"#fb9f3a\"],[0.8888888888888888,\"#fdca26\"],[1.0,\"#f0f921\"]],\"type\":\"histogram2dcontour\"}],\"mesh3d\":[{\"colorbar\":{\"outlinewidth\":0,\"ticks\":\"\"},\"type\":\"mesh3d\"}],\"parcoords\":[{\"line\":{\"colorbar\":{\"outlinewidth\":0,\"ticks\":\"\"}},\"type\":\"parcoords\"}],\"pie\":[{\"automargin\":true,\"type\":\"pie\"}],\"scatter\":[{\"marker\":{\"colorbar\":{\"outlinewidth\":0,\"ticks\":\"\"}},\"type\":\"scatter\"}],\"scatter3d\":[{\"line\":{\"colorbar\":{\"outlinewidth\":0,\"ticks\":\"\"}},\"marker\":{\"colorbar\":{\"outlinewidth\":0,\"ticks\":\"\"}},\"type\":\"scatter3d\"}],\"scattercarpet\":[{\"marker\":{\"colorbar\":{\"outlinewidth\":0,\"ticks\":\"\"}},\"type\":\"scattercarpet\"}],\"scattergeo\":[{\"marker\":{\"colorbar\":{\"outlinewidth\":0,\"ticks\":\"\"}},\"type\":\"scattergeo\"}],\"scattergl\":[{\"marker\":{\"colorbar\":{\"outlinewidth\":0,\"ticks\":\"\"}},\"type\":\"scattergl\"}],\"scattermapbox\":[{\"marker\":{\"colorbar\":{\"outlinewidth\":0,\"ticks\":\"\"}},\"type\":\"scattermapbox\"}],\"scatterpolar\":[{\"marker\":{\"colorbar\":{\"outlinewidth\":0,\"ticks\":\"\"}},\"type\":\"scatterpolar\"}],\"scatterpolargl\":[{\"marker\":{\"colorbar\":{\"outlinewidth\":0,\"ticks\":\"\"}},\"type\":\"scatterpolargl\"}],\"scatterternary\":[{\"marker\":{\"colorbar\":{\"outlinewidth\":0,\"ticks\":\"\"}},\"type\":\"scatterternary\"}],\"surface\":[{\"colorbar\":{\"outlinewidth\":0,\"ticks\":\"\"},\"colorscale\":[[0.0,\"#0d0887\"],[0.1111111111111111,\"#46039f\"],[0.2222222222222222,\"#7201a8\"],[0.3333333333333333,\"#9c179e\"],[0.4444444444444444,\"#bd3786\"],[0.5555555555555556,\"#d8576b\"],[0.6666666666666666,\"#ed7953\"],[0.7777777777777778,\"#fb9f3a\"],[0.8888888888888888,\"#fdca26\"],[1.0,\"#f0f921\"]],\"type\":\"surface\"}],\"table\":[{\"cells\":{\"fill\":{\"color\":\"#EBF0F8\"},\"line\":{\"color\":\"white\"}},\"header\":{\"fill\":{\"color\":\"#C8D4E3\"},\"line\":{\"color\":\"white\"}},\"type\":\"table\"}]},\"layout\":{\"annotationdefaults\":{\"arrowcolor\":\"#2a3f5f\",\"arrowhead\":0,\"arrowwidth\":1},\"autotypenumbers\":\"strict\",\"coloraxis\":{\"colorbar\":{\"outlinewidth\":0,\"ticks\":\"\"}},\"colorscale\":{\"diverging\":[[0,\"#8e0152\"],[0.1,\"#c51b7d\"],[0.2,\"#de77ae\"],[0.3,\"#f1b6da\"],[0.4,\"#fde0ef\"],[0.5,\"#f7f7f7\"],[0.6,\"#e6f5d0\"],[0.7,\"#b8e186\"],[0.8,\"#7fbc41\"],[0.9,\"#4d9221\"],[1,\"#276419\"]],\"sequential\":[[0.0,\"#0d0887\"],[0.1111111111111111,\"#46039f\"],[0.2222222222222222,\"#7201a8\"],[0.3333333333333333,\"#9c179e\"],[0.4444444444444444,\"#bd3786\"],[0.5555555555555556,\"#d8576b\"],[0.6666666666666666,\"#ed7953\"],[0.7777777777777778,\"#fb9f3a\"],[0.8888888888888888,\"#fdca26\"],[1.0,\"#f0f921\"]],\"sequentialminus\":[[0.0,\"#0d0887\"],[0.1111111111111111,\"#46039f\"],[0.2222222222222222,\"#7201a8\"],[0.3333333333333333,\"#9c179e\"],[0.4444444444444444,\"#bd3786\"],[0.5555555555555556,\"#d8576b\"],[0.6666666666666666,\"#ed7953\"],[0.7777777777777778,\"#fb9f3a\"],[0.8888888888888888,\"#fdca26\"],[1.0,\"#f0f921\"]]},\"colorway\":[\"#636efa\",\"#EF553B\",\"#00cc96\",\"#ab63fa\",\"#FFA15A\",\"#19d3f3\",\"#FF6692\",\"#B6E880\",\"#FF97FF\",\"#FECB52\"],\"font\":{\"color\":\"#2a3f5f\"},\"geo\":{\"bgcolor\":\"white\",\"lakecolor\":\"white\",\"landcolor\":\"#E5ECF6\",\"showlakes\":true,\"showland\":true,\"subunitcolor\":\"white\"},\"hoverlabel\":{\"align\":\"left\"},\"hovermode\":\"closest\",\"mapbox\":{\"style\":\"light\"},\"paper_bgcolor\":\"white\",\"plot_bgcolor\":\"#E5ECF6\",\"polar\":{\"angularaxis\":{\"gridcolor\":\"white\",\"linecolor\":\"white\",\"ticks\":\"\"},\"bgcolor\":\"#E5ECF6\",\"radialaxis\":{\"gridcolor\":\"white\",\"linecolor\":\"white\",\"ticks\":\"\"}},\"scene\":{\"xaxis\":{\"backgroundcolor\":\"#E5ECF6\",\"gridcolor\":\"white\",\"gridwidth\":2,\"linecolor\":\"white\",\"showbackground\":true,\"ticks\":\"\",\"zerolinecolor\":\"white\"},\"yaxis\":{\"backgroundcolor\":\"#E5ECF6\",\"gridcolor\":\"white\",\"gridwidth\":2,\"linecolor\":\"white\",\"showbackground\":true,\"ticks\":\"\",\"zerolinecolor\":\"white\"},\"zaxis\":{\"backgroundcolor\":\"#E5ECF6\",\"gridcolor\":\"white\",\"gridwidth\":2,\"linecolor\":\"white\",\"showbackground\":true,\"ticks\":\"\",\"zerolinecolor\":\"white\"}},\"shapedefaults\":{\"line\":{\"color\":\"#2a3f5f\"}},\"ternary\":{\"aaxis\":{\"gridcolor\":\"white\",\"linecolor\":\"white\",\"ticks\":\"\"},\"baxis\":{\"gridcolor\":\"white\",\"linecolor\":\"white\",\"ticks\":\"\"},\"bgcolor\":\"#E5ECF6\",\"caxis\":{\"gridcolor\":\"white\",\"linecolor\":\"white\",\"ticks\":\"\"}},\"title\":{\"x\":0.05},\"xaxis\":{\"automargin\":true,\"gridcolor\":\"white\",\"linecolor\":\"white\",\"ticks\":\"\",\"title\":{\"standoff\":15},\"zerolinecolor\":\"white\",\"zerolinewidth\":2},\"yaxis\":{\"automargin\":true,\"gridcolor\":\"white\",\"linecolor\":\"white\",\"ticks\":\"\",\"title\":{\"standoff\":15},\"zerolinecolor\":\"white\",\"zerolinewidth\":2}}},\"title\":{\"text\":\"Flooding susceptibility across Neighborhoods\"}},                        {\"responsive\": true}                    ).then(function(){\n",
       "                            \n",
       "var gd = document.getElementById('a1c7d12a-035f-4089-b7d6-7193960c9763');\n",
       "var x = new MutationObserver(function (mutations, observer) {{\n",
       "        var display = window.getComputedStyle(gd).display;\n",
       "        if (!display || display === 'none') {{\n",
       "            console.log([gd, 'removed!']);\n",
       "            Plotly.purge(gd);\n",
       "            observer.disconnect();\n",
       "        }}\n",
       "}});\n",
       "\n",
       "// Listen for the removal of the full notebook cells\n",
       "var notebookContainer = gd.closest('#notebook-container');\n",
       "if (notebookContainer) {{\n",
       "    x.observe(notebookContainer, {childList: true});\n",
       "}}\n",
       "\n",
       "// Listen for the clearing of the current output cell\n",
       "var outputEl = gd.closest('.output');\n",
       "if (outputEl) {{\n",
       "    x.observe(outputEl, {childList: true});\n",
       "}}\n",
       "\n",
       "                        })                };                });            </script>        </div>"
      ]
     },
     "metadata": {},
     "output_type": "display_data"
    }
   ],
   "source": [
    "fig=px.choropleth(flooding_map,\n",
    "             geojson=\"https://raw.githubusercontent.com/blackmad/neighborhoods/master/gn-pittsburgh.geojson\",\n",
    "             featureidkey='properties.name',   \n",
    "             locations='neighborhood',        #column in dataframe\n",
    "             color='SNAP_All_csv_Flood_Plain____lan',\n",
    "              color_continuous_scale='blues',\n",
    "               title='Flooding susceptibility across Neighborhoods' ,  \n",
    "               height=500\n",
    "              )\n",
    "fig.update_geos(fitbounds=\"locations\", visible=False)\n",
    "fig.show()"
   ]
  },
  {
   "cell_type": "code",
   "execution_count": 798,
   "id": "771f2e5a",
   "metadata": {},
   "outputs": [
    {
     "data": {
      "text/plain": [
       "[Text(0.5, 0, 'Number of Trees (Normalized by Area)'),\n",
       " Text(0, 0.5, 'Flooding susceptibility'),\n",
       " Text(0.5, 1.0, 'Flooding susceptibility vs Number of Trees')]"
      ]
     },
     "execution_count": 798,
     "metadata": {},
     "output_type": "execute_result"
    },
    {
     "data": {
      "image/png": "[encoded data removed]",
      "text/plain": [
       "<Figure size 432x288 with 1 Axes>"
      ]
     },
     "metadata": {},
     "output_type": "display_data"
    }
   ],
   "source": [
    "plot = sns.regplot(x = 'tree_count', y = 'SNAP_All_csv_Flood_Plain____lan', data = combined_data)\n",
    "plot.set(xlabel = \"Number of Trees (Normalized by Area)\", ylabel = \"Flooding susceptibility\",\n",
    "title = \"Flooding susceptibility vs Number of Trees\")"
   ]
  },
  {
   "cell_type": "markdown",
   "id": "2b5b7e53",
   "metadata": {},
   "source": [
    "**Inference: We do not observe any correlation between Flooding susceptibility and tree density.**"
   ]
  },
  {
   "cell_type": "markdown",
   "id": "68fd936b",
   "metadata": {},
   "source": [
    "# Correlating tree stumps/vacant sites with different socio-economic factors"
   ]
  },
  {
   "cell_type": "markdown",
   "id": "ff7aa19d",
   "metadata": {},
   "source": [
    "**These socio-economic factors include Percent under poverty, income of the people, crimes**"
   ]
  },
  {
   "cell_type": "code",
   "execution_count": 799,
   "id": "eddbee37",
   "metadata": {},
   "outputs": [],
   "source": [
    "df_stump_vacant = raw_df_trees[(raw_df_trees['common_name'] == 'Stump') | \n",
    "                       (raw_df_trees['scientific_name'] == 'Stump') |\n",
    "                       (raw_df_trees['common_name'] == 'Vacant Site Small') | \n",
    "                       (raw_df_trees['common_name'] == 'Vacant Site Medium') | \n",
    "                       (raw_df_trees['common_name'] == 'Vacant Site Not Suitable') | \n",
    "                       (raw_df_trees['common_name'] == 'Vacant Site Large')]"
   ]
  },
  {
   "cell_type": "code",
   "execution_count": 800,
   "id": "aefe97ba",
   "metadata": {},
   "outputs": [
    {
     "data": {
      "text/plain": [
       "(5270, 58)"
      ]
     },
     "execution_count": 800,
     "metadata": {},
     "output_type": "execute_result"
    }
   ],
   "source": [
    "df_stump_vacant.shape"
   ]
  },
  {
   "cell_type": "code",
   "execution_count": 801,
   "id": "e0fbffe3",
   "metadata": {},
   "outputs": [
    {
     "data": {
      "text/plain": [
       "5270"
      ]
     },
     "execution_count": 801,
     "metadata": {},
     "output_type": "execute_result"
    }
   ],
   "source": [
    "len(df_stump_vacant.index)"
   ]
  },
  {
   "cell_type": "code",
   "execution_count": 802,
   "id": "2887aa71",
   "metadata": {},
   "outputs": [
    {
     "name": "stderr",
     "output_type": "stream",
     "text": [
      "<ipython-input-802-bd81044c7d7c>:2: SettingWithCopyWarning:\n",
      "\n",
      "\n",
      "A value is trying to be set on a copy of a slice from a DataFrame.\n",
      "Try using .loc[row_indexer,col_indexer] = value instead\n",
      "\n",
      "See the caveats in the documentation: https://pandas.pydata.org/pandas-docs/stable/user_guide/indexing.html#returning-a-view-versus-a-copy\n",
      "\n"
     ]
    }
   ],
   "source": [
    "# df_stump_vacant['tree_count'] = pd.Series([1 for x in range(len(df_stump_vacant.index))])\n",
    "df_stump_vacant['tree_count'] = 1"
   ]
  },
  {
   "cell_type": "code",
   "execution_count": 803,
   "id": "d483b61d",
   "metadata": {},
   "outputs": [
    {
     "data": {
      "text/plain": [
       "5270"
      ]
     },
     "execution_count": 803,
     "metadata": {},
     "output_type": "execute_result"
    }
   ],
   "source": [
    "df_stump_vacant['tree_count'].sum()"
   ]
  },
  {
   "cell_type": "code",
   "execution_count": 804,
   "id": "03303bd7",
   "metadata": {},
   "outputs": [],
   "source": [
    "df_stump_density = df_stump_vacant[['neighborhood', 'tree_count', 'stormwater_benefits_dollar_value', \n",
    "                            'property_value_benefits_dollarvalue', 'energy_benefits_electricity_dollar_value', \n",
    "                            'energy_benefits_gas_dollar_value', 'air_quality_benfits_total_dollar_value', \n",
    "                           'co2_benefits_dollar_value', 'overall_benefits_dollar_value', ]]"
   ]
  },
  {
   "cell_type": "code",
   "execution_count": 805,
   "id": "b17277d6",
   "metadata": {},
   "outputs": [
    {
     "data": {
      "text/plain": [
       "5270"
      ]
     },
     "execution_count": 805,
     "metadata": {},
     "output_type": "execute_result"
    }
   ],
   "source": [
    "df_stump_density['tree_count'].sum()"
   ]
  },
  {
   "cell_type": "code",
   "execution_count": 806,
   "id": "e1b789a3",
   "metadata": {},
   "outputs": [
    {
     "data": {
      "text/html": [
       "<div>\n",
       "<style scoped>\n",
       "    .dataframe tbody tr th:only-of-type {\n",
       "        vertical-align: middle;\n",
       "    }\n",
       "\n",
       "    .dataframe tbody tr th {\n",
       "        vertical-align: top;\n",
       "    }\n",
       "\n",
       "    .dataframe thead th {\n",
       "        text-align: right;\n",
       "    }\n",
       "</style>\n",
       "<table border=\"1\" class=\"dataframe\">\n",
       "  <thead>\n",
       "    <tr style=\"text-align: right;\">\n",
       "      <th></th>\n",
       "      <th>tree_count</th>\n",
       "    </tr>\n",
       "    <tr>\n",
       "      <th>neighborhood</th>\n",
       "      <th></th>\n",
       "    </tr>\n",
       "  </thead>\n",
       "  <tbody>\n",
       "    <tr>\n",
       "      <th>Allegheny Center</th>\n",
       "      <td>6</td>\n",
       "    </tr>\n",
       "    <tr>\n",
       "      <th>Allegheny West</th>\n",
       "      <td>18</td>\n",
       "    </tr>\n",
       "    <tr>\n",
       "      <th>Allentown</th>\n",
       "      <td>24</td>\n",
       "    </tr>\n",
       "    <tr>\n",
       "      <th>Arlington</th>\n",
       "      <td>25</td>\n",
       "    </tr>\n",
       "    <tr>\n",
       "      <th>Arlington Heights</th>\n",
       "      <td>1</td>\n",
       "    </tr>\n",
       "    <tr>\n",
       "      <th>Banksville</th>\n",
       "      <td>16</td>\n",
       "    </tr>\n",
       "    <tr>\n",
       "      <th>Bedford Dwellings</th>\n",
       "      <td>31</td>\n",
       "    </tr>\n",
       "    <tr>\n",
       "      <th>Beechview</th>\n",
       "      <td>68</td>\n",
       "    </tr>\n",
       "    <tr>\n",
       "      <th>Beltzhoover</th>\n",
       "      <td>58</td>\n",
       "    </tr>\n",
       "    <tr>\n",
       "      <th>Bloomfield</th>\n",
       "      <td>253</td>\n",
       "    </tr>\n",
       "    <tr>\n",
       "      <th>Bluff</th>\n",
       "      <td>22</td>\n",
       "    </tr>\n",
       "    <tr>\n",
       "      <th>Bon Air</th>\n",
       "      <td>12</td>\n",
       "    </tr>\n",
       "    <tr>\n",
       "      <th>Brighton Heights</th>\n",
       "      <td>142</td>\n",
       "    </tr>\n",
       "    <tr>\n",
       "      <th>Brookline</th>\n",
       "      <td>126</td>\n",
       "    </tr>\n",
       "    <tr>\n",
       "      <th>California-Kirkbride</th>\n",
       "      <td>13</td>\n",
       "    </tr>\n",
       "    <tr>\n",
       "      <th>Carrick</th>\n",
       "      <td>116</td>\n",
       "    </tr>\n",
       "    <tr>\n",
       "      <th>Central Business District</th>\n",
       "      <td>37</td>\n",
       "    </tr>\n",
       "    <tr>\n",
       "      <th>Central Lawrenceville</th>\n",
       "      <td>89</td>\n",
       "    </tr>\n",
       "    <tr>\n",
       "      <th>Central Northside</th>\n",
       "      <td>66</td>\n",
       "    </tr>\n",
       "    <tr>\n",
       "      <th>Central Oakland</th>\n",
       "      <td>10</td>\n",
       "    </tr>\n",
       "    <tr>\n",
       "      <th>Chartiers City</th>\n",
       "      <td>1</td>\n",
       "    </tr>\n",
       "    <tr>\n",
       "      <th>Chateau</th>\n",
       "      <td>19</td>\n",
       "    </tr>\n",
       "    <tr>\n",
       "      <th>Crafton Heights</th>\n",
       "      <td>86</td>\n",
       "    </tr>\n",
       "    <tr>\n",
       "      <th>Crawford-Roberts</th>\n",
       "      <td>100</td>\n",
       "    </tr>\n",
       "    <tr>\n",
       "      <th>Duquesne Heights</th>\n",
       "      <td>19</td>\n",
       "    </tr>\n",
       "    <tr>\n",
       "      <th>East Allegheny</th>\n",
       "      <td>39</td>\n",
       "    </tr>\n",
       "    <tr>\n",
       "      <th>East Carnegie</th>\n",
       "      <td>4</td>\n",
       "    </tr>\n",
       "    <tr>\n",
       "      <th>East Hills</th>\n",
       "      <td>71</td>\n",
       "    </tr>\n",
       "    <tr>\n",
       "      <th>East Liberty</th>\n",
       "      <td>126</td>\n",
       "    </tr>\n",
       "    <tr>\n",
       "      <th>Elliott</th>\n",
       "      <td>38</td>\n",
       "    </tr>\n",
       "    <tr>\n",
       "      <th>Esplen</th>\n",
       "      <td>1</td>\n",
       "    </tr>\n",
       "    <tr>\n",
       "      <th>Fairywood</th>\n",
       "      <td>1</td>\n",
       "    </tr>\n",
       "    <tr>\n",
       "      <th>Fineview</th>\n",
       "      <td>4</td>\n",
       "    </tr>\n",
       "    <tr>\n",
       "      <th>Friendship</th>\n",
       "      <td>58</td>\n",
       "    </tr>\n",
       "    <tr>\n",
       "      <th>Garfield</th>\n",
       "      <td>119</td>\n",
       "    </tr>\n",
       "    <tr>\n",
       "      <th>Greenfield</th>\n",
       "      <td>130</td>\n",
       "    </tr>\n",
       "    <tr>\n",
       "      <th>Hazelwood</th>\n",
       "      <td>86</td>\n",
       "    </tr>\n",
       "    <tr>\n",
       "      <th>Highland Park</th>\n",
       "      <td>205</td>\n",
       "    </tr>\n",
       "    <tr>\n",
       "      <th>Homewood North</th>\n",
       "      <td>115</td>\n",
       "    </tr>\n",
       "    <tr>\n",
       "      <th>Homewood South</th>\n",
       "      <td>159</td>\n",
       "    </tr>\n",
       "    <tr>\n",
       "      <th>Homewood West</th>\n",
       "      <td>22</td>\n",
       "    </tr>\n",
       "    <tr>\n",
       "      <th>Knoxville</th>\n",
       "      <td>18</td>\n",
       "    </tr>\n",
       "    <tr>\n",
       "      <th>Larimer</th>\n",
       "      <td>21</td>\n",
       "    </tr>\n",
       "    <tr>\n",
       "      <th>Lincoln Place</th>\n",
       "      <td>22</td>\n",
       "    </tr>\n",
       "    <tr>\n",
       "      <th>Lincoln-Lemington-Belmar</th>\n",
       "      <td>49</td>\n",
       "    </tr>\n",
       "    <tr>\n",
       "      <th>Lower Lawrenceville</th>\n",
       "      <td>50</td>\n",
       "    </tr>\n",
       "    <tr>\n",
       "      <th>Manchester</th>\n",
       "      <td>129</td>\n",
       "    </tr>\n",
       "    <tr>\n",
       "      <th>Marshall-Shadeland</th>\n",
       "      <td>65</td>\n",
       "    </tr>\n",
       "    <tr>\n",
       "      <th>Middle Hill</th>\n",
       "      <td>91</td>\n",
       "    </tr>\n",
       "    <tr>\n",
       "      <th>Morningside</th>\n",
       "      <td>88</td>\n",
       "    </tr>\n",
       "    <tr>\n",
       "      <th>Mount Washington</th>\n",
       "      <td>200</td>\n",
       "    </tr>\n",
       "    <tr>\n",
       "      <th>New Homestead</th>\n",
       "      <td>4</td>\n",
       "    </tr>\n",
       "    <tr>\n",
       "      <th>North Oakland</th>\n",
       "      <td>46</td>\n",
       "    </tr>\n",
       "    <tr>\n",
       "      <th>North Shore</th>\n",
       "      <td>29</td>\n",
       "    </tr>\n",
       "    <tr>\n",
       "      <th>Oakwood</th>\n",
       "      <td>5</td>\n",
       "    </tr>\n",
       "    <tr>\n",
       "      <th>Overbrook</th>\n",
       "      <td>30</td>\n",
       "    </tr>\n",
       "    <tr>\n",
       "      <th>Perry North</th>\n",
       "      <td>80</td>\n",
       "    </tr>\n",
       "    <tr>\n",
       "      <th>Perry South</th>\n",
       "      <td>66</td>\n",
       "    </tr>\n",
       "    <tr>\n",
       "      <th>Point Breeze</th>\n",
       "      <td>158</td>\n",
       "    </tr>\n",
       "    <tr>\n",
       "      <th>Point Breeze North</th>\n",
       "      <td>144</td>\n",
       "    </tr>\n",
       "    <tr>\n",
       "      <th>Polish Hill</th>\n",
       "      <td>33</td>\n",
       "    </tr>\n",
       "    <tr>\n",
       "      <th>Regent Square</th>\n",
       "      <td>26</td>\n",
       "    </tr>\n",
       "    <tr>\n",
       "      <th>Ridgemont</th>\n",
       "      <td>1</td>\n",
       "    </tr>\n",
       "    <tr>\n",
       "      <th>Shadyside</th>\n",
       "      <td>240</td>\n",
       "    </tr>\n",
       "    <tr>\n",
       "      <th>Sheraden</th>\n",
       "      <td>111</td>\n",
       "    </tr>\n",
       "    <tr>\n",
       "      <th>South Oakland</th>\n",
       "      <td>31</td>\n",
       "    </tr>\n",
       "    <tr>\n",
       "      <th>South Shore</th>\n",
       "      <td>1</td>\n",
       "    </tr>\n",
       "    <tr>\n",
       "      <th>South Side Flats</th>\n",
       "      <td>198</td>\n",
       "    </tr>\n",
       "    <tr>\n",
       "      <th>South Side Slopes</th>\n",
       "      <td>55</td>\n",
       "    </tr>\n",
       "    <tr>\n",
       "      <th>Spring Garden</th>\n",
       "      <td>7</td>\n",
       "    </tr>\n",
       "    <tr>\n",
       "      <th>Spring Hill-City View</th>\n",
       "      <td>19</td>\n",
       "    </tr>\n",
       "    <tr>\n",
       "      <th>Squirrel Hill North</th>\n",
       "      <td>211</td>\n",
       "    </tr>\n",
       "    <tr>\n",
       "      <th>Squirrel Hill South</th>\n",
       "      <td>181</td>\n",
       "    </tr>\n",
       "    <tr>\n",
       "      <th>Stanton Heights</th>\n",
       "      <td>76</td>\n",
       "    </tr>\n",
       "    <tr>\n",
       "      <th>Strip District</th>\n",
       "      <td>55</td>\n",
       "    </tr>\n",
       "    <tr>\n",
       "      <th>Summer Hill</th>\n",
       "      <td>6</td>\n",
       "    </tr>\n",
       "    <tr>\n",
       "      <th>Swisshelm Park</th>\n",
       "      <td>7</td>\n",
       "    </tr>\n",
       "    <tr>\n",
       "      <th>Terrace Village</th>\n",
       "      <td>7</td>\n",
       "    </tr>\n",
       "    <tr>\n",
       "      <th>Troy Hill</th>\n",
       "      <td>22</td>\n",
       "    </tr>\n",
       "    <tr>\n",
       "      <th>Upper Hill</th>\n",
       "      <td>53</td>\n",
       "    </tr>\n",
       "    <tr>\n",
       "      <th>Upper Lawrenceville</th>\n",
       "      <td>51</td>\n",
       "    </tr>\n",
       "    <tr>\n",
       "      <th>West End</th>\n",
       "      <td>20</td>\n",
       "    </tr>\n",
       "    <tr>\n",
       "      <th>West Oakland</th>\n",
       "      <td>7</td>\n",
       "    </tr>\n",
       "    <tr>\n",
       "      <th>Westwood</th>\n",
       "      <td>13</td>\n",
       "    </tr>\n",
       "    <tr>\n",
       "      <th>Windgap</th>\n",
       "      <td>8</td>\n",
       "    </tr>\n",
       "  </tbody>\n",
       "</table>\n",
       "</div>"
      ],
      "text/plain": [
       "                           tree_count\n",
       "neighborhood                         \n",
       "Allegheny Center                    6\n",
       "Allegheny West                     18\n",
       "Allentown                          24\n",
       "Arlington                          25\n",
       "Arlington Heights                   1\n",
       "Banksville                         16\n",
       "Bedford Dwellings                  31\n",
       "Beechview                          68\n",
       "Beltzhoover                        58\n",
       "Bloomfield                        253\n",
       "Bluff                              22\n",
       "Bon Air                            12\n",
       "Brighton Heights                  142\n",
       "Brookline                         126\n",
       "California-Kirkbride               13\n",
       "Carrick                           116\n",
       "Central Business District          37\n",
       "Central Lawrenceville              89\n",
       "Central Northside                  66\n",
       "Central Oakland                    10\n",
       "Chartiers City                      1\n",
       "Chateau                            19\n",
       "Crafton Heights                    86\n",
       "Crawford-Roberts                  100\n",
       "Duquesne Heights                   19\n",
       "East Allegheny                     39\n",
       "East Carnegie                       4\n",
       "East Hills                         71\n",
       "East Liberty                      126\n",
       "Elliott                            38\n",
       "Esplen                              1\n",
       "Fairywood                           1\n",
       "Fineview                            4\n",
       "Friendship                         58\n",
       "Garfield                          119\n",
       "Greenfield                        130\n",
       "Hazelwood                          86\n",
       "Highland Park                     205\n",
       "Homewood North                    115\n",
       "Homewood South                    159\n",
       "Homewood West                      22\n",
       "Knoxville                          18\n",
       "Larimer                            21\n",
       "Lincoln Place                      22\n",
       "Lincoln-Lemington-Belmar           49\n",
       "Lower Lawrenceville                50\n",
       "Manchester                        129\n",
       "Marshall-Shadeland                 65\n",
       "Middle Hill                        91\n",
       "Morningside                        88\n",
       "Mount Washington                  200\n",
       "New Homestead                       4\n",
       "North Oakland                      46\n",
       "North Shore                        29\n",
       "Oakwood                             5\n",
       "Overbrook                          30\n",
       "Perry North                        80\n",
       "Perry South                        66\n",
       "Point Breeze                      158\n",
       "Point Breeze North                144\n",
       "Polish Hill                        33\n",
       "Regent Square                      26\n",
       "Ridgemont                           1\n",
       "Shadyside                         240\n",
       "Sheraden                          111\n",
       "South Oakland                      31\n",
       "South Shore                         1\n",
       "South Side Flats                  198\n",
       "South Side Slopes                  55\n",
       "Spring Garden                       7\n",
       "Spring Hill-City View              19\n",
       "Squirrel Hill North               211\n",
       "Squirrel Hill South               181\n",
       "Stanton Heights                    76\n",
       "Strip District                     55\n",
       "Summer Hill                         6\n",
       "Swisshelm Park                      7\n",
       "Terrace Village                     7\n",
       "Troy Hill                          22\n",
       "Upper Hill                         53\n",
       "Upper Lawrenceville                51\n",
       "West End                           20\n",
       "West Oakland                        7\n",
       "Westwood                           13\n",
       "Windgap                             8"
      ]
     },
     "execution_count": 806,
     "metadata": {},
     "output_type": "execute_result"
    }
   ],
   "source": [
    "df_stump_density.groupby(['neighborhood']).sum()"
   ]
  },
  {
   "cell_type": "code",
   "execution_count": 807,
   "id": "405ada86",
   "metadata": {},
   "outputs": [
    {
     "data": {
      "text/plain": [
       "5270"
      ]
     },
     "execution_count": 807,
     "metadata": {},
     "output_type": "execute_result"
    }
   ],
   "source": [
    "df_stump_density['tree_count'].sum()"
   ]
  },
  {
   "cell_type": "code",
   "execution_count": 808,
   "id": "cac5652f",
   "metadata": {},
   "outputs": [],
   "source": [
    "df_stump_density = df_stump_density.astype(convert_dict)"
   ]
  },
  {
   "cell_type": "code",
   "execution_count": 809,
   "id": "9cd8395f",
   "metadata": {},
   "outputs": [],
   "source": [
    "df_stump_density = df_stump_density.groupby('neighborhood', as_index=False).agg({\"tree_count\": \"sum\", \n",
    "                                                            \"stormwater_benefits_dollar_value\": \"sum\",\n",
    "                                                            \"property_value_benefits_dollarvalue\": \"sum\",\n",
    "                                                            \"energy_benefits_electricity_dollar_value\": \"sum\",\n",
    "                                                            \"energy_benefits_gas_dollar_value\": \"sum\",\n",
    "                                                            \"air_quality_benfits_total_dollar_value\": \"sum\",\n",
    "                                                            \"co2_benefits_dollar_value\": \"sum\",\n",
    "                                                            \"overall_benefits_dollar_value\": \"sum\"})"
   ]
  },
  {
   "cell_type": "code",
   "execution_count": 810,
   "id": "a468fbe9",
   "metadata": {},
   "outputs": [],
   "source": [
    "combined_stump = df_stump_density.merge(neighborhood_data_area, on='neighborhood', how='left')"
   ]
  },
  {
   "cell_type": "code",
   "execution_count": 811,
   "id": "77c2e62c",
   "metadata": {},
   "outputs": [],
   "source": [
    "combined_stump[['tree_count', 'stormwater_benefits_dollar_value', 'property_value_benefits_dollarvalue', \n",
    "               'energy_benefits_electricity_dollar_value', 'energy_benefits_gas_dollar_value',\n",
    "              'air_quality_benfits_total_dollar_value', 'co2_benefits_dollar_value', 'overall_benefits_dollar_value',\n",
    "               'Pop__2010', 'SNAP_All_csv__Part_1__Major_Cri']] = combined_stump[['tree_count', 'stormwater_benefits_dollar_value', 'property_value_benefits_dollarvalue', \n",
    "               'energy_benefits_electricity_dollar_value', 'energy_benefits_gas_dollar_value',\n",
    "              'air_quality_benfits_total_dollar_value', 'co2_benefits_dollar_value', 'overall_benefits_dollar_value',\n",
    "               'Pop__2010', 'SNAP_All_csv__Part_1__Major_Cri']].div(combined_stump.Neighborhood_2010_ACRES, axis=0)"
   ]
  },
  {
   "cell_type": "markdown",
   "id": "cc6061eb",
   "metadata": {},
   "source": [
    "# Plot neighborhood level stump/vacant site density data"
   ]
  },
  {
   "cell_type": "code",
   "execution_count": 812,
   "id": "7ce1ce21",
   "metadata": {},
   "outputs": [],
   "source": [
    "stump_density_map = combined_stump[['neighborhood', 'tree_count']].copy()"
   ]
  },
  {
   "cell_type": "code",
   "execution_count": 813,
   "id": "77d63139",
   "metadata": {},
   "outputs": [
    {
     "data": {
      "application/vnd.plotly.v1+json": {
       "config": {
        "plotlyServerURL": "https://plot.ly"
       },
       "data": [
        {
         "coloraxis": "coloraxis",
         "featureidkey": "properties.name",
         "geo": "geo",
         "geojson": "https://raw.githubusercontent.com/blackmad/neighborhoods/master/gn-pittsburgh.geojson",
         "hovertemplate": "neighborhood=%{location}<br>tree_count=%{z}<extra></extra>",
         "locations": [
          "Allegheny Center",
          "Allegheny West",
          "Allentown",
          "Arlington",
          "Arlington Heights",
          "Banksville",
          "Bedford Dwellings",
          "Beechview",
          "Beltzhoover",
          "Bloomfield",
          "Bluff",
          "Bon Air",
          "Brighton Heights",
          "Brookline",
          "California-Kirkbride",
          "Carrick",
          "Central Business District",
          "Central Lawrenceville",
          "Central Northside",
          "Central Oakland",
          "Chartiers City",
          "Chateau",
          "Crafton Heights",
          "Crawford-Roberts",
          "Duquesne Heights",
          "East Allegheny",
          "East Carnegie",
          "East Hills",
          "East Liberty",
          "Elliott",
          "Esplen",
          "Fairywood",
          "Fineview",
          "Friendship",
          "Garfield",
          "Greenfield",
          "Hazelwood",
          "Highland Park",
          "Homewood North",
          "Homewood South",
          "Homewood West",
          "Knoxville",
          "Larimer",
          "Lincoln Place",
          "Lincoln-Lemington-Belmar",
          "Lower Lawrenceville",
          "Manchester",
          "Marshall-Shadeland",
          "Middle Hill",
          "Morningside",
          "Mount Washington",
          "New Homestead",
          "North Oakland",
          "North Shore",
          "Oakwood",
          "Overbrook",
          "Perry North",
          "Perry South",
          "Point Breeze",
          "Point Breeze North",
          "Polish Hill",
          "Regent Square",
          "Ridgemont",
          "Shadyside",
          "Sheraden",
          "South Oakland",
          "South Shore",
          "South Side Flats",
          "South Side Slopes",
          "Spring Garden",
          "Spring Hill-City View",
          "Squirrel Hill North",
          "Squirrel Hill South",
          "Stanton Heights",
          "Strip District",
          "Summer Hill",
          "Swisshelm Park",
          "Terrace Village",
          "Troy Hill",
          "Upper Hill",
          "Upper Lawrenceville",
          "West End",
          "West Oakland",
          "Westwood",
          "Windgap"
         ],
         "name": "",
         "type": "choropleth",
         "z": [
          0.04454243780762121,
          0.19814841316145795,
          0.12657693768195435,
          0.08269383434771103,
          0.011821448836769435,
          0.025685522515768503,
          0.26897580953042033,
          0.07243258443722013,
          0.2145176681189759,
          0.5604723031424109,
          0.10450809937770178,
          0.059544484692105396,
          0.19769944671999912,
          0.09412334191648569,
          0.09315523962393947,
          0.10783976498368458,
          0.08989462891740141,
          0.14373408225788478,
          0.3964559243129599,
          0.055284355080355806,
          0.011771076111778139,
          0.07707879481219143,
          0.17747510705257186,
          0.602043335079259,
          0.047444489946762286,
          0.2570778814145875,
          0.014393925763327877,
          0.20397785547450709,
          0.337213970293055,
          0.09746838689819684,
          0.006764572580481502,
          0.0016057911251136099,
          0.02492398185534121,
          0.8492320306894886,
          0.4046559234486206,
          0.2615546810240067,
          0.0844955566144792,
          0.2741774342609447,
          0.41197965178763346,
          0.6208682002241372,
          0.1721183861554229,
          0.09279211473229475,
          0.07338551859099804,
          0.03478277367323482,
          0.27206351850309546,
          0.18090248632377204,
          0.7183988060100465,
          0.4385698574310602,
          0.46403002427233975,
          0.358252217703359,
          0.27303940641233043,
          0.007831957519462415,
          0.14344562631166993,
          0.14870727229839908,
          0.030861339999382776,
          0.05560549753018915,
          0.10268416404822049,
          0.11346912951985368,
          0.24469757393196476,
          0.7835412801105663,
          0.20161659854469474,
          0.21021652301870927,
          0.004218359142660688,
          0.4053341980462891,
          0.19401354599082368,
          0.09486127303828418,
          0.0073420899993392125,
          0.32914805511733797,
          0.11940117056565762,
          0.03965870848583051,
          0.046940817511395505,
          0.268465598232962,
          0.10538665548752973,
          0.16080742253208213,
          0.14071390560399527,
          0.021268751949635595,
          0.022684922628210324,
          0.031849597102596654,
          0.08900756564307967,
          0.26346269517366167,
          0.19589090029153175,
          0.1554255162069957,
          0.05058826930303818,
          0.02921289232352604,
          0.0299987250541852
         ]
        }
       ],
       "layout": {
        "coloraxis": {
         "colorbar": {
          "title": {
           "text": "tree_count"
          }
         },
         "colorscale": [
          [
           0,
           "rgb(247,252,245)"
          ],
          [
           0.125,
           "rgb(229,245,224)"
          ],
          [
           0.25,
           "rgb(199,233,192)"
          ],
          [
           0.375,
           "rgb(161,217,155)"
          ],
          [
           0.5,
           "rgb(116,196,118)"
          ],
          [
           0.625,
           "rgb(65,171,93)"
          ],
          [
           0.75,
           "rgb(35,139,69)"
          ],
          [
           0.875,
           "rgb(0,109,44)"
          ],
          [
           1,
           "rgb(0,68,27)"
          ]
         ]
        },
        "geo": {
         "center": {},
         "domain": {
          "x": [
           0,
           1
          ],
          "y": [
           0,
           1
          ]
         },
         "fitbounds": "locations",
         "visible": false
        },
        "height": 500,
        "legend": {
         "tracegroupgap": 0
        },
        "template": {
         "data": {
          "bar": [
           {
            "error_x": {
             "color": "#2a3f5f"
            },
            "error_y": {
             "color": "#2a3f5f"
            },
            "marker": {
             "line": {
              "color": "#E5ECF6",
              "width": 0.5
             },
             "pattern": {
              "fillmode": "overlay",
              "size": 10,
              "solidity": 0.2
             }
            },
            "type": "bar"
           }
          ],
          "barpolar": [
           {
            "marker": {
             "line": {
              "color": "#E5ECF6",
              "width": 0.5
             },
             "pattern": {
              "fillmode": "overlay",
              "size": 10,
              "solidity": 0.2
             }
            },
            "type": "barpolar"
           }
          ],
          "carpet": [
           {
            "aaxis": {
             "endlinecolor": "#2a3f5f",
             "gridcolor": "white",
             "linecolor": "white",
             "minorgridcolor": "white",
             "startlinecolor": "#2a3f5f"
            },
            "baxis": {
             "endlinecolor": "#2a3f5f",
             "gridcolor": "white",
             "linecolor": "white",
             "minorgridcolor": "white",
             "startlinecolor": "#2a3f5f"
            },
            "type": "carpet"
           }
          ],
          "choropleth": [
           {
            "colorbar": {
             "outlinewidth": 0,
             "ticks": ""
            },
            "type": "choropleth"
           }
          ],
          "contour": [
           {
            "colorbar": {
             "outlinewidth": 0,
             "ticks": ""
            },
            "colorscale": [
             [
              0,
              "#0d0887"
             ],
             [
              0.1111111111111111,
              "#46039f"
             ],
             [
              0.2222222222222222,
              "#7201a8"
             ],
             [
              0.3333333333333333,
              "#9c179e"
             ],
             [
              0.4444444444444444,
              "#bd3786"
             ],
             [
              0.5555555555555556,
              "#d8576b"
             ],
             [
              0.6666666666666666,
              "#ed7953"
             ],
             [
              0.7777777777777778,
              "#fb9f3a"
             ],
             [
              0.8888888888888888,
              "#fdca26"
             ],
             [
              1,
              "#f0f921"
             ]
            ],
            "type": "contour"
           }
          ],
          "contourcarpet": [
           {
            "colorbar": {
             "outlinewidth": 0,
             "ticks": ""
            },
            "type": "contourcarpet"
           }
          ],
          "heatmap": [
           {
            "colorbar": {
             "outlinewidth": 0,
             "ticks": ""
            },
            "colorscale": [
             [
              0,
              "#0d0887"
             ],
             [
              0.1111111111111111,
              "#46039f"
             ],
             [
              0.2222222222222222,
              "#7201a8"
             ],
             [
              0.3333333333333333,
              "#9c179e"
             ],
             [
              0.4444444444444444,
              "#bd3786"
             ],
             [
              0.5555555555555556,
              "#d8576b"
             ],
             [
              0.6666666666666666,
              "#ed7953"
             ],
             [
              0.7777777777777778,
              "#fb9f3a"
             ],
             [
              0.8888888888888888,
              "#fdca26"
             ],
             [
              1,
              "#f0f921"
             ]
            ],
            "type": "heatmap"
           }
          ],
          "heatmapgl": [
           {
            "colorbar": {
             "outlinewidth": 0,
             "ticks": ""
            },
            "colorscale": [
             [
              0,
              "#0d0887"
             ],
             [
              0.1111111111111111,
              "#46039f"
             ],
             [
              0.2222222222222222,
              "#7201a8"
             ],
             [
              0.3333333333333333,
              "#9c179e"
             ],
             [
              0.4444444444444444,
              "#bd3786"
             ],
             [
              0.5555555555555556,
              "#d8576b"
             ],
             [
              0.6666666666666666,
              "#ed7953"
             ],
             [
              0.7777777777777778,
              "#fb9f3a"
             ],
             [
              0.8888888888888888,
              "#fdca26"
             ],
             [
              1,
              "#f0f921"
             ]
            ],
            "type": "heatmapgl"
           }
          ],
          "histogram": [
           {
            "marker": {
             "pattern": {
              "fillmode": "overlay",
              "size": 10,
              "solidity": 0.2
             }
            },
            "type": "histogram"
           }
          ],
          "histogram2d": [
           {
            "colorbar": {
             "outlinewidth": 0,
             "ticks": ""
            },
            "colorscale": [
             [
              0,
              "#0d0887"
             ],
             [
              0.1111111111111111,
              "#46039f"
             ],
             [
              0.2222222222222222,
              "#7201a8"
             ],
             [
              0.3333333333333333,
              "#9c179e"
             ],
             [
              0.4444444444444444,
              "#bd3786"
             ],
             [
              0.5555555555555556,
              "#d8576b"
             ],
             [
              0.6666666666666666,
              "#ed7953"
             ],
             [
              0.7777777777777778,
              "#fb9f3a"
             ],
             [
              0.8888888888888888,
              "#fdca26"
             ],
             [
              1,
              "#f0f921"
             ]
            ],
            "type": "histogram2d"
           }
          ],
          "histogram2dcontour": [
           {
            "colorbar": {
             "outlinewidth": 0,
             "ticks": ""
            },
            "colorscale": [
             [
              0,
              "#0d0887"
             ],
             [
              0.1111111111111111,
              "#46039f"
             ],
             [
              0.2222222222222222,
              "#7201a8"
             ],
             [
              0.3333333333333333,
              "#9c179e"
             ],
             [
              0.4444444444444444,
              "#bd3786"
             ],
             [
              0.5555555555555556,
              "#d8576b"
             ],
             [
              0.6666666666666666,
              "#ed7953"
             ],
             [
              0.7777777777777778,
              "#fb9f3a"
             ],
             [
              0.8888888888888888,
              "#fdca26"
             ],
             [
              1,
              "#f0f921"
             ]
            ],
            "type": "histogram2dcontour"
           }
          ],
          "mesh3d": [
           {
            "colorbar": {
             "outlinewidth": 0,
             "ticks": ""
            },
            "type": "mesh3d"
           }
          ],
          "parcoords": [
           {
            "line": {
             "colorbar": {
              "outlinewidth": 0,
              "ticks": ""
             }
            },
            "type": "parcoords"
           }
          ],
          "pie": [
           {
            "automargin": true,
            "type": "pie"
           }
          ],
          "scatter": [
           {
            "marker": {
             "colorbar": {
              "outlinewidth": 0,
              "ticks": ""
             }
            },
            "type": "scatter"
           }
          ],
          "scatter3d": [
           {
            "line": {
             "colorbar": {
              "outlinewidth": 0,
              "ticks": ""
             }
            },
            "marker": {
             "colorbar": {
              "outlinewidth": 0,
              "ticks": ""
             }
            },
            "type": "scatter3d"
           }
          ],
          "scattercarpet": [
           {
            "marker": {
             "colorbar": {
              "outlinewidth": 0,
              "ticks": ""
             }
            },
            "type": "scattercarpet"
           }
          ],
          "scattergeo": [
           {
            "marker": {
             "colorbar": {
              "outlinewidth": 0,
              "ticks": ""
             }
            },
            "type": "scattergeo"
           }
          ],
          "scattergl": [
           {
            "marker": {
             "colorbar": {
              "outlinewidth": 0,
              "ticks": ""
             }
            },
            "type": "scattergl"
           }
          ],
          "scattermapbox": [
           {
            "marker": {
             "colorbar": {
              "outlinewidth": 0,
              "ticks": ""
             }
            },
            "type": "scattermapbox"
           }
          ],
          "scatterpolar": [
           {
            "marker": {
             "colorbar": {
              "outlinewidth": 0,
              "ticks": ""
             }
            },
            "type": "scatterpolar"
           }
          ],
          "scatterpolargl": [
           {
            "marker": {
             "colorbar": {
              "outlinewidth": 0,
              "ticks": ""
             }
            },
            "type": "scatterpolargl"
           }
          ],
          "scatterternary": [
           {
            "marker": {
             "colorbar": {
              "outlinewidth": 0,
              "ticks": ""
             }
            },
            "type": "scatterternary"
           }
          ],
          "surface": [
           {
            "colorbar": {
             "outlinewidth": 0,
             "ticks": ""
            },
            "colorscale": [
             [
              0,
              "#0d0887"
             ],
             [
              0.1111111111111111,
              "#46039f"
             ],
             [
              0.2222222222222222,
              "#7201a8"
             ],
             [
              0.3333333333333333,
              "#9c179e"
             ],
             [
              0.4444444444444444,
              "#bd3786"
             ],
             [
              0.5555555555555556,
              "#d8576b"
             ],
             [
              0.6666666666666666,
              "#ed7953"
             ],
             [
              0.7777777777777778,
              "#fb9f3a"
             ],
             [
              0.8888888888888888,
              "#fdca26"
             ],
             [
              1,
              "#f0f921"
             ]
            ],
            "type": "surface"
           }
          ],
          "table": [
           {
            "cells": {
             "fill": {
              "color": "#EBF0F8"
             },
             "line": {
              "color": "white"
             }
            },
            "header": {
             "fill": {
              "color": "#C8D4E3"
             },
             "line": {
              "color": "white"
             }
            },
            "type": "table"
           }
          ]
         },
         "layout": {
          "annotationdefaults": {
           "arrowcolor": "#2a3f5f",
           "arrowhead": 0,
           "arrowwidth": 1
          },
          "autotypenumbers": "strict",
          "coloraxis": {
           "colorbar": {
            "outlinewidth": 0,
            "ticks": ""
           }
          },
          "colorscale": {
           "diverging": [
            [
             0,
             "#8e0152"
            ],
            [
             0.1,
             "#c51b7d"
            ],
            [
             0.2,
             "#de77ae"
            ],
            [
             0.3,
             "#f1b6da"
            ],
            [
             0.4,
             "#fde0ef"
            ],
            [
             0.5,
             "#f7f7f7"
            ],
            [
             0.6,
             "#e6f5d0"
            ],
            [
             0.7,
             "#b8e186"
            ],
            [
             0.8,
             "#7fbc41"
            ],
            [
             0.9,
             "#4d9221"
            ],
            [
             1,
             "#276419"
            ]
           ],
           "sequential": [
            [
             0,
             "#0d0887"
            ],
            [
             0.1111111111111111,
             "#46039f"
            ],
            [
             0.2222222222222222,
             "#7201a8"
            ],
            [
             0.3333333333333333,
             "#9c179e"
            ],
            [
             0.4444444444444444,
             "#bd3786"
            ],
            [
             0.5555555555555556,
             "#d8576b"
            ],
            [
             0.6666666666666666,
             "#ed7953"
            ],
            [
             0.7777777777777778,
             "#fb9f3a"
            ],
            [
             0.8888888888888888,
             "#fdca26"
            ],
            [
             1,
             "#f0f921"
            ]
           ],
           "sequentialminus": [
            [
             0,
             "#0d0887"
            ],
            [
             0.1111111111111111,
             "#46039f"
            ],
            [
             0.2222222222222222,
             "#7201a8"
            ],
            [
             0.3333333333333333,
             "#9c179e"
            ],
            [
             0.4444444444444444,
             "#bd3786"
            ],
            [
             0.5555555555555556,
             "#d8576b"
            ],
            [
             0.6666666666666666,
             "#ed7953"
            ],
            [
             0.7777777777777778,
             "#fb9f3a"
            ],
            [
             0.8888888888888888,
             "#fdca26"
            ],
            [
             1,
             "#f0f921"
            ]
           ]
          },
          "colorway": [
           "#636efa",
           "#EF553B",
           "#00cc96",
           "#ab63fa",
           "#FFA15A",
           "#19d3f3",
           "#FF6692",
           "#B6E880",
           "#FF97FF",
           "#FECB52"
          ],
          "font": {
           "color": "#2a3f5f"
          },
          "geo": {
           "bgcolor": "white",
           "lakecolor": "white",
           "landcolor": "#E5ECF6",
           "showlakes": true,
           "showland": true,
           "subunitcolor": "white"
          },
          "hoverlabel": {
           "align": "left"
          },
          "hovermode": "closest",
          "mapbox": {
           "style": "light"
          },
          "paper_bgcolor": "white",
          "plot_bgcolor": "#E5ECF6",
          "polar": {
           "angularaxis": {
            "gridcolor": "white",
            "linecolor": "white",
            "ticks": ""
           },
           "bgcolor": "#E5ECF6",
           "radialaxis": {
            "gridcolor": "white",
            "linecolor": "white",
            "ticks": ""
           }
          },
          "scene": {
           "xaxis": {
            "backgroundcolor": "#E5ECF6",
            "gridcolor": "white",
            "gridwidth": 2,
            "linecolor": "white",
            "showbackground": true,
            "ticks": "",
            "zerolinecolor": "white"
           },
           "yaxis": {
            "backgroundcolor": "#E5ECF6",
            "gridcolor": "white",
            "gridwidth": 2,
            "linecolor": "white",
            "showbackground": true,
            "ticks": "",
            "zerolinecolor": "white"
           },
           "zaxis": {
            "backgroundcolor": "#E5ECF6",
            "gridcolor": "white",
            "gridwidth": 2,
            "linecolor": "white",
            "showbackground": true,
            "ticks": "",
            "zerolinecolor": "white"
           }
          },
          "shapedefaults": {
           "line": {
            "color": "#2a3f5f"
           }
          },
          "ternary": {
           "aaxis": {
            "gridcolor": "white",
            "linecolor": "white",
            "ticks": ""
           },
           "baxis": {
            "gridcolor": "white",
            "linecolor": "white",
            "ticks": ""
           },
           "bgcolor": "#E5ECF6",
           "caxis": {
            "gridcolor": "white",
            "linecolor": "white",
            "ticks": ""
           }
          },
          "title": {
           "x": 0.05
          },
          "xaxis": {
           "automargin": true,
           "gridcolor": "white",
           "linecolor": "white",
           "ticks": "",
           "title": {
            "standoff": 15
           },
           "zerolinecolor": "white",
           "zerolinewidth": 2
          },
          "yaxis": {
           "automargin": true,
           "gridcolor": "white",
           "linecolor": "white",
           "ticks": "",
           "title": {
            "standoff": 15
           },
           "zerolinecolor": "white",
           "zerolinewidth": 2
          }
         }
        },
        "title": {
         "text": "Average Tree Density (trees per acre) across Neighborhoods"
        }
       }
      },
      "text/html": [
       "<div>                            <div id=\"c818e499-442f-479f-8544-b22c09f804c5\" class=\"plotly-graph-div\" style=\"height:500px; width:100%;\"></div>            <script type=\"text/javascript\">                require([\"plotly\"], function(Plotly) {                    window.PLOTLYENV=window.PLOTLYENV || {};                                    if (document.getElementById(\"c818e499-442f-479f-8544-b22c09f804c5\")) {                    Plotly.newPlot(                        \"c818e499-442f-479f-8544-b22c09f804c5\",                        [{\"coloraxis\":\"coloraxis\",\"featureidkey\":\"properties.name\",\"geo\":\"geo\",\"geojson\":\"https://raw.githubusercontent.com/blackmad/neighborhoods/master/gn-pittsburgh.geojson\",\"hovertemplate\":\"neighborhood=%{location}<br>tree_count=%{z}<extra></extra>\",\"locations\":[\"Allegheny Center\",\"Allegheny West\",\"Allentown\",\"Arlington\",\"Arlington Heights\",\"Banksville\",\"Bedford Dwellings\",\"Beechview\",\"Beltzhoover\",\"Bloomfield\",\"Bluff\",\"Bon Air\",\"Brighton Heights\",\"Brookline\",\"California-Kirkbride\",\"Carrick\",\"Central Business District\",\"Central Lawrenceville\",\"Central Northside\",\"Central Oakland\",\"Chartiers City\",\"Chateau\",\"Crafton Heights\",\"Crawford-Roberts\",\"Duquesne Heights\",\"East Allegheny\",\"East Carnegie\",\"East Hills\",\"East Liberty\",\"Elliott\",\"Esplen\",\"Fairywood\",\"Fineview\",\"Friendship\",\"Garfield\",\"Greenfield\",\"Hazelwood\",\"Highland Park\",\"Homewood North\",\"Homewood South\",\"Homewood West\",\"Knoxville\",\"Larimer\",\"Lincoln Place\",\"Lincoln-Lemington-Belmar\",\"Lower Lawrenceville\",\"Manchester\",\"Marshall-Shadeland\",\"Middle Hill\",\"Morningside\",\"Mount Washington\",\"New Homestead\",\"North Oakland\",\"North Shore\",\"Oakwood\",\"Overbrook\",\"Perry North\",\"Perry South\",\"Point Breeze\",\"Point Breeze North\",\"Polish Hill\",\"Regent Square\",\"Ridgemont\",\"Shadyside\",\"Sheraden\",\"South Oakland\",\"South Shore\",\"South Side Flats\",\"South Side Slopes\",\"Spring Garden\",\"Spring Hill-City View\",\"Squirrel Hill North\",\"Squirrel Hill South\",\"Stanton Heights\",\"Strip District\",\"Summer Hill\",\"Swisshelm Park\",\"Terrace Village\",\"Troy Hill\",\"Upper Hill\",\"Upper Lawrenceville\",\"West End\",\"West Oakland\",\"Westwood\",\"Windgap\"],\"name\":\"\",\"type\":\"choropleth\",\"z\":[0.04454243780762121,0.19814841316145795,0.12657693768195435,0.08269383434771103,0.011821448836769435,0.025685522515768503,0.26897580953042033,0.07243258443722013,0.2145176681189759,0.5604723031424109,0.10450809937770178,0.059544484692105396,0.19769944671999912,0.09412334191648569,0.09315523962393947,0.10783976498368458,0.08989462891740141,0.14373408225788478,0.3964559243129599,0.055284355080355806,0.011771076111778139,0.07707879481219143,0.17747510705257186,0.602043335079259,0.047444489946762286,0.2570778814145875,0.014393925763327877,0.20397785547450709,0.337213970293055,0.09746838689819684,0.006764572580481502,0.0016057911251136099,0.02492398185534121,0.8492320306894886,0.4046559234486206,0.2615546810240067,0.0844955566144792,0.2741774342609447,0.41197965178763346,0.6208682002241372,0.1721183861554229,0.09279211473229475,0.07338551859099804,0.03478277367323482,0.27206351850309546,0.18090248632377204,0.7183988060100465,0.4385698574310602,0.46403002427233975,0.358252217703359,0.27303940641233043,0.007831957519462415,0.14344562631166993,0.14870727229839908,0.030861339999382776,0.05560549753018915,0.10268416404822049,0.11346912951985368,0.24469757393196476,0.7835412801105663,0.20161659854469474,0.21021652301870927,0.004218359142660688,0.4053341980462891,0.19401354599082368,0.09486127303828418,0.0073420899993392125,0.32914805511733797,0.11940117056565762,0.03965870848583051,0.046940817511395505,0.268465598232962,0.10538665548752973,0.16080742253208213,0.14071390560399527,0.021268751949635595,0.022684922628210324,0.031849597102596654,0.08900756564307967,0.26346269517366167,0.19589090029153175,0.1554255162069957,0.05058826930303818,0.02921289232352604,0.0299987250541852]}],                        {\"coloraxis\":{\"colorbar\":{\"title\":{\"text\":\"tree_count\"}},\"colorscale\":[[0.0,\"rgb(247,252,245)\"],[0.125,\"rgb(229,245,224)\"],[0.25,\"rgb(199,233,192)\"],[0.375,\"rgb(161,217,155)\"],[0.5,\"rgb(116,196,118)\"],[0.625,\"rgb(65,171,93)\"],[0.75,\"rgb(35,139,69)\"],[0.875,\"rgb(0,109,44)\"],[1.0,\"rgb(0,68,27)\"]]},\"geo\":{\"center\":{},\"domain\":{\"x\":[0.0,1.0],\"y\":[0.0,1.0]},\"fitbounds\":\"locations\",\"visible\":false},\"height\":500,\"legend\":{\"tracegroupgap\":0},\"template\":{\"data\":{\"bar\":[{\"error_x\":{\"color\":\"#2a3f5f\"},\"error_y\":{\"color\":\"#2a3f5f\"},\"marker\":{\"line\":{\"color\":\"#E5ECF6\",\"width\":0.5},\"pattern\":{\"fillmode\":\"overlay\",\"size\":10,\"solidity\":0.2}},\"type\":\"bar\"}],\"barpolar\":[{\"marker\":{\"line\":{\"color\":\"#E5ECF6\",\"width\":0.5},\"pattern\":{\"fillmode\":\"overlay\",\"size\":10,\"solidity\":0.2}},\"type\":\"barpolar\"}],\"carpet\":[{\"aaxis\":{\"endlinecolor\":\"#2a3f5f\",\"gridcolor\":\"white\",\"linecolor\":\"white\",\"minorgridcolor\":\"white\",\"startlinecolor\":\"#2a3f5f\"},\"baxis\":{\"endlinecolor\":\"#2a3f5f\",\"gridcolor\":\"white\",\"linecolor\":\"white\",\"minorgridcolor\":\"white\",\"startlinecolor\":\"#2a3f5f\"},\"type\":\"carpet\"}],\"choropleth\":[{\"colorbar\":{\"outlinewidth\":0,\"ticks\":\"\"},\"type\":\"choropleth\"}],\"contour\":[{\"colorbar\":{\"outlinewidth\":0,\"ticks\":\"\"},\"colorscale\":[[0.0,\"#0d0887\"],[0.1111111111111111,\"#46039f\"],[0.2222222222222222,\"#7201a8\"],[0.3333333333333333,\"#9c179e\"],[0.4444444444444444,\"#bd3786\"],[0.5555555555555556,\"#d8576b\"],[0.6666666666666666,\"#ed7953\"],[0.7777777777777778,\"#fb9f3a\"],[0.8888888888888888,\"#fdca26\"],[1.0,\"#f0f921\"]],\"type\":\"contour\"}],\"contourcarpet\":[{\"colorbar\":{\"outlinewidth\":0,\"ticks\":\"\"},\"type\":\"contourcarpet\"}],\"heatmap\":[{\"colorbar\":{\"outlinewidth\":0,\"ticks\":\"\"},\"colorscale\":[[0.0,\"#0d0887\"],[0.1111111111111111,\"#46039f\"],[0.2222222222222222,\"#7201a8\"],[0.3333333333333333,\"#9c179e\"],[0.4444444444444444,\"#bd3786\"],[0.5555555555555556,\"#d8576b\"],[0.6666666666666666,\"#ed7953\"],[0.7777777777777778,\"#fb9f3a\"],[0.8888888888888888,\"#fdca26\"],[1.0,\"#f0f921\"]],\"type\":\"heatmap\"}],\"heatmapgl\":[{\"colorbar\":{\"outlinewidth\":0,\"ticks\":\"\"},\"colorscale\":[[0.0,\"#0d0887\"],[0.1111111111111111,\"#46039f\"],[0.2222222222222222,\"#7201a8\"],[0.3333333333333333,\"#9c179e\"],[0.4444444444444444,\"#bd3786\"],[0.5555555555555556,\"#d8576b\"],[0.6666666666666666,\"#ed7953\"],[0.7777777777777778,\"#fb9f3a\"],[0.8888888888888888,\"#fdca26\"],[1.0,\"#f0f921\"]],\"type\":\"heatmapgl\"}],\"histogram\":[{\"marker\":{\"pattern\":{\"fillmode\":\"overlay\",\"size\":10,\"solidity\":0.2}},\"type\":\"histogram\"}],\"histogram2d\":[{\"colorbar\":{\"outlinewidth\":0,\"ticks\":\"\"},\"colorscale\":[[0.0,\"#0d0887\"],[0.1111111111111111,\"#46039f\"],[0.2222222222222222,\"#7201a8\"],[0.3333333333333333,\"#9c179e\"],[0.4444444444444444,\"#bd3786\"],[0.5555555555555556,\"#d8576b\"],[0.6666666666666666,\"#ed7953\"],[0.7777777777777778,\"#fb9f3a\"],[0.8888888888888888,\"#fdca26\"],[1.0,\"#f0f921\"]],\"type\":\"histogram2d\"}],\"histogram2dcontour\":[{\"colorbar\":{\"outlinewidth\":0,\"ticks\":\"\"},\"colorscale\":[[0.0,\"#0d0887\"],[0.1111111111111111,\"#46039f\"],[0.2222222222222222,\"#7201a8\"],[0.3333333333333333,\"#9c179e\"],[0.4444444444444444,\"#bd3786\"],[0.5555555555555556,\"#d8576b\"],[0.6666666666666666,\"#ed7953\"],[0.7777777777777778,\"#fb9f3a\"],[0.8888888888888888,\"#fdca26\"],[1.0,\"#f0f921\"]],\"type\":\"histogram2dcontour\"}],\"mesh3d\":[{\"colorbar\":{\"outlinewidth\":0,\"ticks\":\"\"},\"type\":\"mesh3d\"}],\"parcoords\":[{\"line\":{\"colorbar\":{\"outlinewidth\":0,\"ticks\":\"\"}},\"type\":\"parcoords\"}],\"pie\":[{\"automargin\":true,\"type\":\"pie\"}],\"scatter\":[{\"marker\":{\"colorbar\":{\"outlinewidth\":0,\"ticks\":\"\"}},\"type\":\"scatter\"}],\"scatter3d\":[{\"line\":{\"colorbar\":{\"outlinewidth\":0,\"ticks\":\"\"}},\"marker\":{\"colorbar\":{\"outlinewidth\":0,\"ticks\":\"\"}},\"type\":\"scatter3d\"}],\"scattercarpet\":[{\"marker\":{\"colorbar\":{\"outlinewidth\":0,\"ticks\":\"\"}},\"type\":\"scattercarpet\"}],\"scattergeo\":[{\"marker\":{\"colorbar\":{\"outlinewidth\":0,\"ticks\":\"\"}},\"type\":\"scattergeo\"}],\"scattergl\":[{\"marker\":{\"colorbar\":{\"outlinewidth\":0,\"ticks\":\"\"}},\"type\":\"scattergl\"}],\"scattermapbox\":[{\"marker\":{\"colorbar\":{\"outlinewidth\":0,\"ticks\":\"\"}},\"type\":\"scattermapbox\"}],\"scatterpolar\":[{\"marker\":{\"colorbar\":{\"outlinewidth\":0,\"ticks\":\"\"}},\"type\":\"scatterpolar\"}],\"scatterpolargl\":[{\"marker\":{\"colorbar\":{\"outlinewidth\":0,\"ticks\":\"\"}},\"type\":\"scatterpolargl\"}],\"scatterternary\":[{\"marker\":{\"colorbar\":{\"outlinewidth\":0,\"ticks\":\"\"}},\"type\":\"scatterternary\"}],\"surface\":[{\"colorbar\":{\"outlinewidth\":0,\"ticks\":\"\"},\"colorscale\":[[0.0,\"#0d0887\"],[0.1111111111111111,\"#46039f\"],[0.2222222222222222,\"#7201a8\"],[0.3333333333333333,\"#9c179e\"],[0.4444444444444444,\"#bd3786\"],[0.5555555555555556,\"#d8576b\"],[0.6666666666666666,\"#ed7953\"],[0.7777777777777778,\"#fb9f3a\"],[0.8888888888888888,\"#fdca26\"],[1.0,\"#f0f921\"]],\"type\":\"surface\"}],\"table\":[{\"cells\":{\"fill\":{\"color\":\"#EBF0F8\"},\"line\":{\"color\":\"white\"}},\"header\":{\"fill\":{\"color\":\"#C8D4E3\"},\"line\":{\"color\":\"white\"}},\"type\":\"table\"}]},\"layout\":{\"annotationdefaults\":{\"arrowcolor\":\"#2a3f5f\",\"arrowhead\":0,\"arrowwidth\":1},\"autotypenumbers\":\"strict\",\"coloraxis\":{\"colorbar\":{\"outlinewidth\":0,\"ticks\":\"\"}},\"colorscale\":{\"diverging\":[[0,\"#8e0152\"],[0.1,\"#c51b7d\"],[0.2,\"#de77ae\"],[0.3,\"#f1b6da\"],[0.4,\"#fde0ef\"],[0.5,\"#f7f7f7\"],[0.6,\"#e6f5d0\"],[0.7,\"#b8e186\"],[0.8,\"#7fbc41\"],[0.9,\"#4d9221\"],[1,\"#276419\"]],\"sequential\":[[0.0,\"#0d0887\"],[0.1111111111111111,\"#46039f\"],[0.2222222222222222,\"#7201a8\"],[0.3333333333333333,\"#9c179e\"],[0.4444444444444444,\"#bd3786\"],[0.5555555555555556,\"#d8576b\"],[0.6666666666666666,\"#ed7953\"],[0.7777777777777778,\"#fb9f3a\"],[0.8888888888888888,\"#fdca26\"],[1.0,\"#f0f921\"]],\"sequentialminus\":[[0.0,\"#0d0887\"],[0.1111111111111111,\"#46039f\"],[0.2222222222222222,\"#7201a8\"],[0.3333333333333333,\"#9c179e\"],[0.4444444444444444,\"#bd3786\"],[0.5555555555555556,\"#d8576b\"],[0.6666666666666666,\"#ed7953\"],[0.7777777777777778,\"#fb9f3a\"],[0.8888888888888888,\"#fdca26\"],[1.0,\"#f0f921\"]]},\"colorway\":[\"#636efa\",\"#EF553B\",\"#00cc96\",\"#ab63fa\",\"#FFA15A\",\"#19d3f3\",\"#FF6692\",\"#B6E880\",\"#FF97FF\",\"#FECB52\"],\"font\":{\"color\":\"#2a3f5f\"},\"geo\":{\"bgcolor\":\"white\",\"lakecolor\":\"white\",\"landcolor\":\"#E5ECF6\",\"showlakes\":true,\"showland\":true,\"subunitcolor\":\"white\"},\"hoverlabel\":{\"align\":\"left\"},\"hovermode\":\"closest\",\"mapbox\":{\"style\":\"light\"},\"paper_bgcolor\":\"white\",\"plot_bgcolor\":\"#E5ECF6\",\"polar\":{\"angularaxis\":{\"gridcolor\":\"white\",\"linecolor\":\"white\",\"ticks\":\"\"},\"bgcolor\":\"#E5ECF6\",\"radialaxis\":{\"gridcolor\":\"white\",\"linecolor\":\"white\",\"ticks\":\"\"}},\"scene\":{\"xaxis\":{\"backgroundcolor\":\"#E5ECF6\",\"gridcolor\":\"white\",\"gridwidth\":2,\"linecolor\":\"white\",\"showbackground\":true,\"ticks\":\"\",\"zerolinecolor\":\"white\"},\"yaxis\":{\"backgroundcolor\":\"#E5ECF6\",\"gridcolor\":\"white\",\"gridwidth\":2,\"linecolor\":\"white\",\"showbackground\":true,\"ticks\":\"\",\"zerolinecolor\":\"white\"},\"zaxis\":{\"backgroundcolor\":\"#E5ECF6\",\"gridcolor\":\"white\",\"gridwidth\":2,\"linecolor\":\"white\",\"showbackground\":true,\"ticks\":\"\",\"zerolinecolor\":\"white\"}},\"shapedefaults\":{\"line\":{\"color\":\"#2a3f5f\"}},\"ternary\":{\"aaxis\":{\"gridcolor\":\"white\",\"linecolor\":\"white\",\"ticks\":\"\"},\"baxis\":{\"gridcolor\":\"white\",\"linecolor\":\"white\",\"ticks\":\"\"},\"bgcolor\":\"#E5ECF6\",\"caxis\":{\"gridcolor\":\"white\",\"linecolor\":\"white\",\"ticks\":\"\"}},\"title\":{\"x\":0.05},\"xaxis\":{\"automargin\":true,\"gridcolor\":\"white\",\"linecolor\":\"white\",\"ticks\":\"\",\"title\":{\"standoff\":15},\"zerolinecolor\":\"white\",\"zerolinewidth\":2},\"yaxis\":{\"automargin\":true,\"gridcolor\":\"white\",\"linecolor\":\"white\",\"ticks\":\"\",\"title\":{\"standoff\":15},\"zerolinecolor\":\"white\",\"zerolinewidth\":2}}},\"title\":{\"text\":\"Average Tree Density (trees per acre) across Neighborhoods\"}},                        {\"responsive\": true}                    ).then(function(){\n",
       "                            \n",
       "var gd = document.getElementById('c818e499-442f-479f-8544-b22c09f804c5');\n",
       "var x = new MutationObserver(function (mutations, observer) {{\n",
       "        var display = window.getComputedStyle(gd).display;\n",
       "        if (!display || display === 'none') {{\n",
       "            console.log([gd, 'removed!']);\n",
       "            Plotly.purge(gd);\n",
       "            observer.disconnect();\n",
       "        }}\n",
       "}});\n",
       "\n",
       "// Listen for the removal of the full notebook cells\n",
       "var notebookContainer = gd.closest('#notebook-container');\n",
       "if (notebookContainer) {{\n",
       "    x.observe(notebookContainer, {childList: true});\n",
       "}}\n",
       "\n",
       "// Listen for the clearing of the current output cell\n",
       "var outputEl = gd.closest('.output');\n",
       "if (outputEl) {{\n",
       "    x.observe(outputEl, {childList: true});\n",
       "}}\n",
       "\n",
       "                        })                };                });            </script>        </div>"
      ]
     },
     "metadata": {},
     "output_type": "display_data"
    }
   ],
   "source": [
    "fig=px.choropleth(stump_density_map,\n",
    "             geojson=\"https://raw.githubusercontent.com/blackmad/neighborhoods/master/gn-pittsburgh.geojson\",\n",
    "             featureidkey='properties.name',   \n",
    "             locations='neighborhood',        #column in dataframe\n",
    "             color='tree_count',\n",
    "              color_continuous_scale='greens',\n",
    "               title='Average Tree Density (trees per acre) across Neighborhoods' ,  \n",
    "               height=500\n",
    "              )\n",
    "fig.update_geos(fitbounds=\"locations\", visible=False)\n",
    "fig.show()"
   ]
  },
  {
   "cell_type": "code",
   "execution_count": 814,
   "id": "fa9c9195",
   "metadata": {},
   "outputs": [
    {
     "data": {
      "text/html": [
       "<div>\n",
       "<style scoped>\n",
       "    .dataframe tbody tr th:only-of-type {\n",
       "        vertical-align: middle;\n",
       "    }\n",
       "\n",
       "    .dataframe tbody tr th {\n",
       "        vertical-align: top;\n",
       "    }\n",
       "\n",
       "    .dataframe thead th {\n",
       "        text-align: right;\n",
       "    }\n",
       "</style>\n",
       "<table border=\"1\" class=\"dataframe\">\n",
       "  <thead>\n",
       "    <tr style=\"text-align: right;\">\n",
       "      <th></th>\n",
       "      <th>neighborhood</th>\n",
       "      <th>tree_count</th>\n",
       "    </tr>\n",
       "  </thead>\n",
       "  <tbody>\n",
       "    <tr>\n",
       "      <th>33</th>\n",
       "      <td>Friendship</td>\n",
       "      <td>0.849232</td>\n",
       "    </tr>\n",
       "    <tr>\n",
       "      <th>59</th>\n",
       "      <td>Point Breeze North</td>\n",
       "      <td>0.783541</td>\n",
       "    </tr>\n",
       "    <tr>\n",
       "      <th>46</th>\n",
       "      <td>Manchester</td>\n",
       "      <td>0.718399</td>\n",
       "    </tr>\n",
       "    <tr>\n",
       "      <th>39</th>\n",
       "      <td>Homewood South</td>\n",
       "      <td>0.620868</td>\n",
       "    </tr>\n",
       "    <tr>\n",
       "      <th>23</th>\n",
       "      <td>Crawford-Roberts</td>\n",
       "      <td>0.602043</td>\n",
       "    </tr>\n",
       "  </tbody>\n",
       "</table>\n",
       "</div>"
      ],
      "text/plain": [
       "          neighborhood  tree_count\n",
       "33          Friendship    0.849232\n",
       "59  Point Breeze North    0.783541\n",
       "46          Manchester    0.718399\n",
       "39      Homewood South    0.620868\n",
       "23    Crawford-Roberts    0.602043"
      ]
     },
     "execution_count": 814,
     "metadata": {},
     "output_type": "execute_result"
    }
   ],
   "source": [
    "stump_density_map.sort_values('tree_count', ascending=False).head(5)"
   ]
  },
  {
   "cell_type": "markdown",
   "id": "be9af7f9",
   "metadata": {},
   "source": [
    "# Stump/Vacant site density vs Population density per neighborhood"
   ]
  },
  {
   "cell_type": "code",
   "execution_count": 815,
   "id": "1169c32c",
   "metadata": {},
   "outputs": [
    {
     "data": {
      "text/plain": [
       "[Text(0.5, 0, 'Number of Stumps/Vacant sites (Normalized by Area)'),\n",
       " Text(0, 0.5, 'Population Density'),\n",
       " Text(0.5, 1.0, 'Population Density vs Number of Stumps/Vacant sites')]"
      ]
     },
     "execution_count": 815,
     "metadata": {},
     "output_type": "execute_result"
    },
    {
     "data": {
      "image/png": "[encoded data removed]",
      "text/plain": [
       "<Figure size 432x288 with 1 Axes>"
      ]
     },
     "metadata": {},
     "output_type": "display_data"
    }
   ],
   "source": [
    "plot = sns.regplot(x = 'tree_count', y = 'Pop__2010', data = combined_stump)\n",
    "plot.set(xlabel = \"Number of Stumps/Vacant sites (Normalized by Area)\", ylabel = \"Population Density\",\n",
    "title = \"Population Density vs Number of Stumps/Vacant sites\")"
   ]
  },
  {
   "cell_type": "markdown",
   "id": "c19b2412",
   "metadata": {},
   "source": [
    "**Inference: More trees chopped off and vacant sites created in more denseley populated neighborhoods to build other stuff.**"
   ]
  },
  {
   "cell_type": "markdown",
   "id": "b304539b",
   "metadata": {},
   "source": [
    "# Stump/Vacant site density vs Crime rate density (i.e crimes per unit area) per neighborhood"
   ]
  },
  {
   "cell_type": "code",
   "execution_count": 816,
   "id": "86580b47",
   "metadata": {},
   "outputs": [
    {
     "data": {
      "text/plain": [
       "[Text(0.5, 0, 'Number of Stumps/Vacant sites (Normalized by Area)'),\n",
       " Text(0, 0.5, 'Crime Rate(Normalized by Area)'),\n",
       " Text(0.5, 1.0, 'Crime Rate vs Number of Stumps/Vacant sites')]"
      ]
     },
     "execution_count": 816,
     "metadata": {},
     "output_type": "execute_result"
    },
    {
     "data": {
      "image/png": "[encoded data removed]",
      "text/plain": [
       "<Figure size 432x288 with 1 Axes>"
      ]
     },
     "metadata": {},
     "output_type": "display_data"
    }
   ],
   "source": [
    "plot = sns.regplot(x = 'tree_count', y = 'SNAP_All_csv__Part_1__Major_Cri', data = combined_stump)\n",
    "plot.set(xlabel = \"Number of Stumps/Vacant sites (Normalized by Area)\", ylabel = \"Crime Rate(Normalized by Area)\",\n",
    "title = \"Crime Rate vs Number of Stumps/Vacant sites\")"
   ]
  },
  {
   "cell_type": "markdown",
   "id": "4e474593",
   "metadata": {},
   "source": [
    "**Inference: More stumps in more densely populated areas, and more crime in more denseley populated areas. Hence, its expected to see more crimes in areas with higher stump density**"
   ]
  },
  {
   "cell_type": "markdown",
   "id": "9a007a18",
   "metadata": {},
   "source": [
    "# Stump/Vacant site density vs Poverty (i.e % of the population under poverty) per neighborhood\n",
    "\n"
   ]
  },
  {
   "cell_type": "code",
   "execution_count": 817,
   "id": "34fe23bd",
   "metadata": {},
   "outputs": [
    {
     "data": {
      "text/plain": [
       "[Text(0.5, 0, 'Number of Stumps/Vacant sites (Normalized by Area)'),\n",
       " Text(0, 0.5, 'Percentage population under poverty'),\n",
       " Text(0.5, 1.0, 'Crime Rate vs Number of Stumps/Vacant sites')]"
      ]
     },
     "execution_count": 817,
     "metadata": {},
     "output_type": "execute_result"
    },
    {
     "data": {
      "image/png": "[encoded data removed]",
      "text/plain": [
       "<Figure size 432x288 with 1 Axes>"
      ]
     },
     "metadata": {},
     "output_type": "display_data"
    }
   ],
   "source": [
    "plot = sns.regplot(x = 'tree_count', y = 'Est__Percent_Under_Poverty__201', data = combined_stump)\n",
    "plot.set(xlabel = \"Number of Stumps/Vacant sites (Normalized by Area)\", ylabel = \"Percentage population under poverty\",\n",
    "title = \"Crime Rate vs Number of Stumps/Vacant sites\")"
   ]
  },
  {
   "cell_type": "markdown",
   "id": "8968f259",
   "metadata": {},
   "source": [
    "**Inference: No correlation observed**"
   ]
  },
  {
   "cell_type": "markdown",
   "id": "e5c23189",
   "metadata": {},
   "source": [
    "# Stump/Vacant site density vs Median Income per neighborhood"
   ]
  },
  {
   "cell_type": "code",
   "execution_count": 818,
   "id": "1d6540a7",
   "metadata": {},
   "outputs": [
    {
     "data": {
      "text/plain": [
       "[Text(0.5, 0, 'Number of Stumps/Vacant sites (Normalized by Area)'),\n",
       " Text(0, 0.5, 'Median income'),\n",
       " Text(0.5, 1.0, 'Median income vs Number of Stumps/Vacant sites')]"
      ]
     },
     "execution_count": 818,
     "metadata": {},
     "output_type": "execute_result"
    },
    {
     "data": {
      "image/png": "[encoded data removed]",
      "text/plain": [
       "<Figure size 432x288 with 1 Axes>"
      ]
     },
     "metadata": {},
     "output_type": "display_data"
    }
   ],
   "source": [
    "plot = sns.regplot(x = 'tree_count', y = 'SNAP_All_csv_2009_Median_Income', data = combined_stump)\n",
    "plot.set(xlabel = \"Number of Stumps/Vacant sites (Normalized by Area)\", ylabel = \"Median income\",\n",
    "title = \"Median income vs Number of Stumps/Vacant sites\")"
   ]
  },
  {
   "cell_type": "markdown",
   "id": "75c0d280",
   "metadata": {},
   "source": [
    "**Inference: No correlation observed**"
   ]
  }
 ],
 "metadata": {
  "kernelspec": {
   "display_name": "Python 3",
   "language": "python",
   "name": "python3"
  },
  "language_info": {
   "codemirror_mode": {
    "name": "ipython",
    "version": 3
   },
   "file_extension": ".py",
   "mimetype": "text/x-python",
   "name": "python",
   "nbconvert_exporter": "python",
   "pygments_lexer": "ipython3",
   "version": "3.8.8"
  }
 },
 "nbformat": 4,
 "nbformat_minor": 5
}
