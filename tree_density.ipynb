{
 "cells": [
  {
   "cell_type": "code",
   "execution_count": 411,
   "id": "12946803",
   "metadata": {},
   "outputs": [],
   "source": [
    "import numpy as np\n",
    "import pandas as pd\n",
    "import matplotlib.pyplot as plt\n",
    "import seaborn as sns\n",
    "import json, ast\n",
    "import plotly.express as px\n",
    "\n",
    "sns.set()"
   ]
  },
  {
   "cell_type": "code",
   "execution_count": 412,
   "id": "4270faf6",
   "metadata": {},
   "outputs": [],
   "source": [
    "# EDA"
   ]
  },
  {
   "cell_type": "markdown",
   "id": "92005121",
   "metadata": {},
   "source": [
    "**Load the data**"
   ]
  },
  {
   "cell_type": "code",
   "execution_count": 413,
   "id": "bd7f20c6",
   "metadata": {},
   "outputs": [],
   "source": [
    "raw_df_trees = pd.read_csv(\"cleaned_tree_data_5.csv\", encoding=\"ISO-8859-1\", dtype='unicode')"
   ]
  },
  {
   "cell_type": "code",
   "execution_count": 414,
   "id": "bf74d1e4",
   "metadata": {},
   "outputs": [
    {
     "data": {
      "text/plain": [
       "45345"
      ]
     },
     "execution_count": 414,
     "metadata": {},
     "output_type": "execute_result"
    }
   ],
   "source": [
    "len(raw_df_trees)"
   ]
  },
  {
   "cell_type": "code",
   "execution_count": 415,
   "id": "214114cc",
   "metadata": {},
   "outputs": [
    {
     "data": {
      "text/html": [
       "<div>\n",
       "<style scoped>\n",
       "    .dataframe tbody tr th:only-of-type {\n",
       "        vertical-align: middle;\n",
       "    }\n",
       "\n",
       "    .dataframe tbody tr th {\n",
       "        vertical-align: top;\n",
       "    }\n",
       "\n",
       "    .dataframe thead th {\n",
       "        text-align: right;\n",
       "    }\n",
       "</style>\n",
       "<table border=\"1\" class=\"dataframe\">\n",
       "  <thead>\n",
       "    <tr style=\"text-align: right;\">\n",
       "      <th></th>\n",
       "      <th>id</th>\n",
       "      <th>address_number</th>\n",
       "      <th>street</th>\n",
       "      <th>common_name</th>\n",
       "      <th>scientific_name</th>\n",
       "      <th>height</th>\n",
       "      <th>width</th>\n",
       "      <th>growth_space_length</th>\n",
       "      <th>growth_space_width</th>\n",
       "      <th>growth_space_type</th>\n",
       "      <th>diameter_base_height</th>\n",
       "      <th>stems</th>\n",
       "      <th>overhead_utilities</th>\n",
       "      <th>land_use</th>\n",
       "      <th>condition</th>\n",
       "      <th>stormwater_benefits_dollar_value</th>\n",
       "      <th>stormwater_benefits_runoff_elim</th>\n",
       "      <th>property_value_benefits_dollarvalue</th>\n",
       "      <th>property_value_benefits_leaf_surface_area</th>\n",
       "      <th>energy_benefits_electricity_dollar_value</th>\n",
       "      <th>energy_benefits_gas_dollar_value</th>\n",
       "      <th>air_quality_benfits_o3dep_dollar_value</th>\n",
       "      <th>air_quality_benfits_o3dep_lbs</th>\n",
       "      <th>air_quality_benfits_vocavd_dollar_value</th>\n",
       "      <th>air_quality_benfits_vocavd_lbs</th>\n",
       "      <th>air_quality_benfits_no2dep_dollar_value</th>\n",
       "      <th>air_quality_benfits_no2dep_lbs</th>\n",
       "      <th>air_quality_benfits_no2avd_dollar_value</th>\n",
       "      <th>air_quality_benfits_no2avd_lbs</th>\n",
       "      <th>air_quality_benfits_so2dep_dollar_value</th>\n",
       "      <th>air_quality_benfits_so2dep_lbs</th>\n",
       "      <th>air_quality_benfits_so2avd_dollar_value</th>\n",
       "      <th>air_quality_benfits_so2avd_lbs</th>\n",
       "      <th>air_quality_benfits_pm10depdollar_value</th>\n",
       "      <th>air_quality_benfits_pm10dep_lbs</th>\n",
       "      <th>air_quality_benfits_pm10avd_dollar_value</th>\n",
       "      <th>air_quality_benfits_pm10avd_lbs</th>\n",
       "      <th>air_quality_benfits_total_dollar_value</th>\n",
       "      <th>air_quality_benfits_total_lbs</th>\n",
       "      <th>co2_benefits_dollar_value</th>\n",
       "      <th>co2_benefits_sequestered_lbs</th>\n",
       "      <th>co2_benefits_sequestered_value</th>\n",
       "      <th>co2_benefits_avoided_lbs</th>\n",
       "      <th>co2_benefits_avoided_value</th>\n",
       "      <th>co2_benefits_decomp_lbs</th>\n",
       "      <th>co2_benefits_maint_lbs</th>\n",
       "      <th>co2_benefits_totalco2_lbs</th>\n",
       "      <th>overall_benefits_dollar_value</th>\n",
       "      <th>neighborhood</th>\n",
       "      <th>council_district</th>\n",
       "      <th>ward</th>\n",
       "      <th>tract</th>\n",
       "      <th>public_works_division</th>\n",
       "      <th>pli_division</th>\n",
       "      <th>police_zone</th>\n",
       "      <th>fire_zone</th>\n",
       "      <th>latitude</th>\n",
       "      <th>longitude</th>\n",
       "    </tr>\n",
       "  </thead>\n",
       "  <tbody>\n",
       "    <tr>\n",
       "      <th>0</th>\n",
       "      <td>754166088</td>\n",
       "      <td>7428.0</td>\n",
       "      <td>MONTICELLO ST</td>\n",
       "      <td>Stump</td>\n",
       "      <td>Stump</td>\n",
       "      <td>0.7428040854224698</td>\n",
       "      <td>0.2404828226555246</td>\n",
       "      <td>10.0</td>\n",
       "      <td>2.0</td>\n",
       "      <td>Well or Pit</td>\n",
       "      <td>16.0</td>\n",
       "      <td>1.0</td>\n",
       "      <td>Yes</td>\n",
       "      <td>Vacant</td>\n",
       "      <td>NaN</td>\n",
       "      <td>0.0</td>\n",
       "      <td>0.0</td>\n",
       "      <td>0.0</td>\n",
       "      <td>0.0</td>\n",
       "      <td>0.0</td>\n",
       "      <td>0.0</td>\n",
       "      <td>0.0</td>\n",
       "      <td>0.0</td>\n",
       "      <td>0.0</td>\n",
       "      <td>0.0</td>\n",
       "      <td>0.0</td>\n",
       "      <td>0.0</td>\n",
       "      <td>0.0</td>\n",
       "      <td>0.0</td>\n",
       "      <td>0.0</td>\n",
       "      <td>0.0</td>\n",
       "      <td>0.0</td>\n",
       "      <td>0.0</td>\n",
       "      <td>0.0</td>\n",
       "      <td>0.0</td>\n",
       "      <td>0.0</td>\n",
       "      <td>0.0</td>\n",
       "      <td>0.0</td>\n",
       "      <td>0.0</td>\n",
       "      <td>0.0</td>\n",
       "      <td>0.0</td>\n",
       "      <td>0.0</td>\n",
       "      <td>0.0</td>\n",
       "      <td>0.0</td>\n",
       "      <td>0.0</td>\n",
       "      <td>0.0</td>\n",
       "      <td>0.0</td>\n",
       "      <td>0.0</td>\n",
       "      <td>Homewood North</td>\n",
       "      <td>9.0</td>\n",
       "      <td>13.0</td>\n",
       "      <td>42003130200.0</td>\n",
       "      <td>2.0</td>\n",
       "      <td>13.0</td>\n",
       "      <td>5.0</td>\n",
       "      <td>3-17</td>\n",
       "      <td>40.45816863</td>\n",
       "      <td>-79.88972391</td>\n",
       "    </tr>\n",
       "    <tr>\n",
       "      <th>1</th>\n",
       "      <td>1946899269</td>\n",
       "      <td>220.0</td>\n",
       "      <td>BALVER AVE</td>\n",
       "      <td>Linden: Littleleaf</td>\n",
       "      <td>Tilia cordata</td>\n",
       "      <td>30.952598752598753</td>\n",
       "      <td>8.833264033264033</td>\n",
       "      <td>99.0</td>\n",
       "      <td>99.0</td>\n",
       "      <td>Open or Unrestricted</td>\n",
       "      <td>22.0</td>\n",
       "      <td>1.0116038126813096</td>\n",
       "      <td>No</td>\n",
       "      <td>Residential</td>\n",
       "      <td>NaN</td>\n",
       "      <td>13.9466942599</td>\n",
       "      <td>1743.33678249</td>\n",
       "      <td>21.9848130518</td>\n",
       "      <td>36.5383334693</td>\n",
       "      <td>15.776457219200001</td>\n",
       "      <td>61.0683188097</td>\n",
       "      <td>2.36084749382</td>\n",
       "      <td>0.51434585922</td>\n",
       "      <td>0.07213824704789999</td>\n",
       "      <td>0.031228678375699998</td>\n",
       "      <td>0.992383683567</td>\n",
       "      <td>0.216205595548</td>\n",
       "      <td>3.7023061135300006</td>\n",
       "      <td>0.806602639112</td>\n",
       "      <td>0.27490061234900004</td>\n",
       "      <td>0.078994428836</td>\n",
       "      <td>1.4077237315600002</td>\n",
       "      <td>0.404518313668</td>\n",
       "      <td>2.18532822434</td>\n",
       "      <td>0.26297571893399996</td>\n",
       "      <td>0.461810057269</td>\n",
       "      <td>0.0555728107424</td>\n",
       "      <td>11.457438163399999</td>\n",
       "      <td>2.37044404444</td>\n",
       "      <td>0.944600765534</td>\n",
       "      <td>115.328075315</td>\n",
       "      <td>0.847430697411</td>\n",
       "      <td>277.540792624</td>\n",
       "      <td>2.0393697442</td>\n",
       "      <td>-96.34547132700001</td>\n",
       "      <td>-13.7087961535</td>\n",
       "      <td>282.814600458</td>\n",
       "      <td>125.17832227</td>\n",
       "      <td>Oakwood</td>\n",
       "      <td>2.0</td>\n",
       "      <td>28.0</td>\n",
       "      <td>42003562800.0</td>\n",
       "      <td>5.0</td>\n",
       "      <td>28.0</td>\n",
       "      <td>6.0</td>\n",
       "      <td>1-19</td>\n",
       "      <td>40.42926879</td>\n",
       "      <td>-80.06786821</td>\n",
       "    </tr>\n",
       "    <tr>\n",
       "      <th>2</th>\n",
       "      <td>1431517397</td>\n",
       "      <td>2822.0</td>\n",
       "      <td>SIDNEY ST</td>\n",
       "      <td>Maple: Red</td>\n",
       "      <td>Acer rubrum</td>\n",
       "      <td>22.0</td>\n",
       "      <td>6.0</td>\n",
       "      <td>6.0</td>\n",
       "      <td>3.0</td>\n",
       "      <td>Well or Pit</td>\n",
       "      <td>6.0</td>\n",
       "      <td>1.0</td>\n",
       "      <td>No</td>\n",
       "      <td>Commercial/Industrial</td>\n",
       "      <td>Fair</td>\n",
       "      <td>3.97485820864</td>\n",
       "      <td>496.85727608</td>\n",
       "      <td>51.529092533100005</td>\n",
       "      <td>85.6403537258</td>\n",
       "      <td>3.3888203575599998</td>\n",
       "      <td>16.08474051</td>\n",
       "      <td>0.464026396623</td>\n",
       "      <td>0.10109507551699999</td>\n",
       "      <td>0.017643365156499998</td>\n",
       "      <td>0.00763782041405</td>\n",
       "      <td>0.20039118506499998</td>\n",
       "      <td>0.0436582102539</td>\n",
       "      <td>0.8759662842679999</td>\n",
       "      <td>0.190842327727</td>\n",
       "      <td>0.0587249372819</td>\n",
       "      <td>0.0168749819776</td>\n",
       "      <td>0.302735385882</td>\n",
       "      <td>0.0869929269772</td>\n",
       "      <td>0.444639118191</td>\n",
       "      <td>0.05350651241769999</td>\n",
       "      <td>0.110526048628</td>\n",
       "      <td>0.013300366862600001</td>\n",
       "      <td>2.4746527210900005</td>\n",
       "      <td>0.5139082221469999</td>\n",
       "      <td>0.314951871182</td>\n",
       "      <td>45.2879502377</td>\n",
       "      <td>0.33277585834600004</td>\n",
       "      <td>59.616419265</td>\n",
       "      <td>0.438061448759</td>\n",
       "      <td>-6.86863949566</td>\n",
       "      <td>-3.73876258732</td>\n",
       "      <td>94.2969674194</td>\n",
       "      <td>77.7671162015</td>\n",
       "      <td>South Side Flats</td>\n",
       "      <td>3.0</td>\n",
       "      <td>16.0</td>\n",
       "      <td>42003160900.0</td>\n",
       "      <td>3.0</td>\n",
       "      <td>16.0</td>\n",
       "      <td>3.0</td>\n",
       "      <td>4-24</td>\n",
       "      <td>40.42679667</td>\n",
       "      <td>-79.96503491</td>\n",
       "    </tr>\n",
       "  </tbody>\n",
       "</table>\n",
       "</div>"
      ],
      "text/plain": [
       "           id address_number         street         common_name  \\\n",
       "0   754166088         7428.0  MONTICELLO ST               Stump   \n",
       "1  1946899269          220.0     BALVER AVE  Linden: Littleleaf   \n",
       "2  1431517397         2822.0      SIDNEY ST          Maple: Red   \n",
       "\n",
       "  scientific_name              height               width growth_space_length  \\\n",
       "0           Stump  0.7428040854224698  0.2404828226555246                10.0   \n",
       "1   Tilia cordata  30.952598752598753   8.833264033264033                99.0   \n",
       "2     Acer rubrum                22.0                 6.0                 6.0   \n",
       "\n",
       "  growth_space_width     growth_space_type diameter_base_height  \\\n",
       "0                2.0           Well or Pit                 16.0   \n",
       "1               99.0  Open or Unrestricted                 22.0   \n",
       "2                3.0           Well or Pit                  6.0   \n",
       "\n",
       "                stems overhead_utilities               land_use condition  \\\n",
       "0                 1.0                Yes                 Vacant       NaN   \n",
       "1  1.0116038126813096                 No            Residential       NaN   \n",
       "2                 1.0                 No  Commercial/Industrial      Fair   \n",
       "\n",
       "  stormwater_benefits_dollar_value stormwater_benefits_runoff_elim  \\\n",
       "0                              0.0                             0.0   \n",
       "1                    13.9466942599                   1743.33678249   \n",
       "2                    3.97485820864                    496.85727608   \n",
       "\n",
       "  property_value_benefits_dollarvalue  \\\n",
       "0                                 0.0   \n",
       "1                       21.9848130518   \n",
       "2                  51.529092533100005   \n",
       "\n",
       "  property_value_benefits_leaf_surface_area  \\\n",
       "0                                       0.0   \n",
       "1                             36.5383334693   \n",
       "2                             85.6403537258   \n",
       "\n",
       "  energy_benefits_electricity_dollar_value energy_benefits_gas_dollar_value  \\\n",
       "0                                      0.0                              0.0   \n",
       "1                       15.776457219200001                    61.0683188097   \n",
       "2                       3.3888203575599998                      16.08474051   \n",
       "\n",
       "  air_quality_benfits_o3dep_dollar_value air_quality_benfits_o3dep_lbs  \\\n",
       "0                                    0.0                           0.0   \n",
       "1                          2.36084749382                 0.51434585922   \n",
       "2                         0.464026396623           0.10109507551699999   \n",
       "\n",
       "  air_quality_benfits_vocavd_dollar_value air_quality_benfits_vocavd_lbs  \\\n",
       "0                                     0.0                            0.0   \n",
       "1                     0.07213824704789999           0.031228678375699998   \n",
       "2                    0.017643365156499998               0.00763782041405   \n",
       "\n",
       "  air_quality_benfits_no2dep_dollar_value air_quality_benfits_no2dep_lbs  \\\n",
       "0                                     0.0                            0.0   \n",
       "1                          0.992383683567                 0.216205595548   \n",
       "2                     0.20039118506499998                0.0436582102539   \n",
       "\n",
       "  air_quality_benfits_no2avd_dollar_value air_quality_benfits_no2avd_lbs  \\\n",
       "0                                     0.0                            0.0   \n",
       "1                      3.7023061135300006                 0.806602639112   \n",
       "2                      0.8759662842679999                 0.190842327727   \n",
       "\n",
       "  air_quality_benfits_so2dep_dollar_value air_quality_benfits_so2dep_lbs  \\\n",
       "0                                     0.0                            0.0   \n",
       "1                     0.27490061234900004                 0.078994428836   \n",
       "2                         0.0587249372819                0.0168749819776   \n",
       "\n",
       "  air_quality_benfits_so2avd_dollar_value air_quality_benfits_so2avd_lbs  \\\n",
       "0                                     0.0                            0.0   \n",
       "1                      1.4077237315600002                 0.404518313668   \n",
       "2                          0.302735385882                0.0869929269772   \n",
       "\n",
       "  air_quality_benfits_pm10depdollar_value air_quality_benfits_pm10dep_lbs  \\\n",
       "0                                     0.0                             0.0   \n",
       "1                           2.18532822434             0.26297571893399996   \n",
       "2                          0.444639118191             0.05350651241769999   \n",
       "\n",
       "  air_quality_benfits_pm10avd_dollar_value air_quality_benfits_pm10avd_lbs  \\\n",
       "0                                      0.0                             0.0   \n",
       "1                           0.461810057269                 0.0555728107424   \n",
       "2                           0.110526048628            0.013300366862600001   \n",
       "\n",
       "  air_quality_benfits_total_dollar_value air_quality_benfits_total_lbs  \\\n",
       "0                                    0.0                           0.0   \n",
       "1                     11.457438163399999                 2.37044404444   \n",
       "2                     2.4746527210900005            0.5139082221469999   \n",
       "\n",
       "  co2_benefits_dollar_value co2_benefits_sequestered_lbs  \\\n",
       "0                       0.0                          0.0   \n",
       "1            0.944600765534                115.328075315   \n",
       "2            0.314951871182                45.2879502377   \n",
       "\n",
       "  co2_benefits_sequestered_value co2_benefits_avoided_lbs  \\\n",
       "0                            0.0                      0.0   \n",
       "1                 0.847430697411            277.540792624   \n",
       "2            0.33277585834600004             59.616419265   \n",
       "\n",
       "  co2_benefits_avoided_value co2_benefits_decomp_lbs co2_benefits_maint_lbs  \\\n",
       "0                        0.0                     0.0                    0.0   \n",
       "1               2.0393697442      -96.34547132700001         -13.7087961535   \n",
       "2             0.438061448759          -6.86863949566         -3.73876258732   \n",
       "\n",
       "  co2_benefits_totalco2_lbs overall_benefits_dollar_value      neighborhood  \\\n",
       "0                       0.0                           0.0    Homewood North   \n",
       "1             282.814600458                  125.17832227           Oakwood   \n",
       "2             94.2969674194                 77.7671162015  South Side Flats   \n",
       "\n",
       "  council_district  ward          tract public_works_division pli_division  \\\n",
       "0              9.0  13.0  42003130200.0                   2.0         13.0   \n",
       "1              2.0  28.0  42003562800.0                   5.0         28.0   \n",
       "2              3.0  16.0  42003160900.0                   3.0         16.0   \n",
       "\n",
       "  police_zone fire_zone     latitude     longitude  \n",
       "0         5.0      3-17  40.45816863  -79.88972391  \n",
       "1         6.0      1-19  40.42926879  -80.06786821  \n",
       "2         3.0      4-24  40.42679667  -79.96503491  "
      ]
     },
     "execution_count": 415,
     "metadata": {},
     "output_type": "execute_result"
    }
   ],
   "source": [
    "raw_df_trees.head(3)"
   ]
  },
  {
   "cell_type": "markdown",
   "id": "4b3cd4f7",
   "metadata": {},
   "source": [
    "**Filter out the stums from the dataframe**"
   ]
  },
  {
   "cell_type": "code",
   "execution_count": 416,
   "id": "a9b54d39",
   "metadata": {},
   "outputs": [],
   "source": [
    "df_trees = raw_df_trees[raw_df_trees['common_name'] != 'Stump']"
   ]
  },
  {
   "cell_type": "code",
   "execution_count": 417,
   "id": "d83b9552",
   "metadata": {},
   "outputs": [
    {
     "data": {
      "text/plain": [
       "44266"
      ]
     },
     "execution_count": 417,
     "metadata": {},
     "output_type": "execute_result"
    }
   ],
   "source": [
    "len(df_trees)"
   ]
  },
  {
   "cell_type": "code",
   "execution_count": 418,
   "id": "a15e8fb5",
   "metadata": {},
   "outputs": [
    {
     "data": {
      "text/html": [
       "<div>\n",
       "<style scoped>\n",
       "    .dataframe tbody tr th:only-of-type {\n",
       "        vertical-align: middle;\n",
       "    }\n",
       "\n",
       "    .dataframe tbody tr th {\n",
       "        vertical-align: top;\n",
       "    }\n",
       "\n",
       "    .dataframe thead th {\n",
       "        text-align: right;\n",
       "    }\n",
       "</style>\n",
       "<table border=\"1\" class=\"dataframe\">\n",
       "  <thead>\n",
       "    <tr style=\"text-align: right;\">\n",
       "      <th></th>\n",
       "      <th>id</th>\n",
       "      <th>address_number</th>\n",
       "      <th>street</th>\n",
       "      <th>common_name</th>\n",
       "      <th>scientific_name</th>\n",
       "      <th>height</th>\n",
       "      <th>width</th>\n",
       "      <th>growth_space_length</th>\n",
       "      <th>growth_space_width</th>\n",
       "      <th>growth_space_type</th>\n",
       "      <th>diameter_base_height</th>\n",
       "      <th>stems</th>\n",
       "      <th>overhead_utilities</th>\n",
       "      <th>land_use</th>\n",
       "      <th>condition</th>\n",
       "      <th>stormwater_benefits_dollar_value</th>\n",
       "      <th>stormwater_benefits_runoff_elim</th>\n",
       "      <th>property_value_benefits_dollarvalue</th>\n",
       "      <th>property_value_benefits_leaf_surface_area</th>\n",
       "      <th>energy_benefits_electricity_dollar_value</th>\n",
       "      <th>energy_benefits_gas_dollar_value</th>\n",
       "      <th>air_quality_benfits_o3dep_dollar_value</th>\n",
       "      <th>air_quality_benfits_o3dep_lbs</th>\n",
       "      <th>air_quality_benfits_vocavd_dollar_value</th>\n",
       "      <th>air_quality_benfits_vocavd_lbs</th>\n",
       "      <th>air_quality_benfits_no2dep_dollar_value</th>\n",
       "      <th>air_quality_benfits_no2dep_lbs</th>\n",
       "      <th>air_quality_benfits_no2avd_dollar_value</th>\n",
       "      <th>air_quality_benfits_no2avd_lbs</th>\n",
       "      <th>air_quality_benfits_so2dep_dollar_value</th>\n",
       "      <th>air_quality_benfits_so2dep_lbs</th>\n",
       "      <th>air_quality_benfits_so2avd_dollar_value</th>\n",
       "      <th>air_quality_benfits_so2avd_lbs</th>\n",
       "      <th>air_quality_benfits_pm10depdollar_value</th>\n",
       "      <th>air_quality_benfits_pm10dep_lbs</th>\n",
       "      <th>air_quality_benfits_pm10avd_dollar_value</th>\n",
       "      <th>air_quality_benfits_pm10avd_lbs</th>\n",
       "      <th>air_quality_benfits_total_dollar_value</th>\n",
       "      <th>air_quality_benfits_total_lbs</th>\n",
       "      <th>co2_benefits_dollar_value</th>\n",
       "      <th>co2_benefits_sequestered_lbs</th>\n",
       "      <th>co2_benefits_sequestered_value</th>\n",
       "      <th>co2_benefits_avoided_lbs</th>\n",
       "      <th>co2_benefits_avoided_value</th>\n",
       "      <th>co2_benefits_decomp_lbs</th>\n",
       "      <th>co2_benefits_maint_lbs</th>\n",
       "      <th>co2_benefits_totalco2_lbs</th>\n",
       "      <th>overall_benefits_dollar_value</th>\n",
       "      <th>neighborhood</th>\n",
       "      <th>council_district</th>\n",
       "      <th>ward</th>\n",
       "      <th>tract</th>\n",
       "      <th>public_works_division</th>\n",
       "      <th>pli_division</th>\n",
       "      <th>police_zone</th>\n",
       "      <th>fire_zone</th>\n",
       "      <th>latitude</th>\n",
       "      <th>longitude</th>\n",
       "    </tr>\n",
       "  </thead>\n",
       "  <tbody>\n",
       "    <tr>\n",
       "      <th>1</th>\n",
       "      <td>1946899269</td>\n",
       "      <td>220.0</td>\n",
       "      <td>BALVER AVE</td>\n",
       "      <td>Linden: Littleleaf</td>\n",
       "      <td>Tilia cordata</td>\n",
       "      <td>30.952598752598753</td>\n",
       "      <td>8.833264033264033</td>\n",
       "      <td>99.0</td>\n",
       "      <td>99.0</td>\n",
       "      <td>Open or Unrestricted</td>\n",
       "      <td>22.0</td>\n",
       "      <td>1.0116038126813096</td>\n",
       "      <td>No</td>\n",
       "      <td>Residential</td>\n",
       "      <td>NaN</td>\n",
       "      <td>13.9466942599</td>\n",
       "      <td>1743.33678249</td>\n",
       "      <td>21.9848130518</td>\n",
       "      <td>36.5383334693</td>\n",
       "      <td>15.776457219200001</td>\n",
       "      <td>61.0683188097</td>\n",
       "      <td>2.36084749382</td>\n",
       "      <td>0.51434585922</td>\n",
       "      <td>0.07213824704789999</td>\n",
       "      <td>0.031228678375699998</td>\n",
       "      <td>0.992383683567</td>\n",
       "      <td>0.216205595548</td>\n",
       "      <td>3.7023061135300006</td>\n",
       "      <td>0.806602639112</td>\n",
       "      <td>0.27490061234900004</td>\n",
       "      <td>0.078994428836</td>\n",
       "      <td>1.4077237315600002</td>\n",
       "      <td>0.404518313668</td>\n",
       "      <td>2.18532822434</td>\n",
       "      <td>0.26297571893399996</td>\n",
       "      <td>0.461810057269</td>\n",
       "      <td>0.0555728107424</td>\n",
       "      <td>11.457438163399999</td>\n",
       "      <td>2.37044404444</td>\n",
       "      <td>0.944600765534</td>\n",
       "      <td>115.328075315</td>\n",
       "      <td>0.847430697411</td>\n",
       "      <td>277.540792624</td>\n",
       "      <td>2.0393697442</td>\n",
       "      <td>-96.34547132700001</td>\n",
       "      <td>-13.7087961535</td>\n",
       "      <td>282.814600458</td>\n",
       "      <td>125.17832227</td>\n",
       "      <td>Oakwood</td>\n",
       "      <td>2.0</td>\n",
       "      <td>28.0</td>\n",
       "      <td>42003562800.0</td>\n",
       "      <td>5.0</td>\n",
       "      <td>28.0</td>\n",
       "      <td>6.0</td>\n",
       "      <td>1-19</td>\n",
       "      <td>40.42926879</td>\n",
       "      <td>-80.06786821</td>\n",
       "    </tr>\n",
       "    <tr>\n",
       "      <th>2</th>\n",
       "      <td>1431517397</td>\n",
       "      <td>2822.0</td>\n",
       "      <td>SIDNEY ST</td>\n",
       "      <td>Maple: Red</td>\n",
       "      <td>Acer rubrum</td>\n",
       "      <td>22.0</td>\n",
       "      <td>6.0</td>\n",
       "      <td>6.0</td>\n",
       "      <td>3.0</td>\n",
       "      <td>Well or Pit</td>\n",
       "      <td>6.0</td>\n",
       "      <td>1.0</td>\n",
       "      <td>No</td>\n",
       "      <td>Commercial/Industrial</td>\n",
       "      <td>Fair</td>\n",
       "      <td>3.97485820864</td>\n",
       "      <td>496.85727608</td>\n",
       "      <td>51.529092533100005</td>\n",
       "      <td>85.6403537258</td>\n",
       "      <td>3.3888203575599998</td>\n",
       "      <td>16.08474051</td>\n",
       "      <td>0.464026396623</td>\n",
       "      <td>0.10109507551699999</td>\n",
       "      <td>0.017643365156499998</td>\n",
       "      <td>0.00763782041405</td>\n",
       "      <td>0.20039118506499998</td>\n",
       "      <td>0.0436582102539</td>\n",
       "      <td>0.8759662842679999</td>\n",
       "      <td>0.190842327727</td>\n",
       "      <td>0.0587249372819</td>\n",
       "      <td>0.0168749819776</td>\n",
       "      <td>0.302735385882</td>\n",
       "      <td>0.0869929269772</td>\n",
       "      <td>0.444639118191</td>\n",
       "      <td>0.05350651241769999</td>\n",
       "      <td>0.110526048628</td>\n",
       "      <td>0.013300366862600001</td>\n",
       "      <td>2.4746527210900005</td>\n",
       "      <td>0.5139082221469999</td>\n",
       "      <td>0.314951871182</td>\n",
       "      <td>45.2879502377</td>\n",
       "      <td>0.33277585834600004</td>\n",
       "      <td>59.616419265</td>\n",
       "      <td>0.438061448759</td>\n",
       "      <td>-6.86863949566</td>\n",
       "      <td>-3.73876258732</td>\n",
       "      <td>94.2969674194</td>\n",
       "      <td>77.7671162015</td>\n",
       "      <td>South Side Flats</td>\n",
       "      <td>3.0</td>\n",
       "      <td>16.0</td>\n",
       "      <td>42003160900.0</td>\n",
       "      <td>3.0</td>\n",
       "      <td>16.0</td>\n",
       "      <td>3.0</td>\n",
       "      <td>4-24</td>\n",
       "      <td>40.42679667</td>\n",
       "      <td>-79.96503491</td>\n",
       "    </tr>\n",
       "    <tr>\n",
       "      <th>3</th>\n",
       "      <td>994063598</td>\n",
       "      <td>608.0</td>\n",
       "      <td>SUISMON ST</td>\n",
       "      <td>Maple: Freeman</td>\n",
       "      <td>Acer x freemanii</td>\n",
       "      <td>25.0</td>\n",
       "      <td>10.0</td>\n",
       "      <td>3.0</td>\n",
       "      <td>3.0</td>\n",
       "      <td>Well or Pit</td>\n",
       "      <td>7.0</td>\n",
       "      <td>1.0</td>\n",
       "      <td>Conflicting</td>\n",
       "      <td>Residential</td>\n",
       "      <td>Fair</td>\n",
       "      <td>4.77566237175</td>\n",
       "      <td>596.957796467</td>\n",
       "      <td>43.1845240318</td>\n",
       "      <td>71.7718425022</td>\n",
       "      <td>5.3962179528</td>\n",
       "      <td>24.220928722800004</td>\n",
       "      <td>0.742734848787</td>\n",
       "      <td>0.161815871195</td>\n",
       "      <td>0.027087080466999997</td>\n",
       "      <td>0.0117260088601</td>\n",
       "      <td>0.312209046574</td>\n",
       "      <td>0.0680194001252</td>\n",
       "      <td>1.35699869677</td>\n",
       "      <td>0.295642417598</td>\n",
       "      <td>0.0864851564018</td>\n",
       "      <td>0.024852056437400002</td>\n",
       "      <td>0.481897783617</td>\n",
       "      <td>0.13847637460200002</td>\n",
       "      <td>0.6875155775640001</td>\n",
       "      <td>0.08273352317260001</td>\n",
       "      <td>0.17068357443</td>\n",
       "      <td>0.020539539642599997</td>\n",
       "      <td>3.8656117646199997</td>\n",
       "      <td>0.803805191634</td>\n",
       "      <td>0.39531443276699996</td>\n",
       "      <td>33.5649564029</td>\n",
       "      <td>0.246635299649</td>\n",
       "      <td>94.9307304536</td>\n",
       "      <td>0.6975510073729999</td>\n",
       "      <td>-5.77618257091</td>\n",
       "      <td>-4.3618896851999995</td>\n",
       "      <td>118.35761460100001</td>\n",
       "      <td>81.8382592766</td>\n",
       "      <td>East Allegheny</td>\n",
       "      <td>1.0</td>\n",
       "      <td>23.0</td>\n",
       "      <td>42003563200.0</td>\n",
       "      <td>1.0</td>\n",
       "      <td>23.0</td>\n",
       "      <td>1.0</td>\n",
       "      <td>1-6</td>\n",
       "      <td>40.45550338</td>\n",
       "      <td>-79.99927602</td>\n",
       "    </tr>\n",
       "  </tbody>\n",
       "</table>\n",
       "</div>"
      ],
      "text/plain": [
       "           id address_number      street         common_name  \\\n",
       "1  1946899269          220.0  BALVER AVE  Linden: Littleleaf   \n",
       "2  1431517397         2822.0   SIDNEY ST          Maple: Red   \n",
       "3   994063598          608.0  SUISMON ST      Maple: Freeman   \n",
       "\n",
       "    scientific_name              height              width  \\\n",
       "1     Tilia cordata  30.952598752598753  8.833264033264033   \n",
       "2       Acer rubrum                22.0                6.0   \n",
       "3  Acer x freemanii                25.0               10.0   \n",
       "\n",
       "  growth_space_length growth_space_width     growth_space_type  \\\n",
       "1                99.0               99.0  Open or Unrestricted   \n",
       "2                 6.0                3.0           Well or Pit   \n",
       "3                 3.0                3.0           Well or Pit   \n",
       "\n",
       "  diameter_base_height               stems overhead_utilities  \\\n",
       "1                 22.0  1.0116038126813096                 No   \n",
       "2                  6.0                 1.0                 No   \n",
       "3                  7.0                 1.0        Conflicting   \n",
       "\n",
       "                land_use condition stormwater_benefits_dollar_value  \\\n",
       "1            Residential       NaN                    13.9466942599   \n",
       "2  Commercial/Industrial      Fair                    3.97485820864   \n",
       "3            Residential      Fair                    4.77566237175   \n",
       "\n",
       "  stormwater_benefits_runoff_elim property_value_benefits_dollarvalue  \\\n",
       "1                   1743.33678249                       21.9848130518   \n",
       "2                    496.85727608                  51.529092533100005   \n",
       "3                   596.957796467                       43.1845240318   \n",
       "\n",
       "  property_value_benefits_leaf_surface_area  \\\n",
       "1                             36.5383334693   \n",
       "2                             85.6403537258   \n",
       "3                             71.7718425022   \n",
       "\n",
       "  energy_benefits_electricity_dollar_value energy_benefits_gas_dollar_value  \\\n",
       "1                       15.776457219200001                    61.0683188097   \n",
       "2                       3.3888203575599998                      16.08474051   \n",
       "3                             5.3962179528               24.220928722800004   \n",
       "\n",
       "  air_quality_benfits_o3dep_dollar_value air_quality_benfits_o3dep_lbs  \\\n",
       "1                          2.36084749382                 0.51434585922   \n",
       "2                         0.464026396623           0.10109507551699999   \n",
       "3                         0.742734848787                0.161815871195   \n",
       "\n",
       "  air_quality_benfits_vocavd_dollar_value air_quality_benfits_vocavd_lbs  \\\n",
       "1                     0.07213824704789999           0.031228678375699998   \n",
       "2                    0.017643365156499998               0.00763782041405   \n",
       "3                    0.027087080466999997                0.0117260088601   \n",
       "\n",
       "  air_quality_benfits_no2dep_dollar_value air_quality_benfits_no2dep_lbs  \\\n",
       "1                          0.992383683567                 0.216205595548   \n",
       "2                     0.20039118506499998                0.0436582102539   \n",
       "3                          0.312209046574                0.0680194001252   \n",
       "\n",
       "  air_quality_benfits_no2avd_dollar_value air_quality_benfits_no2avd_lbs  \\\n",
       "1                      3.7023061135300006                 0.806602639112   \n",
       "2                      0.8759662842679999                 0.190842327727   \n",
       "3                           1.35699869677                 0.295642417598   \n",
       "\n",
       "  air_quality_benfits_so2dep_dollar_value air_quality_benfits_so2dep_lbs  \\\n",
       "1                     0.27490061234900004                 0.078994428836   \n",
       "2                         0.0587249372819                0.0168749819776   \n",
       "3                         0.0864851564018           0.024852056437400002   \n",
       "\n",
       "  air_quality_benfits_so2avd_dollar_value air_quality_benfits_so2avd_lbs  \\\n",
       "1                      1.4077237315600002                 0.404518313668   \n",
       "2                          0.302735385882                0.0869929269772   \n",
       "3                          0.481897783617            0.13847637460200002   \n",
       "\n",
       "  air_quality_benfits_pm10depdollar_value air_quality_benfits_pm10dep_lbs  \\\n",
       "1                           2.18532822434             0.26297571893399996   \n",
       "2                          0.444639118191             0.05350651241769999   \n",
       "3                      0.6875155775640001             0.08273352317260001   \n",
       "\n",
       "  air_quality_benfits_pm10avd_dollar_value air_quality_benfits_pm10avd_lbs  \\\n",
       "1                           0.461810057269                 0.0555728107424   \n",
       "2                           0.110526048628            0.013300366862600001   \n",
       "3                            0.17068357443            0.020539539642599997   \n",
       "\n",
       "  air_quality_benfits_total_dollar_value air_quality_benfits_total_lbs  \\\n",
       "1                     11.457438163399999                 2.37044404444   \n",
       "2                     2.4746527210900005            0.5139082221469999   \n",
       "3                     3.8656117646199997                0.803805191634   \n",
       "\n",
       "  co2_benefits_dollar_value co2_benefits_sequestered_lbs  \\\n",
       "1            0.944600765534                115.328075315   \n",
       "2            0.314951871182                45.2879502377   \n",
       "3       0.39531443276699996                33.5649564029   \n",
       "\n",
       "  co2_benefits_sequestered_value co2_benefits_avoided_lbs  \\\n",
       "1                 0.847430697411            277.540792624   \n",
       "2            0.33277585834600004             59.616419265   \n",
       "3                 0.246635299649            94.9307304536   \n",
       "\n",
       "  co2_benefits_avoided_value co2_benefits_decomp_lbs co2_benefits_maint_lbs  \\\n",
       "1               2.0393697442      -96.34547132700001         -13.7087961535   \n",
       "2             0.438061448759          -6.86863949566         -3.73876258732   \n",
       "3         0.6975510073729999          -5.77618257091    -4.3618896851999995   \n",
       "\n",
       "  co2_benefits_totalco2_lbs overall_benefits_dollar_value      neighborhood  \\\n",
       "1             282.814600458                  125.17832227           Oakwood   \n",
       "2             94.2969674194                 77.7671162015  South Side Flats   \n",
       "3        118.35761460100001                 81.8382592766    East Allegheny   \n",
       "\n",
       "  council_district  ward          tract public_works_division pli_division  \\\n",
       "1              2.0  28.0  42003562800.0                   5.0         28.0   \n",
       "2              3.0  16.0  42003160900.0                   3.0         16.0   \n",
       "3              1.0  23.0  42003563200.0                   1.0         23.0   \n",
       "\n",
       "  police_zone fire_zone     latitude     longitude  \n",
       "1         6.0      1-19  40.42926879  -80.06786821  \n",
       "2         3.0      4-24  40.42679667  -79.96503491  \n",
       "3         1.0       1-6  40.45550338  -79.99927602  "
      ]
     },
     "execution_count": 418,
     "metadata": {},
     "output_type": "execute_result"
    }
   ],
   "source": [
    "df_trees.head(3)"
   ]
  },
  {
   "cell_type": "code",
   "execution_count": 419,
   "id": "df83a20c",
   "metadata": {},
   "outputs": [
    {
     "data": {
      "text/plain": [
       "id                                           object\n",
       "address_number                               object\n",
       "street                                       object\n",
       "common_name                                  object\n",
       "scientific_name                              object\n",
       "height                                       object\n",
       "width                                        object\n",
       "growth_space_length                          object\n",
       "growth_space_width                           object\n",
       "growth_space_type                            object\n",
       "diameter_base_height                         object\n",
       "stems                                        object\n",
       "overhead_utilities                           object\n",
       "land_use                                     object\n",
       "condition                                    object\n",
       "stormwater_benefits_dollar_value             object\n",
       "stormwater_benefits_runoff_elim              object\n",
       "property_value_benefits_dollarvalue          object\n",
       "property_value_benefits_leaf_surface_area    object\n",
       "energy_benefits_electricity_dollar_value     object\n",
       "energy_benefits_gas_dollar_value             object\n",
       "air_quality_benfits_o3dep_dollar_value       object\n",
       "air_quality_benfits_o3dep_lbs                object\n",
       "air_quality_benfits_vocavd_dollar_value      object\n",
       "air_quality_benfits_vocavd_lbs               object\n",
       "air_quality_benfits_no2dep_dollar_value      object\n",
       "air_quality_benfits_no2dep_lbs               object\n",
       "air_quality_benfits_no2avd_dollar_value      object\n",
       "air_quality_benfits_no2avd_lbs               object\n",
       "air_quality_benfits_so2dep_dollar_value      object\n",
       "air_quality_benfits_so2dep_lbs               object\n",
       "air_quality_benfits_so2avd_dollar_value      object\n",
       "air_quality_benfits_so2avd_lbs               object\n",
       "air_quality_benfits_pm10depdollar_value      object\n",
       "air_quality_benfits_pm10dep_lbs              object\n",
       "air_quality_benfits_pm10avd_dollar_value     object\n",
       "air_quality_benfits_pm10avd_lbs              object\n",
       "air_quality_benfits_total_dollar_value       object\n",
       "air_quality_benfits_total_lbs                object\n",
       "co2_benefits_dollar_value                    object\n",
       "co2_benefits_sequestered_lbs                 object\n",
       "co2_benefits_sequestered_value               object\n",
       "co2_benefits_avoided_lbs                     object\n",
       "co2_benefits_avoided_value                   object\n",
       "co2_benefits_decomp_lbs                      object\n",
       "co2_benefits_maint_lbs                       object\n",
       "co2_benefits_totalco2_lbs                    object\n",
       "overall_benefits_dollar_value                object\n",
       "neighborhood                                 object\n",
       "council_district                             object\n",
       "ward                                         object\n",
       "tract                                        object\n",
       "public_works_division                        object\n",
       "pli_division                                 object\n",
       "police_zone                                  object\n",
       "fire_zone                                    object\n",
       "latitude                                     object\n",
       "longitude                                    object\n",
       "dtype: object"
      ]
     },
     "execution_count": 419,
     "metadata": {},
     "output_type": "execute_result"
    }
   ],
   "source": [
    "df_trees.dtypes"
   ]
  },
  {
   "cell_type": "code",
   "execution_count": 420,
   "id": "67ef2cd7",
   "metadata": {},
   "outputs": [
    {
     "data": {
      "text/plain": [
       "Index(['id', 'address_number', 'street', 'common_name', 'scientific_name',\n",
       "       'height', 'width', 'growth_space_length', 'growth_space_width',\n",
       "       'growth_space_type', 'diameter_base_height', 'stems',\n",
       "       'overhead_utilities', 'land_use', 'condition',\n",
       "       'stormwater_benefits_dollar_value', 'stormwater_benefits_runoff_elim',\n",
       "       'property_value_benefits_dollarvalue',\n",
       "       'property_value_benefits_leaf_surface_area',\n",
       "       'energy_benefits_electricity_dollar_value',\n",
       "       'energy_benefits_gas_dollar_value',\n",
       "       'air_quality_benfits_o3dep_dollar_value',\n",
       "       'air_quality_benfits_o3dep_lbs',\n",
       "       'air_quality_benfits_vocavd_dollar_value',\n",
       "       'air_quality_benfits_vocavd_lbs',\n",
       "       'air_quality_benfits_no2dep_dollar_value',\n",
       "       'air_quality_benfits_no2dep_lbs',\n",
       "       'air_quality_benfits_no2avd_dollar_value',\n",
       "       'air_quality_benfits_no2avd_lbs',\n",
       "       'air_quality_benfits_so2dep_dollar_value',\n",
       "       'air_quality_benfits_so2dep_lbs',\n",
       "       'air_quality_benfits_so2avd_dollar_value',\n",
       "       'air_quality_benfits_so2avd_lbs',\n",
       "       'air_quality_benfits_pm10depdollar_value',\n",
       "       'air_quality_benfits_pm10dep_lbs',\n",
       "       'air_quality_benfits_pm10avd_dollar_value',\n",
       "       'air_quality_benfits_pm10avd_lbs',\n",
       "       'air_quality_benfits_total_dollar_value',\n",
       "       'air_quality_benfits_total_lbs', 'co2_benefits_dollar_value',\n",
       "       'co2_benefits_sequestered_lbs', 'co2_benefits_sequestered_value',\n",
       "       'co2_benefits_avoided_lbs', 'co2_benefits_avoided_value',\n",
       "       'co2_benefits_decomp_lbs', 'co2_benefits_maint_lbs',\n",
       "       'co2_benefits_totalco2_lbs', 'overall_benefits_dollar_value',\n",
       "       'neighborhood', 'council_district', 'ward', 'tract',\n",
       "       'public_works_division', 'pli_division', 'police_zone', 'fire_zone',\n",
       "       'latitude', 'longitude'],\n",
       "      dtype='object')"
      ]
     },
     "execution_count": 420,
     "metadata": {},
     "output_type": "execute_result"
    }
   ],
   "source": [
    "df_trees.columns"
   ]
  },
  {
   "cell_type": "code",
   "execution_count": 421,
   "id": "a00da2ad",
   "metadata": {},
   "outputs": [
    {
     "name": "stderr",
     "output_type": "stream",
     "text": [
      "<ipython-input-421-e519238d5fd1>:1: SettingWithCopyWarning:\n",
      "\n",
      "\n",
      "A value is trying to be set on a copy of a slice from a DataFrame.\n",
      "Try using .loc[row_indexer,col_indexer] = value instead\n",
      "\n",
      "See the caveats in the documentation: https://pandas.pydata.org/pandas-docs/stable/user_guide/indexing.html#returning-a-view-versus-a-copy\n",
      "\n"
     ]
    }
   ],
   "source": [
    "df_trees['tree_count'] = pd.Series([1 for x in range(len(df_trees.index))])"
   ]
  },
  {
   "cell_type": "code",
   "execution_count": 422,
   "id": "fcc57a5c",
   "metadata": {},
   "outputs": [
    {
     "data": {
      "text/html": [
       "<div>\n",
       "<style scoped>\n",
       "    .dataframe tbody tr th:only-of-type {\n",
       "        vertical-align: middle;\n",
       "    }\n",
       "\n",
       "    .dataframe tbody tr th {\n",
       "        vertical-align: top;\n",
       "    }\n",
       "\n",
       "    .dataframe thead th {\n",
       "        text-align: right;\n",
       "    }\n",
       "</style>\n",
       "<table border=\"1\" class=\"dataframe\">\n",
       "  <thead>\n",
       "    <tr style=\"text-align: right;\">\n",
       "      <th></th>\n",
       "      <th>id</th>\n",
       "      <th>address_number</th>\n",
       "      <th>street</th>\n",
       "      <th>common_name</th>\n",
       "      <th>scientific_name</th>\n",
       "      <th>height</th>\n",
       "      <th>width</th>\n",
       "      <th>growth_space_length</th>\n",
       "      <th>growth_space_width</th>\n",
       "      <th>growth_space_type</th>\n",
       "      <th>diameter_base_height</th>\n",
       "      <th>stems</th>\n",
       "      <th>overhead_utilities</th>\n",
       "      <th>land_use</th>\n",
       "      <th>condition</th>\n",
       "      <th>stormwater_benefits_dollar_value</th>\n",
       "      <th>stormwater_benefits_runoff_elim</th>\n",
       "      <th>property_value_benefits_dollarvalue</th>\n",
       "      <th>property_value_benefits_leaf_surface_area</th>\n",
       "      <th>energy_benefits_electricity_dollar_value</th>\n",
       "      <th>energy_benefits_gas_dollar_value</th>\n",
       "      <th>air_quality_benfits_o3dep_dollar_value</th>\n",
       "      <th>air_quality_benfits_o3dep_lbs</th>\n",
       "      <th>air_quality_benfits_vocavd_dollar_value</th>\n",
       "      <th>air_quality_benfits_vocavd_lbs</th>\n",
       "      <th>air_quality_benfits_no2dep_dollar_value</th>\n",
       "      <th>air_quality_benfits_no2dep_lbs</th>\n",
       "      <th>air_quality_benfits_no2avd_dollar_value</th>\n",
       "      <th>air_quality_benfits_no2avd_lbs</th>\n",
       "      <th>air_quality_benfits_so2dep_dollar_value</th>\n",
       "      <th>air_quality_benfits_so2dep_lbs</th>\n",
       "      <th>air_quality_benfits_so2avd_dollar_value</th>\n",
       "      <th>air_quality_benfits_so2avd_lbs</th>\n",
       "      <th>air_quality_benfits_pm10depdollar_value</th>\n",
       "      <th>air_quality_benfits_pm10dep_lbs</th>\n",
       "      <th>air_quality_benfits_pm10avd_dollar_value</th>\n",
       "      <th>air_quality_benfits_pm10avd_lbs</th>\n",
       "      <th>air_quality_benfits_total_dollar_value</th>\n",
       "      <th>air_quality_benfits_total_lbs</th>\n",
       "      <th>co2_benefits_dollar_value</th>\n",
       "      <th>co2_benefits_sequestered_lbs</th>\n",
       "      <th>co2_benefits_sequestered_value</th>\n",
       "      <th>co2_benefits_avoided_lbs</th>\n",
       "      <th>co2_benefits_avoided_value</th>\n",
       "      <th>co2_benefits_decomp_lbs</th>\n",
       "      <th>co2_benefits_maint_lbs</th>\n",
       "      <th>co2_benefits_totalco2_lbs</th>\n",
       "      <th>overall_benefits_dollar_value</th>\n",
       "      <th>neighborhood</th>\n",
       "      <th>council_district</th>\n",
       "      <th>ward</th>\n",
       "      <th>tract</th>\n",
       "      <th>public_works_division</th>\n",
       "      <th>pli_division</th>\n",
       "      <th>police_zone</th>\n",
       "      <th>fire_zone</th>\n",
       "      <th>latitude</th>\n",
       "      <th>longitude</th>\n",
       "      <th>tree_count</th>\n",
       "    </tr>\n",
       "  </thead>\n",
       "  <tbody>\n",
       "    <tr>\n",
       "      <th>1</th>\n",
       "      <td>1946899269</td>\n",
       "      <td>220.0</td>\n",
       "      <td>BALVER AVE</td>\n",
       "      <td>Linden: Littleleaf</td>\n",
       "      <td>Tilia cordata</td>\n",
       "      <td>30.952598752598753</td>\n",
       "      <td>8.833264033264033</td>\n",
       "      <td>99.0</td>\n",
       "      <td>99.0</td>\n",
       "      <td>Open or Unrestricted</td>\n",
       "      <td>22.0</td>\n",
       "      <td>1.0116038126813096</td>\n",
       "      <td>No</td>\n",
       "      <td>Residential</td>\n",
       "      <td>NaN</td>\n",
       "      <td>13.9466942599</td>\n",
       "      <td>1743.33678249</td>\n",
       "      <td>21.9848130518</td>\n",
       "      <td>36.5383334693</td>\n",
       "      <td>15.776457219200001</td>\n",
       "      <td>61.0683188097</td>\n",
       "      <td>2.36084749382</td>\n",
       "      <td>0.51434585922</td>\n",
       "      <td>0.07213824704789999</td>\n",
       "      <td>0.031228678375699998</td>\n",
       "      <td>0.992383683567</td>\n",
       "      <td>0.216205595548</td>\n",
       "      <td>3.7023061135300006</td>\n",
       "      <td>0.806602639112</td>\n",
       "      <td>0.27490061234900004</td>\n",
       "      <td>0.078994428836</td>\n",
       "      <td>1.4077237315600002</td>\n",
       "      <td>0.404518313668</td>\n",
       "      <td>2.18532822434</td>\n",
       "      <td>0.26297571893399996</td>\n",
       "      <td>0.461810057269</td>\n",
       "      <td>0.0555728107424</td>\n",
       "      <td>11.457438163399999</td>\n",
       "      <td>2.37044404444</td>\n",
       "      <td>0.944600765534</td>\n",
       "      <td>115.328075315</td>\n",
       "      <td>0.847430697411</td>\n",
       "      <td>277.540792624</td>\n",
       "      <td>2.0393697442</td>\n",
       "      <td>-96.34547132700001</td>\n",
       "      <td>-13.7087961535</td>\n",
       "      <td>282.814600458</td>\n",
       "      <td>125.17832227</td>\n",
       "      <td>Oakwood</td>\n",
       "      <td>2.0</td>\n",
       "      <td>28.0</td>\n",
       "      <td>42003562800.0</td>\n",
       "      <td>5.0</td>\n",
       "      <td>28.0</td>\n",
       "      <td>6.0</td>\n",
       "      <td>1-19</td>\n",
       "      <td>40.42926879</td>\n",
       "      <td>-80.06786821</td>\n",
       "      <td>1.0</td>\n",
       "    </tr>\n",
       "    <tr>\n",
       "      <th>2</th>\n",
       "      <td>1431517397</td>\n",
       "      <td>2822.0</td>\n",
       "      <td>SIDNEY ST</td>\n",
       "      <td>Maple: Red</td>\n",
       "      <td>Acer rubrum</td>\n",
       "      <td>22.0</td>\n",
       "      <td>6.0</td>\n",
       "      <td>6.0</td>\n",
       "      <td>3.0</td>\n",
       "      <td>Well or Pit</td>\n",
       "      <td>6.0</td>\n",
       "      <td>1.0</td>\n",
       "      <td>No</td>\n",
       "      <td>Commercial/Industrial</td>\n",
       "      <td>Fair</td>\n",
       "      <td>3.97485820864</td>\n",
       "      <td>496.85727608</td>\n",
       "      <td>51.529092533100005</td>\n",
       "      <td>85.6403537258</td>\n",
       "      <td>3.3888203575599998</td>\n",
       "      <td>16.08474051</td>\n",
       "      <td>0.464026396623</td>\n",
       "      <td>0.10109507551699999</td>\n",
       "      <td>0.017643365156499998</td>\n",
       "      <td>0.00763782041405</td>\n",
       "      <td>0.20039118506499998</td>\n",
       "      <td>0.0436582102539</td>\n",
       "      <td>0.8759662842679999</td>\n",
       "      <td>0.190842327727</td>\n",
       "      <td>0.0587249372819</td>\n",
       "      <td>0.0168749819776</td>\n",
       "      <td>0.302735385882</td>\n",
       "      <td>0.0869929269772</td>\n",
       "      <td>0.444639118191</td>\n",
       "      <td>0.05350651241769999</td>\n",
       "      <td>0.110526048628</td>\n",
       "      <td>0.013300366862600001</td>\n",
       "      <td>2.4746527210900005</td>\n",
       "      <td>0.5139082221469999</td>\n",
       "      <td>0.314951871182</td>\n",
       "      <td>45.2879502377</td>\n",
       "      <td>0.33277585834600004</td>\n",
       "      <td>59.616419265</td>\n",
       "      <td>0.438061448759</td>\n",
       "      <td>-6.86863949566</td>\n",
       "      <td>-3.73876258732</td>\n",
       "      <td>94.2969674194</td>\n",
       "      <td>77.7671162015</td>\n",
       "      <td>South Side Flats</td>\n",
       "      <td>3.0</td>\n",
       "      <td>16.0</td>\n",
       "      <td>42003160900.0</td>\n",
       "      <td>3.0</td>\n",
       "      <td>16.0</td>\n",
       "      <td>3.0</td>\n",
       "      <td>4-24</td>\n",
       "      <td>40.42679667</td>\n",
       "      <td>-79.96503491</td>\n",
       "      <td>1.0</td>\n",
       "    </tr>\n",
       "    <tr>\n",
       "      <th>3</th>\n",
       "      <td>994063598</td>\n",
       "      <td>608.0</td>\n",
       "      <td>SUISMON ST</td>\n",
       "      <td>Maple: Freeman</td>\n",
       "      <td>Acer x freemanii</td>\n",
       "      <td>25.0</td>\n",
       "      <td>10.0</td>\n",
       "      <td>3.0</td>\n",
       "      <td>3.0</td>\n",
       "      <td>Well or Pit</td>\n",
       "      <td>7.0</td>\n",
       "      <td>1.0</td>\n",
       "      <td>Conflicting</td>\n",
       "      <td>Residential</td>\n",
       "      <td>Fair</td>\n",
       "      <td>4.77566237175</td>\n",
       "      <td>596.957796467</td>\n",
       "      <td>43.1845240318</td>\n",
       "      <td>71.7718425022</td>\n",
       "      <td>5.3962179528</td>\n",
       "      <td>24.220928722800004</td>\n",
       "      <td>0.742734848787</td>\n",
       "      <td>0.161815871195</td>\n",
       "      <td>0.027087080466999997</td>\n",
       "      <td>0.0117260088601</td>\n",
       "      <td>0.312209046574</td>\n",
       "      <td>0.0680194001252</td>\n",
       "      <td>1.35699869677</td>\n",
       "      <td>0.295642417598</td>\n",
       "      <td>0.0864851564018</td>\n",
       "      <td>0.024852056437400002</td>\n",
       "      <td>0.481897783617</td>\n",
       "      <td>0.13847637460200002</td>\n",
       "      <td>0.6875155775640001</td>\n",
       "      <td>0.08273352317260001</td>\n",
       "      <td>0.17068357443</td>\n",
       "      <td>0.020539539642599997</td>\n",
       "      <td>3.8656117646199997</td>\n",
       "      <td>0.803805191634</td>\n",
       "      <td>0.39531443276699996</td>\n",
       "      <td>33.5649564029</td>\n",
       "      <td>0.246635299649</td>\n",
       "      <td>94.9307304536</td>\n",
       "      <td>0.6975510073729999</td>\n",
       "      <td>-5.77618257091</td>\n",
       "      <td>-4.3618896851999995</td>\n",
       "      <td>118.35761460100001</td>\n",
       "      <td>81.8382592766</td>\n",
       "      <td>East Allegheny</td>\n",
       "      <td>1.0</td>\n",
       "      <td>23.0</td>\n",
       "      <td>42003563200.0</td>\n",
       "      <td>1.0</td>\n",
       "      <td>23.0</td>\n",
       "      <td>1.0</td>\n",
       "      <td>1-6</td>\n",
       "      <td>40.45550338</td>\n",
       "      <td>-79.99927602</td>\n",
       "      <td>1.0</td>\n",
       "    </tr>\n",
       "  </tbody>\n",
       "</table>\n",
       "</div>"
      ],
      "text/plain": [
       "           id address_number      street         common_name  \\\n",
       "1  1946899269          220.0  BALVER AVE  Linden: Littleleaf   \n",
       "2  1431517397         2822.0   SIDNEY ST          Maple: Red   \n",
       "3   994063598          608.0  SUISMON ST      Maple: Freeman   \n",
       "\n",
       "    scientific_name              height              width  \\\n",
       "1     Tilia cordata  30.952598752598753  8.833264033264033   \n",
       "2       Acer rubrum                22.0                6.0   \n",
       "3  Acer x freemanii                25.0               10.0   \n",
       "\n",
       "  growth_space_length growth_space_width     growth_space_type  \\\n",
       "1                99.0               99.0  Open or Unrestricted   \n",
       "2                 6.0                3.0           Well or Pit   \n",
       "3                 3.0                3.0           Well or Pit   \n",
       "\n",
       "  diameter_base_height               stems overhead_utilities  \\\n",
       "1                 22.0  1.0116038126813096                 No   \n",
       "2                  6.0                 1.0                 No   \n",
       "3                  7.0                 1.0        Conflicting   \n",
       "\n",
       "                land_use condition stormwater_benefits_dollar_value  \\\n",
       "1            Residential       NaN                    13.9466942599   \n",
       "2  Commercial/Industrial      Fair                    3.97485820864   \n",
       "3            Residential      Fair                    4.77566237175   \n",
       "\n",
       "  stormwater_benefits_runoff_elim property_value_benefits_dollarvalue  \\\n",
       "1                   1743.33678249                       21.9848130518   \n",
       "2                    496.85727608                  51.529092533100005   \n",
       "3                   596.957796467                       43.1845240318   \n",
       "\n",
       "  property_value_benefits_leaf_surface_area  \\\n",
       "1                             36.5383334693   \n",
       "2                             85.6403537258   \n",
       "3                             71.7718425022   \n",
       "\n",
       "  energy_benefits_electricity_dollar_value energy_benefits_gas_dollar_value  \\\n",
       "1                       15.776457219200001                    61.0683188097   \n",
       "2                       3.3888203575599998                      16.08474051   \n",
       "3                             5.3962179528               24.220928722800004   \n",
       "\n",
       "  air_quality_benfits_o3dep_dollar_value air_quality_benfits_o3dep_lbs  \\\n",
       "1                          2.36084749382                 0.51434585922   \n",
       "2                         0.464026396623           0.10109507551699999   \n",
       "3                         0.742734848787                0.161815871195   \n",
       "\n",
       "  air_quality_benfits_vocavd_dollar_value air_quality_benfits_vocavd_lbs  \\\n",
       "1                     0.07213824704789999           0.031228678375699998   \n",
       "2                    0.017643365156499998               0.00763782041405   \n",
       "3                    0.027087080466999997                0.0117260088601   \n",
       "\n",
       "  air_quality_benfits_no2dep_dollar_value air_quality_benfits_no2dep_lbs  \\\n",
       "1                          0.992383683567                 0.216205595548   \n",
       "2                     0.20039118506499998                0.0436582102539   \n",
       "3                          0.312209046574                0.0680194001252   \n",
       "\n",
       "  air_quality_benfits_no2avd_dollar_value air_quality_benfits_no2avd_lbs  \\\n",
       "1                      3.7023061135300006                 0.806602639112   \n",
       "2                      0.8759662842679999                 0.190842327727   \n",
       "3                           1.35699869677                 0.295642417598   \n",
       "\n",
       "  air_quality_benfits_so2dep_dollar_value air_quality_benfits_so2dep_lbs  \\\n",
       "1                     0.27490061234900004                 0.078994428836   \n",
       "2                         0.0587249372819                0.0168749819776   \n",
       "3                         0.0864851564018           0.024852056437400002   \n",
       "\n",
       "  air_quality_benfits_so2avd_dollar_value air_quality_benfits_so2avd_lbs  \\\n",
       "1                      1.4077237315600002                 0.404518313668   \n",
       "2                          0.302735385882                0.0869929269772   \n",
       "3                          0.481897783617            0.13847637460200002   \n",
       "\n",
       "  air_quality_benfits_pm10depdollar_value air_quality_benfits_pm10dep_lbs  \\\n",
       "1                           2.18532822434             0.26297571893399996   \n",
       "2                          0.444639118191             0.05350651241769999   \n",
       "3                      0.6875155775640001             0.08273352317260001   \n",
       "\n",
       "  air_quality_benfits_pm10avd_dollar_value air_quality_benfits_pm10avd_lbs  \\\n",
       "1                           0.461810057269                 0.0555728107424   \n",
       "2                           0.110526048628            0.013300366862600001   \n",
       "3                            0.17068357443            0.020539539642599997   \n",
       "\n",
       "  air_quality_benfits_total_dollar_value air_quality_benfits_total_lbs  \\\n",
       "1                     11.457438163399999                 2.37044404444   \n",
       "2                     2.4746527210900005            0.5139082221469999   \n",
       "3                     3.8656117646199997                0.803805191634   \n",
       "\n",
       "  co2_benefits_dollar_value co2_benefits_sequestered_lbs  \\\n",
       "1            0.944600765534                115.328075315   \n",
       "2            0.314951871182                45.2879502377   \n",
       "3       0.39531443276699996                33.5649564029   \n",
       "\n",
       "  co2_benefits_sequestered_value co2_benefits_avoided_lbs  \\\n",
       "1                 0.847430697411            277.540792624   \n",
       "2            0.33277585834600004             59.616419265   \n",
       "3                 0.246635299649            94.9307304536   \n",
       "\n",
       "  co2_benefits_avoided_value co2_benefits_decomp_lbs co2_benefits_maint_lbs  \\\n",
       "1               2.0393697442      -96.34547132700001         -13.7087961535   \n",
       "2             0.438061448759          -6.86863949566         -3.73876258732   \n",
       "3         0.6975510073729999          -5.77618257091    -4.3618896851999995   \n",
       "\n",
       "  co2_benefits_totalco2_lbs overall_benefits_dollar_value      neighborhood  \\\n",
       "1             282.814600458                  125.17832227           Oakwood   \n",
       "2             94.2969674194                 77.7671162015  South Side Flats   \n",
       "3        118.35761460100001                 81.8382592766    East Allegheny   \n",
       "\n",
       "  council_district  ward          tract public_works_division pli_division  \\\n",
       "1              2.0  28.0  42003562800.0                   5.0         28.0   \n",
       "2              3.0  16.0  42003160900.0                   3.0         16.0   \n",
       "3              1.0  23.0  42003563200.0                   1.0         23.0   \n",
       "\n",
       "  police_zone fire_zone     latitude     longitude  tree_count  \n",
       "1         6.0      1-19  40.42926879  -80.06786821         1.0  \n",
       "2         3.0      4-24  40.42679667  -79.96503491         1.0  \n",
       "3         1.0       1-6  40.45550338  -79.99927602         1.0  "
      ]
     },
     "execution_count": 422,
     "metadata": {},
     "output_type": "execute_result"
    }
   ],
   "source": [
    "df_trees.head(3)"
   ]
  },
  {
   "cell_type": "code",
   "execution_count": 423,
   "id": "01771e9c",
   "metadata": {},
   "outputs": [],
   "source": [
    "df_tree_density = df_trees[['neighborhood', 'tree_count', 'stormwater_benefits_dollar_value', \n",
    "                            'property_value_benefits_dollarvalue', 'energy_benefits_electricity_dollar_value', \n",
    "                            'energy_benefits_gas_dollar_value', 'air_quality_benfits_total_dollar_value', \n",
    "                           'co2_benefits_dollar_value', 'overall_benefits_dollar_value', ]]"
   ]
  },
  {
   "cell_type": "code",
   "execution_count": 424,
   "id": "532549f0",
   "metadata": {},
   "outputs": [
    {
     "data": {
      "text/html": [
       "<div>\n",
       "<style scoped>\n",
       "    .dataframe tbody tr th:only-of-type {\n",
       "        vertical-align: middle;\n",
       "    }\n",
       "\n",
       "    .dataframe tbody tr th {\n",
       "        vertical-align: top;\n",
       "    }\n",
       "\n",
       "    .dataframe thead th {\n",
       "        text-align: right;\n",
       "    }\n",
       "</style>\n",
       "<table border=\"1\" class=\"dataframe\">\n",
       "  <thead>\n",
       "    <tr style=\"text-align: right;\">\n",
       "      <th></th>\n",
       "      <th>neighborhood</th>\n",
       "      <th>tree_count</th>\n",
       "      <th>stormwater_benefits_dollar_value</th>\n",
       "      <th>property_value_benefits_dollarvalue</th>\n",
       "      <th>energy_benefits_electricity_dollar_value</th>\n",
       "      <th>energy_benefits_gas_dollar_value</th>\n",
       "      <th>air_quality_benfits_total_dollar_value</th>\n",
       "      <th>co2_benefits_dollar_value</th>\n",
       "      <th>overall_benefits_dollar_value</th>\n",
       "    </tr>\n",
       "  </thead>\n",
       "  <tbody>\n",
       "    <tr>\n",
       "      <th>1</th>\n",
       "      <td>Oakwood</td>\n",
       "      <td>1.0</td>\n",
       "      <td>13.9466942599</td>\n",
       "      <td>21.9848130518</td>\n",
       "      <td>15.776457219200001</td>\n",
       "      <td>61.0683188097</td>\n",
       "      <td>11.457438163399999</td>\n",
       "      <td>0.944600765534</td>\n",
       "      <td>125.17832227</td>\n",
       "    </tr>\n",
       "    <tr>\n",
       "      <th>2</th>\n",
       "      <td>South Side Flats</td>\n",
       "      <td>1.0</td>\n",
       "      <td>3.97485820864</td>\n",
       "      <td>51.529092533100005</td>\n",
       "      <td>3.3888203575599998</td>\n",
       "      <td>16.08474051</td>\n",
       "      <td>2.4746527210900005</td>\n",
       "      <td>0.314951871182</td>\n",
       "      <td>77.7671162015</td>\n",
       "    </tr>\n",
       "    <tr>\n",
       "      <th>3</th>\n",
       "      <td>East Allegheny</td>\n",
       "      <td>1.0</td>\n",
       "      <td>4.77566237175</td>\n",
       "      <td>43.1845240318</td>\n",
       "      <td>5.3962179528</td>\n",
       "      <td>24.220928722800004</td>\n",
       "      <td>3.8656117646199997</td>\n",
       "      <td>0.39531443276699996</td>\n",
       "      <td>81.8382592766</td>\n",
       "    </tr>\n",
       "  </tbody>\n",
       "</table>\n",
       "</div>"
      ],
      "text/plain": [
       "       neighborhood  tree_count stormwater_benefits_dollar_value  \\\n",
       "1           Oakwood         1.0                    13.9466942599   \n",
       "2  South Side Flats         1.0                    3.97485820864   \n",
       "3    East Allegheny         1.0                    4.77566237175   \n",
       "\n",
       "  property_value_benefits_dollarvalue  \\\n",
       "1                       21.9848130518   \n",
       "2                  51.529092533100005   \n",
       "3                       43.1845240318   \n",
       "\n",
       "  energy_benefits_electricity_dollar_value energy_benefits_gas_dollar_value  \\\n",
       "1                       15.776457219200001                    61.0683188097   \n",
       "2                       3.3888203575599998                      16.08474051   \n",
       "3                             5.3962179528               24.220928722800004   \n",
       "\n",
       "  air_quality_benfits_total_dollar_value co2_benefits_dollar_value  \\\n",
       "1                     11.457438163399999            0.944600765534   \n",
       "2                     2.4746527210900005            0.314951871182   \n",
       "3                     3.8656117646199997       0.39531443276699996   \n",
       "\n",
       "  overall_benefits_dollar_value  \n",
       "1                  125.17832227  \n",
       "2                 77.7671162015  \n",
       "3                 81.8382592766  "
      ]
     },
     "execution_count": 424,
     "metadata": {},
     "output_type": "execute_result"
    }
   ],
   "source": [
    "df_tree_density.head(3)"
   ]
  },
  {
   "cell_type": "code",
   "execution_count": 425,
   "id": "9a328fb7",
   "metadata": {},
   "outputs": [
    {
     "data": {
      "text/plain": [
       "44266"
      ]
     },
     "execution_count": 425,
     "metadata": {},
     "output_type": "execute_result"
    }
   ],
   "source": [
    "len(df_tree_density)"
   ]
  },
  {
   "cell_type": "code",
   "execution_count": 426,
   "id": "b6d415f4",
   "metadata": {},
   "outputs": [
    {
     "data": {
      "text/html": [
       "<div>\n",
       "<style scoped>\n",
       "    .dataframe tbody tr th:only-of-type {\n",
       "        vertical-align: middle;\n",
       "    }\n",
       "\n",
       "    .dataframe tbody tr th {\n",
       "        vertical-align: top;\n",
       "    }\n",
       "\n",
       "    .dataframe thead th {\n",
       "        text-align: right;\n",
       "    }\n",
       "</style>\n",
       "<table border=\"1\" class=\"dataframe\">\n",
       "  <thead>\n",
       "    <tr style=\"text-align: right;\">\n",
       "      <th></th>\n",
       "      <th>tree_count</th>\n",
       "    </tr>\n",
       "    <tr>\n",
       "      <th>neighborhood</th>\n",
       "      <th></th>\n",
       "    </tr>\n",
       "  </thead>\n",
       "  <tbody>\n",
       "    <tr>\n",
       "      <th>Allegheny Center</th>\n",
       "      <td>863.0</td>\n",
       "    </tr>\n",
       "    <tr>\n",
       "      <th>Allegheny West</th>\n",
       "      <td>384.0</td>\n",
       "    </tr>\n",
       "    <tr>\n",
       "      <th>Allentown</th>\n",
       "      <td>78.0</td>\n",
       "    </tr>\n",
       "    <tr>\n",
       "      <th>Arlington</th>\n",
       "      <td>95.0</td>\n",
       "    </tr>\n",
       "    <tr>\n",
       "      <th>Arlington Heights</th>\n",
       "      <td>4.0</td>\n",
       "    </tr>\n",
       "    <tr>\n",
       "      <th>Banksville</th>\n",
       "      <td>434.0</td>\n",
       "    </tr>\n",
       "    <tr>\n",
       "      <th>Bedford Dwellings</th>\n",
       "      <td>198.0</td>\n",
       "    </tr>\n",
       "    <tr>\n",
       "      <th>Beechview</th>\n",
       "      <td>585.0</td>\n",
       "    </tr>\n",
       "    <tr>\n",
       "      <th>Beltzhoover</th>\n",
       "      <td>161.0</td>\n",
       "    </tr>\n",
       "    <tr>\n",
       "      <th>Bloomfield</th>\n",
       "      <td>1377.0</td>\n",
       "    </tr>\n",
       "    <tr>\n",
       "      <th>Bluff</th>\n",
       "      <td>216.0</td>\n",
       "    </tr>\n",
       "    <tr>\n",
       "      <th>Bon Air</th>\n",
       "      <td>83.0</td>\n",
       "    </tr>\n",
       "    <tr>\n",
       "      <th>Brighton Heights</th>\n",
       "      <td>864.0</td>\n",
       "    </tr>\n",
       "    <tr>\n",
       "      <th>Brookline</th>\n",
       "      <td>805.0</td>\n",
       "    </tr>\n",
       "    <tr>\n",
       "      <th>California-Kirkbride</th>\n",
       "      <td>92.0</td>\n",
       "    </tr>\n",
       "    <tr>\n",
       "      <th>Carrick</th>\n",
       "      <td>727.0</td>\n",
       "    </tr>\n",
       "    <tr>\n",
       "      <th>Central Business District</th>\n",
       "      <td>983.0</td>\n",
       "    </tr>\n",
       "    <tr>\n",
       "      <th>Central Lawrenceville</th>\n",
       "      <td>697.0</td>\n",
       "    </tr>\n",
       "    <tr>\n",
       "      <th>Central Northside</th>\n",
       "      <td>649.0</td>\n",
       "    </tr>\n",
       "    <tr>\n",
       "      <th>Central Oakland</th>\n",
       "      <td>367.0</td>\n",
       "    </tr>\n",
       "    <tr>\n",
       "      <th>Chartiers City</th>\n",
       "      <td>27.0</td>\n",
       "    </tr>\n",
       "    <tr>\n",
       "      <th>Chateau</th>\n",
       "      <td>246.0</td>\n",
       "    </tr>\n",
       "    <tr>\n",
       "      <th>Crafton Heights</th>\n",
       "      <td>354.0</td>\n",
       "    </tr>\n",
       "    <tr>\n",
       "      <th>Crawford-Roberts</th>\n",
       "      <td>561.0</td>\n",
       "    </tr>\n",
       "    <tr>\n",
       "      <th>Duquesne Heights</th>\n",
       "      <td>95.0</td>\n",
       "    </tr>\n",
       "    <tr>\n",
       "      <th>East Allegheny</th>\n",
       "      <td>356.0</td>\n",
       "    </tr>\n",
       "    <tr>\n",
       "      <th>East Carnegie</th>\n",
       "      <td>8.0</td>\n",
       "    </tr>\n",
       "    <tr>\n",
       "      <th>East Hills</th>\n",
       "      <td>467.0</td>\n",
       "    </tr>\n",
       "    <tr>\n",
       "      <th>East Liberty</th>\n",
       "      <td>1319.0</td>\n",
       "    </tr>\n",
       "    <tr>\n",
       "      <th>Elliott</th>\n",
       "      <td>149.0</td>\n",
       "    </tr>\n",
       "    <tr>\n",
       "      <th>Esplen</th>\n",
       "      <td>3.0</td>\n",
       "    </tr>\n",
       "    <tr>\n",
       "      <th>Fairywood</th>\n",
       "      <td>27.0</td>\n",
       "    </tr>\n",
       "    <tr>\n",
       "      <th>Fineview</th>\n",
       "      <td>81.0</td>\n",
       "    </tr>\n",
       "    <tr>\n",
       "      <th>Friendship</th>\n",
       "      <td>354.0</td>\n",
       "    </tr>\n",
       "    <tr>\n",
       "      <th>Garfield</th>\n",
       "      <td>546.0</td>\n",
       "    </tr>\n",
       "    <tr>\n",
       "      <th>Glen Hazel</th>\n",
       "      <td>2.0</td>\n",
       "    </tr>\n",
       "    <tr>\n",
       "      <th>Greenfield</th>\n",
       "      <td>689.0</td>\n",
       "    </tr>\n",
       "    <tr>\n",
       "      <th>Hays</th>\n",
       "      <td>1.0</td>\n",
       "    </tr>\n",
       "    <tr>\n",
       "      <th>Hazelwood</th>\n",
       "      <td>534.0</td>\n",
       "    </tr>\n",
       "    <tr>\n",
       "      <th>Highland Park</th>\n",
       "      <td>2887.0</td>\n",
       "    </tr>\n",
       "    <tr>\n",
       "      <th>Homewood North</th>\n",
       "      <td>380.0</td>\n",
       "    </tr>\n",
       "    <tr>\n",
       "      <th>Homewood South</th>\n",
       "      <td>443.0</td>\n",
       "    </tr>\n",
       "    <tr>\n",
       "      <th>Homewood West</th>\n",
       "      <td>89.0</td>\n",
       "    </tr>\n",
       "    <tr>\n",
       "      <th>Knoxville</th>\n",
       "      <td>423.0</td>\n",
       "    </tr>\n",
       "    <tr>\n",
       "      <th>Larimer</th>\n",
       "      <td>303.0</td>\n",
       "    </tr>\n",
       "    <tr>\n",
       "      <th>Lincoln Place</th>\n",
       "      <td>254.0</td>\n",
       "    </tr>\n",
       "    <tr>\n",
       "      <th>Lincoln-Lemington-Belmar</th>\n",
       "      <td>514.0</td>\n",
       "    </tr>\n",
       "    <tr>\n",
       "      <th>Lower Lawrenceville</th>\n",
       "      <td>498.0</td>\n",
       "    </tr>\n",
       "    <tr>\n",
       "      <th>Manchester</th>\n",
       "      <td>691.0</td>\n",
       "    </tr>\n",
       "    <tr>\n",
       "      <th>Marshall-Shadeland</th>\n",
       "      <td>472.0</td>\n",
       "    </tr>\n",
       "    <tr>\n",
       "      <th>Middle Hill</th>\n",
       "      <td>338.0</td>\n",
       "    </tr>\n",
       "    <tr>\n",
       "      <th>Morningside</th>\n",
       "      <td>380.0</td>\n",
       "    </tr>\n",
       "    <tr>\n",
       "      <th>Mount Washington</th>\n",
       "      <td>833.0</td>\n",
       "    </tr>\n",
       "    <tr>\n",
       "      <th>Mt. Oliver</th>\n",
       "      <td>13.0</td>\n",
       "    </tr>\n",
       "    <tr>\n",
       "      <th>New Homestead</th>\n",
       "      <td>179.0</td>\n",
       "    </tr>\n",
       "    <tr>\n",
       "      <th>North Oakland</th>\n",
       "      <td>766.0</td>\n",
       "    </tr>\n",
       "    <tr>\n",
       "      <th>North Shore</th>\n",
       "      <td>456.0</td>\n",
       "    </tr>\n",
       "    <tr>\n",
       "      <th>Northview Heights</th>\n",
       "      <td>6.0</td>\n",
       "    </tr>\n",
       "    <tr>\n",
       "      <th>Oakwood</th>\n",
       "      <td>92.0</td>\n",
       "    </tr>\n",
       "    <tr>\n",
       "      <th>Overbrook</th>\n",
       "      <td>254.0</td>\n",
       "    </tr>\n",
       "    <tr>\n",
       "      <th>Perry North</th>\n",
       "      <td>990.0</td>\n",
       "    </tr>\n",
       "    <tr>\n",
       "      <th>Perry South</th>\n",
       "      <td>339.0</td>\n",
       "    </tr>\n",
       "    <tr>\n",
       "      <th>Point Breeze</th>\n",
       "      <td>1291.0</td>\n",
       "    </tr>\n",
       "    <tr>\n",
       "      <th>Point Breeze North</th>\n",
       "      <td>553.0</td>\n",
       "    </tr>\n",
       "    <tr>\n",
       "      <th>Polish Hill</th>\n",
       "      <td>266.0</td>\n",
       "    </tr>\n",
       "    <tr>\n",
       "      <th>Regent Square</th>\n",
       "      <td>428.0</td>\n",
       "    </tr>\n",
       "    <tr>\n",
       "      <th>Ridgemont</th>\n",
       "      <td>30.0</td>\n",
       "    </tr>\n",
       "    <tr>\n",
       "      <th>Shadyside</th>\n",
       "      <td>1498.0</td>\n",
       "    </tr>\n",
       "    <tr>\n",
       "      <th>Sheraden</th>\n",
       "      <td>347.0</td>\n",
       "    </tr>\n",
       "    <tr>\n",
       "      <th>South Oakland</th>\n",
       "      <td>223.0</td>\n",
       "    </tr>\n",
       "    <tr>\n",
       "      <th>South Shore</th>\n",
       "      <td>2.0</td>\n",
       "    </tr>\n",
       "    <tr>\n",
       "      <th>South Side Flats</th>\n",
       "      <td>1611.0</td>\n",
       "    </tr>\n",
       "    <tr>\n",
       "      <th>South Side Slopes</th>\n",
       "      <td>215.0</td>\n",
       "    </tr>\n",
       "    <tr>\n",
       "      <th>Spring Garden</th>\n",
       "      <td>52.0</td>\n",
       "    </tr>\n",
       "    <tr>\n",
       "      <th>Spring Hill-City View</th>\n",
       "      <td>104.0</td>\n",
       "    </tr>\n",
       "    <tr>\n",
       "      <th>Squirrel Hill North</th>\n",
       "      <td>2001.0</td>\n",
       "    </tr>\n",
       "    <tr>\n",
       "      <th>Squirrel Hill South</th>\n",
       "      <td>4994.0</td>\n",
       "    </tr>\n",
       "    <tr>\n",
       "      <th>St. Clair</th>\n",
       "      <td>12.0</td>\n",
       "    </tr>\n",
       "    <tr>\n",
       "      <th>Stanton Heights</th>\n",
       "      <td>636.0</td>\n",
       "    </tr>\n",
       "    <tr>\n",
       "      <th>Strip District</th>\n",
       "      <td>456.0</td>\n",
       "    </tr>\n",
       "    <tr>\n",
       "      <th>Summer Hill</th>\n",
       "      <td>74.0</td>\n",
       "    </tr>\n",
       "    <tr>\n",
       "      <th>Swisshelm Park</th>\n",
       "      <td>237.0</td>\n",
       "    </tr>\n",
       "    <tr>\n",
       "      <th>Terrace Village</th>\n",
       "      <td>260.0</td>\n",
       "    </tr>\n",
       "    <tr>\n",
       "      <th>Troy Hill</th>\n",
       "      <td>198.0</td>\n",
       "    </tr>\n",
       "    <tr>\n",
       "      <th>Upper Hill</th>\n",
       "      <td>174.0</td>\n",
       "    </tr>\n",
       "    <tr>\n",
       "      <th>Upper Lawrenceville</th>\n",
       "      <td>324.0</td>\n",
       "    </tr>\n",
       "    <tr>\n",
       "      <th>West End</th>\n",
       "      <td>94.0</td>\n",
       "    </tr>\n",
       "    <tr>\n",
       "      <th>West Oakland</th>\n",
       "      <td>78.0</td>\n",
       "    </tr>\n",
       "    <tr>\n",
       "      <th>Westwood</th>\n",
       "      <td>254.0</td>\n",
       "    </tr>\n",
       "    <tr>\n",
       "      <th>Windgap</th>\n",
       "      <td>106.0</td>\n",
       "    </tr>\n",
       "  </tbody>\n",
       "</table>\n",
       "</div>"
      ],
      "text/plain": [
       "                           tree_count\n",
       "neighborhood                         \n",
       "Allegheny Center                863.0\n",
       "Allegheny West                  384.0\n",
       "Allentown                        78.0\n",
       "Arlington                        95.0\n",
       "Arlington Heights                 4.0\n",
       "Banksville                      434.0\n",
       "Bedford Dwellings               198.0\n",
       "Beechview                       585.0\n",
       "Beltzhoover                     161.0\n",
       "Bloomfield                     1377.0\n",
       "Bluff                           216.0\n",
       "Bon Air                          83.0\n",
       "Brighton Heights                864.0\n",
       "Brookline                       805.0\n",
       "California-Kirkbride             92.0\n",
       "Carrick                         727.0\n",
       "Central Business District       983.0\n",
       "Central Lawrenceville           697.0\n",
       "Central Northside               649.0\n",
       "Central Oakland                 367.0\n",
       "Chartiers City                   27.0\n",
       "Chateau                         246.0\n",
       "Crafton Heights                 354.0\n",
       "Crawford-Roberts                561.0\n",
       "Duquesne Heights                 95.0\n",
       "East Allegheny                  356.0\n",
       "East Carnegie                     8.0\n",
       "East Hills                      467.0\n",
       "East Liberty                   1319.0\n",
       "Elliott                         149.0\n",
       "Esplen                            3.0\n",
       "Fairywood                        27.0\n",
       "Fineview                         81.0\n",
       "Friendship                      354.0\n",
       "Garfield                        546.0\n",
       "Glen Hazel                        2.0\n",
       "Greenfield                      689.0\n",
       "Hays                              1.0\n",
       "Hazelwood                       534.0\n",
       "Highland Park                  2887.0\n",
       "Homewood North                  380.0\n",
       "Homewood South                  443.0\n",
       "Homewood West                    89.0\n",
       "Knoxville                       423.0\n",
       "Larimer                         303.0\n",
       "Lincoln Place                   254.0\n",
       "Lincoln-Lemington-Belmar        514.0\n",
       "Lower Lawrenceville             498.0\n",
       "Manchester                      691.0\n",
       "Marshall-Shadeland              472.0\n",
       "Middle Hill                     338.0\n",
       "Morningside                     380.0\n",
       "Mount Washington                833.0\n",
       "Mt. Oliver                       13.0\n",
       "New Homestead                   179.0\n",
       "North Oakland                   766.0\n",
       "North Shore                     456.0\n",
       "Northview Heights                 6.0\n",
       "Oakwood                          92.0\n",
       "Overbrook                       254.0\n",
       "Perry North                     990.0\n",
       "Perry South                     339.0\n",
       "Point Breeze                   1291.0\n",
       "Point Breeze North              553.0\n",
       "Polish Hill                     266.0\n",
       "Regent Square                   428.0\n",
       "Ridgemont                        30.0\n",
       "Shadyside                      1498.0\n",
       "Sheraden                        347.0\n",
       "South Oakland                   223.0\n",
       "South Shore                       2.0\n",
       "South Side Flats               1611.0\n",
       "South Side Slopes               215.0\n",
       "Spring Garden                    52.0\n",
       "Spring Hill-City View           104.0\n",
       "Squirrel Hill North            2001.0\n",
       "Squirrel Hill South            4994.0\n",
       "St. Clair                        12.0\n",
       "Stanton Heights                 636.0\n",
       "Strip District                  456.0\n",
       "Summer Hill                      74.0\n",
       "Swisshelm Park                  237.0\n",
       "Terrace Village                 260.0\n",
       "Troy Hill                       198.0\n",
       "Upper Hill                      174.0\n",
       "Upper Lawrenceville             324.0\n",
       "West End                         94.0\n",
       "West Oakland                     78.0\n",
       "Westwood                        254.0\n",
       "Windgap                         106.0"
      ]
     },
     "execution_count": 426,
     "metadata": {},
     "output_type": "execute_result"
    }
   ],
   "source": [
    "df_tree_density.groupby(['neighborhood']).sum()"
   ]
  },
  {
   "cell_type": "code",
   "execution_count": 427,
   "id": "cc7918a8",
   "metadata": {
    "scrolled": true
   },
   "outputs": [
    {
     "data": {
      "text/html": [
       "<div>\n",
       "<style scoped>\n",
       "    .dataframe tbody tr th:only-of-type {\n",
       "        vertical-align: middle;\n",
       "    }\n",
       "\n",
       "    .dataframe tbody tr th {\n",
       "        vertical-align: top;\n",
       "    }\n",
       "\n",
       "    .dataframe thead th {\n",
       "        text-align: right;\n",
       "    }\n",
       "</style>\n",
       "<table border=\"1\" class=\"dataframe\">\n",
       "  <thead>\n",
       "    <tr style=\"text-align: right;\">\n",
       "      <th></th>\n",
       "      <th>neighborhood</th>\n",
       "      <th>tree_count</th>\n",
       "      <th>stormwater_benefits_dollar_value</th>\n",
       "      <th>property_value_benefits_dollarvalue</th>\n",
       "      <th>energy_benefits_electricity_dollar_value</th>\n",
       "      <th>energy_benefits_gas_dollar_value</th>\n",
       "      <th>air_quality_benfits_total_dollar_value</th>\n",
       "      <th>co2_benefits_dollar_value</th>\n",
       "      <th>overall_benefits_dollar_value</th>\n",
       "    </tr>\n",
       "  </thead>\n",
       "  <tbody>\n",
       "    <tr>\n",
       "      <th>1</th>\n",
       "      <td>Oakwood</td>\n",
       "      <td>1.0</td>\n",
       "      <td>13.9466942599</td>\n",
       "      <td>21.9848130518</td>\n",
       "      <td>15.776457219200001</td>\n",
       "      <td>61.0683188097</td>\n",
       "      <td>11.457438163399999</td>\n",
       "      <td>0.944600765534</td>\n",
       "      <td>125.17832227</td>\n",
       "    </tr>\n",
       "    <tr>\n",
       "      <th>2</th>\n",
       "      <td>South Side Flats</td>\n",
       "      <td>1.0</td>\n",
       "      <td>3.97485820864</td>\n",
       "      <td>51.529092533100005</td>\n",
       "      <td>3.3888203575599998</td>\n",
       "      <td>16.08474051</td>\n",
       "      <td>2.4746527210900005</td>\n",
       "      <td>0.314951871182</td>\n",
       "      <td>77.7671162015</td>\n",
       "    </tr>\n",
       "    <tr>\n",
       "      <th>3</th>\n",
       "      <td>East Allegheny</td>\n",
       "      <td>1.0</td>\n",
       "      <td>4.77566237175</td>\n",
       "      <td>43.1845240318</td>\n",
       "      <td>5.3962179528</td>\n",
       "      <td>24.220928722800004</td>\n",
       "      <td>3.8656117646199997</td>\n",
       "      <td>0.39531443276699996</td>\n",
       "      <td>81.8382592766</td>\n",
       "    </tr>\n",
       "    <tr>\n",
       "      <th>4</th>\n",
       "      <td>Highland Park</td>\n",
       "      <td>1.0</td>\n",
       "      <td>41.2283976731</td>\n",
       "      <td>194.12891014099998</td>\n",
       "      <td>28.571536984</td>\n",
       "      <td>94.93006902030001</td>\n",
       "      <td>25.6383946503</td>\n",
       "      <td>6.0416858299800005</td>\n",
       "      <td>390.53899429800003</td>\n",
       "    </tr>\n",
       "    <tr>\n",
       "      <th>5</th>\n",
       "      <td>Highland Park</td>\n",
       "      <td>1.0</td>\n",
       "      <td>21.0691631464</td>\n",
       "      <td>85.7429542145</td>\n",
       "      <td>18.2326325226</td>\n",
       "      <td>63.686359161999995</td>\n",
       "      <td>15.696870241700001</td>\n",
       "      <td>2.14703849211</td>\n",
       "      <td>206.575017779</td>\n",
       "    </tr>\n",
       "  </tbody>\n",
       "</table>\n",
       "</div>"
      ],
      "text/plain": [
       "       neighborhood  tree_count stormwater_benefits_dollar_value  \\\n",
       "1           Oakwood         1.0                    13.9466942599   \n",
       "2  South Side Flats         1.0                    3.97485820864   \n",
       "3    East Allegheny         1.0                    4.77566237175   \n",
       "4     Highland Park         1.0                    41.2283976731   \n",
       "5     Highland Park         1.0                    21.0691631464   \n",
       "\n",
       "  property_value_benefits_dollarvalue  \\\n",
       "1                       21.9848130518   \n",
       "2                  51.529092533100005   \n",
       "3                       43.1845240318   \n",
       "4                  194.12891014099998   \n",
       "5                       85.7429542145   \n",
       "\n",
       "  energy_benefits_electricity_dollar_value energy_benefits_gas_dollar_value  \\\n",
       "1                       15.776457219200001                    61.0683188097   \n",
       "2                       3.3888203575599998                      16.08474051   \n",
       "3                             5.3962179528               24.220928722800004   \n",
       "4                             28.571536984                94.93006902030001   \n",
       "5                            18.2326325226               63.686359161999995   \n",
       "\n",
       "  air_quality_benfits_total_dollar_value co2_benefits_dollar_value  \\\n",
       "1                     11.457438163399999            0.944600765534   \n",
       "2                     2.4746527210900005            0.314951871182   \n",
       "3                     3.8656117646199997       0.39531443276699996   \n",
       "4                          25.6383946503        6.0416858299800005   \n",
       "5                     15.696870241700001             2.14703849211   \n",
       "\n",
       "  overall_benefits_dollar_value  \n",
       "1                  125.17832227  \n",
       "2                 77.7671162015  \n",
       "3                 81.8382592766  \n",
       "4            390.53899429800003  \n",
       "5                 206.575017779  "
      ]
     },
     "execution_count": 427,
     "metadata": {},
     "output_type": "execute_result"
    }
   ],
   "source": [
    "df_tree_density.head()"
   ]
  },
  {
   "cell_type": "markdown",
   "id": "6c271279",
   "metadata": {},
   "source": [
    "**Convert the fields to desired data type**"
   ]
  },
  {
   "cell_type": "code",
   "execution_count": 428,
   "id": "5e001075",
   "metadata": {},
   "outputs": [
    {
     "data": {
      "text/plain": [
       "neighborhood                                 object\n",
       "tree_count                                  float64\n",
       "stormwater_benefits_dollar_value             object\n",
       "property_value_benefits_dollarvalue          object\n",
       "energy_benefits_electricity_dollar_value     object\n",
       "energy_benefits_gas_dollar_value             object\n",
       "air_quality_benfits_total_dollar_value       object\n",
       "co2_benefits_dollar_value                    object\n",
       "overall_benefits_dollar_value                object\n",
       "dtype: object"
      ]
     },
     "execution_count": 428,
     "metadata": {},
     "output_type": "execute_result"
    }
   ],
   "source": [
    "df_tree_density.dtypes"
   ]
  },
  {
   "cell_type": "code",
   "execution_count": 429,
   "id": "305c2a5c",
   "metadata": {},
   "outputs": [],
   "source": [
    "convert_dict = {'stormwater_benefits_dollar_value': float,\n",
    "                'property_value_benefits_dollarvalue': float,\n",
    "                'energy_benefits_electricity_dollar_value': float,\n",
    "                'energy_benefits_gas_dollar_value': float,\n",
    "                'air_quality_benfits_total_dollar_value': float,\n",
    "                'co2_benefits_dollar_value': float,\n",
    "                'overall_benefits_dollar_value': float\n",
    "               }\n",
    "# df_tree_density[\"stormwater_benefits_dollar_value\"] = pd.to_numeric(df_tree_density[\"stormwater_benefits_dollar_value\"])\n",
    "# df_tree_density[\"property_value_benefits_dollarvalue\"] = pd.to_numeric(df_tree_density[\"property_value_benefits_dollarvalue\"])\n",
    "# df_tree_density[\"energy_benefits_electricity_dollar_value\"] = pd.to_numeric(df_tree_density[\"energy_benefits_electricity_dollar_value\"])\n",
    "# df_tree_density[\"energy_benefits_gas_dollar_value\"] = pd.to_numeric(df_tree_density[\"energy_benefits_gas_dollar_value\"])\n",
    "# df_tree_density[\"air_quality_benfits_total_dollar_value\"] = pd.to_numeric(df_tree_density[\"air_quality_benfits_total_dollar_value\"])\n",
    "# df_tree_density[\"co2_benefits_dollar_value\"] = pd.to_numeric(df_tree_density[\"co2_benefits_dollar_value\"])\n",
    "# df_tree_density[\"overall_benefits_dollar_value\"] = pd.to_numeric(df_tree_density[\"overall_benefits_dollar_value\"])\n",
    "\n",
    "df_tree_density = df_tree_density.astype(convert_dict)\n"
   ]
  },
  {
   "cell_type": "code",
   "execution_count": 430,
   "id": "5fd36125",
   "metadata": {},
   "outputs": [
    {
     "data": {
      "text/plain": [
       "neighborhood                                 object\n",
       "tree_count                                  float64\n",
       "stormwater_benefits_dollar_value            float64\n",
       "property_value_benefits_dollarvalue         float64\n",
       "energy_benefits_electricity_dollar_value    float64\n",
       "energy_benefits_gas_dollar_value            float64\n",
       "air_quality_benfits_total_dollar_value      float64\n",
       "co2_benefits_dollar_value                   float64\n",
       "overall_benefits_dollar_value               float64\n",
       "dtype: object"
      ]
     },
     "execution_count": 430,
     "metadata": {},
     "output_type": "execute_result"
    }
   ],
   "source": [
    "df_tree_density.dtypes"
   ]
  },
  {
   "cell_type": "markdown",
   "id": "b916145c",
   "metadata": {},
   "source": [
    "**Aggregate the tree rows by neighborhood**"
   ]
  },
  {
   "cell_type": "code",
   "execution_count": 431,
   "id": "8819cc5c",
   "metadata": {},
   "outputs": [],
   "source": [
    "df_tree_density = df_tree_density.groupby('neighborhood', as_index=False).agg({\"tree_count\": \"sum\", \n",
    "                                                            \"stormwater_benefits_dollar_value\": \"sum\",\n",
    "                                                            \"property_value_benefits_dollarvalue\": \"sum\",\n",
    "                                                            \"energy_benefits_electricity_dollar_value\": \"sum\",\n",
    "                                                            \"energy_benefits_gas_dollar_value\": \"sum\",\n",
    "                                                            \"air_quality_benfits_total_dollar_value\": \"sum\",\n",
    "                                                            \"co2_benefits_dollar_value\": \"sum\",\n",
    "                                                            \"overall_benefits_dollar_value\": \"sum\"})"
   ]
  },
  {
   "cell_type": "markdown",
   "id": "3e432bde",
   "metadata": {},
   "source": [
    "**Load neighborhood data**"
   ]
  },
  {
   "cell_type": "code",
   "execution_count": 432,
   "id": "a2ad02e1",
   "metadata": {},
   "outputs": [],
   "source": [
    "neighborhood_data = pd.read_csv(\"neighborhood_data.csv\", encoding=\"ISO-8859-1\", dtype='unicode')"
   ]
  },
  {
   "cell_type": "code",
   "execution_count": 433,
   "id": "750259b2",
   "metadata": {},
   "outputs": [],
   "source": [
    "pd.options.display.max_columns = None\n",
    "pd.options.display.max_rows = None"
   ]
  },
  {
   "cell_type": "code",
   "execution_count": 434,
   "id": "7c932099",
   "metadata": {},
   "outputs": [
    {
     "data": {
      "text/plain": [
       "array(['ï»¿FID', 'Neighborhood_2010_FID_BlockG',\n",
       "       'Neighborhood_2010_STATEFP10', 'Neighborhood_2010_COUNTYFP10',\n",
       "       'Neighborhood_2010_TRACTCE10', 'Neighborhood_2010_BLKGRPCE10',\n",
       "       'Neighborhood_2010_GEOID10', 'Neighborhood_2010_NAMELSAD10',\n",
       "       'Neighborhood_2010_MTFCC10', 'Neighborhood_2010_FUNCSTAT10',\n",
       "       'Neighborhood_2010_ALAND10', 'Neighborhood_2010_AWATER10',\n",
       "       'Neighborhood_2010_INTPTLAT10', 'Neighborhood_2010_INTPTLON10',\n",
       "       'Neighborhood_2010_Shape_Leng', 'Neighborhood_2010_FID_Neighb',\n",
       "       'Neighborhood_2010_AREA', 'Neighborhood_2010_PERIMETER',\n",
       "       'Neighborhood_2010_NEIGHBOR_', 'Neighborhood_2010_NEIGHBOR_I',\n",
       "       'Neighborhood_2010_HOOD', 'Neighborhood_2010_HOOD_NO',\n",
       "       'Neighborhood_2010_ACRES', 'Neighborhood_2010_SQMILES',\n",
       "       'Neighborhood_2010_DPWDIV', 'Neighborhood_2010_UNIQUE_ID',\n",
       "       'Neighborhood_2010_SECTORS', 'Neighborhood_2010_Shape_Le_1',\n",
       "       'Neighborhood_2010_Shape_Ar_1', 'Neighborhood_2010_Page_Number',\n",
       "       'SNAP_All_csv_Neighborhood', 'SNAP_All_csv_Sector__', 'Pop__1940',\n",
       "       'Pop__1950', 'Pop__1960', 'Pop__1970', 'Pop__1980', 'Pop__1990',\n",
       "       'Pop__2000', 'Pop__2010', 'F__Pop__Change__60_70',\n",
       "       'F__Pop__Change__70_80', 'F__Pop__Change__80_90',\n",
       "       'F__Pop__Change__90_00', 'F__Pop__Change__00_10',\n",
       "       'Pop__as___of_City_total__2010_', 'Land_Area__sq__mi_',\n",
       "       'SNAP_All_csv_Land_Area__acres_', 'Persons___sq__mi__2010_',\n",
       "       'Persons___sq__mi__2000_', 'SNAP_All_csv_Persons___acre__20',\n",
       "       'SNAP_All_csv_Persons___acre__21',\n",
       "       'SNAP_All_csv___African_American', 'SNAP_All_csv___Asian__2010_',\n",
       "       'SNAP_All_csv___Other__2010_', 'SNAP_All_csv___White__2010_',\n",
       "       'SNAP_All_csv___2__Races__2010_',\n",
       "       'SNAP_All_csv___Hispanic__of_any', 'F__Pop__Age___5__2010_',\n",
       "       'F__Pop__Age_5_19__2010_', 'F__Pop__Age_20_34__2010_',\n",
       "       'F__Pop__Age_35_59__2010_', 'F__Pop__Age_60_74__2010_',\n",
       "       'F__Pop__Age___75__2010_', 'SNAP_All_csv_Total___Units__200',\n",
       "       'SNAP_All_csv_Total___Units__201',\n",
       "       'SNAP_All_csv___Occupied_Units__',\n",
       "       'SNAP_All_csv___Vacant_Units__20',\n",
       "       'SNAP_All_csv___Occupied_Units_1',\n",
       "       'SNAP_All_csv___Owner_Occupied_U',\n",
       "       'SNAP_All_csv___Renter_Occupied_',\n",
       "       'Est__Avg__Yrs__of_Residence__20',\n",
       "       'SNAP_All_csv___Living_in_Househ',\n",
       "       'SNAP_All_csv___Living_in_Group_',\n",
       "       'SNAP_All_csv___Units_Built_00_0',\n",
       "       'SNAP_All_csv___Units_Built_90_9',\n",
       "       'SNAP_All_csv___Units_Built_80_8',\n",
       "       'SNAP_All_csv___Units_Built_60_7',\n",
       "       'SNAP_All_csv___Units_Built_40_5',\n",
       "       'SNAP_All_csv___Units_Built_befo',\n",
       "       'SNAP_All_csv_Median_Home_Value_',\n",
       "       'Med__Val____00_in__10_Dollars_',\n",
       "       'SNAP_All_csv_Median_Home__Value',\n",
       "       'SNAP_All_csv___Change_Real_Valu',\n",
       "       'SNAP_All_csv_Median_Sale_Price_',\n",
       "       'SNAP_All_csv___Sales_Counted__2',\n",
       "       'SNAP_All_csv_Foreclosures__2008',\n",
       "       'SNAP_All_csv_Foreclosures__2010',\n",
       "       'SNAP_All_csv___of_all_Housing_U',\n",
       "       'Total_Age_16__N_hood_Residents_',\n",
       "       'SNAP_All_csv_Resident_Jobs__Con',\n",
       "       'SNAP_All_csv_Resident_Jobs__Man',\n",
       "       'SNAP_All_csv_Resident_Jobs__Ret',\n",
       "       'SNAP_All_csv_Resident_Jobs__Tra',\n",
       "       'SNAP_All_csv_Resident_Jobs__Inf',\n",
       "       'SNAP_All_csv_Resident_Jobs__Fin',\n",
       "       'SNAP_All_csv_Resident_Jobs__Pro',\n",
       "       'SNAP_All_csv_Resident_Jobs__Edu',\n",
       "       'SNAP_All_csv_Resident_Jobs__Art',\n",
       "       'SNAP_All_csv_Resident_Jobs__Pub',\n",
       "       'SNAP_All_csv_Resident_Jobs__Oth',\n",
       "       'Total___Jobs_Located_in_N_hood_',\n",
       "       'SNAP_All_csv_Jobs_in__Hood__Con',\n",
       "       'SNAP_All_csv_Jobs_in__Hood__Man',\n",
       "       'SNAP_All_csv_Jobs_in__Hood__Ret',\n",
       "       'SNAP_All_csv_Jobs_in__Hood__Tra',\n",
       "       'SNAP_All_csv_Jobs_in__Hood__Inf',\n",
       "       'SNAP_All_csv_Jobs_in__Hood__Fin',\n",
       "       'SNAP_All_csv_Jobs_in__Hood__Pro',\n",
       "       'SNAP_All_csv_Jobs_in__Hood__Edu',\n",
       "       'SNAP_All_csv_Jobs_in__Hood__Art',\n",
       "       'SNAP_All_csv_Jobs_in__Hood__Pub',\n",
       "       'SNAP_All_csv_Jobs_in__Hood__Oth',\n",
       "       'SNAP_All_csv_Total_Pop__25_and_',\n",
       "       'Edu__Attainment__Less_than_High',\n",
       "       'Edu__Attainment__High_School_Gr',\n",
       "       'Edu__Attainment__Assoc__Prof__D',\n",
       "       'Edu__Attainment__Bachelor_s_Deg',\n",
       "       'Edu__Attainment__Postgraduate_D',\n",
       "       'SNAP_All_csv_1999_Median_Income',\n",
       "       'SNAP_All_csv_2009_Median_Income',\n",
       "       'SNAP_All_csv_1999_Median_Inco_1',\n",
       "       'F2009_Med__Income___13_Dollars_',\n",
       "       'Est__Pop__for_which_Poverty_Cal',\n",
       "       'Est__Pop__Under_Poverty__2010_',\n",
       "       'Est__Percent_Under_Poverty__201',\n",
       "       'SNAP_All_csv__Part_1__Major_Cri',\n",
       "       'SNAP_All_csv__Part_2_Reports__2',\n",
       "       'SNAP_All_csv__Other_Police_Repo',\n",
       "       'SNAP_All_csv_Part_1_Crime_per_1',\n",
       "       'SNAP_All_csv_Part_2_Crime_per_1', 'SNAP_All_csv__Murder__2010_',\n",
       "       'SNAP_All_csv__Rape__2010_', 'SNAP_All_csv__Robbery__2010_',\n",
       "       'F_Agr__Assault__2010_', 'SNAP_All_csv__Burglary__2010_',\n",
       "       'SNAP_All_csv__Auto_Theft__2010_',\n",
       "       'SNAP_All_csv__Drug_Violations__',\n",
       "       'SNAP_All_csv_Land_Area__acres1', 'Approx__Total___Parcels__2010_',\n",
       "       'Approx__Total___Taxable_Parcels',\n",
       "       'Approx____of_Structures__2010_',\n",
       "       'Approx____Unoccupied_Parcels__2',\n",
       "       'SNAP_All_csv___Good___Excellent',\n",
       "       'SNAP_All_csv___Average_Conditio',\n",
       "       'SNAP_All_csv___Poor___Derelict_',\n",
       "       'F__Residential_Bldg__Permits__2',\n",
       "       'F__Residential_Bldg__Permits__3',\n",
       "       'F__Commercial_Bldg__Permits__20',\n",
       "       'F__Commercial_Bldg__Permits__21',\n",
       "       'SNAP_All_csv___Code_Violations_',\n",
       "       'F__of_all_Bldgs__w__Code_Violat',\n",
       "       'SNAP_All_csv___Condemned_Struct',\n",
       "       'F__of_all_Bldgs__Condemned__201',\n",
       "       'SNAP_All_csv___Demolitions__201',\n",
       "       'F__Tax_Delinquent_Prop___2__yrs',\n",
       "       'F__of_Taxable_Prop__Delinquent_',\n",
       "       'SNAP_All_csv_Landslide_Prone___',\n",
       "       'SNAP_All_csv_Undermined____land',\n",
       "       'SNAP_All_csv_Flood_Plain____lan', 'SNAP_All_csv___Street_Trees',\n",
       "       'SNAP_All_csv_Park_Space__acres_',\n",
       "       'SNAP_All_csv_Park_Space____of_l', 'Park_Space__acres_1000_pers__',\n",
       "       'SNAP_All_csv_Greenway____of_lan',\n",
       "       'SNAP_All_csv_Woodland____of_lan',\n",
       "       'SNAP_All_csv_Cemetery____of_lan', 'SNAP_All_csv_Residential',\n",
       "       'SNAP_All_csv_Mixed_Use___Commer',\n",
       "       'SNAP_All_csv_Mixed_Use___Indust', 'Institutional___Edu____Med_',\n",
       "       'SNAP_All_csv_Open_Space', 'SNAP_All_csv_Hillside',\n",
       "       'SNAP_All_csv_Special_Land_Use', 'SNAP_All_csv_Miles_of_Major_Roa',\n",
       "       'SNAP_All_csv_Total_Street_Miles',\n",
       "       'Street_Density__st__mi_area_sq_', 'SNAP_All_csv___Sets_of_Steps',\n",
       "       'SNAP_All_csv___Step_Treads', 'Res__Permit_Parking_Area_s_',\n",
       "       'Total_Working_Pop___Age_16____2',\n",
       "       'SNAP_All_csv_Commute_to_Work__D',\n",
       "       'SNAP_All_csv_Commute_to_Work__C',\n",
       "       'SNAP_All_csv_Commute_to_Work__P',\n",
       "       'SNAP_All_csv_Commute_to_Work__T',\n",
       "       'SNAP_All_csv_Commute_to_Work__M',\n",
       "       'SNAP_All_csv_Commute_to_Work__B',\n",
       "       'SNAP_All_csv_Commute_to_Work__W',\n",
       "       'SNAP_All_csv_Commute_to_Work__O',\n",
       "       'SNAP_All_csv_Work_at_Home__2010', 'SHAPE_Length', 'SHAPE_Area'],\n",
       "      dtype=object)"
      ]
     },
     "execution_count": 434,
     "metadata": {},
     "output_type": "execute_result"
    }
   ],
   "source": [
    "neighborhood_data.columns.values"
   ]
  },
  {
   "cell_type": "code",
   "execution_count": 435,
   "id": "03f8c960",
   "metadata": {},
   "outputs": [],
   "source": [
    "neighborhood_data_area = neighborhood_data[['SNAP_All_csv_Neighborhood', 'Neighborhood_2010_AREA', 'Neighborhood_2010_ACRES']].copy()"
   ]
  },
  {
   "cell_type": "code",
   "execution_count": 436,
   "id": "7cf51a94",
   "metadata": {},
   "outputs": [],
   "source": [
    "neighborhood_data_area.rename({'SNAP_All_csv_Neighborhood': 'neighborhood'}, axis=1, inplace=True)"
   ]
  },
  {
   "cell_type": "code",
   "execution_count": 437,
   "id": "e557cdca",
   "metadata": {},
   "outputs": [
    {
     "data": {
      "text/plain": [
       "array(['neighborhood', 'Neighborhood_2010_AREA',\n",
       "       'Neighborhood_2010_ACRES'], dtype=object)"
      ]
     },
     "execution_count": 437,
     "metadata": {},
     "output_type": "execute_result"
    }
   ],
   "source": [
    "neighborhood_data_area.columns.values"
   ]
  },
  {
   "cell_type": "code",
   "execution_count": 438,
   "id": "cec16060",
   "metadata": {},
   "outputs": [],
   "source": [
    "neighborhood_convert_dict = {'Neighborhood_2010_AREA': float,\n",
    "                'Neighborhood_2010_ACRES': float}"
   ]
  },
  {
   "cell_type": "code",
   "execution_count": 439,
   "id": "dc5d4fc2",
   "metadata": {},
   "outputs": [],
   "source": [
    "neighborhood_data_area = neighborhood_data_area.astype(neighborhood_convert_dict)"
   ]
  },
  {
   "cell_type": "code",
   "execution_count": 440,
   "id": "229b9a56",
   "metadata": {},
   "outputs": [
    {
     "data": {
      "text/html": [
       "<div>\n",
       "<style scoped>\n",
       "    .dataframe tbody tr th:only-of-type {\n",
       "        vertical-align: middle;\n",
       "    }\n",
       "\n",
       "    .dataframe tbody tr th {\n",
       "        vertical-align: top;\n",
       "    }\n",
       "\n",
       "    .dataframe thead th {\n",
       "        text-align: right;\n",
       "    }\n",
       "</style>\n",
       "<table border=\"1\" class=\"dataframe\">\n",
       "  <thead>\n",
       "    <tr style=\"text-align: right;\">\n",
       "      <th></th>\n",
       "      <th>neighborhood</th>\n",
       "      <th>Neighborhood_2010_AREA</th>\n",
       "      <th>Neighborhood_2010_ACRES</th>\n",
       "    </tr>\n",
       "  </thead>\n",
       "  <tbody>\n",
       "    <tr>\n",
       "      <th>0</th>\n",
       "      <td>Central Oakland</td>\n",
       "      <td>7843108.0</td>\n",
       "      <td>180.883</td>\n",
       "    </tr>\n",
       "    <tr>\n",
       "      <th>1</th>\n",
       "      <td>North Oakland</td>\n",
       "      <td>13904629.0</td>\n",
       "      <td>320.679</td>\n",
       "    </tr>\n",
       "    <tr>\n",
       "      <th>2</th>\n",
       "      <td>West Oakland</td>\n",
       "      <td>5999801.5</td>\n",
       "      <td>138.372</td>\n",
       "    </tr>\n",
       "    <tr>\n",
       "      <th>3</th>\n",
       "      <td>Crawford-Roberts</td>\n",
       "      <td>7202139.0</td>\n",
       "      <td>166.101</td>\n",
       "    </tr>\n",
       "    <tr>\n",
       "      <th>4</th>\n",
       "      <td>Strip District</td>\n",
       "      <td>16947852.0</td>\n",
       "      <td>390.864</td>\n",
       "    </tr>\n",
       "  </tbody>\n",
       "</table>\n",
       "</div>"
      ],
      "text/plain": [
       "       neighborhood  Neighborhood_2010_AREA  Neighborhood_2010_ACRES\n",
       "0   Central Oakland               7843108.0                  180.883\n",
       "1     North Oakland              13904629.0                  320.679\n",
       "2      West Oakland               5999801.5                  138.372\n",
       "3  Crawford-Roberts               7202139.0                  166.101\n",
       "4    Strip District              16947852.0                  390.864"
      ]
     },
     "execution_count": 440,
     "metadata": {},
     "output_type": "execute_result"
    }
   ],
   "source": [
    "neighborhood_data_area.head(5)"
   ]
  },
  {
   "cell_type": "code",
   "execution_count": 441,
   "id": "eb4444a7",
   "metadata": {},
   "outputs": [
    {
     "data": {
      "text/plain": [
       "(90, 3)"
      ]
     },
     "execution_count": 441,
     "metadata": {},
     "output_type": "execute_result"
    }
   ],
   "source": [
    "neighborhood_data_area.shape"
   ]
  },
  {
   "cell_type": "code",
   "execution_count": 442,
   "id": "6660999e",
   "metadata": {},
   "outputs": [
    {
     "data": {
      "text/plain": [
       "(90, 9)"
      ]
     },
     "execution_count": 442,
     "metadata": {},
     "output_type": "execute_result"
    }
   ],
   "source": [
    "df_tree_density.shape"
   ]
  },
  {
   "cell_type": "markdown",
   "id": "4de0e497",
   "metadata": {},
   "source": [
    "**Merge tree and neighborhood data**"
   ]
  },
  {
   "cell_type": "code",
   "execution_count": 443,
   "id": "be4039a8",
   "metadata": {},
   "outputs": [],
   "source": [
    "combined_data = df_tree_density.merge(neighborhood_data_area, on='neighborhood', how='left')\n"
   ]
  },
  {
   "cell_type": "code",
   "execution_count": 444,
   "id": "e3ece334",
   "metadata": {},
   "outputs": [
    {
     "data": {
      "text/html": [
       "<div>\n",
       "<style scoped>\n",
       "    .dataframe tbody tr th:only-of-type {\n",
       "        vertical-align: middle;\n",
       "    }\n",
       "\n",
       "    .dataframe tbody tr th {\n",
       "        vertical-align: top;\n",
       "    }\n",
       "\n",
       "    .dataframe thead th {\n",
       "        text-align: right;\n",
       "    }\n",
       "</style>\n",
       "<table border=\"1\" class=\"dataframe\">\n",
       "  <thead>\n",
       "    <tr style=\"text-align: right;\">\n",
       "      <th></th>\n",
       "      <th>neighborhood</th>\n",
       "      <th>tree_count</th>\n",
       "      <th>stormwater_benefits_dollar_value</th>\n",
       "      <th>property_value_benefits_dollarvalue</th>\n",
       "      <th>energy_benefits_electricity_dollar_value</th>\n",
       "      <th>energy_benefits_gas_dollar_value</th>\n",
       "      <th>air_quality_benfits_total_dollar_value</th>\n",
       "      <th>co2_benefits_dollar_value</th>\n",
       "      <th>overall_benefits_dollar_value</th>\n",
       "      <th>Neighborhood_2010_AREA</th>\n",
       "      <th>Neighborhood_2010_ACRES</th>\n",
       "    </tr>\n",
       "  </thead>\n",
       "  <tbody>\n",
       "    <tr>\n",
       "      <th>0</th>\n",
       "      <td>Allegheny Center</td>\n",
       "      <td>863.0</td>\n",
       "      <td>15178.511842</td>\n",
       "      <td>57963.126001</td>\n",
       "      <td>14193.463380</td>\n",
       "      <td>48484.488931</td>\n",
       "      <td>10723.002809</td>\n",
       "      <td>1370.216934</td>\n",
       "      <td>147912.809897</td>\n",
       "      <td>5840713.0</td>\n",
       "      <td>134.703</td>\n",
       "    </tr>\n",
       "    <tr>\n",
       "      <th>1</th>\n",
       "      <td>Allegheny West</td>\n",
       "      <td>384.0</td>\n",
       "      <td>5365.137916</td>\n",
       "      <td>22959.330812</td>\n",
       "      <td>5022.063352</td>\n",
       "      <td>17268.311191</td>\n",
       "      <td>3764.227070</td>\n",
       "      <td>484.084190</td>\n",
       "      <td>54863.154531</td>\n",
       "      <td>3938870.2</td>\n",
       "      <td>90.841</td>\n",
       "    </tr>\n",
       "    <tr>\n",
       "      <th>2</th>\n",
       "      <td>Allentown</td>\n",
       "      <td>78.0</td>\n",
       "      <td>526.717770</td>\n",
       "      <td>3318.198878</td>\n",
       "      <td>628.412567</td>\n",
       "      <td>2303.234200</td>\n",
       "      <td>428.472504</td>\n",
       "      <td>53.256759</td>\n",
       "      <td>7227.077029</td>\n",
       "      <td>8221419.5</td>\n",
       "      <td>189.608</td>\n",
       "    </tr>\n",
       "    <tr>\n",
       "      <th>3</th>\n",
       "      <td>Arlington</td>\n",
       "      <td>95.0</td>\n",
       "      <td>390.847941</td>\n",
       "      <td>2700.603910</td>\n",
       "      <td>505.210444</td>\n",
       "      <td>1968.359203</td>\n",
       "      <td>302.469775</td>\n",
       "      <td>38.234504</td>\n",
       "      <td>5894.342859</td>\n",
       "      <td>13108599.0</td>\n",
       "      <td>302.320</td>\n",
       "    </tr>\n",
       "    <tr>\n",
       "      <th>4</th>\n",
       "      <td>Arlington Heights</td>\n",
       "      <td>4.0</td>\n",
       "      <td>79.176047</td>\n",
       "      <td>330.289204</td>\n",
       "      <td>92.492976</td>\n",
       "      <td>323.811103</td>\n",
       "      <td>43.677589</td>\n",
       "      <td>4.439313</td>\n",
       "      <td>873.886232</td>\n",
       "      <td>3667921.5</td>\n",
       "      <td>84.592</td>\n",
       "    </tr>\n",
       "  </tbody>\n",
       "</table>\n",
       "</div>"
      ],
      "text/plain": [
       "        neighborhood  tree_count  stormwater_benefits_dollar_value  \\\n",
       "0   Allegheny Center       863.0                      15178.511842   \n",
       "1     Allegheny West       384.0                       5365.137916   \n",
       "2          Allentown        78.0                        526.717770   \n",
       "3          Arlington        95.0                        390.847941   \n",
       "4  Arlington Heights         4.0                         79.176047   \n",
       "\n",
       "   property_value_benefits_dollarvalue  \\\n",
       "0                         57963.126001   \n",
       "1                         22959.330812   \n",
       "2                          3318.198878   \n",
       "3                          2700.603910   \n",
       "4                           330.289204   \n",
       "\n",
       "   energy_benefits_electricity_dollar_value  energy_benefits_gas_dollar_value  \\\n",
       "0                              14193.463380                      48484.488931   \n",
       "1                               5022.063352                      17268.311191   \n",
       "2                                628.412567                       2303.234200   \n",
       "3                                505.210444                       1968.359203   \n",
       "4                                 92.492976                        323.811103   \n",
       "\n",
       "   air_quality_benfits_total_dollar_value  co2_benefits_dollar_value  \\\n",
       "0                            10723.002809                1370.216934   \n",
       "1                             3764.227070                 484.084190   \n",
       "2                              428.472504                  53.256759   \n",
       "3                              302.469775                  38.234504   \n",
       "4                               43.677589                   4.439313   \n",
       "\n",
       "   overall_benefits_dollar_value  Neighborhood_2010_AREA  \\\n",
       "0                  147912.809897               5840713.0   \n",
       "1                   54863.154531               3938870.2   \n",
       "2                    7227.077029               8221419.5   \n",
       "3                    5894.342859              13108599.0   \n",
       "4                     873.886232               3667921.5   \n",
       "\n",
       "   Neighborhood_2010_ACRES  \n",
       "0                  134.703  \n",
       "1                   90.841  \n",
       "2                  189.608  \n",
       "3                  302.320  \n",
       "4                   84.592  "
      ]
     },
     "execution_count": 444,
     "metadata": {},
     "output_type": "execute_result"
    }
   ],
   "source": [
    "combined_data.head(5)"
   ]
  },
  {
   "cell_type": "markdown",
   "id": "a0b9bbaf",
   "metadata": {},
   "source": [
    "**Divide the aggregated tree counts and benefits by the neighborhood area to get the corresponding neighborhood density values**"
   ]
  },
  {
   "cell_type": "code",
   "execution_count": 445,
   "id": "e760999e",
   "metadata": {},
   "outputs": [],
   "source": [
    "combined_data[['tree_count', 'stormwater_benefits_dollar_value', 'property_value_benefits_dollarvalue', \n",
    "               'energy_benefits_electricity_dollar_value', 'energy_benefits_gas_dollar_value',\n",
    "              'air_quality_benfits_total_dollar_value', 'co2_benefits_dollar_value', 'overall_benefits_dollar_value']] = combined_data[['tree_count', 'stormwater_benefits_dollar_value', 'property_value_benefits_dollarvalue', \n",
    "               'energy_benefits_electricity_dollar_value', 'energy_benefits_gas_dollar_value',\n",
    "              'air_quality_benfits_total_dollar_value', 'co2_benefits_dollar_value', 'overall_benefits_dollar_value']].div(combined_data.Neighborhood_2010_ACRES, axis=0)"
   ]
  },
  {
   "cell_type": "code",
   "execution_count": 446,
   "id": "75d19b80",
   "metadata": {},
   "outputs": [
    {
     "data": {
      "text/html": [
       "<div>\n",
       "<style scoped>\n",
       "    .dataframe tbody tr th:only-of-type {\n",
       "        vertical-align: middle;\n",
       "    }\n",
       "\n",
       "    .dataframe tbody tr th {\n",
       "        vertical-align: top;\n",
       "    }\n",
       "\n",
       "    .dataframe thead th {\n",
       "        text-align: right;\n",
       "    }\n",
       "</style>\n",
       "<table border=\"1\" class=\"dataframe\">\n",
       "  <thead>\n",
       "    <tr style=\"text-align: right;\">\n",
       "      <th></th>\n",
       "      <th>neighborhood</th>\n",
       "      <th>tree_count</th>\n",
       "      <th>stormwater_benefits_dollar_value</th>\n",
       "      <th>property_value_benefits_dollarvalue</th>\n",
       "      <th>energy_benefits_electricity_dollar_value</th>\n",
       "      <th>energy_benefits_gas_dollar_value</th>\n",
       "      <th>air_quality_benfits_total_dollar_value</th>\n",
       "      <th>co2_benefits_dollar_value</th>\n",
       "      <th>overall_benefits_dollar_value</th>\n",
       "      <th>Neighborhood_2010_AREA</th>\n",
       "      <th>Neighborhood_2010_ACRES</th>\n",
       "    </tr>\n",
       "  </thead>\n",
       "  <tbody>\n",
       "    <tr>\n",
       "      <th>0</th>\n",
       "      <td>Allegheny Center</td>\n",
       "      <td>6.406687</td>\n",
       "      <td>112.681320</td>\n",
       "      <td>430.303156</td>\n",
       "      <td>105.368577</td>\n",
       "      <td>359.936222</td>\n",
       "      <td>79.604781</td>\n",
       "      <td>10.172134</td>\n",
       "      <td>1098.066189</td>\n",
       "      <td>5840713.0</td>\n",
       "      <td>134.703</td>\n",
       "    </tr>\n",
       "    <tr>\n",
       "      <th>1</th>\n",
       "      <td>Allegheny West</td>\n",
       "      <td>4.227166</td>\n",
       "      <td>59.060754</td>\n",
       "      <td>252.741943</td>\n",
       "      <td>55.284105</td>\n",
       "      <td>190.093803</td>\n",
       "      <td>41.437534</td>\n",
       "      <td>5.328917</td>\n",
       "      <td>603.947056</td>\n",
       "      <td>3938870.2</td>\n",
       "      <td>90.841</td>\n",
       "    </tr>\n",
       "    <tr>\n",
       "      <th>2</th>\n",
       "      <td>Allentown</td>\n",
       "      <td>0.411375</td>\n",
       "      <td>2.777930</td>\n",
       "      <td>17.500311</td>\n",
       "      <td>3.314272</td>\n",
       "      <td>12.147347</td>\n",
       "      <td>2.259781</td>\n",
       "      <td>0.280878</td>\n",
       "      <td>38.115887</td>\n",
       "      <td>8221419.5</td>\n",
       "      <td>189.608</td>\n",
       "    </tr>\n",
       "    <tr>\n",
       "      <th>3</th>\n",
       "      <td>Arlington</td>\n",
       "      <td>0.314237</td>\n",
       "      <td>1.292829</td>\n",
       "      <td>8.932932</td>\n",
       "      <td>1.671112</td>\n",
       "      <td>6.510847</td>\n",
       "      <td>1.000495</td>\n",
       "      <td>0.126470</td>\n",
       "      <td>19.497032</td>\n",
       "      <td>13108599.0</td>\n",
       "      <td>302.320</td>\n",
       "    </tr>\n",
       "    <tr>\n",
       "      <th>4</th>\n",
       "      <td>Arlington Heights</td>\n",
       "      <td>0.047286</td>\n",
       "      <td>0.935976</td>\n",
       "      <td>3.904497</td>\n",
       "      <td>1.093401</td>\n",
       "      <td>3.827916</td>\n",
       "      <td>0.516332</td>\n",
       "      <td>0.052479</td>\n",
       "      <td>10.330601</td>\n",
       "      <td>3667921.5</td>\n",
       "      <td>84.592</td>\n",
       "    </tr>\n",
       "  </tbody>\n",
       "</table>\n",
       "</div>"
      ],
      "text/plain": [
       "        neighborhood  tree_count  stormwater_benefits_dollar_value  \\\n",
       "0   Allegheny Center    6.406687                        112.681320   \n",
       "1     Allegheny West    4.227166                         59.060754   \n",
       "2          Allentown    0.411375                          2.777930   \n",
       "3          Arlington    0.314237                          1.292829   \n",
       "4  Arlington Heights    0.047286                          0.935976   \n",
       "\n",
       "   property_value_benefits_dollarvalue  \\\n",
       "0                           430.303156   \n",
       "1                           252.741943   \n",
       "2                            17.500311   \n",
       "3                             8.932932   \n",
       "4                             3.904497   \n",
       "\n",
       "   energy_benefits_electricity_dollar_value  energy_benefits_gas_dollar_value  \\\n",
       "0                                105.368577                        359.936222   \n",
       "1                                 55.284105                        190.093803   \n",
       "2                                  3.314272                         12.147347   \n",
       "3                                  1.671112                          6.510847   \n",
       "4                                  1.093401                          3.827916   \n",
       "\n",
       "   air_quality_benfits_total_dollar_value  co2_benefits_dollar_value  \\\n",
       "0                               79.604781                  10.172134   \n",
       "1                               41.437534                   5.328917   \n",
       "2                                2.259781                   0.280878   \n",
       "3                                1.000495                   0.126470   \n",
       "4                                0.516332                   0.052479   \n",
       "\n",
       "   overall_benefits_dollar_value  Neighborhood_2010_AREA  \\\n",
       "0                    1098.066189               5840713.0   \n",
       "1                     603.947056               3938870.2   \n",
       "2                      38.115887               8221419.5   \n",
       "3                      19.497032              13108599.0   \n",
       "4                      10.330601               3667921.5   \n",
       "\n",
       "   Neighborhood_2010_ACRES  \n",
       "0                  134.703  \n",
       "1                   90.841  \n",
       "2                  189.608  \n",
       "3                  302.320  \n",
       "4                   84.592  "
      ]
     },
     "execution_count": 446,
     "metadata": {},
     "output_type": "execute_result"
    }
   ],
   "source": [
    "combined_data.head(5)"
   ]
  },
  {
   "cell_type": "markdown",
   "id": "e1f8874f",
   "metadata": {},
   "source": [
    "# Plot neighborhood level tree density data"
   ]
  },
  {
   "cell_type": "code",
   "execution_count": 447,
   "id": "4ac8af8e",
   "metadata": {},
   "outputs": [],
   "source": [
    "tree_density_map = combined_data[['neighborhood', 'tree_count']].copy()"
   ]
  },
  {
   "cell_type": "code",
   "execution_count": 448,
   "id": "624c6f82",
   "metadata": {
    "scrolled": false
   },
   "outputs": [
    {
     "data": {
      "application/vnd.plotly.v1+json": {
       "config": {
        "plotlyServerURL": "https://plot.ly"
       },
       "data": [
        {
         "coloraxis": "coloraxis",
         "featureidkey": "properties.name",
         "geo": "geo",
         "geojson": "https://raw.githubusercontent.com/blackmad/neighborhoods/master/gn-pittsburgh.geojson",
         "hovertemplate": "neighborhood=%{location}<br>tree_count=%{z}<extra></extra>",
         "locations": [
          "Allegheny Center",
          "Allegheny West",
          "Allentown",
          "Arlington",
          "Arlington Heights",
          "Banksville",
          "Bedford Dwellings",
          "Beechview",
          "Beltzhoover",
          "Bloomfield",
          "Bluff",
          "Bon Air",
          "Brighton Heights",
          "Brookline",
          "California-Kirkbride",
          "Carrick",
          "Central Business District",
          "Central Lawrenceville",
          "Central Northside",
          "Central Oakland",
          "Chartiers City",
          "Chateau",
          "Crafton Heights",
          "Crawford-Roberts",
          "Duquesne Heights",
          "East Allegheny",
          "East Carnegie",
          "East Hills",
          "East Liberty",
          "Elliott",
          "Esplen",
          "Fairywood",
          "Fineview",
          "Friendship",
          "Garfield",
          "Glen Hazel",
          "Greenfield",
          "Hays",
          "Hazelwood",
          "Highland Park",
          "Homewood North",
          "Homewood South",
          "Homewood West",
          "Knoxville",
          "Larimer",
          "Lincoln Place",
          "Lincoln-Lemington-Belmar",
          "Lower Lawrenceville",
          "Manchester",
          "Marshall-Shadeland",
          "Middle Hill",
          "Morningside",
          "Mount Washington",
          "Mt. Oliver",
          "New Homestead",
          "North Oakland",
          "North Shore",
          "Northview Heights",
          "Oakwood",
          "Overbrook",
          "Perry North",
          "Perry South",
          "Point Breeze",
          "Point Breeze North",
          "Polish Hill",
          "Regent Square",
          "Ridgemont",
          "Shadyside",
          "Sheraden",
          "South Oakland",
          "South Shore",
          "South Side Flats",
          "South Side Slopes",
          "Spring Garden",
          "Spring Hill-City View",
          "Squirrel Hill North",
          "Squirrel Hill South",
          "St. Clair",
          "Stanton Heights",
          "Strip District",
          "Summer Hill",
          "Swisshelm Park",
          "Terrace Village",
          "Troy Hill",
          "Upper Hill",
          "Upper Lawrenceville",
          "West End",
          "West Oakland",
          "Westwood",
          "Windgap"
         ],
         "name": "",
         "type": "choropleth",
         "z": [
          6.40668730466285,
          4.227166147444436,
          0.4113750474663516,
          0.31423657052130194,
          0.04728579534707774,
          0.6967197982402207,
          1.7179745253878458,
          0.6231332631731438,
          0.5954714580543987,
          3.0504757368660074,
          1.0260795211628901,
          0.41184935245372895,
          1.2029036758174594,
          0.6013435733553253,
          0.6592524650309562,
          0.6758578374408508,
          2.388281627724475,
          1.1256478127387157,
          3.898483255744106,
          2.028935831449058,
          0.3178190550180098,
          0.9979675538841627,
          0.7305370685652376,
          3.377463109794643,
          0.23722244973381143,
          2.3466596354767475,
          0.028787851526655753,
          1.3416571620647155,
          3.5300414826709487,
          0.3821786749429297,
          0.020293717741444506,
          0.04335636037806746,
          0.5047106325706595,
          5.183243773518603,
          1.85665658994073,
          0.006821352196645941,
          1.3862398094272355,
          0.0008885113702800055,
          0.5246584561875801,
          3.8612207449334015,
          1.361324066776528,
          1.7298403314420931,
          0.6962971076287563,
          2.180614696208927,
          1.0588481968129717,
          0.4015829324091656,
          2.8538907859304294,
          1.8017887637847694,
          3.8481672476972255,
          3.1846918878070833,
          1.7235400901544047,
          1.5469982128099593,
          1.1372091277073564,
          0.1962975266511642,
          0.350480098995943,
          2.3886815164073734,
          2.3382936609679303,
          0.02976810645074867,
          0.5678486559886431,
          0.4707932124222682,
          1.2707165300967285,
          0.582818710715612,
          1.9993959996592816,
          3.009016165980161,
          1.6251519761481454,
          3.460487378923368,
          0.12655077427982064,
          2.529960952805588,
          0.6065108149442866,
          0.6823891576624959,
          0.014684179998678425,
          2.6780682666365223,
          0.4667500303930252,
          0.2946075487518838,
          0.2569392116413228,
          2.5459699623893695,
          2.9077400967111795,
          0.06021526958877989,
          1.3457042201368978,
          1.1666461991894879,
          0.26231460737883905,
          0.7680466661265495,
          1.1829850352393043,
          0.801068090787717,
          0.8649529992493799,
          1.2444833665579664,
          0.7304999261728798,
          0.5636978579481398,
          0.5707749730904319,
          0.39748310696795386
         ]
        }
       ],
       "layout": {
        "coloraxis": {
         "colorbar": {
          "title": {
           "text": "tree_count"
          }
         },
         "colorscale": [
          [
           0,
           "rgb(247,252,245)"
          ],
          [
           0.125,
           "rgb(229,245,224)"
          ],
          [
           0.25,
           "rgb(199,233,192)"
          ],
          [
           0.375,
           "rgb(161,217,155)"
          ],
          [
           0.5,
           "rgb(116,196,118)"
          ],
          [
           0.625,
           "rgb(65,171,93)"
          ],
          [
           0.75,
           "rgb(35,139,69)"
          ],
          [
           0.875,
           "rgb(0,109,44)"
          ],
          [
           1,
           "rgb(0,68,27)"
          ]
         ]
        },
        "geo": {
         "center": {},
         "domain": {
          "x": [
           0,
           1
          ],
          "y": [
           0,
           1
          ]
         },
         "fitbounds": "locations",
         "visible": false
        },
        "height": 500,
        "legend": {
         "tracegroupgap": 0
        },
        "template": {
         "data": {
          "bar": [
           {
            "error_x": {
             "color": "#2a3f5f"
            },
            "error_y": {
             "color": "#2a3f5f"
            },
            "marker": {
             "line": {
              "color": "#E5ECF6",
              "width": 0.5
             },
             "pattern": {
              "fillmode": "overlay",
              "size": 10,
              "solidity": 0.2
             }
            },
            "type": "bar"
           }
          ],
          "barpolar": [
           {
            "marker": {
             "line": {
              "color": "#E5ECF6",
              "width": 0.5
             },
             "pattern": {
              "fillmode": "overlay",
              "size": 10,
              "solidity": 0.2
             }
            },
            "type": "barpolar"
           }
          ],
          "carpet": [
           {
            "aaxis": {
             "endlinecolor": "#2a3f5f",
             "gridcolor": "white",
             "linecolor": "white",
             "minorgridcolor": "white",
             "startlinecolor": "#2a3f5f"
            },
            "baxis": {
             "endlinecolor": "#2a3f5f",
             "gridcolor": "white",
             "linecolor": "white",
             "minorgridcolor": "white",
             "startlinecolor": "#2a3f5f"
            },
            "type": "carpet"
           }
          ],
          "choropleth": [
           {
            "colorbar": {
             "outlinewidth": 0,
             "ticks": ""
            },
            "type": "choropleth"
           }
          ],
          "contour": [
           {
            "colorbar": {
             "outlinewidth": 0,
             "ticks": ""
            },
            "colorscale": [
             [
              0,
              "#0d0887"
             ],
             [
              0.1111111111111111,
              "#46039f"
             ],
             [
              0.2222222222222222,
              "#7201a8"
             ],
             [
              0.3333333333333333,
              "#9c179e"
             ],
             [
              0.4444444444444444,
              "#bd3786"
             ],
             [
              0.5555555555555556,
              "#d8576b"
             ],
             [
              0.6666666666666666,
              "#ed7953"
             ],
             [
              0.7777777777777778,
              "#fb9f3a"
             ],
             [
              0.8888888888888888,
              "#fdca26"
             ],
             [
              1,
              "#f0f921"
             ]
            ],
            "type": "contour"
           }
          ],
          "contourcarpet": [
           {
            "colorbar": {
             "outlinewidth": 0,
             "ticks": ""
            },
            "type": "contourcarpet"
           }
          ],
          "heatmap": [
           {
            "colorbar": {
             "outlinewidth": 0,
             "ticks": ""
            },
            "colorscale": [
             [
              0,
              "#0d0887"
             ],
             [
              0.1111111111111111,
              "#46039f"
             ],
             [
              0.2222222222222222,
              "#7201a8"
             ],
             [
              0.3333333333333333,
              "#9c179e"
             ],
             [
              0.4444444444444444,
              "#bd3786"
             ],
             [
              0.5555555555555556,
              "#d8576b"
             ],
             [
              0.6666666666666666,
              "#ed7953"
             ],
             [
              0.7777777777777778,
              "#fb9f3a"
             ],
             [
              0.8888888888888888,
              "#fdca26"
             ],
             [
              1,
              "#f0f921"
             ]
            ],
            "type": "heatmap"
           }
          ],
          "heatmapgl": [
           {
            "colorbar": {
             "outlinewidth": 0,
             "ticks": ""
            },
            "colorscale": [
             [
              0,
              "#0d0887"
             ],
             [
              0.1111111111111111,
              "#46039f"
             ],
             [
              0.2222222222222222,
              "#7201a8"
             ],
             [
              0.3333333333333333,
              "#9c179e"
             ],
             [
              0.4444444444444444,
              "#bd3786"
             ],
             [
              0.5555555555555556,
              "#d8576b"
             ],
             [
              0.6666666666666666,
              "#ed7953"
             ],
             [
              0.7777777777777778,
              "#fb9f3a"
             ],
             [
              0.8888888888888888,
              "#fdca26"
             ],
             [
              1,
              "#f0f921"
             ]
            ],
            "type": "heatmapgl"
           }
          ],
          "histogram": [
           {
            "marker": {
             "pattern": {
              "fillmode": "overlay",
              "size": 10,
              "solidity": 0.2
             }
            },
            "type": "histogram"
           }
          ],
          "histogram2d": [
           {
            "colorbar": {
             "outlinewidth": 0,
             "ticks": ""
            },
            "colorscale": [
             [
              0,
              "#0d0887"
             ],
             [
              0.1111111111111111,
              "#46039f"
             ],
             [
              0.2222222222222222,
              "#7201a8"
             ],
             [
              0.3333333333333333,
              "#9c179e"
             ],
             [
              0.4444444444444444,
              "#bd3786"
             ],
             [
              0.5555555555555556,
              "#d8576b"
             ],
             [
              0.6666666666666666,
              "#ed7953"
             ],
             [
              0.7777777777777778,
              "#fb9f3a"
             ],
             [
              0.8888888888888888,
              "#fdca26"
             ],
             [
              1,
              "#f0f921"
             ]
            ],
            "type": "histogram2d"
           }
          ],
          "histogram2dcontour": [
           {
            "colorbar": {
             "outlinewidth": 0,
             "ticks": ""
            },
            "colorscale": [
             [
              0,
              "#0d0887"
             ],
             [
              0.1111111111111111,
              "#46039f"
             ],
             [
              0.2222222222222222,
              "#7201a8"
             ],
             [
              0.3333333333333333,
              "#9c179e"
             ],
             [
              0.4444444444444444,
              "#bd3786"
             ],
             [
              0.5555555555555556,
              "#d8576b"
             ],
             [
              0.6666666666666666,
              "#ed7953"
             ],
             [
              0.7777777777777778,
              "#fb9f3a"
             ],
             [
              0.8888888888888888,
              "#fdca26"
             ],
             [
              1,
              "#f0f921"
             ]
            ],
            "type": "histogram2dcontour"
           }
          ],
          "mesh3d": [
           {
            "colorbar": {
             "outlinewidth": 0,
             "ticks": ""
            },
            "type": "mesh3d"
           }
          ],
          "parcoords": [
           {
            "line": {
             "colorbar": {
              "outlinewidth": 0,
              "ticks": ""
             }
            },
            "type": "parcoords"
           }
          ],
          "pie": [
           {
            "automargin": true,
            "type": "pie"
           }
          ],
          "scatter": [
           {
            "marker": {
             "colorbar": {
              "outlinewidth": 0,
              "ticks": ""
             }
            },
            "type": "scatter"
           }
          ],
          "scatter3d": [
           {
            "line": {
             "colorbar": {
              "outlinewidth": 0,
              "ticks": ""
             }
            },
            "marker": {
             "colorbar": {
              "outlinewidth": 0,
              "ticks": ""
             }
            },
            "type": "scatter3d"
           }
          ],
          "scattercarpet": [
           {
            "marker": {
             "colorbar": {
              "outlinewidth": 0,
              "ticks": ""
             }
            },
            "type": "scattercarpet"
           }
          ],
          "scattergeo": [
           {
            "marker": {
             "colorbar": {
              "outlinewidth": 0,
              "ticks": ""
             }
            },
            "type": "scattergeo"
           }
          ],
          "scattergl": [
           {
            "marker": {
             "colorbar": {
              "outlinewidth": 0,
              "ticks": ""
             }
            },
            "type": "scattergl"
           }
          ],
          "scattermapbox": [
           {
            "marker": {
             "colorbar": {
              "outlinewidth": 0,
              "ticks": ""
             }
            },
            "type": "scattermapbox"
           }
          ],
          "scatterpolar": [
           {
            "marker": {
             "colorbar": {
              "outlinewidth": 0,
              "ticks": ""
             }
            },
            "type": "scatterpolar"
           }
          ],
          "scatterpolargl": [
           {
            "marker": {
             "colorbar": {
              "outlinewidth": 0,
              "ticks": ""
             }
            },
            "type": "scatterpolargl"
           }
          ],
          "scatterternary": [
           {
            "marker": {
             "colorbar": {
              "outlinewidth": 0,
              "ticks": ""
             }
            },
            "type": "scatterternary"
           }
          ],
          "surface": [
           {
            "colorbar": {
             "outlinewidth": 0,
             "ticks": ""
            },
            "colorscale": [
             [
              0,
              "#0d0887"
             ],
             [
              0.1111111111111111,
              "#46039f"
             ],
             [
              0.2222222222222222,
              "#7201a8"
             ],
             [
              0.3333333333333333,
              "#9c179e"
             ],
             [
              0.4444444444444444,
              "#bd3786"
             ],
             [
              0.5555555555555556,
              "#d8576b"
             ],
             [
              0.6666666666666666,
              "#ed7953"
             ],
             [
              0.7777777777777778,
              "#fb9f3a"
             ],
             [
              0.8888888888888888,
              "#fdca26"
             ],
             [
              1,
              "#f0f921"
             ]
            ],
            "type": "surface"
           }
          ],
          "table": [
           {
            "cells": {
             "fill": {
              "color": "#EBF0F8"
             },
             "line": {
              "color": "white"
             }
            },
            "header": {
             "fill": {
              "color": "#C8D4E3"
             },
             "line": {
              "color": "white"
             }
            },
            "type": "table"
           }
          ]
         },
         "layout": {
          "annotationdefaults": {
           "arrowcolor": "#2a3f5f",
           "arrowhead": 0,
           "arrowwidth": 1
          },
          "autotypenumbers": "strict",
          "coloraxis": {
           "colorbar": {
            "outlinewidth": 0,
            "ticks": ""
           }
          },
          "colorscale": {
           "diverging": [
            [
             0,
             "#8e0152"
            ],
            [
             0.1,
             "#c51b7d"
            ],
            [
             0.2,
             "#de77ae"
            ],
            [
             0.3,
             "#f1b6da"
            ],
            [
             0.4,
             "#fde0ef"
            ],
            [
             0.5,
             "#f7f7f7"
            ],
            [
             0.6,
             "#e6f5d0"
            ],
            [
             0.7,
             "#b8e186"
            ],
            [
             0.8,
             "#7fbc41"
            ],
            [
             0.9,
             "#4d9221"
            ],
            [
             1,
             "#276419"
            ]
           ],
           "sequential": [
            [
             0,
             "#0d0887"
            ],
            [
             0.1111111111111111,
             "#46039f"
            ],
            [
             0.2222222222222222,
             "#7201a8"
            ],
            [
             0.3333333333333333,
             "#9c179e"
            ],
            [
             0.4444444444444444,
             "#bd3786"
            ],
            [
             0.5555555555555556,
             "#d8576b"
            ],
            [
             0.6666666666666666,
             "#ed7953"
            ],
            [
             0.7777777777777778,
             "#fb9f3a"
            ],
            [
             0.8888888888888888,
             "#fdca26"
            ],
            [
             1,
             "#f0f921"
            ]
           ],
           "sequentialminus": [
            [
             0,
             "#0d0887"
            ],
            [
             0.1111111111111111,
             "#46039f"
            ],
            [
             0.2222222222222222,
             "#7201a8"
            ],
            [
             0.3333333333333333,
             "#9c179e"
            ],
            [
             0.4444444444444444,
             "#bd3786"
            ],
            [
             0.5555555555555556,
             "#d8576b"
            ],
            [
             0.6666666666666666,
             "#ed7953"
            ],
            [
             0.7777777777777778,
             "#fb9f3a"
            ],
            [
             0.8888888888888888,
             "#fdca26"
            ],
            [
             1,
             "#f0f921"
            ]
           ]
          },
          "colorway": [
           "#636efa",
           "#EF553B",
           "#00cc96",
           "#ab63fa",
           "#FFA15A",
           "#19d3f3",
           "#FF6692",
           "#B6E880",
           "#FF97FF",
           "#FECB52"
          ],
          "font": {
           "color": "#2a3f5f"
          },
          "geo": {
           "bgcolor": "white",
           "lakecolor": "white",
           "landcolor": "#E5ECF6",
           "showlakes": true,
           "showland": true,
           "subunitcolor": "white"
          },
          "hoverlabel": {
           "align": "left"
          },
          "hovermode": "closest",
          "mapbox": {
           "style": "light"
          },
          "paper_bgcolor": "white",
          "plot_bgcolor": "#E5ECF6",
          "polar": {
           "angularaxis": {
            "gridcolor": "white",
            "linecolor": "white",
            "ticks": ""
           },
           "bgcolor": "#E5ECF6",
           "radialaxis": {
            "gridcolor": "white",
            "linecolor": "white",
            "ticks": ""
           }
          },
          "scene": {
           "xaxis": {
            "backgroundcolor": "#E5ECF6",
            "gridcolor": "white",
            "gridwidth": 2,
            "linecolor": "white",
            "showbackground": true,
            "ticks": "",
            "zerolinecolor": "white"
           },
           "yaxis": {
            "backgroundcolor": "#E5ECF6",
            "gridcolor": "white",
            "gridwidth": 2,
            "linecolor": "white",
            "showbackground": true,
            "ticks": "",
            "zerolinecolor": "white"
           },
           "zaxis": {
            "backgroundcolor": "#E5ECF6",
            "gridcolor": "white",
            "gridwidth": 2,
            "linecolor": "white",
            "showbackground": true,
            "ticks": "",
            "zerolinecolor": "white"
           }
          },
          "shapedefaults": {
           "line": {
            "color": "#2a3f5f"
           }
          },
          "ternary": {
           "aaxis": {
            "gridcolor": "white",
            "linecolor": "white",
            "ticks": ""
           },
           "baxis": {
            "gridcolor": "white",
            "linecolor": "white",
            "ticks": ""
           },
           "bgcolor": "#E5ECF6",
           "caxis": {
            "gridcolor": "white",
            "linecolor": "white",
            "ticks": ""
           }
          },
          "title": {
           "x": 0.05
          },
          "xaxis": {
           "automargin": true,
           "gridcolor": "white",
           "linecolor": "white",
           "ticks": "",
           "title": {
            "standoff": 15
           },
           "zerolinecolor": "white",
           "zerolinewidth": 2
          },
          "yaxis": {
           "automargin": true,
           "gridcolor": "white",
           "linecolor": "white",
           "ticks": "",
           "title": {
            "standoff": 15
           },
           "zerolinecolor": "white",
           "zerolinewidth": 2
          }
         }
        },
        "title": {
         "text": "Average Tree Density (trees per acre) across Neighborhoods"
        }
       }
      },
      "text/html": [
       "<div>                            <div id=\"b56f6392-c04a-4c4d-8219-116bf0e37f88\" class=\"plotly-graph-div\" style=\"height:500px; width:100%;\"></div>            <script type=\"text/javascript\">                require([\"plotly\"], function(Plotly) {                    window.PLOTLYENV=window.PLOTLYENV || {};                                    if (document.getElementById(\"b56f6392-c04a-4c4d-8219-116bf0e37f88\")) {                    Plotly.newPlot(                        \"b56f6392-c04a-4c4d-8219-116bf0e37f88\",                        [{\"coloraxis\":\"coloraxis\",\"featureidkey\":\"properties.name\",\"geo\":\"geo\",\"geojson\":\"https://raw.githubusercontent.com/blackmad/neighborhoods/master/gn-pittsburgh.geojson\",\"hovertemplate\":\"neighborhood=%{location}<br>tree_count=%{z}<extra></extra>\",\"locations\":[\"Allegheny Center\",\"Allegheny West\",\"Allentown\",\"Arlington\",\"Arlington Heights\",\"Banksville\",\"Bedford Dwellings\",\"Beechview\",\"Beltzhoover\",\"Bloomfield\",\"Bluff\",\"Bon Air\",\"Brighton Heights\",\"Brookline\",\"California-Kirkbride\",\"Carrick\",\"Central Business District\",\"Central Lawrenceville\",\"Central Northside\",\"Central Oakland\",\"Chartiers City\",\"Chateau\",\"Crafton Heights\",\"Crawford-Roberts\",\"Duquesne Heights\",\"East Allegheny\",\"East Carnegie\",\"East Hills\",\"East Liberty\",\"Elliott\",\"Esplen\",\"Fairywood\",\"Fineview\",\"Friendship\",\"Garfield\",\"Glen Hazel\",\"Greenfield\",\"Hays\",\"Hazelwood\",\"Highland Park\",\"Homewood North\",\"Homewood South\",\"Homewood West\",\"Knoxville\",\"Larimer\",\"Lincoln Place\",\"Lincoln-Lemington-Belmar\",\"Lower Lawrenceville\",\"Manchester\",\"Marshall-Shadeland\",\"Middle Hill\",\"Morningside\",\"Mount Washington\",\"Mt. Oliver\",\"New Homestead\",\"North Oakland\",\"North Shore\",\"Northview Heights\",\"Oakwood\",\"Overbrook\",\"Perry North\",\"Perry South\",\"Point Breeze\",\"Point Breeze North\",\"Polish Hill\",\"Regent Square\",\"Ridgemont\",\"Shadyside\",\"Sheraden\",\"South Oakland\",\"South Shore\",\"South Side Flats\",\"South Side Slopes\",\"Spring Garden\",\"Spring Hill-City View\",\"Squirrel Hill North\",\"Squirrel Hill South\",\"St. Clair\",\"Stanton Heights\",\"Strip District\",\"Summer Hill\",\"Swisshelm Park\",\"Terrace Village\",\"Troy Hill\",\"Upper Hill\",\"Upper Lawrenceville\",\"West End\",\"West Oakland\",\"Westwood\",\"Windgap\"],\"name\":\"\",\"type\":\"choropleth\",\"z\":[6.40668730466285,4.227166147444436,0.4113750474663516,0.31423657052130194,0.04728579534707774,0.6967197982402207,1.7179745253878458,0.6231332631731438,0.5954714580543987,3.0504757368660074,1.0260795211628901,0.41184935245372895,1.2029036758174594,0.6013435733553253,0.6592524650309562,0.6758578374408508,2.388281627724475,1.1256478127387157,3.898483255744106,2.028935831449058,0.3178190550180098,0.9979675538841627,0.7305370685652376,3.377463109794643,0.23722244973381143,2.3466596354767475,0.028787851526655753,1.3416571620647155,3.5300414826709487,0.3821786749429297,0.020293717741444506,0.04335636037806746,0.5047106325706595,5.183243773518603,1.85665658994073,0.006821352196645941,1.3862398094272355,0.0008885113702800055,0.5246584561875801,3.8612207449334015,1.361324066776528,1.7298403314420931,0.6962971076287563,2.180614696208927,1.0588481968129717,0.4015829324091656,2.8538907859304294,1.8017887637847694,3.8481672476972255,3.1846918878070833,1.7235400901544047,1.5469982128099593,1.1372091277073564,0.1962975266511642,0.350480098995943,2.3886815164073734,2.3382936609679303,0.02976810645074867,0.5678486559886431,0.4707932124222682,1.2707165300967285,0.582818710715612,1.9993959996592816,3.009016165980161,1.6251519761481454,3.460487378923368,0.12655077427982064,2.529960952805588,0.6065108149442866,0.6823891576624959,0.014684179998678425,2.6780682666365223,0.4667500303930252,0.2946075487518838,0.2569392116413228,2.5459699623893695,2.9077400967111795,0.06021526958877989,1.3457042201368978,1.1666461991894879,0.26231460737883905,0.7680466661265495,1.1829850352393043,0.801068090787717,0.8649529992493799,1.2444833665579664,0.7304999261728798,0.5636978579481398,0.5707749730904319,0.39748310696795386]}],                        {\"coloraxis\":{\"colorbar\":{\"title\":{\"text\":\"tree_count\"}},\"colorscale\":[[0.0,\"rgb(247,252,245)\"],[0.125,\"rgb(229,245,224)\"],[0.25,\"rgb(199,233,192)\"],[0.375,\"rgb(161,217,155)\"],[0.5,\"rgb(116,196,118)\"],[0.625,\"rgb(65,171,93)\"],[0.75,\"rgb(35,139,69)\"],[0.875,\"rgb(0,109,44)\"],[1.0,\"rgb(0,68,27)\"]]},\"geo\":{\"center\":{},\"domain\":{\"x\":[0.0,1.0],\"y\":[0.0,1.0]},\"fitbounds\":\"locations\",\"visible\":false},\"height\":500,\"legend\":{\"tracegroupgap\":0},\"template\":{\"data\":{\"bar\":[{\"error_x\":{\"color\":\"#2a3f5f\"},\"error_y\":{\"color\":\"#2a3f5f\"},\"marker\":{\"line\":{\"color\":\"#E5ECF6\",\"width\":0.5},\"pattern\":{\"fillmode\":\"overlay\",\"size\":10,\"solidity\":0.2}},\"type\":\"bar\"}],\"barpolar\":[{\"marker\":{\"line\":{\"color\":\"#E5ECF6\",\"width\":0.5},\"pattern\":{\"fillmode\":\"overlay\",\"size\":10,\"solidity\":0.2}},\"type\":\"barpolar\"}],\"carpet\":[{\"aaxis\":{\"endlinecolor\":\"#2a3f5f\",\"gridcolor\":\"white\",\"linecolor\":\"white\",\"minorgridcolor\":\"white\",\"startlinecolor\":\"#2a3f5f\"},\"baxis\":{\"endlinecolor\":\"#2a3f5f\",\"gridcolor\":\"white\",\"linecolor\":\"white\",\"minorgridcolor\":\"white\",\"startlinecolor\":\"#2a3f5f\"},\"type\":\"carpet\"}],\"choropleth\":[{\"colorbar\":{\"outlinewidth\":0,\"ticks\":\"\"},\"type\":\"choropleth\"}],\"contour\":[{\"colorbar\":{\"outlinewidth\":0,\"ticks\":\"\"},\"colorscale\":[[0.0,\"#0d0887\"],[0.1111111111111111,\"#46039f\"],[0.2222222222222222,\"#7201a8\"],[0.3333333333333333,\"#9c179e\"],[0.4444444444444444,\"#bd3786\"],[0.5555555555555556,\"#d8576b\"],[0.6666666666666666,\"#ed7953\"],[0.7777777777777778,\"#fb9f3a\"],[0.8888888888888888,\"#fdca26\"],[1.0,\"#f0f921\"]],\"type\":\"contour\"}],\"contourcarpet\":[{\"colorbar\":{\"outlinewidth\":0,\"ticks\":\"\"},\"type\":\"contourcarpet\"}],\"heatmap\":[{\"colorbar\":{\"outlinewidth\":0,\"ticks\":\"\"},\"colorscale\":[[0.0,\"#0d0887\"],[0.1111111111111111,\"#46039f\"],[0.2222222222222222,\"#7201a8\"],[0.3333333333333333,\"#9c179e\"],[0.4444444444444444,\"#bd3786\"],[0.5555555555555556,\"#d8576b\"],[0.6666666666666666,\"#ed7953\"],[0.7777777777777778,\"#fb9f3a\"],[0.8888888888888888,\"#fdca26\"],[1.0,\"#f0f921\"]],\"type\":\"heatmap\"}],\"heatmapgl\":[{\"colorbar\":{\"outlinewidth\":0,\"ticks\":\"\"},\"colorscale\":[[0.0,\"#0d0887\"],[0.1111111111111111,\"#46039f\"],[0.2222222222222222,\"#7201a8\"],[0.3333333333333333,\"#9c179e\"],[0.4444444444444444,\"#bd3786\"],[0.5555555555555556,\"#d8576b\"],[0.6666666666666666,\"#ed7953\"],[0.7777777777777778,\"#fb9f3a\"],[0.8888888888888888,\"#fdca26\"],[1.0,\"#f0f921\"]],\"type\":\"heatmapgl\"}],\"histogram\":[{\"marker\":{\"pattern\":{\"fillmode\":\"overlay\",\"size\":10,\"solidity\":0.2}},\"type\":\"histogram\"}],\"histogram2d\":[{\"colorbar\":{\"outlinewidth\":0,\"ticks\":\"\"},\"colorscale\":[[0.0,\"#0d0887\"],[0.1111111111111111,\"#46039f\"],[0.2222222222222222,\"#7201a8\"],[0.3333333333333333,\"#9c179e\"],[0.4444444444444444,\"#bd3786\"],[0.5555555555555556,\"#d8576b\"],[0.6666666666666666,\"#ed7953\"],[0.7777777777777778,\"#fb9f3a\"],[0.8888888888888888,\"#fdca26\"],[1.0,\"#f0f921\"]],\"type\":\"histogram2d\"}],\"histogram2dcontour\":[{\"colorbar\":{\"outlinewidth\":0,\"ticks\":\"\"},\"colorscale\":[[0.0,\"#0d0887\"],[0.1111111111111111,\"#46039f\"],[0.2222222222222222,\"#7201a8\"],[0.3333333333333333,\"#9c179e\"],[0.4444444444444444,\"#bd3786\"],[0.5555555555555556,\"#d8576b\"],[0.6666666666666666,\"#ed7953\"],[0.7777777777777778,\"#fb9f3a\"],[0.8888888888888888,\"#fdca26\"],[1.0,\"#f0f921\"]],\"type\":\"histogram2dcontour\"}],\"mesh3d\":[{\"colorbar\":{\"outlinewidth\":0,\"ticks\":\"\"},\"type\":\"mesh3d\"}],\"parcoords\":[{\"line\":{\"colorbar\":{\"outlinewidth\":0,\"ticks\":\"\"}},\"type\":\"parcoords\"}],\"pie\":[{\"automargin\":true,\"type\":\"pie\"}],\"scatter\":[{\"marker\":{\"colorbar\":{\"outlinewidth\":0,\"ticks\":\"\"}},\"type\":\"scatter\"}],\"scatter3d\":[{\"line\":{\"colorbar\":{\"outlinewidth\":0,\"ticks\":\"\"}},\"marker\":{\"colorbar\":{\"outlinewidth\":0,\"ticks\":\"\"}},\"type\":\"scatter3d\"}],\"scattercarpet\":[{\"marker\":{\"colorbar\":{\"outlinewidth\":0,\"ticks\":\"\"}},\"type\":\"scattercarpet\"}],\"scattergeo\":[{\"marker\":{\"colorbar\":{\"outlinewidth\":0,\"ticks\":\"\"}},\"type\":\"scattergeo\"}],\"scattergl\":[{\"marker\":{\"colorbar\":{\"outlinewidth\":0,\"ticks\":\"\"}},\"type\":\"scattergl\"}],\"scattermapbox\":[{\"marker\":{\"colorbar\":{\"outlinewidth\":0,\"ticks\":\"\"}},\"type\":\"scattermapbox\"}],\"scatterpolar\":[{\"marker\":{\"colorbar\":{\"outlinewidth\":0,\"ticks\":\"\"}},\"type\":\"scatterpolar\"}],\"scatterpolargl\":[{\"marker\":{\"colorbar\":{\"outlinewidth\":0,\"ticks\":\"\"}},\"type\":\"scatterpolargl\"}],\"scatterternary\":[{\"marker\":{\"colorbar\":{\"outlinewidth\":0,\"ticks\":\"\"}},\"type\":\"scatterternary\"}],\"surface\":[{\"colorbar\":{\"outlinewidth\":0,\"ticks\":\"\"},\"colorscale\":[[0.0,\"#0d0887\"],[0.1111111111111111,\"#46039f\"],[0.2222222222222222,\"#7201a8\"],[0.3333333333333333,\"#9c179e\"],[0.4444444444444444,\"#bd3786\"],[0.5555555555555556,\"#d8576b\"],[0.6666666666666666,\"#ed7953\"],[0.7777777777777778,\"#fb9f3a\"],[0.8888888888888888,\"#fdca26\"],[1.0,\"#f0f921\"]],\"type\":\"surface\"}],\"table\":[{\"cells\":{\"fill\":{\"color\":\"#EBF0F8\"},\"line\":{\"color\":\"white\"}},\"header\":{\"fill\":{\"color\":\"#C8D4E3\"},\"line\":{\"color\":\"white\"}},\"type\":\"table\"}]},\"layout\":{\"annotationdefaults\":{\"arrowcolor\":\"#2a3f5f\",\"arrowhead\":0,\"arrowwidth\":1},\"autotypenumbers\":\"strict\",\"coloraxis\":{\"colorbar\":{\"outlinewidth\":0,\"ticks\":\"\"}},\"colorscale\":{\"diverging\":[[0,\"#8e0152\"],[0.1,\"#c51b7d\"],[0.2,\"#de77ae\"],[0.3,\"#f1b6da\"],[0.4,\"#fde0ef\"],[0.5,\"#f7f7f7\"],[0.6,\"#e6f5d0\"],[0.7,\"#b8e186\"],[0.8,\"#7fbc41\"],[0.9,\"#4d9221\"],[1,\"#276419\"]],\"sequential\":[[0.0,\"#0d0887\"],[0.1111111111111111,\"#46039f\"],[0.2222222222222222,\"#7201a8\"],[0.3333333333333333,\"#9c179e\"],[0.4444444444444444,\"#bd3786\"],[0.5555555555555556,\"#d8576b\"],[0.6666666666666666,\"#ed7953\"],[0.7777777777777778,\"#fb9f3a\"],[0.8888888888888888,\"#fdca26\"],[1.0,\"#f0f921\"]],\"sequentialminus\":[[0.0,\"#0d0887\"],[0.1111111111111111,\"#46039f\"],[0.2222222222222222,\"#7201a8\"],[0.3333333333333333,\"#9c179e\"],[0.4444444444444444,\"#bd3786\"],[0.5555555555555556,\"#d8576b\"],[0.6666666666666666,\"#ed7953\"],[0.7777777777777778,\"#fb9f3a\"],[0.8888888888888888,\"#fdca26\"],[1.0,\"#f0f921\"]]},\"colorway\":[\"#636efa\",\"#EF553B\",\"#00cc96\",\"#ab63fa\",\"#FFA15A\",\"#19d3f3\",\"#FF6692\",\"#B6E880\",\"#FF97FF\",\"#FECB52\"],\"font\":{\"color\":\"#2a3f5f\"},\"geo\":{\"bgcolor\":\"white\",\"lakecolor\":\"white\",\"landcolor\":\"#E5ECF6\",\"showlakes\":true,\"showland\":true,\"subunitcolor\":\"white\"},\"hoverlabel\":{\"align\":\"left\"},\"hovermode\":\"closest\",\"mapbox\":{\"style\":\"light\"},\"paper_bgcolor\":\"white\",\"plot_bgcolor\":\"#E5ECF6\",\"polar\":{\"angularaxis\":{\"gridcolor\":\"white\",\"linecolor\":\"white\",\"ticks\":\"\"},\"bgcolor\":\"#E5ECF6\",\"radialaxis\":{\"gridcolor\":\"white\",\"linecolor\":\"white\",\"ticks\":\"\"}},\"scene\":{\"xaxis\":{\"backgroundcolor\":\"#E5ECF6\",\"gridcolor\":\"white\",\"gridwidth\":2,\"linecolor\":\"white\",\"showbackground\":true,\"ticks\":\"\",\"zerolinecolor\":\"white\"},\"yaxis\":{\"backgroundcolor\":\"#E5ECF6\",\"gridcolor\":\"white\",\"gridwidth\":2,\"linecolor\":\"white\",\"showbackground\":true,\"ticks\":\"\",\"zerolinecolor\":\"white\"},\"zaxis\":{\"backgroundcolor\":\"#E5ECF6\",\"gridcolor\":\"white\",\"gridwidth\":2,\"linecolor\":\"white\",\"showbackground\":true,\"ticks\":\"\",\"zerolinecolor\":\"white\"}},\"shapedefaults\":{\"line\":{\"color\":\"#2a3f5f\"}},\"ternary\":{\"aaxis\":{\"gridcolor\":\"white\",\"linecolor\":\"white\",\"ticks\":\"\"},\"baxis\":{\"gridcolor\":\"white\",\"linecolor\":\"white\",\"ticks\":\"\"},\"bgcolor\":\"#E5ECF6\",\"caxis\":{\"gridcolor\":\"white\",\"linecolor\":\"white\",\"ticks\":\"\"}},\"title\":{\"x\":0.05},\"xaxis\":{\"automargin\":true,\"gridcolor\":\"white\",\"linecolor\":\"white\",\"ticks\":\"\",\"title\":{\"standoff\":15},\"zerolinecolor\":\"white\",\"zerolinewidth\":2},\"yaxis\":{\"automargin\":true,\"gridcolor\":\"white\",\"linecolor\":\"white\",\"ticks\":\"\",\"title\":{\"standoff\":15},\"zerolinecolor\":\"white\",\"zerolinewidth\":2}}},\"title\":{\"text\":\"Average Tree Density (trees per acre) across Neighborhoods\"}},                        {\"responsive\": true}                    ).then(function(){\n",
       "                            \n",
       "var gd = document.getElementById('b56f6392-c04a-4c4d-8219-116bf0e37f88');\n",
       "var x = new MutationObserver(function (mutations, observer) {{\n",
       "        var display = window.getComputedStyle(gd).display;\n",
       "        if (!display || display === 'none') {{\n",
       "            console.log([gd, 'removed!']);\n",
       "            Plotly.purge(gd);\n",
       "            observer.disconnect();\n",
       "        }}\n",
       "}});\n",
       "\n",
       "// Listen for the removal of the full notebook cells\n",
       "var notebookContainer = gd.closest('#notebook-container');\n",
       "if (notebookContainer) {{\n",
       "    x.observe(notebookContainer, {childList: true});\n",
       "}}\n",
       "\n",
       "// Listen for the clearing of the current output cell\n",
       "var outputEl = gd.closest('.output');\n",
       "if (outputEl) {{\n",
       "    x.observe(outputEl, {childList: true});\n",
       "}}\n",
       "\n",
       "                        })                };                });            </script>        </div>"
      ]
     },
     "metadata": {},
     "output_type": "display_data"
    }
   ],
   "source": [
    "fig=px.choropleth(tree_density_map,\n",
    "             geojson=\"https://raw.githubusercontent.com/blackmad/neighborhoods/master/gn-pittsburgh.geojson\",\n",
    "             featureidkey='properties.name',   \n",
    "             locations='neighborhood',        #column in dataframe\n",
    "             color='tree_count',\n",
    "              color_continuous_scale='greens',\n",
    "               title='Average Tree Density (trees per acre) across Neighborhoods' ,  \n",
    "               height=500\n",
    "              )\n",
    "fig.update_geos(fitbounds=\"locations\", visible=False)\n",
    "fig.show()"
   ]
  },
  {
   "cell_type": "markdown",
   "id": "b735b3fd",
   "metadata": {},
   "source": [
    "**Top 5 neighborhoods with highest tree density**"
   ]
  },
  {
   "cell_type": "code",
   "execution_count": 449,
   "id": "2ff78f67",
   "metadata": {},
   "outputs": [
    {
     "data": {
      "text/html": [
       "<div>\n",
       "<style scoped>\n",
       "    .dataframe tbody tr th:only-of-type {\n",
       "        vertical-align: middle;\n",
       "    }\n",
       "\n",
       "    .dataframe tbody tr th {\n",
       "        vertical-align: top;\n",
       "    }\n",
       "\n",
       "    .dataframe thead th {\n",
       "        text-align: right;\n",
       "    }\n",
       "</style>\n",
       "<table border=\"1\" class=\"dataframe\">\n",
       "  <thead>\n",
       "    <tr style=\"text-align: right;\">\n",
       "      <th></th>\n",
       "      <th>neighborhood</th>\n",
       "      <th>tree_count</th>\n",
       "    </tr>\n",
       "  </thead>\n",
       "  <tbody>\n",
       "    <tr>\n",
       "      <th>0</th>\n",
       "      <td>Allegheny Center</td>\n",
       "      <td>6.406687</td>\n",
       "    </tr>\n",
       "    <tr>\n",
       "      <th>33</th>\n",
       "      <td>Friendship</td>\n",
       "      <td>5.183244</td>\n",
       "    </tr>\n",
       "    <tr>\n",
       "      <th>1</th>\n",
       "      <td>Allegheny West</td>\n",
       "      <td>4.227166</td>\n",
       "    </tr>\n",
       "    <tr>\n",
       "      <th>18</th>\n",
       "      <td>Central Northside</td>\n",
       "      <td>3.898483</td>\n",
       "    </tr>\n",
       "    <tr>\n",
       "      <th>39</th>\n",
       "      <td>Highland Park</td>\n",
       "      <td>3.861221</td>\n",
       "    </tr>\n",
       "  </tbody>\n",
       "</table>\n",
       "</div>"
      ],
      "text/plain": [
       "         neighborhood  tree_count\n",
       "0    Allegheny Center    6.406687\n",
       "33         Friendship    5.183244\n",
       "1      Allegheny West    4.227166\n",
       "18  Central Northside    3.898483\n",
       "39      Highland Park    3.861221"
      ]
     },
     "execution_count": 449,
     "metadata": {},
     "output_type": "execute_result"
    }
   ],
   "source": [
    "tree_density_map.sort_values('tree_count', ascending=False).head(5)"
   ]
  },
  {
   "cell_type": "markdown",
   "id": "f931db27",
   "metadata": {},
   "source": [
    "# Plot neighborhood level overall tree benefits data"
   ]
  },
  {
   "cell_type": "code",
   "execution_count": 450,
   "id": "c3445953",
   "metadata": {},
   "outputs": [],
   "source": [
    "overall_benefit_map = combined_data[['neighborhood', 'overall_benefits_dollar_value']].copy()"
   ]
  },
  {
   "cell_type": "code",
   "execution_count": 451,
   "id": "4cfad8e7",
   "metadata": {},
   "outputs": [
    {
     "data": {
      "application/vnd.plotly.v1+json": {
       "config": {
        "plotlyServerURL": "https://plot.ly"
       },
       "data": [
        {
         "coloraxis": "coloraxis",
         "featureidkey": "properties.name",
         "geo": "geo",
         "geojson": "https://raw.githubusercontent.com/blackmad/neighborhoods/master/gn-pittsburgh.geojson",
         "hovertemplate": "neighborhood=%{location}<br>overall_benefits_dollar_value=%{z}<extra></extra>",
         "locations": [
          "Allegheny Center",
          "Allegheny West",
          "Allentown",
          "Arlington",
          "Arlington Heights",
          "Banksville",
          "Bedford Dwellings",
          "Beechview",
          "Beltzhoover",
          "Bloomfield",
          "Bluff",
          "Bon Air",
          "Brighton Heights",
          "Brookline",
          "California-Kirkbride",
          "Carrick",
          "Central Business District",
          "Central Lawrenceville",
          "Central Northside",
          "Central Oakland",
          "Chartiers City",
          "Chateau",
          "Crafton Heights",
          "Crawford-Roberts",
          "Duquesne Heights",
          "East Allegheny",
          "East Carnegie",
          "East Hills",
          "East Liberty",
          "Elliott",
          "Esplen",
          "Fairywood",
          "Fineview",
          "Friendship",
          "Garfield",
          "Glen Hazel",
          "Greenfield",
          "Hays",
          "Hazelwood",
          "Highland Park",
          "Homewood North",
          "Homewood South",
          "Homewood West",
          "Knoxville",
          "Larimer",
          "Lincoln Place",
          "Lincoln-Lemington-Belmar",
          "Lower Lawrenceville",
          "Manchester",
          "Marshall-Shadeland",
          "Middle Hill",
          "Morningside",
          "Mount Washington",
          "Mt. Oliver",
          "New Homestead",
          "North Oakland",
          "North Shore",
          "Northview Heights",
          "Oakwood",
          "Overbrook",
          "Perry North",
          "Perry South",
          "Point Breeze",
          "Point Breeze North",
          "Polish Hill",
          "Regent Square",
          "Ridgemont",
          "Shadyside",
          "Sheraden",
          "South Oakland",
          "South Shore",
          "South Side Flats",
          "South Side Slopes",
          "Spring Garden",
          "Spring Hill-City View",
          "Squirrel Hill North",
          "Squirrel Hill South",
          "St. Clair",
          "Stanton Heights",
          "Strip District",
          "Summer Hill",
          "Swisshelm Park",
          "Terrace Village",
          "Troy Hill",
          "Upper Hill",
          "Upper Lawrenceville",
          "West End",
          "West Oakland",
          "Westwood",
          "Windgap"
         ],
         "name": "",
         "type": "choropleth",
         "z": [
          1098.0661893005654,
          603.9470561842169,
          38.11588661167935,
          19.497032478505496,
          10.330601385331946,
          87.26197098791584,
          104.54532759735208,
          63.08002647894023,
          46.00470848189888,
          251.38286553784283,
          75.84640314270139,
          42.54819269473868,
          131.37953433756965,
          70.17826206112431,
          62.650004712362325,
          66.3637858990835,
          211.54642471857127,
          67.20651848525961,
          323.0918095422729,
          252.91749212718403,
          55.518544151945754,
          104.78891378531539,
          78.2784441651546,
          257.50319570171933,
          18.247439557371628,
          215.09864075716675,
          2.2262476547055545,
          171.98644567829774,
          274.50931822853136,
          45.473035314428124,
          1.4407409302748446,
          8.993014678018488,
          72.98770447392953,
          375.5495205367661,
          179.27098162605728,
          0.5356204254845719,
          136.7920043849027,
          0.1611737542075456,
          56.358221958377804,
          544.767046248344,
          118.7814124199926,
          132.2423644995284,
          59.499033874373445,
          262.5120979213261,
          99.67752979222008,
          49.14389488723728,
          405.02337410135516,
          146.25798095584503,
          329.389975502456,
          334.43943376850615,
          117.55885866689222,
          147.20416015355227,
          95.8728159170795,
          18.71365495181651,
          49.2698921143237,
          252.75872159424432,
          225.5077509256107,
          4.664218077088481,
          69.68083306443798,
          53.66951993070519,
          175.86408910105766,
          70.86427618388313,
          263.5201532243534,
          315.16432460732983,
          95.39873958241226,
          477.59697473930447,
          14.241247015754901,
          281.9351219384073,
          61.17079119750076,
          53.81367405106127,
          0.33492169799047,
          193.45633885526908,
          31.27284434074446,
          24.650674987216515,
          23.70858294584116,
          401.0491515295823,
          407.28561878194955,
          10.241384017086084,
          222.0399012457426,
          76.46867698778001,
          35.09574796512919,
          104.74859913132529,
          101.4785063436146,
          33.93597628258934,
          78.49451342809553,
          137.66507852534107,
          71.22071365118659,
          39.05928546985864,
          70.36640363137886,
          51.81775931735906
         ]
        }
       ],
       "layout": {
        "coloraxis": {
         "colorbar": {
          "title": {
           "text": "overall_benefits_dollar_value"
          }
         },
         "colorscale": [
          [
           0,
           "rgb(247,252,245)"
          ],
          [
           0.125,
           "rgb(229,245,224)"
          ],
          [
           0.25,
           "rgb(199,233,192)"
          ],
          [
           0.375,
           "rgb(161,217,155)"
          ],
          [
           0.5,
           "rgb(116,196,118)"
          ],
          [
           0.625,
           "rgb(65,171,93)"
          ],
          [
           0.75,
           "rgb(35,139,69)"
          ],
          [
           0.875,
           "rgb(0,109,44)"
          ],
          [
           1,
           "rgb(0,68,27)"
          ]
         ]
        },
        "geo": {
         "center": {},
         "domain": {
          "x": [
           0,
           1
          ],
          "y": [
           0,
           1
          ]
         },
         "fitbounds": "locations",
         "visible": false
        },
        "height": 500,
        "legend": {
         "tracegroupgap": 0
        },
        "template": {
         "data": {
          "bar": [
           {
            "error_x": {
             "color": "#2a3f5f"
            },
            "error_y": {
             "color": "#2a3f5f"
            },
            "marker": {
             "line": {
              "color": "#E5ECF6",
              "width": 0.5
             },
             "pattern": {
              "fillmode": "overlay",
              "size": 10,
              "solidity": 0.2
             }
            },
            "type": "bar"
           }
          ],
          "barpolar": [
           {
            "marker": {
             "line": {
              "color": "#E5ECF6",
              "width": 0.5
             },
             "pattern": {
              "fillmode": "overlay",
              "size": 10,
              "solidity": 0.2
             }
            },
            "type": "barpolar"
           }
          ],
          "carpet": [
           {
            "aaxis": {
             "endlinecolor": "#2a3f5f",
             "gridcolor": "white",
             "linecolor": "white",
             "minorgridcolor": "white",
             "startlinecolor": "#2a3f5f"
            },
            "baxis": {
             "endlinecolor": "#2a3f5f",
             "gridcolor": "white",
             "linecolor": "white",
             "minorgridcolor": "white",
             "startlinecolor": "#2a3f5f"
            },
            "type": "carpet"
           }
          ],
          "choropleth": [
           {
            "colorbar": {
             "outlinewidth": 0,
             "ticks": ""
            },
            "type": "choropleth"
           }
          ],
          "contour": [
           {
            "colorbar": {
             "outlinewidth": 0,
             "ticks": ""
            },
            "colorscale": [
             [
              0,
              "#0d0887"
             ],
             [
              0.1111111111111111,
              "#46039f"
             ],
             [
              0.2222222222222222,
              "#7201a8"
             ],
             [
              0.3333333333333333,
              "#9c179e"
             ],
             [
              0.4444444444444444,
              "#bd3786"
             ],
             [
              0.5555555555555556,
              "#d8576b"
             ],
             [
              0.6666666666666666,
              "#ed7953"
             ],
             [
              0.7777777777777778,
              "#fb9f3a"
             ],
             [
              0.8888888888888888,
              "#fdca26"
             ],
             [
              1,
              "#f0f921"
             ]
            ],
            "type": "contour"
           }
          ],
          "contourcarpet": [
           {
            "colorbar": {
             "outlinewidth": 0,
             "ticks": ""
            },
            "type": "contourcarpet"
           }
          ],
          "heatmap": [
           {
            "colorbar": {
             "outlinewidth": 0,
             "ticks": ""
            },
            "colorscale": [
             [
              0,
              "#0d0887"
             ],
             [
              0.1111111111111111,
              "#46039f"
             ],
             [
              0.2222222222222222,
              "#7201a8"
             ],
             [
              0.3333333333333333,
              "#9c179e"
             ],
             [
              0.4444444444444444,
              "#bd3786"
             ],
             [
              0.5555555555555556,
              "#d8576b"
             ],
             [
              0.6666666666666666,
              "#ed7953"
             ],
             [
              0.7777777777777778,
              "#fb9f3a"
             ],
             [
              0.8888888888888888,
              "#fdca26"
             ],
             [
              1,
              "#f0f921"
             ]
            ],
            "type": "heatmap"
           }
          ],
          "heatmapgl": [
           {
            "colorbar": {
             "outlinewidth": 0,
             "ticks": ""
            },
            "colorscale": [
             [
              0,
              "#0d0887"
             ],
             [
              0.1111111111111111,
              "#46039f"
             ],
             [
              0.2222222222222222,
              "#7201a8"
             ],
             [
              0.3333333333333333,
              "#9c179e"
             ],
             [
              0.4444444444444444,
              "#bd3786"
             ],
             [
              0.5555555555555556,
              "#d8576b"
             ],
             [
              0.6666666666666666,
              "#ed7953"
             ],
             [
              0.7777777777777778,
              "#fb9f3a"
             ],
             [
              0.8888888888888888,
              "#fdca26"
             ],
             [
              1,
              "#f0f921"
             ]
            ],
            "type": "heatmapgl"
           }
          ],
          "histogram": [
           {
            "marker": {
             "pattern": {
              "fillmode": "overlay",
              "size": 10,
              "solidity": 0.2
             }
            },
            "type": "histogram"
           }
          ],
          "histogram2d": [
           {
            "colorbar": {
             "outlinewidth": 0,
             "ticks": ""
            },
            "colorscale": [
             [
              0,
              "#0d0887"
             ],
             [
              0.1111111111111111,
              "#46039f"
             ],
             [
              0.2222222222222222,
              "#7201a8"
             ],
             [
              0.3333333333333333,
              "#9c179e"
             ],
             [
              0.4444444444444444,
              "#bd3786"
             ],
             [
              0.5555555555555556,
              "#d8576b"
             ],
             [
              0.6666666666666666,
              "#ed7953"
             ],
             [
              0.7777777777777778,
              "#fb9f3a"
             ],
             [
              0.8888888888888888,
              "#fdca26"
             ],
             [
              1,
              "#f0f921"
             ]
            ],
            "type": "histogram2d"
           }
          ],
          "histogram2dcontour": [
           {
            "colorbar": {
             "outlinewidth": 0,
             "ticks": ""
            },
            "colorscale": [
             [
              0,
              "#0d0887"
             ],
             [
              0.1111111111111111,
              "#46039f"
             ],
             [
              0.2222222222222222,
              "#7201a8"
             ],
             [
              0.3333333333333333,
              "#9c179e"
             ],
             [
              0.4444444444444444,
              "#bd3786"
             ],
             [
              0.5555555555555556,
              "#d8576b"
             ],
             [
              0.6666666666666666,
              "#ed7953"
             ],
             [
              0.7777777777777778,
              "#fb9f3a"
             ],
             [
              0.8888888888888888,
              "#fdca26"
             ],
             [
              1,
              "#f0f921"
             ]
            ],
            "type": "histogram2dcontour"
           }
          ],
          "mesh3d": [
           {
            "colorbar": {
             "outlinewidth": 0,
             "ticks": ""
            },
            "type": "mesh3d"
           }
          ],
          "parcoords": [
           {
            "line": {
             "colorbar": {
              "outlinewidth": 0,
              "ticks": ""
             }
            },
            "type": "parcoords"
           }
          ],
          "pie": [
           {
            "automargin": true,
            "type": "pie"
           }
          ],
          "scatter": [
           {
            "marker": {
             "colorbar": {
              "outlinewidth": 0,
              "ticks": ""
             }
            },
            "type": "scatter"
           }
          ],
          "scatter3d": [
           {
            "line": {
             "colorbar": {
              "outlinewidth": 0,
              "ticks": ""
             }
            },
            "marker": {
             "colorbar": {
              "outlinewidth": 0,
              "ticks": ""
             }
            },
            "type": "scatter3d"
           }
          ],
          "scattercarpet": [
           {
            "marker": {
             "colorbar": {
              "outlinewidth": 0,
              "ticks": ""
             }
            },
            "type": "scattercarpet"
           }
          ],
          "scattergeo": [
           {
            "marker": {
             "colorbar": {
              "outlinewidth": 0,
              "ticks": ""
             }
            },
            "type": "scattergeo"
           }
          ],
          "scattergl": [
           {
            "marker": {
             "colorbar": {
              "outlinewidth": 0,
              "ticks": ""
             }
            },
            "type": "scattergl"
           }
          ],
          "scattermapbox": [
           {
            "marker": {
             "colorbar": {
              "outlinewidth": 0,
              "ticks": ""
             }
            },
            "type": "scattermapbox"
           }
          ],
          "scatterpolar": [
           {
            "marker": {
             "colorbar": {
              "outlinewidth": 0,
              "ticks": ""
             }
            },
            "type": "scatterpolar"
           }
          ],
          "scatterpolargl": [
           {
            "marker": {
             "colorbar": {
              "outlinewidth": 0,
              "ticks": ""
             }
            },
            "type": "scatterpolargl"
           }
          ],
          "scatterternary": [
           {
            "marker": {
             "colorbar": {
              "outlinewidth": 0,
              "ticks": ""
             }
            },
            "type": "scatterternary"
           }
          ],
          "surface": [
           {
            "colorbar": {
             "outlinewidth": 0,
             "ticks": ""
            },
            "colorscale": [
             [
              0,
              "#0d0887"
             ],
             [
              0.1111111111111111,
              "#46039f"
             ],
             [
              0.2222222222222222,
              "#7201a8"
             ],
             [
              0.3333333333333333,
              "#9c179e"
             ],
             [
              0.4444444444444444,
              "#bd3786"
             ],
             [
              0.5555555555555556,
              "#d8576b"
             ],
             [
              0.6666666666666666,
              "#ed7953"
             ],
             [
              0.7777777777777778,
              "#fb9f3a"
             ],
             [
              0.8888888888888888,
              "#fdca26"
             ],
             [
              1,
              "#f0f921"
             ]
            ],
            "type": "surface"
           }
          ],
          "table": [
           {
            "cells": {
             "fill": {
              "color": "#EBF0F8"
             },
             "line": {
              "color": "white"
             }
            },
            "header": {
             "fill": {
              "color": "#C8D4E3"
             },
             "line": {
              "color": "white"
             }
            },
            "type": "table"
           }
          ]
         },
         "layout": {
          "annotationdefaults": {
           "arrowcolor": "#2a3f5f",
           "arrowhead": 0,
           "arrowwidth": 1
          },
          "autotypenumbers": "strict",
          "coloraxis": {
           "colorbar": {
            "outlinewidth": 0,
            "ticks": ""
           }
          },
          "colorscale": {
           "diverging": [
            [
             0,
             "#8e0152"
            ],
            [
             0.1,
             "#c51b7d"
            ],
            [
             0.2,
             "#de77ae"
            ],
            [
             0.3,
             "#f1b6da"
            ],
            [
             0.4,
             "#fde0ef"
            ],
            [
             0.5,
             "#f7f7f7"
            ],
            [
             0.6,
             "#e6f5d0"
            ],
            [
             0.7,
             "#b8e186"
            ],
            [
             0.8,
             "#7fbc41"
            ],
            [
             0.9,
             "#4d9221"
            ],
            [
             1,
             "#276419"
            ]
           ],
           "sequential": [
            [
             0,
             "#0d0887"
            ],
            [
             0.1111111111111111,
             "#46039f"
            ],
            [
             0.2222222222222222,
             "#7201a8"
            ],
            [
             0.3333333333333333,
             "#9c179e"
            ],
            [
             0.4444444444444444,
             "#bd3786"
            ],
            [
             0.5555555555555556,
             "#d8576b"
            ],
            [
             0.6666666666666666,
             "#ed7953"
            ],
            [
             0.7777777777777778,
             "#fb9f3a"
            ],
            [
             0.8888888888888888,
             "#fdca26"
            ],
            [
             1,
             "#f0f921"
            ]
           ],
           "sequentialminus": [
            [
             0,
             "#0d0887"
            ],
            [
             0.1111111111111111,
             "#46039f"
            ],
            [
             0.2222222222222222,
             "#7201a8"
            ],
            [
             0.3333333333333333,
             "#9c179e"
            ],
            [
             0.4444444444444444,
             "#bd3786"
            ],
            [
             0.5555555555555556,
             "#d8576b"
            ],
            [
             0.6666666666666666,
             "#ed7953"
            ],
            [
             0.7777777777777778,
             "#fb9f3a"
            ],
            [
             0.8888888888888888,
             "#fdca26"
            ],
            [
             1,
             "#f0f921"
            ]
           ]
          },
          "colorway": [
           "#636efa",
           "#EF553B",
           "#00cc96",
           "#ab63fa",
           "#FFA15A",
           "#19d3f3",
           "#FF6692",
           "#B6E880",
           "#FF97FF",
           "#FECB52"
          ],
          "font": {
           "color": "#2a3f5f"
          },
          "geo": {
           "bgcolor": "white",
           "lakecolor": "white",
           "landcolor": "#E5ECF6",
           "showlakes": true,
           "showland": true,
           "subunitcolor": "white"
          },
          "hoverlabel": {
           "align": "left"
          },
          "hovermode": "closest",
          "mapbox": {
           "style": "light"
          },
          "paper_bgcolor": "white",
          "plot_bgcolor": "#E5ECF6",
          "polar": {
           "angularaxis": {
            "gridcolor": "white",
            "linecolor": "white",
            "ticks": ""
           },
           "bgcolor": "#E5ECF6",
           "radialaxis": {
            "gridcolor": "white",
            "linecolor": "white",
            "ticks": ""
           }
          },
          "scene": {
           "xaxis": {
            "backgroundcolor": "#E5ECF6",
            "gridcolor": "white",
            "gridwidth": 2,
            "linecolor": "white",
            "showbackground": true,
            "ticks": "",
            "zerolinecolor": "white"
           },
           "yaxis": {
            "backgroundcolor": "#E5ECF6",
            "gridcolor": "white",
            "gridwidth": 2,
            "linecolor": "white",
            "showbackground": true,
            "ticks": "",
            "zerolinecolor": "white"
           },
           "zaxis": {
            "backgroundcolor": "#E5ECF6",
            "gridcolor": "white",
            "gridwidth": 2,
            "linecolor": "white",
            "showbackground": true,
            "ticks": "",
            "zerolinecolor": "white"
           }
          },
          "shapedefaults": {
           "line": {
            "color": "#2a3f5f"
           }
          },
          "ternary": {
           "aaxis": {
            "gridcolor": "white",
            "linecolor": "white",
            "ticks": ""
           },
           "baxis": {
            "gridcolor": "white",
            "linecolor": "white",
            "ticks": ""
           },
           "bgcolor": "#E5ECF6",
           "caxis": {
            "gridcolor": "white",
            "linecolor": "white",
            "ticks": ""
           }
          },
          "title": {
           "x": 0.05
          },
          "xaxis": {
           "automargin": true,
           "gridcolor": "white",
           "linecolor": "white",
           "ticks": "",
           "title": {
            "standoff": 15
           },
           "zerolinecolor": "white",
           "zerolinewidth": 2
          },
          "yaxis": {
           "automargin": true,
           "gridcolor": "white",
           "linecolor": "white",
           "ticks": "",
           "title": {
            "standoff": 15
           },
           "zerolinecolor": "white",
           "zerolinewidth": 2
          }
         }
        },
        "title": {
         "text": "Average Overall benefit across Neighborhoods"
        }
       }
      },
      "text/html": [
       "<div>                            <div id=\"6b16447b-ba8c-4ad6-8723-453bb20a6a6c\" class=\"plotly-graph-div\" style=\"height:500px; width:100%;\"></div>            <script type=\"text/javascript\">                require([\"plotly\"], function(Plotly) {                    window.PLOTLYENV=window.PLOTLYENV || {};                                    if (document.getElementById(\"6b16447b-ba8c-4ad6-8723-453bb20a6a6c\")) {                    Plotly.newPlot(                        \"6b16447b-ba8c-4ad6-8723-453bb20a6a6c\",                        [{\"coloraxis\":\"coloraxis\",\"featureidkey\":\"properties.name\",\"geo\":\"geo\",\"geojson\":\"https://raw.githubusercontent.com/blackmad/neighborhoods/master/gn-pittsburgh.geojson\",\"hovertemplate\":\"neighborhood=%{location}<br>overall_benefits_dollar_value=%{z}<extra></extra>\",\"locations\":[\"Allegheny Center\",\"Allegheny West\",\"Allentown\",\"Arlington\",\"Arlington Heights\",\"Banksville\",\"Bedford Dwellings\",\"Beechview\",\"Beltzhoover\",\"Bloomfield\",\"Bluff\",\"Bon Air\",\"Brighton Heights\",\"Brookline\",\"California-Kirkbride\",\"Carrick\",\"Central Business District\",\"Central Lawrenceville\",\"Central Northside\",\"Central Oakland\",\"Chartiers City\",\"Chateau\",\"Crafton Heights\",\"Crawford-Roberts\",\"Duquesne Heights\",\"East Allegheny\",\"East Carnegie\",\"East Hills\",\"East Liberty\",\"Elliott\",\"Esplen\",\"Fairywood\",\"Fineview\",\"Friendship\",\"Garfield\",\"Glen Hazel\",\"Greenfield\",\"Hays\",\"Hazelwood\",\"Highland Park\",\"Homewood North\",\"Homewood South\",\"Homewood West\",\"Knoxville\",\"Larimer\",\"Lincoln Place\",\"Lincoln-Lemington-Belmar\",\"Lower Lawrenceville\",\"Manchester\",\"Marshall-Shadeland\",\"Middle Hill\",\"Morningside\",\"Mount Washington\",\"Mt. Oliver\",\"New Homestead\",\"North Oakland\",\"North Shore\",\"Northview Heights\",\"Oakwood\",\"Overbrook\",\"Perry North\",\"Perry South\",\"Point Breeze\",\"Point Breeze North\",\"Polish Hill\",\"Regent Square\",\"Ridgemont\",\"Shadyside\",\"Sheraden\",\"South Oakland\",\"South Shore\",\"South Side Flats\",\"South Side Slopes\",\"Spring Garden\",\"Spring Hill-City View\",\"Squirrel Hill North\",\"Squirrel Hill South\",\"St. Clair\",\"Stanton Heights\",\"Strip District\",\"Summer Hill\",\"Swisshelm Park\",\"Terrace Village\",\"Troy Hill\",\"Upper Hill\",\"Upper Lawrenceville\",\"West End\",\"West Oakland\",\"Westwood\",\"Windgap\"],\"name\":\"\",\"type\":\"choropleth\",\"z\":[1098.0661893005654,603.9470561842169,38.11588661167935,19.497032478505496,10.330601385331946,87.26197098791584,104.54532759735208,63.08002647894023,46.00470848189888,251.38286553784283,75.84640314270139,42.54819269473868,131.37953433756965,70.17826206112431,62.650004712362325,66.3637858990835,211.54642471857127,67.20651848525961,323.0918095422729,252.91749212718403,55.518544151945754,104.78891378531539,78.2784441651546,257.50319570171933,18.247439557371628,215.09864075716675,2.2262476547055545,171.98644567829774,274.50931822853136,45.473035314428124,1.4407409302748446,8.993014678018488,72.98770447392953,375.5495205367661,179.27098162605728,0.5356204254845719,136.7920043849027,0.1611737542075456,56.358221958377804,544.767046248344,118.7814124199926,132.2423644995284,59.499033874373445,262.5120979213261,99.67752979222008,49.14389488723728,405.02337410135516,146.25798095584503,329.389975502456,334.43943376850615,117.55885866689222,147.20416015355227,95.8728159170795,18.71365495181651,49.2698921143237,252.75872159424432,225.5077509256107,4.664218077088481,69.68083306443798,53.66951993070519,175.86408910105766,70.86427618388313,263.5201532243534,315.16432460732983,95.39873958241226,477.59697473930447,14.241247015754901,281.9351219384073,61.17079119750076,53.81367405106127,0.33492169799047,193.45633885526908,31.27284434074446,24.650674987216515,23.70858294584116,401.0491515295823,407.28561878194955,10.241384017086084,222.0399012457426,76.46867698778001,35.09574796512919,104.74859913132529,101.4785063436146,33.93597628258934,78.49451342809553,137.66507852534107,71.22071365118659,39.05928546985864,70.36640363137886,51.81775931735906]}],                        {\"coloraxis\":{\"colorbar\":{\"title\":{\"text\":\"overall_benefits_dollar_value\"}},\"colorscale\":[[0.0,\"rgb(247,252,245)\"],[0.125,\"rgb(229,245,224)\"],[0.25,\"rgb(199,233,192)\"],[0.375,\"rgb(161,217,155)\"],[0.5,\"rgb(116,196,118)\"],[0.625,\"rgb(65,171,93)\"],[0.75,\"rgb(35,139,69)\"],[0.875,\"rgb(0,109,44)\"],[1.0,\"rgb(0,68,27)\"]]},\"geo\":{\"center\":{},\"domain\":{\"x\":[0.0,1.0],\"y\":[0.0,1.0]},\"fitbounds\":\"locations\",\"visible\":false},\"height\":500,\"legend\":{\"tracegroupgap\":0},\"template\":{\"data\":{\"bar\":[{\"error_x\":{\"color\":\"#2a3f5f\"},\"error_y\":{\"color\":\"#2a3f5f\"},\"marker\":{\"line\":{\"color\":\"#E5ECF6\",\"width\":0.5},\"pattern\":{\"fillmode\":\"overlay\",\"size\":10,\"solidity\":0.2}},\"type\":\"bar\"}],\"barpolar\":[{\"marker\":{\"line\":{\"color\":\"#E5ECF6\",\"width\":0.5},\"pattern\":{\"fillmode\":\"overlay\",\"size\":10,\"solidity\":0.2}},\"type\":\"barpolar\"}],\"carpet\":[{\"aaxis\":{\"endlinecolor\":\"#2a3f5f\",\"gridcolor\":\"white\",\"linecolor\":\"white\",\"minorgridcolor\":\"white\",\"startlinecolor\":\"#2a3f5f\"},\"baxis\":{\"endlinecolor\":\"#2a3f5f\",\"gridcolor\":\"white\",\"linecolor\":\"white\",\"minorgridcolor\":\"white\",\"startlinecolor\":\"#2a3f5f\"},\"type\":\"carpet\"}],\"choropleth\":[{\"colorbar\":{\"outlinewidth\":0,\"ticks\":\"\"},\"type\":\"choropleth\"}],\"contour\":[{\"colorbar\":{\"outlinewidth\":0,\"ticks\":\"\"},\"colorscale\":[[0.0,\"#0d0887\"],[0.1111111111111111,\"#46039f\"],[0.2222222222222222,\"#7201a8\"],[0.3333333333333333,\"#9c179e\"],[0.4444444444444444,\"#bd3786\"],[0.5555555555555556,\"#d8576b\"],[0.6666666666666666,\"#ed7953\"],[0.7777777777777778,\"#fb9f3a\"],[0.8888888888888888,\"#fdca26\"],[1.0,\"#f0f921\"]],\"type\":\"contour\"}],\"contourcarpet\":[{\"colorbar\":{\"outlinewidth\":0,\"ticks\":\"\"},\"type\":\"contourcarpet\"}],\"heatmap\":[{\"colorbar\":{\"outlinewidth\":0,\"ticks\":\"\"},\"colorscale\":[[0.0,\"#0d0887\"],[0.1111111111111111,\"#46039f\"],[0.2222222222222222,\"#7201a8\"],[0.3333333333333333,\"#9c179e\"],[0.4444444444444444,\"#bd3786\"],[0.5555555555555556,\"#d8576b\"],[0.6666666666666666,\"#ed7953\"],[0.7777777777777778,\"#fb9f3a\"],[0.8888888888888888,\"#fdca26\"],[1.0,\"#f0f921\"]],\"type\":\"heatmap\"}],\"heatmapgl\":[{\"colorbar\":{\"outlinewidth\":0,\"ticks\":\"\"},\"colorscale\":[[0.0,\"#0d0887\"],[0.1111111111111111,\"#46039f\"],[0.2222222222222222,\"#7201a8\"],[0.3333333333333333,\"#9c179e\"],[0.4444444444444444,\"#bd3786\"],[0.5555555555555556,\"#d8576b\"],[0.6666666666666666,\"#ed7953\"],[0.7777777777777778,\"#fb9f3a\"],[0.8888888888888888,\"#fdca26\"],[1.0,\"#f0f921\"]],\"type\":\"heatmapgl\"}],\"histogram\":[{\"marker\":{\"pattern\":{\"fillmode\":\"overlay\",\"size\":10,\"solidity\":0.2}},\"type\":\"histogram\"}],\"histogram2d\":[{\"colorbar\":{\"outlinewidth\":0,\"ticks\":\"\"},\"colorscale\":[[0.0,\"#0d0887\"],[0.1111111111111111,\"#46039f\"],[0.2222222222222222,\"#7201a8\"],[0.3333333333333333,\"#9c179e\"],[0.4444444444444444,\"#bd3786\"],[0.5555555555555556,\"#d8576b\"],[0.6666666666666666,\"#ed7953\"],[0.7777777777777778,\"#fb9f3a\"],[0.8888888888888888,\"#fdca26\"],[1.0,\"#f0f921\"]],\"type\":\"histogram2d\"}],\"histogram2dcontour\":[{\"colorbar\":{\"outlinewidth\":0,\"ticks\":\"\"},\"colorscale\":[[0.0,\"#0d0887\"],[0.1111111111111111,\"#46039f\"],[0.2222222222222222,\"#7201a8\"],[0.3333333333333333,\"#9c179e\"],[0.4444444444444444,\"#bd3786\"],[0.5555555555555556,\"#d8576b\"],[0.6666666666666666,\"#ed7953\"],[0.7777777777777778,\"#fb9f3a\"],[0.8888888888888888,\"#fdca26\"],[1.0,\"#f0f921\"]],\"type\":\"histogram2dcontour\"}],\"mesh3d\":[{\"colorbar\":{\"outlinewidth\":0,\"ticks\":\"\"},\"type\":\"mesh3d\"}],\"parcoords\":[{\"line\":{\"colorbar\":{\"outlinewidth\":0,\"ticks\":\"\"}},\"type\":\"parcoords\"}],\"pie\":[{\"automargin\":true,\"type\":\"pie\"}],\"scatter\":[{\"marker\":{\"colorbar\":{\"outlinewidth\":0,\"ticks\":\"\"}},\"type\":\"scatter\"}],\"scatter3d\":[{\"line\":{\"colorbar\":{\"outlinewidth\":0,\"ticks\":\"\"}},\"marker\":{\"colorbar\":{\"outlinewidth\":0,\"ticks\":\"\"}},\"type\":\"scatter3d\"}],\"scattercarpet\":[{\"marker\":{\"colorbar\":{\"outlinewidth\":0,\"ticks\":\"\"}},\"type\":\"scattercarpet\"}],\"scattergeo\":[{\"marker\":{\"colorbar\":{\"outlinewidth\":0,\"ticks\":\"\"}},\"type\":\"scattergeo\"}],\"scattergl\":[{\"marker\":{\"colorbar\":{\"outlinewidth\":0,\"ticks\":\"\"}},\"type\":\"scattergl\"}],\"scattermapbox\":[{\"marker\":{\"colorbar\":{\"outlinewidth\":0,\"ticks\":\"\"}},\"type\":\"scattermapbox\"}],\"scatterpolar\":[{\"marker\":{\"colorbar\":{\"outlinewidth\":0,\"ticks\":\"\"}},\"type\":\"scatterpolar\"}],\"scatterpolargl\":[{\"marker\":{\"colorbar\":{\"outlinewidth\":0,\"ticks\":\"\"}},\"type\":\"scatterpolargl\"}],\"scatterternary\":[{\"marker\":{\"colorbar\":{\"outlinewidth\":0,\"ticks\":\"\"}},\"type\":\"scatterternary\"}],\"surface\":[{\"colorbar\":{\"outlinewidth\":0,\"ticks\":\"\"},\"colorscale\":[[0.0,\"#0d0887\"],[0.1111111111111111,\"#46039f\"],[0.2222222222222222,\"#7201a8\"],[0.3333333333333333,\"#9c179e\"],[0.4444444444444444,\"#bd3786\"],[0.5555555555555556,\"#d8576b\"],[0.6666666666666666,\"#ed7953\"],[0.7777777777777778,\"#fb9f3a\"],[0.8888888888888888,\"#fdca26\"],[1.0,\"#f0f921\"]],\"type\":\"surface\"}],\"table\":[{\"cells\":{\"fill\":{\"color\":\"#EBF0F8\"},\"line\":{\"color\":\"white\"}},\"header\":{\"fill\":{\"color\":\"#C8D4E3\"},\"line\":{\"color\":\"white\"}},\"type\":\"table\"}]},\"layout\":{\"annotationdefaults\":{\"arrowcolor\":\"#2a3f5f\",\"arrowhead\":0,\"arrowwidth\":1},\"autotypenumbers\":\"strict\",\"coloraxis\":{\"colorbar\":{\"outlinewidth\":0,\"ticks\":\"\"}},\"colorscale\":{\"diverging\":[[0,\"#8e0152\"],[0.1,\"#c51b7d\"],[0.2,\"#de77ae\"],[0.3,\"#f1b6da\"],[0.4,\"#fde0ef\"],[0.5,\"#f7f7f7\"],[0.6,\"#e6f5d0\"],[0.7,\"#b8e186\"],[0.8,\"#7fbc41\"],[0.9,\"#4d9221\"],[1,\"#276419\"]],\"sequential\":[[0.0,\"#0d0887\"],[0.1111111111111111,\"#46039f\"],[0.2222222222222222,\"#7201a8\"],[0.3333333333333333,\"#9c179e\"],[0.4444444444444444,\"#bd3786\"],[0.5555555555555556,\"#d8576b\"],[0.6666666666666666,\"#ed7953\"],[0.7777777777777778,\"#fb9f3a\"],[0.8888888888888888,\"#fdca26\"],[1.0,\"#f0f921\"]],\"sequentialminus\":[[0.0,\"#0d0887\"],[0.1111111111111111,\"#46039f\"],[0.2222222222222222,\"#7201a8\"],[0.3333333333333333,\"#9c179e\"],[0.4444444444444444,\"#bd3786\"],[0.5555555555555556,\"#d8576b\"],[0.6666666666666666,\"#ed7953\"],[0.7777777777777778,\"#fb9f3a\"],[0.8888888888888888,\"#fdca26\"],[1.0,\"#f0f921\"]]},\"colorway\":[\"#636efa\",\"#EF553B\",\"#00cc96\",\"#ab63fa\",\"#FFA15A\",\"#19d3f3\",\"#FF6692\",\"#B6E880\",\"#FF97FF\",\"#FECB52\"],\"font\":{\"color\":\"#2a3f5f\"},\"geo\":{\"bgcolor\":\"white\",\"lakecolor\":\"white\",\"landcolor\":\"#E5ECF6\",\"showlakes\":true,\"showland\":true,\"subunitcolor\":\"white\"},\"hoverlabel\":{\"align\":\"left\"},\"hovermode\":\"closest\",\"mapbox\":{\"style\":\"light\"},\"paper_bgcolor\":\"white\",\"plot_bgcolor\":\"#E5ECF6\",\"polar\":{\"angularaxis\":{\"gridcolor\":\"white\",\"linecolor\":\"white\",\"ticks\":\"\"},\"bgcolor\":\"#E5ECF6\",\"radialaxis\":{\"gridcolor\":\"white\",\"linecolor\":\"white\",\"ticks\":\"\"}},\"scene\":{\"xaxis\":{\"backgroundcolor\":\"#E5ECF6\",\"gridcolor\":\"white\",\"gridwidth\":2,\"linecolor\":\"white\",\"showbackground\":true,\"ticks\":\"\",\"zerolinecolor\":\"white\"},\"yaxis\":{\"backgroundcolor\":\"#E5ECF6\",\"gridcolor\":\"white\",\"gridwidth\":2,\"linecolor\":\"white\",\"showbackground\":true,\"ticks\":\"\",\"zerolinecolor\":\"white\"},\"zaxis\":{\"backgroundcolor\":\"#E5ECF6\",\"gridcolor\":\"white\",\"gridwidth\":2,\"linecolor\":\"white\",\"showbackground\":true,\"ticks\":\"\",\"zerolinecolor\":\"white\"}},\"shapedefaults\":{\"line\":{\"color\":\"#2a3f5f\"}},\"ternary\":{\"aaxis\":{\"gridcolor\":\"white\",\"linecolor\":\"white\",\"ticks\":\"\"},\"baxis\":{\"gridcolor\":\"white\",\"linecolor\":\"white\",\"ticks\":\"\"},\"bgcolor\":\"#E5ECF6\",\"caxis\":{\"gridcolor\":\"white\",\"linecolor\":\"white\",\"ticks\":\"\"}},\"title\":{\"x\":0.05},\"xaxis\":{\"automargin\":true,\"gridcolor\":\"white\",\"linecolor\":\"white\",\"ticks\":\"\",\"title\":{\"standoff\":15},\"zerolinecolor\":\"white\",\"zerolinewidth\":2},\"yaxis\":{\"automargin\":true,\"gridcolor\":\"white\",\"linecolor\":\"white\",\"ticks\":\"\",\"title\":{\"standoff\":15},\"zerolinecolor\":\"white\",\"zerolinewidth\":2}}},\"title\":{\"text\":\"Average Overall benefit across Neighborhoods\"}},                        {\"responsive\": true}                    ).then(function(){\n",
       "                            \n",
       "var gd = document.getElementById('6b16447b-ba8c-4ad6-8723-453bb20a6a6c');\n",
       "var x = new MutationObserver(function (mutations, observer) {{\n",
       "        var display = window.getComputedStyle(gd).display;\n",
       "        if (!display || display === 'none') {{\n",
       "            console.log([gd, 'removed!']);\n",
       "            Plotly.purge(gd);\n",
       "            observer.disconnect();\n",
       "        }}\n",
       "}});\n",
       "\n",
       "// Listen for the removal of the full notebook cells\n",
       "var notebookContainer = gd.closest('#notebook-container');\n",
       "if (notebookContainer) {{\n",
       "    x.observe(notebookContainer, {childList: true});\n",
       "}}\n",
       "\n",
       "// Listen for the clearing of the current output cell\n",
       "var outputEl = gd.closest('.output');\n",
       "if (outputEl) {{\n",
       "    x.observe(outputEl, {childList: true});\n",
       "}}\n",
       "\n",
       "                        })                };                });            </script>        </div>"
      ]
     },
     "metadata": {},
     "output_type": "display_data"
    }
   ],
   "source": [
    "fig=px.choropleth(overall_benefit_map,\n",
    "             geojson=\"https://raw.githubusercontent.com/blackmad/neighborhoods/master/gn-pittsburgh.geojson\",\n",
    "             featureidkey='properties.name',   \n",
    "             locations='neighborhood',        #column in dataframe\n",
    "             color='overall_benefits_dollar_value',\n",
    "              color_continuous_scale='greens',\n",
    "               title='Average Overall benefit across Neighborhoods' ,  \n",
    "               height=500\n",
    "              )\n",
    "fig.update_geos(fitbounds=\"locations\", visible=False)\n",
    "fig.show()"
   ]
  },
  {
   "cell_type": "markdown",
   "id": "7362673c",
   "metadata": {},
   "source": [
    "**Top 5 neighborhoods with highest overall benefits**"
   ]
  },
  {
   "cell_type": "code",
   "execution_count": 452,
   "id": "fdecdd6f",
   "metadata": {},
   "outputs": [
    {
     "data": {
      "text/html": [
       "<div>\n",
       "<style scoped>\n",
       "    .dataframe tbody tr th:only-of-type {\n",
       "        vertical-align: middle;\n",
       "    }\n",
       "\n",
       "    .dataframe tbody tr th {\n",
       "        vertical-align: top;\n",
       "    }\n",
       "\n",
       "    .dataframe thead th {\n",
       "        text-align: right;\n",
       "    }\n",
       "</style>\n",
       "<table border=\"1\" class=\"dataframe\">\n",
       "  <thead>\n",
       "    <tr style=\"text-align: right;\">\n",
       "      <th></th>\n",
       "      <th>neighborhood</th>\n",
       "      <th>overall_benefits_dollar_value</th>\n",
       "    </tr>\n",
       "  </thead>\n",
       "  <tbody>\n",
       "    <tr>\n",
       "      <th>0</th>\n",
       "      <td>Allegheny Center</td>\n",
       "      <td>1098.066189</td>\n",
       "    </tr>\n",
       "    <tr>\n",
       "      <th>1</th>\n",
       "      <td>Allegheny West</td>\n",
       "      <td>603.947056</td>\n",
       "    </tr>\n",
       "    <tr>\n",
       "      <th>39</th>\n",
       "      <td>Highland Park</td>\n",
       "      <td>544.767046</td>\n",
       "    </tr>\n",
       "    <tr>\n",
       "      <th>65</th>\n",
       "      <td>Regent Square</td>\n",
       "      <td>477.596975</td>\n",
       "    </tr>\n",
       "    <tr>\n",
       "      <th>76</th>\n",
       "      <td>Squirrel Hill South</td>\n",
       "      <td>407.285619</td>\n",
       "    </tr>\n",
       "  </tbody>\n",
       "</table>\n",
       "</div>"
      ],
      "text/plain": [
       "           neighborhood  overall_benefits_dollar_value\n",
       "0      Allegheny Center                    1098.066189\n",
       "1        Allegheny West                     603.947056\n",
       "39        Highland Park                     544.767046\n",
       "65        Regent Square                     477.596975\n",
       "76  Squirrel Hill South                     407.285619"
      ]
     },
     "execution_count": 452,
     "metadata": {},
     "output_type": "execute_result"
    }
   ],
   "source": [
    "overall_benefit_map.sort_values('overall_benefits_dollar_value', ascending=False).head(5)"
   ]
  },
  {
   "cell_type": "markdown",
   "id": "d6d56b99",
   "metadata": {},
   "source": [
    "**Inference:\n",
    "3 of the top 5 neighborhoods with the highest overall benefits are also in the top 5 neighborhoods with highest tree density. This exhibhits a clear positive correlation between the two**"
   ]
  },
  {
   "cell_type": "markdown",
   "id": "26bee5de",
   "metadata": {},
   "source": [
    "# Plot neighborhood level tree Stormwater benefits data"
   ]
  },
  {
   "cell_type": "code",
   "execution_count": 453,
   "id": "aae6cf35",
   "metadata": {},
   "outputs": [],
   "source": [
    "stormwater_benefit_map = combined_data[['neighborhood', 'stormwater_benefits_dollar_value']].copy()"
   ]
  },
  {
   "cell_type": "code",
   "execution_count": 454,
   "id": "8f1cd288",
   "metadata": {},
   "outputs": [
    {
     "data": {
      "application/vnd.plotly.v1+json": {
       "config": {
        "plotlyServerURL": "https://plot.ly"
       },
       "data": [
        {
         "coloraxis": "coloraxis",
         "featureidkey": "properties.name",
         "geo": "geo",
         "geojson": "https://raw.githubusercontent.com/blackmad/neighborhoods/master/gn-pittsburgh.geojson",
         "hovertemplate": "neighborhood=%{location}<br>stormwater_benefits_dollar_value=%{z}<extra></extra>",
         "locations": [
          "Allegheny Center",
          "Allegheny West",
          "Allentown",
          "Arlington",
          "Arlington Heights",
          "Banksville",
          "Bedford Dwellings",
          "Beechview",
          "Beltzhoover",
          "Bloomfield",
          "Bluff",
          "Bon Air",
          "Brighton Heights",
          "Brookline",
          "California-Kirkbride",
          "Carrick",
          "Central Business District",
          "Central Lawrenceville",
          "Central Northside",
          "Central Oakland",
          "Chartiers City",
          "Chateau",
          "Crafton Heights",
          "Crawford-Roberts",
          "Duquesne Heights",
          "East Allegheny",
          "East Carnegie",
          "East Hills",
          "East Liberty",
          "Elliott",
          "Esplen",
          "Fairywood",
          "Fineview",
          "Friendship",
          "Garfield",
          "Glen Hazel",
          "Greenfield",
          "Hays",
          "Hazelwood",
          "Highland Park",
          "Homewood North",
          "Homewood South",
          "Homewood West",
          "Knoxville",
          "Larimer",
          "Lincoln Place",
          "Lincoln-Lemington-Belmar",
          "Lower Lawrenceville",
          "Manchester",
          "Marshall-Shadeland",
          "Middle Hill",
          "Morningside",
          "Mount Washington",
          "Mt. Oliver",
          "New Homestead",
          "North Oakland",
          "North Shore",
          "Northview Heights",
          "Oakwood",
          "Overbrook",
          "Perry North",
          "Perry South",
          "Point Breeze",
          "Point Breeze North",
          "Polish Hill",
          "Regent Square",
          "Ridgemont",
          "Shadyside",
          "Sheraden",
          "South Oakland",
          "South Shore",
          "South Side Flats",
          "South Side Slopes",
          "Spring Garden",
          "Spring Hill-City View",
          "Squirrel Hill North",
          "Squirrel Hill South",
          "St. Clair",
          "Stanton Heights",
          "Strip District",
          "Summer Hill",
          "Swisshelm Park",
          "Terrace Village",
          "Troy Hill",
          "Upper Hill",
          "Upper Lawrenceville",
          "West End",
          "West Oakland",
          "Westwood",
          "Windgap"
         ],
         "name": "",
         "type": "choropleth",
         "z": [
          112.6813199579172,
          59.06075358394866,
          2.777930098961094,
          1.2928285957248236,
          0.9359755914566391,
          8.24313971727448,
          7.52607949134096,
          5.584968370236785,
          3.328893149969976,
          16.687390752216686,
          3.3472239145594562,
          3.641727541145707,
          10.791645327120321,
          6.027410806865334,
          4.213491426092896,
          5.591840154850221,
          8.724374277947962,
          3.2042934139328247,
          18.104550612834938,
          20.714067930194435,
          6.324360696531653,
          4.500818614894988,
          6.541727927039732,
          15.598949828919968,
          1.3379957964146532,
          12.594165240791156,
          0.1648467974630706,
          14.465345108140646,
          16.978245382137537,
          3.9662488413694112,
          0.10026923279890955,
          0.8332142310698424,
          5.132235283337104,
          26.91678720520651,
          11.946002994827198,
          0.02058399139438671,
          11.550120300435358,
          0.004983212358935492,
          4.106016198219323,
          52.14821683624681,
          8.777714411570498,
          10.022004046908776,
          4.109515488562482,
          23.5541457415246,
          7.401476130099385,
          4.494514713018351,
          32.864651162496955,
          7.948693097557035,
          20.151249650313503,
          26.939549731230997,
          6.298508784685209,
          11.289822090070466,
          7.790997121610252,
          1.3674854566932926,
          4.91972144116002,
          20.431456739927395,
          9.554516757670942,
          0.29438364459594757,
          6.0436137002520764,
          4.545481043827743,
          15.501640037587961,
          5.7665169758002515,
          26.03418631819882,
          27.547920529534323,
          5.624965252578951,
          45.628699089256514,
          1.1665049540939343,
          22.560199392966815,
          5.2447149446919745,
          3.4698952575976674,
          0.01629699960815266,
          10.100083219361272,
          2.2669337135540433,
          1.2582641557410112,
          1.546660119047151,
          42.47138275063659,
          38.09941938160015,
          0.7151508521549039,
          21.060468874471557,
          3.230034534293992,
          2.6881184219460335,
          11.251118609652274,
          4.771034934769817,
          1.2590915658748607,
          6.114436485860204,
          8.4176849886696,
          4.083605890925609,
          1.7021914117873627,
          6.871909202619073,
          4.556557680479005
         ]
        }
       ],
       "layout": {
        "coloraxis": {
         "colorbar": {
          "title": {
           "text": "stormwater_benefits_dollar_value"
          }
         },
         "colorscale": [
          [
           0,
           "rgb(247,252,245)"
          ],
          [
           0.125,
           "rgb(229,245,224)"
          ],
          [
           0.25,
           "rgb(199,233,192)"
          ],
          [
           0.375,
           "rgb(161,217,155)"
          ],
          [
           0.5,
           "rgb(116,196,118)"
          ],
          [
           0.625,
           "rgb(65,171,93)"
          ],
          [
           0.75,
           "rgb(35,139,69)"
          ],
          [
           0.875,
           "rgb(0,109,44)"
          ],
          [
           1,
           "rgb(0,68,27)"
          ]
         ]
        },
        "geo": {
         "center": {},
         "domain": {
          "x": [
           0,
           1
          ],
          "y": [
           0,
           1
          ]
         },
         "fitbounds": "locations",
         "visible": false
        },
        "height": 500,
        "legend": {
         "tracegroupgap": 0
        },
        "template": {
         "data": {
          "bar": [
           {
            "error_x": {
             "color": "#2a3f5f"
            },
            "error_y": {
             "color": "#2a3f5f"
            },
            "marker": {
             "line": {
              "color": "#E5ECF6",
              "width": 0.5
             },
             "pattern": {
              "fillmode": "overlay",
              "size": 10,
              "solidity": 0.2
             }
            },
            "type": "bar"
           }
          ],
          "barpolar": [
           {
            "marker": {
             "line": {
              "color": "#E5ECF6",
              "width": 0.5
             },
             "pattern": {
              "fillmode": "overlay",
              "size": 10,
              "solidity": 0.2
             }
            },
            "type": "barpolar"
           }
          ],
          "carpet": [
           {
            "aaxis": {
             "endlinecolor": "#2a3f5f",
             "gridcolor": "white",
             "linecolor": "white",
             "minorgridcolor": "white",
             "startlinecolor": "#2a3f5f"
            },
            "baxis": {
             "endlinecolor": "#2a3f5f",
             "gridcolor": "white",
             "linecolor": "white",
             "minorgridcolor": "white",
             "startlinecolor": "#2a3f5f"
            },
            "type": "carpet"
           }
          ],
          "choropleth": [
           {
            "colorbar": {
             "outlinewidth": 0,
             "ticks": ""
            },
            "type": "choropleth"
           }
          ],
          "contour": [
           {
            "colorbar": {
             "outlinewidth": 0,
             "ticks": ""
            },
            "colorscale": [
             [
              0,
              "#0d0887"
             ],
             [
              0.1111111111111111,
              "#46039f"
             ],
             [
              0.2222222222222222,
              "#7201a8"
             ],
             [
              0.3333333333333333,
              "#9c179e"
             ],
             [
              0.4444444444444444,
              "#bd3786"
             ],
             [
              0.5555555555555556,
              "#d8576b"
             ],
             [
              0.6666666666666666,
              "#ed7953"
             ],
             [
              0.7777777777777778,
              "#fb9f3a"
             ],
             [
              0.8888888888888888,
              "#fdca26"
             ],
             [
              1,
              "#f0f921"
             ]
            ],
            "type": "contour"
           }
          ],
          "contourcarpet": [
           {
            "colorbar": {
             "outlinewidth": 0,
             "ticks": ""
            },
            "type": "contourcarpet"
           }
          ],
          "heatmap": [
           {
            "colorbar": {
             "outlinewidth": 0,
             "ticks": ""
            },
            "colorscale": [
             [
              0,
              "#0d0887"
             ],
             [
              0.1111111111111111,
              "#46039f"
             ],
             [
              0.2222222222222222,
              "#7201a8"
             ],
             [
              0.3333333333333333,
              "#9c179e"
             ],
             [
              0.4444444444444444,
              "#bd3786"
             ],
             [
              0.5555555555555556,
              "#d8576b"
             ],
             [
              0.6666666666666666,
              "#ed7953"
             ],
             [
              0.7777777777777778,
              "#fb9f3a"
             ],
             [
              0.8888888888888888,
              "#fdca26"
             ],
             [
              1,
              "#f0f921"
             ]
            ],
            "type": "heatmap"
           }
          ],
          "heatmapgl": [
           {
            "colorbar": {
             "outlinewidth": 0,
             "ticks": ""
            },
            "colorscale": [
             [
              0,
              "#0d0887"
             ],
             [
              0.1111111111111111,
              "#46039f"
             ],
             [
              0.2222222222222222,
              "#7201a8"
             ],
             [
              0.3333333333333333,
              "#9c179e"
             ],
             [
              0.4444444444444444,
              "#bd3786"
             ],
             [
              0.5555555555555556,
              "#d8576b"
             ],
             [
              0.6666666666666666,
              "#ed7953"
             ],
             [
              0.7777777777777778,
              "#fb9f3a"
             ],
             [
              0.8888888888888888,
              "#fdca26"
             ],
             [
              1,
              "#f0f921"
             ]
            ],
            "type": "heatmapgl"
           }
          ],
          "histogram": [
           {
            "marker": {
             "pattern": {
              "fillmode": "overlay",
              "size": 10,
              "solidity": 0.2
             }
            },
            "type": "histogram"
           }
          ],
          "histogram2d": [
           {
            "colorbar": {
             "outlinewidth": 0,
             "ticks": ""
            },
            "colorscale": [
             [
              0,
              "#0d0887"
             ],
             [
              0.1111111111111111,
              "#46039f"
             ],
             [
              0.2222222222222222,
              "#7201a8"
             ],
             [
              0.3333333333333333,
              "#9c179e"
             ],
             [
              0.4444444444444444,
              "#bd3786"
             ],
             [
              0.5555555555555556,
              "#d8576b"
             ],
             [
              0.6666666666666666,
              "#ed7953"
             ],
             [
              0.7777777777777778,
              "#fb9f3a"
             ],
             [
              0.8888888888888888,
              "#fdca26"
             ],
             [
              1,
              "#f0f921"
             ]
            ],
            "type": "histogram2d"
           }
          ],
          "histogram2dcontour": [
           {
            "colorbar": {
             "outlinewidth": 0,
             "ticks": ""
            },
            "colorscale": [
             [
              0,
              "#0d0887"
             ],
             [
              0.1111111111111111,
              "#46039f"
             ],
             [
              0.2222222222222222,
              "#7201a8"
             ],
             [
              0.3333333333333333,
              "#9c179e"
             ],
             [
              0.4444444444444444,
              "#bd3786"
             ],
             [
              0.5555555555555556,
              "#d8576b"
             ],
             [
              0.6666666666666666,
              "#ed7953"
             ],
             [
              0.7777777777777778,
              "#fb9f3a"
             ],
             [
              0.8888888888888888,
              "#fdca26"
             ],
             [
              1,
              "#f0f921"
             ]
            ],
            "type": "histogram2dcontour"
           }
          ],
          "mesh3d": [
           {
            "colorbar": {
             "outlinewidth": 0,
             "ticks": ""
            },
            "type": "mesh3d"
           }
          ],
          "parcoords": [
           {
            "line": {
             "colorbar": {
              "outlinewidth": 0,
              "ticks": ""
             }
            },
            "type": "parcoords"
           }
          ],
          "pie": [
           {
            "automargin": true,
            "type": "pie"
           }
          ],
          "scatter": [
           {
            "marker": {
             "colorbar": {
              "outlinewidth": 0,
              "ticks": ""
             }
            },
            "type": "scatter"
           }
          ],
          "scatter3d": [
           {
            "line": {
             "colorbar": {
              "outlinewidth": 0,
              "ticks": ""
             }
            },
            "marker": {
             "colorbar": {
              "outlinewidth": 0,
              "ticks": ""
             }
            },
            "type": "scatter3d"
           }
          ],
          "scattercarpet": [
           {
            "marker": {
             "colorbar": {
              "outlinewidth": 0,
              "ticks": ""
             }
            },
            "type": "scattercarpet"
           }
          ],
          "scattergeo": [
           {
            "marker": {
             "colorbar": {
              "outlinewidth": 0,
              "ticks": ""
             }
            },
            "type": "scattergeo"
           }
          ],
          "scattergl": [
           {
            "marker": {
             "colorbar": {
              "outlinewidth": 0,
              "ticks": ""
             }
            },
            "type": "scattergl"
           }
          ],
          "scattermapbox": [
           {
            "marker": {
             "colorbar": {
              "outlinewidth": 0,
              "ticks": ""
             }
            },
            "type": "scattermapbox"
           }
          ],
          "scatterpolar": [
           {
            "marker": {
             "colorbar": {
              "outlinewidth": 0,
              "ticks": ""
             }
            },
            "type": "scatterpolar"
           }
          ],
          "scatterpolargl": [
           {
            "marker": {
             "colorbar": {
              "outlinewidth": 0,
              "ticks": ""
             }
            },
            "type": "scatterpolargl"
           }
          ],
          "scatterternary": [
           {
            "marker": {
             "colorbar": {
              "outlinewidth": 0,
              "ticks": ""
             }
            },
            "type": "scatterternary"
           }
          ],
          "surface": [
           {
            "colorbar": {
             "outlinewidth": 0,
             "ticks": ""
            },
            "colorscale": [
             [
              0,
              "#0d0887"
             ],
             [
              0.1111111111111111,
              "#46039f"
             ],
             [
              0.2222222222222222,
              "#7201a8"
             ],
             [
              0.3333333333333333,
              "#9c179e"
             ],
             [
              0.4444444444444444,
              "#bd3786"
             ],
             [
              0.5555555555555556,
              "#d8576b"
             ],
             [
              0.6666666666666666,
              "#ed7953"
             ],
             [
              0.7777777777777778,
              "#fb9f3a"
             ],
             [
              0.8888888888888888,
              "#fdca26"
             ],
             [
              1,
              "#f0f921"
             ]
            ],
            "type": "surface"
           }
          ],
          "table": [
           {
            "cells": {
             "fill": {
              "color": "#EBF0F8"
             },
             "line": {
              "color": "white"
             }
            },
            "header": {
             "fill": {
              "color": "#C8D4E3"
             },
             "line": {
              "color": "white"
             }
            },
            "type": "table"
           }
          ]
         },
         "layout": {
          "annotationdefaults": {
           "arrowcolor": "#2a3f5f",
           "arrowhead": 0,
           "arrowwidth": 1
          },
          "autotypenumbers": "strict",
          "coloraxis": {
           "colorbar": {
            "outlinewidth": 0,
            "ticks": ""
           }
          },
          "colorscale": {
           "diverging": [
            [
             0,
             "#8e0152"
            ],
            [
             0.1,
             "#c51b7d"
            ],
            [
             0.2,
             "#de77ae"
            ],
            [
             0.3,
             "#f1b6da"
            ],
            [
             0.4,
             "#fde0ef"
            ],
            [
             0.5,
             "#f7f7f7"
            ],
            [
             0.6,
             "#e6f5d0"
            ],
            [
             0.7,
             "#b8e186"
            ],
            [
             0.8,
             "#7fbc41"
            ],
            [
             0.9,
             "#4d9221"
            ],
            [
             1,
             "#276419"
            ]
           ],
           "sequential": [
            [
             0,
             "#0d0887"
            ],
            [
             0.1111111111111111,
             "#46039f"
            ],
            [
             0.2222222222222222,
             "#7201a8"
            ],
            [
             0.3333333333333333,
             "#9c179e"
            ],
            [
             0.4444444444444444,
             "#bd3786"
            ],
            [
             0.5555555555555556,
             "#d8576b"
            ],
            [
             0.6666666666666666,
             "#ed7953"
            ],
            [
             0.7777777777777778,
             "#fb9f3a"
            ],
            [
             0.8888888888888888,
             "#fdca26"
            ],
            [
             1,
             "#f0f921"
            ]
           ],
           "sequentialminus": [
            [
             0,
             "#0d0887"
            ],
            [
             0.1111111111111111,
             "#46039f"
            ],
            [
             0.2222222222222222,
             "#7201a8"
            ],
            [
             0.3333333333333333,
             "#9c179e"
            ],
            [
             0.4444444444444444,
             "#bd3786"
            ],
            [
             0.5555555555555556,
             "#d8576b"
            ],
            [
             0.6666666666666666,
             "#ed7953"
            ],
            [
             0.7777777777777778,
             "#fb9f3a"
            ],
            [
             0.8888888888888888,
             "#fdca26"
            ],
            [
             1,
             "#f0f921"
            ]
           ]
          },
          "colorway": [
           "#636efa",
           "#EF553B",
           "#00cc96",
           "#ab63fa",
           "#FFA15A",
           "#19d3f3",
           "#FF6692",
           "#B6E880",
           "#FF97FF",
           "#FECB52"
          ],
          "font": {
           "color": "#2a3f5f"
          },
          "geo": {
           "bgcolor": "white",
           "lakecolor": "white",
           "landcolor": "#E5ECF6",
           "showlakes": true,
           "showland": true,
           "subunitcolor": "white"
          },
          "hoverlabel": {
           "align": "left"
          },
          "hovermode": "closest",
          "mapbox": {
           "style": "light"
          },
          "paper_bgcolor": "white",
          "plot_bgcolor": "#E5ECF6",
          "polar": {
           "angularaxis": {
            "gridcolor": "white",
            "linecolor": "white",
            "ticks": ""
           },
           "bgcolor": "#E5ECF6",
           "radialaxis": {
            "gridcolor": "white",
            "linecolor": "white",
            "ticks": ""
           }
          },
          "scene": {
           "xaxis": {
            "backgroundcolor": "#E5ECF6",
            "gridcolor": "white",
            "gridwidth": 2,
            "linecolor": "white",
            "showbackground": true,
            "ticks": "",
            "zerolinecolor": "white"
           },
           "yaxis": {
            "backgroundcolor": "#E5ECF6",
            "gridcolor": "white",
            "gridwidth": 2,
            "linecolor": "white",
            "showbackground": true,
            "ticks": "",
            "zerolinecolor": "white"
           },
           "zaxis": {
            "backgroundcolor": "#E5ECF6",
            "gridcolor": "white",
            "gridwidth": 2,
            "linecolor": "white",
            "showbackground": true,
            "ticks": "",
            "zerolinecolor": "white"
           }
          },
          "shapedefaults": {
           "line": {
            "color": "#2a3f5f"
           }
          },
          "ternary": {
           "aaxis": {
            "gridcolor": "white",
            "linecolor": "white",
            "ticks": ""
           },
           "baxis": {
            "gridcolor": "white",
            "linecolor": "white",
            "ticks": ""
           },
           "bgcolor": "#E5ECF6",
           "caxis": {
            "gridcolor": "white",
            "linecolor": "white",
            "ticks": ""
           }
          },
          "title": {
           "x": 0.05
          },
          "xaxis": {
           "automargin": true,
           "gridcolor": "white",
           "linecolor": "white",
           "ticks": "",
           "title": {
            "standoff": 15
           },
           "zerolinecolor": "white",
           "zerolinewidth": 2
          },
          "yaxis": {
           "automargin": true,
           "gridcolor": "white",
           "linecolor": "white",
           "ticks": "",
           "title": {
            "standoff": 15
           },
           "zerolinecolor": "white",
           "zerolinewidth": 2
          }
         }
        },
        "title": {
         "text": "Average Stormwater benefit across Neighborhoods"
        }
       }
      },
      "text/html": [
       "<div>                            <div id=\"89f8c247-a882-4698-97e2-f2b1d0dcbfd0\" class=\"plotly-graph-div\" style=\"height:500px; width:100%;\"></div>            <script type=\"text/javascript\">                require([\"plotly\"], function(Plotly) {                    window.PLOTLYENV=window.PLOTLYENV || {};                                    if (document.getElementById(\"89f8c247-a882-4698-97e2-f2b1d0dcbfd0\")) {                    Plotly.newPlot(                        \"89f8c247-a882-4698-97e2-f2b1d0dcbfd0\",                        [{\"coloraxis\":\"coloraxis\",\"featureidkey\":\"properties.name\",\"geo\":\"geo\",\"geojson\":\"https://raw.githubusercontent.com/blackmad/neighborhoods/master/gn-pittsburgh.geojson\",\"hovertemplate\":\"neighborhood=%{location}<br>stormwater_benefits_dollar_value=%{z}<extra></extra>\",\"locations\":[\"Allegheny Center\",\"Allegheny West\",\"Allentown\",\"Arlington\",\"Arlington Heights\",\"Banksville\",\"Bedford Dwellings\",\"Beechview\",\"Beltzhoover\",\"Bloomfield\",\"Bluff\",\"Bon Air\",\"Brighton Heights\",\"Brookline\",\"California-Kirkbride\",\"Carrick\",\"Central Business District\",\"Central Lawrenceville\",\"Central Northside\",\"Central Oakland\",\"Chartiers City\",\"Chateau\",\"Crafton Heights\",\"Crawford-Roberts\",\"Duquesne Heights\",\"East Allegheny\",\"East Carnegie\",\"East Hills\",\"East Liberty\",\"Elliott\",\"Esplen\",\"Fairywood\",\"Fineview\",\"Friendship\",\"Garfield\",\"Glen Hazel\",\"Greenfield\",\"Hays\",\"Hazelwood\",\"Highland Park\",\"Homewood North\",\"Homewood South\",\"Homewood West\",\"Knoxville\",\"Larimer\",\"Lincoln Place\",\"Lincoln-Lemington-Belmar\",\"Lower Lawrenceville\",\"Manchester\",\"Marshall-Shadeland\",\"Middle Hill\",\"Morningside\",\"Mount Washington\",\"Mt. Oliver\",\"New Homestead\",\"North Oakland\",\"North Shore\",\"Northview Heights\",\"Oakwood\",\"Overbrook\",\"Perry North\",\"Perry South\",\"Point Breeze\",\"Point Breeze North\",\"Polish Hill\",\"Regent Square\",\"Ridgemont\",\"Shadyside\",\"Sheraden\",\"South Oakland\",\"South Shore\",\"South Side Flats\",\"South Side Slopes\",\"Spring Garden\",\"Spring Hill-City View\",\"Squirrel Hill North\",\"Squirrel Hill South\",\"St. Clair\",\"Stanton Heights\",\"Strip District\",\"Summer Hill\",\"Swisshelm Park\",\"Terrace Village\",\"Troy Hill\",\"Upper Hill\",\"Upper Lawrenceville\",\"West End\",\"West Oakland\",\"Westwood\",\"Windgap\"],\"name\":\"\",\"type\":\"choropleth\",\"z\":[112.6813199579172,59.06075358394866,2.777930098961094,1.2928285957248236,0.9359755914566391,8.24313971727448,7.52607949134096,5.584968370236785,3.328893149969976,16.687390752216686,3.3472239145594562,3.641727541145707,10.791645327120321,6.027410806865334,4.213491426092896,5.591840154850221,8.724374277947962,3.2042934139328247,18.104550612834938,20.714067930194435,6.324360696531653,4.500818614894988,6.541727927039732,15.598949828919968,1.3379957964146532,12.594165240791156,0.1648467974630706,14.465345108140646,16.978245382137537,3.9662488413694112,0.10026923279890955,0.8332142310698424,5.132235283337104,26.91678720520651,11.946002994827198,0.02058399139438671,11.550120300435358,0.004983212358935492,4.106016198219323,52.14821683624681,8.777714411570498,10.022004046908776,4.109515488562482,23.5541457415246,7.401476130099385,4.494514713018351,32.864651162496955,7.948693097557035,20.151249650313503,26.939549731230997,6.298508784685209,11.289822090070466,7.790997121610252,1.3674854566932926,4.91972144116002,20.431456739927395,9.554516757670942,0.29438364459594757,6.0436137002520764,4.545481043827743,15.501640037587961,5.7665169758002515,26.03418631819882,27.547920529534323,5.624965252578951,45.628699089256514,1.1665049540939343,22.560199392966815,5.2447149446919745,3.4698952575976674,0.01629699960815266,10.100083219361272,2.2669337135540433,1.2582641557410112,1.546660119047151,42.47138275063659,38.09941938160015,0.7151508521549039,21.060468874471557,3.230034534293992,2.6881184219460335,11.251118609652274,4.771034934769817,1.2590915658748607,6.114436485860204,8.4176849886696,4.083605890925609,1.7021914117873627,6.871909202619073,4.556557680479005]}],                        {\"coloraxis\":{\"colorbar\":{\"title\":{\"text\":\"stormwater_benefits_dollar_value\"}},\"colorscale\":[[0.0,\"rgb(247,252,245)\"],[0.125,\"rgb(229,245,224)\"],[0.25,\"rgb(199,233,192)\"],[0.375,\"rgb(161,217,155)\"],[0.5,\"rgb(116,196,118)\"],[0.625,\"rgb(65,171,93)\"],[0.75,\"rgb(35,139,69)\"],[0.875,\"rgb(0,109,44)\"],[1.0,\"rgb(0,68,27)\"]]},\"geo\":{\"center\":{},\"domain\":{\"x\":[0.0,1.0],\"y\":[0.0,1.0]},\"fitbounds\":\"locations\",\"visible\":false},\"height\":500,\"legend\":{\"tracegroupgap\":0},\"template\":{\"data\":{\"bar\":[{\"error_x\":{\"color\":\"#2a3f5f\"},\"error_y\":{\"color\":\"#2a3f5f\"},\"marker\":{\"line\":{\"color\":\"#E5ECF6\",\"width\":0.5},\"pattern\":{\"fillmode\":\"overlay\",\"size\":10,\"solidity\":0.2}},\"type\":\"bar\"}],\"barpolar\":[{\"marker\":{\"line\":{\"color\":\"#E5ECF6\",\"width\":0.5},\"pattern\":{\"fillmode\":\"overlay\",\"size\":10,\"solidity\":0.2}},\"type\":\"barpolar\"}],\"carpet\":[{\"aaxis\":{\"endlinecolor\":\"#2a3f5f\",\"gridcolor\":\"white\",\"linecolor\":\"white\",\"minorgridcolor\":\"white\",\"startlinecolor\":\"#2a3f5f\"},\"baxis\":{\"endlinecolor\":\"#2a3f5f\",\"gridcolor\":\"white\",\"linecolor\":\"white\",\"minorgridcolor\":\"white\",\"startlinecolor\":\"#2a3f5f\"},\"type\":\"carpet\"}],\"choropleth\":[{\"colorbar\":{\"outlinewidth\":0,\"ticks\":\"\"},\"type\":\"choropleth\"}],\"contour\":[{\"colorbar\":{\"outlinewidth\":0,\"ticks\":\"\"},\"colorscale\":[[0.0,\"#0d0887\"],[0.1111111111111111,\"#46039f\"],[0.2222222222222222,\"#7201a8\"],[0.3333333333333333,\"#9c179e\"],[0.4444444444444444,\"#bd3786\"],[0.5555555555555556,\"#d8576b\"],[0.6666666666666666,\"#ed7953\"],[0.7777777777777778,\"#fb9f3a\"],[0.8888888888888888,\"#fdca26\"],[1.0,\"#f0f921\"]],\"type\":\"contour\"}],\"contourcarpet\":[{\"colorbar\":{\"outlinewidth\":0,\"ticks\":\"\"},\"type\":\"contourcarpet\"}],\"heatmap\":[{\"colorbar\":{\"outlinewidth\":0,\"ticks\":\"\"},\"colorscale\":[[0.0,\"#0d0887\"],[0.1111111111111111,\"#46039f\"],[0.2222222222222222,\"#7201a8\"],[0.3333333333333333,\"#9c179e\"],[0.4444444444444444,\"#bd3786\"],[0.5555555555555556,\"#d8576b\"],[0.6666666666666666,\"#ed7953\"],[0.7777777777777778,\"#fb9f3a\"],[0.8888888888888888,\"#fdca26\"],[1.0,\"#f0f921\"]],\"type\":\"heatmap\"}],\"heatmapgl\":[{\"colorbar\":{\"outlinewidth\":0,\"ticks\":\"\"},\"colorscale\":[[0.0,\"#0d0887\"],[0.1111111111111111,\"#46039f\"],[0.2222222222222222,\"#7201a8\"],[0.3333333333333333,\"#9c179e\"],[0.4444444444444444,\"#bd3786\"],[0.5555555555555556,\"#d8576b\"],[0.6666666666666666,\"#ed7953\"],[0.7777777777777778,\"#fb9f3a\"],[0.8888888888888888,\"#fdca26\"],[1.0,\"#f0f921\"]],\"type\":\"heatmapgl\"}],\"histogram\":[{\"marker\":{\"pattern\":{\"fillmode\":\"overlay\",\"size\":10,\"solidity\":0.2}},\"type\":\"histogram\"}],\"histogram2d\":[{\"colorbar\":{\"outlinewidth\":0,\"ticks\":\"\"},\"colorscale\":[[0.0,\"#0d0887\"],[0.1111111111111111,\"#46039f\"],[0.2222222222222222,\"#7201a8\"],[0.3333333333333333,\"#9c179e\"],[0.4444444444444444,\"#bd3786\"],[0.5555555555555556,\"#d8576b\"],[0.6666666666666666,\"#ed7953\"],[0.7777777777777778,\"#fb9f3a\"],[0.8888888888888888,\"#fdca26\"],[1.0,\"#f0f921\"]],\"type\":\"histogram2d\"}],\"histogram2dcontour\":[{\"colorbar\":{\"outlinewidth\":0,\"ticks\":\"\"},\"colorscale\":[[0.0,\"#0d0887\"],[0.1111111111111111,\"#46039f\"],[0.2222222222222222,\"#7201a8\"],[0.3333333333333333,\"#9c179e\"],[0.4444444444444444,\"#bd3786\"],[0.5555555555555556,\"#d8576b\"],[0.6666666666666666,\"#ed7953\"],[0.7777777777777778,\"#fb9f3a\"],[0.8888888888888888,\"#fdca26\"],[1.0,\"#f0f921\"]],\"type\":\"histogram2dcontour\"}],\"mesh3d\":[{\"colorbar\":{\"outlinewidth\":0,\"ticks\":\"\"},\"type\":\"mesh3d\"}],\"parcoords\":[{\"line\":{\"colorbar\":{\"outlinewidth\":0,\"ticks\":\"\"}},\"type\":\"parcoords\"}],\"pie\":[{\"automargin\":true,\"type\":\"pie\"}],\"scatter\":[{\"marker\":{\"colorbar\":{\"outlinewidth\":0,\"ticks\":\"\"}},\"type\":\"scatter\"}],\"scatter3d\":[{\"line\":{\"colorbar\":{\"outlinewidth\":0,\"ticks\":\"\"}},\"marker\":{\"colorbar\":{\"outlinewidth\":0,\"ticks\":\"\"}},\"type\":\"scatter3d\"}],\"scattercarpet\":[{\"marker\":{\"colorbar\":{\"outlinewidth\":0,\"ticks\":\"\"}},\"type\":\"scattercarpet\"}],\"scattergeo\":[{\"marker\":{\"colorbar\":{\"outlinewidth\":0,\"ticks\":\"\"}},\"type\":\"scattergeo\"}],\"scattergl\":[{\"marker\":{\"colorbar\":{\"outlinewidth\":0,\"ticks\":\"\"}},\"type\":\"scattergl\"}],\"scattermapbox\":[{\"marker\":{\"colorbar\":{\"outlinewidth\":0,\"ticks\":\"\"}},\"type\":\"scattermapbox\"}],\"scatterpolar\":[{\"marker\":{\"colorbar\":{\"outlinewidth\":0,\"ticks\":\"\"}},\"type\":\"scatterpolar\"}],\"scatterpolargl\":[{\"marker\":{\"colorbar\":{\"outlinewidth\":0,\"ticks\":\"\"}},\"type\":\"scatterpolargl\"}],\"scatterternary\":[{\"marker\":{\"colorbar\":{\"outlinewidth\":0,\"ticks\":\"\"}},\"type\":\"scatterternary\"}],\"surface\":[{\"colorbar\":{\"outlinewidth\":0,\"ticks\":\"\"},\"colorscale\":[[0.0,\"#0d0887\"],[0.1111111111111111,\"#46039f\"],[0.2222222222222222,\"#7201a8\"],[0.3333333333333333,\"#9c179e\"],[0.4444444444444444,\"#bd3786\"],[0.5555555555555556,\"#d8576b\"],[0.6666666666666666,\"#ed7953\"],[0.7777777777777778,\"#fb9f3a\"],[0.8888888888888888,\"#fdca26\"],[1.0,\"#f0f921\"]],\"type\":\"surface\"}],\"table\":[{\"cells\":{\"fill\":{\"color\":\"#EBF0F8\"},\"line\":{\"color\":\"white\"}},\"header\":{\"fill\":{\"color\":\"#C8D4E3\"},\"line\":{\"color\":\"white\"}},\"type\":\"table\"}]},\"layout\":{\"annotationdefaults\":{\"arrowcolor\":\"#2a3f5f\",\"arrowhead\":0,\"arrowwidth\":1},\"autotypenumbers\":\"strict\",\"coloraxis\":{\"colorbar\":{\"outlinewidth\":0,\"ticks\":\"\"}},\"colorscale\":{\"diverging\":[[0,\"#8e0152\"],[0.1,\"#c51b7d\"],[0.2,\"#de77ae\"],[0.3,\"#f1b6da\"],[0.4,\"#fde0ef\"],[0.5,\"#f7f7f7\"],[0.6,\"#e6f5d0\"],[0.7,\"#b8e186\"],[0.8,\"#7fbc41\"],[0.9,\"#4d9221\"],[1,\"#276419\"]],\"sequential\":[[0.0,\"#0d0887\"],[0.1111111111111111,\"#46039f\"],[0.2222222222222222,\"#7201a8\"],[0.3333333333333333,\"#9c179e\"],[0.4444444444444444,\"#bd3786\"],[0.5555555555555556,\"#d8576b\"],[0.6666666666666666,\"#ed7953\"],[0.7777777777777778,\"#fb9f3a\"],[0.8888888888888888,\"#fdca26\"],[1.0,\"#f0f921\"]],\"sequentialminus\":[[0.0,\"#0d0887\"],[0.1111111111111111,\"#46039f\"],[0.2222222222222222,\"#7201a8\"],[0.3333333333333333,\"#9c179e\"],[0.4444444444444444,\"#bd3786\"],[0.5555555555555556,\"#d8576b\"],[0.6666666666666666,\"#ed7953\"],[0.7777777777777778,\"#fb9f3a\"],[0.8888888888888888,\"#fdca26\"],[1.0,\"#f0f921\"]]},\"colorway\":[\"#636efa\",\"#EF553B\",\"#00cc96\",\"#ab63fa\",\"#FFA15A\",\"#19d3f3\",\"#FF6692\",\"#B6E880\",\"#FF97FF\",\"#FECB52\"],\"font\":{\"color\":\"#2a3f5f\"},\"geo\":{\"bgcolor\":\"white\",\"lakecolor\":\"white\",\"landcolor\":\"#E5ECF6\",\"showlakes\":true,\"showland\":true,\"subunitcolor\":\"white\"},\"hoverlabel\":{\"align\":\"left\"},\"hovermode\":\"closest\",\"mapbox\":{\"style\":\"light\"},\"paper_bgcolor\":\"white\",\"plot_bgcolor\":\"#E5ECF6\",\"polar\":{\"angularaxis\":{\"gridcolor\":\"white\",\"linecolor\":\"white\",\"ticks\":\"\"},\"bgcolor\":\"#E5ECF6\",\"radialaxis\":{\"gridcolor\":\"white\",\"linecolor\":\"white\",\"ticks\":\"\"}},\"scene\":{\"xaxis\":{\"backgroundcolor\":\"#E5ECF6\",\"gridcolor\":\"white\",\"gridwidth\":2,\"linecolor\":\"white\",\"showbackground\":true,\"ticks\":\"\",\"zerolinecolor\":\"white\"},\"yaxis\":{\"backgroundcolor\":\"#E5ECF6\",\"gridcolor\":\"white\",\"gridwidth\":2,\"linecolor\":\"white\",\"showbackground\":true,\"ticks\":\"\",\"zerolinecolor\":\"white\"},\"zaxis\":{\"backgroundcolor\":\"#E5ECF6\",\"gridcolor\":\"white\",\"gridwidth\":2,\"linecolor\":\"white\",\"showbackground\":true,\"ticks\":\"\",\"zerolinecolor\":\"white\"}},\"shapedefaults\":{\"line\":{\"color\":\"#2a3f5f\"}},\"ternary\":{\"aaxis\":{\"gridcolor\":\"white\",\"linecolor\":\"white\",\"ticks\":\"\"},\"baxis\":{\"gridcolor\":\"white\",\"linecolor\":\"white\",\"ticks\":\"\"},\"bgcolor\":\"#E5ECF6\",\"caxis\":{\"gridcolor\":\"white\",\"linecolor\":\"white\",\"ticks\":\"\"}},\"title\":{\"x\":0.05},\"xaxis\":{\"automargin\":true,\"gridcolor\":\"white\",\"linecolor\":\"white\",\"ticks\":\"\",\"title\":{\"standoff\":15},\"zerolinecolor\":\"white\",\"zerolinewidth\":2},\"yaxis\":{\"automargin\":true,\"gridcolor\":\"white\",\"linecolor\":\"white\",\"ticks\":\"\",\"title\":{\"standoff\":15},\"zerolinecolor\":\"white\",\"zerolinewidth\":2}}},\"title\":{\"text\":\"Average Stormwater benefit across Neighborhoods\"}},                        {\"responsive\": true}                    ).then(function(){\n",
       "                            \n",
       "var gd = document.getElementById('89f8c247-a882-4698-97e2-f2b1d0dcbfd0');\n",
       "var x = new MutationObserver(function (mutations, observer) {{\n",
       "        var display = window.getComputedStyle(gd).display;\n",
       "        if (!display || display === 'none') {{\n",
       "            console.log([gd, 'removed!']);\n",
       "            Plotly.purge(gd);\n",
       "            observer.disconnect();\n",
       "        }}\n",
       "}});\n",
       "\n",
       "// Listen for the removal of the full notebook cells\n",
       "var notebookContainer = gd.closest('#notebook-container');\n",
       "if (notebookContainer) {{\n",
       "    x.observe(notebookContainer, {childList: true});\n",
       "}}\n",
       "\n",
       "// Listen for the clearing of the current output cell\n",
       "var outputEl = gd.closest('.output');\n",
       "if (outputEl) {{\n",
       "    x.observe(outputEl, {childList: true});\n",
       "}}\n",
       "\n",
       "                        })                };                });            </script>        </div>"
      ]
     },
     "metadata": {},
     "output_type": "display_data"
    }
   ],
   "source": [
    "fig=px.choropleth(stormwater_benefit_map,\n",
    "             geojson=\"https://raw.githubusercontent.com/blackmad/neighborhoods/master/gn-pittsburgh.geojson\",\n",
    "             featureidkey='properties.name',   \n",
    "             locations='neighborhood',        #column in dataframe\n",
    "             color='stormwater_benefits_dollar_value',\n",
    "              color_continuous_scale='greens',\n",
    "               title='Average Stormwater benefit across Neighborhoods' ,  \n",
    "               height=500\n",
    "              )\n",
    "fig.update_geos(fitbounds=\"locations\", visible=False)\n",
    "fig.show()"
   ]
  },
  {
   "cell_type": "markdown",
   "id": "c8e84e7f",
   "metadata": {},
   "source": [
    "**Top 5 neighborhoods with highest stormwater benefits**"
   ]
  },
  {
   "cell_type": "code",
   "execution_count": 455,
   "id": "63f54896",
   "metadata": {},
   "outputs": [
    {
     "data": {
      "text/html": [
       "<div>\n",
       "<style scoped>\n",
       "    .dataframe tbody tr th:only-of-type {\n",
       "        vertical-align: middle;\n",
       "    }\n",
       "\n",
       "    .dataframe tbody tr th {\n",
       "        vertical-align: top;\n",
       "    }\n",
       "\n",
       "    .dataframe thead th {\n",
       "        text-align: right;\n",
       "    }\n",
       "</style>\n",
       "<table border=\"1\" class=\"dataframe\">\n",
       "  <thead>\n",
       "    <tr style=\"text-align: right;\">\n",
       "      <th></th>\n",
       "      <th>neighborhood</th>\n",
       "      <th>stormwater_benefits_dollar_value</th>\n",
       "    </tr>\n",
       "  </thead>\n",
       "  <tbody>\n",
       "    <tr>\n",
       "      <th>0</th>\n",
       "      <td>Allegheny Center</td>\n",
       "      <td>112.681320</td>\n",
       "    </tr>\n",
       "    <tr>\n",
       "      <th>1</th>\n",
       "      <td>Allegheny West</td>\n",
       "      <td>59.060754</td>\n",
       "    </tr>\n",
       "    <tr>\n",
       "      <th>39</th>\n",
       "      <td>Highland Park</td>\n",
       "      <td>52.148217</td>\n",
       "    </tr>\n",
       "    <tr>\n",
       "      <th>65</th>\n",
       "      <td>Regent Square</td>\n",
       "      <td>45.628699</td>\n",
       "    </tr>\n",
       "    <tr>\n",
       "      <th>75</th>\n",
       "      <td>Squirrel Hill North</td>\n",
       "      <td>42.471383</td>\n",
       "    </tr>\n",
       "  </tbody>\n",
       "</table>\n",
       "</div>"
      ],
      "text/plain": [
       "           neighborhood  stormwater_benefits_dollar_value\n",
       "0      Allegheny Center                        112.681320\n",
       "1        Allegheny West                         59.060754\n",
       "39        Highland Park                         52.148217\n",
       "65        Regent Square                         45.628699\n",
       "75  Squirrel Hill North                         42.471383"
      ]
     },
     "execution_count": 455,
     "metadata": {},
     "output_type": "execute_result"
    }
   ],
   "source": [
    "stormwater_benefit_map.sort_values('stormwater_benefits_dollar_value', ascending=False).head(5)"
   ]
  },
  {
   "cell_type": "markdown",
   "id": "bd07242b",
   "metadata": {},
   "source": [
    "**Inference:\n",
    "3 of the top 5 neighborhoods with the highest stormwater benefits are also in the top 5 neighborhoods with highest tree density. This exhibhits a clear positive correlation between the two**"
   ]
  },
  {
   "cell_type": "markdown",
   "id": "db38d0b8",
   "metadata": {},
   "source": [
    "# Plot neighborhood level tree Property value benefits data"
   ]
  },
  {
   "cell_type": "code",
   "execution_count": 456,
   "id": "64b299b8",
   "metadata": {},
   "outputs": [],
   "source": [
    "property_value_benefit_map = combined_data[['neighborhood', 'property_value_benefits_dollarvalue']].copy()\n"
   ]
  },
  {
   "cell_type": "code",
   "execution_count": 457,
   "id": "516280d7",
   "metadata": {},
   "outputs": [
    {
     "data": {
      "application/vnd.plotly.v1+json": {
       "config": {
        "plotlyServerURL": "https://plot.ly"
       },
       "data": [
        {
         "coloraxis": "coloraxis",
         "featureidkey": "properties.name",
         "geo": "geo",
         "geojson": "https://raw.githubusercontent.com/blackmad/neighborhoods/master/gn-pittsburgh.geojson",
         "hovertemplate": "neighborhood=%{location}<br>property_value_benefits_dollarvalue=%{z}<extra></extra>",
         "locations": [
          "Allegheny Center",
          "Allegheny West",
          "Allentown",
          "Arlington",
          "Arlington Heights",
          "Banksville",
          "Bedford Dwellings",
          "Beechview",
          "Beltzhoover",
          "Bloomfield",
          "Bluff",
          "Bon Air",
          "Brighton Heights",
          "Brookline",
          "California-Kirkbride",
          "Carrick",
          "Central Business District",
          "Central Lawrenceville",
          "Central Northside",
          "Central Oakland",
          "Chartiers City",
          "Chateau",
          "Crafton Heights",
          "Crawford-Roberts",
          "Duquesne Heights",
          "East Allegheny",
          "East Carnegie",
          "East Hills",
          "East Liberty",
          "Elliott",
          "Esplen",
          "Fairywood",
          "Fineview",
          "Friendship",
          "Garfield",
          "Glen Hazel",
          "Greenfield",
          "Hays",
          "Hazelwood",
          "Highland Park",
          "Homewood North",
          "Homewood South",
          "Homewood West",
          "Knoxville",
          "Larimer",
          "Lincoln Place",
          "Lincoln-Lemington-Belmar",
          "Lower Lawrenceville",
          "Manchester",
          "Marshall-Shadeland",
          "Middle Hill",
          "Morningside",
          "Mount Washington",
          "Mt. Oliver",
          "New Homestead",
          "North Oakland",
          "North Shore",
          "Northview Heights",
          "Oakwood",
          "Overbrook",
          "Perry North",
          "Perry South",
          "Point Breeze",
          "Point Breeze North",
          "Polish Hill",
          "Regent Square",
          "Ridgemont",
          "Shadyside",
          "Sheraden",
          "South Oakland",
          "South Shore",
          "South Side Flats",
          "South Side Slopes",
          "Spring Garden",
          "Spring Hill-City View",
          "Squirrel Hill North",
          "Squirrel Hill South",
          "St. Clair",
          "Stanton Heights",
          "Strip District",
          "Summer Hill",
          "Swisshelm Park",
          "Terrace Village",
          "Troy Hill",
          "Upper Hill",
          "Upper Lawrenceville",
          "West End",
          "West Oakland",
          "Westwood",
          "Windgap"
         ],
         "name": "",
         "type": "choropleth",
         "z": [
          430.3031558366514,
          252.74194265141594,
          17.500310524827142,
          8.932931695912474,
          3.9044969318682616,
          34.83956351708378,
          51.89275403646796,
          26.67747063924553,
          19.58492985252294,
          128.6092325225929,
          45.357900777365685,
          17.677130596153198,
          56.15912012720663,
          30.296658245466915,
          28.34341992256478,
          28.240550200650663,
          130.96142609705774,
          38.57736913430654,
          171.43385273030876,
          108.3246961070329,
          19.77376029541523,
          63.207148298354404,
          33.46694419667789,
          147.99016500464833,
          8.786387172395909,
          115.84373084112741,
          1.0126601215563433,
          71.27319621404862,
          142.8770763827425,
          17.802964122674275,
          0.6805201477402946,
          3.5710666447196773,
          33.62297160839689,
          182.77163766824393,
          95.69328650662882,
          0.21976328515366797,
          57.41064305653131,
          0.08653327123586599,
          26.519601151580606,
          217.63174023388996,
          51.66277871733065,
          58.98914040857211,
          30.503104427305725,
          116.0397170899729,
          46.360480446255565,
          19.659090577085564,
          170.28237741996398,
          86.31913378693115,
          171.8534427788605,
          152.65746044346963,
          63.61664808227596,
          66.88972577740545,
          41.79092378878717,
          9.676565167265123,
          17.952835120999413,
          114.5295222264785,
          134.6885770888894,
          2.137631584535469,
          26.18156376370623,
          23.11810158808633,
          72.39766424425524,
          31.484221702602355,
          102.80580779749836,
          129.01702052921218,
          52.841627523926576,
          188.76111686581467,
          6.14844695530602,
          126.73914247586025,
          23.917583415434986,
          28.527094740974622,
          0.16573435753188304,
          112.21314153855997,
          14.448459509279056,
          13.06119180241626,
          10.984832515439086,
          150.61438334727993,
          166.7898304864866,
          5.006376056530096,
          90.75478510585273,
          46.98716783463862,
          16.63920761966331,
          40.82679421963501,
          58.285268245107595,
          22.07089137730454,
          33.41326848057832,
          75.58007142662636,
          42.23483422929226,
          23.937000549118753,
          27.82792442316824,
          21.14097611172156
         ]
        }
       ],
       "layout": {
        "coloraxis": {
         "colorbar": {
          "title": {
           "text": "property_value_benefits_dollarvalue"
          }
         },
         "colorscale": [
          [
           0,
           "rgb(247,252,245)"
          ],
          [
           0.125,
           "rgb(229,245,224)"
          ],
          [
           0.25,
           "rgb(199,233,192)"
          ],
          [
           0.375,
           "rgb(161,217,155)"
          ],
          [
           0.5,
           "rgb(116,196,118)"
          ],
          [
           0.625,
           "rgb(65,171,93)"
          ],
          [
           0.75,
           "rgb(35,139,69)"
          ],
          [
           0.875,
           "rgb(0,109,44)"
          ],
          [
           1,
           "rgb(0,68,27)"
          ]
         ]
        },
        "geo": {
         "center": {},
         "domain": {
          "x": [
           0,
           1
          ],
          "y": [
           0,
           1
          ]
         },
         "fitbounds": "locations",
         "visible": false
        },
        "height": 500,
        "legend": {
         "tracegroupgap": 0
        },
        "template": {
         "data": {
          "bar": [
           {
            "error_x": {
             "color": "#2a3f5f"
            },
            "error_y": {
             "color": "#2a3f5f"
            },
            "marker": {
             "line": {
              "color": "#E5ECF6",
              "width": 0.5
             },
             "pattern": {
              "fillmode": "overlay",
              "size": 10,
              "solidity": 0.2
             }
            },
            "type": "bar"
           }
          ],
          "barpolar": [
           {
            "marker": {
             "line": {
              "color": "#E5ECF6",
              "width": 0.5
             },
             "pattern": {
              "fillmode": "overlay",
              "size": 10,
              "solidity": 0.2
             }
            },
            "type": "barpolar"
           }
          ],
          "carpet": [
           {
            "aaxis": {
             "endlinecolor": "#2a3f5f",
             "gridcolor": "white",
             "linecolor": "white",
             "minorgridcolor": "white",
             "startlinecolor": "#2a3f5f"
            },
            "baxis": {
             "endlinecolor": "#2a3f5f",
             "gridcolor": "white",
             "linecolor": "white",
             "minorgridcolor": "white",
             "startlinecolor": "#2a3f5f"
            },
            "type": "carpet"
           }
          ],
          "choropleth": [
           {
            "colorbar": {
             "outlinewidth": 0,
             "ticks": ""
            },
            "type": "choropleth"
           }
          ],
          "contour": [
           {
            "colorbar": {
             "outlinewidth": 0,
             "ticks": ""
            },
            "colorscale": [
             [
              0,
              "#0d0887"
             ],
             [
              0.1111111111111111,
              "#46039f"
             ],
             [
              0.2222222222222222,
              "#7201a8"
             ],
             [
              0.3333333333333333,
              "#9c179e"
             ],
             [
              0.4444444444444444,
              "#bd3786"
             ],
             [
              0.5555555555555556,
              "#d8576b"
             ],
             [
              0.6666666666666666,
              "#ed7953"
             ],
             [
              0.7777777777777778,
              "#fb9f3a"
             ],
             [
              0.8888888888888888,
              "#fdca26"
             ],
             [
              1,
              "#f0f921"
             ]
            ],
            "type": "contour"
           }
          ],
          "contourcarpet": [
           {
            "colorbar": {
             "outlinewidth": 0,
             "ticks": ""
            },
            "type": "contourcarpet"
           }
          ],
          "heatmap": [
           {
            "colorbar": {
             "outlinewidth": 0,
             "ticks": ""
            },
            "colorscale": [
             [
              0,
              "#0d0887"
             ],
             [
              0.1111111111111111,
              "#46039f"
             ],
             [
              0.2222222222222222,
              "#7201a8"
             ],
             [
              0.3333333333333333,
              "#9c179e"
             ],
             [
              0.4444444444444444,
              "#bd3786"
             ],
             [
              0.5555555555555556,
              "#d8576b"
             ],
             [
              0.6666666666666666,
              "#ed7953"
             ],
             [
              0.7777777777777778,
              "#fb9f3a"
             ],
             [
              0.8888888888888888,
              "#fdca26"
             ],
             [
              1,
              "#f0f921"
             ]
            ],
            "type": "heatmap"
           }
          ],
          "heatmapgl": [
           {
            "colorbar": {
             "outlinewidth": 0,
             "ticks": ""
            },
            "colorscale": [
             [
              0,
              "#0d0887"
             ],
             [
              0.1111111111111111,
              "#46039f"
             ],
             [
              0.2222222222222222,
              "#7201a8"
             ],
             [
              0.3333333333333333,
              "#9c179e"
             ],
             [
              0.4444444444444444,
              "#bd3786"
             ],
             [
              0.5555555555555556,
              "#d8576b"
             ],
             [
              0.6666666666666666,
              "#ed7953"
             ],
             [
              0.7777777777777778,
              "#fb9f3a"
             ],
             [
              0.8888888888888888,
              "#fdca26"
             ],
             [
              1,
              "#f0f921"
             ]
            ],
            "type": "heatmapgl"
           }
          ],
          "histogram": [
           {
            "marker": {
             "pattern": {
              "fillmode": "overlay",
              "size": 10,
              "solidity": 0.2
             }
            },
            "type": "histogram"
           }
          ],
          "histogram2d": [
           {
            "colorbar": {
             "outlinewidth": 0,
             "ticks": ""
            },
            "colorscale": [
             [
              0,
              "#0d0887"
             ],
             [
              0.1111111111111111,
              "#46039f"
             ],
             [
              0.2222222222222222,
              "#7201a8"
             ],
             [
              0.3333333333333333,
              "#9c179e"
             ],
             [
              0.4444444444444444,
              "#bd3786"
             ],
             [
              0.5555555555555556,
              "#d8576b"
             ],
             [
              0.6666666666666666,
              "#ed7953"
             ],
             [
              0.7777777777777778,
              "#fb9f3a"
             ],
             [
              0.8888888888888888,
              "#fdca26"
             ],
             [
              1,
              "#f0f921"
             ]
            ],
            "type": "histogram2d"
           }
          ],
          "histogram2dcontour": [
           {
            "colorbar": {
             "outlinewidth": 0,
             "ticks": ""
            },
            "colorscale": [
             [
              0,
              "#0d0887"
             ],
             [
              0.1111111111111111,
              "#46039f"
             ],
             [
              0.2222222222222222,
              "#7201a8"
             ],
             [
              0.3333333333333333,
              "#9c179e"
             ],
             [
              0.4444444444444444,
              "#bd3786"
             ],
             [
              0.5555555555555556,
              "#d8576b"
             ],
             [
              0.6666666666666666,
              "#ed7953"
             ],
             [
              0.7777777777777778,
              "#fb9f3a"
             ],
             [
              0.8888888888888888,
              "#fdca26"
             ],
             [
              1,
              "#f0f921"
             ]
            ],
            "type": "histogram2dcontour"
           }
          ],
          "mesh3d": [
           {
            "colorbar": {
             "outlinewidth": 0,
             "ticks": ""
            },
            "type": "mesh3d"
           }
          ],
          "parcoords": [
           {
            "line": {
             "colorbar": {
              "outlinewidth": 0,
              "ticks": ""
             }
            },
            "type": "parcoords"
           }
          ],
          "pie": [
           {
            "automargin": true,
            "type": "pie"
           }
          ],
          "scatter": [
           {
            "marker": {
             "colorbar": {
              "outlinewidth": 0,
              "ticks": ""
             }
            },
            "type": "scatter"
           }
          ],
          "scatter3d": [
           {
            "line": {
             "colorbar": {
              "outlinewidth": 0,
              "ticks": ""
             }
            },
            "marker": {
             "colorbar": {
              "outlinewidth": 0,
              "ticks": ""
             }
            },
            "type": "scatter3d"
           }
          ],
          "scattercarpet": [
           {
            "marker": {
             "colorbar": {
              "outlinewidth": 0,
              "ticks": ""
             }
            },
            "type": "scattercarpet"
           }
          ],
          "scattergeo": [
           {
            "marker": {
             "colorbar": {
              "outlinewidth": 0,
              "ticks": ""
             }
            },
            "type": "scattergeo"
           }
          ],
          "scattergl": [
           {
            "marker": {
             "colorbar": {
              "outlinewidth": 0,
              "ticks": ""
             }
            },
            "type": "scattergl"
           }
          ],
          "scattermapbox": [
           {
            "marker": {
             "colorbar": {
              "outlinewidth": 0,
              "ticks": ""
             }
            },
            "type": "scattermapbox"
           }
          ],
          "scatterpolar": [
           {
            "marker": {
             "colorbar": {
              "outlinewidth": 0,
              "ticks": ""
             }
            },
            "type": "scatterpolar"
           }
          ],
          "scatterpolargl": [
           {
            "marker": {
             "colorbar": {
              "outlinewidth": 0,
              "ticks": ""
             }
            },
            "type": "scatterpolargl"
           }
          ],
          "scatterternary": [
           {
            "marker": {
             "colorbar": {
              "outlinewidth": 0,
              "ticks": ""
             }
            },
            "type": "scatterternary"
           }
          ],
          "surface": [
           {
            "colorbar": {
             "outlinewidth": 0,
             "ticks": ""
            },
            "colorscale": [
             [
              0,
              "#0d0887"
             ],
             [
              0.1111111111111111,
              "#46039f"
             ],
             [
              0.2222222222222222,
              "#7201a8"
             ],
             [
              0.3333333333333333,
              "#9c179e"
             ],
             [
              0.4444444444444444,
              "#bd3786"
             ],
             [
              0.5555555555555556,
              "#d8576b"
             ],
             [
              0.6666666666666666,
              "#ed7953"
             ],
             [
              0.7777777777777778,
              "#fb9f3a"
             ],
             [
              0.8888888888888888,
              "#fdca26"
             ],
             [
              1,
              "#f0f921"
             ]
            ],
            "type": "surface"
           }
          ],
          "table": [
           {
            "cells": {
             "fill": {
              "color": "#EBF0F8"
             },
             "line": {
              "color": "white"
             }
            },
            "header": {
             "fill": {
              "color": "#C8D4E3"
             },
             "line": {
              "color": "white"
             }
            },
            "type": "table"
           }
          ]
         },
         "layout": {
          "annotationdefaults": {
           "arrowcolor": "#2a3f5f",
           "arrowhead": 0,
           "arrowwidth": 1
          },
          "autotypenumbers": "strict",
          "coloraxis": {
           "colorbar": {
            "outlinewidth": 0,
            "ticks": ""
           }
          },
          "colorscale": {
           "diverging": [
            [
             0,
             "#8e0152"
            ],
            [
             0.1,
             "#c51b7d"
            ],
            [
             0.2,
             "#de77ae"
            ],
            [
             0.3,
             "#f1b6da"
            ],
            [
             0.4,
             "#fde0ef"
            ],
            [
             0.5,
             "#f7f7f7"
            ],
            [
             0.6,
             "#e6f5d0"
            ],
            [
             0.7,
             "#b8e186"
            ],
            [
             0.8,
             "#7fbc41"
            ],
            [
             0.9,
             "#4d9221"
            ],
            [
             1,
             "#276419"
            ]
           ],
           "sequential": [
            [
             0,
             "#0d0887"
            ],
            [
             0.1111111111111111,
             "#46039f"
            ],
            [
             0.2222222222222222,
             "#7201a8"
            ],
            [
             0.3333333333333333,
             "#9c179e"
            ],
            [
             0.4444444444444444,
             "#bd3786"
            ],
            [
             0.5555555555555556,
             "#d8576b"
            ],
            [
             0.6666666666666666,
             "#ed7953"
            ],
            [
             0.7777777777777778,
             "#fb9f3a"
            ],
            [
             0.8888888888888888,
             "#fdca26"
            ],
            [
             1,
             "#f0f921"
            ]
           ],
           "sequentialminus": [
            [
             0,
             "#0d0887"
            ],
            [
             0.1111111111111111,
             "#46039f"
            ],
            [
             0.2222222222222222,
             "#7201a8"
            ],
            [
             0.3333333333333333,
             "#9c179e"
            ],
            [
             0.4444444444444444,
             "#bd3786"
            ],
            [
             0.5555555555555556,
             "#d8576b"
            ],
            [
             0.6666666666666666,
             "#ed7953"
            ],
            [
             0.7777777777777778,
             "#fb9f3a"
            ],
            [
             0.8888888888888888,
             "#fdca26"
            ],
            [
             1,
             "#f0f921"
            ]
           ]
          },
          "colorway": [
           "#636efa",
           "#EF553B",
           "#00cc96",
           "#ab63fa",
           "#FFA15A",
           "#19d3f3",
           "#FF6692",
           "#B6E880",
           "#FF97FF",
           "#FECB52"
          ],
          "font": {
           "color": "#2a3f5f"
          },
          "geo": {
           "bgcolor": "white",
           "lakecolor": "white",
           "landcolor": "#E5ECF6",
           "showlakes": true,
           "showland": true,
           "subunitcolor": "white"
          },
          "hoverlabel": {
           "align": "left"
          },
          "hovermode": "closest",
          "mapbox": {
           "style": "light"
          },
          "paper_bgcolor": "white",
          "plot_bgcolor": "#E5ECF6",
          "polar": {
           "angularaxis": {
            "gridcolor": "white",
            "linecolor": "white",
            "ticks": ""
           },
           "bgcolor": "#E5ECF6",
           "radialaxis": {
            "gridcolor": "white",
            "linecolor": "white",
            "ticks": ""
           }
          },
          "scene": {
           "xaxis": {
            "backgroundcolor": "#E5ECF6",
            "gridcolor": "white",
            "gridwidth": 2,
            "linecolor": "white",
            "showbackground": true,
            "ticks": "",
            "zerolinecolor": "white"
           },
           "yaxis": {
            "backgroundcolor": "#E5ECF6",
            "gridcolor": "white",
            "gridwidth": 2,
            "linecolor": "white",
            "showbackground": true,
            "ticks": "",
            "zerolinecolor": "white"
           },
           "zaxis": {
            "backgroundcolor": "#E5ECF6",
            "gridcolor": "white",
            "gridwidth": 2,
            "linecolor": "white",
            "showbackground": true,
            "ticks": "",
            "zerolinecolor": "white"
           }
          },
          "shapedefaults": {
           "line": {
            "color": "#2a3f5f"
           }
          },
          "ternary": {
           "aaxis": {
            "gridcolor": "white",
            "linecolor": "white",
            "ticks": ""
           },
           "baxis": {
            "gridcolor": "white",
            "linecolor": "white",
            "ticks": ""
           },
           "bgcolor": "#E5ECF6",
           "caxis": {
            "gridcolor": "white",
            "linecolor": "white",
            "ticks": ""
           }
          },
          "title": {
           "x": 0.05
          },
          "xaxis": {
           "automargin": true,
           "gridcolor": "white",
           "linecolor": "white",
           "ticks": "",
           "title": {
            "standoff": 15
           },
           "zerolinecolor": "white",
           "zerolinewidth": 2
          },
          "yaxis": {
           "automargin": true,
           "gridcolor": "white",
           "linecolor": "white",
           "ticks": "",
           "title": {
            "standoff": 15
           },
           "zerolinecolor": "white",
           "zerolinewidth": 2
          }
         }
        },
        "title": {
         "text": "Average Property Value benefit across Neighborhoods"
        }
       }
      },
      "text/html": [
       "<div>                            <div id=\"c240bab5-5fd0-4edf-88c4-645f91294d79\" class=\"plotly-graph-div\" style=\"height:500px; width:100%;\"></div>            <script type=\"text/javascript\">                require([\"plotly\"], function(Plotly) {                    window.PLOTLYENV=window.PLOTLYENV || {};                                    if (document.getElementById(\"c240bab5-5fd0-4edf-88c4-645f91294d79\")) {                    Plotly.newPlot(                        \"c240bab5-5fd0-4edf-88c4-645f91294d79\",                        [{\"coloraxis\":\"coloraxis\",\"featureidkey\":\"properties.name\",\"geo\":\"geo\",\"geojson\":\"https://raw.githubusercontent.com/blackmad/neighborhoods/master/gn-pittsburgh.geojson\",\"hovertemplate\":\"neighborhood=%{location}<br>property_value_benefits_dollarvalue=%{z}<extra></extra>\",\"locations\":[\"Allegheny Center\",\"Allegheny West\",\"Allentown\",\"Arlington\",\"Arlington Heights\",\"Banksville\",\"Bedford Dwellings\",\"Beechview\",\"Beltzhoover\",\"Bloomfield\",\"Bluff\",\"Bon Air\",\"Brighton Heights\",\"Brookline\",\"California-Kirkbride\",\"Carrick\",\"Central Business District\",\"Central Lawrenceville\",\"Central Northside\",\"Central Oakland\",\"Chartiers City\",\"Chateau\",\"Crafton Heights\",\"Crawford-Roberts\",\"Duquesne Heights\",\"East Allegheny\",\"East Carnegie\",\"East Hills\",\"East Liberty\",\"Elliott\",\"Esplen\",\"Fairywood\",\"Fineview\",\"Friendship\",\"Garfield\",\"Glen Hazel\",\"Greenfield\",\"Hays\",\"Hazelwood\",\"Highland Park\",\"Homewood North\",\"Homewood South\",\"Homewood West\",\"Knoxville\",\"Larimer\",\"Lincoln Place\",\"Lincoln-Lemington-Belmar\",\"Lower Lawrenceville\",\"Manchester\",\"Marshall-Shadeland\",\"Middle Hill\",\"Morningside\",\"Mount Washington\",\"Mt. Oliver\",\"New Homestead\",\"North Oakland\",\"North Shore\",\"Northview Heights\",\"Oakwood\",\"Overbrook\",\"Perry North\",\"Perry South\",\"Point Breeze\",\"Point Breeze North\",\"Polish Hill\",\"Regent Square\",\"Ridgemont\",\"Shadyside\",\"Sheraden\",\"South Oakland\",\"South Shore\",\"South Side Flats\",\"South Side Slopes\",\"Spring Garden\",\"Spring Hill-City View\",\"Squirrel Hill North\",\"Squirrel Hill South\",\"St. Clair\",\"Stanton Heights\",\"Strip District\",\"Summer Hill\",\"Swisshelm Park\",\"Terrace Village\",\"Troy Hill\",\"Upper Hill\",\"Upper Lawrenceville\",\"West End\",\"West Oakland\",\"Westwood\",\"Windgap\"],\"name\":\"\",\"type\":\"choropleth\",\"z\":[430.3031558366514,252.74194265141594,17.500310524827142,8.932931695912474,3.9044969318682616,34.83956351708378,51.89275403646796,26.67747063924553,19.58492985252294,128.6092325225929,45.357900777365685,17.677130596153198,56.15912012720663,30.296658245466915,28.34341992256478,28.240550200650663,130.96142609705774,38.57736913430654,171.43385273030876,108.3246961070329,19.77376029541523,63.207148298354404,33.46694419667789,147.99016500464833,8.786387172395909,115.84373084112741,1.0126601215563433,71.27319621404862,142.8770763827425,17.802964122674275,0.6805201477402946,3.5710666447196773,33.62297160839689,182.77163766824393,95.69328650662882,0.21976328515366797,57.41064305653131,0.08653327123586599,26.519601151580606,217.63174023388996,51.66277871733065,58.98914040857211,30.503104427305725,116.0397170899729,46.360480446255565,19.659090577085564,170.28237741996398,86.31913378693115,171.8534427788605,152.65746044346963,63.61664808227596,66.88972577740545,41.79092378878717,9.676565167265123,17.952835120999413,114.5295222264785,134.6885770888894,2.137631584535469,26.18156376370623,23.11810158808633,72.39766424425524,31.484221702602355,102.80580779749836,129.01702052921218,52.841627523926576,188.76111686581467,6.14844695530602,126.73914247586025,23.917583415434986,28.527094740974622,0.16573435753188304,112.21314153855997,14.448459509279056,13.06119180241626,10.984832515439086,150.61438334727993,166.7898304864866,5.006376056530096,90.75478510585273,46.98716783463862,16.63920761966331,40.82679421963501,58.285268245107595,22.07089137730454,33.41326848057832,75.58007142662636,42.23483422929226,23.937000549118753,27.82792442316824,21.14097611172156]}],                        {\"coloraxis\":{\"colorbar\":{\"title\":{\"text\":\"property_value_benefits_dollarvalue\"}},\"colorscale\":[[0.0,\"rgb(247,252,245)\"],[0.125,\"rgb(229,245,224)\"],[0.25,\"rgb(199,233,192)\"],[0.375,\"rgb(161,217,155)\"],[0.5,\"rgb(116,196,118)\"],[0.625,\"rgb(65,171,93)\"],[0.75,\"rgb(35,139,69)\"],[0.875,\"rgb(0,109,44)\"],[1.0,\"rgb(0,68,27)\"]]},\"geo\":{\"center\":{},\"domain\":{\"x\":[0.0,1.0],\"y\":[0.0,1.0]},\"fitbounds\":\"locations\",\"visible\":false},\"height\":500,\"legend\":{\"tracegroupgap\":0},\"template\":{\"data\":{\"bar\":[{\"error_x\":{\"color\":\"#2a3f5f\"},\"error_y\":{\"color\":\"#2a3f5f\"},\"marker\":{\"line\":{\"color\":\"#E5ECF6\",\"width\":0.5},\"pattern\":{\"fillmode\":\"overlay\",\"size\":10,\"solidity\":0.2}},\"type\":\"bar\"}],\"barpolar\":[{\"marker\":{\"line\":{\"color\":\"#E5ECF6\",\"width\":0.5},\"pattern\":{\"fillmode\":\"overlay\",\"size\":10,\"solidity\":0.2}},\"type\":\"barpolar\"}],\"carpet\":[{\"aaxis\":{\"endlinecolor\":\"#2a3f5f\",\"gridcolor\":\"white\",\"linecolor\":\"white\",\"minorgridcolor\":\"white\",\"startlinecolor\":\"#2a3f5f\"},\"baxis\":{\"endlinecolor\":\"#2a3f5f\",\"gridcolor\":\"white\",\"linecolor\":\"white\",\"minorgridcolor\":\"white\",\"startlinecolor\":\"#2a3f5f\"},\"type\":\"carpet\"}],\"choropleth\":[{\"colorbar\":{\"outlinewidth\":0,\"ticks\":\"\"},\"type\":\"choropleth\"}],\"contour\":[{\"colorbar\":{\"outlinewidth\":0,\"ticks\":\"\"},\"colorscale\":[[0.0,\"#0d0887\"],[0.1111111111111111,\"#46039f\"],[0.2222222222222222,\"#7201a8\"],[0.3333333333333333,\"#9c179e\"],[0.4444444444444444,\"#bd3786\"],[0.5555555555555556,\"#d8576b\"],[0.6666666666666666,\"#ed7953\"],[0.7777777777777778,\"#fb9f3a\"],[0.8888888888888888,\"#fdca26\"],[1.0,\"#f0f921\"]],\"type\":\"contour\"}],\"contourcarpet\":[{\"colorbar\":{\"outlinewidth\":0,\"ticks\":\"\"},\"type\":\"contourcarpet\"}],\"heatmap\":[{\"colorbar\":{\"outlinewidth\":0,\"ticks\":\"\"},\"colorscale\":[[0.0,\"#0d0887\"],[0.1111111111111111,\"#46039f\"],[0.2222222222222222,\"#7201a8\"],[0.3333333333333333,\"#9c179e\"],[0.4444444444444444,\"#bd3786\"],[0.5555555555555556,\"#d8576b\"],[0.6666666666666666,\"#ed7953\"],[0.7777777777777778,\"#fb9f3a\"],[0.8888888888888888,\"#fdca26\"],[1.0,\"#f0f921\"]],\"type\":\"heatmap\"}],\"heatmapgl\":[{\"colorbar\":{\"outlinewidth\":0,\"ticks\":\"\"},\"colorscale\":[[0.0,\"#0d0887\"],[0.1111111111111111,\"#46039f\"],[0.2222222222222222,\"#7201a8\"],[0.3333333333333333,\"#9c179e\"],[0.4444444444444444,\"#bd3786\"],[0.5555555555555556,\"#d8576b\"],[0.6666666666666666,\"#ed7953\"],[0.7777777777777778,\"#fb9f3a\"],[0.8888888888888888,\"#fdca26\"],[1.0,\"#f0f921\"]],\"type\":\"heatmapgl\"}],\"histogram\":[{\"marker\":{\"pattern\":{\"fillmode\":\"overlay\",\"size\":10,\"solidity\":0.2}},\"type\":\"histogram\"}],\"histogram2d\":[{\"colorbar\":{\"outlinewidth\":0,\"ticks\":\"\"},\"colorscale\":[[0.0,\"#0d0887\"],[0.1111111111111111,\"#46039f\"],[0.2222222222222222,\"#7201a8\"],[0.3333333333333333,\"#9c179e\"],[0.4444444444444444,\"#bd3786\"],[0.5555555555555556,\"#d8576b\"],[0.6666666666666666,\"#ed7953\"],[0.7777777777777778,\"#fb9f3a\"],[0.8888888888888888,\"#fdca26\"],[1.0,\"#f0f921\"]],\"type\":\"histogram2d\"}],\"histogram2dcontour\":[{\"colorbar\":{\"outlinewidth\":0,\"ticks\":\"\"},\"colorscale\":[[0.0,\"#0d0887\"],[0.1111111111111111,\"#46039f\"],[0.2222222222222222,\"#7201a8\"],[0.3333333333333333,\"#9c179e\"],[0.4444444444444444,\"#bd3786\"],[0.5555555555555556,\"#d8576b\"],[0.6666666666666666,\"#ed7953\"],[0.7777777777777778,\"#fb9f3a\"],[0.8888888888888888,\"#fdca26\"],[1.0,\"#f0f921\"]],\"type\":\"histogram2dcontour\"}],\"mesh3d\":[{\"colorbar\":{\"outlinewidth\":0,\"ticks\":\"\"},\"type\":\"mesh3d\"}],\"parcoords\":[{\"line\":{\"colorbar\":{\"outlinewidth\":0,\"ticks\":\"\"}},\"type\":\"parcoords\"}],\"pie\":[{\"automargin\":true,\"type\":\"pie\"}],\"scatter\":[{\"marker\":{\"colorbar\":{\"outlinewidth\":0,\"ticks\":\"\"}},\"type\":\"scatter\"}],\"scatter3d\":[{\"line\":{\"colorbar\":{\"outlinewidth\":0,\"ticks\":\"\"}},\"marker\":{\"colorbar\":{\"outlinewidth\":0,\"ticks\":\"\"}},\"type\":\"scatter3d\"}],\"scattercarpet\":[{\"marker\":{\"colorbar\":{\"outlinewidth\":0,\"ticks\":\"\"}},\"type\":\"scattercarpet\"}],\"scattergeo\":[{\"marker\":{\"colorbar\":{\"outlinewidth\":0,\"ticks\":\"\"}},\"type\":\"scattergeo\"}],\"scattergl\":[{\"marker\":{\"colorbar\":{\"outlinewidth\":0,\"ticks\":\"\"}},\"type\":\"scattergl\"}],\"scattermapbox\":[{\"marker\":{\"colorbar\":{\"outlinewidth\":0,\"ticks\":\"\"}},\"type\":\"scattermapbox\"}],\"scatterpolar\":[{\"marker\":{\"colorbar\":{\"outlinewidth\":0,\"ticks\":\"\"}},\"type\":\"scatterpolar\"}],\"scatterpolargl\":[{\"marker\":{\"colorbar\":{\"outlinewidth\":0,\"ticks\":\"\"}},\"type\":\"scatterpolargl\"}],\"scatterternary\":[{\"marker\":{\"colorbar\":{\"outlinewidth\":0,\"ticks\":\"\"}},\"type\":\"scatterternary\"}],\"surface\":[{\"colorbar\":{\"outlinewidth\":0,\"ticks\":\"\"},\"colorscale\":[[0.0,\"#0d0887\"],[0.1111111111111111,\"#46039f\"],[0.2222222222222222,\"#7201a8\"],[0.3333333333333333,\"#9c179e\"],[0.4444444444444444,\"#bd3786\"],[0.5555555555555556,\"#d8576b\"],[0.6666666666666666,\"#ed7953\"],[0.7777777777777778,\"#fb9f3a\"],[0.8888888888888888,\"#fdca26\"],[1.0,\"#f0f921\"]],\"type\":\"surface\"}],\"table\":[{\"cells\":{\"fill\":{\"color\":\"#EBF0F8\"},\"line\":{\"color\":\"white\"}},\"header\":{\"fill\":{\"color\":\"#C8D4E3\"},\"line\":{\"color\":\"white\"}},\"type\":\"table\"}]},\"layout\":{\"annotationdefaults\":{\"arrowcolor\":\"#2a3f5f\",\"arrowhead\":0,\"arrowwidth\":1},\"autotypenumbers\":\"strict\",\"coloraxis\":{\"colorbar\":{\"outlinewidth\":0,\"ticks\":\"\"}},\"colorscale\":{\"diverging\":[[0,\"#8e0152\"],[0.1,\"#c51b7d\"],[0.2,\"#de77ae\"],[0.3,\"#f1b6da\"],[0.4,\"#fde0ef\"],[0.5,\"#f7f7f7\"],[0.6,\"#e6f5d0\"],[0.7,\"#b8e186\"],[0.8,\"#7fbc41\"],[0.9,\"#4d9221\"],[1,\"#276419\"]],\"sequential\":[[0.0,\"#0d0887\"],[0.1111111111111111,\"#46039f\"],[0.2222222222222222,\"#7201a8\"],[0.3333333333333333,\"#9c179e\"],[0.4444444444444444,\"#bd3786\"],[0.5555555555555556,\"#d8576b\"],[0.6666666666666666,\"#ed7953\"],[0.7777777777777778,\"#fb9f3a\"],[0.8888888888888888,\"#fdca26\"],[1.0,\"#f0f921\"]],\"sequentialminus\":[[0.0,\"#0d0887\"],[0.1111111111111111,\"#46039f\"],[0.2222222222222222,\"#7201a8\"],[0.3333333333333333,\"#9c179e\"],[0.4444444444444444,\"#bd3786\"],[0.5555555555555556,\"#d8576b\"],[0.6666666666666666,\"#ed7953\"],[0.7777777777777778,\"#fb9f3a\"],[0.8888888888888888,\"#fdca26\"],[1.0,\"#f0f921\"]]},\"colorway\":[\"#636efa\",\"#EF553B\",\"#00cc96\",\"#ab63fa\",\"#FFA15A\",\"#19d3f3\",\"#FF6692\",\"#B6E880\",\"#FF97FF\",\"#FECB52\"],\"font\":{\"color\":\"#2a3f5f\"},\"geo\":{\"bgcolor\":\"white\",\"lakecolor\":\"white\",\"landcolor\":\"#E5ECF6\",\"showlakes\":true,\"showland\":true,\"subunitcolor\":\"white\"},\"hoverlabel\":{\"align\":\"left\"},\"hovermode\":\"closest\",\"mapbox\":{\"style\":\"light\"},\"paper_bgcolor\":\"white\",\"plot_bgcolor\":\"#E5ECF6\",\"polar\":{\"angularaxis\":{\"gridcolor\":\"white\",\"linecolor\":\"white\",\"ticks\":\"\"},\"bgcolor\":\"#E5ECF6\",\"radialaxis\":{\"gridcolor\":\"white\",\"linecolor\":\"white\",\"ticks\":\"\"}},\"scene\":{\"xaxis\":{\"backgroundcolor\":\"#E5ECF6\",\"gridcolor\":\"white\",\"gridwidth\":2,\"linecolor\":\"white\",\"showbackground\":true,\"ticks\":\"\",\"zerolinecolor\":\"white\"},\"yaxis\":{\"backgroundcolor\":\"#E5ECF6\",\"gridcolor\":\"white\",\"gridwidth\":2,\"linecolor\":\"white\",\"showbackground\":true,\"ticks\":\"\",\"zerolinecolor\":\"white\"},\"zaxis\":{\"backgroundcolor\":\"#E5ECF6\",\"gridcolor\":\"white\",\"gridwidth\":2,\"linecolor\":\"white\",\"showbackground\":true,\"ticks\":\"\",\"zerolinecolor\":\"white\"}},\"shapedefaults\":{\"line\":{\"color\":\"#2a3f5f\"}},\"ternary\":{\"aaxis\":{\"gridcolor\":\"white\",\"linecolor\":\"white\",\"ticks\":\"\"},\"baxis\":{\"gridcolor\":\"white\",\"linecolor\":\"white\",\"ticks\":\"\"},\"bgcolor\":\"#E5ECF6\",\"caxis\":{\"gridcolor\":\"white\",\"linecolor\":\"white\",\"ticks\":\"\"}},\"title\":{\"x\":0.05},\"xaxis\":{\"automargin\":true,\"gridcolor\":\"white\",\"linecolor\":\"white\",\"ticks\":\"\",\"title\":{\"standoff\":15},\"zerolinecolor\":\"white\",\"zerolinewidth\":2},\"yaxis\":{\"automargin\":true,\"gridcolor\":\"white\",\"linecolor\":\"white\",\"ticks\":\"\",\"title\":{\"standoff\":15},\"zerolinecolor\":\"white\",\"zerolinewidth\":2}}},\"title\":{\"text\":\"Average Property Value benefit across Neighborhoods\"}},                        {\"responsive\": true}                    ).then(function(){\n",
       "                            \n",
       "var gd = document.getElementById('c240bab5-5fd0-4edf-88c4-645f91294d79');\n",
       "var x = new MutationObserver(function (mutations, observer) {{\n",
       "        var display = window.getComputedStyle(gd).display;\n",
       "        if (!display || display === 'none') {{\n",
       "            console.log([gd, 'removed!']);\n",
       "            Plotly.purge(gd);\n",
       "            observer.disconnect();\n",
       "        }}\n",
       "}});\n",
       "\n",
       "// Listen for the removal of the full notebook cells\n",
       "var notebookContainer = gd.closest('#notebook-container');\n",
       "if (notebookContainer) {{\n",
       "    x.observe(notebookContainer, {childList: true});\n",
       "}}\n",
       "\n",
       "// Listen for the clearing of the current output cell\n",
       "var outputEl = gd.closest('.output');\n",
       "if (outputEl) {{\n",
       "    x.observe(outputEl, {childList: true});\n",
       "}}\n",
       "\n",
       "                        })                };                });            </script>        </div>"
      ]
     },
     "metadata": {},
     "output_type": "display_data"
    }
   ],
   "source": [
    "fig=px.choropleth(property_value_benefit_map,\n",
    "             geojson=\"https://raw.githubusercontent.com/blackmad/neighborhoods/master/gn-pittsburgh.geojson\",\n",
    "             featureidkey='properties.name',   \n",
    "             locations='neighborhood',        #column in dataframe\n",
    "             color='property_value_benefits_dollarvalue',\n",
    "              color_continuous_scale='greens',\n",
    "               title='Average Property Value benefit across Neighborhoods' ,  \n",
    "               height=500\n",
    "              )\n",
    "fig.update_geos(fitbounds=\"locations\", visible=False)\n",
    "fig.show()"
   ]
  },
  {
   "cell_type": "markdown",
   "id": "4867b7a2",
   "metadata": {},
   "source": [
    "**Top 5 neighborhoods with highest property value benefits**"
   ]
  },
  {
   "cell_type": "code",
   "execution_count": 458,
   "id": "6d305841",
   "metadata": {},
   "outputs": [
    {
     "data": {
      "text/html": [
       "<div>\n",
       "<style scoped>\n",
       "    .dataframe tbody tr th:only-of-type {\n",
       "        vertical-align: middle;\n",
       "    }\n",
       "\n",
       "    .dataframe tbody tr th {\n",
       "        vertical-align: top;\n",
       "    }\n",
       "\n",
       "    .dataframe thead th {\n",
       "        text-align: right;\n",
       "    }\n",
       "</style>\n",
       "<table border=\"1\" class=\"dataframe\">\n",
       "  <thead>\n",
       "    <tr style=\"text-align: right;\">\n",
       "      <th></th>\n",
       "      <th>neighborhood</th>\n",
       "      <th>property_value_benefits_dollarvalue</th>\n",
       "    </tr>\n",
       "  </thead>\n",
       "  <tbody>\n",
       "    <tr>\n",
       "      <th>0</th>\n",
       "      <td>Allegheny Center</td>\n",
       "      <td>430.303156</td>\n",
       "    </tr>\n",
       "    <tr>\n",
       "      <th>1</th>\n",
       "      <td>Allegheny West</td>\n",
       "      <td>252.741943</td>\n",
       "    </tr>\n",
       "    <tr>\n",
       "      <th>39</th>\n",
       "      <td>Highland Park</td>\n",
       "      <td>217.631740</td>\n",
       "    </tr>\n",
       "    <tr>\n",
       "      <th>65</th>\n",
       "      <td>Regent Square</td>\n",
       "      <td>188.761117</td>\n",
       "    </tr>\n",
       "    <tr>\n",
       "      <th>33</th>\n",
       "      <td>Friendship</td>\n",
       "      <td>182.771638</td>\n",
       "    </tr>\n",
       "  </tbody>\n",
       "</table>\n",
       "</div>"
      ],
      "text/plain": [
       "        neighborhood  property_value_benefits_dollarvalue\n",
       "0   Allegheny Center                           430.303156\n",
       "1     Allegheny West                           252.741943\n",
       "39     Highland Park                           217.631740\n",
       "65     Regent Square                           188.761117\n",
       "33        Friendship                           182.771638"
      ]
     },
     "execution_count": 458,
     "metadata": {},
     "output_type": "execute_result"
    }
   ],
   "source": [
    "property_value_benefit_map.sort_values('property_value_benefits_dollarvalue', ascending=False).head(5)"
   ]
  },
  {
   "cell_type": "markdown",
   "id": "90f0b616",
   "metadata": {},
   "source": [
    "**Inference:\n",
    "4 of the top 5 neighborhoods with the highest property value benefits are also in the top 5 neighborhoods with highest tree density. This exhibhits a clear positive correlation between the two**"
   ]
  },
  {
   "cell_type": "markdown",
   "id": "d13fa5fe",
   "metadata": {},
   "source": [
    "# Plot neighborhood level tree Energy (Electricity) benefits data"
   ]
  },
  {
   "cell_type": "code",
   "execution_count": 459,
   "id": "7d6c70e9",
   "metadata": {},
   "outputs": [],
   "source": [
    "energy_electricity_benefit_map = combined_data[['neighborhood', 'energy_benefits_electricity_dollar_value']].copy()\n"
   ]
  },
  {
   "cell_type": "code",
   "execution_count": 460,
   "id": "f81cc8ee",
   "metadata": {},
   "outputs": [
    {
     "data": {
      "application/vnd.plotly.v1+json": {
       "config": {
        "plotlyServerURL": "https://plot.ly"
       },
       "data": [
        {
         "coloraxis": "coloraxis",
         "featureidkey": "properties.name",
         "geo": "geo",
         "geojson": "https://raw.githubusercontent.com/blackmad/neighborhoods/master/gn-pittsburgh.geojson",
         "hovertemplate": "neighborhood=%{location}<br>energy_benefits_electricity_dollar_value=%{z}<extra></extra>",
         "locations": [
          "Allegheny Center",
          "Allegheny West",
          "Allentown",
          "Arlington",
          "Arlington Heights",
          "Banksville",
          "Bedford Dwellings",
          "Beechview",
          "Beltzhoover",
          "Bloomfield",
          "Bluff",
          "Bon Air",
          "Brighton Heights",
          "Brookline",
          "California-Kirkbride",
          "Carrick",
          "Central Business District",
          "Central Lawrenceville",
          "Central Northside",
          "Central Oakland",
          "Chartiers City",
          "Chateau",
          "Crafton Heights",
          "Crawford-Roberts",
          "Duquesne Heights",
          "East Allegheny",
          "East Carnegie",
          "East Hills",
          "East Liberty",
          "Elliott",
          "Esplen",
          "Fairywood",
          "Fineview",
          "Friendship",
          "Garfield",
          "Glen Hazel",
          "Greenfield",
          "Hays",
          "Hazelwood",
          "Highland Park",
          "Homewood North",
          "Homewood South",
          "Homewood West",
          "Knoxville",
          "Larimer",
          "Lincoln Place",
          "Lincoln-Lemington-Belmar",
          "Lower Lawrenceville",
          "Manchester",
          "Marshall-Shadeland",
          "Middle Hill",
          "Morningside",
          "Mount Washington",
          "Mt. Oliver",
          "New Homestead",
          "North Oakland",
          "North Shore",
          "Northview Heights",
          "Oakwood",
          "Overbrook",
          "Perry North",
          "Perry South",
          "Point Breeze",
          "Point Breeze North",
          "Polish Hill",
          "Regent Square",
          "Ridgemont",
          "Shadyside",
          "Sheraden",
          "South Oakland",
          "South Shore",
          "South Side Flats",
          "South Side Slopes",
          "Spring Garden",
          "Spring Hill-City View",
          "Squirrel Hill North",
          "Squirrel Hill South",
          "St. Clair",
          "Stanton Heights",
          "Strip District",
          "Summer Hill",
          "Swisshelm Park",
          "Terrace Village",
          "Troy Hill",
          "Upper Hill",
          "Upper Lawrenceville",
          "West End",
          "West Oakland",
          "Westwood",
          "Windgap"
         ],
         "name": "",
         "type": "choropleth",
         "z": [
          105.3685766484623,
          55.2841046609331,
          3.3142724284169693,
          1.6711115505363314,
          1.0934009867457917,
          8.354659653959123,
          8.00617329278752,
          5.662712303989982,
          4.297944692276719,
          19.11150544984177,
          4.764821190085217,
          3.927889724467333,
          12.018414826423575,
          6.316065375630783,
          5.625894521199059,
          6.157548675974903,
          12.393882382706918,
          4.334021532450985,
          24.02407579875058,
          23.427319689897242,
          5.904650539488336,
          6.536828384981221,
          7.302847883023308,
          16.5890880894767,
          1.4922301615117468,
          15.211840046437365,
          0.19785482665352025,
          16.329710949606532,
          20.446472648650644,
          4.414191638748652,
          0.12157372519167416,
          0.9078262616174493,
          6.573261245736102,
          28.52216322973595,
          13.162853837121789,
          0.05549788528293263,
          12.864233433655226,
          0.01544235911301687,
          4.8808116738636205,
          52.100405059469146,
          10.953953488426427,
          11.777458270471945,
          4.667137363144181,
          23.80268306693378,
          8.62912530200905,
          4.818990700286717,
          39.5435181141479,
          9.073592350533227,
          25.56856187602087,
          29.49725808391289,
          8.393213834261864,
          12.805551690573516,
          8.331179258207564,
          1.466094984548093,
          4.914405626434591,
          21.84966207619222,
          13.303789163781856,
          0.43486798736586985,
          6.882055703684952,
          5.213275750857171,
          16.5973429565078,
          6.40197768404737,
          25.482936755557365,
          29.7776242308658,
          6.29894881215577,
          45.65353721961084,
          1.3963563668102033,
          24.714340592770647,
          5.874110290632852,
          3.9817459138115683,
          0.02458113114962445,
          12.472628983709916,
          2.6521659113428844,
          1.8344897049629307,
          2.0140607229821255,
          39.547891353345484,
          38.252499101862504,
          0.8663002442253004,
          20.973573490769567,
          4.317434807607016,
          2.996203166760115,
          10.453937892200788,
          6.578413728102767,
          1.7328763670748124,
          7.446975013389196,
          9.504245639716332,
          4.365905824747823,
          2.3283026113914382,
          7.0362303650586915,
          4.984785263396189
         ]
        }
       ],
       "layout": {
        "coloraxis": {
         "colorbar": {
          "title": {
           "text": "energy_benefits_electricity_dollar_value"
          }
         },
         "colorscale": [
          [
           0,
           "rgb(247,252,245)"
          ],
          [
           0.125,
           "rgb(229,245,224)"
          ],
          [
           0.25,
           "rgb(199,233,192)"
          ],
          [
           0.375,
           "rgb(161,217,155)"
          ],
          [
           0.5,
           "rgb(116,196,118)"
          ],
          [
           0.625,
           "rgb(65,171,93)"
          ],
          [
           0.75,
           "rgb(35,139,69)"
          ],
          [
           0.875,
           "rgb(0,109,44)"
          ],
          [
           1,
           "rgb(0,68,27)"
          ]
         ]
        },
        "geo": {
         "center": {},
         "domain": {
          "x": [
           0,
           1
          ],
          "y": [
           0,
           1
          ]
         },
         "fitbounds": "locations",
         "visible": false
        },
        "height": 500,
        "legend": {
         "tracegroupgap": 0
        },
        "template": {
         "data": {
          "bar": [
           {
            "error_x": {
             "color": "#2a3f5f"
            },
            "error_y": {
             "color": "#2a3f5f"
            },
            "marker": {
             "line": {
              "color": "#E5ECF6",
              "width": 0.5
             },
             "pattern": {
              "fillmode": "overlay",
              "size": 10,
              "solidity": 0.2
             }
            },
            "type": "bar"
           }
          ],
          "barpolar": [
           {
            "marker": {
             "line": {
              "color": "#E5ECF6",
              "width": 0.5
             },
             "pattern": {
              "fillmode": "overlay",
              "size": 10,
              "solidity": 0.2
             }
            },
            "type": "barpolar"
           }
          ],
          "carpet": [
           {
            "aaxis": {
             "endlinecolor": "#2a3f5f",
             "gridcolor": "white",
             "linecolor": "white",
             "minorgridcolor": "white",
             "startlinecolor": "#2a3f5f"
            },
            "baxis": {
             "endlinecolor": "#2a3f5f",
             "gridcolor": "white",
             "linecolor": "white",
             "minorgridcolor": "white",
             "startlinecolor": "#2a3f5f"
            },
            "type": "carpet"
           }
          ],
          "choropleth": [
           {
            "colorbar": {
             "outlinewidth": 0,
             "ticks": ""
            },
            "type": "choropleth"
           }
          ],
          "contour": [
           {
            "colorbar": {
             "outlinewidth": 0,
             "ticks": ""
            },
            "colorscale": [
             [
              0,
              "#0d0887"
             ],
             [
              0.1111111111111111,
              "#46039f"
             ],
             [
              0.2222222222222222,
              "#7201a8"
             ],
             [
              0.3333333333333333,
              "#9c179e"
             ],
             [
              0.4444444444444444,
              "#bd3786"
             ],
             [
              0.5555555555555556,
              "#d8576b"
             ],
             [
              0.6666666666666666,
              "#ed7953"
             ],
             [
              0.7777777777777778,
              "#fb9f3a"
             ],
             [
              0.8888888888888888,
              "#fdca26"
             ],
             [
              1,
              "#f0f921"
             ]
            ],
            "type": "contour"
           }
          ],
          "contourcarpet": [
           {
            "colorbar": {
             "outlinewidth": 0,
             "ticks": ""
            },
            "type": "contourcarpet"
           }
          ],
          "heatmap": [
           {
            "colorbar": {
             "outlinewidth": 0,
             "ticks": ""
            },
            "colorscale": [
             [
              0,
              "#0d0887"
             ],
             [
              0.1111111111111111,
              "#46039f"
             ],
             [
              0.2222222222222222,
              "#7201a8"
             ],
             [
              0.3333333333333333,
              "#9c179e"
             ],
             [
              0.4444444444444444,
              "#bd3786"
             ],
             [
              0.5555555555555556,
              "#d8576b"
             ],
             [
              0.6666666666666666,
              "#ed7953"
             ],
             [
              0.7777777777777778,
              "#fb9f3a"
             ],
             [
              0.8888888888888888,
              "#fdca26"
             ],
             [
              1,
              "#f0f921"
             ]
            ],
            "type": "heatmap"
           }
          ],
          "heatmapgl": [
           {
            "colorbar": {
             "outlinewidth": 0,
             "ticks": ""
            },
            "colorscale": [
             [
              0,
              "#0d0887"
             ],
             [
              0.1111111111111111,
              "#46039f"
             ],
             [
              0.2222222222222222,
              "#7201a8"
             ],
             [
              0.3333333333333333,
              "#9c179e"
             ],
             [
              0.4444444444444444,
              "#bd3786"
             ],
             [
              0.5555555555555556,
              "#d8576b"
             ],
             [
              0.6666666666666666,
              "#ed7953"
             ],
             [
              0.7777777777777778,
              "#fb9f3a"
             ],
             [
              0.8888888888888888,
              "#fdca26"
             ],
             [
              1,
              "#f0f921"
             ]
            ],
            "type": "heatmapgl"
           }
          ],
          "histogram": [
           {
            "marker": {
             "pattern": {
              "fillmode": "overlay",
              "size": 10,
              "solidity": 0.2
             }
            },
            "type": "histogram"
           }
          ],
          "histogram2d": [
           {
            "colorbar": {
             "outlinewidth": 0,
             "ticks": ""
            },
            "colorscale": [
             [
              0,
              "#0d0887"
             ],
             [
              0.1111111111111111,
              "#46039f"
             ],
             [
              0.2222222222222222,
              "#7201a8"
             ],
             [
              0.3333333333333333,
              "#9c179e"
             ],
             [
              0.4444444444444444,
              "#bd3786"
             ],
             [
              0.5555555555555556,
              "#d8576b"
             ],
             [
              0.6666666666666666,
              "#ed7953"
             ],
             [
              0.7777777777777778,
              "#fb9f3a"
             ],
             [
              0.8888888888888888,
              "#fdca26"
             ],
             [
              1,
              "#f0f921"
             ]
            ],
            "type": "histogram2d"
           }
          ],
          "histogram2dcontour": [
           {
            "colorbar": {
             "outlinewidth": 0,
             "ticks": ""
            },
            "colorscale": [
             [
              0,
              "#0d0887"
             ],
             [
              0.1111111111111111,
              "#46039f"
             ],
             [
              0.2222222222222222,
              "#7201a8"
             ],
             [
              0.3333333333333333,
              "#9c179e"
             ],
             [
              0.4444444444444444,
              "#bd3786"
             ],
             [
              0.5555555555555556,
              "#d8576b"
             ],
             [
              0.6666666666666666,
              "#ed7953"
             ],
             [
              0.7777777777777778,
              "#fb9f3a"
             ],
             [
              0.8888888888888888,
              "#fdca26"
             ],
             [
              1,
              "#f0f921"
             ]
            ],
            "type": "histogram2dcontour"
           }
          ],
          "mesh3d": [
           {
            "colorbar": {
             "outlinewidth": 0,
             "ticks": ""
            },
            "type": "mesh3d"
           }
          ],
          "parcoords": [
           {
            "line": {
             "colorbar": {
              "outlinewidth": 0,
              "ticks": ""
             }
            },
            "type": "parcoords"
           }
          ],
          "pie": [
           {
            "automargin": true,
            "type": "pie"
           }
          ],
          "scatter": [
           {
            "marker": {
             "colorbar": {
              "outlinewidth": 0,
              "ticks": ""
             }
            },
            "type": "scatter"
           }
          ],
          "scatter3d": [
           {
            "line": {
             "colorbar": {
              "outlinewidth": 0,
              "ticks": ""
             }
            },
            "marker": {
             "colorbar": {
              "outlinewidth": 0,
              "ticks": ""
             }
            },
            "type": "scatter3d"
           }
          ],
          "scattercarpet": [
           {
            "marker": {
             "colorbar": {
              "outlinewidth": 0,
              "ticks": ""
             }
            },
            "type": "scattercarpet"
           }
          ],
          "scattergeo": [
           {
            "marker": {
             "colorbar": {
              "outlinewidth": 0,
              "ticks": ""
             }
            },
            "type": "scattergeo"
           }
          ],
          "scattergl": [
           {
            "marker": {
             "colorbar": {
              "outlinewidth": 0,
              "ticks": ""
             }
            },
            "type": "scattergl"
           }
          ],
          "scattermapbox": [
           {
            "marker": {
             "colorbar": {
              "outlinewidth": 0,
              "ticks": ""
             }
            },
            "type": "scattermapbox"
           }
          ],
          "scatterpolar": [
           {
            "marker": {
             "colorbar": {
              "outlinewidth": 0,
              "ticks": ""
             }
            },
            "type": "scatterpolar"
           }
          ],
          "scatterpolargl": [
           {
            "marker": {
             "colorbar": {
              "outlinewidth": 0,
              "ticks": ""
             }
            },
            "type": "scatterpolargl"
           }
          ],
          "scatterternary": [
           {
            "marker": {
             "colorbar": {
              "outlinewidth": 0,
              "ticks": ""
             }
            },
            "type": "scatterternary"
           }
          ],
          "surface": [
           {
            "colorbar": {
             "outlinewidth": 0,
             "ticks": ""
            },
            "colorscale": [
             [
              0,
              "#0d0887"
             ],
             [
              0.1111111111111111,
              "#46039f"
             ],
             [
              0.2222222222222222,
              "#7201a8"
             ],
             [
              0.3333333333333333,
              "#9c179e"
             ],
             [
              0.4444444444444444,
              "#bd3786"
             ],
             [
              0.5555555555555556,
              "#d8576b"
             ],
             [
              0.6666666666666666,
              "#ed7953"
             ],
             [
              0.7777777777777778,
              "#fb9f3a"
             ],
             [
              0.8888888888888888,
              "#fdca26"
             ],
             [
              1,
              "#f0f921"
             ]
            ],
            "type": "surface"
           }
          ],
          "table": [
           {
            "cells": {
             "fill": {
              "color": "#EBF0F8"
             },
             "line": {
              "color": "white"
             }
            },
            "header": {
             "fill": {
              "color": "#C8D4E3"
             },
             "line": {
              "color": "white"
             }
            },
            "type": "table"
           }
          ]
         },
         "layout": {
          "annotationdefaults": {
           "arrowcolor": "#2a3f5f",
           "arrowhead": 0,
           "arrowwidth": 1
          },
          "autotypenumbers": "strict",
          "coloraxis": {
           "colorbar": {
            "outlinewidth": 0,
            "ticks": ""
           }
          },
          "colorscale": {
           "diverging": [
            [
             0,
             "#8e0152"
            ],
            [
             0.1,
             "#c51b7d"
            ],
            [
             0.2,
             "#de77ae"
            ],
            [
             0.3,
             "#f1b6da"
            ],
            [
             0.4,
             "#fde0ef"
            ],
            [
             0.5,
             "#f7f7f7"
            ],
            [
             0.6,
             "#e6f5d0"
            ],
            [
             0.7,
             "#b8e186"
            ],
            [
             0.8,
             "#7fbc41"
            ],
            [
             0.9,
             "#4d9221"
            ],
            [
             1,
             "#276419"
            ]
           ],
           "sequential": [
            [
             0,
             "#0d0887"
            ],
            [
             0.1111111111111111,
             "#46039f"
            ],
            [
             0.2222222222222222,
             "#7201a8"
            ],
            [
             0.3333333333333333,
             "#9c179e"
            ],
            [
             0.4444444444444444,
             "#bd3786"
            ],
            [
             0.5555555555555556,
             "#d8576b"
            ],
            [
             0.6666666666666666,
             "#ed7953"
            ],
            [
             0.7777777777777778,
             "#fb9f3a"
            ],
            [
             0.8888888888888888,
             "#fdca26"
            ],
            [
             1,
             "#f0f921"
            ]
           ],
           "sequentialminus": [
            [
             0,
             "#0d0887"
            ],
            [
             0.1111111111111111,
             "#46039f"
            ],
            [
             0.2222222222222222,
             "#7201a8"
            ],
            [
             0.3333333333333333,
             "#9c179e"
            ],
            [
             0.4444444444444444,
             "#bd3786"
            ],
            [
             0.5555555555555556,
             "#d8576b"
            ],
            [
             0.6666666666666666,
             "#ed7953"
            ],
            [
             0.7777777777777778,
             "#fb9f3a"
            ],
            [
             0.8888888888888888,
             "#fdca26"
            ],
            [
             1,
             "#f0f921"
            ]
           ]
          },
          "colorway": [
           "#636efa",
           "#EF553B",
           "#00cc96",
           "#ab63fa",
           "#FFA15A",
           "#19d3f3",
           "#FF6692",
           "#B6E880",
           "#FF97FF",
           "#FECB52"
          ],
          "font": {
           "color": "#2a3f5f"
          },
          "geo": {
           "bgcolor": "white",
           "lakecolor": "white",
           "landcolor": "#E5ECF6",
           "showlakes": true,
           "showland": true,
           "subunitcolor": "white"
          },
          "hoverlabel": {
           "align": "left"
          },
          "hovermode": "closest",
          "mapbox": {
           "style": "light"
          },
          "paper_bgcolor": "white",
          "plot_bgcolor": "#E5ECF6",
          "polar": {
           "angularaxis": {
            "gridcolor": "white",
            "linecolor": "white",
            "ticks": ""
           },
           "bgcolor": "#E5ECF6",
           "radialaxis": {
            "gridcolor": "white",
            "linecolor": "white",
            "ticks": ""
           }
          },
          "scene": {
           "xaxis": {
            "backgroundcolor": "#E5ECF6",
            "gridcolor": "white",
            "gridwidth": 2,
            "linecolor": "white",
            "showbackground": true,
            "ticks": "",
            "zerolinecolor": "white"
           },
           "yaxis": {
            "backgroundcolor": "#E5ECF6",
            "gridcolor": "white",
            "gridwidth": 2,
            "linecolor": "white",
            "showbackground": true,
            "ticks": "",
            "zerolinecolor": "white"
           },
           "zaxis": {
            "backgroundcolor": "#E5ECF6",
            "gridcolor": "white",
            "gridwidth": 2,
            "linecolor": "white",
            "showbackground": true,
            "ticks": "",
            "zerolinecolor": "white"
           }
          },
          "shapedefaults": {
           "line": {
            "color": "#2a3f5f"
           }
          },
          "ternary": {
           "aaxis": {
            "gridcolor": "white",
            "linecolor": "white",
            "ticks": ""
           },
           "baxis": {
            "gridcolor": "white",
            "linecolor": "white",
            "ticks": ""
           },
           "bgcolor": "#E5ECF6",
           "caxis": {
            "gridcolor": "white",
            "linecolor": "white",
            "ticks": ""
           }
          },
          "title": {
           "x": 0.05
          },
          "xaxis": {
           "automargin": true,
           "gridcolor": "white",
           "linecolor": "white",
           "ticks": "",
           "title": {
            "standoff": 15
           },
           "zerolinecolor": "white",
           "zerolinewidth": 2
          },
          "yaxis": {
           "automargin": true,
           "gridcolor": "white",
           "linecolor": "white",
           "ticks": "",
           "title": {
            "standoff": 15
           },
           "zerolinecolor": "white",
           "zerolinewidth": 2
          }
         }
        },
        "title": {
         "text": "Average Energy Electricity benefit across Neighborhoods"
        }
       }
      },
      "text/html": [
       "<div>                            <div id=\"f535d4c0-4ac4-4fea-8296-329bd7a8019b\" class=\"plotly-graph-div\" style=\"height:500px; width:100%;\"></div>            <script type=\"text/javascript\">                require([\"plotly\"], function(Plotly) {                    window.PLOTLYENV=window.PLOTLYENV || {};                                    if (document.getElementById(\"f535d4c0-4ac4-4fea-8296-329bd7a8019b\")) {                    Plotly.newPlot(                        \"f535d4c0-4ac4-4fea-8296-329bd7a8019b\",                        [{\"coloraxis\":\"coloraxis\",\"featureidkey\":\"properties.name\",\"geo\":\"geo\",\"geojson\":\"https://raw.githubusercontent.com/blackmad/neighborhoods/master/gn-pittsburgh.geojson\",\"hovertemplate\":\"neighborhood=%{location}<br>energy_benefits_electricity_dollar_value=%{z}<extra></extra>\",\"locations\":[\"Allegheny Center\",\"Allegheny West\",\"Allentown\",\"Arlington\",\"Arlington Heights\",\"Banksville\",\"Bedford Dwellings\",\"Beechview\",\"Beltzhoover\",\"Bloomfield\",\"Bluff\",\"Bon Air\",\"Brighton Heights\",\"Brookline\",\"California-Kirkbride\",\"Carrick\",\"Central Business District\",\"Central Lawrenceville\",\"Central Northside\",\"Central Oakland\",\"Chartiers City\",\"Chateau\",\"Crafton Heights\",\"Crawford-Roberts\",\"Duquesne Heights\",\"East Allegheny\",\"East Carnegie\",\"East Hills\",\"East Liberty\",\"Elliott\",\"Esplen\",\"Fairywood\",\"Fineview\",\"Friendship\",\"Garfield\",\"Glen Hazel\",\"Greenfield\",\"Hays\",\"Hazelwood\",\"Highland Park\",\"Homewood North\",\"Homewood South\",\"Homewood West\",\"Knoxville\",\"Larimer\",\"Lincoln Place\",\"Lincoln-Lemington-Belmar\",\"Lower Lawrenceville\",\"Manchester\",\"Marshall-Shadeland\",\"Middle Hill\",\"Morningside\",\"Mount Washington\",\"Mt. Oliver\",\"New Homestead\",\"North Oakland\",\"North Shore\",\"Northview Heights\",\"Oakwood\",\"Overbrook\",\"Perry North\",\"Perry South\",\"Point Breeze\",\"Point Breeze North\",\"Polish Hill\",\"Regent Square\",\"Ridgemont\",\"Shadyside\",\"Sheraden\",\"South Oakland\",\"South Shore\",\"South Side Flats\",\"South Side Slopes\",\"Spring Garden\",\"Spring Hill-City View\",\"Squirrel Hill North\",\"Squirrel Hill South\",\"St. Clair\",\"Stanton Heights\",\"Strip District\",\"Summer Hill\",\"Swisshelm Park\",\"Terrace Village\",\"Troy Hill\",\"Upper Hill\",\"Upper Lawrenceville\",\"West End\",\"West Oakland\",\"Westwood\",\"Windgap\"],\"name\":\"\",\"type\":\"choropleth\",\"z\":[105.3685766484623,55.2841046609331,3.3142724284169693,1.6711115505363314,1.0934009867457917,8.354659653959123,8.00617329278752,5.662712303989982,4.297944692276719,19.11150544984177,4.764821190085217,3.927889724467333,12.018414826423575,6.316065375630783,5.625894521199059,6.157548675974903,12.393882382706918,4.334021532450985,24.02407579875058,23.427319689897242,5.904650539488336,6.536828384981221,7.302847883023308,16.5890880894767,1.4922301615117468,15.211840046437365,0.19785482665352025,16.329710949606532,20.446472648650644,4.414191638748652,0.12157372519167416,0.9078262616174493,6.573261245736102,28.52216322973595,13.162853837121789,0.05549788528293263,12.864233433655226,0.01544235911301687,4.8808116738636205,52.100405059469146,10.953953488426427,11.777458270471945,4.667137363144181,23.80268306693378,8.62912530200905,4.818990700286717,39.5435181141479,9.073592350533227,25.56856187602087,29.49725808391289,8.393213834261864,12.805551690573516,8.331179258207564,1.466094984548093,4.914405626434591,21.84966207619222,13.303789163781856,0.43486798736586985,6.882055703684952,5.213275750857171,16.5973429565078,6.40197768404737,25.482936755557365,29.7776242308658,6.29894881215577,45.65353721961084,1.3963563668102033,24.714340592770647,5.874110290632852,3.9817459138115683,0.02458113114962445,12.472628983709916,2.6521659113428844,1.8344897049629307,2.0140607229821255,39.547891353345484,38.252499101862504,0.8663002442253004,20.973573490769567,4.317434807607016,2.996203166760115,10.453937892200788,6.578413728102767,1.7328763670748124,7.446975013389196,9.504245639716332,4.365905824747823,2.3283026113914382,7.0362303650586915,4.984785263396189]}],                        {\"coloraxis\":{\"colorbar\":{\"title\":{\"text\":\"energy_benefits_electricity_dollar_value\"}},\"colorscale\":[[0.0,\"rgb(247,252,245)\"],[0.125,\"rgb(229,245,224)\"],[0.25,\"rgb(199,233,192)\"],[0.375,\"rgb(161,217,155)\"],[0.5,\"rgb(116,196,118)\"],[0.625,\"rgb(65,171,93)\"],[0.75,\"rgb(35,139,69)\"],[0.875,\"rgb(0,109,44)\"],[1.0,\"rgb(0,68,27)\"]]},\"geo\":{\"center\":{},\"domain\":{\"x\":[0.0,1.0],\"y\":[0.0,1.0]},\"fitbounds\":\"locations\",\"visible\":false},\"height\":500,\"legend\":{\"tracegroupgap\":0},\"template\":{\"data\":{\"bar\":[{\"error_x\":{\"color\":\"#2a3f5f\"},\"error_y\":{\"color\":\"#2a3f5f\"},\"marker\":{\"line\":{\"color\":\"#E5ECF6\",\"width\":0.5},\"pattern\":{\"fillmode\":\"overlay\",\"size\":10,\"solidity\":0.2}},\"type\":\"bar\"}],\"barpolar\":[{\"marker\":{\"line\":{\"color\":\"#E5ECF6\",\"width\":0.5},\"pattern\":{\"fillmode\":\"overlay\",\"size\":10,\"solidity\":0.2}},\"type\":\"barpolar\"}],\"carpet\":[{\"aaxis\":{\"endlinecolor\":\"#2a3f5f\",\"gridcolor\":\"white\",\"linecolor\":\"white\",\"minorgridcolor\":\"white\",\"startlinecolor\":\"#2a3f5f\"},\"baxis\":{\"endlinecolor\":\"#2a3f5f\",\"gridcolor\":\"white\",\"linecolor\":\"white\",\"minorgridcolor\":\"white\",\"startlinecolor\":\"#2a3f5f\"},\"type\":\"carpet\"}],\"choropleth\":[{\"colorbar\":{\"outlinewidth\":0,\"ticks\":\"\"},\"type\":\"choropleth\"}],\"contour\":[{\"colorbar\":{\"outlinewidth\":0,\"ticks\":\"\"},\"colorscale\":[[0.0,\"#0d0887\"],[0.1111111111111111,\"#46039f\"],[0.2222222222222222,\"#7201a8\"],[0.3333333333333333,\"#9c179e\"],[0.4444444444444444,\"#bd3786\"],[0.5555555555555556,\"#d8576b\"],[0.6666666666666666,\"#ed7953\"],[0.7777777777777778,\"#fb9f3a\"],[0.8888888888888888,\"#fdca26\"],[1.0,\"#f0f921\"]],\"type\":\"contour\"}],\"contourcarpet\":[{\"colorbar\":{\"outlinewidth\":0,\"ticks\":\"\"},\"type\":\"contourcarpet\"}],\"heatmap\":[{\"colorbar\":{\"outlinewidth\":0,\"ticks\":\"\"},\"colorscale\":[[0.0,\"#0d0887\"],[0.1111111111111111,\"#46039f\"],[0.2222222222222222,\"#7201a8\"],[0.3333333333333333,\"#9c179e\"],[0.4444444444444444,\"#bd3786\"],[0.5555555555555556,\"#d8576b\"],[0.6666666666666666,\"#ed7953\"],[0.7777777777777778,\"#fb9f3a\"],[0.8888888888888888,\"#fdca26\"],[1.0,\"#f0f921\"]],\"type\":\"heatmap\"}],\"heatmapgl\":[{\"colorbar\":{\"outlinewidth\":0,\"ticks\":\"\"},\"colorscale\":[[0.0,\"#0d0887\"],[0.1111111111111111,\"#46039f\"],[0.2222222222222222,\"#7201a8\"],[0.3333333333333333,\"#9c179e\"],[0.4444444444444444,\"#bd3786\"],[0.5555555555555556,\"#d8576b\"],[0.6666666666666666,\"#ed7953\"],[0.7777777777777778,\"#fb9f3a\"],[0.8888888888888888,\"#fdca26\"],[1.0,\"#f0f921\"]],\"type\":\"heatmapgl\"}],\"histogram\":[{\"marker\":{\"pattern\":{\"fillmode\":\"overlay\",\"size\":10,\"solidity\":0.2}},\"type\":\"histogram\"}],\"histogram2d\":[{\"colorbar\":{\"outlinewidth\":0,\"ticks\":\"\"},\"colorscale\":[[0.0,\"#0d0887\"],[0.1111111111111111,\"#46039f\"],[0.2222222222222222,\"#7201a8\"],[0.3333333333333333,\"#9c179e\"],[0.4444444444444444,\"#bd3786\"],[0.5555555555555556,\"#d8576b\"],[0.6666666666666666,\"#ed7953\"],[0.7777777777777778,\"#fb9f3a\"],[0.8888888888888888,\"#fdca26\"],[1.0,\"#f0f921\"]],\"type\":\"histogram2d\"}],\"histogram2dcontour\":[{\"colorbar\":{\"outlinewidth\":0,\"ticks\":\"\"},\"colorscale\":[[0.0,\"#0d0887\"],[0.1111111111111111,\"#46039f\"],[0.2222222222222222,\"#7201a8\"],[0.3333333333333333,\"#9c179e\"],[0.4444444444444444,\"#bd3786\"],[0.5555555555555556,\"#d8576b\"],[0.6666666666666666,\"#ed7953\"],[0.7777777777777778,\"#fb9f3a\"],[0.8888888888888888,\"#fdca26\"],[1.0,\"#f0f921\"]],\"type\":\"histogram2dcontour\"}],\"mesh3d\":[{\"colorbar\":{\"outlinewidth\":0,\"ticks\":\"\"},\"type\":\"mesh3d\"}],\"parcoords\":[{\"line\":{\"colorbar\":{\"outlinewidth\":0,\"ticks\":\"\"}},\"type\":\"parcoords\"}],\"pie\":[{\"automargin\":true,\"type\":\"pie\"}],\"scatter\":[{\"marker\":{\"colorbar\":{\"outlinewidth\":0,\"ticks\":\"\"}},\"type\":\"scatter\"}],\"scatter3d\":[{\"line\":{\"colorbar\":{\"outlinewidth\":0,\"ticks\":\"\"}},\"marker\":{\"colorbar\":{\"outlinewidth\":0,\"ticks\":\"\"}},\"type\":\"scatter3d\"}],\"scattercarpet\":[{\"marker\":{\"colorbar\":{\"outlinewidth\":0,\"ticks\":\"\"}},\"type\":\"scattercarpet\"}],\"scattergeo\":[{\"marker\":{\"colorbar\":{\"outlinewidth\":0,\"ticks\":\"\"}},\"type\":\"scattergeo\"}],\"scattergl\":[{\"marker\":{\"colorbar\":{\"outlinewidth\":0,\"ticks\":\"\"}},\"type\":\"scattergl\"}],\"scattermapbox\":[{\"marker\":{\"colorbar\":{\"outlinewidth\":0,\"ticks\":\"\"}},\"type\":\"scattermapbox\"}],\"scatterpolar\":[{\"marker\":{\"colorbar\":{\"outlinewidth\":0,\"ticks\":\"\"}},\"type\":\"scatterpolar\"}],\"scatterpolargl\":[{\"marker\":{\"colorbar\":{\"outlinewidth\":0,\"ticks\":\"\"}},\"type\":\"scatterpolargl\"}],\"scatterternary\":[{\"marker\":{\"colorbar\":{\"outlinewidth\":0,\"ticks\":\"\"}},\"type\":\"scatterternary\"}],\"surface\":[{\"colorbar\":{\"outlinewidth\":0,\"ticks\":\"\"},\"colorscale\":[[0.0,\"#0d0887\"],[0.1111111111111111,\"#46039f\"],[0.2222222222222222,\"#7201a8\"],[0.3333333333333333,\"#9c179e\"],[0.4444444444444444,\"#bd3786\"],[0.5555555555555556,\"#d8576b\"],[0.6666666666666666,\"#ed7953\"],[0.7777777777777778,\"#fb9f3a\"],[0.8888888888888888,\"#fdca26\"],[1.0,\"#f0f921\"]],\"type\":\"surface\"}],\"table\":[{\"cells\":{\"fill\":{\"color\":\"#EBF0F8\"},\"line\":{\"color\":\"white\"}},\"header\":{\"fill\":{\"color\":\"#C8D4E3\"},\"line\":{\"color\":\"white\"}},\"type\":\"table\"}]},\"layout\":{\"annotationdefaults\":{\"arrowcolor\":\"#2a3f5f\",\"arrowhead\":0,\"arrowwidth\":1},\"autotypenumbers\":\"strict\",\"coloraxis\":{\"colorbar\":{\"outlinewidth\":0,\"ticks\":\"\"}},\"colorscale\":{\"diverging\":[[0,\"#8e0152\"],[0.1,\"#c51b7d\"],[0.2,\"#de77ae\"],[0.3,\"#f1b6da\"],[0.4,\"#fde0ef\"],[0.5,\"#f7f7f7\"],[0.6,\"#e6f5d0\"],[0.7,\"#b8e186\"],[0.8,\"#7fbc41\"],[0.9,\"#4d9221\"],[1,\"#276419\"]],\"sequential\":[[0.0,\"#0d0887\"],[0.1111111111111111,\"#46039f\"],[0.2222222222222222,\"#7201a8\"],[0.3333333333333333,\"#9c179e\"],[0.4444444444444444,\"#bd3786\"],[0.5555555555555556,\"#d8576b\"],[0.6666666666666666,\"#ed7953\"],[0.7777777777777778,\"#fb9f3a\"],[0.8888888888888888,\"#fdca26\"],[1.0,\"#f0f921\"]],\"sequentialminus\":[[0.0,\"#0d0887\"],[0.1111111111111111,\"#46039f\"],[0.2222222222222222,\"#7201a8\"],[0.3333333333333333,\"#9c179e\"],[0.4444444444444444,\"#bd3786\"],[0.5555555555555556,\"#d8576b\"],[0.6666666666666666,\"#ed7953\"],[0.7777777777777778,\"#fb9f3a\"],[0.8888888888888888,\"#fdca26\"],[1.0,\"#f0f921\"]]},\"colorway\":[\"#636efa\",\"#EF553B\",\"#00cc96\",\"#ab63fa\",\"#FFA15A\",\"#19d3f3\",\"#FF6692\",\"#B6E880\",\"#FF97FF\",\"#FECB52\"],\"font\":{\"color\":\"#2a3f5f\"},\"geo\":{\"bgcolor\":\"white\",\"lakecolor\":\"white\",\"landcolor\":\"#E5ECF6\",\"showlakes\":true,\"showland\":true,\"subunitcolor\":\"white\"},\"hoverlabel\":{\"align\":\"left\"},\"hovermode\":\"closest\",\"mapbox\":{\"style\":\"light\"},\"paper_bgcolor\":\"white\",\"plot_bgcolor\":\"#E5ECF6\",\"polar\":{\"angularaxis\":{\"gridcolor\":\"white\",\"linecolor\":\"white\",\"ticks\":\"\"},\"bgcolor\":\"#E5ECF6\",\"radialaxis\":{\"gridcolor\":\"white\",\"linecolor\":\"white\",\"ticks\":\"\"}},\"scene\":{\"xaxis\":{\"backgroundcolor\":\"#E5ECF6\",\"gridcolor\":\"white\",\"gridwidth\":2,\"linecolor\":\"white\",\"showbackground\":true,\"ticks\":\"\",\"zerolinecolor\":\"white\"},\"yaxis\":{\"backgroundcolor\":\"#E5ECF6\",\"gridcolor\":\"white\",\"gridwidth\":2,\"linecolor\":\"white\",\"showbackground\":true,\"ticks\":\"\",\"zerolinecolor\":\"white\"},\"zaxis\":{\"backgroundcolor\":\"#E5ECF6\",\"gridcolor\":\"white\",\"gridwidth\":2,\"linecolor\":\"white\",\"showbackground\":true,\"ticks\":\"\",\"zerolinecolor\":\"white\"}},\"shapedefaults\":{\"line\":{\"color\":\"#2a3f5f\"}},\"ternary\":{\"aaxis\":{\"gridcolor\":\"white\",\"linecolor\":\"white\",\"ticks\":\"\"},\"baxis\":{\"gridcolor\":\"white\",\"linecolor\":\"white\",\"ticks\":\"\"},\"bgcolor\":\"#E5ECF6\",\"caxis\":{\"gridcolor\":\"white\",\"linecolor\":\"white\",\"ticks\":\"\"}},\"title\":{\"x\":0.05},\"xaxis\":{\"automargin\":true,\"gridcolor\":\"white\",\"linecolor\":\"white\",\"ticks\":\"\",\"title\":{\"standoff\":15},\"zerolinecolor\":\"white\",\"zerolinewidth\":2},\"yaxis\":{\"automargin\":true,\"gridcolor\":\"white\",\"linecolor\":\"white\",\"ticks\":\"\",\"title\":{\"standoff\":15},\"zerolinecolor\":\"white\",\"zerolinewidth\":2}}},\"title\":{\"text\":\"Average Energy Electricity benefit across Neighborhoods\"}},                        {\"responsive\": true}                    ).then(function(){\n",
       "                            \n",
       "var gd = document.getElementById('f535d4c0-4ac4-4fea-8296-329bd7a8019b');\n",
       "var x = new MutationObserver(function (mutations, observer) {{\n",
       "        var display = window.getComputedStyle(gd).display;\n",
       "        if (!display || display === 'none') {{\n",
       "            console.log([gd, 'removed!']);\n",
       "            Plotly.purge(gd);\n",
       "            observer.disconnect();\n",
       "        }}\n",
       "}});\n",
       "\n",
       "// Listen for the removal of the full notebook cells\n",
       "var notebookContainer = gd.closest('#notebook-container');\n",
       "if (notebookContainer) {{\n",
       "    x.observe(notebookContainer, {childList: true});\n",
       "}}\n",
       "\n",
       "// Listen for the clearing of the current output cell\n",
       "var outputEl = gd.closest('.output');\n",
       "if (outputEl) {{\n",
       "    x.observe(outputEl, {childList: true});\n",
       "}}\n",
       "\n",
       "                        })                };                });            </script>        </div>"
      ]
     },
     "metadata": {},
     "output_type": "display_data"
    }
   ],
   "source": [
    "fig=px.choropleth(energy_electricity_benefit_map,\n",
    "             geojson=\"https://raw.githubusercontent.com/blackmad/neighborhoods/master/gn-pittsburgh.geojson\",\n",
    "             featureidkey='properties.name',   \n",
    "             locations='neighborhood',        #column in dataframe\n",
    "             color='energy_benefits_electricity_dollar_value',\n",
    "              color_continuous_scale='greens',\n",
    "               title='Average Energy Electricity benefit across Neighborhoods' ,  \n",
    "               height=500\n",
    "              )\n",
    "fig.update_geos(fitbounds=\"locations\", visible=False)\n",
    "fig.show()"
   ]
  },
  {
   "cell_type": "markdown",
   "id": "d1c25d7a",
   "metadata": {},
   "source": [
    "**Top 5 neighborhoods with highest energy (electricity) benefits**"
   ]
  },
  {
   "cell_type": "code",
   "execution_count": 461,
   "id": "d049473c",
   "metadata": {},
   "outputs": [
    {
     "data": {
      "text/html": [
       "<div>\n",
       "<style scoped>\n",
       "    .dataframe tbody tr th:only-of-type {\n",
       "        vertical-align: middle;\n",
       "    }\n",
       "\n",
       "    .dataframe tbody tr th {\n",
       "        vertical-align: top;\n",
       "    }\n",
       "\n",
       "    .dataframe thead th {\n",
       "        text-align: right;\n",
       "    }\n",
       "</style>\n",
       "<table border=\"1\" class=\"dataframe\">\n",
       "  <thead>\n",
       "    <tr style=\"text-align: right;\">\n",
       "      <th></th>\n",
       "      <th>neighborhood</th>\n",
       "      <th>energy_benefits_electricity_dollar_value</th>\n",
       "    </tr>\n",
       "  </thead>\n",
       "  <tbody>\n",
       "    <tr>\n",
       "      <th>0</th>\n",
       "      <td>Allegheny Center</td>\n",
       "      <td>105.368577</td>\n",
       "    </tr>\n",
       "    <tr>\n",
       "      <th>1</th>\n",
       "      <td>Allegheny West</td>\n",
       "      <td>55.284105</td>\n",
       "    </tr>\n",
       "    <tr>\n",
       "      <th>39</th>\n",
       "      <td>Highland Park</td>\n",
       "      <td>52.100405</td>\n",
       "    </tr>\n",
       "    <tr>\n",
       "      <th>65</th>\n",
       "      <td>Regent Square</td>\n",
       "      <td>45.653537</td>\n",
       "    </tr>\n",
       "    <tr>\n",
       "      <th>75</th>\n",
       "      <td>Squirrel Hill North</td>\n",
       "      <td>39.547891</td>\n",
       "    </tr>\n",
       "  </tbody>\n",
       "</table>\n",
       "</div>"
      ],
      "text/plain": [
       "           neighborhood  energy_benefits_electricity_dollar_value\n",
       "0      Allegheny Center                                105.368577\n",
       "1        Allegheny West                                 55.284105\n",
       "39        Highland Park                                 52.100405\n",
       "65        Regent Square                                 45.653537\n",
       "75  Squirrel Hill North                                 39.547891"
      ]
     },
     "execution_count": 461,
     "metadata": {},
     "output_type": "execute_result"
    }
   ],
   "source": [
    "energy_electricity_benefit_map.sort_values('energy_benefits_electricity_dollar_value', ascending=False).head(5)"
   ]
  },
  {
   "cell_type": "markdown",
   "id": "00fb3bf4",
   "metadata": {},
   "source": [
    "**Inference:\n",
    "3 of the top 5 neighborhoods with the highest energy (electricity) benefits are also in the top 5 neighborhoods with highest tree density. This exhibhits a clear positive correlation between the two**"
   ]
  },
  {
   "cell_type": "markdown",
   "id": "c5f2397c",
   "metadata": {},
   "source": [
    "# Plot neighborhood level tree Energy (Gas) benefits data"
   ]
  },
  {
   "cell_type": "code",
   "execution_count": 462,
   "id": "2280ddb0",
   "metadata": {},
   "outputs": [],
   "source": [
    "energy_gas_benefit_map = combined_data[['neighborhood', 'energy_benefits_gas_dollar_value']].copy()\n"
   ]
  },
  {
   "cell_type": "code",
   "execution_count": 463,
   "id": "3071b122",
   "metadata": {},
   "outputs": [
    {
     "data": {
      "application/vnd.plotly.v1+json": {
       "config": {
        "plotlyServerURL": "https://plot.ly"
       },
       "data": [
        {
         "coloraxis": "coloraxis",
         "featureidkey": "properties.name",
         "geo": "geo",
         "geojson": "https://raw.githubusercontent.com/blackmad/neighborhoods/master/gn-pittsburgh.geojson",
         "hovertemplate": "neighborhood=%{location}<br>energy_benefits_gas_dollar_value=%{z}<extra></extra>",
         "locations": [
          "Allegheny Center",
          "Allegheny West",
          "Allentown",
          "Arlington",
          "Arlington Heights",
          "Banksville",
          "Bedford Dwellings",
          "Beechview",
          "Beltzhoover",
          "Bloomfield",
          "Bluff",
          "Bon Air",
          "Brighton Heights",
          "Brookline",
          "California-Kirkbride",
          "Carrick",
          "Central Business District",
          "Central Lawrenceville",
          "Central Northside",
          "Central Oakland",
          "Chartiers City",
          "Chateau",
          "Crafton Heights",
          "Crawford-Roberts",
          "Duquesne Heights",
          "East Allegheny",
          "East Carnegie",
          "East Hills",
          "East Liberty",
          "Elliott",
          "Esplen",
          "Fairywood",
          "Fineview",
          "Friendship",
          "Garfield",
          "Glen Hazel",
          "Greenfield",
          "Hays",
          "Hazelwood",
          "Highland Park",
          "Homewood North",
          "Homewood South",
          "Homewood West",
          "Knoxville",
          "Larimer",
          "Lincoln Place",
          "Lincoln-Lemington-Belmar",
          "Lower Lawrenceville",
          "Manchester",
          "Marshall-Shadeland",
          "Middle Hill",
          "Morningside",
          "Mount Washington",
          "Mt. Oliver",
          "New Homestead",
          "North Oakland",
          "North Shore",
          "Northview Heights",
          "Oakwood",
          "Overbrook",
          "Perry North",
          "Perry South",
          "Point Breeze",
          "Point Breeze North",
          "Polish Hill",
          "Regent Square",
          "Ridgemont",
          "Shadyside",
          "Sheraden",
          "South Oakland",
          "South Shore",
          "South Side Flats",
          "South Side Slopes",
          "Spring Garden",
          "Spring Hill-City View",
          "Squirrel Hill North",
          "Squirrel Hill South",
          "St. Clair",
          "Stanton Heights",
          "Strip District",
          "Summer Hill",
          "Swisshelm Park",
          "Terrace Village",
          "Troy Hill",
          "Upper Hill",
          "Upper Lawrenceville",
          "West End",
          "West Oakland",
          "Westwood",
          "Windgap"
         ],
         "name": "",
         "type": "choropleth",
         "z": [
          359.9362221404878,
          190.0938033554614,
          12.147347158620462,
          6.510846796084487,
          3.8279163853591363,
          29.335521576314328,
          30.70547050587975,
          20.572198780388998,
          16.09713540158565,
          72.26790987949776,
          19.171176134268443,
          13.997393320758915,
          43.64811186941532,
          22.698542959154086,
          20.822654915607114,
          21.958381547056863,
          51.27426564900269,
          17.900428425020547,
          92.1218777995395,
          83.62296680018729,
          18.67856528987217,
          26.05259890112446,
          25.85102207362944,
          62.69973845186582,
          5.535352155249039,
          58.77652998097032,
          0.714532290810414,
          58.5452917877115,
          78.98969740488025,
          15.910090899784194,
          0.46245495790609414,
          3.084427345126264,
          23.622593095691816,
          112.25556472360083,
          48.4840308340634,
          0.2271396203266063,
          45.48499925977281,
          0.05258728570500711,
          17.548201463252287,
          180.97879368707387,
          40.243982082102605,
          43.058486236155815,
          16.88286781725518,
          80.70264540936014,
          31.186128438852258,
          16.721379602400035,
          137.90123653998137,
          35.01166308647811,
          95.08473897923598,
          103.4555939094051,
          33.52908647208044,
          46.866852969550735,
          31.16122668322431,
          5.196647372902033,
          17.360606265020937,
          78.67203043388946,
          57.616195584037975,
          1.566672553212475,
          25.57458767079642,
          17.42248345196917,
          58.96359598663057,
          22.671136812199126,
          88.26997368264355,
          106.69377041362624,
          25.382810920031506,
          161.49868752529804,
          4.777440733190155,
          89.36402055170207,
          21.617458080285854,
          14.867663624573066,
          0.10881232030748672,
          50.472984868822195,
          10.027004026390374,
          7.2701281674971945,
          7.759568985256917,
          135.08440719794532,
          133.72493654403377,
          3.088547761284592,
          72.92200508760216,
          18.613808662001947,
          10.562766079325945,
          33.87677995832936,
          27.255710450629856,
          7.676770541898785,
          26.58568340419333,
          36.169639764757854,
          16.91257907486066,
          9.490513184941314,
          23.6853758239579,
          17.650927660996672
         ]
        }
       ],
       "layout": {
        "coloraxis": {
         "colorbar": {
          "title": {
           "text": "energy_benefits_gas_dollar_value"
          }
         },
         "colorscale": [
          [
           0,
           "rgb(247,252,245)"
          ],
          [
           0.125,
           "rgb(229,245,224)"
          ],
          [
           0.25,
           "rgb(199,233,192)"
          ],
          [
           0.375,
           "rgb(161,217,155)"
          ],
          [
           0.5,
           "rgb(116,196,118)"
          ],
          [
           0.625,
           "rgb(65,171,93)"
          ],
          [
           0.75,
           "rgb(35,139,69)"
          ],
          [
           0.875,
           "rgb(0,109,44)"
          ],
          [
           1,
           "rgb(0,68,27)"
          ]
         ]
        },
        "geo": {
         "center": {},
         "domain": {
          "x": [
           0,
           1
          ],
          "y": [
           0,
           1
          ]
         },
         "fitbounds": "locations",
         "visible": false
        },
        "height": 500,
        "legend": {
         "tracegroupgap": 0
        },
        "template": {
         "data": {
          "bar": [
           {
            "error_x": {
             "color": "#2a3f5f"
            },
            "error_y": {
             "color": "#2a3f5f"
            },
            "marker": {
             "line": {
              "color": "#E5ECF6",
              "width": 0.5
             },
             "pattern": {
              "fillmode": "overlay",
              "size": 10,
              "solidity": 0.2
             }
            },
            "type": "bar"
           }
          ],
          "barpolar": [
           {
            "marker": {
             "line": {
              "color": "#E5ECF6",
              "width": 0.5
             },
             "pattern": {
              "fillmode": "overlay",
              "size": 10,
              "solidity": 0.2
             }
            },
            "type": "barpolar"
           }
          ],
          "carpet": [
           {
            "aaxis": {
             "endlinecolor": "#2a3f5f",
             "gridcolor": "white",
             "linecolor": "white",
             "minorgridcolor": "white",
             "startlinecolor": "#2a3f5f"
            },
            "baxis": {
             "endlinecolor": "#2a3f5f",
             "gridcolor": "white",
             "linecolor": "white",
             "minorgridcolor": "white",
             "startlinecolor": "#2a3f5f"
            },
            "type": "carpet"
           }
          ],
          "choropleth": [
           {
            "colorbar": {
             "outlinewidth": 0,
             "ticks": ""
            },
            "type": "choropleth"
           }
          ],
          "contour": [
           {
            "colorbar": {
             "outlinewidth": 0,
             "ticks": ""
            },
            "colorscale": [
             [
              0,
              "#0d0887"
             ],
             [
              0.1111111111111111,
              "#46039f"
             ],
             [
              0.2222222222222222,
              "#7201a8"
             ],
             [
              0.3333333333333333,
              "#9c179e"
             ],
             [
              0.4444444444444444,
              "#bd3786"
             ],
             [
              0.5555555555555556,
              "#d8576b"
             ],
             [
              0.6666666666666666,
              "#ed7953"
             ],
             [
              0.7777777777777778,
              "#fb9f3a"
             ],
             [
              0.8888888888888888,
              "#fdca26"
             ],
             [
              1,
              "#f0f921"
             ]
            ],
            "type": "contour"
           }
          ],
          "contourcarpet": [
           {
            "colorbar": {
             "outlinewidth": 0,
             "ticks": ""
            },
            "type": "contourcarpet"
           }
          ],
          "heatmap": [
           {
            "colorbar": {
             "outlinewidth": 0,
             "ticks": ""
            },
            "colorscale": [
             [
              0,
              "#0d0887"
             ],
             [
              0.1111111111111111,
              "#46039f"
             ],
             [
              0.2222222222222222,
              "#7201a8"
             ],
             [
              0.3333333333333333,
              "#9c179e"
             ],
             [
              0.4444444444444444,
              "#bd3786"
             ],
             [
              0.5555555555555556,
              "#d8576b"
             ],
             [
              0.6666666666666666,
              "#ed7953"
             ],
             [
              0.7777777777777778,
              "#fb9f3a"
             ],
             [
              0.8888888888888888,
              "#fdca26"
             ],
             [
              1,
              "#f0f921"
             ]
            ],
            "type": "heatmap"
           }
          ],
          "heatmapgl": [
           {
            "colorbar": {
             "outlinewidth": 0,
             "ticks": ""
            },
            "colorscale": [
             [
              0,
              "#0d0887"
             ],
             [
              0.1111111111111111,
              "#46039f"
             ],
             [
              0.2222222222222222,
              "#7201a8"
             ],
             [
              0.3333333333333333,
              "#9c179e"
             ],
             [
              0.4444444444444444,
              "#bd3786"
             ],
             [
              0.5555555555555556,
              "#d8576b"
             ],
             [
              0.6666666666666666,
              "#ed7953"
             ],
             [
              0.7777777777777778,
              "#fb9f3a"
             ],
             [
              0.8888888888888888,
              "#fdca26"
             ],
             [
              1,
              "#f0f921"
             ]
            ],
            "type": "heatmapgl"
           }
          ],
          "histogram": [
           {
            "marker": {
             "pattern": {
              "fillmode": "overlay",
              "size": 10,
              "solidity": 0.2
             }
            },
            "type": "histogram"
           }
          ],
          "histogram2d": [
           {
            "colorbar": {
             "outlinewidth": 0,
             "ticks": ""
            },
            "colorscale": [
             [
              0,
              "#0d0887"
             ],
             [
              0.1111111111111111,
              "#46039f"
             ],
             [
              0.2222222222222222,
              "#7201a8"
             ],
             [
              0.3333333333333333,
              "#9c179e"
             ],
             [
              0.4444444444444444,
              "#bd3786"
             ],
             [
              0.5555555555555556,
              "#d8576b"
             ],
             [
              0.6666666666666666,
              "#ed7953"
             ],
             [
              0.7777777777777778,
              "#fb9f3a"
             ],
             [
              0.8888888888888888,
              "#fdca26"
             ],
             [
              1,
              "#f0f921"
             ]
            ],
            "type": "histogram2d"
           }
          ],
          "histogram2dcontour": [
           {
            "colorbar": {
             "outlinewidth": 0,
             "ticks": ""
            },
            "colorscale": [
             [
              0,
              "#0d0887"
             ],
             [
              0.1111111111111111,
              "#46039f"
             ],
             [
              0.2222222222222222,
              "#7201a8"
             ],
             [
              0.3333333333333333,
              "#9c179e"
             ],
             [
              0.4444444444444444,
              "#bd3786"
             ],
             [
              0.5555555555555556,
              "#d8576b"
             ],
             [
              0.6666666666666666,
              "#ed7953"
             ],
             [
              0.7777777777777778,
              "#fb9f3a"
             ],
             [
              0.8888888888888888,
              "#fdca26"
             ],
             [
              1,
              "#f0f921"
             ]
            ],
            "type": "histogram2dcontour"
           }
          ],
          "mesh3d": [
           {
            "colorbar": {
             "outlinewidth": 0,
             "ticks": ""
            },
            "type": "mesh3d"
           }
          ],
          "parcoords": [
           {
            "line": {
             "colorbar": {
              "outlinewidth": 0,
              "ticks": ""
             }
            },
            "type": "parcoords"
           }
          ],
          "pie": [
           {
            "automargin": true,
            "type": "pie"
           }
          ],
          "scatter": [
           {
            "marker": {
             "colorbar": {
              "outlinewidth": 0,
              "ticks": ""
             }
            },
            "type": "scatter"
           }
          ],
          "scatter3d": [
           {
            "line": {
             "colorbar": {
              "outlinewidth": 0,
              "ticks": ""
             }
            },
            "marker": {
             "colorbar": {
              "outlinewidth": 0,
              "ticks": ""
             }
            },
            "type": "scatter3d"
           }
          ],
          "scattercarpet": [
           {
            "marker": {
             "colorbar": {
              "outlinewidth": 0,
              "ticks": ""
             }
            },
            "type": "scattercarpet"
           }
          ],
          "scattergeo": [
           {
            "marker": {
             "colorbar": {
              "outlinewidth": 0,
              "ticks": ""
             }
            },
            "type": "scattergeo"
           }
          ],
          "scattergl": [
           {
            "marker": {
             "colorbar": {
              "outlinewidth": 0,
              "ticks": ""
             }
            },
            "type": "scattergl"
           }
          ],
          "scattermapbox": [
           {
            "marker": {
             "colorbar": {
              "outlinewidth": 0,
              "ticks": ""
             }
            },
            "type": "scattermapbox"
           }
          ],
          "scatterpolar": [
           {
            "marker": {
             "colorbar": {
              "outlinewidth": 0,
              "ticks": ""
             }
            },
            "type": "scatterpolar"
           }
          ],
          "scatterpolargl": [
           {
            "marker": {
             "colorbar": {
              "outlinewidth": 0,
              "ticks": ""
             }
            },
            "type": "scatterpolargl"
           }
          ],
          "scatterternary": [
           {
            "marker": {
             "colorbar": {
              "outlinewidth": 0,
              "ticks": ""
             }
            },
            "type": "scatterternary"
           }
          ],
          "surface": [
           {
            "colorbar": {
             "outlinewidth": 0,
             "ticks": ""
            },
            "colorscale": [
             [
              0,
              "#0d0887"
             ],
             [
              0.1111111111111111,
              "#46039f"
             ],
             [
              0.2222222222222222,
              "#7201a8"
             ],
             [
              0.3333333333333333,
              "#9c179e"
             ],
             [
              0.4444444444444444,
              "#bd3786"
             ],
             [
              0.5555555555555556,
              "#d8576b"
             ],
             [
              0.6666666666666666,
              "#ed7953"
             ],
             [
              0.7777777777777778,
              "#fb9f3a"
             ],
             [
              0.8888888888888888,
              "#fdca26"
             ],
             [
              1,
              "#f0f921"
             ]
            ],
            "type": "surface"
           }
          ],
          "table": [
           {
            "cells": {
             "fill": {
              "color": "#EBF0F8"
             },
             "line": {
              "color": "white"
             }
            },
            "header": {
             "fill": {
              "color": "#C8D4E3"
             },
             "line": {
              "color": "white"
             }
            },
            "type": "table"
           }
          ]
         },
         "layout": {
          "annotationdefaults": {
           "arrowcolor": "#2a3f5f",
           "arrowhead": 0,
           "arrowwidth": 1
          },
          "autotypenumbers": "strict",
          "coloraxis": {
           "colorbar": {
            "outlinewidth": 0,
            "ticks": ""
           }
          },
          "colorscale": {
           "diverging": [
            [
             0,
             "#8e0152"
            ],
            [
             0.1,
             "#c51b7d"
            ],
            [
             0.2,
             "#de77ae"
            ],
            [
             0.3,
             "#f1b6da"
            ],
            [
             0.4,
             "#fde0ef"
            ],
            [
             0.5,
             "#f7f7f7"
            ],
            [
             0.6,
             "#e6f5d0"
            ],
            [
             0.7,
             "#b8e186"
            ],
            [
             0.8,
             "#7fbc41"
            ],
            [
             0.9,
             "#4d9221"
            ],
            [
             1,
             "#276419"
            ]
           ],
           "sequential": [
            [
             0,
             "#0d0887"
            ],
            [
             0.1111111111111111,
             "#46039f"
            ],
            [
             0.2222222222222222,
             "#7201a8"
            ],
            [
             0.3333333333333333,
             "#9c179e"
            ],
            [
             0.4444444444444444,
             "#bd3786"
            ],
            [
             0.5555555555555556,
             "#d8576b"
            ],
            [
             0.6666666666666666,
             "#ed7953"
            ],
            [
             0.7777777777777778,
             "#fb9f3a"
            ],
            [
             0.8888888888888888,
             "#fdca26"
            ],
            [
             1,
             "#f0f921"
            ]
           ],
           "sequentialminus": [
            [
             0,
             "#0d0887"
            ],
            [
             0.1111111111111111,
             "#46039f"
            ],
            [
             0.2222222222222222,
             "#7201a8"
            ],
            [
             0.3333333333333333,
             "#9c179e"
            ],
            [
             0.4444444444444444,
             "#bd3786"
            ],
            [
             0.5555555555555556,
             "#d8576b"
            ],
            [
             0.6666666666666666,
             "#ed7953"
            ],
            [
             0.7777777777777778,
             "#fb9f3a"
            ],
            [
             0.8888888888888888,
             "#fdca26"
            ],
            [
             1,
             "#f0f921"
            ]
           ]
          },
          "colorway": [
           "#636efa",
           "#EF553B",
           "#00cc96",
           "#ab63fa",
           "#FFA15A",
           "#19d3f3",
           "#FF6692",
           "#B6E880",
           "#FF97FF",
           "#FECB52"
          ],
          "font": {
           "color": "#2a3f5f"
          },
          "geo": {
           "bgcolor": "white",
           "lakecolor": "white",
           "landcolor": "#E5ECF6",
           "showlakes": true,
           "showland": true,
           "subunitcolor": "white"
          },
          "hoverlabel": {
           "align": "left"
          },
          "hovermode": "closest",
          "mapbox": {
           "style": "light"
          },
          "paper_bgcolor": "white",
          "plot_bgcolor": "#E5ECF6",
          "polar": {
           "angularaxis": {
            "gridcolor": "white",
            "linecolor": "white",
            "ticks": ""
           },
           "bgcolor": "#E5ECF6",
           "radialaxis": {
            "gridcolor": "white",
            "linecolor": "white",
            "ticks": ""
           }
          },
          "scene": {
           "xaxis": {
            "backgroundcolor": "#E5ECF6",
            "gridcolor": "white",
            "gridwidth": 2,
            "linecolor": "white",
            "showbackground": true,
            "ticks": "",
            "zerolinecolor": "white"
           },
           "yaxis": {
            "backgroundcolor": "#E5ECF6",
            "gridcolor": "white",
            "gridwidth": 2,
            "linecolor": "white",
            "showbackground": true,
            "ticks": "",
            "zerolinecolor": "white"
           },
           "zaxis": {
            "backgroundcolor": "#E5ECF6",
            "gridcolor": "white",
            "gridwidth": 2,
            "linecolor": "white",
            "showbackground": true,
            "ticks": "",
            "zerolinecolor": "white"
           }
          },
          "shapedefaults": {
           "line": {
            "color": "#2a3f5f"
           }
          },
          "ternary": {
           "aaxis": {
            "gridcolor": "white",
            "linecolor": "white",
            "ticks": ""
           },
           "baxis": {
            "gridcolor": "white",
            "linecolor": "white",
            "ticks": ""
           },
           "bgcolor": "#E5ECF6",
           "caxis": {
            "gridcolor": "white",
            "linecolor": "white",
            "ticks": ""
           }
          },
          "title": {
           "x": 0.05
          },
          "xaxis": {
           "automargin": true,
           "gridcolor": "white",
           "linecolor": "white",
           "ticks": "",
           "title": {
            "standoff": 15
           },
           "zerolinecolor": "white",
           "zerolinewidth": 2
          },
          "yaxis": {
           "automargin": true,
           "gridcolor": "white",
           "linecolor": "white",
           "ticks": "",
           "title": {
            "standoff": 15
           },
           "zerolinecolor": "white",
           "zerolinewidth": 2
          }
         }
        },
        "title": {
         "text": "Average Energy Gas benefit across Neighborhoods"
        }
       }
      },
      "text/html": [
       "<div>                            <div id=\"67572bb2-5520-4330-9733-8b5fd8f061d6\" class=\"plotly-graph-div\" style=\"height:500px; width:100%;\"></div>            <script type=\"text/javascript\">                require([\"plotly\"], function(Plotly) {                    window.PLOTLYENV=window.PLOTLYENV || {};                                    if (document.getElementById(\"67572bb2-5520-4330-9733-8b5fd8f061d6\")) {                    Plotly.newPlot(                        \"67572bb2-5520-4330-9733-8b5fd8f061d6\",                        [{\"coloraxis\":\"coloraxis\",\"featureidkey\":\"properties.name\",\"geo\":\"geo\",\"geojson\":\"https://raw.githubusercontent.com/blackmad/neighborhoods/master/gn-pittsburgh.geojson\",\"hovertemplate\":\"neighborhood=%{location}<br>energy_benefits_gas_dollar_value=%{z}<extra></extra>\",\"locations\":[\"Allegheny Center\",\"Allegheny West\",\"Allentown\",\"Arlington\",\"Arlington Heights\",\"Banksville\",\"Bedford Dwellings\",\"Beechview\",\"Beltzhoover\",\"Bloomfield\",\"Bluff\",\"Bon Air\",\"Brighton Heights\",\"Brookline\",\"California-Kirkbride\",\"Carrick\",\"Central Business District\",\"Central Lawrenceville\",\"Central Northside\",\"Central Oakland\",\"Chartiers City\",\"Chateau\",\"Crafton Heights\",\"Crawford-Roberts\",\"Duquesne Heights\",\"East Allegheny\",\"East Carnegie\",\"East Hills\",\"East Liberty\",\"Elliott\",\"Esplen\",\"Fairywood\",\"Fineview\",\"Friendship\",\"Garfield\",\"Glen Hazel\",\"Greenfield\",\"Hays\",\"Hazelwood\",\"Highland Park\",\"Homewood North\",\"Homewood South\",\"Homewood West\",\"Knoxville\",\"Larimer\",\"Lincoln Place\",\"Lincoln-Lemington-Belmar\",\"Lower Lawrenceville\",\"Manchester\",\"Marshall-Shadeland\",\"Middle Hill\",\"Morningside\",\"Mount Washington\",\"Mt. Oliver\",\"New Homestead\",\"North Oakland\",\"North Shore\",\"Northview Heights\",\"Oakwood\",\"Overbrook\",\"Perry North\",\"Perry South\",\"Point Breeze\",\"Point Breeze North\",\"Polish Hill\",\"Regent Square\",\"Ridgemont\",\"Shadyside\",\"Sheraden\",\"South Oakland\",\"South Shore\",\"South Side Flats\",\"South Side Slopes\",\"Spring Garden\",\"Spring Hill-City View\",\"Squirrel Hill North\",\"Squirrel Hill South\",\"St. Clair\",\"Stanton Heights\",\"Strip District\",\"Summer Hill\",\"Swisshelm Park\",\"Terrace Village\",\"Troy Hill\",\"Upper Hill\",\"Upper Lawrenceville\",\"West End\",\"West Oakland\",\"Westwood\",\"Windgap\"],\"name\":\"\",\"type\":\"choropleth\",\"z\":[359.9362221404878,190.0938033554614,12.147347158620462,6.510846796084487,3.8279163853591363,29.335521576314328,30.70547050587975,20.572198780388998,16.09713540158565,72.26790987949776,19.171176134268443,13.997393320758915,43.64811186941532,22.698542959154086,20.822654915607114,21.958381547056863,51.27426564900269,17.900428425020547,92.1218777995395,83.62296680018729,18.67856528987217,26.05259890112446,25.85102207362944,62.69973845186582,5.535352155249039,58.77652998097032,0.714532290810414,58.5452917877115,78.98969740488025,15.910090899784194,0.46245495790609414,3.084427345126264,23.622593095691816,112.25556472360083,48.4840308340634,0.2271396203266063,45.48499925977281,0.05258728570500711,17.548201463252287,180.97879368707387,40.243982082102605,43.058486236155815,16.88286781725518,80.70264540936014,31.186128438852258,16.721379602400035,137.90123653998137,35.01166308647811,95.08473897923598,103.4555939094051,33.52908647208044,46.866852969550735,31.16122668322431,5.196647372902033,17.360606265020937,78.67203043388946,57.616195584037975,1.566672553212475,25.57458767079642,17.42248345196917,58.96359598663057,22.671136812199126,88.26997368264355,106.69377041362624,25.382810920031506,161.49868752529804,4.777440733190155,89.36402055170207,21.617458080285854,14.867663624573066,0.10881232030748672,50.472984868822195,10.027004026390374,7.2701281674971945,7.759568985256917,135.08440719794532,133.72493654403377,3.088547761284592,72.92200508760216,18.613808662001947,10.562766079325945,33.87677995832936,27.255710450629856,7.676770541898785,26.58568340419333,36.169639764757854,16.91257907486066,9.490513184941314,23.6853758239579,17.650927660996672]}],                        {\"coloraxis\":{\"colorbar\":{\"title\":{\"text\":\"energy_benefits_gas_dollar_value\"}},\"colorscale\":[[0.0,\"rgb(247,252,245)\"],[0.125,\"rgb(229,245,224)\"],[0.25,\"rgb(199,233,192)\"],[0.375,\"rgb(161,217,155)\"],[0.5,\"rgb(116,196,118)\"],[0.625,\"rgb(65,171,93)\"],[0.75,\"rgb(35,139,69)\"],[0.875,\"rgb(0,109,44)\"],[1.0,\"rgb(0,68,27)\"]]},\"geo\":{\"center\":{},\"domain\":{\"x\":[0.0,1.0],\"y\":[0.0,1.0]},\"fitbounds\":\"locations\",\"visible\":false},\"height\":500,\"legend\":{\"tracegroupgap\":0},\"template\":{\"data\":{\"bar\":[{\"error_x\":{\"color\":\"#2a3f5f\"},\"error_y\":{\"color\":\"#2a3f5f\"},\"marker\":{\"line\":{\"color\":\"#E5ECF6\",\"width\":0.5},\"pattern\":{\"fillmode\":\"overlay\",\"size\":10,\"solidity\":0.2}},\"type\":\"bar\"}],\"barpolar\":[{\"marker\":{\"line\":{\"color\":\"#E5ECF6\",\"width\":0.5},\"pattern\":{\"fillmode\":\"overlay\",\"size\":10,\"solidity\":0.2}},\"type\":\"barpolar\"}],\"carpet\":[{\"aaxis\":{\"endlinecolor\":\"#2a3f5f\",\"gridcolor\":\"white\",\"linecolor\":\"white\",\"minorgridcolor\":\"white\",\"startlinecolor\":\"#2a3f5f\"},\"baxis\":{\"endlinecolor\":\"#2a3f5f\",\"gridcolor\":\"white\",\"linecolor\":\"white\",\"minorgridcolor\":\"white\",\"startlinecolor\":\"#2a3f5f\"},\"type\":\"carpet\"}],\"choropleth\":[{\"colorbar\":{\"outlinewidth\":0,\"ticks\":\"\"},\"type\":\"choropleth\"}],\"contour\":[{\"colorbar\":{\"outlinewidth\":0,\"ticks\":\"\"},\"colorscale\":[[0.0,\"#0d0887\"],[0.1111111111111111,\"#46039f\"],[0.2222222222222222,\"#7201a8\"],[0.3333333333333333,\"#9c179e\"],[0.4444444444444444,\"#bd3786\"],[0.5555555555555556,\"#d8576b\"],[0.6666666666666666,\"#ed7953\"],[0.7777777777777778,\"#fb9f3a\"],[0.8888888888888888,\"#fdca26\"],[1.0,\"#f0f921\"]],\"type\":\"contour\"}],\"contourcarpet\":[{\"colorbar\":{\"outlinewidth\":0,\"ticks\":\"\"},\"type\":\"contourcarpet\"}],\"heatmap\":[{\"colorbar\":{\"outlinewidth\":0,\"ticks\":\"\"},\"colorscale\":[[0.0,\"#0d0887\"],[0.1111111111111111,\"#46039f\"],[0.2222222222222222,\"#7201a8\"],[0.3333333333333333,\"#9c179e\"],[0.4444444444444444,\"#bd3786\"],[0.5555555555555556,\"#d8576b\"],[0.6666666666666666,\"#ed7953\"],[0.7777777777777778,\"#fb9f3a\"],[0.8888888888888888,\"#fdca26\"],[1.0,\"#f0f921\"]],\"type\":\"heatmap\"}],\"heatmapgl\":[{\"colorbar\":{\"outlinewidth\":0,\"ticks\":\"\"},\"colorscale\":[[0.0,\"#0d0887\"],[0.1111111111111111,\"#46039f\"],[0.2222222222222222,\"#7201a8\"],[0.3333333333333333,\"#9c179e\"],[0.4444444444444444,\"#bd3786\"],[0.5555555555555556,\"#d8576b\"],[0.6666666666666666,\"#ed7953\"],[0.7777777777777778,\"#fb9f3a\"],[0.8888888888888888,\"#fdca26\"],[1.0,\"#f0f921\"]],\"type\":\"heatmapgl\"}],\"histogram\":[{\"marker\":{\"pattern\":{\"fillmode\":\"overlay\",\"size\":10,\"solidity\":0.2}},\"type\":\"histogram\"}],\"histogram2d\":[{\"colorbar\":{\"outlinewidth\":0,\"ticks\":\"\"},\"colorscale\":[[0.0,\"#0d0887\"],[0.1111111111111111,\"#46039f\"],[0.2222222222222222,\"#7201a8\"],[0.3333333333333333,\"#9c179e\"],[0.4444444444444444,\"#bd3786\"],[0.5555555555555556,\"#d8576b\"],[0.6666666666666666,\"#ed7953\"],[0.7777777777777778,\"#fb9f3a\"],[0.8888888888888888,\"#fdca26\"],[1.0,\"#f0f921\"]],\"type\":\"histogram2d\"}],\"histogram2dcontour\":[{\"colorbar\":{\"outlinewidth\":0,\"ticks\":\"\"},\"colorscale\":[[0.0,\"#0d0887\"],[0.1111111111111111,\"#46039f\"],[0.2222222222222222,\"#7201a8\"],[0.3333333333333333,\"#9c179e\"],[0.4444444444444444,\"#bd3786\"],[0.5555555555555556,\"#d8576b\"],[0.6666666666666666,\"#ed7953\"],[0.7777777777777778,\"#fb9f3a\"],[0.8888888888888888,\"#fdca26\"],[1.0,\"#f0f921\"]],\"type\":\"histogram2dcontour\"}],\"mesh3d\":[{\"colorbar\":{\"outlinewidth\":0,\"ticks\":\"\"},\"type\":\"mesh3d\"}],\"parcoords\":[{\"line\":{\"colorbar\":{\"outlinewidth\":0,\"ticks\":\"\"}},\"type\":\"parcoords\"}],\"pie\":[{\"automargin\":true,\"type\":\"pie\"}],\"scatter\":[{\"marker\":{\"colorbar\":{\"outlinewidth\":0,\"ticks\":\"\"}},\"type\":\"scatter\"}],\"scatter3d\":[{\"line\":{\"colorbar\":{\"outlinewidth\":0,\"ticks\":\"\"}},\"marker\":{\"colorbar\":{\"outlinewidth\":0,\"ticks\":\"\"}},\"type\":\"scatter3d\"}],\"scattercarpet\":[{\"marker\":{\"colorbar\":{\"outlinewidth\":0,\"ticks\":\"\"}},\"type\":\"scattercarpet\"}],\"scattergeo\":[{\"marker\":{\"colorbar\":{\"outlinewidth\":0,\"ticks\":\"\"}},\"type\":\"scattergeo\"}],\"scattergl\":[{\"marker\":{\"colorbar\":{\"outlinewidth\":0,\"ticks\":\"\"}},\"type\":\"scattergl\"}],\"scattermapbox\":[{\"marker\":{\"colorbar\":{\"outlinewidth\":0,\"ticks\":\"\"}},\"type\":\"scattermapbox\"}],\"scatterpolar\":[{\"marker\":{\"colorbar\":{\"outlinewidth\":0,\"ticks\":\"\"}},\"type\":\"scatterpolar\"}],\"scatterpolargl\":[{\"marker\":{\"colorbar\":{\"outlinewidth\":0,\"ticks\":\"\"}},\"type\":\"scatterpolargl\"}],\"scatterternary\":[{\"marker\":{\"colorbar\":{\"outlinewidth\":0,\"ticks\":\"\"}},\"type\":\"scatterternary\"}],\"surface\":[{\"colorbar\":{\"outlinewidth\":0,\"ticks\":\"\"},\"colorscale\":[[0.0,\"#0d0887\"],[0.1111111111111111,\"#46039f\"],[0.2222222222222222,\"#7201a8\"],[0.3333333333333333,\"#9c179e\"],[0.4444444444444444,\"#bd3786\"],[0.5555555555555556,\"#d8576b\"],[0.6666666666666666,\"#ed7953\"],[0.7777777777777778,\"#fb9f3a\"],[0.8888888888888888,\"#fdca26\"],[1.0,\"#f0f921\"]],\"type\":\"surface\"}],\"table\":[{\"cells\":{\"fill\":{\"color\":\"#EBF0F8\"},\"line\":{\"color\":\"white\"}},\"header\":{\"fill\":{\"color\":\"#C8D4E3\"},\"line\":{\"color\":\"white\"}},\"type\":\"table\"}]},\"layout\":{\"annotationdefaults\":{\"arrowcolor\":\"#2a3f5f\",\"arrowhead\":0,\"arrowwidth\":1},\"autotypenumbers\":\"strict\",\"coloraxis\":{\"colorbar\":{\"outlinewidth\":0,\"ticks\":\"\"}},\"colorscale\":{\"diverging\":[[0,\"#8e0152\"],[0.1,\"#c51b7d\"],[0.2,\"#de77ae\"],[0.3,\"#f1b6da\"],[0.4,\"#fde0ef\"],[0.5,\"#f7f7f7\"],[0.6,\"#e6f5d0\"],[0.7,\"#b8e186\"],[0.8,\"#7fbc41\"],[0.9,\"#4d9221\"],[1,\"#276419\"]],\"sequential\":[[0.0,\"#0d0887\"],[0.1111111111111111,\"#46039f\"],[0.2222222222222222,\"#7201a8\"],[0.3333333333333333,\"#9c179e\"],[0.4444444444444444,\"#bd3786\"],[0.5555555555555556,\"#d8576b\"],[0.6666666666666666,\"#ed7953\"],[0.7777777777777778,\"#fb9f3a\"],[0.8888888888888888,\"#fdca26\"],[1.0,\"#f0f921\"]],\"sequentialminus\":[[0.0,\"#0d0887\"],[0.1111111111111111,\"#46039f\"],[0.2222222222222222,\"#7201a8\"],[0.3333333333333333,\"#9c179e\"],[0.4444444444444444,\"#bd3786\"],[0.5555555555555556,\"#d8576b\"],[0.6666666666666666,\"#ed7953\"],[0.7777777777777778,\"#fb9f3a\"],[0.8888888888888888,\"#fdca26\"],[1.0,\"#f0f921\"]]},\"colorway\":[\"#636efa\",\"#EF553B\",\"#00cc96\",\"#ab63fa\",\"#FFA15A\",\"#19d3f3\",\"#FF6692\",\"#B6E880\",\"#FF97FF\",\"#FECB52\"],\"font\":{\"color\":\"#2a3f5f\"},\"geo\":{\"bgcolor\":\"white\",\"lakecolor\":\"white\",\"landcolor\":\"#E5ECF6\",\"showlakes\":true,\"showland\":true,\"subunitcolor\":\"white\"},\"hoverlabel\":{\"align\":\"left\"},\"hovermode\":\"closest\",\"mapbox\":{\"style\":\"light\"},\"paper_bgcolor\":\"white\",\"plot_bgcolor\":\"#E5ECF6\",\"polar\":{\"angularaxis\":{\"gridcolor\":\"white\",\"linecolor\":\"white\",\"ticks\":\"\"},\"bgcolor\":\"#E5ECF6\",\"radialaxis\":{\"gridcolor\":\"white\",\"linecolor\":\"white\",\"ticks\":\"\"}},\"scene\":{\"xaxis\":{\"backgroundcolor\":\"#E5ECF6\",\"gridcolor\":\"white\",\"gridwidth\":2,\"linecolor\":\"white\",\"showbackground\":true,\"ticks\":\"\",\"zerolinecolor\":\"white\"},\"yaxis\":{\"backgroundcolor\":\"#E5ECF6\",\"gridcolor\":\"white\",\"gridwidth\":2,\"linecolor\":\"white\",\"showbackground\":true,\"ticks\":\"\",\"zerolinecolor\":\"white\"},\"zaxis\":{\"backgroundcolor\":\"#E5ECF6\",\"gridcolor\":\"white\",\"gridwidth\":2,\"linecolor\":\"white\",\"showbackground\":true,\"ticks\":\"\",\"zerolinecolor\":\"white\"}},\"shapedefaults\":{\"line\":{\"color\":\"#2a3f5f\"}},\"ternary\":{\"aaxis\":{\"gridcolor\":\"white\",\"linecolor\":\"white\",\"ticks\":\"\"},\"baxis\":{\"gridcolor\":\"white\",\"linecolor\":\"white\",\"ticks\":\"\"},\"bgcolor\":\"#E5ECF6\",\"caxis\":{\"gridcolor\":\"white\",\"linecolor\":\"white\",\"ticks\":\"\"}},\"title\":{\"x\":0.05},\"xaxis\":{\"automargin\":true,\"gridcolor\":\"white\",\"linecolor\":\"white\",\"ticks\":\"\",\"title\":{\"standoff\":15},\"zerolinecolor\":\"white\",\"zerolinewidth\":2},\"yaxis\":{\"automargin\":true,\"gridcolor\":\"white\",\"linecolor\":\"white\",\"ticks\":\"\",\"title\":{\"standoff\":15},\"zerolinecolor\":\"white\",\"zerolinewidth\":2}}},\"title\":{\"text\":\"Average Energy Gas benefit across Neighborhoods\"}},                        {\"responsive\": true}                    ).then(function(){\n",
       "                            \n",
       "var gd = document.getElementById('67572bb2-5520-4330-9733-8b5fd8f061d6');\n",
       "var x = new MutationObserver(function (mutations, observer) {{\n",
       "        var display = window.getComputedStyle(gd).display;\n",
       "        if (!display || display === 'none') {{\n",
       "            console.log([gd, 'removed!']);\n",
       "            Plotly.purge(gd);\n",
       "            observer.disconnect();\n",
       "        }}\n",
       "}});\n",
       "\n",
       "// Listen for the removal of the full notebook cells\n",
       "var notebookContainer = gd.closest('#notebook-container');\n",
       "if (notebookContainer) {{\n",
       "    x.observe(notebookContainer, {childList: true});\n",
       "}}\n",
       "\n",
       "// Listen for the clearing of the current output cell\n",
       "var outputEl = gd.closest('.output');\n",
       "if (outputEl) {{\n",
       "    x.observe(outputEl, {childList: true});\n",
       "}}\n",
       "\n",
       "                        })                };                });            </script>        </div>"
      ]
     },
     "metadata": {},
     "output_type": "display_data"
    }
   ],
   "source": [
    "fig=px.choropleth(energy_gas_benefit_map,\n",
    "             geojson=\"https://raw.githubusercontent.com/blackmad/neighborhoods/master/gn-pittsburgh.geojson\",\n",
    "             featureidkey='properties.name',   \n",
    "             locations='neighborhood',        #column in dataframe\n",
    "             color='energy_benefits_gas_dollar_value',\n",
    "              color_continuous_scale='greens',\n",
    "               title='Average Energy Gas benefit across Neighborhoods' ,  \n",
    "               height=500\n",
    "              )\n",
    "fig.update_geos(fitbounds=\"locations\", visible=False)\n",
    "fig.show()"
   ]
  },
  {
   "cell_type": "markdown",
   "id": "61be8b23",
   "metadata": {},
   "source": [
    "**Top 5 neighborhoods with highest energy (gas) benefits**"
   ]
  },
  {
   "cell_type": "code",
   "execution_count": 464,
   "id": "05897a72",
   "metadata": {},
   "outputs": [
    {
     "data": {
      "text/html": [
       "<div>\n",
       "<style scoped>\n",
       "    .dataframe tbody tr th:only-of-type {\n",
       "        vertical-align: middle;\n",
       "    }\n",
       "\n",
       "    .dataframe tbody tr th {\n",
       "        vertical-align: top;\n",
       "    }\n",
       "\n",
       "    .dataframe thead th {\n",
       "        text-align: right;\n",
       "    }\n",
       "</style>\n",
       "<table border=\"1\" class=\"dataframe\">\n",
       "  <thead>\n",
       "    <tr style=\"text-align: right;\">\n",
       "      <th></th>\n",
       "      <th>neighborhood</th>\n",
       "      <th>energy_benefits_gas_dollar_value</th>\n",
       "    </tr>\n",
       "  </thead>\n",
       "  <tbody>\n",
       "    <tr>\n",
       "      <th>0</th>\n",
       "      <td>Allegheny Center</td>\n",
       "      <td>359.936222</td>\n",
       "    </tr>\n",
       "    <tr>\n",
       "      <th>1</th>\n",
       "      <td>Allegheny West</td>\n",
       "      <td>190.093803</td>\n",
       "    </tr>\n",
       "    <tr>\n",
       "      <th>39</th>\n",
       "      <td>Highland Park</td>\n",
       "      <td>180.978794</td>\n",
       "    </tr>\n",
       "    <tr>\n",
       "      <th>65</th>\n",
       "      <td>Regent Square</td>\n",
       "      <td>161.498688</td>\n",
       "    </tr>\n",
       "    <tr>\n",
       "      <th>46</th>\n",
       "      <td>Lincoln-Lemington-Belmar</td>\n",
       "      <td>137.901237</td>\n",
       "    </tr>\n",
       "  </tbody>\n",
       "</table>\n",
       "</div>"
      ],
      "text/plain": [
       "                neighborhood  energy_benefits_gas_dollar_value\n",
       "0           Allegheny Center                        359.936222\n",
       "1             Allegheny West                        190.093803\n",
       "39             Highland Park                        180.978794\n",
       "65             Regent Square                        161.498688\n",
       "46  Lincoln-Lemington-Belmar                        137.901237"
      ]
     },
     "execution_count": 464,
     "metadata": {},
     "output_type": "execute_result"
    }
   ],
   "source": [
    "energy_gas_benefit_map.sort_values('energy_benefits_gas_dollar_value', ascending=False).head(5)"
   ]
  },
  {
   "cell_type": "markdown",
   "id": "497ae5cb",
   "metadata": {},
   "source": [
    "**Inference:\n",
    "3 of the top 5 neighborhoods with the highest energy (gas) benefits are also in the top 5 neighborhoods with highest tree density. This exhibhits a clear positive correlation between the two**"
   ]
  },
  {
   "cell_type": "markdown",
   "id": "41d02d4f",
   "metadata": {},
   "source": [
    "# Plot neighborhood level tree CO2 benefits data"
   ]
  },
  {
   "cell_type": "code",
   "execution_count": 465,
   "id": "ebb49282",
   "metadata": {},
   "outputs": [],
   "source": [
    "co2_benefit_map = combined_data[['neighborhood', 'co2_benefits_dollar_value']].copy()\n"
   ]
  },
  {
   "cell_type": "code",
   "execution_count": 466,
   "id": "afe2bbeb",
   "metadata": {},
   "outputs": [
    {
     "data": {
      "application/vnd.plotly.v1+json": {
       "config": {
        "plotlyServerURL": "https://plot.ly"
       },
       "data": [
        {
         "coloraxis": "coloraxis",
         "featureidkey": "properties.name",
         "geo": "geo",
         "geojson": "https://raw.githubusercontent.com/blackmad/neighborhoods/master/gn-pittsburgh.geojson",
         "hovertemplate": "neighborhood=%{location}<br>co2_benefits_dollar_value=%{z}<extra></extra>",
         "locations": [
          "Allegheny Center",
          "Allegheny West",
          "Allentown",
          "Arlington",
          "Arlington Heights",
          "Banksville",
          "Bedford Dwellings",
          "Beechview",
          "Beltzhoover",
          "Bloomfield",
          "Bluff",
          "Bon Air",
          "Brighton Heights",
          "Brookline",
          "California-Kirkbride",
          "Carrick",
          "Central Business District",
          "Central Lawrenceville",
          "Central Northside",
          "Central Oakland",
          "Chartiers City",
          "Chateau",
          "Crafton Heights",
          "Crawford-Roberts",
          "Duquesne Heights",
          "East Allegheny",
          "East Carnegie",
          "East Hills",
          "East Liberty",
          "Elliott",
          "Esplen",
          "Fairywood",
          "Fineview",
          "Friendship",
          "Garfield",
          "Glen Hazel",
          "Greenfield",
          "Hays",
          "Hazelwood",
          "Highland Park",
          "Homewood North",
          "Homewood South",
          "Homewood West",
          "Knoxville",
          "Larimer",
          "Lincoln Place",
          "Lincoln-Lemington-Belmar",
          "Lower Lawrenceville",
          "Manchester",
          "Marshall-Shadeland",
          "Middle Hill",
          "Morningside",
          "Mount Washington",
          "Mt. Oliver",
          "New Homestead",
          "North Oakland",
          "North Shore",
          "Northview Heights",
          "Oakwood",
          "Overbrook",
          "Perry North",
          "Perry South",
          "Point Breeze",
          "Point Breeze North",
          "Polish Hill",
          "Regent Square",
          "Ridgemont",
          "Shadyside",
          "Sheraden",
          "South Oakland",
          "South Shore",
          "South Side Flats",
          "South Side Slopes",
          "Spring Garden",
          "Spring Hill-City View",
          "Squirrel Hill North",
          "Squirrel Hill South",
          "St. Clair",
          "Stanton Heights",
          "Strip District",
          "Summer Hill",
          "Swisshelm Park",
          "Terrace Village",
          "Troy Hill",
          "Upper Hill",
          "Upper Lawrenceville",
          "West End",
          "West Oakland",
          "Westwood",
          "Windgap"
         ],
         "name": "",
         "type": "choropleth",
         "z": [
          10.172133758761088,
          5.3289174476534695,
          0.2808782260702854,
          0.12647030845559595,
          0.05247910572411103,
          0.7750412272358338,
          0.6732392908433658,
          0.5058953439343048,
          0.34151114070497113,
          1.75910017985866,
          0.37929800512818507,
          0.409146812982843,
          1.0046075227138176,
          0.5822637721022983,
          0.40014566256990525,
          0.5351594448879264,
          1.0717854036773886,
          0.3738747850239205,
          2.041892505433793,
          1.9221608749014978,
          0.6439772202097731,
          0.5492809647332962,
          0.639924760974643,
          1.8239127382696714,
          0.13699087554688227,
          1.55922073874459,
          0.013937180587599636,
          1.2500254843073748,
          1.6758054840611216,
          0.38803011539433896,
          0.007348711512996773,
          0.07573287564598326,
          0.44459970679318234,
          2.8798377363845526,
          1.1749476084065367,
          0.0012058197900094475,
          1.1089555369922737,
          0.00011716735116546034,
          0.39384373793347777,
          4.885688343711779,
          0.7712615857959327,
          0.8953717636266202,
          0.4129831877095338,
          2.345971621430502,
          0.7101149972009757,
          0.3989179654481017,
          2.6697625459724605,
          0.9822870541634168,
          1.885616067543567,
          2.661359613001274,
          0.6710181034151499,
          1.124999719624452,
          0.7696533721783182,
          0.12724730997476824,
          0.46935306546061056,
          1.927843102244509,
          1.1770297435673542,
          0.02572732703617321,
          0.5037069099076588,
          0.43609516932917447,
          1.394263660674357,
          0.5342949275571982,
          2.4348114527740683,
          2.6353160534939346,
          0.6141728873038615,
          4.0915951988384505,
          0.0834948653398614,
          2.1837008165254574,
          0.5064342631651362,
          0.33005017458596253,
          0.002015418233140726,
          1.1708456493561004,
          0.23001929266439053,
          0.14499146847568128,
          0.15236849108683947,
          3.7997251878891256,
          3.4269202466818993,
          0.06279162526184912,
          1.9759640985205624,
          0.39274596695099206,
          0.2998206236234393,
          1.113393524443721,
          0.5126710345926638,
          0.12960213048632943,
          0.5441042796596548,
          0.9567868994410693,
          0.48665592872836655,
          0.18308775786156298,
          0.5940171039111345,
          0.41328741257420526
         ]
        }
       ],
       "layout": {
        "coloraxis": {
         "colorbar": {
          "title": {
           "text": "co2_benefits_dollar_value"
          }
         },
         "colorscale": [
          [
           0,
           "rgb(247,252,245)"
          ],
          [
           0.125,
           "rgb(229,245,224)"
          ],
          [
           0.25,
           "rgb(199,233,192)"
          ],
          [
           0.375,
           "rgb(161,217,155)"
          ],
          [
           0.5,
           "rgb(116,196,118)"
          ],
          [
           0.625,
           "rgb(65,171,93)"
          ],
          [
           0.75,
           "rgb(35,139,69)"
          ],
          [
           0.875,
           "rgb(0,109,44)"
          ],
          [
           1,
           "rgb(0,68,27)"
          ]
         ]
        },
        "geo": {
         "center": {},
         "domain": {
          "x": [
           0,
           1
          ],
          "y": [
           0,
           1
          ]
         },
         "fitbounds": "locations",
         "visible": false
        },
        "height": 500,
        "legend": {
         "tracegroupgap": 0
        },
        "template": {
         "data": {
          "bar": [
           {
            "error_x": {
             "color": "#2a3f5f"
            },
            "error_y": {
             "color": "#2a3f5f"
            },
            "marker": {
             "line": {
              "color": "#E5ECF6",
              "width": 0.5
             },
             "pattern": {
              "fillmode": "overlay",
              "size": 10,
              "solidity": 0.2
             }
            },
            "type": "bar"
           }
          ],
          "barpolar": [
           {
            "marker": {
             "line": {
              "color": "#E5ECF6",
              "width": 0.5
             },
             "pattern": {
              "fillmode": "overlay",
              "size": 10,
              "solidity": 0.2
             }
            },
            "type": "barpolar"
           }
          ],
          "carpet": [
           {
            "aaxis": {
             "endlinecolor": "#2a3f5f",
             "gridcolor": "white",
             "linecolor": "white",
             "minorgridcolor": "white",
             "startlinecolor": "#2a3f5f"
            },
            "baxis": {
             "endlinecolor": "#2a3f5f",
             "gridcolor": "white",
             "linecolor": "white",
             "minorgridcolor": "white",
             "startlinecolor": "#2a3f5f"
            },
            "type": "carpet"
           }
          ],
          "choropleth": [
           {
            "colorbar": {
             "outlinewidth": 0,
             "ticks": ""
            },
            "type": "choropleth"
           }
          ],
          "contour": [
           {
            "colorbar": {
             "outlinewidth": 0,
             "ticks": ""
            },
            "colorscale": [
             [
              0,
              "#0d0887"
             ],
             [
              0.1111111111111111,
              "#46039f"
             ],
             [
              0.2222222222222222,
              "#7201a8"
             ],
             [
              0.3333333333333333,
              "#9c179e"
             ],
             [
              0.4444444444444444,
              "#bd3786"
             ],
             [
              0.5555555555555556,
              "#d8576b"
             ],
             [
              0.6666666666666666,
              "#ed7953"
             ],
             [
              0.7777777777777778,
              "#fb9f3a"
             ],
             [
              0.8888888888888888,
              "#fdca26"
             ],
             [
              1,
              "#f0f921"
             ]
            ],
            "type": "contour"
           }
          ],
          "contourcarpet": [
           {
            "colorbar": {
             "outlinewidth": 0,
             "ticks": ""
            },
            "type": "contourcarpet"
           }
          ],
          "heatmap": [
           {
            "colorbar": {
             "outlinewidth": 0,
             "ticks": ""
            },
            "colorscale": [
             [
              0,
              "#0d0887"
             ],
             [
              0.1111111111111111,
              "#46039f"
             ],
             [
              0.2222222222222222,
              "#7201a8"
             ],
             [
              0.3333333333333333,
              "#9c179e"
             ],
             [
              0.4444444444444444,
              "#bd3786"
             ],
             [
              0.5555555555555556,
              "#d8576b"
             ],
             [
              0.6666666666666666,
              "#ed7953"
             ],
             [
              0.7777777777777778,
              "#fb9f3a"
             ],
             [
              0.8888888888888888,
              "#fdca26"
             ],
             [
              1,
              "#f0f921"
             ]
            ],
            "type": "heatmap"
           }
          ],
          "heatmapgl": [
           {
            "colorbar": {
             "outlinewidth": 0,
             "ticks": ""
            },
            "colorscale": [
             [
              0,
              "#0d0887"
             ],
             [
              0.1111111111111111,
              "#46039f"
             ],
             [
              0.2222222222222222,
              "#7201a8"
             ],
             [
              0.3333333333333333,
              "#9c179e"
             ],
             [
              0.4444444444444444,
              "#bd3786"
             ],
             [
              0.5555555555555556,
              "#d8576b"
             ],
             [
              0.6666666666666666,
              "#ed7953"
             ],
             [
              0.7777777777777778,
              "#fb9f3a"
             ],
             [
              0.8888888888888888,
              "#fdca26"
             ],
             [
              1,
              "#f0f921"
             ]
            ],
            "type": "heatmapgl"
           }
          ],
          "histogram": [
           {
            "marker": {
             "pattern": {
              "fillmode": "overlay",
              "size": 10,
              "solidity": 0.2
             }
            },
            "type": "histogram"
           }
          ],
          "histogram2d": [
           {
            "colorbar": {
             "outlinewidth": 0,
             "ticks": ""
            },
            "colorscale": [
             [
              0,
              "#0d0887"
             ],
             [
              0.1111111111111111,
              "#46039f"
             ],
             [
              0.2222222222222222,
              "#7201a8"
             ],
             [
              0.3333333333333333,
              "#9c179e"
             ],
             [
              0.4444444444444444,
              "#bd3786"
             ],
             [
              0.5555555555555556,
              "#d8576b"
             ],
             [
              0.6666666666666666,
              "#ed7953"
             ],
             [
              0.7777777777777778,
              "#fb9f3a"
             ],
             [
              0.8888888888888888,
              "#fdca26"
             ],
             [
              1,
              "#f0f921"
             ]
            ],
            "type": "histogram2d"
           }
          ],
          "histogram2dcontour": [
           {
            "colorbar": {
             "outlinewidth": 0,
             "ticks": ""
            },
            "colorscale": [
             [
              0,
              "#0d0887"
             ],
             [
              0.1111111111111111,
              "#46039f"
             ],
             [
              0.2222222222222222,
              "#7201a8"
             ],
             [
              0.3333333333333333,
              "#9c179e"
             ],
             [
              0.4444444444444444,
              "#bd3786"
             ],
             [
              0.5555555555555556,
              "#d8576b"
             ],
             [
              0.6666666666666666,
              "#ed7953"
             ],
             [
              0.7777777777777778,
              "#fb9f3a"
             ],
             [
              0.8888888888888888,
              "#fdca26"
             ],
             [
              1,
              "#f0f921"
             ]
            ],
            "type": "histogram2dcontour"
           }
          ],
          "mesh3d": [
           {
            "colorbar": {
             "outlinewidth": 0,
             "ticks": ""
            },
            "type": "mesh3d"
           }
          ],
          "parcoords": [
           {
            "line": {
             "colorbar": {
              "outlinewidth": 0,
              "ticks": ""
             }
            },
            "type": "parcoords"
           }
          ],
          "pie": [
           {
            "automargin": true,
            "type": "pie"
           }
          ],
          "scatter": [
           {
            "marker": {
             "colorbar": {
              "outlinewidth": 0,
              "ticks": ""
             }
            },
            "type": "scatter"
           }
          ],
          "scatter3d": [
           {
            "line": {
             "colorbar": {
              "outlinewidth": 0,
              "ticks": ""
             }
            },
            "marker": {
             "colorbar": {
              "outlinewidth": 0,
              "ticks": ""
             }
            },
            "type": "scatter3d"
           }
          ],
          "scattercarpet": [
           {
            "marker": {
             "colorbar": {
              "outlinewidth": 0,
              "ticks": ""
             }
            },
            "type": "scattercarpet"
           }
          ],
          "scattergeo": [
           {
            "marker": {
             "colorbar": {
              "outlinewidth": 0,
              "ticks": ""
             }
            },
            "type": "scattergeo"
           }
          ],
          "scattergl": [
           {
            "marker": {
             "colorbar": {
              "outlinewidth": 0,
              "ticks": ""
             }
            },
            "type": "scattergl"
           }
          ],
          "scattermapbox": [
           {
            "marker": {
             "colorbar": {
              "outlinewidth": 0,
              "ticks": ""
             }
            },
            "type": "scattermapbox"
           }
          ],
          "scatterpolar": [
           {
            "marker": {
             "colorbar": {
              "outlinewidth": 0,
              "ticks": ""
             }
            },
            "type": "scatterpolar"
           }
          ],
          "scatterpolargl": [
           {
            "marker": {
             "colorbar": {
              "outlinewidth": 0,
              "ticks": ""
             }
            },
            "type": "scatterpolargl"
           }
          ],
          "scatterternary": [
           {
            "marker": {
             "colorbar": {
              "outlinewidth": 0,
              "ticks": ""
             }
            },
            "type": "scatterternary"
           }
          ],
          "surface": [
           {
            "colorbar": {
             "outlinewidth": 0,
             "ticks": ""
            },
            "colorscale": [
             [
              0,
              "#0d0887"
             ],
             [
              0.1111111111111111,
              "#46039f"
             ],
             [
              0.2222222222222222,
              "#7201a8"
             ],
             [
              0.3333333333333333,
              "#9c179e"
             ],
             [
              0.4444444444444444,
              "#bd3786"
             ],
             [
              0.5555555555555556,
              "#d8576b"
             ],
             [
              0.6666666666666666,
              "#ed7953"
             ],
             [
              0.7777777777777778,
              "#fb9f3a"
             ],
             [
              0.8888888888888888,
              "#fdca26"
             ],
             [
              1,
              "#f0f921"
             ]
            ],
            "type": "surface"
           }
          ],
          "table": [
           {
            "cells": {
             "fill": {
              "color": "#EBF0F8"
             },
             "line": {
              "color": "white"
             }
            },
            "header": {
             "fill": {
              "color": "#C8D4E3"
             },
             "line": {
              "color": "white"
             }
            },
            "type": "table"
           }
          ]
         },
         "layout": {
          "annotationdefaults": {
           "arrowcolor": "#2a3f5f",
           "arrowhead": 0,
           "arrowwidth": 1
          },
          "autotypenumbers": "strict",
          "coloraxis": {
           "colorbar": {
            "outlinewidth": 0,
            "ticks": ""
           }
          },
          "colorscale": {
           "diverging": [
            [
             0,
             "#8e0152"
            ],
            [
             0.1,
             "#c51b7d"
            ],
            [
             0.2,
             "#de77ae"
            ],
            [
             0.3,
             "#f1b6da"
            ],
            [
             0.4,
             "#fde0ef"
            ],
            [
             0.5,
             "#f7f7f7"
            ],
            [
             0.6,
             "#e6f5d0"
            ],
            [
             0.7,
             "#b8e186"
            ],
            [
             0.8,
             "#7fbc41"
            ],
            [
             0.9,
             "#4d9221"
            ],
            [
             1,
             "#276419"
            ]
           ],
           "sequential": [
            [
             0,
             "#0d0887"
            ],
            [
             0.1111111111111111,
             "#46039f"
            ],
            [
             0.2222222222222222,
             "#7201a8"
            ],
            [
             0.3333333333333333,
             "#9c179e"
            ],
            [
             0.4444444444444444,
             "#bd3786"
            ],
            [
             0.5555555555555556,
             "#d8576b"
            ],
            [
             0.6666666666666666,
             "#ed7953"
            ],
            [
             0.7777777777777778,
             "#fb9f3a"
            ],
            [
             0.8888888888888888,
             "#fdca26"
            ],
            [
             1,
             "#f0f921"
            ]
           ],
           "sequentialminus": [
            [
             0,
             "#0d0887"
            ],
            [
             0.1111111111111111,
             "#46039f"
            ],
            [
             0.2222222222222222,
             "#7201a8"
            ],
            [
             0.3333333333333333,
             "#9c179e"
            ],
            [
             0.4444444444444444,
             "#bd3786"
            ],
            [
             0.5555555555555556,
             "#d8576b"
            ],
            [
             0.6666666666666666,
             "#ed7953"
            ],
            [
             0.7777777777777778,
             "#fb9f3a"
            ],
            [
             0.8888888888888888,
             "#fdca26"
            ],
            [
             1,
             "#f0f921"
            ]
           ]
          },
          "colorway": [
           "#636efa",
           "#EF553B",
           "#00cc96",
           "#ab63fa",
           "#FFA15A",
           "#19d3f3",
           "#FF6692",
           "#B6E880",
           "#FF97FF",
           "#FECB52"
          ],
          "font": {
           "color": "#2a3f5f"
          },
          "geo": {
           "bgcolor": "white",
           "lakecolor": "white",
           "landcolor": "#E5ECF6",
           "showlakes": true,
           "showland": true,
           "subunitcolor": "white"
          },
          "hoverlabel": {
           "align": "left"
          },
          "hovermode": "closest",
          "mapbox": {
           "style": "light"
          },
          "paper_bgcolor": "white",
          "plot_bgcolor": "#E5ECF6",
          "polar": {
           "angularaxis": {
            "gridcolor": "white",
            "linecolor": "white",
            "ticks": ""
           },
           "bgcolor": "#E5ECF6",
           "radialaxis": {
            "gridcolor": "white",
            "linecolor": "white",
            "ticks": ""
           }
          },
          "scene": {
           "xaxis": {
            "backgroundcolor": "#E5ECF6",
            "gridcolor": "white",
            "gridwidth": 2,
            "linecolor": "white",
            "showbackground": true,
            "ticks": "",
            "zerolinecolor": "white"
           },
           "yaxis": {
            "backgroundcolor": "#E5ECF6",
            "gridcolor": "white",
            "gridwidth": 2,
            "linecolor": "white",
            "showbackground": true,
            "ticks": "",
            "zerolinecolor": "white"
           },
           "zaxis": {
            "backgroundcolor": "#E5ECF6",
            "gridcolor": "white",
            "gridwidth": 2,
            "linecolor": "white",
            "showbackground": true,
            "ticks": "",
            "zerolinecolor": "white"
           }
          },
          "shapedefaults": {
           "line": {
            "color": "#2a3f5f"
           }
          },
          "ternary": {
           "aaxis": {
            "gridcolor": "white",
            "linecolor": "white",
            "ticks": ""
           },
           "baxis": {
            "gridcolor": "white",
            "linecolor": "white",
            "ticks": ""
           },
           "bgcolor": "#E5ECF6",
           "caxis": {
            "gridcolor": "white",
            "linecolor": "white",
            "ticks": ""
           }
          },
          "title": {
           "x": 0.05
          },
          "xaxis": {
           "automargin": true,
           "gridcolor": "white",
           "linecolor": "white",
           "ticks": "",
           "title": {
            "standoff": 15
           },
           "zerolinecolor": "white",
           "zerolinewidth": 2
          },
          "yaxis": {
           "automargin": true,
           "gridcolor": "white",
           "linecolor": "white",
           "ticks": "",
           "title": {
            "standoff": 15
           },
           "zerolinecolor": "white",
           "zerolinewidth": 2
          }
         }
        },
        "title": {
         "text": "Average CO2 benefit across Neighborhoods"
        }
       }
      },
      "text/html": [
       "<div>                            <div id=\"206a4f77-0c9d-46d5-9c98-e5c0219bf22b\" class=\"plotly-graph-div\" style=\"height:500px; width:100%;\"></div>            <script type=\"text/javascript\">                require([\"plotly\"], function(Plotly) {                    window.PLOTLYENV=window.PLOTLYENV || {};                                    if (document.getElementById(\"206a4f77-0c9d-46d5-9c98-e5c0219bf22b\")) {                    Plotly.newPlot(                        \"206a4f77-0c9d-46d5-9c98-e5c0219bf22b\",                        [{\"coloraxis\":\"coloraxis\",\"featureidkey\":\"properties.name\",\"geo\":\"geo\",\"geojson\":\"https://raw.githubusercontent.com/blackmad/neighborhoods/master/gn-pittsburgh.geojson\",\"hovertemplate\":\"neighborhood=%{location}<br>co2_benefits_dollar_value=%{z}<extra></extra>\",\"locations\":[\"Allegheny Center\",\"Allegheny West\",\"Allentown\",\"Arlington\",\"Arlington Heights\",\"Banksville\",\"Bedford Dwellings\",\"Beechview\",\"Beltzhoover\",\"Bloomfield\",\"Bluff\",\"Bon Air\",\"Brighton Heights\",\"Brookline\",\"California-Kirkbride\",\"Carrick\",\"Central Business District\",\"Central Lawrenceville\",\"Central Northside\",\"Central Oakland\",\"Chartiers City\",\"Chateau\",\"Crafton Heights\",\"Crawford-Roberts\",\"Duquesne Heights\",\"East Allegheny\",\"East Carnegie\",\"East Hills\",\"East Liberty\",\"Elliott\",\"Esplen\",\"Fairywood\",\"Fineview\",\"Friendship\",\"Garfield\",\"Glen Hazel\",\"Greenfield\",\"Hays\",\"Hazelwood\",\"Highland Park\",\"Homewood North\",\"Homewood South\",\"Homewood West\",\"Knoxville\",\"Larimer\",\"Lincoln Place\",\"Lincoln-Lemington-Belmar\",\"Lower Lawrenceville\",\"Manchester\",\"Marshall-Shadeland\",\"Middle Hill\",\"Morningside\",\"Mount Washington\",\"Mt. Oliver\",\"New Homestead\",\"North Oakland\",\"North Shore\",\"Northview Heights\",\"Oakwood\",\"Overbrook\",\"Perry North\",\"Perry South\",\"Point Breeze\",\"Point Breeze North\",\"Polish Hill\",\"Regent Square\",\"Ridgemont\",\"Shadyside\",\"Sheraden\",\"South Oakland\",\"South Shore\",\"South Side Flats\",\"South Side Slopes\",\"Spring Garden\",\"Spring Hill-City View\",\"Squirrel Hill North\",\"Squirrel Hill South\",\"St. Clair\",\"Stanton Heights\",\"Strip District\",\"Summer Hill\",\"Swisshelm Park\",\"Terrace Village\",\"Troy Hill\",\"Upper Hill\",\"Upper Lawrenceville\",\"West End\",\"West Oakland\",\"Westwood\",\"Windgap\"],\"name\":\"\",\"type\":\"choropleth\",\"z\":[10.172133758761088,5.3289174476534695,0.2808782260702854,0.12647030845559595,0.05247910572411103,0.7750412272358338,0.6732392908433658,0.5058953439343048,0.34151114070497113,1.75910017985866,0.37929800512818507,0.409146812982843,1.0046075227138176,0.5822637721022983,0.40014566256990525,0.5351594448879264,1.0717854036773886,0.3738747850239205,2.041892505433793,1.9221608749014978,0.6439772202097731,0.5492809647332962,0.639924760974643,1.8239127382696714,0.13699087554688227,1.55922073874459,0.013937180587599636,1.2500254843073748,1.6758054840611216,0.38803011539433896,0.007348711512996773,0.07573287564598326,0.44459970679318234,2.8798377363845526,1.1749476084065367,0.0012058197900094475,1.1089555369922737,0.00011716735116546034,0.39384373793347777,4.885688343711779,0.7712615857959327,0.8953717636266202,0.4129831877095338,2.345971621430502,0.7101149972009757,0.3989179654481017,2.6697625459724605,0.9822870541634168,1.885616067543567,2.661359613001274,0.6710181034151499,1.124999719624452,0.7696533721783182,0.12724730997476824,0.46935306546061056,1.927843102244509,1.1770297435673542,0.02572732703617321,0.5037069099076588,0.43609516932917447,1.394263660674357,0.5342949275571982,2.4348114527740683,2.6353160534939346,0.6141728873038615,4.0915951988384505,0.0834948653398614,2.1837008165254574,0.5064342631651362,0.33005017458596253,0.002015418233140726,1.1708456493561004,0.23001929266439053,0.14499146847568128,0.15236849108683947,3.7997251878891256,3.4269202466818993,0.06279162526184912,1.9759640985205624,0.39274596695099206,0.2998206236234393,1.113393524443721,0.5126710345926638,0.12960213048632943,0.5441042796596548,0.9567868994410693,0.48665592872836655,0.18308775786156298,0.5940171039111345,0.41328741257420526]}],                        {\"coloraxis\":{\"colorbar\":{\"title\":{\"text\":\"co2_benefits_dollar_value\"}},\"colorscale\":[[0.0,\"rgb(247,252,245)\"],[0.125,\"rgb(229,245,224)\"],[0.25,\"rgb(199,233,192)\"],[0.375,\"rgb(161,217,155)\"],[0.5,\"rgb(116,196,118)\"],[0.625,\"rgb(65,171,93)\"],[0.75,\"rgb(35,139,69)\"],[0.875,\"rgb(0,109,44)\"],[1.0,\"rgb(0,68,27)\"]]},\"geo\":{\"center\":{},\"domain\":{\"x\":[0.0,1.0],\"y\":[0.0,1.0]},\"fitbounds\":\"locations\",\"visible\":false},\"height\":500,\"legend\":{\"tracegroupgap\":0},\"template\":{\"data\":{\"bar\":[{\"error_x\":{\"color\":\"#2a3f5f\"},\"error_y\":{\"color\":\"#2a3f5f\"},\"marker\":{\"line\":{\"color\":\"#E5ECF6\",\"width\":0.5},\"pattern\":{\"fillmode\":\"overlay\",\"size\":10,\"solidity\":0.2}},\"type\":\"bar\"}],\"barpolar\":[{\"marker\":{\"line\":{\"color\":\"#E5ECF6\",\"width\":0.5},\"pattern\":{\"fillmode\":\"overlay\",\"size\":10,\"solidity\":0.2}},\"type\":\"barpolar\"}],\"carpet\":[{\"aaxis\":{\"endlinecolor\":\"#2a3f5f\",\"gridcolor\":\"white\",\"linecolor\":\"white\",\"minorgridcolor\":\"white\",\"startlinecolor\":\"#2a3f5f\"},\"baxis\":{\"endlinecolor\":\"#2a3f5f\",\"gridcolor\":\"white\",\"linecolor\":\"white\",\"minorgridcolor\":\"white\",\"startlinecolor\":\"#2a3f5f\"},\"type\":\"carpet\"}],\"choropleth\":[{\"colorbar\":{\"outlinewidth\":0,\"ticks\":\"\"},\"type\":\"choropleth\"}],\"contour\":[{\"colorbar\":{\"outlinewidth\":0,\"ticks\":\"\"},\"colorscale\":[[0.0,\"#0d0887\"],[0.1111111111111111,\"#46039f\"],[0.2222222222222222,\"#7201a8\"],[0.3333333333333333,\"#9c179e\"],[0.4444444444444444,\"#bd3786\"],[0.5555555555555556,\"#d8576b\"],[0.6666666666666666,\"#ed7953\"],[0.7777777777777778,\"#fb9f3a\"],[0.8888888888888888,\"#fdca26\"],[1.0,\"#f0f921\"]],\"type\":\"contour\"}],\"contourcarpet\":[{\"colorbar\":{\"outlinewidth\":0,\"ticks\":\"\"},\"type\":\"contourcarpet\"}],\"heatmap\":[{\"colorbar\":{\"outlinewidth\":0,\"ticks\":\"\"},\"colorscale\":[[0.0,\"#0d0887\"],[0.1111111111111111,\"#46039f\"],[0.2222222222222222,\"#7201a8\"],[0.3333333333333333,\"#9c179e\"],[0.4444444444444444,\"#bd3786\"],[0.5555555555555556,\"#d8576b\"],[0.6666666666666666,\"#ed7953\"],[0.7777777777777778,\"#fb9f3a\"],[0.8888888888888888,\"#fdca26\"],[1.0,\"#f0f921\"]],\"type\":\"heatmap\"}],\"heatmapgl\":[{\"colorbar\":{\"outlinewidth\":0,\"ticks\":\"\"},\"colorscale\":[[0.0,\"#0d0887\"],[0.1111111111111111,\"#46039f\"],[0.2222222222222222,\"#7201a8\"],[0.3333333333333333,\"#9c179e\"],[0.4444444444444444,\"#bd3786\"],[0.5555555555555556,\"#d8576b\"],[0.6666666666666666,\"#ed7953\"],[0.7777777777777778,\"#fb9f3a\"],[0.8888888888888888,\"#fdca26\"],[1.0,\"#f0f921\"]],\"type\":\"heatmapgl\"}],\"histogram\":[{\"marker\":{\"pattern\":{\"fillmode\":\"overlay\",\"size\":10,\"solidity\":0.2}},\"type\":\"histogram\"}],\"histogram2d\":[{\"colorbar\":{\"outlinewidth\":0,\"ticks\":\"\"},\"colorscale\":[[0.0,\"#0d0887\"],[0.1111111111111111,\"#46039f\"],[0.2222222222222222,\"#7201a8\"],[0.3333333333333333,\"#9c179e\"],[0.4444444444444444,\"#bd3786\"],[0.5555555555555556,\"#d8576b\"],[0.6666666666666666,\"#ed7953\"],[0.7777777777777778,\"#fb9f3a\"],[0.8888888888888888,\"#fdca26\"],[1.0,\"#f0f921\"]],\"type\":\"histogram2d\"}],\"histogram2dcontour\":[{\"colorbar\":{\"outlinewidth\":0,\"ticks\":\"\"},\"colorscale\":[[0.0,\"#0d0887\"],[0.1111111111111111,\"#46039f\"],[0.2222222222222222,\"#7201a8\"],[0.3333333333333333,\"#9c179e\"],[0.4444444444444444,\"#bd3786\"],[0.5555555555555556,\"#d8576b\"],[0.6666666666666666,\"#ed7953\"],[0.7777777777777778,\"#fb9f3a\"],[0.8888888888888888,\"#fdca26\"],[1.0,\"#f0f921\"]],\"type\":\"histogram2dcontour\"}],\"mesh3d\":[{\"colorbar\":{\"outlinewidth\":0,\"ticks\":\"\"},\"type\":\"mesh3d\"}],\"parcoords\":[{\"line\":{\"colorbar\":{\"outlinewidth\":0,\"ticks\":\"\"}},\"type\":\"parcoords\"}],\"pie\":[{\"automargin\":true,\"type\":\"pie\"}],\"scatter\":[{\"marker\":{\"colorbar\":{\"outlinewidth\":0,\"ticks\":\"\"}},\"type\":\"scatter\"}],\"scatter3d\":[{\"line\":{\"colorbar\":{\"outlinewidth\":0,\"ticks\":\"\"}},\"marker\":{\"colorbar\":{\"outlinewidth\":0,\"ticks\":\"\"}},\"type\":\"scatter3d\"}],\"scattercarpet\":[{\"marker\":{\"colorbar\":{\"outlinewidth\":0,\"ticks\":\"\"}},\"type\":\"scattercarpet\"}],\"scattergeo\":[{\"marker\":{\"colorbar\":{\"outlinewidth\":0,\"ticks\":\"\"}},\"type\":\"scattergeo\"}],\"scattergl\":[{\"marker\":{\"colorbar\":{\"outlinewidth\":0,\"ticks\":\"\"}},\"type\":\"scattergl\"}],\"scattermapbox\":[{\"marker\":{\"colorbar\":{\"outlinewidth\":0,\"ticks\":\"\"}},\"type\":\"scattermapbox\"}],\"scatterpolar\":[{\"marker\":{\"colorbar\":{\"outlinewidth\":0,\"ticks\":\"\"}},\"type\":\"scatterpolar\"}],\"scatterpolargl\":[{\"marker\":{\"colorbar\":{\"outlinewidth\":0,\"ticks\":\"\"}},\"type\":\"scatterpolargl\"}],\"scatterternary\":[{\"marker\":{\"colorbar\":{\"outlinewidth\":0,\"ticks\":\"\"}},\"type\":\"scatterternary\"}],\"surface\":[{\"colorbar\":{\"outlinewidth\":0,\"ticks\":\"\"},\"colorscale\":[[0.0,\"#0d0887\"],[0.1111111111111111,\"#46039f\"],[0.2222222222222222,\"#7201a8\"],[0.3333333333333333,\"#9c179e\"],[0.4444444444444444,\"#bd3786\"],[0.5555555555555556,\"#d8576b\"],[0.6666666666666666,\"#ed7953\"],[0.7777777777777778,\"#fb9f3a\"],[0.8888888888888888,\"#fdca26\"],[1.0,\"#f0f921\"]],\"type\":\"surface\"}],\"table\":[{\"cells\":{\"fill\":{\"color\":\"#EBF0F8\"},\"line\":{\"color\":\"white\"}},\"header\":{\"fill\":{\"color\":\"#C8D4E3\"},\"line\":{\"color\":\"white\"}},\"type\":\"table\"}]},\"layout\":{\"annotationdefaults\":{\"arrowcolor\":\"#2a3f5f\",\"arrowhead\":0,\"arrowwidth\":1},\"autotypenumbers\":\"strict\",\"coloraxis\":{\"colorbar\":{\"outlinewidth\":0,\"ticks\":\"\"}},\"colorscale\":{\"diverging\":[[0,\"#8e0152\"],[0.1,\"#c51b7d\"],[0.2,\"#de77ae\"],[0.3,\"#f1b6da\"],[0.4,\"#fde0ef\"],[0.5,\"#f7f7f7\"],[0.6,\"#e6f5d0\"],[0.7,\"#b8e186\"],[0.8,\"#7fbc41\"],[0.9,\"#4d9221\"],[1,\"#276419\"]],\"sequential\":[[0.0,\"#0d0887\"],[0.1111111111111111,\"#46039f\"],[0.2222222222222222,\"#7201a8\"],[0.3333333333333333,\"#9c179e\"],[0.4444444444444444,\"#bd3786\"],[0.5555555555555556,\"#d8576b\"],[0.6666666666666666,\"#ed7953\"],[0.7777777777777778,\"#fb9f3a\"],[0.8888888888888888,\"#fdca26\"],[1.0,\"#f0f921\"]],\"sequentialminus\":[[0.0,\"#0d0887\"],[0.1111111111111111,\"#46039f\"],[0.2222222222222222,\"#7201a8\"],[0.3333333333333333,\"#9c179e\"],[0.4444444444444444,\"#bd3786\"],[0.5555555555555556,\"#d8576b\"],[0.6666666666666666,\"#ed7953\"],[0.7777777777777778,\"#fb9f3a\"],[0.8888888888888888,\"#fdca26\"],[1.0,\"#f0f921\"]]},\"colorway\":[\"#636efa\",\"#EF553B\",\"#00cc96\",\"#ab63fa\",\"#FFA15A\",\"#19d3f3\",\"#FF6692\",\"#B6E880\",\"#FF97FF\",\"#FECB52\"],\"font\":{\"color\":\"#2a3f5f\"},\"geo\":{\"bgcolor\":\"white\",\"lakecolor\":\"white\",\"landcolor\":\"#E5ECF6\",\"showlakes\":true,\"showland\":true,\"subunitcolor\":\"white\"},\"hoverlabel\":{\"align\":\"left\"},\"hovermode\":\"closest\",\"mapbox\":{\"style\":\"light\"},\"paper_bgcolor\":\"white\",\"plot_bgcolor\":\"#E5ECF6\",\"polar\":{\"angularaxis\":{\"gridcolor\":\"white\",\"linecolor\":\"white\",\"ticks\":\"\"},\"bgcolor\":\"#E5ECF6\",\"radialaxis\":{\"gridcolor\":\"white\",\"linecolor\":\"white\",\"ticks\":\"\"}},\"scene\":{\"xaxis\":{\"backgroundcolor\":\"#E5ECF6\",\"gridcolor\":\"white\",\"gridwidth\":2,\"linecolor\":\"white\",\"showbackground\":true,\"ticks\":\"\",\"zerolinecolor\":\"white\"},\"yaxis\":{\"backgroundcolor\":\"#E5ECF6\",\"gridcolor\":\"white\",\"gridwidth\":2,\"linecolor\":\"white\",\"showbackground\":true,\"ticks\":\"\",\"zerolinecolor\":\"white\"},\"zaxis\":{\"backgroundcolor\":\"#E5ECF6\",\"gridcolor\":\"white\",\"gridwidth\":2,\"linecolor\":\"white\",\"showbackground\":true,\"ticks\":\"\",\"zerolinecolor\":\"white\"}},\"shapedefaults\":{\"line\":{\"color\":\"#2a3f5f\"}},\"ternary\":{\"aaxis\":{\"gridcolor\":\"white\",\"linecolor\":\"white\",\"ticks\":\"\"},\"baxis\":{\"gridcolor\":\"white\",\"linecolor\":\"white\",\"ticks\":\"\"},\"bgcolor\":\"#E5ECF6\",\"caxis\":{\"gridcolor\":\"white\",\"linecolor\":\"white\",\"ticks\":\"\"}},\"title\":{\"x\":0.05},\"xaxis\":{\"automargin\":true,\"gridcolor\":\"white\",\"linecolor\":\"white\",\"ticks\":\"\",\"title\":{\"standoff\":15},\"zerolinecolor\":\"white\",\"zerolinewidth\":2},\"yaxis\":{\"automargin\":true,\"gridcolor\":\"white\",\"linecolor\":\"white\",\"ticks\":\"\",\"title\":{\"standoff\":15},\"zerolinecolor\":\"white\",\"zerolinewidth\":2}}},\"title\":{\"text\":\"Average CO2 benefit across Neighborhoods\"}},                        {\"responsive\": true}                    ).then(function(){\n",
       "                            \n",
       "var gd = document.getElementById('206a4f77-0c9d-46d5-9c98-e5c0219bf22b');\n",
       "var x = new MutationObserver(function (mutations, observer) {{\n",
       "        var display = window.getComputedStyle(gd).display;\n",
       "        if (!display || display === 'none') {{\n",
       "            console.log([gd, 'removed!']);\n",
       "            Plotly.purge(gd);\n",
       "            observer.disconnect();\n",
       "        }}\n",
       "}});\n",
       "\n",
       "// Listen for the removal of the full notebook cells\n",
       "var notebookContainer = gd.closest('#notebook-container');\n",
       "if (notebookContainer) {{\n",
       "    x.observe(notebookContainer, {childList: true});\n",
       "}}\n",
       "\n",
       "// Listen for the clearing of the current output cell\n",
       "var outputEl = gd.closest('.output');\n",
       "if (outputEl) {{\n",
       "    x.observe(outputEl, {childList: true});\n",
       "}}\n",
       "\n",
       "                        })                };                });            </script>        </div>"
      ]
     },
     "metadata": {},
     "output_type": "display_data"
    }
   ],
   "source": [
    "fig=px.choropleth(co2_benefit_map,\n",
    "             geojson=\"https://raw.githubusercontent.com/blackmad/neighborhoods/master/gn-pittsburgh.geojson\",\n",
    "             featureidkey='properties.name',   \n",
    "             locations='neighborhood',        #column in dataframe\n",
    "             color='co2_benefits_dollar_value',\n",
    "              color_continuous_scale='greens',\n",
    "               title='Average CO2 benefit across Neighborhoods' ,  \n",
    "               height=500\n",
    "              )\n",
    "fig.update_geos(fitbounds=\"locations\", visible=False)\n",
    "fig.show()"
   ]
  },
  {
   "cell_type": "markdown",
   "id": "7c9967d9",
   "metadata": {},
   "source": [
    "**Top 5 neighborhoods with highest CO2 benefit**"
   ]
  },
  {
   "cell_type": "code",
   "execution_count": 467,
   "id": "611c4be6",
   "metadata": {},
   "outputs": [
    {
     "data": {
      "text/html": [
       "<div>\n",
       "<style scoped>\n",
       "    .dataframe tbody tr th:only-of-type {\n",
       "        vertical-align: middle;\n",
       "    }\n",
       "\n",
       "    .dataframe tbody tr th {\n",
       "        vertical-align: top;\n",
       "    }\n",
       "\n",
       "    .dataframe thead th {\n",
       "        text-align: right;\n",
       "    }\n",
       "</style>\n",
       "<table border=\"1\" class=\"dataframe\">\n",
       "  <thead>\n",
       "    <tr style=\"text-align: right;\">\n",
       "      <th></th>\n",
       "      <th>neighborhood</th>\n",
       "      <th>co2_benefits_dollar_value</th>\n",
       "    </tr>\n",
       "  </thead>\n",
       "  <tbody>\n",
       "    <tr>\n",
       "      <th>0</th>\n",
       "      <td>Allegheny Center</td>\n",
       "      <td>10.172134</td>\n",
       "    </tr>\n",
       "    <tr>\n",
       "      <th>1</th>\n",
       "      <td>Allegheny West</td>\n",
       "      <td>5.328917</td>\n",
       "    </tr>\n",
       "    <tr>\n",
       "      <th>39</th>\n",
       "      <td>Highland Park</td>\n",
       "      <td>4.885688</td>\n",
       "    </tr>\n",
       "    <tr>\n",
       "      <th>65</th>\n",
       "      <td>Regent Square</td>\n",
       "      <td>4.091595</td>\n",
       "    </tr>\n",
       "    <tr>\n",
       "      <th>75</th>\n",
       "      <td>Squirrel Hill North</td>\n",
       "      <td>3.799725</td>\n",
       "    </tr>\n",
       "  </tbody>\n",
       "</table>\n",
       "</div>"
      ],
      "text/plain": [
       "           neighborhood  co2_benefits_dollar_value\n",
       "0      Allegheny Center                  10.172134\n",
       "1        Allegheny West                   5.328917\n",
       "39        Highland Park                   4.885688\n",
       "65        Regent Square                   4.091595\n",
       "75  Squirrel Hill North                   3.799725"
      ]
     },
     "execution_count": 467,
     "metadata": {},
     "output_type": "execute_result"
    }
   ],
   "source": [
    "co2_benefit_map.sort_values('co2_benefits_dollar_value', ascending=False).head(5)"
   ]
  },
  {
   "cell_type": "markdown",
   "id": "9b4d07f0",
   "metadata": {},
   "source": [
    "**Inference:\n",
    "3 of the top 5 neighborhoods with the highest CO2 benefits are also in the top 5 neighborhoods with highest tree density. This exhibhits a clear positive correlation between the two**"
   ]
  },
  {
   "cell_type": "markdown",
   "id": "480b4068",
   "metadata": {},
   "source": [
    "# Plot neighborhood level tree Air quality benefits data"
   ]
  },
  {
   "cell_type": "code",
   "execution_count": 468,
   "id": "4f8a1f41",
   "metadata": {},
   "outputs": [],
   "source": [
    "air_quality_benefit_map = combined_data[['neighborhood', 'air_quality_benfits_total_dollar_value']].copy()"
   ]
  },
  {
   "cell_type": "code",
   "execution_count": 469,
   "id": "17e851fa",
   "metadata": {},
   "outputs": [
    {
     "data": {
      "application/vnd.plotly.v1+json": {
       "config": {
        "plotlyServerURL": "https://plot.ly"
       },
       "data": [
        {
         "coloraxis": "coloraxis",
         "featureidkey": "properties.name",
         "geo": "geo",
         "geojson": "https://raw.githubusercontent.com/blackmad/neighborhoods/master/gn-pittsburgh.geojson",
         "hovertemplate": "neighborhood=%{location}<br>air_quality_benfits_total_dollar_value=%{z}<extra></extra>",
         "locations": [
          "Allegheny Center",
          "Allegheny West",
          "Allentown",
          "Arlington",
          "Arlington Heights",
          "Banksville",
          "Bedford Dwellings",
          "Beechview",
          "Beltzhoover",
          "Bloomfield",
          "Bluff",
          "Bon Air",
          "Brighton Heights",
          "Brookline",
          "California-Kirkbride",
          "Carrick",
          "Central Business District",
          "Central Lawrenceville",
          "Central Northside",
          "Central Oakland",
          "Chartiers City",
          "Chateau",
          "Crafton Heights",
          "Crawford-Roberts",
          "Duquesne Heights",
          "East Allegheny",
          "East Carnegie",
          "East Hills",
          "East Liberty",
          "Elliott",
          "Esplen",
          "Fairywood",
          "Fineview",
          "Friendship",
          "Garfield",
          "Glen Hazel",
          "Greenfield",
          "Hays",
          "Hazelwood",
          "Highland Park",
          "Homewood North",
          "Homewood South",
          "Homewood West",
          "Knoxville",
          "Larimer",
          "Lincoln Place",
          "Lincoln-Lemington-Belmar",
          "Lower Lawrenceville",
          "Manchester",
          "Marshall-Shadeland",
          "Middle Hill",
          "Morningside",
          "Mount Washington",
          "Mt. Oliver",
          "New Homestead",
          "North Oakland",
          "North Shore",
          "Northview Heights",
          "Oakwood",
          "Overbrook",
          "Perry North",
          "Perry South",
          "Point Breeze",
          "Point Breeze North",
          "Polish Hill",
          "Regent Square",
          "Ridgemont",
          "Shadyside",
          "Sheraden",
          "South Oakland",
          "South Shore",
          "South Side Flats",
          "South Side Slopes",
          "Spring Garden",
          "Spring Hill-City View",
          "Squirrel Hill North",
          "Squirrel Hill South",
          "St. Clair",
          "Stanton Heights",
          "Strip District",
          "Summer Hill",
          "Swisshelm Park",
          "Terrace Village",
          "Troy Hill",
          "Upper Hill",
          "Upper Lawrenceville",
          "West End",
          "West Oakland",
          "Westwood",
          "Windgap"
         ],
         "name": "",
         "type": "choropleth",
         "z": [
          79.60478095817605,
          41.4375344847473,
          2.259780726650177,
          1.0004954183698138,
          0.516332384176518,
          5.914693968638372,
          5.741610980065374,
          4.076781041146541,
          2.7384285943140902,
          13.28987515746522,
          2.825983121282157,
          2.8493357980210017,
          7.916762796050106,
          4.442028603976529,
          3.244398264352455,
          3.990340103504904,
          8.019824705072498,
          2.816531194524492,
          15.365560095342486,
          15.291982997954465,
          4.193230110384847,
          3.9422386212762635,
          4.586879227231479,
          12.801341588717076,
          1.036431319442966,
          11.238296144330409,
          0.12241643763712196,
          10.122876134470202,
          13.542020926013715,
          3.066833822796166,
          0.06857415512323022,
          0.5207473198399526,
          3.59204353397119,
          22.203529973708182,
          8.809859845002743,
          0.01142982353523399,
          8.35958956237391,
          0.0015104584437456796,
          2.9097477335252386,
          37.17010915887291,
          6.37172213478743,
          7.499903773820074,
          2.923425590419756,
          16.06771469021208,
          5.550554339822937,
          3.0510013290080855,
          21.7546901528135,
          6.922611580184978,
          15.07647632768052,
          19.228211987520087,
          5.050383390237353,
          8.444917938279703,
          6.147667791373513,
          0.8796146604107753,
          3.652970595253004,
          15.348207015540945,
          9.167642587766744,
          0.2049349803471458,
          4.49530531605144,
          2.9340829266167554,
          11.026583246290317,
          4.006128081701039,
          18.662194785358462,
          19.492672850580135,
          4.636214186439394,
          31.963338840491016,
          0.6690031410164559,
          16.695063073900663,
          4.159826188119314,
          2.637224339511159,
          0.017481471160564168,
          8.761686527953712,
          1.8263463567238223,
          1.0816096881104837,
          1.25109211204195,
          29.528303934190674,
          27.014410521293197,
          0.5022174776222897,
          14.614757764699815,
          2.927485182300585,
          1.9096320538098672,
          7.595162127772389,
          4.07540795044157,
          1.0667442999489245,
          4.390045764413492,
          7.0366498061459986,
          3.379718119906449,
          1.4181899547614905,
          4.350946712679946,
          3.3053326053525036
         ]
        }
       ],
       "layout": {
        "coloraxis": {
         "colorbar": {
          "title": {
           "text": "air_quality_benfits_total_dollar_value"
          }
         },
         "colorscale": [
          [
           0,
           "rgb(247,252,245)"
          ],
          [
           0.125,
           "rgb(229,245,224)"
          ],
          [
           0.25,
           "rgb(199,233,192)"
          ],
          [
           0.375,
           "rgb(161,217,155)"
          ],
          [
           0.5,
           "rgb(116,196,118)"
          ],
          [
           0.625,
           "rgb(65,171,93)"
          ],
          [
           0.75,
           "rgb(35,139,69)"
          ],
          [
           0.875,
           "rgb(0,109,44)"
          ],
          [
           1,
           "rgb(0,68,27)"
          ]
         ]
        },
        "geo": {
         "center": {},
         "domain": {
          "x": [
           0,
           1
          ],
          "y": [
           0,
           1
          ]
         },
         "fitbounds": "locations",
         "visible": false
        },
        "height": 500,
        "legend": {
         "tracegroupgap": 0
        },
        "template": {
         "data": {
          "bar": [
           {
            "error_x": {
             "color": "#2a3f5f"
            },
            "error_y": {
             "color": "#2a3f5f"
            },
            "marker": {
             "line": {
              "color": "#E5ECF6",
              "width": 0.5
             },
             "pattern": {
              "fillmode": "overlay",
              "size": 10,
              "solidity": 0.2
             }
            },
            "type": "bar"
           }
          ],
          "barpolar": [
           {
            "marker": {
             "line": {
              "color": "#E5ECF6",
              "width": 0.5
             },
             "pattern": {
              "fillmode": "overlay",
              "size": 10,
              "solidity": 0.2
             }
            },
            "type": "barpolar"
           }
          ],
          "carpet": [
           {
            "aaxis": {
             "endlinecolor": "#2a3f5f",
             "gridcolor": "white",
             "linecolor": "white",
             "minorgridcolor": "white",
             "startlinecolor": "#2a3f5f"
            },
            "baxis": {
             "endlinecolor": "#2a3f5f",
             "gridcolor": "white",
             "linecolor": "white",
             "minorgridcolor": "white",
             "startlinecolor": "#2a3f5f"
            },
            "type": "carpet"
           }
          ],
          "choropleth": [
           {
            "colorbar": {
             "outlinewidth": 0,
             "ticks": ""
            },
            "type": "choropleth"
           }
          ],
          "contour": [
           {
            "colorbar": {
             "outlinewidth": 0,
             "ticks": ""
            },
            "colorscale": [
             [
              0,
              "#0d0887"
             ],
             [
              0.1111111111111111,
              "#46039f"
             ],
             [
              0.2222222222222222,
              "#7201a8"
             ],
             [
              0.3333333333333333,
              "#9c179e"
             ],
             [
              0.4444444444444444,
              "#bd3786"
             ],
             [
              0.5555555555555556,
              "#d8576b"
             ],
             [
              0.6666666666666666,
              "#ed7953"
             ],
             [
              0.7777777777777778,
              "#fb9f3a"
             ],
             [
              0.8888888888888888,
              "#fdca26"
             ],
             [
              1,
              "#f0f921"
             ]
            ],
            "type": "contour"
           }
          ],
          "contourcarpet": [
           {
            "colorbar": {
             "outlinewidth": 0,
             "ticks": ""
            },
            "type": "contourcarpet"
           }
          ],
          "heatmap": [
           {
            "colorbar": {
             "outlinewidth": 0,
             "ticks": ""
            },
            "colorscale": [
             [
              0,
              "#0d0887"
             ],
             [
              0.1111111111111111,
              "#46039f"
             ],
             [
              0.2222222222222222,
              "#7201a8"
             ],
             [
              0.3333333333333333,
              "#9c179e"
             ],
             [
              0.4444444444444444,
              "#bd3786"
             ],
             [
              0.5555555555555556,
              "#d8576b"
             ],
             [
              0.6666666666666666,
              "#ed7953"
             ],
             [
              0.7777777777777778,
              "#fb9f3a"
             ],
             [
              0.8888888888888888,
              "#fdca26"
             ],
             [
              1,
              "#f0f921"
             ]
            ],
            "type": "heatmap"
           }
          ],
          "heatmapgl": [
           {
            "colorbar": {
             "outlinewidth": 0,
             "ticks": ""
            },
            "colorscale": [
             [
              0,
              "#0d0887"
             ],
             [
              0.1111111111111111,
              "#46039f"
             ],
             [
              0.2222222222222222,
              "#7201a8"
             ],
             [
              0.3333333333333333,
              "#9c179e"
             ],
             [
              0.4444444444444444,
              "#bd3786"
             ],
             [
              0.5555555555555556,
              "#d8576b"
             ],
             [
              0.6666666666666666,
              "#ed7953"
             ],
             [
              0.7777777777777778,
              "#fb9f3a"
             ],
             [
              0.8888888888888888,
              "#fdca26"
             ],
             [
              1,
              "#f0f921"
             ]
            ],
            "type": "heatmapgl"
           }
          ],
          "histogram": [
           {
            "marker": {
             "pattern": {
              "fillmode": "overlay",
              "size": 10,
              "solidity": 0.2
             }
            },
            "type": "histogram"
           }
          ],
          "histogram2d": [
           {
            "colorbar": {
             "outlinewidth": 0,
             "ticks": ""
            },
            "colorscale": [
             [
              0,
              "#0d0887"
             ],
             [
              0.1111111111111111,
              "#46039f"
             ],
             [
              0.2222222222222222,
              "#7201a8"
             ],
             [
              0.3333333333333333,
              "#9c179e"
             ],
             [
              0.4444444444444444,
              "#bd3786"
             ],
             [
              0.5555555555555556,
              "#d8576b"
             ],
             [
              0.6666666666666666,
              "#ed7953"
             ],
             [
              0.7777777777777778,
              "#fb9f3a"
             ],
             [
              0.8888888888888888,
              "#fdca26"
             ],
             [
              1,
              "#f0f921"
             ]
            ],
            "type": "histogram2d"
           }
          ],
          "histogram2dcontour": [
           {
            "colorbar": {
             "outlinewidth": 0,
             "ticks": ""
            },
            "colorscale": [
             [
              0,
              "#0d0887"
             ],
             [
              0.1111111111111111,
              "#46039f"
             ],
             [
              0.2222222222222222,
              "#7201a8"
             ],
             [
              0.3333333333333333,
              "#9c179e"
             ],
             [
              0.4444444444444444,
              "#bd3786"
             ],
             [
              0.5555555555555556,
              "#d8576b"
             ],
             [
              0.6666666666666666,
              "#ed7953"
             ],
             [
              0.7777777777777778,
              "#fb9f3a"
             ],
             [
              0.8888888888888888,
              "#fdca26"
             ],
             [
              1,
              "#f0f921"
             ]
            ],
            "type": "histogram2dcontour"
           }
          ],
          "mesh3d": [
           {
            "colorbar": {
             "outlinewidth": 0,
             "ticks": ""
            },
            "type": "mesh3d"
           }
          ],
          "parcoords": [
           {
            "line": {
             "colorbar": {
              "outlinewidth": 0,
              "ticks": ""
             }
            },
            "type": "parcoords"
           }
          ],
          "pie": [
           {
            "automargin": true,
            "type": "pie"
           }
          ],
          "scatter": [
           {
            "marker": {
             "colorbar": {
              "outlinewidth": 0,
              "ticks": ""
             }
            },
            "type": "scatter"
           }
          ],
          "scatter3d": [
           {
            "line": {
             "colorbar": {
              "outlinewidth": 0,
              "ticks": ""
             }
            },
            "marker": {
             "colorbar": {
              "outlinewidth": 0,
              "ticks": ""
             }
            },
            "type": "scatter3d"
           }
          ],
          "scattercarpet": [
           {
            "marker": {
             "colorbar": {
              "outlinewidth": 0,
              "ticks": ""
             }
            },
            "type": "scattercarpet"
           }
          ],
          "scattergeo": [
           {
            "marker": {
             "colorbar": {
              "outlinewidth": 0,
              "ticks": ""
             }
            },
            "type": "scattergeo"
           }
          ],
          "scattergl": [
           {
            "marker": {
             "colorbar": {
              "outlinewidth": 0,
              "ticks": ""
             }
            },
            "type": "scattergl"
           }
          ],
          "scattermapbox": [
           {
            "marker": {
             "colorbar": {
              "outlinewidth": 0,
              "ticks": ""
             }
            },
            "type": "scattermapbox"
           }
          ],
          "scatterpolar": [
           {
            "marker": {
             "colorbar": {
              "outlinewidth": 0,
              "ticks": ""
             }
            },
            "type": "scatterpolar"
           }
          ],
          "scatterpolargl": [
           {
            "marker": {
             "colorbar": {
              "outlinewidth": 0,
              "ticks": ""
             }
            },
            "type": "scatterpolargl"
           }
          ],
          "scatterternary": [
           {
            "marker": {
             "colorbar": {
              "outlinewidth": 0,
              "ticks": ""
             }
            },
            "type": "scatterternary"
           }
          ],
          "surface": [
           {
            "colorbar": {
             "outlinewidth": 0,
             "ticks": ""
            },
            "colorscale": [
             [
              0,
              "#0d0887"
             ],
             [
              0.1111111111111111,
              "#46039f"
             ],
             [
              0.2222222222222222,
              "#7201a8"
             ],
             [
              0.3333333333333333,
              "#9c179e"
             ],
             [
              0.4444444444444444,
              "#bd3786"
             ],
             [
              0.5555555555555556,
              "#d8576b"
             ],
             [
              0.6666666666666666,
              "#ed7953"
             ],
             [
              0.7777777777777778,
              "#fb9f3a"
             ],
             [
              0.8888888888888888,
              "#fdca26"
             ],
             [
              1,
              "#f0f921"
             ]
            ],
            "type": "surface"
           }
          ],
          "table": [
           {
            "cells": {
             "fill": {
              "color": "#EBF0F8"
             },
             "line": {
              "color": "white"
             }
            },
            "header": {
             "fill": {
              "color": "#C8D4E3"
             },
             "line": {
              "color": "white"
             }
            },
            "type": "table"
           }
          ]
         },
         "layout": {
          "annotationdefaults": {
           "arrowcolor": "#2a3f5f",
           "arrowhead": 0,
           "arrowwidth": 1
          },
          "autotypenumbers": "strict",
          "coloraxis": {
           "colorbar": {
            "outlinewidth": 0,
            "ticks": ""
           }
          },
          "colorscale": {
           "diverging": [
            [
             0,
             "#8e0152"
            ],
            [
             0.1,
             "#c51b7d"
            ],
            [
             0.2,
             "#de77ae"
            ],
            [
             0.3,
             "#f1b6da"
            ],
            [
             0.4,
             "#fde0ef"
            ],
            [
             0.5,
             "#f7f7f7"
            ],
            [
             0.6,
             "#e6f5d0"
            ],
            [
             0.7,
             "#b8e186"
            ],
            [
             0.8,
             "#7fbc41"
            ],
            [
             0.9,
             "#4d9221"
            ],
            [
             1,
             "#276419"
            ]
           ],
           "sequential": [
            [
             0,
             "#0d0887"
            ],
            [
             0.1111111111111111,
             "#46039f"
            ],
            [
             0.2222222222222222,
             "#7201a8"
            ],
            [
             0.3333333333333333,
             "#9c179e"
            ],
            [
             0.4444444444444444,
             "#bd3786"
            ],
            [
             0.5555555555555556,
             "#d8576b"
            ],
            [
             0.6666666666666666,
             "#ed7953"
            ],
            [
             0.7777777777777778,
             "#fb9f3a"
            ],
            [
             0.8888888888888888,
             "#fdca26"
            ],
            [
             1,
             "#f0f921"
            ]
           ],
           "sequentialminus": [
            [
             0,
             "#0d0887"
            ],
            [
             0.1111111111111111,
             "#46039f"
            ],
            [
             0.2222222222222222,
             "#7201a8"
            ],
            [
             0.3333333333333333,
             "#9c179e"
            ],
            [
             0.4444444444444444,
             "#bd3786"
            ],
            [
             0.5555555555555556,
             "#d8576b"
            ],
            [
             0.6666666666666666,
             "#ed7953"
            ],
            [
             0.7777777777777778,
             "#fb9f3a"
            ],
            [
             0.8888888888888888,
             "#fdca26"
            ],
            [
             1,
             "#f0f921"
            ]
           ]
          },
          "colorway": [
           "#636efa",
           "#EF553B",
           "#00cc96",
           "#ab63fa",
           "#FFA15A",
           "#19d3f3",
           "#FF6692",
           "#B6E880",
           "#FF97FF",
           "#FECB52"
          ],
          "font": {
           "color": "#2a3f5f"
          },
          "geo": {
           "bgcolor": "white",
           "lakecolor": "white",
           "landcolor": "#E5ECF6",
           "showlakes": true,
           "showland": true,
           "subunitcolor": "white"
          },
          "hoverlabel": {
           "align": "left"
          },
          "hovermode": "closest",
          "mapbox": {
           "style": "light"
          },
          "paper_bgcolor": "white",
          "plot_bgcolor": "#E5ECF6",
          "polar": {
           "angularaxis": {
            "gridcolor": "white",
            "linecolor": "white",
            "ticks": ""
           },
           "bgcolor": "#E5ECF6",
           "radialaxis": {
            "gridcolor": "white",
            "linecolor": "white",
            "ticks": ""
           }
          },
          "scene": {
           "xaxis": {
            "backgroundcolor": "#E5ECF6",
            "gridcolor": "white",
            "gridwidth": 2,
            "linecolor": "white",
            "showbackground": true,
            "ticks": "",
            "zerolinecolor": "white"
           },
           "yaxis": {
            "backgroundcolor": "#E5ECF6",
            "gridcolor": "white",
            "gridwidth": 2,
            "linecolor": "white",
            "showbackground": true,
            "ticks": "",
            "zerolinecolor": "white"
           },
           "zaxis": {
            "backgroundcolor": "#E5ECF6",
            "gridcolor": "white",
            "gridwidth": 2,
            "linecolor": "white",
            "showbackground": true,
            "ticks": "",
            "zerolinecolor": "white"
           }
          },
          "shapedefaults": {
           "line": {
            "color": "#2a3f5f"
           }
          },
          "ternary": {
           "aaxis": {
            "gridcolor": "white",
            "linecolor": "white",
            "ticks": ""
           },
           "baxis": {
            "gridcolor": "white",
            "linecolor": "white",
            "ticks": ""
           },
           "bgcolor": "#E5ECF6",
           "caxis": {
            "gridcolor": "white",
            "linecolor": "white",
            "ticks": ""
           }
          },
          "title": {
           "x": 0.05
          },
          "xaxis": {
           "automargin": true,
           "gridcolor": "white",
           "linecolor": "white",
           "ticks": "",
           "title": {
            "standoff": 15
           },
           "zerolinecolor": "white",
           "zerolinewidth": 2
          },
          "yaxis": {
           "automargin": true,
           "gridcolor": "white",
           "linecolor": "white",
           "ticks": "",
           "title": {
            "standoff": 15
           },
           "zerolinecolor": "white",
           "zerolinewidth": 2
          }
         }
        },
        "title": {
         "text": "Average Air Quality benefit across Neighborhoods"
        }
       }
      },
      "text/html": [
       "<div>                            <div id=\"ff803edb-2d78-4abc-87d5-9bb1355d370f\" class=\"plotly-graph-div\" style=\"height:500px; width:100%;\"></div>            <script type=\"text/javascript\">                require([\"plotly\"], function(Plotly) {                    window.PLOTLYENV=window.PLOTLYENV || {};                                    if (document.getElementById(\"ff803edb-2d78-4abc-87d5-9bb1355d370f\")) {                    Plotly.newPlot(                        \"ff803edb-2d78-4abc-87d5-9bb1355d370f\",                        [{\"coloraxis\":\"coloraxis\",\"featureidkey\":\"properties.name\",\"geo\":\"geo\",\"geojson\":\"https://raw.githubusercontent.com/blackmad/neighborhoods/master/gn-pittsburgh.geojson\",\"hovertemplate\":\"neighborhood=%{location}<br>air_quality_benfits_total_dollar_value=%{z}<extra></extra>\",\"locations\":[\"Allegheny Center\",\"Allegheny West\",\"Allentown\",\"Arlington\",\"Arlington Heights\",\"Banksville\",\"Bedford Dwellings\",\"Beechview\",\"Beltzhoover\",\"Bloomfield\",\"Bluff\",\"Bon Air\",\"Brighton Heights\",\"Brookline\",\"California-Kirkbride\",\"Carrick\",\"Central Business District\",\"Central Lawrenceville\",\"Central Northside\",\"Central Oakland\",\"Chartiers City\",\"Chateau\",\"Crafton Heights\",\"Crawford-Roberts\",\"Duquesne Heights\",\"East Allegheny\",\"East Carnegie\",\"East Hills\",\"East Liberty\",\"Elliott\",\"Esplen\",\"Fairywood\",\"Fineview\",\"Friendship\",\"Garfield\",\"Glen Hazel\",\"Greenfield\",\"Hays\",\"Hazelwood\",\"Highland Park\",\"Homewood North\",\"Homewood South\",\"Homewood West\",\"Knoxville\",\"Larimer\",\"Lincoln Place\",\"Lincoln-Lemington-Belmar\",\"Lower Lawrenceville\",\"Manchester\",\"Marshall-Shadeland\",\"Middle Hill\",\"Morningside\",\"Mount Washington\",\"Mt. Oliver\",\"New Homestead\",\"North Oakland\",\"North Shore\",\"Northview Heights\",\"Oakwood\",\"Overbrook\",\"Perry North\",\"Perry South\",\"Point Breeze\",\"Point Breeze North\",\"Polish Hill\",\"Regent Square\",\"Ridgemont\",\"Shadyside\",\"Sheraden\",\"South Oakland\",\"South Shore\",\"South Side Flats\",\"South Side Slopes\",\"Spring Garden\",\"Spring Hill-City View\",\"Squirrel Hill North\",\"Squirrel Hill South\",\"St. Clair\",\"Stanton Heights\",\"Strip District\",\"Summer Hill\",\"Swisshelm Park\",\"Terrace Village\",\"Troy Hill\",\"Upper Hill\",\"Upper Lawrenceville\",\"West End\",\"West Oakland\",\"Westwood\",\"Windgap\"],\"name\":\"\",\"type\":\"choropleth\",\"z\":[79.60478095817605,41.4375344847473,2.259780726650177,1.0004954183698138,0.516332384176518,5.914693968638372,5.741610980065374,4.076781041146541,2.7384285943140902,13.28987515746522,2.825983121282157,2.8493357980210017,7.916762796050106,4.442028603976529,3.244398264352455,3.990340103504904,8.019824705072498,2.816531194524492,15.365560095342486,15.291982997954465,4.193230110384847,3.9422386212762635,4.586879227231479,12.801341588717076,1.036431319442966,11.238296144330409,0.12241643763712196,10.122876134470202,13.542020926013715,3.066833822796166,0.06857415512323022,0.5207473198399526,3.59204353397119,22.203529973708182,8.809859845002743,0.01142982353523399,8.35958956237391,0.0015104584437456796,2.9097477335252386,37.17010915887291,6.37172213478743,7.499903773820074,2.923425590419756,16.06771469021208,5.550554339822937,3.0510013290080855,21.7546901528135,6.922611580184978,15.07647632768052,19.228211987520087,5.050383390237353,8.444917938279703,6.147667791373513,0.8796146604107753,3.652970595253004,15.348207015540945,9.167642587766744,0.2049349803471458,4.49530531605144,2.9340829266167554,11.026583246290317,4.006128081701039,18.662194785358462,19.492672850580135,4.636214186439394,31.963338840491016,0.6690031410164559,16.695063073900663,4.159826188119314,2.637224339511159,0.017481471160564168,8.761686527953712,1.8263463567238223,1.0816096881104837,1.25109211204195,29.528303934190674,27.014410521293197,0.5022174776222897,14.614757764699815,2.927485182300585,1.9096320538098672,7.595162127772389,4.07540795044157,1.0667442999489245,4.390045764413492,7.0366498061459986,3.379718119906449,1.4181899547614905,4.350946712679946,3.3053326053525036]}],                        {\"coloraxis\":{\"colorbar\":{\"title\":{\"text\":\"air_quality_benfits_total_dollar_value\"}},\"colorscale\":[[0.0,\"rgb(247,252,245)\"],[0.125,\"rgb(229,245,224)\"],[0.25,\"rgb(199,233,192)\"],[0.375,\"rgb(161,217,155)\"],[0.5,\"rgb(116,196,118)\"],[0.625,\"rgb(65,171,93)\"],[0.75,\"rgb(35,139,69)\"],[0.875,\"rgb(0,109,44)\"],[1.0,\"rgb(0,68,27)\"]]},\"geo\":{\"center\":{},\"domain\":{\"x\":[0.0,1.0],\"y\":[0.0,1.0]},\"fitbounds\":\"locations\",\"visible\":false},\"height\":500,\"legend\":{\"tracegroupgap\":0},\"template\":{\"data\":{\"bar\":[{\"error_x\":{\"color\":\"#2a3f5f\"},\"error_y\":{\"color\":\"#2a3f5f\"},\"marker\":{\"line\":{\"color\":\"#E5ECF6\",\"width\":0.5},\"pattern\":{\"fillmode\":\"overlay\",\"size\":10,\"solidity\":0.2}},\"type\":\"bar\"}],\"barpolar\":[{\"marker\":{\"line\":{\"color\":\"#E5ECF6\",\"width\":0.5},\"pattern\":{\"fillmode\":\"overlay\",\"size\":10,\"solidity\":0.2}},\"type\":\"barpolar\"}],\"carpet\":[{\"aaxis\":{\"endlinecolor\":\"#2a3f5f\",\"gridcolor\":\"white\",\"linecolor\":\"white\",\"minorgridcolor\":\"white\",\"startlinecolor\":\"#2a3f5f\"},\"baxis\":{\"endlinecolor\":\"#2a3f5f\",\"gridcolor\":\"white\",\"linecolor\":\"white\",\"minorgridcolor\":\"white\",\"startlinecolor\":\"#2a3f5f\"},\"type\":\"carpet\"}],\"choropleth\":[{\"colorbar\":{\"outlinewidth\":0,\"ticks\":\"\"},\"type\":\"choropleth\"}],\"contour\":[{\"colorbar\":{\"outlinewidth\":0,\"ticks\":\"\"},\"colorscale\":[[0.0,\"#0d0887\"],[0.1111111111111111,\"#46039f\"],[0.2222222222222222,\"#7201a8\"],[0.3333333333333333,\"#9c179e\"],[0.4444444444444444,\"#bd3786\"],[0.5555555555555556,\"#d8576b\"],[0.6666666666666666,\"#ed7953\"],[0.7777777777777778,\"#fb9f3a\"],[0.8888888888888888,\"#fdca26\"],[1.0,\"#f0f921\"]],\"type\":\"contour\"}],\"contourcarpet\":[{\"colorbar\":{\"outlinewidth\":0,\"ticks\":\"\"},\"type\":\"contourcarpet\"}],\"heatmap\":[{\"colorbar\":{\"outlinewidth\":0,\"ticks\":\"\"},\"colorscale\":[[0.0,\"#0d0887\"],[0.1111111111111111,\"#46039f\"],[0.2222222222222222,\"#7201a8\"],[0.3333333333333333,\"#9c179e\"],[0.4444444444444444,\"#bd3786\"],[0.5555555555555556,\"#d8576b\"],[0.6666666666666666,\"#ed7953\"],[0.7777777777777778,\"#fb9f3a\"],[0.8888888888888888,\"#fdca26\"],[1.0,\"#f0f921\"]],\"type\":\"heatmap\"}],\"heatmapgl\":[{\"colorbar\":{\"outlinewidth\":0,\"ticks\":\"\"},\"colorscale\":[[0.0,\"#0d0887\"],[0.1111111111111111,\"#46039f\"],[0.2222222222222222,\"#7201a8\"],[0.3333333333333333,\"#9c179e\"],[0.4444444444444444,\"#bd3786\"],[0.5555555555555556,\"#d8576b\"],[0.6666666666666666,\"#ed7953\"],[0.7777777777777778,\"#fb9f3a\"],[0.8888888888888888,\"#fdca26\"],[1.0,\"#f0f921\"]],\"type\":\"heatmapgl\"}],\"histogram\":[{\"marker\":{\"pattern\":{\"fillmode\":\"overlay\",\"size\":10,\"solidity\":0.2}},\"type\":\"histogram\"}],\"histogram2d\":[{\"colorbar\":{\"outlinewidth\":0,\"ticks\":\"\"},\"colorscale\":[[0.0,\"#0d0887\"],[0.1111111111111111,\"#46039f\"],[0.2222222222222222,\"#7201a8\"],[0.3333333333333333,\"#9c179e\"],[0.4444444444444444,\"#bd3786\"],[0.5555555555555556,\"#d8576b\"],[0.6666666666666666,\"#ed7953\"],[0.7777777777777778,\"#fb9f3a\"],[0.8888888888888888,\"#fdca26\"],[1.0,\"#f0f921\"]],\"type\":\"histogram2d\"}],\"histogram2dcontour\":[{\"colorbar\":{\"outlinewidth\":0,\"ticks\":\"\"},\"colorscale\":[[0.0,\"#0d0887\"],[0.1111111111111111,\"#46039f\"],[0.2222222222222222,\"#7201a8\"],[0.3333333333333333,\"#9c179e\"],[0.4444444444444444,\"#bd3786\"],[0.5555555555555556,\"#d8576b\"],[0.6666666666666666,\"#ed7953\"],[0.7777777777777778,\"#fb9f3a\"],[0.8888888888888888,\"#fdca26\"],[1.0,\"#f0f921\"]],\"type\":\"histogram2dcontour\"}],\"mesh3d\":[{\"colorbar\":{\"outlinewidth\":0,\"ticks\":\"\"},\"type\":\"mesh3d\"}],\"parcoords\":[{\"line\":{\"colorbar\":{\"outlinewidth\":0,\"ticks\":\"\"}},\"type\":\"parcoords\"}],\"pie\":[{\"automargin\":true,\"type\":\"pie\"}],\"scatter\":[{\"marker\":{\"colorbar\":{\"outlinewidth\":0,\"ticks\":\"\"}},\"type\":\"scatter\"}],\"scatter3d\":[{\"line\":{\"colorbar\":{\"outlinewidth\":0,\"ticks\":\"\"}},\"marker\":{\"colorbar\":{\"outlinewidth\":0,\"ticks\":\"\"}},\"type\":\"scatter3d\"}],\"scattercarpet\":[{\"marker\":{\"colorbar\":{\"outlinewidth\":0,\"ticks\":\"\"}},\"type\":\"scattercarpet\"}],\"scattergeo\":[{\"marker\":{\"colorbar\":{\"outlinewidth\":0,\"ticks\":\"\"}},\"type\":\"scattergeo\"}],\"scattergl\":[{\"marker\":{\"colorbar\":{\"outlinewidth\":0,\"ticks\":\"\"}},\"type\":\"scattergl\"}],\"scattermapbox\":[{\"marker\":{\"colorbar\":{\"outlinewidth\":0,\"ticks\":\"\"}},\"type\":\"scattermapbox\"}],\"scatterpolar\":[{\"marker\":{\"colorbar\":{\"outlinewidth\":0,\"ticks\":\"\"}},\"type\":\"scatterpolar\"}],\"scatterpolargl\":[{\"marker\":{\"colorbar\":{\"outlinewidth\":0,\"ticks\":\"\"}},\"type\":\"scatterpolargl\"}],\"scatterternary\":[{\"marker\":{\"colorbar\":{\"outlinewidth\":0,\"ticks\":\"\"}},\"type\":\"scatterternary\"}],\"surface\":[{\"colorbar\":{\"outlinewidth\":0,\"ticks\":\"\"},\"colorscale\":[[0.0,\"#0d0887\"],[0.1111111111111111,\"#46039f\"],[0.2222222222222222,\"#7201a8\"],[0.3333333333333333,\"#9c179e\"],[0.4444444444444444,\"#bd3786\"],[0.5555555555555556,\"#d8576b\"],[0.6666666666666666,\"#ed7953\"],[0.7777777777777778,\"#fb9f3a\"],[0.8888888888888888,\"#fdca26\"],[1.0,\"#f0f921\"]],\"type\":\"surface\"}],\"table\":[{\"cells\":{\"fill\":{\"color\":\"#EBF0F8\"},\"line\":{\"color\":\"white\"}},\"header\":{\"fill\":{\"color\":\"#C8D4E3\"},\"line\":{\"color\":\"white\"}},\"type\":\"table\"}]},\"layout\":{\"annotationdefaults\":{\"arrowcolor\":\"#2a3f5f\",\"arrowhead\":0,\"arrowwidth\":1},\"autotypenumbers\":\"strict\",\"coloraxis\":{\"colorbar\":{\"outlinewidth\":0,\"ticks\":\"\"}},\"colorscale\":{\"diverging\":[[0,\"#8e0152\"],[0.1,\"#c51b7d\"],[0.2,\"#de77ae\"],[0.3,\"#f1b6da\"],[0.4,\"#fde0ef\"],[0.5,\"#f7f7f7\"],[0.6,\"#e6f5d0\"],[0.7,\"#b8e186\"],[0.8,\"#7fbc41\"],[0.9,\"#4d9221\"],[1,\"#276419\"]],\"sequential\":[[0.0,\"#0d0887\"],[0.1111111111111111,\"#46039f\"],[0.2222222222222222,\"#7201a8\"],[0.3333333333333333,\"#9c179e\"],[0.4444444444444444,\"#bd3786\"],[0.5555555555555556,\"#d8576b\"],[0.6666666666666666,\"#ed7953\"],[0.7777777777777778,\"#fb9f3a\"],[0.8888888888888888,\"#fdca26\"],[1.0,\"#f0f921\"]],\"sequentialminus\":[[0.0,\"#0d0887\"],[0.1111111111111111,\"#46039f\"],[0.2222222222222222,\"#7201a8\"],[0.3333333333333333,\"#9c179e\"],[0.4444444444444444,\"#bd3786\"],[0.5555555555555556,\"#d8576b\"],[0.6666666666666666,\"#ed7953\"],[0.7777777777777778,\"#fb9f3a\"],[0.8888888888888888,\"#fdca26\"],[1.0,\"#f0f921\"]]},\"colorway\":[\"#636efa\",\"#EF553B\",\"#00cc96\",\"#ab63fa\",\"#FFA15A\",\"#19d3f3\",\"#FF6692\",\"#B6E880\",\"#FF97FF\",\"#FECB52\"],\"font\":{\"color\":\"#2a3f5f\"},\"geo\":{\"bgcolor\":\"white\",\"lakecolor\":\"white\",\"landcolor\":\"#E5ECF6\",\"showlakes\":true,\"showland\":true,\"subunitcolor\":\"white\"},\"hoverlabel\":{\"align\":\"left\"},\"hovermode\":\"closest\",\"mapbox\":{\"style\":\"light\"},\"paper_bgcolor\":\"white\",\"plot_bgcolor\":\"#E5ECF6\",\"polar\":{\"angularaxis\":{\"gridcolor\":\"white\",\"linecolor\":\"white\",\"ticks\":\"\"},\"bgcolor\":\"#E5ECF6\",\"radialaxis\":{\"gridcolor\":\"white\",\"linecolor\":\"white\",\"ticks\":\"\"}},\"scene\":{\"xaxis\":{\"backgroundcolor\":\"#E5ECF6\",\"gridcolor\":\"white\",\"gridwidth\":2,\"linecolor\":\"white\",\"showbackground\":true,\"ticks\":\"\",\"zerolinecolor\":\"white\"},\"yaxis\":{\"backgroundcolor\":\"#E5ECF6\",\"gridcolor\":\"white\",\"gridwidth\":2,\"linecolor\":\"white\",\"showbackground\":true,\"ticks\":\"\",\"zerolinecolor\":\"white\"},\"zaxis\":{\"backgroundcolor\":\"#E5ECF6\",\"gridcolor\":\"white\",\"gridwidth\":2,\"linecolor\":\"white\",\"showbackground\":true,\"ticks\":\"\",\"zerolinecolor\":\"white\"}},\"shapedefaults\":{\"line\":{\"color\":\"#2a3f5f\"}},\"ternary\":{\"aaxis\":{\"gridcolor\":\"white\",\"linecolor\":\"white\",\"ticks\":\"\"},\"baxis\":{\"gridcolor\":\"white\",\"linecolor\":\"white\",\"ticks\":\"\"},\"bgcolor\":\"#E5ECF6\",\"caxis\":{\"gridcolor\":\"white\",\"linecolor\":\"white\",\"ticks\":\"\"}},\"title\":{\"x\":0.05},\"xaxis\":{\"automargin\":true,\"gridcolor\":\"white\",\"linecolor\":\"white\",\"ticks\":\"\",\"title\":{\"standoff\":15},\"zerolinecolor\":\"white\",\"zerolinewidth\":2},\"yaxis\":{\"automargin\":true,\"gridcolor\":\"white\",\"linecolor\":\"white\",\"ticks\":\"\",\"title\":{\"standoff\":15},\"zerolinecolor\":\"white\",\"zerolinewidth\":2}}},\"title\":{\"text\":\"Average Air Quality benefit across Neighborhoods\"}},                        {\"responsive\": true}                    ).then(function(){\n",
       "                            \n",
       "var gd = document.getElementById('ff803edb-2d78-4abc-87d5-9bb1355d370f');\n",
       "var x = new MutationObserver(function (mutations, observer) {{\n",
       "        var display = window.getComputedStyle(gd).display;\n",
       "        if (!display || display === 'none') {{\n",
       "            console.log([gd, 'removed!']);\n",
       "            Plotly.purge(gd);\n",
       "            observer.disconnect();\n",
       "        }}\n",
       "}});\n",
       "\n",
       "// Listen for the removal of the full notebook cells\n",
       "var notebookContainer = gd.closest('#notebook-container');\n",
       "if (notebookContainer) {{\n",
       "    x.observe(notebookContainer, {childList: true});\n",
       "}}\n",
       "\n",
       "// Listen for the clearing of the current output cell\n",
       "var outputEl = gd.closest('.output');\n",
       "if (outputEl) {{\n",
       "    x.observe(outputEl, {childList: true});\n",
       "}}\n",
       "\n",
       "                        })                };                });            </script>        </div>"
      ]
     },
     "metadata": {},
     "output_type": "display_data"
    }
   ],
   "source": [
    "fig=px.choropleth(air_quality_benefit_map,\n",
    "             geojson=\"https://raw.githubusercontent.com/blackmad/neighborhoods/master/gn-pittsburgh.geojson\",\n",
    "             featureidkey='properties.name',   \n",
    "             locations='neighborhood',        #column in dataframe\n",
    "             color='air_quality_benfits_total_dollar_value',\n",
    "              color_continuous_scale='greens',\n",
    "               title='Average Air Quality benefit across Neighborhoods' ,  \n",
    "               height=500\n",
    "              )\n",
    "fig.update_geos(fitbounds=\"locations\", visible=False)\n",
    "fig.show()"
   ]
  },
  {
   "cell_type": "markdown",
   "id": "2f32bbb0",
   "metadata": {},
   "source": [
    "**Top 5 neighborhoods with highest Air quality benefit**"
   ]
  },
  {
   "cell_type": "code",
   "execution_count": 470,
   "id": "46af670c",
   "metadata": {},
   "outputs": [
    {
     "data": {
      "text/html": [
       "<div>\n",
       "<style scoped>\n",
       "    .dataframe tbody tr th:only-of-type {\n",
       "        vertical-align: middle;\n",
       "    }\n",
       "\n",
       "    .dataframe tbody tr th {\n",
       "        vertical-align: top;\n",
       "    }\n",
       "\n",
       "    .dataframe thead th {\n",
       "        text-align: right;\n",
       "    }\n",
       "</style>\n",
       "<table border=\"1\" class=\"dataframe\">\n",
       "  <thead>\n",
       "    <tr style=\"text-align: right;\">\n",
       "      <th></th>\n",
       "      <th>neighborhood</th>\n",
       "      <th>air_quality_benfits_total_dollar_value</th>\n",
       "    </tr>\n",
       "  </thead>\n",
       "  <tbody>\n",
       "    <tr>\n",
       "      <th>0</th>\n",
       "      <td>Allegheny Center</td>\n",
       "      <td>79.604781</td>\n",
       "    </tr>\n",
       "    <tr>\n",
       "      <th>1</th>\n",
       "      <td>Allegheny West</td>\n",
       "      <td>41.437534</td>\n",
       "    </tr>\n",
       "    <tr>\n",
       "      <th>39</th>\n",
       "      <td>Highland Park</td>\n",
       "      <td>37.170109</td>\n",
       "    </tr>\n",
       "    <tr>\n",
       "      <th>65</th>\n",
       "      <td>Regent Square</td>\n",
       "      <td>31.963339</td>\n",
       "    </tr>\n",
       "    <tr>\n",
       "      <th>75</th>\n",
       "      <td>Squirrel Hill North</td>\n",
       "      <td>29.528304</td>\n",
       "    </tr>\n",
       "  </tbody>\n",
       "</table>\n",
       "</div>"
      ],
      "text/plain": [
       "           neighborhood  air_quality_benfits_total_dollar_value\n",
       "0      Allegheny Center                               79.604781\n",
       "1        Allegheny West                               41.437534\n",
       "39        Highland Park                               37.170109\n",
       "65        Regent Square                               31.963339\n",
       "75  Squirrel Hill North                               29.528304"
      ]
     },
     "execution_count": 470,
     "metadata": {},
     "output_type": "execute_result"
    }
   ],
   "source": [
    "air_quality_benefit_map.sort_values('air_quality_benfits_total_dollar_value', ascending=False).head(5)"
   ]
  },
  {
   "cell_type": "markdown",
   "id": "07c87ca3",
   "metadata": {},
   "source": [
    "**Inference:\n",
    "3 of the top 5 neighborhoods with the highest air quality benefits are also in the top 5 neighborhoods with highest tree density. This exhibhits a clear positive correlation between the two**"
   ]
  },
  {
   "cell_type": "markdown",
   "id": "4df274f7",
   "metadata": {},
   "source": [
    "# Research questions"
   ]
  },
  {
   "cell_type": "markdown",
   "id": "b4c0d128",
   "metadata": {},
   "source": [
    "**1. What are the factors facilitating the high tree density in the Allegheny Center, Friendship, and Allegheny West neighborhoods?**"
   ]
  },
  {
   "cell_type": "markdown",
   "id": "b1efc585",
   "metadata": {},
   "source": [
    "**2. We see that there exists a clear correlation between the tree density and the overall benefits, however is this reflective of the reality? For example, given that Allegheny Center has the highest tree density where does it rank amongst the overall Air Quality Index score compared to the other neighborhoods?**"
   ]
  }
 ],
 "metadata": {
  "kernelspec": {
   "display_name": "Python 3",
   "language": "python",
   "name": "python3"
  },
  "language_info": {
   "codemirror_mode": {
    "name": "ipython",
    "version": 3
   },
   "file_extension": ".py",
   "mimetype": "text/x-python",
   "name": "python",
   "nbconvert_exporter": "python",
   "pygments_lexer": "ipython3",
   "version": "3.8.8"
  }
 },
 "nbformat": 4,
 "nbformat_minor": 5
}
