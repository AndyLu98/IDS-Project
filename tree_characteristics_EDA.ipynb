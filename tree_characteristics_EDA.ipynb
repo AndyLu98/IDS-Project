{
  "nbformat": 4,
  "nbformat_minor": 0,
  "metadata": {
    "colab": {
      "name": "tree_characteristics_EDA.ipynb",
      "provenance": [],
      "collapsed_sections": []
    },
    "kernelspec": {
      "name": "python3",
      "display_name": "Python 3"
    },
    "language_info": {
      "name": "python"
    },
    "widgets": {
      "application/vnd.jupyter.widget-state+json": {
        "340686b6b0394349a5d0d5465675f0b5": {
          "model_module": "@jupyter-widgets/controls",
          "model_name": "DropdownModel",
          "model_module_version": "1.5.0",
          "state": {
            "_options_labels": [
              "Abies balsamea",
              "Abies concolor",
              "Abies fraseri",
              "Acer buergerianum",
              "Acer campestre",
              "Acer ginnala",
              "Acer griseum",
              "Acer miyabei",
              "Acer negundo",
              "Acer nigrum",
              "Acer palmatum",
              "Acer pensylvanicum",
              "Acer platanoides",
              "Acer pseudoplatanus",
              "Acer rubrum",
              "Acer saccharinum",
              "Acer saccharum",
              "Acer spp.",
              "Acer tataricum",
              "Acer truncatum",
              "Acer x freemanii",
              "Acer x truncatum",
              "Aesculus flava",
              "Aesculus glabra",
              "Aesculus hippocastanum",
              "Aesculus pavia",
              "Aesculus spp.",
              "Aesculus x carnea",
              "Ailanthus altissima",
              "Albizia julibrissin",
              "Amelanchier alnifolia",
              "Amelanchier arborea",
              "Amelanchier canadensis",
              "Amelanchier laevis",
              "Amelanchier spp.",
              "Asimina triloba",
              "Berberis thunbergii",
              "Betula alleghaniensis",
              "Betula nigra",
              "Betula papyrifera",
              "Betula pendula",
              "Betula populifolia",
              "Broussonetia papyrifera",
              "Buxus spp.",
              "Carpinus betulus",
              "Carpinus caroliniana",
              "Carya cordiformis",
              "Carya glabra",
              "Carya illinoensis",
              "Carya tomentosa",
              "Castanea dentata",
              "Castanea mollissima",
              "Catalpa speciosa",
              "Cedrus atlantica",
              "Celtis occidentalis",
              "Cercidiphyllum japonicum",
              "Cercis canadensis",
              "Cercis reniformis",
              "Chamaecyparis lawsonia",
              "Chamaecyparis nootkatensis",
              "Chamaecyparis pisifera",
              "Chamaecyparis thyoides",
              "Chionanthus retusus",
              "Chionanthus virginicus",
              "Cladrastis kentukea",
              "Cladrastis lutea",
              "Cornus alternifolia",
              "Cornus drummondii",
              "Cornus florida",
              "Cornus kousa",
              "Cornus mas",
              "Cornus spp.",
              "Corylus americana",
              "Corylus colurna",
              "Corylus cornuta",
              "Cotinus coggygria",
              "Cotinus obovatus",
              "Crataegus spp.",
              "Crataegus viridis",
              "Cryptomeria japonica",
              "Diospyros virginiana",
              "Elaeagnus angustifolia",
              "Eucommia ulmoides",
              "Fagus grandifolia",
              "Fagus sylvatica",
              "Ficus carica",
              "Fraxinus americana",
              "Fraxinus nigra",
              "Fraxinus pennsylvanica",
              "Fraxinus spp.",
              "Ginkgo biloba",
              "Gleditsia triacanthos",
              "Gleditsia triacanthos inermis",
              "Gymnocladus dioicus",
              "Halesia caroliniana",
              "Halesia tetraptera",
              "Hamamelis virginiana",
              "Hibiscus syriacus",
              "Ilex opaca",
              "Juglans cinerea",
              "Juglans nigra",
              "Juglans regia",
              "Juniperus spp.",
              "Juniperus virginiana",
              "Koelreuteria paniculata",
              "Laburnum x watereri",
              "Larix laricina",
              "Liquidambar styraciflua",
              "Liriodendron tulipifera",
              "Maackia amurensis",
              "Maclura pomifera",
              "Magnolia acuminata",
              "Magnolia grandiflora",
              "Magnolia macrophylla",
              "Magnolia spp.",
              "Magnolia stellata",
              "Magnolia tripetala",
              "Magnolia virginiana",
              "Magnolia x soulangiana",
              "Malus communis",
              "Malus pumila",
              "Malus spp.",
              "Malus spp. 'Donald Wyman'",
              "Metasequoia glyptostroboides",
              "Morus alba",
              "Morus rubra",
              "Nyssa sylvatica",
              "Ostrya virginiana",
              "Parrotia persica",
              "Phellodendron amurense",
              "Picea abies",
              "Picea engelmannii",
              "Picea glauca",
              "Picea glauca var. albertiana",
              "Picea omorika",
              "Picea pungens",
              "Picea spp.",
              "Pinus bungeana",
              "Pinus flexilis",
              "Pinus mugo",
              "Pinus nigra",
              "Pinus parviflora",
              "Pinus ponderosa",
              "Pinus resinosa",
              "Pinus spp.",
              "Pinus strobus",
              "Pinus sylvestris",
              "Pinus virginiana",
              "Platanus occidentalis",
              "Platanus x acerifolia",
              "Populus alba",
              "Populus deltoides",
              "Populus nigra",
              "Populus x canadensis",
              "Prunus americana",
              "Prunus avium",
              "Prunus cerasifera",
              "Prunus nigra",
              "Prunus pensylvanica",
              "Prunus persica",
              "Prunus sargentii",
              "Prunus serotina",
              "Prunus serrulata",
              "Prunus spp.",
              "Prunus subhirtella",
              "Prunus virginiana",
              "Prunus x yedoensis",
              "Pseudolarix amabilis",
              "Pseudotsuga menziesii",
              "Pyrus calleryana",
              "Pyrus communis",
              "Pyrus spp.",
              "Quercus acutissima",
              "Quercus alba",
              "Quercus bicolor",
              "Quercus cerris",
              "Quercus coccinea",
              "Quercus imbricaria",
              "Quercus macrocarpa",
              "Quercus muehlenbergii",
              "Quercus nigra",
              "Quercus palustris",
              "Quercus phellos",
              "Quercus prinus",
              "Quercus robur",
              "Quercus rubra",
              "Quercus spp.",
              "Quercus velutina",
              "Rhamnus cathartica",
              "Rhus glabra",
              "Rhus typhina",
              "Robinia pseudoacacia",
              "Salix babylonica",
              "Salix discolor",
              "Salix matsudana",
              "Salix nigra",
              "Salix spp.",
              "Sambucus canadensis",
              "Sassafras albidum",
              "Sequoiadendron giganteum",
              "Sophora japonica",
              "Sorbus americana",
              "Sorbus aucuparia",
              "Stump",
              "Styphnolobium japonicum",
              "Styrax americanus",
              "Styrax japonicus",
              "Syringa reticulata",
              "Syringa vulgaris",
              "Taxodium distichum",
              "Taxus spp.",
              "Tetradium daniellii",
              "Thuja occidentalis",
              "Tilia americana",
              "Tilia cordata",
              "Tilia petiolaris",
              "Tilia tomentosa",
              "Tsuga canadensis",
              "Ulmus alata",
              "Ulmus americana",
              "Ulmus parvifolia",
              "Ulmus pumila",
              "Ulmus rubra",
              "Ulmus spp.",
              "Ulmus x",
              "Unknown",
              "Unknown Shrub",
              "Vacant Site Large",
              "Vacant Site Medium",
              "Vacant Site Not Suitable",
              "Vacant Site Small",
              "Viburnum prunifolium",
              "Wisteria spp.",
              "Zelkova serrata"
            ],
            "_view_name": "DropdownView",
            "style": "IPY_MODEL_4f7a8ad2bf0e4da1bab9c1bffad303af",
            "_dom_classes": [],
            "description": "Species:",
            "_model_name": "DropdownModel",
            "index": 90,
            "_view_module": "@jupyter-widgets/controls",
            "_model_module_version": "1.5.0",
            "_view_count": null,
            "disabled": false,
            "_view_module_version": "1.5.0",
            "description_tooltip": null,
            "_model_module": "@jupyter-widgets/controls",
            "layout": "IPY_MODEL_84a9eb3fcc024a0a961ccfc2cff6d2ac"
          }
        },
        "4f7a8ad2bf0e4da1bab9c1bffad303af": {
          "model_module": "@jupyter-widgets/controls",
          "model_name": "DescriptionStyleModel",
          "model_module_version": "1.5.0",
          "state": {
            "_view_name": "StyleView",
            "_model_name": "DescriptionStyleModel",
            "description_width": "",
            "_view_module": "@jupyter-widgets/base",
            "_model_module_version": "1.5.0",
            "_view_count": null,
            "_view_module_version": "1.2.0",
            "_model_module": "@jupyter-widgets/controls"
          }
        },
        "84a9eb3fcc024a0a961ccfc2cff6d2ac": {
          "model_module": "@jupyter-widgets/base",
          "model_name": "LayoutModel",
          "model_module_version": "1.2.0",
          "state": {
            "_view_name": "LayoutView",
            "grid_template_rows": null,
            "right": null,
            "justify_content": null,
            "_view_module": "@jupyter-widgets/base",
            "overflow": null,
            "_model_module_version": "1.2.0",
            "_view_count": null,
            "flex_flow": null,
            "width": null,
            "min_width": null,
            "border": null,
            "align_items": null,
            "bottom": null,
            "_model_module": "@jupyter-widgets/base",
            "top": null,
            "grid_column": null,
            "overflow_y": null,
            "overflow_x": null,
            "grid_auto_flow": null,
            "grid_area": null,
            "grid_template_columns": null,
            "flex": null,
            "_model_name": "LayoutModel",
            "justify_items": null,
            "grid_row": null,
            "max_height": null,
            "align_content": null,
            "visibility": null,
            "align_self": null,
            "height": null,
            "min_height": null,
            "padding": null,
            "grid_auto_rows": null,
            "grid_gap": null,
            "max_width": null,
            "order": null,
            "_view_module_version": "1.2.0",
            "grid_template_areas": null,
            "object_position": null,
            "object_fit": null,
            "grid_auto_columns": null,
            "margin": null,
            "display": null,
            "left": null
          }
        }
      }
    }
  },
  "cells": [
    {
      "cell_type": "code",
      "metadata": {
        "id": "droe5Rtqk2UB"
      },
      "source": [
        "#pip install -U plotly"
      ],
      "execution_count": 72,
      "outputs": []
    },
    {
      "cell_type": "code",
      "metadata": {
        "id": "15c5tKG6lSdp"
      },
      "source": [
        "#!pip install -U kaleido"
      ],
      "execution_count": 73,
      "outputs": []
    },
    {
      "cell_type": "code",
      "metadata": {
        "id": "yDNvK-eJWVLu"
      },
      "source": [
        "#!pip install ipywidgets"
      ],
      "execution_count": 74,
      "outputs": []
    },
    {
      "cell_type": "code",
      "metadata": {
        "id": "_VUa45B1lzuJ"
      },
      "source": [
        "import numpy as np\n",
        "import pandas as pd\n",
        "import matplotlib.pyplot as plt\n",
        "import seaborn as sns\n",
        "import json, ast\n",
        "from google.colab import files\n",
        "import ipywidgets as widgets\n",
        "from IPython.display import display\n",
        "from IPython.display import Image"
      ],
      "execution_count": 1,
      "outputs": []
    },
    {
      "cell_type": "code",
      "metadata": {
        "colab": {
          "base_uri": "https://localhost:8080/"
        },
        "id": "bN24ld7bj2Ze",
        "outputId": "462a31fe-0852-4726-9bf1-e8bbe66b5d65"
      },
      "source": [
        "import plotly\n",
        "import plotly.express as px\n",
        "print(plotly.__version__)"
      ],
      "execution_count": 2,
      "outputs": [
        {
          "output_type": "stream",
          "name": "stdout",
          "text": [
            "5.4.0\n"
          ]
        }
      ]
    },
    {
      "cell_type": "code",
      "metadata": {
        "colab": {
          "base_uri": "https://localhost:8080/"
        },
        "id": "P40IbZN1l8bo",
        "outputId": "cde470dc-1904-46ba-81b5-5015b00896fe"
      },
      "source": [
        "df_trees = pd.read_csv(\"/cleaned_tree_data_5.csv\", encoding=\"ISO-8859-1\")"
      ],
      "execution_count": 3,
      "outputs": [
        {
          "output_type": "stream",
          "name": "stderr",
          "text": [
            "/usr/local/lib/python3.7/dist-packages/IPython/core/interactiveshell.py:2718: DtypeWarning: Columns (1) have mixed types.Specify dtype option on import or set low_memory=False.\n",
            "  interactivity=interactivity, compiler=compiler, result=result)\n"
          ]
        }
      ]
    },
    {
      "cell_type": "markdown",
      "metadata": {
        "id": "zKcqSnU-mIda"
      },
      "source": [
        "**<h3>Average Tree Height across Neighborhoods</h3>**"
      ]
    },
    {
      "cell_type": "code",
      "metadata": {
        "colab": {
          "base_uri": "https://localhost:8080/",
          "height": 419
        },
        "id": "htYeZ93Sm-R9",
        "outputId": "3be7db8c-c08d-4d2f-be47-b7022f925bb6"
      },
      "source": [
        "df_height = df_trees.groupby(\"neighborhood\")[\"height\"].mean()\n",
        "df_height = df_height.to_frame().reset_index()\n",
        "df_height.columns = ['neighborhood', 'average_height']\n",
        "df_height"
      ],
      "execution_count": 5,
      "outputs": [
        {
          "output_type": "execute_result",
          "data": {
            "text/html": [
              "<div>\n",
              "<style scoped>\n",
              "    .dataframe tbody tr th:only-of-type {\n",
              "        vertical-align: middle;\n",
              "    }\n",
              "\n",
              "    .dataframe tbody tr th {\n",
              "        vertical-align: top;\n",
              "    }\n",
              "\n",
              "    .dataframe thead th {\n",
              "        text-align: right;\n",
              "    }\n",
              "</style>\n",
              "<table border=\"1\" class=\"dataframe\">\n",
              "  <thead>\n",
              "    <tr style=\"text-align: right;\">\n",
              "      <th></th>\n",
              "      <th>neighborhood</th>\n",
              "      <th>average_height</th>\n",
              "    </tr>\n",
              "  </thead>\n",
              "  <tbody>\n",
              "    <tr>\n",
              "      <th>0</th>\n",
              "      <td>Allegheny Center</td>\n",
              "      <td>21.697225</td>\n",
              "    </tr>\n",
              "    <tr>\n",
              "      <th>1</th>\n",
              "      <td>Allegheny West</td>\n",
              "      <td>22.656178</td>\n",
              "    </tr>\n",
              "    <tr>\n",
              "      <th>2</th>\n",
              "      <td>Allentown</td>\n",
              "      <td>19.034898</td>\n",
              "    </tr>\n",
              "    <tr>\n",
              "      <th>3</th>\n",
              "      <td>Arlington</td>\n",
              "      <td>18.917664</td>\n",
              "    </tr>\n",
              "    <tr>\n",
              "      <th>4</th>\n",
              "      <td>Arlington Heights</td>\n",
              "      <td>42.748561</td>\n",
              "    </tr>\n",
              "    <tr>\n",
              "      <th>...</th>\n",
              "      <td>...</td>\n",
              "      <td>...</td>\n",
              "    </tr>\n",
              "    <tr>\n",
              "      <th>85</th>\n",
              "      <td>Upper Lawrenceville</td>\n",
              "      <td>23.099635</td>\n",
              "    </tr>\n",
              "    <tr>\n",
              "      <th>86</th>\n",
              "      <td>West End</td>\n",
              "      <td>20.215296</td>\n",
              "    </tr>\n",
              "    <tr>\n",
              "      <th>87</th>\n",
              "      <td>West Oakland</td>\n",
              "      <td>15.463468</td>\n",
              "    </tr>\n",
              "    <tr>\n",
              "      <th>88</th>\n",
              "      <td>Westwood</td>\n",
              "      <td>28.845386</td>\n",
              "    </tr>\n",
              "    <tr>\n",
              "      <th>89</th>\n",
              "      <td>Windgap</td>\n",
              "      <td>28.102171</td>\n",
              "    </tr>\n",
              "  </tbody>\n",
              "</table>\n",
              "<p>90 rows × 2 columns</p>\n",
              "</div>"
            ],
            "text/plain": [
              "           neighborhood  average_height\n",
              "0      Allegheny Center       21.697225\n",
              "1        Allegheny West       22.656178\n",
              "2             Allentown       19.034898\n",
              "3             Arlington       18.917664\n",
              "4     Arlington Heights       42.748561\n",
              "..                  ...             ...\n",
              "85  Upper Lawrenceville       23.099635\n",
              "86             West End       20.215296\n",
              "87         West Oakland       15.463468\n",
              "88             Westwood       28.845386\n",
              "89              Windgap       28.102171\n",
              "\n",
              "[90 rows x 2 columns]"
            ]
          },
          "metadata": {},
          "execution_count": 5
        }
      ]
    },
    {
      "cell_type": "code",
      "metadata": {
        "colab": {
          "base_uri": "https://localhost:8080/",
          "height": 717
        },
        "id": "tYki_ZG_jKTu",
        "outputId": "04e811a8-c51c-4c80-97e4-b956ad9600e4"
      },
      "source": [
        "fig=px.choropleth(df_height,\n",
        "             geojson=\"https://raw.githubusercontent.com/blackmad/neighborhoods/master/gn-pittsburgh.geojson\",\n",
        "             featureidkey='properties.name',   \n",
        "             locations='neighborhood',        #column in dataframe\n",
        "             color='average_height',\n",
        "              color_continuous_scale='Inferno',\n",
        "               title='Average Tree Height across Neighborhood' ,  \n",
        "               height=700\n",
        "              )\n",
        "fig.update_geos(fitbounds=\"locations\", visible=False)\n",
        "fig.show()\n",
        "#img_bytes = fig.to_image(format=\"png\")\n",
        "#Image(img_bytes)"
      ],
      "execution_count": 70,
      "outputs": [
        {
          "output_type": "display_data",
          "data": {
            "text/html": [
              "<html>\n",
              "<head><meta charset=\"utf-8\" /></head>\n",
              "<body>\n",
              "    <div>            <script src=\"https://cdnjs.cloudflare.com/ajax/libs/mathjax/2.7.5/MathJax.js?config=TeX-AMS-MML_SVG\"></script><script type=\"text/javascript\">if (window.MathJax) {MathJax.Hub.Config({SVG: {font: \"STIX-Web\"}});}</script>                <script type=\"text/javascript\">window.PlotlyConfig = {MathJaxConfig: 'local'};</script>\n",
              "        <script src=\"https://cdn.plot.ly/plotly-2.6.3.min.js\"></script>                <div id=\"9e769a47-f79f-41af-918c-56cf9d2e857c\" class=\"plotly-graph-div\" style=\"height:700px; width:100%;\"></div>            <script type=\"text/javascript\">                                    window.PLOTLYENV=window.PLOTLYENV || {};                                    if (document.getElementById(\"9e769a47-f79f-41af-918c-56cf9d2e857c\")) {                    Plotly.newPlot(                        \"9e769a47-f79f-41af-918c-56cf9d2e857c\",                        [{\"coloraxis\":\"coloraxis\",\"featureidkey\":\"properties.name\",\"geo\":\"geo\",\"geojson\":\"https://raw.githubusercontent.com/blackmad/neighborhoods/master/gn-pittsburgh.geojson\",\"hovertemplate\":\"neighborhood=%{location}<br>average_height=%{z}<extra></extra>\",\"locations\":[\"Allegheny Center\",\"Allegheny West\",\"Allentown\",\"Arlington\",\"Arlington Heights\",\"Banksville\",\"Bedford Dwellings\",\"Beechview\",\"Beltzhoover\",\"Bloomfield\",\"Bluff\",\"Bon Air\",\"Brighton Heights\",\"Brookline\",\"California-Kirkbride\",\"Carrick\",\"Central Business District\",\"Central Lawrenceville\",\"Central Northside\",\"Central Oakland\",\"Chartiers City\",\"Chateau\",\"Crafton Heights\",\"Crawford-Roberts\",\"Duquesne Heights\",\"East Allegheny\",\"East Carnegie\",\"East Hills\",\"East Liberty\",\"Elliott\",\"Esplen\",\"Fairywood\",\"Fineview\",\"Friendship\",\"Garfield\",\"Glen Hazel\",\"Greenfield\",\"Hays\",\"Hazelwood\",\"Highland Park\",\"Homewood North\",\"Homewood South\",\"Homewood West\",\"Knoxville\",\"Larimer\",\"Lincoln Place\",\"Lincoln-Lemington-Belmar\",\"Lower Lawrenceville\",\"Manchester\",\"Marshall-Shadeland\",\"Middle Hill\",\"Morningside\",\"Mount Washington\",\"Mt. Oliver\",\"New Homestead\",\"North Oakland\",\"North Shore\",\"Northview Heights\",\"Oakwood\",\"Overbrook\",\"Perry North\",\"Perry South\",\"Point Breeze\",\"Point Breeze North\",\"Polish Hill\",\"Regent Square\",\"Ridgemont\",\"Shadyside\",\"Sheraden\",\"South Oakland\",\"South Shore\",\"South Side Flats\",\"South Side Slopes\",\"Spring Garden\",\"Spring Hill-City View\",\"Squirrel Hill North\",\"Squirrel Hill South\",\"St. Clair\",\"Stanton Heights\",\"Strip District\",\"Summer Hill\",\"Swisshelm Park\",\"Terrace Village\",\"Troy Hill\",\"Upper Hill\",\"Upper Lawrenceville\",\"West End\",\"West Oakland\",\"Westwood\",\"Windgap\"],\"name\":\"\",\"z\":[21.697225070276033,22.65617766192319,19.0348983605664,18.917663813865445,42.748560817084496,27.621591064404278,17.13232323232323,25.445174314551128,17.710660743443327,21.008745876402386,18.869911378586647,25.462400528335824,25.317830167441286,27.248488402579113,24.654224937462885,23.53816020513697,20.76965206511234,16.964063216640536,22.29167415972857,25.42940442321493,36.3182214654041,17.59032793015603,24.8854114145696,17.58817954932439,17.83886850565479,20.868135287879156,17.341183574879228,33.173274926878655,20.033658224150184,25.704208773871866,15.0,42.964285714285715,34.524742656930265,20.423736460582017,20.789227243373166,26.0,21.816462108825025,45.0,23.231899585648993,22.92346213900022,22.61688633104962,20.618015390737995,19.85802961962483,29.858873458204837,21.160648882360178,27.153197123939865,33.336483236842085,20.647801222317568,20.932834599569368,25.068066746815624,16.67164681837486,20.728853975825636,20.803643863078296,25.0,31.524360004673785,28.239575911992826,18.83398970416846,35.333333333333336,28.492871275644124,28.329156988058493,22.25866945580269,26.30350007880868,29.31624890738515,21.870384045393855,18.04806141740533,27.690667232638823,20.0239614221104,25.04479394866151,23.663303305856207,19.232525499738085,12.5,19.001585355820126,19.828907532882546,19.945486205154364,21.46098710077807,33.53406540944004,22.201208486863248,38.5,32.299556700430735,17.15971116285178,32.486626443368934,31.080565267034633,19.102008449966057,11.281663599587302,22.485423642577175,23.099634892955454,20.21529568680942,15.46346822090529,28.84538581089759,28.102170826512364],\"type\":\"choropleth\"}],                        {\"template\":{\"data\":{\"bar\":[{\"error_x\":{\"color\":\"#2a3f5f\"},\"error_y\":{\"color\":\"#2a3f5f\"},\"marker\":{\"line\":{\"color\":\"#E5ECF6\",\"width\":0.5},\"pattern\":{\"fillmode\":\"overlay\",\"size\":10,\"solidity\":0.2}},\"type\":\"bar\"}],\"barpolar\":[{\"marker\":{\"line\":{\"color\":\"#E5ECF6\",\"width\":0.5},\"pattern\":{\"fillmode\":\"overlay\",\"size\":10,\"solidity\":0.2}},\"type\":\"barpolar\"}],\"carpet\":[{\"aaxis\":{\"endlinecolor\":\"#2a3f5f\",\"gridcolor\":\"white\",\"linecolor\":\"white\",\"minorgridcolor\":\"white\",\"startlinecolor\":\"#2a3f5f\"},\"baxis\":{\"endlinecolor\":\"#2a3f5f\",\"gridcolor\":\"white\",\"linecolor\":\"white\",\"minorgridcolor\":\"white\",\"startlinecolor\":\"#2a3f5f\"},\"type\":\"carpet\"}],\"choropleth\":[{\"colorbar\":{\"outlinewidth\":0,\"ticks\":\"\"},\"type\":\"choropleth\"}],\"contour\":[{\"colorbar\":{\"outlinewidth\":0,\"ticks\":\"\"},\"colorscale\":[[0.0,\"#0d0887\"],[0.1111111111111111,\"#46039f\"],[0.2222222222222222,\"#7201a8\"],[0.3333333333333333,\"#9c179e\"],[0.4444444444444444,\"#bd3786\"],[0.5555555555555556,\"#d8576b\"],[0.6666666666666666,\"#ed7953\"],[0.7777777777777778,\"#fb9f3a\"],[0.8888888888888888,\"#fdca26\"],[1.0,\"#f0f921\"]],\"type\":\"contour\"}],\"contourcarpet\":[{\"colorbar\":{\"outlinewidth\":0,\"ticks\":\"\"},\"type\":\"contourcarpet\"}],\"heatmap\":[{\"colorbar\":{\"outlinewidth\":0,\"ticks\":\"\"},\"colorscale\":[[0.0,\"#0d0887\"],[0.1111111111111111,\"#46039f\"],[0.2222222222222222,\"#7201a8\"],[0.3333333333333333,\"#9c179e\"],[0.4444444444444444,\"#bd3786\"],[0.5555555555555556,\"#d8576b\"],[0.6666666666666666,\"#ed7953\"],[0.7777777777777778,\"#fb9f3a\"],[0.8888888888888888,\"#fdca26\"],[1.0,\"#f0f921\"]],\"type\":\"heatmap\"}],\"heatmapgl\":[{\"colorbar\":{\"outlinewidth\":0,\"ticks\":\"\"},\"colorscale\":[[0.0,\"#0d0887\"],[0.1111111111111111,\"#46039f\"],[0.2222222222222222,\"#7201a8\"],[0.3333333333333333,\"#9c179e\"],[0.4444444444444444,\"#bd3786\"],[0.5555555555555556,\"#d8576b\"],[0.6666666666666666,\"#ed7953\"],[0.7777777777777778,\"#fb9f3a\"],[0.8888888888888888,\"#fdca26\"],[1.0,\"#f0f921\"]],\"type\":\"heatmapgl\"}],\"histogram\":[{\"marker\":{\"pattern\":{\"fillmode\":\"overlay\",\"size\":10,\"solidity\":0.2}},\"type\":\"histogram\"}],\"histogram2d\":[{\"colorbar\":{\"outlinewidth\":0,\"ticks\":\"\"},\"colorscale\":[[0.0,\"#0d0887\"],[0.1111111111111111,\"#46039f\"],[0.2222222222222222,\"#7201a8\"],[0.3333333333333333,\"#9c179e\"],[0.4444444444444444,\"#bd3786\"],[0.5555555555555556,\"#d8576b\"],[0.6666666666666666,\"#ed7953\"],[0.7777777777777778,\"#fb9f3a\"],[0.8888888888888888,\"#fdca26\"],[1.0,\"#f0f921\"]],\"type\":\"histogram2d\"}],\"histogram2dcontour\":[{\"colorbar\":{\"outlinewidth\":0,\"ticks\":\"\"},\"colorscale\":[[0.0,\"#0d0887\"],[0.1111111111111111,\"#46039f\"],[0.2222222222222222,\"#7201a8\"],[0.3333333333333333,\"#9c179e\"],[0.4444444444444444,\"#bd3786\"],[0.5555555555555556,\"#d8576b\"],[0.6666666666666666,\"#ed7953\"],[0.7777777777777778,\"#fb9f3a\"],[0.8888888888888888,\"#fdca26\"],[1.0,\"#f0f921\"]],\"type\":\"histogram2dcontour\"}],\"mesh3d\":[{\"colorbar\":{\"outlinewidth\":0,\"ticks\":\"\"},\"type\":\"mesh3d\"}],\"parcoords\":[{\"line\":{\"colorbar\":{\"outlinewidth\":0,\"ticks\":\"\"}},\"type\":\"parcoords\"}],\"pie\":[{\"automargin\":true,\"type\":\"pie\"}],\"scatter\":[{\"marker\":{\"colorbar\":{\"outlinewidth\":0,\"ticks\":\"\"}},\"type\":\"scatter\"}],\"scatter3d\":[{\"line\":{\"colorbar\":{\"outlinewidth\":0,\"ticks\":\"\"}},\"marker\":{\"colorbar\":{\"outlinewidth\":0,\"ticks\":\"\"}},\"type\":\"scatter3d\"}],\"scattercarpet\":[{\"marker\":{\"colorbar\":{\"outlinewidth\":0,\"ticks\":\"\"}},\"type\":\"scattercarpet\"}],\"scattergeo\":[{\"marker\":{\"colorbar\":{\"outlinewidth\":0,\"ticks\":\"\"}},\"type\":\"scattergeo\"}],\"scattergl\":[{\"marker\":{\"colorbar\":{\"outlinewidth\":0,\"ticks\":\"\"}},\"type\":\"scattergl\"}],\"scattermapbox\":[{\"marker\":{\"colorbar\":{\"outlinewidth\":0,\"ticks\":\"\"}},\"type\":\"scattermapbox\"}],\"scatterpolar\":[{\"marker\":{\"colorbar\":{\"outlinewidth\":0,\"ticks\":\"\"}},\"type\":\"scatterpolar\"}],\"scatterpolargl\":[{\"marker\":{\"colorbar\":{\"outlinewidth\":0,\"ticks\":\"\"}},\"type\":\"scatterpolargl\"}],\"scatterternary\":[{\"marker\":{\"colorbar\":{\"outlinewidth\":0,\"ticks\":\"\"}},\"type\":\"scatterternary\"}],\"surface\":[{\"colorbar\":{\"outlinewidth\":0,\"ticks\":\"\"},\"colorscale\":[[0.0,\"#0d0887\"],[0.1111111111111111,\"#46039f\"],[0.2222222222222222,\"#7201a8\"],[0.3333333333333333,\"#9c179e\"],[0.4444444444444444,\"#bd3786\"],[0.5555555555555556,\"#d8576b\"],[0.6666666666666666,\"#ed7953\"],[0.7777777777777778,\"#fb9f3a\"],[0.8888888888888888,\"#fdca26\"],[1.0,\"#f0f921\"]],\"type\":\"surface\"}],\"table\":[{\"cells\":{\"fill\":{\"color\":\"#EBF0F8\"},\"line\":{\"color\":\"white\"}},\"header\":{\"fill\":{\"color\":\"#C8D4E3\"},\"line\":{\"color\":\"white\"}},\"type\":\"table\"}]},\"layout\":{\"annotationdefaults\":{\"arrowcolor\":\"#2a3f5f\",\"arrowhead\":0,\"arrowwidth\":1},\"autotypenumbers\":\"strict\",\"coloraxis\":{\"colorbar\":{\"outlinewidth\":0,\"ticks\":\"\"}},\"colorscale\":{\"diverging\":[[0,\"#8e0152\"],[0.1,\"#c51b7d\"],[0.2,\"#de77ae\"],[0.3,\"#f1b6da\"],[0.4,\"#fde0ef\"],[0.5,\"#f7f7f7\"],[0.6,\"#e6f5d0\"],[0.7,\"#b8e186\"],[0.8,\"#7fbc41\"],[0.9,\"#4d9221\"],[1,\"#276419\"]],\"sequential\":[[0.0,\"#0d0887\"],[0.1111111111111111,\"#46039f\"],[0.2222222222222222,\"#7201a8\"],[0.3333333333333333,\"#9c179e\"],[0.4444444444444444,\"#bd3786\"],[0.5555555555555556,\"#d8576b\"],[0.6666666666666666,\"#ed7953\"],[0.7777777777777778,\"#fb9f3a\"],[0.8888888888888888,\"#fdca26\"],[1.0,\"#f0f921\"]],\"sequentialminus\":[[0.0,\"#0d0887\"],[0.1111111111111111,\"#46039f\"],[0.2222222222222222,\"#7201a8\"],[0.3333333333333333,\"#9c179e\"],[0.4444444444444444,\"#bd3786\"],[0.5555555555555556,\"#d8576b\"],[0.6666666666666666,\"#ed7953\"],[0.7777777777777778,\"#fb9f3a\"],[0.8888888888888888,\"#fdca26\"],[1.0,\"#f0f921\"]]},\"colorway\":[\"#636efa\",\"#EF553B\",\"#00cc96\",\"#ab63fa\",\"#FFA15A\",\"#19d3f3\",\"#FF6692\",\"#B6E880\",\"#FF97FF\",\"#FECB52\"],\"font\":{\"color\":\"#2a3f5f\"},\"geo\":{\"bgcolor\":\"white\",\"lakecolor\":\"white\",\"landcolor\":\"#E5ECF6\",\"showlakes\":true,\"showland\":true,\"subunitcolor\":\"white\"},\"hoverlabel\":{\"align\":\"left\"},\"hovermode\":\"closest\",\"mapbox\":{\"style\":\"light\"},\"paper_bgcolor\":\"white\",\"plot_bgcolor\":\"#E5ECF6\",\"polar\":{\"angularaxis\":{\"gridcolor\":\"white\",\"linecolor\":\"white\",\"ticks\":\"\"},\"bgcolor\":\"#E5ECF6\",\"radialaxis\":{\"gridcolor\":\"white\",\"linecolor\":\"white\",\"ticks\":\"\"}},\"scene\":{\"xaxis\":{\"backgroundcolor\":\"#E5ECF6\",\"gridcolor\":\"white\",\"gridwidth\":2,\"linecolor\":\"white\",\"showbackground\":true,\"ticks\":\"\",\"zerolinecolor\":\"white\"},\"yaxis\":{\"backgroundcolor\":\"#E5ECF6\",\"gridcolor\":\"white\",\"gridwidth\":2,\"linecolor\":\"white\",\"showbackground\":true,\"ticks\":\"\",\"zerolinecolor\":\"white\"},\"zaxis\":{\"backgroundcolor\":\"#E5ECF6\",\"gridcolor\":\"white\",\"gridwidth\":2,\"linecolor\":\"white\",\"showbackground\":true,\"ticks\":\"\",\"zerolinecolor\":\"white\"}},\"shapedefaults\":{\"line\":{\"color\":\"#2a3f5f\"}},\"ternary\":{\"aaxis\":{\"gridcolor\":\"white\",\"linecolor\":\"white\",\"ticks\":\"\"},\"baxis\":{\"gridcolor\":\"white\",\"linecolor\":\"white\",\"ticks\":\"\"},\"bgcolor\":\"#E5ECF6\",\"caxis\":{\"gridcolor\":\"white\",\"linecolor\":\"white\",\"ticks\":\"\"}},\"title\":{\"x\":0.05},\"xaxis\":{\"automargin\":true,\"gridcolor\":\"white\",\"linecolor\":\"white\",\"ticks\":\"\",\"title\":{\"standoff\":15},\"zerolinecolor\":\"white\",\"zerolinewidth\":2},\"yaxis\":{\"automargin\":true,\"gridcolor\":\"white\",\"linecolor\":\"white\",\"ticks\":\"\",\"title\":{\"standoff\":15},\"zerolinecolor\":\"white\",\"zerolinewidth\":2}}},\"geo\":{\"domain\":{\"x\":[0.0,1.0],\"y\":[0.0,1.0]},\"center\":{},\"fitbounds\":\"locations\",\"visible\":false},\"coloraxis\":{\"colorbar\":{\"title\":{\"text\":\"average_height\"}},\"colorscale\":[[0.0,\"#000004\"],[0.1111111111111111,\"#1b0c41\"],[0.2222222222222222,\"#4a0c6b\"],[0.3333333333333333,\"#781c6d\"],[0.4444444444444444,\"#a52c60\"],[0.5555555555555556,\"#cf4446\"],[0.6666666666666666,\"#ed6925\"],[0.7777777777777778,\"#fb9b06\"],[0.8888888888888888,\"#f7d13d\"],[1.0,\"#fcffa4\"]]},\"legend\":{\"tracegroupgap\":0},\"title\":{\"text\":\"Average Tree Height across Neighborhood\"},\"height\":700},                        {\"responsive\": true}                    ).then(function(){\n",
              "                            \n",
              "var gd = document.getElementById('9e769a47-f79f-41af-918c-56cf9d2e857c');\n",
              "var x = new MutationObserver(function (mutations, observer) {{\n",
              "        var display = window.getComputedStyle(gd).display;\n",
              "        if (!display || display === 'none') {{\n",
              "            console.log([gd, 'removed!']);\n",
              "            Plotly.purge(gd);\n",
              "            observer.disconnect();\n",
              "        }}\n",
              "}});\n",
              "\n",
              "// Listen for the removal of the full notebook cells\n",
              "var notebookContainer = gd.closest('#notebook-container');\n",
              "if (notebookContainer) {{\n",
              "    x.observe(notebookContainer, {childList: true});\n",
              "}}\n",
              "\n",
              "// Listen for the clearing of the current output cell\n",
              "var outputEl = gd.closest('.output');\n",
              "if (outputEl) {{\n",
              "    x.observe(outputEl, {childList: true});\n",
              "}}\n",
              "\n",
              "                        })                };                            </script>        </div>\n",
              "</body>\n",
              "</html>"
            ]
          },
          "metadata": {}
        }
      ]
    },
    {
      "cell_type": "markdown",
      "metadata": {
        "id": "Im8IIRYanAKy"
      },
      "source": [
        "**<h3>Average Tree Width across Neighborhoods</h3>**"
      ]
    },
    {
      "cell_type": "code",
      "metadata": {
        "colab": {
          "base_uri": "https://localhost:8080/",
          "height": 419
        },
        "id": "JVhvNYGjlkyV",
        "outputId": "66ada947-9c35-4efd-bb5c-5b434311c4e1"
      },
      "source": [
        "df_width = df_trees.groupby(\"neighborhood\")[\"width\"].mean()\n",
        "df_width = df_width.to_frame().reset_index()\n",
        "df_width.columns = ['neighborhood', 'average_width']\n",
        "df_width"
      ],
      "execution_count": 9,
      "outputs": [
        {
          "output_type": "execute_result",
          "data": {
            "text/html": [
              "<div>\n",
              "<style scoped>\n",
              "    .dataframe tbody tr th:only-of-type {\n",
              "        vertical-align: middle;\n",
              "    }\n",
              "\n",
              "    .dataframe tbody tr th {\n",
              "        vertical-align: top;\n",
              "    }\n",
              "\n",
              "    .dataframe thead th {\n",
              "        text-align: right;\n",
              "    }\n",
              "</style>\n",
              "<table border=\"1\" class=\"dataframe\">\n",
              "  <thead>\n",
              "    <tr style=\"text-align: right;\">\n",
              "      <th></th>\n",
              "      <th>neighborhood</th>\n",
              "      <th>average_width</th>\n",
              "    </tr>\n",
              "  </thead>\n",
              "  <tbody>\n",
              "    <tr>\n",
              "      <th>0</th>\n",
              "      <td>Allegheny Center</td>\n",
              "      <td>6.741885</td>\n",
              "    </tr>\n",
              "    <tr>\n",
              "      <th>1</th>\n",
              "      <td>Allegheny West</td>\n",
              "      <td>7.798702</td>\n",
              "    </tr>\n",
              "    <tr>\n",
              "      <th>2</th>\n",
              "      <td>Allentown</td>\n",
              "      <td>7.388842</td>\n",
              "    </tr>\n",
              "    <tr>\n",
              "      <th>3</th>\n",
              "      <td>Arlington</td>\n",
              "      <td>5.454705</td>\n",
              "    </tr>\n",
              "    <tr>\n",
              "      <th>4</th>\n",
              "      <td>Arlington Heights</td>\n",
              "      <td>11.448097</td>\n",
              "    </tr>\n",
              "    <tr>\n",
              "      <th>...</th>\n",
              "      <td>...</td>\n",
              "      <td>...</td>\n",
              "    </tr>\n",
              "    <tr>\n",
              "      <th>85</th>\n",
              "      <td>Upper Lawrenceville</td>\n",
              "      <td>9.255260</td>\n",
              "    </tr>\n",
              "    <tr>\n",
              "      <th>86</th>\n",
              "      <td>West End</td>\n",
              "      <td>6.650729</td>\n",
              "    </tr>\n",
              "    <tr>\n",
              "      <th>87</th>\n",
              "      <td>West Oakland</td>\n",
              "      <td>5.624245</td>\n",
              "    </tr>\n",
              "    <tr>\n",
              "      <th>88</th>\n",
              "      <td>Westwood</td>\n",
              "      <td>8.918861</td>\n",
              "    </tr>\n",
              "    <tr>\n",
              "      <th>89</th>\n",
              "      <td>Windgap</td>\n",
              "      <td>8.522449</td>\n",
              "    </tr>\n",
              "  </tbody>\n",
              "</table>\n",
              "<p>90 rows × 2 columns</p>\n",
              "</div>"
            ],
            "text/plain": [
              "           neighborhood  average_width\n",
              "0      Allegheny Center       6.741885\n",
              "1        Allegheny West       7.798702\n",
              "2             Allentown       7.388842\n",
              "3             Arlington       5.454705\n",
              "4     Arlington Heights      11.448097\n",
              "..                  ...            ...\n",
              "85  Upper Lawrenceville       9.255260\n",
              "86             West End       6.650729\n",
              "87         West Oakland       5.624245\n",
              "88             Westwood       8.918861\n",
              "89              Windgap       8.522449\n",
              "\n",
              "[90 rows x 2 columns]"
            ]
          },
          "metadata": {},
          "execution_count": 9
        }
      ]
    },
    {
      "cell_type": "code",
      "metadata": {
        "colab": {
          "base_uri": "https://localhost:8080/",
          "height": 717
        },
        "id": "eIVHmtOwl-Hf",
        "outputId": "3ea93a37-9ae6-469a-849b-9abc928f557f"
      },
      "source": [
        "fig=px.choropleth(df_width,\n",
        "             geojson=\"https://raw.githubusercontent.com/blackmad/neighborhoods/master/gn-pittsburgh.geojson\",\n",
        "             featureidkey='properties.name',   \n",
        "             locations='neighborhood',        #column in dataframe\n",
        "             color='average_width',\n",
        "              color_continuous_scale='hot',\n",
        "               title='Average Tree Width across Neighborhood' ,  \n",
        "               height=700\n",
        "              )\n",
        "fig.update_geos(fitbounds=\"locations\", visible=False)\n",
        "fig.show()\n",
        "#img_bytes = fig.to_image(format=\"png\")\n",
        "#Image(img_bytes)"
      ],
      "execution_count": 71,
      "outputs": [
        {
          "output_type": "display_data",
          "data": {
            "text/html": [
              "<html>\n",
              "<head><meta charset=\"utf-8\" /></head>\n",
              "<body>\n",
              "    <div>            <script src=\"https://cdnjs.cloudflare.com/ajax/libs/mathjax/2.7.5/MathJax.js?config=TeX-AMS-MML_SVG\"></script><script type=\"text/javascript\">if (window.MathJax) {MathJax.Hub.Config({SVG: {font: \"STIX-Web\"}});}</script>                <script type=\"text/javascript\">window.PlotlyConfig = {MathJaxConfig: 'local'};</script>\n",
              "        <script src=\"https://cdn.plot.ly/plotly-2.6.3.min.js\"></script>                <div id=\"7e35bcb1-7ce3-4fcf-a254-51e68fd35223\" class=\"plotly-graph-div\" style=\"height:700px; width:100%;\"></div>            <script type=\"text/javascript\">                                    window.PLOTLYENV=window.PLOTLYENV || {};                                    if (document.getElementById(\"7e35bcb1-7ce3-4fcf-a254-51e68fd35223\")) {                    Plotly.newPlot(                        \"7e35bcb1-7ce3-4fcf-a254-51e68fd35223\",                        [{\"coloraxis\":\"coloraxis\",\"featureidkey\":\"properties.name\",\"geo\":\"geo\",\"geojson\":\"https://raw.githubusercontent.com/blackmad/neighborhoods/master/gn-pittsburgh.geojson\",\"hovertemplate\":\"neighborhood=%{location}<br>average_width=%{z}<extra></extra>\",\"locations\":[\"Allegheny Center\",\"Allegheny West\",\"Allentown\",\"Arlington\",\"Arlington Heights\",\"Banksville\",\"Bedford Dwellings\",\"Beechview\",\"Beltzhoover\",\"Bloomfield\",\"Bluff\",\"Bon Air\",\"Brighton Heights\",\"Brookline\",\"California-Kirkbride\",\"Carrick\",\"Central Business District\",\"Central Lawrenceville\",\"Central Northside\",\"Central Oakland\",\"Chartiers City\",\"Chateau\",\"Crafton Heights\",\"Crawford-Roberts\",\"Duquesne Heights\",\"East Allegheny\",\"East Carnegie\",\"East Hills\",\"East Liberty\",\"Elliott\",\"Esplen\",\"Fairywood\",\"Fineview\",\"Friendship\",\"Garfield\",\"Glen Hazel\",\"Greenfield\",\"Hays\",\"Hazelwood\",\"Highland Park\",\"Homewood North\",\"Homewood South\",\"Homewood West\",\"Knoxville\",\"Larimer\",\"Lincoln Place\",\"Lincoln-Lemington-Belmar\",\"Lower Lawrenceville\",\"Manchester\",\"Marshall-Shadeland\",\"Middle Hill\",\"Morningside\",\"Mount Washington\",\"Mt. Oliver\",\"New Homestead\",\"North Oakland\",\"North Shore\",\"Northview Heights\",\"Oakwood\",\"Overbrook\",\"Perry North\",\"Perry South\",\"Point Breeze\",\"Point Breeze North\",\"Polish Hill\",\"Regent Square\",\"Ridgemont\",\"Shadyside\",\"Sheraden\",\"South Oakland\",\"South Shore\",\"South Side Flats\",\"South Side Slopes\",\"Spring Garden\",\"Spring Hill-City View\",\"Squirrel Hill North\",\"Squirrel Hill South\",\"St. Clair\",\"Stanton Heights\",\"Strip District\",\"Summer Hill\",\"Swisshelm Park\",\"Terrace Village\",\"Troy Hill\",\"Upper Hill\",\"Upper Lawrenceville\",\"West End\",\"West Oakland\",\"Westwood\",\"Windgap\"],\"name\":\"\",\"z\":[6.741885285645535,7.798701898940822,7.388842290634075,5.454705034311913,11.448096564531104,8.584796415380023,5.9676767676767675,7.529371626917259,6.381895605645754,6.789286482780385,6.811621603298424,6.539500151275816,7.4655442529278595,7.937394896896409,8.069379274488712,7.495934752541911,10.15223156191423,5.870566271641068,6.75064455069356,8.031466276169498,10.600609340619583,5.692336570246741,7.7695771166604475,6.785359002035526,5.721988268651961,7.122690979159606,10.027173913043478,8.299867039348996,6.615266816048085,9.05159354359419,4.0,9.69868671679198,13.24351330049085,8.43040907124428,7.994952332686967,2.5,6.668691324284124,4.230769230769232,6.873872368544521,7.093565985580721,7.077976213523273,4.898811421960139,4.707504163984118,7.572913103066603,6.5722980853785815,7.875972989087155,8.626436279049864,9.425551024879496,6.558708753737365,7.984863742247819,6.242148425288212,6.42650210696236,7.031284958072795,6.153846153846154,8.794468143069244,8.799079930344307,7.682405611811042,9.75043578497526,8.203985866468932,7.310717834719992,7.310239464463546,9.539862296118166,8.383768966516065,6.6900031510827125,7.475597011226752,8.05738909459974,5.322387224174713,7.69730271521378,8.898831886883587,6.341412845180976,4.5,6.157162738461738,5.818280058344975,6.097523713940044,7.3992989808450735,10.632507912747611,7.21760333112154,13.454069200779728,9.392580541949124,8.054741636078033,10.392977558797734,8.255900992617091,6.483448098952978,4.427482562860993,8.309247748719784,9.25525979998402,6.650728887799714,5.624244557883001,8.918861290391527,8.522449299000076],\"type\":\"choropleth\"}],                        {\"template\":{\"data\":{\"bar\":[{\"error_x\":{\"color\":\"#2a3f5f\"},\"error_y\":{\"color\":\"#2a3f5f\"},\"marker\":{\"line\":{\"color\":\"#E5ECF6\",\"width\":0.5},\"pattern\":{\"fillmode\":\"overlay\",\"size\":10,\"solidity\":0.2}},\"type\":\"bar\"}],\"barpolar\":[{\"marker\":{\"line\":{\"color\":\"#E5ECF6\",\"width\":0.5},\"pattern\":{\"fillmode\":\"overlay\",\"size\":10,\"solidity\":0.2}},\"type\":\"barpolar\"}],\"carpet\":[{\"aaxis\":{\"endlinecolor\":\"#2a3f5f\",\"gridcolor\":\"white\",\"linecolor\":\"white\",\"minorgridcolor\":\"white\",\"startlinecolor\":\"#2a3f5f\"},\"baxis\":{\"endlinecolor\":\"#2a3f5f\",\"gridcolor\":\"white\",\"linecolor\":\"white\",\"minorgridcolor\":\"white\",\"startlinecolor\":\"#2a3f5f\"},\"type\":\"carpet\"}],\"choropleth\":[{\"colorbar\":{\"outlinewidth\":0,\"ticks\":\"\"},\"type\":\"choropleth\"}],\"contour\":[{\"colorbar\":{\"outlinewidth\":0,\"ticks\":\"\"},\"colorscale\":[[0.0,\"#0d0887\"],[0.1111111111111111,\"#46039f\"],[0.2222222222222222,\"#7201a8\"],[0.3333333333333333,\"#9c179e\"],[0.4444444444444444,\"#bd3786\"],[0.5555555555555556,\"#d8576b\"],[0.6666666666666666,\"#ed7953\"],[0.7777777777777778,\"#fb9f3a\"],[0.8888888888888888,\"#fdca26\"],[1.0,\"#f0f921\"]],\"type\":\"contour\"}],\"contourcarpet\":[{\"colorbar\":{\"outlinewidth\":0,\"ticks\":\"\"},\"type\":\"contourcarpet\"}],\"heatmap\":[{\"colorbar\":{\"outlinewidth\":0,\"ticks\":\"\"},\"colorscale\":[[0.0,\"#0d0887\"],[0.1111111111111111,\"#46039f\"],[0.2222222222222222,\"#7201a8\"],[0.3333333333333333,\"#9c179e\"],[0.4444444444444444,\"#bd3786\"],[0.5555555555555556,\"#d8576b\"],[0.6666666666666666,\"#ed7953\"],[0.7777777777777778,\"#fb9f3a\"],[0.8888888888888888,\"#fdca26\"],[1.0,\"#f0f921\"]],\"type\":\"heatmap\"}],\"heatmapgl\":[{\"colorbar\":{\"outlinewidth\":0,\"ticks\":\"\"},\"colorscale\":[[0.0,\"#0d0887\"],[0.1111111111111111,\"#46039f\"],[0.2222222222222222,\"#7201a8\"],[0.3333333333333333,\"#9c179e\"],[0.4444444444444444,\"#bd3786\"],[0.5555555555555556,\"#d8576b\"],[0.6666666666666666,\"#ed7953\"],[0.7777777777777778,\"#fb9f3a\"],[0.8888888888888888,\"#fdca26\"],[1.0,\"#f0f921\"]],\"type\":\"heatmapgl\"}],\"histogram\":[{\"marker\":{\"pattern\":{\"fillmode\":\"overlay\",\"size\":10,\"solidity\":0.2}},\"type\":\"histogram\"}],\"histogram2d\":[{\"colorbar\":{\"outlinewidth\":0,\"ticks\":\"\"},\"colorscale\":[[0.0,\"#0d0887\"],[0.1111111111111111,\"#46039f\"],[0.2222222222222222,\"#7201a8\"],[0.3333333333333333,\"#9c179e\"],[0.4444444444444444,\"#bd3786\"],[0.5555555555555556,\"#d8576b\"],[0.6666666666666666,\"#ed7953\"],[0.7777777777777778,\"#fb9f3a\"],[0.8888888888888888,\"#fdca26\"],[1.0,\"#f0f921\"]],\"type\":\"histogram2d\"}],\"histogram2dcontour\":[{\"colorbar\":{\"outlinewidth\":0,\"ticks\":\"\"},\"colorscale\":[[0.0,\"#0d0887\"],[0.1111111111111111,\"#46039f\"],[0.2222222222222222,\"#7201a8\"],[0.3333333333333333,\"#9c179e\"],[0.4444444444444444,\"#bd3786\"],[0.5555555555555556,\"#d8576b\"],[0.6666666666666666,\"#ed7953\"],[0.7777777777777778,\"#fb9f3a\"],[0.8888888888888888,\"#fdca26\"],[1.0,\"#f0f921\"]],\"type\":\"histogram2dcontour\"}],\"mesh3d\":[{\"colorbar\":{\"outlinewidth\":0,\"ticks\":\"\"},\"type\":\"mesh3d\"}],\"parcoords\":[{\"line\":{\"colorbar\":{\"outlinewidth\":0,\"ticks\":\"\"}},\"type\":\"parcoords\"}],\"pie\":[{\"automargin\":true,\"type\":\"pie\"}],\"scatter\":[{\"marker\":{\"colorbar\":{\"outlinewidth\":0,\"ticks\":\"\"}},\"type\":\"scatter\"}],\"scatter3d\":[{\"line\":{\"colorbar\":{\"outlinewidth\":0,\"ticks\":\"\"}},\"marker\":{\"colorbar\":{\"outlinewidth\":0,\"ticks\":\"\"}},\"type\":\"scatter3d\"}],\"scattercarpet\":[{\"marker\":{\"colorbar\":{\"outlinewidth\":0,\"ticks\":\"\"}},\"type\":\"scattercarpet\"}],\"scattergeo\":[{\"marker\":{\"colorbar\":{\"outlinewidth\":0,\"ticks\":\"\"}},\"type\":\"scattergeo\"}],\"scattergl\":[{\"marker\":{\"colorbar\":{\"outlinewidth\":0,\"ticks\":\"\"}},\"type\":\"scattergl\"}],\"scattermapbox\":[{\"marker\":{\"colorbar\":{\"outlinewidth\":0,\"ticks\":\"\"}},\"type\":\"scattermapbox\"}],\"scatterpolar\":[{\"marker\":{\"colorbar\":{\"outlinewidth\":0,\"ticks\":\"\"}},\"type\":\"scatterpolar\"}],\"scatterpolargl\":[{\"marker\":{\"colorbar\":{\"outlinewidth\":0,\"ticks\":\"\"}},\"type\":\"scatterpolargl\"}],\"scatterternary\":[{\"marker\":{\"colorbar\":{\"outlinewidth\":0,\"ticks\":\"\"}},\"type\":\"scatterternary\"}],\"surface\":[{\"colorbar\":{\"outlinewidth\":0,\"ticks\":\"\"},\"colorscale\":[[0.0,\"#0d0887\"],[0.1111111111111111,\"#46039f\"],[0.2222222222222222,\"#7201a8\"],[0.3333333333333333,\"#9c179e\"],[0.4444444444444444,\"#bd3786\"],[0.5555555555555556,\"#d8576b\"],[0.6666666666666666,\"#ed7953\"],[0.7777777777777778,\"#fb9f3a\"],[0.8888888888888888,\"#fdca26\"],[1.0,\"#f0f921\"]],\"type\":\"surface\"}],\"table\":[{\"cells\":{\"fill\":{\"color\":\"#EBF0F8\"},\"line\":{\"color\":\"white\"}},\"header\":{\"fill\":{\"color\":\"#C8D4E3\"},\"line\":{\"color\":\"white\"}},\"type\":\"table\"}]},\"layout\":{\"annotationdefaults\":{\"arrowcolor\":\"#2a3f5f\",\"arrowhead\":0,\"arrowwidth\":1},\"autotypenumbers\":\"strict\",\"coloraxis\":{\"colorbar\":{\"outlinewidth\":0,\"ticks\":\"\"}},\"colorscale\":{\"diverging\":[[0,\"#8e0152\"],[0.1,\"#c51b7d\"],[0.2,\"#de77ae\"],[0.3,\"#f1b6da\"],[0.4,\"#fde0ef\"],[0.5,\"#f7f7f7\"],[0.6,\"#e6f5d0\"],[0.7,\"#b8e186\"],[0.8,\"#7fbc41\"],[0.9,\"#4d9221\"],[1,\"#276419\"]],\"sequential\":[[0.0,\"#0d0887\"],[0.1111111111111111,\"#46039f\"],[0.2222222222222222,\"#7201a8\"],[0.3333333333333333,\"#9c179e\"],[0.4444444444444444,\"#bd3786\"],[0.5555555555555556,\"#d8576b\"],[0.6666666666666666,\"#ed7953\"],[0.7777777777777778,\"#fb9f3a\"],[0.8888888888888888,\"#fdca26\"],[1.0,\"#f0f921\"]],\"sequentialminus\":[[0.0,\"#0d0887\"],[0.1111111111111111,\"#46039f\"],[0.2222222222222222,\"#7201a8\"],[0.3333333333333333,\"#9c179e\"],[0.4444444444444444,\"#bd3786\"],[0.5555555555555556,\"#d8576b\"],[0.6666666666666666,\"#ed7953\"],[0.7777777777777778,\"#fb9f3a\"],[0.8888888888888888,\"#fdca26\"],[1.0,\"#f0f921\"]]},\"colorway\":[\"#636efa\",\"#EF553B\",\"#00cc96\",\"#ab63fa\",\"#FFA15A\",\"#19d3f3\",\"#FF6692\",\"#B6E880\",\"#FF97FF\",\"#FECB52\"],\"font\":{\"color\":\"#2a3f5f\"},\"geo\":{\"bgcolor\":\"white\",\"lakecolor\":\"white\",\"landcolor\":\"#E5ECF6\",\"showlakes\":true,\"showland\":true,\"subunitcolor\":\"white\"},\"hoverlabel\":{\"align\":\"left\"},\"hovermode\":\"closest\",\"mapbox\":{\"style\":\"light\"},\"paper_bgcolor\":\"white\",\"plot_bgcolor\":\"#E5ECF6\",\"polar\":{\"angularaxis\":{\"gridcolor\":\"white\",\"linecolor\":\"white\",\"ticks\":\"\"},\"bgcolor\":\"#E5ECF6\",\"radialaxis\":{\"gridcolor\":\"white\",\"linecolor\":\"white\",\"ticks\":\"\"}},\"scene\":{\"xaxis\":{\"backgroundcolor\":\"#E5ECF6\",\"gridcolor\":\"white\",\"gridwidth\":2,\"linecolor\":\"white\",\"showbackground\":true,\"ticks\":\"\",\"zerolinecolor\":\"white\"},\"yaxis\":{\"backgroundcolor\":\"#E5ECF6\",\"gridcolor\":\"white\",\"gridwidth\":2,\"linecolor\":\"white\",\"showbackground\":true,\"ticks\":\"\",\"zerolinecolor\":\"white\"},\"zaxis\":{\"backgroundcolor\":\"#E5ECF6\",\"gridcolor\":\"white\",\"gridwidth\":2,\"linecolor\":\"white\",\"showbackground\":true,\"ticks\":\"\",\"zerolinecolor\":\"white\"}},\"shapedefaults\":{\"line\":{\"color\":\"#2a3f5f\"}},\"ternary\":{\"aaxis\":{\"gridcolor\":\"white\",\"linecolor\":\"white\",\"ticks\":\"\"},\"baxis\":{\"gridcolor\":\"white\",\"linecolor\":\"white\",\"ticks\":\"\"},\"bgcolor\":\"#E5ECF6\",\"caxis\":{\"gridcolor\":\"white\",\"linecolor\":\"white\",\"ticks\":\"\"}},\"title\":{\"x\":0.05},\"xaxis\":{\"automargin\":true,\"gridcolor\":\"white\",\"linecolor\":\"white\",\"ticks\":\"\",\"title\":{\"standoff\":15},\"zerolinecolor\":\"white\",\"zerolinewidth\":2},\"yaxis\":{\"automargin\":true,\"gridcolor\":\"white\",\"linecolor\":\"white\",\"ticks\":\"\",\"title\":{\"standoff\":15},\"zerolinecolor\":\"white\",\"zerolinewidth\":2}}},\"geo\":{\"domain\":{\"x\":[0.0,1.0],\"y\":[0.0,1.0]},\"center\":{},\"fitbounds\":\"locations\",\"visible\":false},\"coloraxis\":{\"colorbar\":{\"title\":{\"text\":\"average_width\"}},\"colorscale\":[[0.0,\"rgb(0,0,0)\"],[0.3333333333333333,\"rgb(230,0,0)\"],[0.6666666666666666,\"rgb(255,210,0)\"],[1.0,\"rgb(255,255,255)\"]]},\"legend\":{\"tracegroupgap\":0},\"title\":{\"text\":\"Average Tree Width across Neighborhood\"},\"height\":700},                        {\"responsive\": true}                    ).then(function(){\n",
              "                            \n",
              "var gd = document.getElementById('7e35bcb1-7ce3-4fcf-a254-51e68fd35223');\n",
              "var x = new MutationObserver(function (mutations, observer) {{\n",
              "        var display = window.getComputedStyle(gd).display;\n",
              "        if (!display || display === 'none') {{\n",
              "            console.log([gd, 'removed!']);\n",
              "            Plotly.purge(gd);\n",
              "            observer.disconnect();\n",
              "        }}\n",
              "}});\n",
              "\n",
              "// Listen for the removal of the full notebook cells\n",
              "var notebookContainer = gd.closest('#notebook-container');\n",
              "if (notebookContainer) {{\n",
              "    x.observe(notebookContainer, {childList: true});\n",
              "}}\n",
              "\n",
              "// Listen for the clearing of the current output cell\n",
              "var outputEl = gd.closest('.output');\n",
              "if (outputEl) {{\n",
              "    x.observe(outputEl, {childList: true});\n",
              "}}\n",
              "\n",
              "                        })                };                            </script>        </div>\n",
              "</body>\n",
              "</html>"
            ]
          },
          "metadata": {}
        }
      ]
    },
    {
      "cell_type": "markdown",
      "metadata": {
        "id": "zS_TZKzYncGd"
      },
      "source": [
        "**<h3>The most prevalent species in each neighborhood</h3>**"
      ]
    },
    {
      "cell_type": "code",
      "metadata": {
        "colab": {
          "base_uri": "https://localhost:8080/",
          "height": 419
        },
        "id": "4tdgxSQ7SsKr",
        "outputId": "2e88912e-af48-4153-ff1e-02aa6daac0ee"
      },
      "source": [
        "groupBySpeciesAndNeighborhood = df_trees.groupby(['neighborhood','scientific_name'])['id'].count()\n",
        "groupBySpeciesAndNeighborhood = groupBySpeciesAndNeighborhood.to_frame().reset_index()\n",
        "prevalent_species = groupBySpeciesAndNeighborhood.loc[groupBySpeciesAndNeighborhood.groupby(['neighborhood'])['id'].idxmax()].reset_index(drop=True)\n",
        "prevalent_species"
      ],
      "execution_count": 13,
      "outputs": [
        {
          "output_type": "execute_result",
          "data": {
            "text/html": [
              "<div>\n",
              "<style scoped>\n",
              "    .dataframe tbody tr th:only-of-type {\n",
              "        vertical-align: middle;\n",
              "    }\n",
              "\n",
              "    .dataframe tbody tr th {\n",
              "        vertical-align: top;\n",
              "    }\n",
              "\n",
              "    .dataframe thead th {\n",
              "        text-align: right;\n",
              "    }\n",
              "</style>\n",
              "<table border=\"1\" class=\"dataframe\">\n",
              "  <thead>\n",
              "    <tr style=\"text-align: right;\">\n",
              "      <th></th>\n",
              "      <th>neighborhood</th>\n",
              "      <th>scientific_name</th>\n",
              "      <th>id</th>\n",
              "    </tr>\n",
              "  </thead>\n",
              "  <tbody>\n",
              "    <tr>\n",
              "      <th>0</th>\n",
              "      <td>Allegheny Center</td>\n",
              "      <td>Platanus x acerifolia</td>\n",
              "      <td>109</td>\n",
              "    </tr>\n",
              "    <tr>\n",
              "      <th>1</th>\n",
              "      <td>Allegheny West</td>\n",
              "      <td>Pyrus calleryana</td>\n",
              "      <td>44</td>\n",
              "    </tr>\n",
              "    <tr>\n",
              "      <th>2</th>\n",
              "      <td>Allentown</td>\n",
              "      <td>Pyrus calleryana</td>\n",
              "      <td>14</td>\n",
              "    </tr>\n",
              "    <tr>\n",
              "      <th>3</th>\n",
              "      <td>Arlington</td>\n",
              "      <td>Tsuga canadensis</td>\n",
              "      <td>14</td>\n",
              "    </tr>\n",
              "    <tr>\n",
              "      <th>4</th>\n",
              "      <td>Arlington Heights</td>\n",
              "      <td>Robinia pseudoacacia</td>\n",
              "      <td>2</td>\n",
              "    </tr>\n",
              "    <tr>\n",
              "      <th>...</th>\n",
              "      <td>...</td>\n",
              "      <td>...</td>\n",
              "      <td>...</td>\n",
              "    </tr>\n",
              "    <tr>\n",
              "      <th>85</th>\n",
              "      <td>Upper Lawrenceville</td>\n",
              "      <td>Pyrus calleryana</td>\n",
              "      <td>65</td>\n",
              "    </tr>\n",
              "    <tr>\n",
              "      <th>86</th>\n",
              "      <td>West End</td>\n",
              "      <td>Pyrus calleryana</td>\n",
              "      <td>46</td>\n",
              "    </tr>\n",
              "    <tr>\n",
              "      <th>87</th>\n",
              "      <td>West Oakland</td>\n",
              "      <td>Gleditsia triacanthos inermis</td>\n",
              "      <td>17</td>\n",
              "    </tr>\n",
              "    <tr>\n",
              "      <th>88</th>\n",
              "      <td>Westwood</td>\n",
              "      <td>Tilia cordata</td>\n",
              "      <td>29</td>\n",
              "    </tr>\n",
              "    <tr>\n",
              "      <th>89</th>\n",
              "      <td>Windgap</td>\n",
              "      <td>Acer platanoides</td>\n",
              "      <td>18</td>\n",
              "    </tr>\n",
              "  </tbody>\n",
              "</table>\n",
              "<p>90 rows × 3 columns</p>\n",
              "</div>"
            ],
            "text/plain": [
              "           neighborhood                scientific_name   id\n",
              "0      Allegheny Center          Platanus x acerifolia  109\n",
              "1        Allegheny West               Pyrus calleryana   44\n",
              "2             Allentown               Pyrus calleryana   14\n",
              "3             Arlington               Tsuga canadensis   14\n",
              "4     Arlington Heights           Robinia pseudoacacia    2\n",
              "..                  ...                            ...  ...\n",
              "85  Upper Lawrenceville               Pyrus calleryana   65\n",
              "86             West End               Pyrus calleryana   46\n",
              "87         West Oakland  Gleditsia triacanthos inermis   17\n",
              "88             Westwood                  Tilia cordata   29\n",
              "89              Windgap               Acer platanoides   18\n",
              "\n",
              "[90 rows x 3 columns]"
            ]
          },
          "metadata": {},
          "execution_count": 13
        }
      ]
    },
    {
      "cell_type": "code",
      "metadata": {
        "colab": {
          "base_uri": "https://localhost:8080/",
          "height": 717
        },
        "id": "CqWO0Zh4S9xD",
        "outputId": "fce9aff9-c21f-4e8f-de25-c2c72325b69b"
      },
      "source": [
        "fig=px.choropleth(prevalent_species,\n",
        "             geojson=\"https://raw.githubusercontent.com/blackmad/neighborhoods/master/gn-pittsburgh.geojson\",\n",
        "             featureidkey='properties.name',   \n",
        "             locations='neighborhood',        #column in dataframe\n",
        "             color='scientific_name',\n",
        "              color_continuous_scale='Inferno',\n",
        "               title='Most prevalent species in each Neighborhood' ,  \n",
        "               height=700\n",
        "              )\n",
        "fig.update_geos(fitbounds=\"locations\", visible=False)\n",
        "fig.show()"
      ],
      "execution_count": 14,
      "outputs": [
        {
          "output_type": "display_data",
          "data": {
            "text/html": [
              "<html>\n",
              "<head><meta charset=\"utf-8\" /></head>\n",
              "<body>\n",
              "    <div>            <script src=\"https://cdnjs.cloudflare.com/ajax/libs/mathjax/2.7.5/MathJax.js?config=TeX-AMS-MML_SVG\"></script><script type=\"text/javascript\">if (window.MathJax) {MathJax.Hub.Config({SVG: {font: \"STIX-Web\"}});}</script>                <script type=\"text/javascript\">window.PlotlyConfig = {MathJaxConfig: 'local'};</script>\n",
              "        <script src=\"https://cdn.plot.ly/plotly-2.6.3.min.js\"></script>                <div id=\"69bcd3ca-8d60-4097-b65e-f754de97e994\" class=\"plotly-graph-div\" style=\"height:700px; width:100%;\"></div>            <script type=\"text/javascript\">                                    window.PLOTLYENV=window.PLOTLYENV || {};                                    if (document.getElementById(\"69bcd3ca-8d60-4097-b65e-f754de97e994\")) {                    Plotly.newPlot(                        \"69bcd3ca-8d60-4097-b65e-f754de97e994\",                        [{\"colorscale\":[[0.0,\"#636efa\"],[1.0,\"#636efa\"]],\"featureidkey\":\"properties.name\",\"geo\":\"geo\",\"geojson\":\"https://raw.githubusercontent.com/blackmad/neighborhoods/master/gn-pittsburgh.geojson\",\"hovertemplate\":\"scientific_name=Platanus x acerifolia<br>neighborhood=%{location}<extra></extra>\",\"locations\":[\"Allegheny Center\",\"Central Oakland\",\"Knoxville\",\"Lincoln-Lemington-Belmar\",\"Mount Washington\",\"North Oakland\",\"Point Breeze\",\"Regent Square\",\"Squirrel Hill North\",\"Squirrel Hill South\"],\"name\":\"Platanus x acerifolia\",\"showlegend\":true,\"showscale\":false,\"z\":[1,1,1,1,1,1,1,1,1,1],\"type\":\"choropleth\"},{\"colorscale\":[[0.0,\"#EF553B\"],[1.0,\"#EF553B\"]],\"featureidkey\":\"properties.name\",\"geo\":\"geo\",\"geojson\":\"https://raw.githubusercontent.com/blackmad/neighborhoods/master/gn-pittsburgh.geojson\",\"hovertemplate\":\"scientific_name=Pyrus calleryana<br>neighborhood=%{location}<extra></extra>\",\"locations\":[\"Allegheny West\",\"Allentown\",\"Bloomfield\",\"Crawford-Roberts\",\"Duquesne Heights\",\"East Allegheny\",\"Lower Lawrenceville\",\"Shadyside\",\"South Oakland\",\"South Side Flats\",\"Upper Lawrenceville\",\"West End\"],\"name\":\"Pyrus calleryana\",\"showlegend\":true,\"showscale\":false,\"z\":[1,1,1,1,1,1,1,1,1,1,1,1],\"type\":\"choropleth\"},{\"colorscale\":[[0.0,\"#00cc96\"],[1.0,\"#00cc96\"]],\"featureidkey\":\"properties.name\",\"geo\":\"geo\",\"geojson\":\"https://raw.githubusercontent.com/blackmad/neighborhoods/master/gn-pittsburgh.geojson\",\"hovertemplate\":\"scientific_name=Tsuga canadensis<br>neighborhood=%{location}<extra></extra>\",\"locations\":[\"Arlington\"],\"name\":\"Tsuga canadensis\",\"showlegend\":true,\"showscale\":false,\"z\":[1],\"type\":\"choropleth\"},{\"colorscale\":[[0.0,\"#ab63fa\"],[1.0,\"#ab63fa\"]],\"featureidkey\":\"properties.name\",\"geo\":\"geo\",\"geojson\":\"https://raw.githubusercontent.com/blackmad/neighborhoods/master/gn-pittsburgh.geojson\",\"hovertemplate\":\"scientific_name=Robinia pseudoacacia<br>neighborhood=%{location}<extra></extra>\",\"locations\":[\"Arlington Heights\",\"East Hills\"],\"name\":\"Robinia pseudoacacia\",\"showlegend\":true,\"showscale\":false,\"z\":[1,1],\"type\":\"choropleth\"},{\"colorscale\":[[0.0,\"#FFA15A\"],[1.0,\"#FFA15A\"]],\"featureidkey\":\"properties.name\",\"geo\":\"geo\",\"geojson\":\"https://raw.githubusercontent.com/blackmad/neighborhoods/master/gn-pittsburgh.geojson\",\"hovertemplate\":\"scientific_name=Liquidambar styraciflua<br>neighborhood=%{location}<extra></extra>\",\"locations\":[\"Banksville\"],\"name\":\"Liquidambar styraciflua\",\"showlegend\":true,\"showscale\":false,\"z\":[1],\"type\":\"choropleth\"},{\"colorscale\":[[0.0,\"#19d3f3\"],[1.0,\"#19d3f3\"]],\"featureidkey\":\"properties.name\",\"geo\":\"geo\",\"geojson\":\"https://raw.githubusercontent.com/blackmad/neighborhoods/master/gn-pittsburgh.geojson\",\"hovertemplate\":\"scientific_name=Acer x freemanii<br>neighborhood=%{location}<extra></extra>\",\"locations\":[\"Bedford Dwellings\"],\"name\":\"Acer x freemanii\",\"showlegend\":true,\"showscale\":false,\"z\":[1],\"type\":\"choropleth\"},{\"colorscale\":[[0.0,\"#FF6692\"],[1.0,\"#FF6692\"]],\"featureidkey\":\"properties.name\",\"geo\":\"geo\",\"geojson\":\"https://raw.githubusercontent.com/blackmad/neighborhoods/master/gn-pittsburgh.geojson\",\"hovertemplate\":\"scientific_name=Acer platanoides<br>neighborhood=%{location}<extra></extra>\",\"locations\":[\"Beechview\",\"Bon Air\",\"Brighton Heights\",\"Brookline\",\"Carrick\",\"Crafton Heights\",\"Elliott\",\"Fineview\",\"Friendship\",\"Hazelwood\",\"Highland Park\",\"Northview Heights\",\"Overbrook\",\"Perry North\",\"Perry South\",\"Spring Hill-City View\",\"Stanton Heights\",\"Summer Hill\",\"Windgap\"],\"name\":\"Acer platanoides\",\"showlegend\":true,\"showscale\":false,\"z\":[1,1,1,1,1,1,1,1,1,1,1,1,1,1,1,1,1,1,1],\"type\":\"choropleth\"},{\"colorscale\":[[0.0,\"#B6E880\"],[1.0,\"#B6E880\"]],\"featureidkey\":\"properties.name\",\"geo\":\"geo\",\"geojson\":\"https://raw.githubusercontent.com/blackmad/neighborhoods/master/gn-pittsburgh.geojson\",\"hovertemplate\":\"scientific_name=Tilia cordata<br>neighborhood=%{location}<extra></extra>\",\"locations\":[\"Beltzhoover\",\"California-Kirkbride\",\"Central Northside\",\"Chartiers City\",\"East Liberty\",\"Greenfield\",\"Larimer\",\"Oakwood\",\"Westwood\"],\"name\":\"Tilia cordata\",\"showlegend\":true,\"showscale\":false,\"z\":[1,1,1,1,1,1,1,1,1],\"type\":\"choropleth\"},{\"colorscale\":[[0.0,\"#FF97FF\"],[1.0,\"#FF97FF\"]],\"featureidkey\":\"properties.name\",\"geo\":\"geo\",\"geojson\":\"https://raw.githubusercontent.com/blackmad/neighborhoods/master/gn-pittsburgh.geojson\",\"hovertemplate\":\"scientific_name=Gleditsia triacanthos inermis<br>neighborhood=%{location}<extra></extra>\",\"locations\":[\"Bluff\",\"Central Business District\",\"Central Lawrenceville\",\"Chateau\",\"North Shore\",\"Strip District\",\"West Oakland\"],\"name\":\"Gleditsia triacanthos inermis\",\"showlegend\":true,\"showscale\":false,\"z\":[1,1,1,1,1,1,1],\"type\":\"choropleth\"},{\"colorscale\":[[0.0,\"#FECB52\"],[1.0,\"#FECB52\"]],\"featureidkey\":\"properties.name\",\"geo\":\"geo\",\"geojson\":\"https://raw.githubusercontent.com/blackmad/neighborhoods/master/gn-pittsburgh.geojson\",\"hovertemplate\":\"scientific_name=Vacant Site Small<br>neighborhood=%{location}<extra></extra>\",\"locations\":[\"East Carnegie\",\"Homewood South\",\"Homewood West\",\"Middle Hill\",\"Morningside\",\"Point Breeze North\",\"Upper Hill\"],\"name\":\"Vacant Site Small\",\"showlegend\":true,\"showscale\":false,\"z\":[1,1,1,1,1,1,1],\"type\":\"choropleth\"},{\"colorscale\":[[0.0,\"#636efa\"],[1.0,\"#636efa\"]],\"featureidkey\":\"properties.name\",\"geo\":\"geo\",\"geojson\":\"https://raw.githubusercontent.com/blackmad/neighborhoods/master/gn-pittsburgh.geojson\",\"hovertemplate\":\"scientific_name=Acer rubrum<br>neighborhood=%{location}<extra></extra>\",\"locations\":[\"Esplen\",\"Garfield\",\"Lincoln Place\",\"Manchester\",\"Sheraden\",\"Terrace Village\"],\"name\":\"Acer rubrum\",\"showlegend\":true,\"showscale\":false,\"z\":[1,1,1,1,1,1],\"type\":\"choropleth\"},{\"colorscale\":[[0.0,\"#EF553B\"],[1.0,\"#EF553B\"]],\"featureidkey\":\"properties.name\",\"geo\":\"geo\",\"geojson\":\"https://raw.githubusercontent.com/blackmad/neighborhoods/master/gn-pittsburgh.geojson\",\"hovertemplate\":\"scientific_name=Quercus palustris<br>neighborhood=%{location}<extra></extra>\",\"locations\":[\"Fairywood\",\"Marshall-Shadeland\",\"Swisshelm Park\"],\"name\":\"Quercus palustris\",\"showlegend\":true,\"showscale\":false,\"z\":[1,1,1],\"type\":\"choropleth\"},{\"colorscale\":[[0.0,\"#00cc96\"],[1.0,\"#00cc96\"]],\"featureidkey\":\"properties.name\",\"geo\":\"geo\",\"geojson\":\"https://raw.githubusercontent.com/blackmad/neighborhoods/master/gn-pittsburgh.geojson\",\"hovertemplate\":\"scientific_name=Fraxinus spp.<br>neighborhood=%{location}<extra></extra>\",\"locations\":[\"Glen Hazel\"],\"name\":\"Fraxinus spp.\",\"showlegend\":true,\"showscale\":false,\"z\":[1],\"type\":\"choropleth\"},{\"colorscale\":[[0.0,\"#ab63fa\"],[1.0,\"#ab63fa\"]],\"featureidkey\":\"properties.name\",\"geo\":\"geo\",\"geojson\":\"https://raw.githubusercontent.com/blackmad/neighborhoods/master/gn-pittsburgh.geojson\",\"hovertemplate\":\"scientific_name=Ulmus spp.<br>neighborhood=%{location}<extra></extra>\",\"locations\":[\"Hays\"],\"name\":\"Ulmus spp.\",\"showlegend\":true,\"showscale\":false,\"z\":[1],\"type\":\"choropleth\"},{\"colorscale\":[[0.0,\"#FFA15A\"],[1.0,\"#FFA15A\"]],\"featureidkey\":\"properties.name\",\"geo\":\"geo\",\"geojson\":\"https://raw.githubusercontent.com/blackmad/neighborhoods/master/gn-pittsburgh.geojson\",\"hovertemplate\":\"scientific_name=Vacant Site Not Suitable<br>neighborhood=%{location}<extra></extra>\",\"locations\":[\"Homewood North\"],\"name\":\"Vacant Site Not Suitable\",\"showlegend\":true,\"showscale\":false,\"z\":[1],\"type\":\"choropleth\"},{\"colorscale\":[[0.0,\"#19d3f3\"],[1.0,\"#19d3f3\"]],\"featureidkey\":\"properties.name\",\"geo\":\"geo\",\"geojson\":\"https://raw.githubusercontent.com/blackmad/neighborhoods/master/gn-pittsburgh.geojson\",\"hovertemplate\":\"scientific_name=Acer saccharum<br>neighborhood=%{location}<extra></extra>\",\"locations\":[\"Mt. Oliver\"],\"name\":\"Acer saccharum\",\"showlegend\":true,\"showscale\":false,\"z\":[1],\"type\":\"choropleth\"},{\"colorscale\":[[0.0,\"#FF6692\"],[1.0,\"#FF6692\"]],\"featureidkey\":\"properties.name\",\"geo\":\"geo\",\"geojson\":\"https://raw.githubusercontent.com/blackmad/neighborhoods/master/gn-pittsburgh.geojson\",\"hovertemplate\":\"scientific_name=Quercus rubra<br>neighborhood=%{location}<extra></extra>\",\"locations\":[\"New Homestead\"],\"name\":\"Quercus rubra\",\"showlegend\":true,\"showscale\":false,\"z\":[1],\"type\":\"choropleth\"},{\"colorscale\":[[0.0,\"#B6E880\"],[1.0,\"#B6E880\"]],\"featureidkey\":\"properties.name\",\"geo\":\"geo\",\"geojson\":\"https://raw.githubusercontent.com/blackmad/neighborhoods/master/gn-pittsburgh.geojson\",\"hovertemplate\":\"scientific_name=Ginkgo biloba<br>neighborhood=%{location}<extra></extra>\",\"locations\":[\"Polish Hill\",\"South Shore\",\"Spring Garden\"],\"name\":\"Ginkgo biloba\",\"showlegend\":true,\"showscale\":false,\"z\":[1,1,1],\"type\":\"choropleth\"},{\"colorscale\":[[0.0,\"#FF97FF\"],[1.0,\"#FF97FF\"]],\"featureidkey\":\"properties.name\",\"geo\":\"geo\",\"geojson\":\"https://raw.githubusercontent.com/blackmad/neighborhoods/master/gn-pittsburgh.geojson\",\"hovertemplate\":\"scientific_name=Pinus strobus<br>neighborhood=%{location}<extra></extra>\",\"locations\":[\"Ridgemont\"],\"name\":\"Pinus strobus\",\"showlegend\":true,\"showscale\":false,\"z\":[1],\"type\":\"choropleth\"},{\"colorscale\":[[0.0,\"#FECB52\"],[1.0,\"#FECB52\"]],\"featureidkey\":\"properties.name\",\"geo\":\"geo\",\"geojson\":\"https://raw.githubusercontent.com/blackmad/neighborhoods/master/gn-pittsburgh.geojson\",\"hovertemplate\":\"scientific_name=Acer tataricum<br>neighborhood=%{location}<extra></extra>\",\"locations\":[\"South Side Slopes\"],\"name\":\"Acer tataricum\",\"showlegend\":true,\"showscale\":false,\"z\":[1],\"type\":\"choropleth\"},{\"colorscale\":[[0.0,\"#636efa\"],[1.0,\"#636efa\"]],\"featureidkey\":\"properties.name\",\"geo\":\"geo\",\"geojson\":\"https://raw.githubusercontent.com/blackmad/neighborhoods/master/gn-pittsburgh.geojson\",\"hovertemplate\":\"scientific_name=Ulmus americana<br>neighborhood=%{location}<extra></extra>\",\"locations\":[\"St. Clair\"],\"name\":\"Ulmus americana\",\"showlegend\":true,\"showscale\":false,\"z\":[1],\"type\":\"choropleth\"},{\"colorscale\":[[0.0,\"#EF553B\"],[1.0,\"#EF553B\"]],\"featureidkey\":\"properties.name\",\"geo\":\"geo\",\"geojson\":\"https://raw.githubusercontent.com/blackmad/neighborhoods/master/gn-pittsburgh.geojson\",\"hovertemplate\":\"scientific_name=Cercis canadensis<br>neighborhood=%{location}<extra></extra>\",\"locations\":[\"Troy Hill\"],\"name\":\"Cercis canadensis\",\"showlegend\":true,\"showscale\":false,\"z\":[1],\"type\":\"choropleth\"}],                        {\"template\":{\"data\":{\"bar\":[{\"error_x\":{\"color\":\"#2a3f5f\"},\"error_y\":{\"color\":\"#2a3f5f\"},\"marker\":{\"line\":{\"color\":\"#E5ECF6\",\"width\":0.5},\"pattern\":{\"fillmode\":\"overlay\",\"size\":10,\"solidity\":0.2}},\"type\":\"bar\"}],\"barpolar\":[{\"marker\":{\"line\":{\"color\":\"#E5ECF6\",\"width\":0.5},\"pattern\":{\"fillmode\":\"overlay\",\"size\":10,\"solidity\":0.2}},\"type\":\"barpolar\"}],\"carpet\":[{\"aaxis\":{\"endlinecolor\":\"#2a3f5f\",\"gridcolor\":\"white\",\"linecolor\":\"white\",\"minorgridcolor\":\"white\",\"startlinecolor\":\"#2a3f5f\"},\"baxis\":{\"endlinecolor\":\"#2a3f5f\",\"gridcolor\":\"white\",\"linecolor\":\"white\",\"minorgridcolor\":\"white\",\"startlinecolor\":\"#2a3f5f\"},\"type\":\"carpet\"}],\"choropleth\":[{\"colorbar\":{\"outlinewidth\":0,\"ticks\":\"\"},\"type\":\"choropleth\"}],\"contour\":[{\"colorbar\":{\"outlinewidth\":0,\"ticks\":\"\"},\"colorscale\":[[0.0,\"#0d0887\"],[0.1111111111111111,\"#46039f\"],[0.2222222222222222,\"#7201a8\"],[0.3333333333333333,\"#9c179e\"],[0.4444444444444444,\"#bd3786\"],[0.5555555555555556,\"#d8576b\"],[0.6666666666666666,\"#ed7953\"],[0.7777777777777778,\"#fb9f3a\"],[0.8888888888888888,\"#fdca26\"],[1.0,\"#f0f921\"]],\"type\":\"contour\"}],\"contourcarpet\":[{\"colorbar\":{\"outlinewidth\":0,\"ticks\":\"\"},\"type\":\"contourcarpet\"}],\"heatmap\":[{\"colorbar\":{\"outlinewidth\":0,\"ticks\":\"\"},\"colorscale\":[[0.0,\"#0d0887\"],[0.1111111111111111,\"#46039f\"],[0.2222222222222222,\"#7201a8\"],[0.3333333333333333,\"#9c179e\"],[0.4444444444444444,\"#bd3786\"],[0.5555555555555556,\"#d8576b\"],[0.6666666666666666,\"#ed7953\"],[0.7777777777777778,\"#fb9f3a\"],[0.8888888888888888,\"#fdca26\"],[1.0,\"#f0f921\"]],\"type\":\"heatmap\"}],\"heatmapgl\":[{\"colorbar\":{\"outlinewidth\":0,\"ticks\":\"\"},\"colorscale\":[[0.0,\"#0d0887\"],[0.1111111111111111,\"#46039f\"],[0.2222222222222222,\"#7201a8\"],[0.3333333333333333,\"#9c179e\"],[0.4444444444444444,\"#bd3786\"],[0.5555555555555556,\"#d8576b\"],[0.6666666666666666,\"#ed7953\"],[0.7777777777777778,\"#fb9f3a\"],[0.8888888888888888,\"#fdca26\"],[1.0,\"#f0f921\"]],\"type\":\"heatmapgl\"}],\"histogram\":[{\"marker\":{\"pattern\":{\"fillmode\":\"overlay\",\"size\":10,\"solidity\":0.2}},\"type\":\"histogram\"}],\"histogram2d\":[{\"colorbar\":{\"outlinewidth\":0,\"ticks\":\"\"},\"colorscale\":[[0.0,\"#0d0887\"],[0.1111111111111111,\"#46039f\"],[0.2222222222222222,\"#7201a8\"],[0.3333333333333333,\"#9c179e\"],[0.4444444444444444,\"#bd3786\"],[0.5555555555555556,\"#d8576b\"],[0.6666666666666666,\"#ed7953\"],[0.7777777777777778,\"#fb9f3a\"],[0.8888888888888888,\"#fdca26\"],[1.0,\"#f0f921\"]],\"type\":\"histogram2d\"}],\"histogram2dcontour\":[{\"colorbar\":{\"outlinewidth\":0,\"ticks\":\"\"},\"colorscale\":[[0.0,\"#0d0887\"],[0.1111111111111111,\"#46039f\"],[0.2222222222222222,\"#7201a8\"],[0.3333333333333333,\"#9c179e\"],[0.4444444444444444,\"#bd3786\"],[0.5555555555555556,\"#d8576b\"],[0.6666666666666666,\"#ed7953\"],[0.7777777777777778,\"#fb9f3a\"],[0.8888888888888888,\"#fdca26\"],[1.0,\"#f0f921\"]],\"type\":\"histogram2dcontour\"}],\"mesh3d\":[{\"colorbar\":{\"outlinewidth\":0,\"ticks\":\"\"},\"type\":\"mesh3d\"}],\"parcoords\":[{\"line\":{\"colorbar\":{\"outlinewidth\":0,\"ticks\":\"\"}},\"type\":\"parcoords\"}],\"pie\":[{\"automargin\":true,\"type\":\"pie\"}],\"scatter\":[{\"marker\":{\"colorbar\":{\"outlinewidth\":0,\"ticks\":\"\"}},\"type\":\"scatter\"}],\"scatter3d\":[{\"line\":{\"colorbar\":{\"outlinewidth\":0,\"ticks\":\"\"}},\"marker\":{\"colorbar\":{\"outlinewidth\":0,\"ticks\":\"\"}},\"type\":\"scatter3d\"}],\"scattercarpet\":[{\"marker\":{\"colorbar\":{\"outlinewidth\":0,\"ticks\":\"\"}},\"type\":\"scattercarpet\"}],\"scattergeo\":[{\"marker\":{\"colorbar\":{\"outlinewidth\":0,\"ticks\":\"\"}},\"type\":\"scattergeo\"}],\"scattergl\":[{\"marker\":{\"colorbar\":{\"outlinewidth\":0,\"ticks\":\"\"}},\"type\":\"scattergl\"}],\"scattermapbox\":[{\"marker\":{\"colorbar\":{\"outlinewidth\":0,\"ticks\":\"\"}},\"type\":\"scattermapbox\"}],\"scatterpolar\":[{\"marker\":{\"colorbar\":{\"outlinewidth\":0,\"ticks\":\"\"}},\"type\":\"scatterpolar\"}],\"scatterpolargl\":[{\"marker\":{\"colorbar\":{\"outlinewidth\":0,\"ticks\":\"\"}},\"type\":\"scatterpolargl\"}],\"scatterternary\":[{\"marker\":{\"colorbar\":{\"outlinewidth\":0,\"ticks\":\"\"}},\"type\":\"scatterternary\"}],\"surface\":[{\"colorbar\":{\"outlinewidth\":0,\"ticks\":\"\"},\"colorscale\":[[0.0,\"#0d0887\"],[0.1111111111111111,\"#46039f\"],[0.2222222222222222,\"#7201a8\"],[0.3333333333333333,\"#9c179e\"],[0.4444444444444444,\"#bd3786\"],[0.5555555555555556,\"#d8576b\"],[0.6666666666666666,\"#ed7953\"],[0.7777777777777778,\"#fb9f3a\"],[0.8888888888888888,\"#fdca26\"],[1.0,\"#f0f921\"]],\"type\":\"surface\"}],\"table\":[{\"cells\":{\"fill\":{\"color\":\"#EBF0F8\"},\"line\":{\"color\":\"white\"}},\"header\":{\"fill\":{\"color\":\"#C8D4E3\"},\"line\":{\"color\":\"white\"}},\"type\":\"table\"}]},\"layout\":{\"annotationdefaults\":{\"arrowcolor\":\"#2a3f5f\",\"arrowhead\":0,\"arrowwidth\":1},\"autotypenumbers\":\"strict\",\"coloraxis\":{\"colorbar\":{\"outlinewidth\":0,\"ticks\":\"\"}},\"colorscale\":{\"diverging\":[[0,\"#8e0152\"],[0.1,\"#c51b7d\"],[0.2,\"#de77ae\"],[0.3,\"#f1b6da\"],[0.4,\"#fde0ef\"],[0.5,\"#f7f7f7\"],[0.6,\"#e6f5d0\"],[0.7,\"#b8e186\"],[0.8,\"#7fbc41\"],[0.9,\"#4d9221\"],[1,\"#276419\"]],\"sequential\":[[0.0,\"#0d0887\"],[0.1111111111111111,\"#46039f\"],[0.2222222222222222,\"#7201a8\"],[0.3333333333333333,\"#9c179e\"],[0.4444444444444444,\"#bd3786\"],[0.5555555555555556,\"#d8576b\"],[0.6666666666666666,\"#ed7953\"],[0.7777777777777778,\"#fb9f3a\"],[0.8888888888888888,\"#fdca26\"],[1.0,\"#f0f921\"]],\"sequentialminus\":[[0.0,\"#0d0887\"],[0.1111111111111111,\"#46039f\"],[0.2222222222222222,\"#7201a8\"],[0.3333333333333333,\"#9c179e\"],[0.4444444444444444,\"#bd3786\"],[0.5555555555555556,\"#d8576b\"],[0.6666666666666666,\"#ed7953\"],[0.7777777777777778,\"#fb9f3a\"],[0.8888888888888888,\"#fdca26\"],[1.0,\"#f0f921\"]]},\"colorway\":[\"#636efa\",\"#EF553B\",\"#00cc96\",\"#ab63fa\",\"#FFA15A\",\"#19d3f3\",\"#FF6692\",\"#B6E880\",\"#FF97FF\",\"#FECB52\"],\"font\":{\"color\":\"#2a3f5f\"},\"geo\":{\"bgcolor\":\"white\",\"lakecolor\":\"white\",\"landcolor\":\"#E5ECF6\",\"showlakes\":true,\"showland\":true,\"subunitcolor\":\"white\"},\"hoverlabel\":{\"align\":\"left\"},\"hovermode\":\"closest\",\"mapbox\":{\"style\":\"light\"},\"paper_bgcolor\":\"white\",\"plot_bgcolor\":\"#E5ECF6\",\"polar\":{\"angularaxis\":{\"gridcolor\":\"white\",\"linecolor\":\"white\",\"ticks\":\"\"},\"bgcolor\":\"#E5ECF6\",\"radialaxis\":{\"gridcolor\":\"white\",\"linecolor\":\"white\",\"ticks\":\"\"}},\"scene\":{\"xaxis\":{\"backgroundcolor\":\"#E5ECF6\",\"gridcolor\":\"white\",\"gridwidth\":2,\"linecolor\":\"white\",\"showbackground\":true,\"ticks\":\"\",\"zerolinecolor\":\"white\"},\"yaxis\":{\"backgroundcolor\":\"#E5ECF6\",\"gridcolor\":\"white\",\"gridwidth\":2,\"linecolor\":\"white\",\"showbackground\":true,\"ticks\":\"\",\"zerolinecolor\":\"white\"},\"zaxis\":{\"backgroundcolor\":\"#E5ECF6\",\"gridcolor\":\"white\",\"gridwidth\":2,\"linecolor\":\"white\",\"showbackground\":true,\"ticks\":\"\",\"zerolinecolor\":\"white\"}},\"shapedefaults\":{\"line\":{\"color\":\"#2a3f5f\"}},\"ternary\":{\"aaxis\":{\"gridcolor\":\"white\",\"linecolor\":\"white\",\"ticks\":\"\"},\"baxis\":{\"gridcolor\":\"white\",\"linecolor\":\"white\",\"ticks\":\"\"},\"bgcolor\":\"#E5ECF6\",\"caxis\":{\"gridcolor\":\"white\",\"linecolor\":\"white\",\"ticks\":\"\"}},\"title\":{\"x\":0.05},\"xaxis\":{\"automargin\":true,\"gridcolor\":\"white\",\"linecolor\":\"white\",\"ticks\":\"\",\"title\":{\"standoff\":15},\"zerolinecolor\":\"white\",\"zerolinewidth\":2},\"yaxis\":{\"automargin\":true,\"gridcolor\":\"white\",\"linecolor\":\"white\",\"ticks\":\"\",\"title\":{\"standoff\":15},\"zerolinecolor\":\"white\",\"zerolinewidth\":2}}},\"geo\":{\"domain\":{\"x\":[0.0,1.0],\"y\":[0.0,1.0]},\"center\":{},\"fitbounds\":\"locations\",\"visible\":false},\"legend\":{\"title\":{\"text\":\"scientific_name\"},\"tracegroupgap\":0},\"title\":{\"text\":\"Most prevalent species in each Neighborhood\"},\"height\":700},                        {\"responsive\": true}                    ).then(function(){\n",
              "                            \n",
              "var gd = document.getElementById('69bcd3ca-8d60-4097-b65e-f754de97e994');\n",
              "var x = new MutationObserver(function (mutations, observer) {{\n",
              "        var display = window.getComputedStyle(gd).display;\n",
              "        if (!display || display === 'none') {{\n",
              "            console.log([gd, 'removed!']);\n",
              "            Plotly.purge(gd);\n",
              "            observer.disconnect();\n",
              "        }}\n",
              "}});\n",
              "\n",
              "// Listen for the removal of the full notebook cells\n",
              "var notebookContainer = gd.closest('#notebook-container');\n",
              "if (notebookContainer) {{\n",
              "    x.observe(notebookContainer, {childList: true});\n",
              "}}\n",
              "\n",
              "// Listen for the clearing of the current output cell\n",
              "var outputEl = gd.closest('.output');\n",
              "if (outputEl) {{\n",
              "    x.observe(outputEl, {childList: true});\n",
              "}}\n",
              "\n",
              "                        })                };                            </script>        </div>\n",
              "</body>\n",
              "</html>"
            ]
          },
          "metadata": {}
        }
      ]
    },
    {
      "cell_type": "markdown",
      "metadata": {
        "id": "kjy9QwizttZa"
      },
      "source": [
        "**<h3>Distribution of species across neighborhoods</h3>**\n",
        "Run the following cell and select a species from the dropdown menu and run the following cells to visualize the distribution of the selected species across the neighborhoods of Pittsburgh."
      ]
    },
    {
      "cell_type": "code",
      "metadata": {
        "colab": {
          "base_uri": "https://localhost:8080/",
          "height": 100,
          "referenced_widgets": [
            "340686b6b0394349a5d0d5465675f0b5",
            "4f7a8ad2bf0e4da1bab9c1bffad303af",
            "84a9eb3fcc024a0a961ccfc2cff6d2ac"
          ]
        },
        "id": "W8A13FoDdknL",
        "outputId": "1751c98a-f118-4a8d-e473-8353d8023309"
      },
      "source": [
        "#Run this cell\n",
        "#Select a species from the dropdown menu\n",
        "#Run the following cells\n",
        "selected_spec = widgets.Dropdown(options = sorted(df_trees.scientific_name.unique()), value=None, description='Species:')\n",
        "print(\"\\nSelect a species\\n\")\n",
        "display(selected_spec)"
      ],
      "execution_count": 50,
      "outputs": [
        {
          "output_type": "stream",
          "name": "stdout",
          "text": [
            "\n",
            "Select a species\n",
            "\n"
          ]
        },
        {
          "output_type": "display_data",
          "data": {
            "application/vnd.jupyter.widget-view+json": {
              "model_id": "340686b6b0394349a5d0d5465675f0b5",
              "version_minor": 0,
              "version_major": 2
            },
            "text/plain": [
              "Dropdown(description='Species:', options=('Abies balsamea', 'Abies concolor', 'Abies fraseri', 'Acer buergeria…"
            ]
          },
          "metadata": {}
        }
      ]
    },
    {
      "cell_type": "code",
      "metadata": {
        "colab": {
          "base_uri": "https://localhost:8080/",
          "height": 419
        },
        "id": "pE0sbjCUWZiv",
        "outputId": "f7d340b4-40bc-4fce-cabb-3f2a9722b20f"
      },
      "source": [
        "df_spec = df_trees.groupby(['scientific_name', 'neighborhood'])['id'].count()\n",
        "df_spec = df_spec.to_frame().reset_index()\n",
        "df_spec = df_spec.loc[df_spec['scientific_name'] == selected_spec.value]\n",
        "#df_spec['percent'] = ((df_spec['id']/df_spec['id'].sum()) * 100)\n",
        "df_spec = df_spec.rename(columns={\"id\": \"count\"})\n",
        "df_spec"
      ],
      "execution_count": 58,
      "outputs": [
        {
          "output_type": "execute_result",
          "data": {
            "text/html": [
              "<div>\n",
              "<style scoped>\n",
              "    .dataframe tbody tr th:only-of-type {\n",
              "        vertical-align: middle;\n",
              "    }\n",
              "\n",
              "    .dataframe tbody tr th {\n",
              "        vertical-align: top;\n",
              "    }\n",
              "\n",
              "    .dataframe thead th {\n",
              "        text-align: right;\n",
              "    }\n",
              "</style>\n",
              "<table border=\"1\" class=\"dataframe\">\n",
              "  <thead>\n",
              "    <tr style=\"text-align: right;\">\n",
              "      <th></th>\n",
              "      <th>scientific_name</th>\n",
              "      <th>neighborhood</th>\n",
              "      <th>count</th>\n",
              "    </tr>\n",
              "  </thead>\n",
              "  <tbody>\n",
              "    <tr>\n",
              "      <th>1366</th>\n",
              "      <td>Ginkgo biloba</td>\n",
              "      <td>Allegheny Center</td>\n",
              "      <td>106</td>\n",
              "    </tr>\n",
              "    <tr>\n",
              "      <th>1367</th>\n",
              "      <td>Ginkgo biloba</td>\n",
              "      <td>Allegheny West</td>\n",
              "      <td>25</td>\n",
              "    </tr>\n",
              "    <tr>\n",
              "      <th>1368</th>\n",
              "      <td>Ginkgo biloba</td>\n",
              "      <td>Allentown</td>\n",
              "      <td>4</td>\n",
              "    </tr>\n",
              "    <tr>\n",
              "      <th>1369</th>\n",
              "      <td>Ginkgo biloba</td>\n",
              "      <td>Banksville</td>\n",
              "      <td>4</td>\n",
              "    </tr>\n",
              "    <tr>\n",
              "      <th>1370</th>\n",
              "      <td>Ginkgo biloba</td>\n",
              "      <td>Beechview</td>\n",
              "      <td>6</td>\n",
              "    </tr>\n",
              "    <tr>\n",
              "      <th>...</th>\n",
              "      <td>...</td>\n",
              "      <td>...</td>\n",
              "      <td>...</td>\n",
              "    </tr>\n",
              "    <tr>\n",
              "      <th>1425</th>\n",
              "      <td>Ginkgo biloba</td>\n",
              "      <td>Terrace Village</td>\n",
              "      <td>8</td>\n",
              "    </tr>\n",
              "    <tr>\n",
              "      <th>1426</th>\n",
              "      <td>Ginkgo biloba</td>\n",
              "      <td>Troy Hill</td>\n",
              "      <td>18</td>\n",
              "    </tr>\n",
              "    <tr>\n",
              "      <th>1427</th>\n",
              "      <td>Ginkgo biloba</td>\n",
              "      <td>Upper Lawrenceville</td>\n",
              "      <td>16</td>\n",
              "    </tr>\n",
              "    <tr>\n",
              "      <th>1428</th>\n",
              "      <td>Ginkgo biloba</td>\n",
              "      <td>West End</td>\n",
              "      <td>17</td>\n",
              "    </tr>\n",
              "    <tr>\n",
              "      <th>1429</th>\n",
              "      <td>Ginkgo biloba</td>\n",
              "      <td>West Oakland</td>\n",
              "      <td>1</td>\n",
              "    </tr>\n",
              "  </tbody>\n",
              "</table>\n",
              "<p>64 rows × 3 columns</p>\n",
              "</div>"
            ],
            "text/plain": [
              "     scientific_name         neighborhood  count\n",
              "1366   Ginkgo biloba     Allegheny Center    106\n",
              "1367   Ginkgo biloba       Allegheny West     25\n",
              "1368   Ginkgo biloba            Allentown      4\n",
              "1369   Ginkgo biloba           Banksville      4\n",
              "1370   Ginkgo biloba            Beechview      6\n",
              "...              ...                  ...    ...\n",
              "1425   Ginkgo biloba      Terrace Village      8\n",
              "1426   Ginkgo biloba            Troy Hill     18\n",
              "1427   Ginkgo biloba  Upper Lawrenceville     16\n",
              "1428   Ginkgo biloba             West End     17\n",
              "1429   Ginkgo biloba         West Oakland      1\n",
              "\n",
              "[64 rows x 3 columns]"
            ]
          },
          "metadata": {},
          "execution_count": 58
        }
      ]
    },
    {
      "cell_type": "code",
      "metadata": {
        "colab": {
          "base_uri": "https://localhost:8080/",
          "height": 375
        },
        "id": "G3E1V9sRxrZP",
        "outputId": "7ae44b59-07ee-46b4-ce3b-f73f9166b504"
      },
      "source": [
        "str1 = \"Neighborhoods with the most number of \" + str(selected_spec.value) + \" trees in pittsburgh\"\n",
        "df_spec1 = df_spec.sort_values(by=['count'], ascending = False)\n",
        "df_spec1 = df_spec1.head(5)\n",
        "ax = df_spec1.plot.bar(x='neighborhood', y='count', rot='vertical', ylabel = 'Number of trees', title= str1)\n"
      ],
      "execution_count": 66,
      "outputs": [
        {
          "output_type": "display_data",
          "data": {
            "image/png": "[encoded data removed]",
            "text/plain": [
              "<Figure size 432x288 with 1 Axes>"
            ]
          },
          "metadata": {
            "needs_background": "light"
          }
        }
      ]
    },
    {
      "cell_type": "code",
      "metadata": {
        "id": "WjVI7RPlnpS7",
        "colab": {
          "base_uri": "https://localhost:8080/",
          "height": 419
        },
        "outputId": "16b077c6-6256-4b22-e93f-cd99851d99be"
      },
      "source": [
        "full_neigh = pd.DataFrame({'neighborhood' : df_trees['neighborhood'].unique()})\n",
        "full_neigh = full_neigh.rename(columns={\"id\": \"count\"})\n",
        "full_neigh = full_neigh.merge(df_spec, how = 'outer', on = ['neighborhood'])\n",
        "full_neigh['count'] = full_neigh['count'].fillna(0)\n",
        "full_neigh = full_neigh.drop('scientific_name', 1)\n",
        "full_neigh"
      ],
      "execution_count": 68,
      "outputs": [
        {
          "output_type": "execute_result",
          "data": {
            "text/html": [
              "<div>\n",
              "<style scoped>\n",
              "    .dataframe tbody tr th:only-of-type {\n",
              "        vertical-align: middle;\n",
              "    }\n",
              "\n",
              "    .dataframe tbody tr th {\n",
              "        vertical-align: top;\n",
              "    }\n",
              "\n",
              "    .dataframe thead th {\n",
              "        text-align: right;\n",
              "    }\n",
              "</style>\n",
              "<table border=\"1\" class=\"dataframe\">\n",
              "  <thead>\n",
              "    <tr style=\"text-align: right;\">\n",
              "      <th></th>\n",
              "      <th>neighborhood</th>\n",
              "      <th>count</th>\n",
              "    </tr>\n",
              "  </thead>\n",
              "  <tbody>\n",
              "    <tr>\n",
              "      <th>0</th>\n",
              "      <td>Homewood North</td>\n",
              "      <td>1.0</td>\n",
              "    </tr>\n",
              "    <tr>\n",
              "      <th>1</th>\n",
              "      <td>Oakwood</td>\n",
              "      <td>0.0</td>\n",
              "    </tr>\n",
              "    <tr>\n",
              "      <th>2</th>\n",
              "      <td>South Side Flats</td>\n",
              "      <td>38.0</td>\n",
              "    </tr>\n",
              "    <tr>\n",
              "      <th>3</th>\n",
              "      <td>East Allegheny</td>\n",
              "      <td>16.0</td>\n",
              "    </tr>\n",
              "    <tr>\n",
              "      <th>4</th>\n",
              "      <td>Highland Park</td>\n",
              "      <td>125.0</td>\n",
              "    </tr>\n",
              "    <tr>\n",
              "      <th>...</th>\n",
              "      <td>...</td>\n",
              "      <td>...</td>\n",
              "    </tr>\n",
              "    <tr>\n",
              "      <th>85</th>\n",
              "      <td>St. Clair</td>\n",
              "      <td>0.0</td>\n",
              "    </tr>\n",
              "    <tr>\n",
              "      <th>86</th>\n",
              "      <td>Mt. Oliver</td>\n",
              "      <td>0.0</td>\n",
              "    </tr>\n",
              "    <tr>\n",
              "      <th>87</th>\n",
              "      <td>Northview Heights</td>\n",
              "      <td>0.0</td>\n",
              "    </tr>\n",
              "    <tr>\n",
              "      <th>88</th>\n",
              "      <td>Glen Hazel</td>\n",
              "      <td>0.0</td>\n",
              "    </tr>\n",
              "    <tr>\n",
              "      <th>89</th>\n",
              "      <td>Hays</td>\n",
              "      <td>0.0</td>\n",
              "    </tr>\n",
              "  </tbody>\n",
              "</table>\n",
              "<p>90 rows × 2 columns</p>\n",
              "</div>"
            ],
            "text/plain": [
              "         neighborhood  count\n",
              "0      Homewood North    1.0\n",
              "1             Oakwood    0.0\n",
              "2    South Side Flats   38.0\n",
              "3      East Allegheny   16.0\n",
              "4       Highland Park  125.0\n",
              "..                ...    ...\n",
              "85          St. Clair    0.0\n",
              "86         Mt. Oliver    0.0\n",
              "87  Northview Heights    0.0\n",
              "88         Glen Hazel    0.0\n",
              "89               Hays    0.0\n",
              "\n",
              "[90 rows x 2 columns]"
            ]
          },
          "metadata": {},
          "execution_count": 68
        }
      ]
    },
    {
      "cell_type": "code",
      "metadata": {
        "colab": {
          "base_uri": "https://localhost:8080/",
          "height": 717
        },
        "id": "3r4Z5mnJgBH3",
        "outputId": "6a0397d5-3b22-4872-b57e-f65145537702"
      },
      "source": [
        "str2 = \"Distribution of \" + str(selected_spec.value) + \" across neighborhoods of Pittsburgh\"\n",
        "fig=px.choropleth(full_neigh,\n",
        "             geojson=\"https://raw.githubusercontent.com/blackmad/neighborhoods/master/gn-pittsburgh.geojson\",\n",
        "             featureidkey='properties.name',   \n",
        "             locations='neighborhood',        #column in dataframe\n",
        "             color='count',\n",
        "              color_continuous_scale= 'blues',\n",
        "               title= str2 ,  \n",
        "               height=700,\n",
        "              )\n",
        "fig.update_geos(fitbounds=\"locations\", visible=False)\n",
        "fig.layout.template = None\n",
        "fig.show()"
      ],
      "execution_count": 69,
      "outputs": [
        {
          "output_type": "display_data",
          "data": {
            "text/html": [
              "<html>\n",
              "<head><meta charset=\"utf-8\" /></head>\n",
              "<body>\n",
              "    <div>            <script src=\"https://cdnjs.cloudflare.com/ajax/libs/mathjax/2.7.5/MathJax.js?config=TeX-AMS-MML_SVG\"></script><script type=\"text/javascript\">if (window.MathJax) {MathJax.Hub.Config({SVG: {font: \"STIX-Web\"}});}</script>                <script type=\"text/javascript\">window.PlotlyConfig = {MathJaxConfig: 'local'};</script>\n",
              "        <script src=\"https://cdn.plot.ly/plotly-2.6.3.min.js\"></script>                <div id=\"719525d6-fcf5-48e8-8a28-1bc19314649f\" class=\"plotly-graph-div\" style=\"height:700px; width:100%;\"></div>            <script type=\"text/javascript\">                                    window.PLOTLYENV=window.PLOTLYENV || {};                                    if (document.getElementById(\"719525d6-fcf5-48e8-8a28-1bc19314649f\")) {                    Plotly.newPlot(                        \"719525d6-fcf5-48e8-8a28-1bc19314649f\",                        [{\"coloraxis\":\"coloraxis\",\"featureidkey\":\"properties.name\",\"geo\":\"geo\",\"geojson\":\"https://raw.githubusercontent.com/blackmad/neighborhoods/master/gn-pittsburgh.geojson\",\"hovertemplate\":\"neighborhood=%{location}<br>count=%{z}<extra></extra>\",\"locations\":[\"Homewood North\",\"Oakwood\",\"South Side Flats\",\"East Allegheny\",\"Highland Park\",\"Stanton Heights\",\"Sheraden\",\"Chartiers City\",\"Elliott\",\"Morningside\",\"Bloomfield\",\"Friendship\",\"Garfield\",\"Polish Hill\",\"Lower Lawrenceville\",\"Central Northside\",\"East Liberty\",\"Central Lawrenceville\",\"Shadyside\",\"Allegheny Center\",\"Homewood South\",\"Point Breeze North\",\"East Hills\",\"Homewood West\",\"Greenfield\",\"Hazelwood\",\"Squirrel Hill South\",\"Marshall-Shadeland\",\"Brighton Heights\",\"North Shore\",\"Overbrook\",\"Knoxville\",\"Brookline\",\"South Side Slopes\",\"Arlington\",\"Arlington Heights\",\"Carrick\",\"Bedford Dwellings\",\"Central Business District\",\"Bluff\",\"West Oakland\",\"South Oakland\",\"Squirrel Hill North\",\"Point Breeze\",\"Lincoln-Lemington-Belmar\",\"Bon Air\",\"Mount Washington\",\"California-Kirkbride\",\"New Homestead\",\"Central Oakland\",\"Crafton Heights\",\"Beechview\",\"Manchester\",\"Allentown\",\"Beltzhoover\",\"Allegheny West\",\"Chateau\",\"Duquesne Heights\",\"Perry North\",\"Perry South\",\"Middle Hill\",\"Troy Hill\",\"Terrace Village\",\"Upper Hill\",\"North Oakland\",\"Fineview\",\"Strip District\",\"Windgap\",\"Crawford-Roberts\",\"Larimer\",\"Lincoln Place\",\"Regent Square\",\"Banksville\",\"Swisshelm Park\",\"Spring Garden\",\"Spring Hill-City View\",\"Westwood\",\"Fairywood\",\"Summer Hill\",\"West End\",\"Upper Lawrenceville\",\"Ridgemont\",\"Esplen\",\"East Carnegie\",\"South Shore\",\"St. Clair\",\"Mt. Oliver\",\"Northview Heights\",\"Glen Hazel\",\"Hays\"],\"name\":\"\",\"z\":[1.0,0.0,38.0,16.0,125.0,6.0,5.0,0.0,0.0,2.0,45.0,4.0,12.0,29.0,1.0,23.0,34.0,18.0,72.0,106.0,0.0,4.0,3.0,5.0,7.0,2.0,106.0,9.0,3.0,6.0,0.0,1.0,80.0,12.0,0.0,0.0,11.0,0.0,66.0,9.0,1.0,4.0,44.0,19.0,2.0,0.0,8.0,1.0,0.0,2.0,1.0,6.0,3.0,4.0,1.0,25.0,0.0,5.0,18.0,6.0,0.0,18.0,8.0,0.0,47.0,0.0,28.0,0.0,4.0,3.0,9.0,16.0,4.0,1.0,12.0,11.0,0.0,0.0,0.0,17.0,16.0,0.0,0.0,0.0,1.0,0.0,0.0,0.0,0.0,0.0],\"type\":\"choropleth\"}],                        {\"geo\":{\"domain\":{\"x\":[0.0,1.0],\"y\":[0.0,1.0]},\"center\":{},\"fitbounds\":\"locations\",\"visible\":false},\"coloraxis\":{\"colorbar\":{\"title\":{\"text\":\"count\"}},\"colorscale\":[[0.0,\"rgb(247,251,255)\"],[0.125,\"rgb(222,235,247)\"],[0.25,\"rgb(198,219,239)\"],[0.375,\"rgb(158,202,225)\"],[0.5,\"rgb(107,174,214)\"],[0.625,\"rgb(66,146,198)\"],[0.75,\"rgb(33,113,181)\"],[0.875,\"rgb(8,81,156)\"],[1.0,\"rgb(8,48,107)\"]]},\"legend\":{\"tracegroupgap\":0},\"title\":{\"text\":\"Distribution of Ginkgo biloba across neighborhoods of Pittsburgh\"},\"height\":700},                        {\"responsive\": true}                    ).then(function(){\n",
              "                            \n",
              "var gd = document.getElementById('719525d6-fcf5-48e8-8a28-1bc19314649f');\n",
              "var x = new MutationObserver(function (mutations, observer) {{\n",
              "        var display = window.getComputedStyle(gd).display;\n",
              "        if (!display || display === 'none') {{\n",
              "            console.log([gd, 'removed!']);\n",
              "            Plotly.purge(gd);\n",
              "            observer.disconnect();\n",
              "        }}\n",
              "}});\n",
              "\n",
              "// Listen for the removal of the full notebook cells\n",
              "var notebookContainer = gd.closest('#notebook-container');\n",
              "if (notebookContainer) {{\n",
              "    x.observe(notebookContainer, {childList: true});\n",
              "}}\n",
              "\n",
              "// Listen for the clearing of the current output cell\n",
              "var outputEl = gd.closest('.output');\n",
              "if (outputEl) {{\n",
              "    x.observe(outputEl, {childList: true});\n",
              "}}\n",
              "\n",
              "                        })                };                            </script>        </div>\n",
              "</body>\n",
              "</html>"
            ]
          },
          "metadata": {}
        }
      ]
    }
  ]
}